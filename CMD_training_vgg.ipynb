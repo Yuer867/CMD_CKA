{
 "cells": [
  {
   "cell_type": "markdown",
   "metadata": {
    "id": "EHCsP9N_anrq"
   },
   "source": [
    "### Due to computational limitations from google colab, we illustrate the training and testing of a network on CMC maps using a simplify version of the benchmark codes and also using a fraction of all the data available. We note that the results obtained in this example are far from optimal and are just shown as an illustration."
   ]
  },
  {
   "cell_type": "markdown",
   "metadata": {
    "id": "D6kZv812TDL0"
   },
   "source": [
    "### Import libraries"
   ]
  },
  {
   "cell_type": "code",
   "execution_count": 1,
   "metadata": {
    "executionInfo": {
     "elapsed": 5934,
     "status": "ok",
     "timestamp": 1696445713267,
     "user": {
      "displayName": "Jingyue Huang",
      "userId": "10711135304644079745"
     },
     "user_tz": 240
    },
    "id": "Mo2BXcp0SdlU"
   },
   "outputs": [
    {
     "name": "stderr",
     "output_type": "stream",
     "text": [
      "/ext3/miniconda3/lib/python3.11/site-packages/tqdm/auto.py:21: TqdmWarning: IProgress not found. Please update jupyter and ipywidgets. See https://ipywidgets.readthedocs.io/en/stable/user_install.html\n",
      "  from .autonotebook import tqdm as notebook_tqdm\n"
     ]
    }
   ],
   "source": [
    "import numpy as np\n",
    "import torch\n",
    "import torch.nn as nn\n",
    "import torch.backends.cudnn as cudnn\n",
    "from torch.utils.data.dataset import Dataset\n",
    "from torch.utils.data import DataLoader\n",
    "import time, sys, os\n",
    "import matplotlib.pyplot as plt\n",
    "import optuna\n",
    "from sklearn.metrics import r2_score"
   ]
  },
  {
   "cell_type": "markdown",
   "metadata": {
    "id": "wK6Yg020wRA1"
   },
   "source": [
    "### The code will run on both CPUs or GPUs"
   ]
  },
  {
   "cell_type": "code",
   "execution_count": 2,
   "metadata": {
    "colab": {
     "base_uri": "https://localhost:8080/"
    },
    "executionInfo": {
     "elapsed": 183,
     "status": "ok",
     "timestamp": 1696445715256,
     "user": {
      "displayName": "Jingyue Huang",
      "userId": "10711135304644079745"
     },
     "user_tz": 240
    },
    "id": "DbjG-fAOwSAd",
    "outputId": "e48c5990-e220-48d9-b35a-c49f2cd815cb"
   },
   "outputs": [
    {
     "name": "stdout",
     "output_type": "stream",
     "text": [
      "CUDA Available\n"
     ]
    }
   ],
   "source": [
    "if torch.cuda.is_available():\n",
    "    print(\"CUDA Available\")\n",
    "    device = torch.device('cuda')\n",
    "else:\n",
    "    print('CUDA Not Available')\n",
    "    device = torch.device('cpu')\n",
    "cudnn.benchmark = True      #May train faster but cost more memory"
   ]
  },
  {
   "cell_type": "markdown",
   "metadata": {
    "id": "G4Ayvo_OAaY7"
   },
   "source": [
    "### Define the value of the parameters and hyperparameters"
   ]
  },
  {
   "cell_type": "code",
   "execution_count": 3,
   "metadata": {
    "executionInfo": {
     "elapsed": 185,
     "status": "ok",
     "timestamp": 1696445733505,
     "user": {
      "displayName": "Jingyue Huang",
      "userId": "10711135304644079745"
     },
     "user_tz": 240
    },
    "id": "aI-iV68kAitv"
   },
   "outputs": [],
   "source": [
    "# data parameters\n",
    "fmaps      = ['maps_T.npy'] #tuple containing the maps with the different fields to consider\n",
    "fmaps_norm = [None] #if you want to normalize the maps according to the properties of some data set, put that data set here (This is mostly used when training on IllustrisTNG and testing on SIMBA, or vicerversa)\n",
    "seed       = 1   #random seed to split maps among training, validation and testing\n",
    "splits     = 15   #number of maps per simulation\n",
    "\n",
    "# training parameters\n",
    "channels        = 1                #we only consider here 1 field\n",
    "params          = [0,1,2,3,4,5]    #0(Omega_m) 1(sigma_8) 2(A_SN1) 3 (A_AGN1) 4(A_SN2) 5(A_AGN2). The code will be trained to predict all these parameters.\n",
    "g               = params           #g will contain the mean of the posterior\n",
    "h               = [6+i for i in g] #h will contain the variance of the posterior\n",
    "rot_flip_in_mem = True             #whether rotations and flipings are kept in memory. True will make the code faster but consumes more RAM memory.\n",
    "\n",
    "# optimizer parameters\n",
    "beta1 = 0.5\n",
    "beta2 = 0.999\n",
    "\n",
    "# hyperparameters\n",
    "batch_size = 128\n",
    "min_lr     = 1e-9\n",
    "max_lr     = 1e-5  # default: 1e-3\n",
    "wd         = 0.0258  #value of weight decay, default: 0.0005\n",
    "dr         = 0.4     #dropout value for fully connected layers, default: 0.2\n",
    "hidden     = 11       #this determines the number of channels in the CNNs; integer larger than 1, default: 5\n",
    "epochs     = 50      #number of epochs to train the network\n",
    "\n",
    "# output files names\n",
    "floss  = 'loss.txt'   #file with the training and validation losses for each epoch\n",
    "fmodel = 'weights.pt' #file containing the weights of the best-model\n",
    "# fmodel = 'best_weights_T.pt'"
   ]
  },
  {
   "cell_type": "code",
   "execution_count": 4,
   "metadata": {},
   "outputs": [],
   "source": [
    "# TNG - 43\n",
    "\n",
    "# data\n",
    "fparams = '2D_maps/data/params_LH_IllustrisTNG.txt'\n",
    "fmaps2 = '2D_maps/data/Maps_T_IllustrisTNG_LH_z=0.00.npy'\n",
    "\n",
    "# params\n",
    "fdatabase  = 'sqlite:///2D_maps/inference/databases/IllustrisTNG_o3_T_all_steps_500_500_o3.db'\n",
    "study_name = 'wd_dr_hidden_lr_o3'\n",
    "study = optuna.load_study(study_name=study_name, storage=fdatabase)\n",
    "trial_number = 43\n",
    "trial = study.trials[trial_number]\n",
    "hidden, dr = trial.params['hidden'], trial.params['dr']\n",
    "\n",
    "# weights\n",
    "fweights = '2D_maps/inference/weights/weights_IllustrisTNG_T_43_all_steps_500_500_o3.pt'"
   ]
  },
  {
   "cell_type": "code",
   "execution_count": 16,
   "metadata": {},
   "outputs": [],
   "source": [
    "# SIMBA - 37\n",
    "\n",
    "# data\n",
    "fparams = '2D_maps/data/params_LH_SIMBA.txt'\n",
    "fmaps2 = '2D_maps/data/Maps_T_SIMBA_LH_z=0.00.npy'\n",
    "\n",
    "# params\n",
    "fdatabase  = 'sqlite:///2D_maps/inference/databases/SIMBA_o3_T_all_steps_500_500_o3.db'\n",
    "study_name = 'wd_dr_hidden_lr_o3'\n",
    "study = optuna.load_study(study_name=study_name, storage=fdatabase)\n",
    "trial_number = 37\n",
    "trial = study.trials[trial_number]\n",
    "hidden, dr = trial.params['hidden'], trial.params['dr']\n",
    "\n",
    "# weights\n",
    "fweights = '2D_maps/inference/weights/weights_SIMBA_T_37_all_steps_500_500_o3.pt'"
   ]
  },
  {
   "cell_type": "code",
   "execution_count": 5,
   "metadata": {
    "colab": {
     "base_uri": "https://localhost:8080/"
    },
    "executionInfo": {
     "elapsed": 64439,
     "status": "ok",
     "timestamp": 1696446338384,
     "user": {
      "displayName": "Jingyue Huang",
      "userId": "10711135304644079745"
     },
     "user_tz": 240
    },
    "id": "VydQS7u-ckhh",
    "outputId": "67114641-bbb7-4c63-fb00-1e91920262ca"
   },
   "outputs": [
    {
     "name": "stdout",
     "output_type": "stream",
     "text": [
      "Shape of the maps: (15000, 256, 256)\n"
     ]
    }
   ],
   "source": [
    "maps  = np.load(fmaps2)\n",
    "np.save('maps_T.npy', maps)\n",
    "print('Shape of the maps:', maps.shape)\n",
    "del maps"
   ]
  },
  {
   "cell_type": "markdown",
   "metadata": {
    "id": "OotlA8exo5Ce"
   },
   "source": [
    "### These routines define the way the data is input and fed into the network. We then read the data and get the training and validation sets"
   ]
  },
  {
   "cell_type": "code",
   "execution_count": 6,
   "metadata": {
    "colab": {
     "base_uri": "https://localhost:8080/"
    },
    "executionInfo": {
     "elapsed": 13959,
     "status": "ok",
     "timestamp": 1696446375747,
     "user": {
      "displayName": "Jingyue Huang",
      "userId": "10711135304644079745"
     },
     "user_tz": 240
    },
    "id": "-HygjyLJpFf_",
    "outputId": "2e59536e-1d98-439e-99c2-83c7fdc950a0"
   },
   "outputs": [
    {
     "name": "stdout",
     "output_type": "stream",
     "text": [
      "\n",
      "Preparing training set\n",
      "Found 1 channels\n",
      "Reading data...\n",
      "1.502e+03 < F(all|orig) < 8.669e+07\n",
      "3.177 < F(all|resc)  < 7.938\n",
      "-1.282 < F(all|norm) < 4.550\n",
      "Channel 0 contains 108000 maps\n",
      "-1.282 < F < 4.550\n",
      "\n",
      "\n",
      "Preparing validation set\n",
      "Found 1 channels\n",
      "Reading data...\n",
      "1.502e+03 < F(all|orig) < 8.669e+07\n",
      "3.177 < F(all|resc)  < 7.938\n",
      "-1.282 < F(all|norm) < 4.550\n",
      "Channel 0 contains 6000 maps\n",
      "-1.240 < F < 4.189\n",
      "\n"
     ]
    }
   ],
   "source": [
    "# This routine returns the data loader need to train the network\n",
    "def create_dataset_multifield(mode, seed, fmaps, fparams, batch_size, splits, fmaps_norm,\n",
    "                              rot_flip_in_mem=True, shuffle=True, verbose=False):\n",
    "\n",
    "    # whether rotations and flippings are kept in memory\n",
    "    if rot_flip_in_mem:\n",
    "        data_set = make_dataset_multifield(mode, seed, fmaps, fparams, splits, fmaps_norm, verbose)\n",
    "    else:\n",
    "        data_set = make_dataset_multifield2(mode, seed, fmaps, fparams, splits, fmaps_norm, verbose)\n",
    "\n",
    "    data_loader = DataLoader(dataset=data_set, batch_size=batch_size, shuffle=shuffle)\n",
    "    return data_loader\n",
    "\n",
    "\n",
    "# This class creates the dataset. Rotations and flippings are precompued and stored in memory\n",
    "class make_dataset_multifield():\n",
    "\n",
    "    def __init__(self, mode, seed, fmaps, fparams, splits, fmaps_norm, verbose):\n",
    "\n",
    "        # get the total number of sims and maps\n",
    "        params_sims = np.loadtxt(fparams) #simulations parameters, NOT maps parameters\n",
    "        total_sims, total_maps, num_params = \\\n",
    "                params_sims.shape[0], params_sims.shape[0]*splits, params_sims.shape[1]\n",
    "        params_maps = np.zeros((total_maps, num_params), dtype=np.float32)\n",
    "        for i in range(total_sims):\n",
    "            for j in range(splits):\n",
    "                params_maps[i*splits + j] = params_sims[i]\n",
    "\n",
    "        # normalize the value of the cosmological & astrophysical parameters\n",
    "        minimum     = np.array([0.1, 0.6, 0.25, 0.25, 0.5, 0.5])\n",
    "        maximum     = np.array([0.5, 1.0, 4.00, 4.00, 2.0, 2.0])\n",
    "        params_maps = (params_maps - minimum)/(maximum - minimum)\n",
    "\n",
    "        # get the size and offset depending on the type of dataset\n",
    "        if   mode=='train':  offset, size_sims = int(0.00*total_sims), int(0.90*total_sims)\n",
    "        elif mode=='valid':  offset, size_sims = int(0.90*total_sims), int(0.05*total_sims)\n",
    "        elif mode=='test':   offset, size_sims = int(0.95*total_sims), int(0.05*total_sims)\n",
    "        elif mode=='all':    offset, size_sims = int(0.00*total_sims), int(1.00*total_sims)\n",
    "        else:                raise Exception('Wrong name!')\n",
    "        size_maps = size_sims*splits\n",
    "\n",
    "        # randomly shuffle the simulations (not maps). Instead of 0 1 2 3...999 have a\n",
    "        # random permutation. E.g. 5 9 0 29...342\n",
    "        np.random.seed(seed)\n",
    "        sim_numbers = np.arange(total_sims) #shuffle sims not maps\n",
    "        np.random.shuffle(sim_numbers)\n",
    "        sim_numbers = sim_numbers[offset:offset+size_sims] #select indexes of mode\n",
    "\n",
    "        # get the corresponding indexes of the maps associated to the sims\n",
    "        indexes = np.zeros(size_maps, dtype=np.int32)\n",
    "        count = 0\n",
    "        for i in sim_numbers:\n",
    "            for j in range(splits):\n",
    "                indexes[count] = i*splits + j\n",
    "                count += 1\n",
    "\n",
    "        # keep only the value of the parameters of the considered maps\n",
    "        params_maps = params_maps[indexes]\n",
    "\n",
    "        # define the matrix containing the maps with rotations and flipings\n",
    "        channels = len(fmaps)\n",
    "        dumb     = np.load(fmaps[0])    #[number of maps, height, width]\n",
    "        height, width = dumb.shape[1], dumb.shape[2];  del dumb\n",
    "        data     = np.zeros((size_maps*8, channels, height, width), dtype=np.float32)\n",
    "        params   = np.zeros((size_maps*8, num_params),              dtype=np.float32)\n",
    "\n",
    "        # read the data\n",
    "        print('Found %d channels\\nReading data...'%channels)\n",
    "        for channel, (fim, fnorm) in enumerate(zip(fmaps, fmaps_norm)):\n",
    "\n",
    "            # read maps in the considered channel\n",
    "            data_c = np.load(fim)\n",
    "            if data_c.shape[0]!=total_maps:  raise Exception('sizes do not match')\n",
    "            if verbose:  print('%.3e < F(all|orig) < %.3e'%(np.min(data_c), np.max(data_c)))\n",
    "\n",
    "            # rescale maps\n",
    "            if fim.find('Mstar')!=-1:  data_c = np.log10(data_c + 1.0)\n",
    "            else:                      data_c = np.log10(data_c)\n",
    "            if verbose:  print('%.3f < F(all|resc)  < %.3f'%(np.min(data_c), np.max(data_c)))\n",
    "\n",
    "            # normalize maps\n",
    "            if fnorm is None:\n",
    "                mean,    std     = np.mean(data_c), np.std(data_c)\n",
    "            else:\n",
    "                # read data\n",
    "                data_norm = np.load(fnorm)\n",
    "\n",
    "                # rescale\n",
    "                if fnorm.find('Mstar')!=-1:  data_norm = np.log10(data_norm + 1.0)\n",
    "                else:                        data_norm = np.log10(data_norm)\n",
    "\n",
    "                # compute mean and std\n",
    "                mean,    std     = np.mean(data_norm), np.std(data_norm)\n",
    "                del data_norm\n",
    "\n",
    "            data_c = (data_c - mean)/std\n",
    "            if verbose:  print('%.3f < F(all|norm) < %.3f'%(np.min(data_c), np.max(data_c)))\n",
    "\n",
    "            # keep only the data of the chosen set\n",
    "            data_c = data_c[indexes]\n",
    "\n",
    "            # do a loop over all rotations (each is 90 deg)\n",
    "            counted_maps = 0\n",
    "            for rot in [0,1,2,3]:\n",
    "                data_rot = np.rot90(data_c, k=rot, axes=(1,2))\n",
    "\n",
    "                data[counted_maps:counted_maps+size_maps,channel,:,:] = data_rot\n",
    "                params[counted_maps:counted_maps+size_maps]           = params_maps\n",
    "                counted_maps += size_maps\n",
    "\n",
    "                data[counted_maps:counted_maps+size_maps,channel,:,:] = \\\n",
    "                                                    np.flip(data_rot, axis=1)\n",
    "                params[counted_maps:counted_maps+size_maps]           = params_maps\n",
    "                counted_maps += size_maps\n",
    "\n",
    "            if verbose:\n",
    "                print('Channel %d contains %d maps'%(channel,counted_maps))\n",
    "                print('%.3f < F < %.3f\\n'%(np.min(data_c), np.max(data_c)))\n",
    "\n",
    "        self.size = data.shape[0]\n",
    "        self.x    = torch.tensor(data,   dtype=torch.float32)\n",
    "        self.y    = torch.tensor(params, dtype=torch.float32)\n",
    "        del data, data_c\n",
    "\n",
    "    def __len__(self):\n",
    "        return self.size\n",
    "\n",
    "    def __getitem__(self, idx):\n",
    "        return self.x[idx], self.y[idx]\n",
    "\n",
    "# This class creates the dataset. It will read the maps and store them in memory.\n",
    "# The rotations and flipings are done when calling the data\n",
    "class make_dataset_multifield2():\n",
    "\n",
    "    def __init__(self, mode, seed, fmaps, fparams, splits, fmaps_norm, verbose):\n",
    "\n",
    "        # get the total number of simulations and maps\n",
    "        params_sims = np.loadtxt(fparams) #simulations parameters, NOT maps parameters\n",
    "        total_sims, total_maps, num_params = \\\n",
    "                params_sims.shape[0], params_sims.shape[0]*splits, params_sims.shape[1]\n",
    "        params = np.zeros((total_maps, num_params), dtype=np.float32)\n",
    "        for i in range(total_sims):\n",
    "            for j in range(splits):\n",
    "                params[i*splits + j] = params_sims[i]\n",
    "\n",
    "        # normalize params\n",
    "        minimum = np.array([0.1, 0.6, 0.25, 0.25, 0.5, 0.5])\n",
    "        maximum = np.array([0.5, 1.0, 4.00, 4.00, 2.0, 2.0])\n",
    "        params  = (params - minimum)/(maximum - minimum)\n",
    "\n",
    "        # get the size and offset depending on the type of dataset\n",
    "        if   mode=='train':  offset, size_sims = int(0.00*total_sims), int(0.90*total_sims)\n",
    "        elif mode=='valid':  offset, size_sims = int(0.90*total_sims), int(0.05*total_sims)\n",
    "        elif mode=='test':   offset, size_sims = int(0.95*total_sims), int(0.05*total_sims)\n",
    "        elif mode=='all':    offset, size_sims = int(0.00*total_sims), int(1.00*total_sims)\n",
    "        else:                raise Exception('Wrong name!')\n",
    "        size_maps = size_sims*splits\n",
    "\n",
    "        # randomly shuffle the simulations (not maps). Instead of 0 1 2 3...999 have a\n",
    "        # random permutation. E.g. 5 9 0 29...342\n",
    "        np.random.seed(seed)\n",
    "        sim_numbers = np.arange(total_sims) #shuffle maps not rotations\n",
    "        np.random.shuffle(sim_numbers)\n",
    "        sim_numbers = sim_numbers[offset:offset+size_sims] #select indexes of mode\n",
    "\n",
    "        # get the corresponding indexes of the maps associated to the sims\n",
    "        indexes = np.zeros(size_maps, dtype=np.int32)\n",
    "        count = 0\n",
    "        for i in sim_numbers:\n",
    "            for j in range(splits):\n",
    "                indexes[count] = i*splits + j\n",
    "                count += 1\n",
    "\n",
    "        # keep only the value of the parameters of the considered maps\n",
    "        params = params[indexes]\n",
    "\n",
    "        # define the matrix containing the maps without rotations or flippings\n",
    "        channels = len(fmaps)\n",
    "        dumb     = np.load(fmaps[0])    #[number of maps, height, width]\n",
    "        height, width = dumb.shape[1], dumb.shape[2];  del dumb\n",
    "        data     = np.zeros((size_maps, channels, height, width), dtype=np.float32)\n",
    "\n",
    "        # read the data\n",
    "        print('Found %d channels\\nReading data...'%channels)\n",
    "        for channel, (fim, fnorm) in enumerate(zip(fmaps, fmaps_norm)):\n",
    "\n",
    "            # read maps in the considered channel\n",
    "            data_c = np.load(fim)\n",
    "            if data_c.shape[0]!=total_maps:  raise Exception('sizes do not match')\n",
    "            if verbose:\n",
    "                print('%.3e < F(all|orig) < %.3e'%(np.min(data_c), np.max(data_c)))\n",
    "\n",
    "            # rescale maps\n",
    "            if fim.find('Mstar')!=-1:  data_c = np.log10(data_c + 1.0)\n",
    "            else:                      data_c = np.log10(data_c)\n",
    "            if verbose:\n",
    "                print('%.3f < F(all|resc)  < %.3f'%(np.min(data_c), np.max(data_c)))\n",
    "\n",
    "            # normalize maps\n",
    "            if fnorm is None:\n",
    "                mean,    std     = np.mean(data_c), np.std(data_c)\n",
    "                minimum, maximum = np.min(data_c),  np.max(data_c)\n",
    "            else:\n",
    "                # read data\n",
    "                data_norm     = np.load(fnorm)\n",
    "\n",
    "                # rescale data\n",
    "                if fnorm.find('Mstar')!=-1:  data_norm = np.log10(data_norm + 1.0)\n",
    "                else:                        data_norm = np.log10(data_norm)\n",
    "\n",
    "                # compute mean and std\n",
    "                mean,    std     = np.mean(data_norm), np.std(data_norm)\n",
    "                minimum, maximum = np.min(data_norm),  np.max(data_norm)\n",
    "                del data_norm\n",
    "\n",
    "            data_c = (data_c - mean)/std\n",
    "            if verbose:  print('%.3f < F(all|norm) < %.3f'%(np.min(data_c), np.max(data_c)))\n",
    "\n",
    "            # keep only the data of the chosen set\n",
    "            data[:,channel,:,:] = data_c[indexes]\n",
    "\n",
    "        self.size = data.shape[0]\n",
    "        self.x    = torch.tensor(data,   dtype=torch.float32)\n",
    "        self.y    = torch.tensor(params, dtype=torch.float32)\n",
    "        del data, data_c\n",
    "\n",
    "    def __len__(self):\n",
    "        return self.size\n",
    "\n",
    "    def __getitem__(self, idx):\n",
    "\n",
    "        # choose a rotation angle (0-0, 1-90, 2-180, 3-270)\n",
    "        # and whether do flipping or not\n",
    "        rot  = np.random.randint(0,4)\n",
    "        flip = np.random.randint(0,1)\n",
    "\n",
    "        # rotate and flip the maps\n",
    "        maps = torch.rot90(self.x[idx], k=rot, dims=[1,2])\n",
    "        if flip==1:  maps = torch.flip(maps, dims=[1])\n",
    "\n",
    "        return maps, self.y[idx]\n",
    "\n",
    "# get training set\n",
    "print('\\nPreparing training set')\n",
    "train_loader = create_dataset_multifield('train', seed, fmaps, fparams, batch_size, splits, fmaps_norm,\n",
    "                                         rot_flip_in_mem=rot_flip_in_mem, verbose=True)\n",
    "\n",
    "# get validation set\n",
    "print('\\nPreparing validation set')\n",
    "valid_loader = create_dataset_multifield('valid', seed, fmaps, fparams, batch_size, splits, fmaps_norm,\n",
    "                                         rot_flip_in_mem=True,  verbose=True)"
   ]
  },
  {
   "cell_type": "markdown",
   "metadata": {
    "id": "XYUJMjyChT1t"
   },
   "source": [
    "### Define the model architecture and use it."
   ]
  },
  {
   "cell_type": "code",
   "execution_count": 7,
   "metadata": {},
   "outputs": [
    {
     "name": "stderr",
     "output_type": "stream",
     "text": [
      "Using cache found in /home/ys3344/.cache/torch/hub/pytorch_vision_v0.10.0\n",
      "Downloading: \"https://download.pytorch.org/models/vgg13-19584684.pth\" to /home/ys3344/.cache/torch/hub/checkpoints/vgg13-19584684.pth\n",
      "100%|██████████| 508M/508M [00:17<00:00, 30.1MB/s] \n"
     ]
    },
    {
     "data": {
      "text/plain": [
       "VGG(\n",
       "  (features): Sequential(\n",
       "    (0): Conv2d(3, 64, kernel_size=(3, 3), stride=(1, 1), padding=(1, 1))\n",
       "    (1): ReLU(inplace=True)\n",
       "    (2): Conv2d(64, 64, kernel_size=(3, 3), stride=(1, 1), padding=(1, 1))\n",
       "    (3): ReLU(inplace=True)\n",
       "    (4): MaxPool2d(kernel_size=2, stride=2, padding=0, dilation=1, ceil_mode=False)\n",
       "    (5): Conv2d(64, 128, kernel_size=(3, 3), stride=(1, 1), padding=(1, 1))\n",
       "    (6): ReLU(inplace=True)\n",
       "    (7): Conv2d(128, 128, kernel_size=(3, 3), stride=(1, 1), padding=(1, 1))\n",
       "    (8): ReLU(inplace=True)\n",
       "    (9): MaxPool2d(kernel_size=2, stride=2, padding=0, dilation=1, ceil_mode=False)\n",
       "    (10): Conv2d(128, 256, kernel_size=(3, 3), stride=(1, 1), padding=(1, 1))\n",
       "    (11): ReLU(inplace=True)\n",
       "    (12): Conv2d(256, 256, kernel_size=(3, 3), stride=(1, 1), padding=(1, 1))\n",
       "    (13): ReLU(inplace=True)\n",
       "    (14): MaxPool2d(kernel_size=2, stride=2, padding=0, dilation=1, ceil_mode=False)\n",
       "    (15): Conv2d(256, 512, kernel_size=(3, 3), stride=(1, 1), padding=(1, 1))\n",
       "    (16): ReLU(inplace=True)\n",
       "    (17): Conv2d(512, 512, kernel_size=(3, 3), stride=(1, 1), padding=(1, 1))\n",
       "    (18): ReLU(inplace=True)\n",
       "    (19): MaxPool2d(kernel_size=2, stride=2, padding=0, dilation=1, ceil_mode=False)\n",
       "    (20): Conv2d(512, 512, kernel_size=(3, 3), stride=(1, 1), padding=(1, 1))\n",
       "    (21): ReLU(inplace=True)\n",
       "    (22): Conv2d(512, 512, kernel_size=(3, 3), stride=(1, 1), padding=(1, 1))\n",
       "    (23): ReLU(inplace=True)\n",
       "    (24): MaxPool2d(kernel_size=2, stride=2, padding=0, dilation=1, ceil_mode=False)\n",
       "  )\n",
       "  (avgpool): AdaptiveAvgPool2d(output_size=(7, 7))\n",
       "  (classifier): Sequential(\n",
       "    (0): Linear(in_features=25088, out_features=4096, bias=True)\n",
       "    (1): ReLU(inplace=True)\n",
       "    (2): Dropout(p=0.5, inplace=False)\n",
       "    (3): Linear(in_features=4096, out_features=4096, bias=True)\n",
       "    (4): ReLU(inplace=True)\n",
       "    (5): Dropout(p=0.5, inplace=False)\n",
       "    (6): Linear(in_features=4096, out_features=12, bias=True)\n",
       "  )\n",
       ")"
      ]
     },
     "execution_count": 7,
     "metadata": {},
     "output_type": "execute_result"
    }
   ],
   "source": [
    "model = torch.hub.load('pytorch/vision:v0.10.0', 'vgg13', pretrained=True)\n",
    "num_classes = 12\n",
    "model.classifier[6] = nn.Linear(4096, num_classes)\n",
    "model.to(device=device)"
   ]
  },
  {
   "cell_type": "code",
   "execution_count": 27,
   "metadata": {},
   "outputs": [
    {
     "name": "stdout",
     "output_type": "stream",
     "text": [
      "total number of parameters in the model = 157360204\n"
     ]
    }
   ],
   "source": [
    "# class VGG16(nn.Module):\n",
    "#     def __init__(self, num_classes=12):\n",
    "#         super(VGG16, self).__init__()\n",
    "    \n",
    "#         self.C1 = nn.Conv2d(3, 64, kernel_size=3, stride=1, padding=1)\n",
    "#         self.B1 = nn.BatchNorm2d(64)\n",
    "#         self.C2 = nn.Conv2d(64, 64, kernel_size=3, stride=1, padding=1)\n",
    "#         self.B2 = nn.BatchNorm2d(64)\n",
    "#         self.C3 = nn.Conv2d(64, 128, kernel_size=3, stride=1, padding=1)\n",
    "#         self.B3 = nn.BatchNorm2d(128)\n",
    "#         self.C4 = nn.Conv2d(128, 128, kernel_size=3, stride=1, padding=1)\n",
    "#         self.B4 = nn.BatchNorm2d(128)\n",
    "#         self.C5 = nn.Conv2d(128, 256, kernel_size=3, stride=1, padding=1)\n",
    "#         self.B5 = nn.BatchNorm2d(256)\n",
    "#         self.C6 = nn.Conv2d(256, 256, kernel_size=3, stride=1, padding=1)\n",
    "#         self.B6 = nn.BatchNorm2d(256)\n",
    "#         self.C7 = nn.Conv2d(256, 256, kernel_size=3, stride=1, padding=1)\n",
    "#         self.B7 = nn.BatchNorm2d(256)\n",
    "#         self.C8 = nn.Conv2d(256, 512, kernel_size=3, stride=1, padding=1)\n",
    "#         self.B8 = nn.BatchNorm2d(512)\n",
    "#         self.C9 = nn.Conv2d(512, 512, kernel_size=3, stride=1, padding=1)\n",
    "#         self.B9 = nn.BatchNorm2d(512)\n",
    "#         self.C10 = nn.Conv2d(512, 512, kernel_size=3, stride=1, padding=1)\n",
    "#         self.B10 = nn.BatchNorm2d(512)\n",
    "#         self.C11 = nn.Conv2d(512, 512, kernel_size=3, stride=1, padding=1)\n",
    "#         self.B11 = nn.BatchNorm2d(512)\n",
    "#         self.C12 = nn.Conv2d(512, 512, kernel_size=3, stride=1, padding=1)\n",
    "#         self.B12 = nn.BatchNorm2d(512)\n",
    "#         self.C13 = nn.Conv2d(512, 512, kernel_size=3, stride=1, padding=1)\n",
    "#         self.B13 = nn.BatchNorm2d(512)\n",
    "\n",
    "#         self.FC1 = nn.Linear(8*8*512, 4096)\n",
    "#         self.FC2 = nn.Linear(4096, 2048)\n",
    "#         self.FC3 = nn.Linear(2048, num_classes)\n",
    "\n",
    "#         self.dropout = nn.Dropout(0.5)\n",
    "#         self.P = nn.MaxPool2d(kernel_size = 2, stride = 2)\n",
    "#         self.ReLU = nn.ReLU()\n",
    "        \n",
    "#     def forward(self, x):\n",
    "#         out = self.ReLU(self.B1(self.C1(x)))\n",
    "#         out = self.P(self.ReLU(self.B2(self.C2(out))))\n",
    "#         out = self.ReLU(self.B3(self.C3(out)))\n",
    "#         out = self.P(self.ReLU(self.B4(self.C4(out))))\n",
    "#         out = self.ReLU(self.B5(self.C5(out)))\n",
    "#         out = self.ReLU(self.B6(self.C6(out)))\n",
    "#         out = self.P(self.ReLU(self.B7(self.C7(out))))\n",
    "#         out = self.ReLU(self.B8(self.C8(out)))\n",
    "#         out = self.ReLU(self.B9(self.C9(out)))\n",
    "#         out = self.P(self.ReLU(self.B10(self.C10(out))))\n",
    "#         out = self.ReLU(self.B11(self.C11(out)))\n",
    "#         out = self.ReLU(self.B12(self.C12(out)))\n",
    "#         out = self.P(self.ReLU(self.B13(self.C13(out))))\n",
    "#         out = out.reshape(out.size(0), -1)\n",
    "#         out = self.ReLU(self.FC1(self.dropout(out)))\n",
    "#         out = self.ReLU(self.FC2(self.dropout(out)))\n",
    "#         out = self.FC3(out)\n",
    "        \n",
    "#         y = torch.clone(out)\n",
    "#         y[:,6:12] = torch.square(out[:,6:12])\n",
    "\n",
    "#         return y\n",
    "\n",
    "# model = VGG16()\n",
    "# model = nn.DataParallel(model)\n",
    "# model.to(device=device)\n",
    "# network_total_params = sum(p.numel() for p in model.parameters())\n",
    "# print('total number of parameters in the model = %d'%network_total_params)"
   ]
  },
  {
   "cell_type": "code",
   "execution_count": null,
   "metadata": {},
   "outputs": [],
   "source": [
    "# class VGG19(nn.Module):\n",
    "#     def __init__(self, num_classes=12):\n",
    "#         super(VGG16, self).__init__()\n",
    "    \n",
    "#         self.C1 = nn.Conv2d(3, 64, kernel_size=3, stride=1, padding=1)\n",
    "#         self.B1 = nn.BatchNorm2d(64)\n",
    "#         self.C2 = nn.Conv2d(64, 64, kernel_size=3, stride=1, padding=1),\n",
    "#         self.B2 = nn.BatchNorm2d(64)\n",
    "#         self.C3 = nn.Conv2d(64, 128, kernel_size=3, stride=1, padding=1)\n",
    "#         self.B3 = nn.BatchNorm2d(128)\n",
    "#         self.C4 = nn.Conv2d(128, 128, kernel_size=3, stride=1, padding=1)\n",
    "#         self.B4 = nn.BatchNorm2d(128)\n",
    "#         self.C5 = nn.Conv2d(128, 256, kernel_size=3, stride=1, padding=1)\n",
    "#         self.B5 = nn.BatchNorm2d(256)\n",
    "#         self.C6 = nn.Conv2d(256, 256, kernel_size=3, stride=1, padding=1)\n",
    "#         self.B6 = nn.BatchNorm2d(256)\n",
    "#         self.C7 = nn.Conv2d(256, 256, kernel_size=3, stride=1, padding=1)\n",
    "#         self.B7 = nn.BatchNorm2d(256)\n",
    "#         self.C8 = nn.Conv2d(256, 256, kernel_size=3, stride=1, padding=1)\n",
    "#         self.B8 = nn.BatchNorm2d(256)\n",
    "#         self.C9 = nn.Conv2d(256, 512, kernel_size=3, stride=1, padding=1)\n",
    "#         self.B9 = nn.BatchNorm2d(512)\n",
    "#         self.C10 = nn.Conv2d(512, 512, kernel_size=3, stride=1, padding=1)\n",
    "#         self.B10 = nn.BatchNorm2d(512)\n",
    "#         self.C11 = nn.Conv2d(512, 512, kernel_size=3, stride=1, padding=1)\n",
    "#         self.B11 = nn.BatchNorm2d(512)\n",
    "#         self.C12 = nn.Conv2d(512, 512, kernel_size=3, stride=1, padding=1)\n",
    "#         self.B12 = nn.BatchNorm2d(512)\n",
    "#         self.C13 = nn.Conv2d(512, 512, kernel_size=3, stride=1, padding=1)\n",
    "#         self.B13 = nn.BatchNorm2d(512)\n",
    "#         self.C14 = nn.Conv2d(512, 512, kernel_size=3, stride=1, padding=1)\n",
    "#         self.B14 = nn.BatchNorm2d(512)\n",
    "#         self.C15 = nn.Conv2d(512, 512, kernel_size=3, stride=1, padding=1)\n",
    "#         self.B15 = nn.BatchNorm2d(512)\n",
    "#         self.C16 = nn.Conv2d(512, 512, kernel_size=3, stride=1, padding=1)\n",
    "#         self.B16 = nn.BatchNorm2d(512)\n",
    "\n",
    "#         self.FC1 = nn.Linear(7*7*512, 4096, bias=True)\n",
    "#         self.FC2 = nn.Linear(4096, 4096, bias=True)\n",
    "#         self.FC3 = nn.Linear(4096, num_classes, bias=True)\n",
    "\n",
    "#         self.dropout = nn.Dropout(0.5, inplace=False)\n",
    "#         self.P = nn.MaxPool2d(kernel_size=2, stride=2, padding=0, dilation=1, ceil_mode=False)\n",
    "#         self.ReLU = nn.ReLU(inplace=True)\n",
    "        \n",
    "#     def forward(self, x):\n",
    "#         out = self.ReLU(self.B1(self.C1(x)))\n",
    "#         out = self.P(self.ReLU(self.B2(self.C2(out))))\n",
    "#         out = self.ReLU(self.B3(self.C3(out)))\n",
    "#         out = self.P(self.ReLU(self.B4(self.C4(out))))\n",
    "#         out = self.ReLU(self.B5(self.C5(out)))\n",
    "#         out = self.ReLU(self.B6(self.C6(out)))\n",
    "#         out = self.ReLU(self.B7(self.C7(out)))\n",
    "#         out = self.P(self.ReLU(self.B8(self.C8(out))))\n",
    "#         out = self.ReLU(self.B9(self.C9(out)))\n",
    "#         out = self.ReLU(self.B10(self.C10(out)))\n",
    "#         out = self.ReLU(self.B11(self.C11(out)))\n",
    "#         out = self.P(self.ReLU(self.B12(self.C12(out))))\n",
    "#         out = self.ReLU(self.B13(self.C13(out)))\n",
    "#         out = self.ReLU(self.B14(self.C14(out)))\n",
    "#         out = self.ReLU(self.B15(self.C15(out)))\n",
    "#         out = self.P(self.ReLU(self.B16(self.C16(out))))\n",
    "#         out = out.reshape(out.size(0), -1)\n",
    "#         out = self.dropout(self.ReLU(self.FC1(out)))\n",
    "#         out = self.dropout(self.ReLU(self.FC2(out)))\n",
    "#         out = self.FC3(out)\n",
    "#         return out\n",
    "\n",
    "# model = VGG19()\n",
    "# model = nn.DataParallel(model)\n",
    "# model.to(device=device)\n",
    "# network_total_params = sum(p.numel() for p in model.parameters())\n",
    "# print('total number of parameters in the model = %d'%network_total_params)"
   ]
  },
  {
   "cell_type": "markdown",
   "metadata": {
    "id": "l7Wi-PCRh216"
   },
   "source": [
    "### Define the optimizer & scheduler"
   ]
  },
  {
   "cell_type": "code",
   "execution_count": 8,
   "metadata": {},
   "outputs": [],
   "source": [
    "optimizer = torch.optim.AdamW(model.parameters(), lr=max_lr, weight_decay=wd, betas=(beta1, beta2))\n",
    "scheduler = torch.optim.lr_scheduler.ReduceLROnPlateau(optimizer, 'min', factor=0.3, patience=10)\n",
    "\n",
    "# optimizer = torch.optim.AdamW(model.parameters(), lr=max_lr, weight_decay=wd, betas=(beta1, beta2))\n",
    "# scheduler = torch.optim.lr_scheduler.CyclicLR(optimizer, base_lr=min_lr, max_lr=max_lr, \n",
    "#                                               cycle_momentum=False, step_size_up=500, step_size_down=500)"
   ]
  },
  {
   "cell_type": "markdown",
   "metadata": {
    "id": "dMbGzDy3iLsM"
   },
   "source": [
    "### compute the initial validation loss"
   ]
  },
  {
   "cell_type": "code",
   "execution_count": 9,
   "metadata": {
    "colab": {
     "base_uri": "https://localhost:8080/"
    },
    "executionInfo": {
     "elapsed": 2670,
     "status": "ok",
     "timestamp": 1696446577192,
     "user": {
      "displayName": "Jingyue Huang",
      "userId": "10711135304644079745"
     },
     "user_tz": 240
    },
    "id": "p0e_mxP2iSqi",
    "outputId": "d0a11e20-9d63-4752-cca4-79074edd71dd"
   },
   "outputs": [
    {
     "name": "stdout",
     "output_type": "stream",
     "text": [
      "Computing initial validation loss\n",
      "Initial valid loss = -4.342e+00\n"
     ]
    }
   ],
   "source": [
    "print('Computing initial validation loss')\n",
    "model.eval()\n",
    "valid_loss1, valid_loss2 = torch.zeros(len(g)).to(device), torch.zeros(len(g)).to(device)\n",
    "min_valid_loss, points = 0.0, 0\n",
    "for x, y in valid_loader:\n",
    "    with torch.no_grad():\n",
    "        bs   = x.shape[0]                #batch size\n",
    "        x    = x.to(device=device)       #maps\n",
    "        x    = x.repeat(1, 3, 1, 1)\n",
    "        y    = y.to(device=device)[:,g]  #parameters\n",
    "        p    = model(x)                  #NN output\n",
    "        y_NN = p[:,g]                    #posterior mean\n",
    "        e_NN = p[:,h]                    #posterior std\n",
    "        loss1 = torch.mean((y_NN - y)**2,                axis=0)\n",
    "        loss2 = torch.mean(((y_NN - y)**2 - e_NN**2)**2, axis=0)\n",
    "        loss  = torch.mean(torch.log(loss1) + torch.log(loss2))\n",
    "        valid_loss1 += loss1*bs\n",
    "        valid_loss2 += loss2*bs\n",
    "        points += bs\n",
    "min_valid_loss = torch.log(valid_loss1/points) + torch.log(valid_loss2/points)\n",
    "min_valid_loss = torch.mean(min_valid_loss).item()\n",
    "print('Initial valid loss = %.3e'%min_valid_loss)"
   ]
  },
  {
   "cell_type": "markdown",
   "metadata": {
    "id": "v8fsoPC4iw6v"
   },
   "source": [
    "### Now do a loop over all epochs while training and validating"
   ]
  },
  {
   "cell_type": "code",
   "execution_count": 10,
   "metadata": {
    "colab": {
     "base_uri": "https://localhost:8080/"
    },
    "executionInfo": {
     "elapsed": 2438421,
     "status": "ok",
     "timestamp": 1696449018296,
     "user": {
      "displayName": "Jingyue Huang",
      "userId": "10711135304644079745"
     },
     "user_tz": 240
    },
    "id": "Sy90PmxSxf9e",
    "outputId": "f76f1f0e-013f-418d-aead-1f02cad6d9a8"
   },
   "outputs": [
    {
     "name": "stderr",
     "output_type": "stream",
     "text": [
      "\r\n",
      "  0%|          | 0/50 [00:00<?, ?it/s]"
     ]
    },
    {
     "name": "stdout",
     "output_type": "stream",
     "text": [
      "000 -8.324e+00 -1.025e+01 "
     ]
    },
    {
     "name": "stderr",
     "output_type": "stream",
     "text": [
      "\r\n",
      "  2%|▏         | 1/50 [12:21<10:05:50, 741.85s/it]"
     ]
    },
    {
     "name": "stdout",
     "output_type": "stream",
     "text": [
      "(C) \n",
      "001 -1.025e+01 -1.044e+01 "
     ]
    },
    {
     "name": "stderr",
     "output_type": "stream",
     "text": [
      "\r\n",
      "  4%|▍         | 2/50 [23:58<9:32:15, 715.32s/it] "
     ]
    },
    {
     "name": "stdout",
     "output_type": "stream",
     "text": [
      "(C) \n",
      "002 -1.082e+01 -1.107e+01 "
     ]
    },
    {
     "name": "stderr",
     "output_type": "stream",
     "text": [
      "\r\n",
      "  6%|▌         | 3/50 [35:34<9:13:26, 706.52s/it]"
     ]
    },
    {
     "name": "stdout",
     "output_type": "stream",
     "text": [
      "(C) \n",
      "003 -1.123e+01 -1.110e+01 "
     ]
    },
    {
     "name": "stderr",
     "output_type": "stream",
     "text": [
      "\r\n",
      "  8%|▊         | 4/50 [47:10<8:58:30, 702.40s/it]"
     ]
    },
    {
     "name": "stdout",
     "output_type": "stream",
     "text": [
      "(C) \n"
     ]
    },
    {
     "name": "stderr",
     "output_type": "stream",
     "text": [
      "\r\n",
      " 10%|█         | 5/50 [58:46<8:45:01, 700.03s/it]"
     ]
    },
    {
     "name": "stdout",
     "output_type": "stream",
     "text": [
      "004 -1.155e+01 -1.109e+01 \n",
      "005 -1.182e+01 -1.132e+01 "
     ]
    },
    {
     "name": "stderr",
     "output_type": "stream",
     "text": [
      "\r\n",
      " 12%|█▏        | 6/50 [1:10:22<8:32:27, 698.80s/it]"
     ]
    },
    {
     "name": "stdout",
     "output_type": "stream",
     "text": [
      "(C) \n"
     ]
    },
    {
     "name": "stderr",
     "output_type": "stream",
     "text": [
      "\r\n",
      " 14%|█▍        | 7/50 [1:21:58<8:20:02, 697.72s/it]"
     ]
    },
    {
     "name": "stdout",
     "output_type": "stream",
     "text": [
      "006 -1.209e+01 -1.128e+01 \n"
     ]
    },
    {
     "name": "stderr",
     "output_type": "stream",
     "text": [
      "\r\n",
      " 16%|█▌        | 8/50 [1:33:33<8:07:50, 696.91s/it]"
     ]
    },
    {
     "name": "stdout",
     "output_type": "stream",
     "text": [
      "007 -1.232e+01 -1.120e+01 \n"
     ]
    },
    {
     "name": "stderr",
     "output_type": "stream",
     "text": [
      "\r\n",
      " 18%|█▊        | 9/50 [1:45:09<7:55:56, 696.51s/it]"
     ]
    },
    {
     "name": "stdout",
     "output_type": "stream",
     "text": [
      "008 -1.255e+01 -1.126e+01 \n",
      "009 -1.277e+01 -1.138e+01 "
     ]
    },
    {
     "name": "stderr",
     "output_type": "stream",
     "text": [
      "\r\n",
      " 20%|██        | 10/50 [1:56:45<7:44:14, 696.35s/it]"
     ]
    },
    {
     "name": "stdout",
     "output_type": "stream",
     "text": [
      "(C) \n"
     ]
    },
    {
     "name": "stderr",
     "output_type": "stream",
     "text": [
      "\r\n",
      " 22%|██▏       | 11/50 [2:08:21<7:32:32, 696.22s/it]"
     ]
    },
    {
     "name": "stdout",
     "output_type": "stream",
     "text": [
      "010 -1.298e+01 -1.128e+01 \n"
     ]
    },
    {
     "name": "stderr",
     "output_type": "stream",
     "text": [
      "\r\n",
      " 24%|██▍       | 12/50 [2:19:57<7:20:55, 696.21s/it]"
     ]
    },
    {
     "name": "stdout",
     "output_type": "stream",
     "text": [
      "011 -1.318e+01 -1.126e+01 \n"
     ]
    },
    {
     "name": "stderr",
     "output_type": "stream",
     "text": [
      "\r\n",
      " 26%|██▌       | 13/50 [2:31:33<7:09:13, 696.03s/it]"
     ]
    },
    {
     "name": "stdout",
     "output_type": "stream",
     "text": [
      "012 -1.336e+01 -1.114e+01 \n"
     ]
    },
    {
     "name": "stderr",
     "output_type": "stream",
     "text": [
      "\r\n",
      " 28%|██▊       | 14/50 [2:43:08<6:57:32, 695.92s/it]"
     ]
    },
    {
     "name": "stdout",
     "output_type": "stream",
     "text": [
      "013 -1.355e+01 -1.137e+01 \n"
     ]
    },
    {
     "name": "stderr",
     "output_type": "stream",
     "text": [
      "\r\n",
      " 30%|███       | 15/50 [2:54:44<6:45:56, 695.89s/it]"
     ]
    },
    {
     "name": "stdout",
     "output_type": "stream",
     "text": [
      "014 -1.374e+01 -1.125e+01 \n"
     ]
    },
    {
     "name": "stderr",
     "output_type": "stream",
     "text": [
      "\r\n",
      " 32%|███▏      | 16/50 [3:06:19<6:34:15, 695.76s/it]"
     ]
    },
    {
     "name": "stdout",
     "output_type": "stream",
     "text": [
      "015 -1.391e+01 -1.128e+01 \n"
     ]
    },
    {
     "name": "stderr",
     "output_type": "stream",
     "text": [
      "\r\n",
      " 34%|███▍      | 17/50 [3:17:55<6:22:38, 695.71s/it]"
     ]
    },
    {
     "name": "stdout",
     "output_type": "stream",
     "text": [
      "016 -1.407e+01 -1.130e+01 \n"
     ]
    },
    {
     "name": "stderr",
     "output_type": "stream",
     "text": [
      "\r\n",
      " 36%|███▌      | 18/50 [3:29:31<6:11:07, 695.87s/it]"
     ]
    },
    {
     "name": "stdout",
     "output_type": "stream",
     "text": [
      "017 -1.423e+01 -1.131e+01 \n"
     ]
    },
    {
     "name": "stderr",
     "output_type": "stream",
     "text": [
      "\r\n",
      " 38%|███▊      | 19/50 [3:41:07<5:59:32, 695.90s/it]"
     ]
    },
    {
     "name": "stdout",
     "output_type": "stream",
     "text": [
      "018 -1.439e+01 -1.117e+01 \n"
     ]
    },
    {
     "name": "stderr",
     "output_type": "stream",
     "text": [
      "\r\n",
      " 40%|████      | 20/50 [3:52:42<5:47:48, 695.61s/it]"
     ]
    },
    {
     "name": "stdout",
     "output_type": "stream",
     "text": [
      "019 -1.453e+01 -1.117e+01 \n"
     ]
    },
    {
     "name": "stderr",
     "output_type": "stream",
     "text": [
      "\r\n",
      " 42%|████▏     | 21/50 [4:04:18<5:36:13, 695.64s/it]"
     ]
    },
    {
     "name": "stdout",
     "output_type": "stream",
     "text": [
      "020 -1.466e+01 -1.129e+01 \n"
     ]
    },
    {
     "name": "stderr",
     "output_type": "stream",
     "text": [
      "\r\n",
      " 44%|████▍     | 22/50 [4:15:54<5:24:40, 695.73s/it]"
     ]
    },
    {
     "name": "stdout",
     "output_type": "stream",
     "text": [
      "021 -1.505e+01 -1.131e+01 \n"
     ]
    },
    {
     "name": "stderr",
     "output_type": "stream",
     "text": [
      "\r\n",
      " 46%|████▌     | 23/50 [4:27:29<5:13:01, 695.61s/it]"
     ]
    },
    {
     "name": "stdout",
     "output_type": "stream",
     "text": [
      "022 -1.514e+01 -1.132e+01 \n"
     ]
    },
    {
     "name": "stderr",
     "output_type": "stream",
     "text": [
      "\r\n",
      " 48%|████▊     | 24/50 [4:39:05<5:01:25, 695.59s/it]"
     ]
    },
    {
     "name": "stdout",
     "output_type": "stream",
     "text": [
      "023 -1.521e+01 -1.132e+01 \n"
     ]
    },
    {
     "name": "stderr",
     "output_type": "stream",
     "text": [
      " 48%|████▊     | 24/50 [4:39:18<5:02:34, 698.27s/it]\n"
     ]
    },
    {
     "ename": "KeyboardInterrupt",
     "evalue": "",
     "output_type": "error",
     "traceback": [
      "\u001b[0;31m---------------------------------------------------------------------------\u001b[0m",
      "\u001b[0;31mKeyboardInterrupt\u001b[0m                         Traceback (most recent call last)",
      "Cell \u001b[0;32mIn[10], line 18\u001b[0m\n\u001b[1;32m     16\u001b[0m y_NN \u001b[38;5;241m=\u001b[39m p[:,g]             \u001b[38;5;66;03m#posterior mean\u001b[39;00m\n\u001b[1;32m     17\u001b[0m e_NN \u001b[38;5;241m=\u001b[39m p[:,h]             \u001b[38;5;66;03m#posterior std\u001b[39;00m\n\u001b[0;32m---> 18\u001b[0m loss1 \u001b[38;5;241m=\u001b[39m torch\u001b[38;5;241m.\u001b[39mmean((y_NN \u001b[38;5;241m-\u001b[39m y)\u001b[38;5;241m*\u001b[39m\u001b[38;5;241m*\u001b[39m\u001b[38;5;241m2\u001b[39m,                axis\u001b[38;5;241m=\u001b[39m\u001b[38;5;241m0\u001b[39m)\n\u001b[1;32m     19\u001b[0m loss2 \u001b[38;5;241m=\u001b[39m torch\u001b[38;5;241m.\u001b[39mmean(((y_NN \u001b[38;5;241m-\u001b[39m y)\u001b[38;5;241m*\u001b[39m\u001b[38;5;241m*\u001b[39m\u001b[38;5;241m2\u001b[39m \u001b[38;5;241m-\u001b[39m e_NN\u001b[38;5;241m*\u001b[39m\u001b[38;5;241m*\u001b[39m\u001b[38;5;241m2\u001b[39m)\u001b[38;5;241m*\u001b[39m\u001b[38;5;241m*\u001b[39m\u001b[38;5;241m2\u001b[39m, axis\u001b[38;5;241m=\u001b[39m\u001b[38;5;241m0\u001b[39m)\n\u001b[1;32m     20\u001b[0m loss  \u001b[38;5;241m=\u001b[39m torch\u001b[38;5;241m.\u001b[39mmean(torch\u001b[38;5;241m.\u001b[39mlog(loss1) \u001b[38;5;241m+\u001b[39m torch\u001b[38;5;241m.\u001b[39mlog(loss2))\n",
      "File \u001b[0;32m/ext3/miniconda3/lib/python3.11/site-packages/torch/_tensor.py:34\u001b[0m, in \u001b[0;36m_handle_torch_function_and_wrap_type_error_to_not_implemented.<locals>.wrapped\u001b[0;34m(*args, **kwargs)\u001b[0m\n\u001b[1;32m     31\u001b[0m \u001b[38;5;28;01mdef\u001b[39;00m \u001b[38;5;21m_handle_torch_function_and_wrap_type_error_to_not_implemented\u001b[39m(f):\n\u001b[1;32m     32\u001b[0m     assigned \u001b[38;5;241m=\u001b[39m functools\u001b[38;5;241m.\u001b[39mWRAPPER_ASSIGNMENTS\n\u001b[0;32m---> 34\u001b[0m     \u001b[38;5;129m@functools\u001b[39m\u001b[38;5;241m.\u001b[39mwraps(f, assigned\u001b[38;5;241m=\u001b[39massigned)\n\u001b[1;32m     35\u001b[0m     \u001b[38;5;28;01mdef\u001b[39;00m \u001b[38;5;21mwrapped\u001b[39m(\u001b[38;5;241m*\u001b[39margs, \u001b[38;5;241m*\u001b[39m\u001b[38;5;241m*\u001b[39mkwargs):\n\u001b[1;32m     36\u001b[0m         \u001b[38;5;28;01mtry\u001b[39;00m:\n\u001b[1;32m     37\u001b[0m             \u001b[38;5;66;03m# See https://github.com/pytorch/pytorch/issues/75462\u001b[39;00m\n\u001b[1;32m     38\u001b[0m             \u001b[38;5;28;01mif\u001b[39;00m has_torch_function(args):\n",
      "\u001b[0;31mKeyboardInterrupt\u001b[0m: "
     ]
    }
   ],
   "source": [
    "from tqdm import tqdm\n",
    "# do a loop over all epochs\n",
    "start = time.time()\n",
    "for epoch in tqdm(range(epochs)):\n",
    "\n",
    "    # do training\n",
    "    train_loss1, train_loss2 = torch.zeros(len(g)).to(device), torch.zeros(len(g)).to(device)\n",
    "    train_loss, points = 0.0, 0\n",
    "    model.train()\n",
    "    for x, y in train_loader:\n",
    "        bs   = x.shape[0]         #batch size\n",
    "        x    = x.to(device)       #maps\n",
    "        x    = x.repeat(1, 3, 1, 1)\n",
    "        y    = y.to(device)[:,g]  #parameters\n",
    "        p    = model(x)           #NN output\n",
    "        y_NN = p[:,g]             #posterior mean\n",
    "        e_NN = p[:,h]             #posterior std\n",
    "        loss1 = torch.mean((y_NN - y)**2,                axis=0)\n",
    "        loss2 = torch.mean(((y_NN - y)**2 - e_NN**2)**2, axis=0)\n",
    "        loss  = torch.mean(torch.log(loss1) + torch.log(loss2))\n",
    "        train_loss1 += loss1*bs\n",
    "        train_loss2 += loss2*bs\n",
    "        points      += bs\n",
    "        optimizer.zero_grad()\n",
    "        loss.backward()\n",
    "        optimizer.step()\n",
    "\n",
    "        #if points>18000:  break\n",
    "    train_loss = torch.log(train_loss1/points) + torch.log(train_loss2/points)\n",
    "    train_loss = torch.mean(train_loss).item()\n",
    "\n",
    "    # do validation: cosmo alone & all params\n",
    "    valid_loss1, valid_loss2 = torch.zeros(len(g)).to(device), torch.zeros(len(g)).to(device)\n",
    "    valid_loss, points = 0.0, 0\n",
    "    model.eval()\n",
    "    for x, y in valid_loader:\n",
    "        with torch.no_grad():\n",
    "            bs    = x.shape[0]         #batch size\n",
    "            x     = x.to(device)       #maps\n",
    "            x     = x.repeat(1, 3, 1, 1)\n",
    "            y     = y.to(device)[:,g]  #parameters\n",
    "            p     = model(x)           #NN output\n",
    "            y_NN  = p[:,g]             #posterior mean\n",
    "            e_NN  = p[:,h]             #posterior std\n",
    "            loss1 = torch.mean((y_NN - y)**2,                axis=0)\n",
    "            loss2 = torch.mean(((y_NN - y)**2 - e_NN**2)**2, axis=0)\n",
    "            loss  = torch.mean(torch.log(loss1) + torch.log(loss2))\n",
    "            valid_loss1 += loss1*bs\n",
    "            valid_loss2 += loss2*bs\n",
    "            points     += bs\n",
    "    valid_loss = torch.log(valid_loss1/points) + torch.log(valid_loss2/points)\n",
    "    valid_loss = torch.mean(valid_loss).item()\n",
    "\n",
    "    scheduler.step(valid_loss)\n",
    "\n",
    "    # verbose\n",
    "    print('%03d %.3e %.3e '%(epoch, train_loss, valid_loss), end='')\n",
    "\n",
    "    # save model if it is better\n",
    "    if valid_loss<min_valid_loss:\n",
    "        torch.save(model.state_dict(), fmodel)\n",
    "        min_valid_loss = valid_loss\n",
    "        print('(C) ', end='')\n",
    "    print('')\n",
    "\n",
    "    # save losses to file\n",
    "    f = open(floss, 'a')\n",
    "    f.write('%d %.5e %.5e\\n'%(epoch, train_loss, valid_loss))\n",
    "    f.close()\n",
    "\n",
    "stop = time.time()\n",
    "print('Time take (h):', \"{:.4f}\".format((stop-start)/3600.0))"
   ]
  },
  {
   "cell_type": "markdown",
   "metadata": {
    "id": "kJh7kM4vmye5"
   },
   "source": [
    "\n",
    "\n",
    "\n",
    "### Now test the model"
   ]
  },
  {
   "cell_type": "code",
   "execution_count": 12,
   "metadata": {
    "colab": {
     "base_uri": "https://localhost:8080/"
    },
    "executionInfo": {
     "elapsed": 142,
     "status": "ok",
     "timestamp": 1696449043252,
     "user": {
      "displayName": "Jingyue Huang",
      "userId": "10711135304644079745"
     },
     "user_tz": 240
    },
    "id": "RYIhDeVH5fWs",
    "outputId": "74c7185e-41b4-4fae-977b-5b262971d86e"
   },
   "outputs": [
    {
     "name": "stdout",
     "output_type": "stream",
     "text": [
      "Weights loaded\n"
     ]
    }
   ],
   "source": [
    "# load the weights in case they exists\n",
    "#fmodel = 'best_weights_T.pt'\n",
    "if os.path.exists(fmodel):\n",
    "    model.load_state_dict(torch.load(fmodel, map_location=torch.device(device)))\n",
    "    print('Weights loaded')"
   ]
  },
  {
   "cell_type": "code",
   "execution_count": 79,
   "metadata": {},
   "outputs": [
    {
     "name": "stdout",
     "output_type": "stream",
     "text": [
      "Weights loaded\n"
     ]
    }
   ],
   "source": [
    "# load the weights in case they exists\n",
    "# if os.path.exists(fweights):\n",
    "#     model.load_state_dict(torch.load(fweights, map_location=torch.device(device)))\n",
    "#     print('Weights loaded')"
   ]
  },
  {
   "cell_type": "code",
   "execution_count": 18,
   "metadata": {
    "colab": {
     "base_uri": "https://localhost:8080/"
    },
    "executionInfo": {
     "elapsed": 20672,
     "status": "ok",
     "timestamp": 1696449090690,
     "user": {
      "displayName": "Jingyue Huang",
      "userId": "10711135304644079745"
     },
     "user_tz": 240
    },
    "id": "fYndRfrpkt1p",
    "outputId": "9bec2cbe-b0a9-4a19-9f69-b09d5cb22c1d"
   },
   "outputs": [
    {
     "name": "stdout",
     "output_type": "stream",
     "text": [
      "Found 1 channels\n",
      "Reading data...\n",
      "2.215e+02 < F(all|orig) < 2.772e+11\n",
      "2.345 < F(all|resc)  < 11.443\n",
      "-2.708 < F(all|norm) < 4.815\n",
      "\n",
      "Number of maps in the test set: 750\n",
      "Test loss = -4.741e+00\n",
      "\n",
      "Normalized Error Omega_m = 0.295\n",
      "Normalized Error sigma_8 = 0.536\n",
      "Error Omega_m = 0.118\n",
      "Error sigma_8 = 0.214\n",
      "Bayesian error Omega_m = 0.001\n",
      "Bayesian error sigma_8 = 0.005\n",
      "Relative error Omega_m = 0.368\n",
      "Relative error sigma_8 = 0.319\n"
     ]
    }
   ],
   "source": [
    "# load test set\n",
    "test_loader  = create_dataset_multifield('test', seed, fmaps, fparams, batch_size, splits, fmaps_norm,\n",
    "                                         rot_flip_in_mem=False, verbose=True)\n",
    "\n",
    "# get the number of maps in the test set\n",
    "num_maps = 0\n",
    "for x,y in test_loader:\n",
    "      num_maps += x.shape[0]\n",
    "print('\\nNumber of maps in the test set: %d'%num_maps)\n",
    "\n",
    "# define the arrays containing the value of the parameters\n",
    "params_true = np.zeros((num_maps,2), dtype=np.float32)\n",
    "params_NN   = np.zeros((num_maps,2), dtype=np.float32)\n",
    "errors_NN   = np.zeros((num_maps,2), dtype=np.float32)\n",
    "\n",
    "# get test loss\n",
    "test_loss1, test_loss2 = torch.zeros(len(g)).to(device), torch.zeros(len(g)).to(device)\n",
    "test_loss, points = 0.0, 0\n",
    "model.eval()\n",
    "for x, y in test_loader:\n",
    "    with torch.no_grad():\n",
    "        bs    = x.shape[0]    #batch size\n",
    "        x     = x.to(device)  #send data to device\n",
    "        x     = x.repeat(1, 3, 1, 1)\n",
    "        y     = y.to(device)[:,g]  #send data to device\n",
    "        p     = model(x)      #prediction for mean and variance\n",
    "        y_NN  = p[:,g]       #prediction for mean\n",
    "        e_NN  = p[:,h]       #prediction for error\n",
    "        loss1 = torch.mean((y_NN[:,g] - y[:,g])**2,                     axis=0)\n",
    "        loss2 = torch.mean(((y_NN[:,g] - y[:,g])**2 - e_NN[:,g]**2)**2, axis=0)\n",
    "        test_loss1 += loss1*bs\n",
    "        test_loss2 += loss2*bs\n",
    "\n",
    "        # save results to their corresponding arrays\n",
    "        params_true[points:points+x.shape[0]] = y.cpu().numpy()\n",
    "        params_NN[points:points+x.shape[0]]   = y_NN.cpu().numpy()\n",
    "        errors_NN[points:points+x.shape[0]]   = e_NN.cpu().numpy()\n",
    "        points    += x.shape[0]\n",
    "test_loss = torch.log(test_loss1/points) + torch.log(test_loss2/points)\n",
    "test_loss = torch.mean(test_loss).item()\n",
    "print('Test loss = %.3e\\n'%test_loss)\n",
    "\n",
    "Norm_error = np.sqrt(np.mean((params_true - params_NN)**2, axis=0))\n",
    "print('Normalized Error Omega_m = %.3f'%Norm_error[0])\n",
    "print('Normalized Error sigma_8 = %.3f'%Norm_error[1])\n",
    "# print('Normalized Error A_SN1   = %.3f'%Norm_error[2])\n",
    "# print('Normalized Error A_AGN1  = %.3f'%Norm_error[3])\n",
    "# print('Normalized Error A_SN2   = %.3f'%Norm_error[4])\n",
    "# print('Normalized Error A_AGN2  = %.3f\\n'%Norm_error[5])\n",
    "\n",
    "# de-normalize\n",
    "# minimum = np.array([0.1, 0.6, 0.25, 0.25, 0.5, 0.5])\n",
    "# maximum = np.array([0.5, 1.0, 4.00, 4.00, 2.0, 2.0])\n",
    "minimum = np.array([0.1, 0.6])\n",
    "maximum = np.array([0.5, 1.0])\n",
    "params_true = params_true*(maximum - minimum) + minimum\n",
    "params_NN   = params_NN*(maximum - minimum) + minimum\n",
    "errors_NN   = errors_NN*(maximum - minimum)\n",
    "\n",
    "error = np.sqrt(np.mean((params_true - params_NN)**2, axis=0))\n",
    "print('Error Omega_m = %.3f'%error[0])\n",
    "print('Error sigma_8 = %.3f'%error[1])\n",
    "# print('Error A_SN1   = %.3f'%error[2])\n",
    "# print('Error A_AGN1  = %.3f'%error[3])\n",
    "# print('Error A_SN2   = %.3f'%error[4])\n",
    "# print('Error A_AGN2  = %.3f\\n'%error[5])\n",
    "\n",
    "mean_error = np.absolute(np.mean(errors_NN, axis=0))\n",
    "print('Bayesian error Omega_m = %.3f'%mean_error[0])\n",
    "print('Bayesian error sigma_8 = %.3f'%mean_error[1])\n",
    "# print('Bayesian error A_SN1   = %.3f'%mean_error[2])\n",
    "# print('Bayesian error A_AGN1  = %.3f'%mean_error[3])\n",
    "# print('Bayesian error A_SN2   = %.3f'%mean_error[4])\n",
    "# print('Bayesian error A_AGN2  = %.3f\\n'%mean_error[5])\n",
    "\n",
    "rel_error = np.sqrt(np.mean((params_true - params_NN)**2/params_true**2, axis=0))\n",
    "print('Relative error Omega_m = %.3f'%rel_error[0])\n",
    "print('Relative error sigma_8 = %.3f'%rel_error[1])\n",
    "# print('Relative error A_SN1   = %.3f'%rel_error[2])\n",
    "# print('Relative error A_AGN1  = %.3f'%rel_error[3])\n",
    "# print('Relative error A_SN2   = %.3f'%rel_error[4])\n",
    "# print('Relative error A_AGN2  = %.3f\\n'%rel_error[5])\n",
    "\n",
    "# save results to file\n",
    "#dataset = np.zeros((num_maps,18), dtype=np.float32)\n",
    "#dataset[:,:6]   = params_true\n",
    "#dataset[:,6:12] = params_NN\n",
    "#dataset[:,12:]  = errors_NN\n",
    "#np.savetxt(fresults,  dataset)\n",
    "#np.savetxt(fresults1, Norm_error)"
   ]
  },
  {
   "cell_type": "markdown",
   "metadata": {
    "id": "90J57zLFqjiV"
   },
   "source": [
    "### plot the results for $\\Omega_{\\rm m}$"
   ]
  },
  {
   "cell_type": "code",
   "execution_count": 19,
   "metadata": {
    "colab": {
     "base_uri": "https://localhost:8080/",
     "height": 620
    },
    "executionInfo": {
     "elapsed": 486,
     "status": "ok",
     "timestamp": 1696449139882,
     "user": {
      "displayName": "Jingyue Huang",
      "userId": "10711135304644079745"
     },
     "user_tz": 240
    },
    "id": "xmMUI3bKqbvI",
    "outputId": "e09cdcda-173f-4605-f34b-e7aeede38f5b"
   },
   "outputs": [
    {
     "name": "stdout",
     "output_type": "stream",
     "text": [
      "R^2: -0.48030320415364613\n"
     ]
    },
    {
     "data": {
      "image/png": "[encoded data removed]",
      "text/plain": [
       "<Figure size 700x700 with 1 Axes>"
      ]
     },
     "metadata": {},
     "output_type": "display_data"
    }
   ],
   "source": [
    "# select the first map of every simulation in the test set\n",
    "indexes = np.arange(50)*splits\n",
    "\n",
    "fig=plt.figure(figsize=(7,7))\n",
    "plt.xlabel(r'${\\rm Truth}$')\n",
    "plt.ylabel(r'${\\rm Inference}$')\n",
    "plt.text(0.1, 0.45, r'$\\Omega_{\\rm m}$',fontsize=18)\n",
    "\n",
    "print(\"R^2:\", r2_score(params_true[indexes,0], params_NN[indexes,0]))\n",
    "\n",
    "plt.errorbar(params_true[indexes,0], params_NN[indexes,0], #errors_NN[indexes,0],\n",
    "             linestyle='None', lw=1, fmt='o', ms=2, elinewidth=1, capsize=0, c='r')\n",
    "plt.plot([0.1,0.5], [0.1,0.5], color='k')\n",
    "\n",
    "plt.show()"
   ]
  },
  {
   "cell_type": "markdown",
   "metadata": {
    "id": "XE8itGaGvvKb"
   },
   "source": [
    "### plot the results for $\\sigma_8$"
   ]
  },
  {
   "cell_type": "code",
   "execution_count": 20,
   "metadata": {
    "colab": {
     "base_uri": "https://localhost:8080/",
     "height": 620
    },
    "executionInfo": {
     "elapsed": 578,
     "status": "ok",
     "timestamp": 1696449142402,
     "user": {
      "displayName": "Jingyue Huang",
      "userId": "10711135304644079745"
     },
     "user_tz": 240
    },
    "id": "h_Wf7whwrE_D",
    "outputId": "85ca4910-f750-4508-97f6-9c72f5da1288"
   },
   "outputs": [
    {
     "name": "stdout",
     "output_type": "stream",
     "text": [
      "R^2: -2.3936877355614485\n"
     ]
    },
    {
     "data": {
      "image/png": "[encoded data removed]",
      "text/plain": [
       "<Figure size 700x700 with 1 Axes>"
      ]
     },
     "metadata": {},
     "output_type": "display_data"
    }
   ],
   "source": [
    "fig=plt.figure(figsize=(7,7))\n",
    "plt.xlabel(r'${\\rm Truth}$')\n",
    "plt.ylabel(r'${\\rm Inference}$')\n",
    "plt.text(0.6, 0.95, r'$\\sigma_8$',fontsize=18)\n",
    "\n",
    "print(\"R^2:\", r2_score(params_true[indexes,1], params_NN[indexes,1]))\n",
    "\n",
    "plt.errorbar(params_true[indexes,1], params_NN[indexes,1],# errors_NN[indexes,1],\n",
    "             linestyle='None', lw=1, fmt='o', ms=2, elinewidth=1, capsize=0, c='r')\n",
    "plt.plot([0.6,1.0], [0.6,1.0], color='k')\n",
    "\n",
    "plt.show()"
   ]
  },
  {
   "cell_type": "markdown",
   "metadata": {
    "id": "Qw17Gj8jW0Zb"
   },
   "source": [
    "### plot results for $A_{\\rm SN1}$"
   ]
  },
  {
   "cell_type": "code",
   "execution_count": 21,
   "metadata": {
    "colab": {
     "base_uri": "https://localhost:8080/",
     "height": 620
    },
    "executionInfo": {
     "elapsed": 723,
     "status": "ok",
     "timestamp": 1696449144915,
     "user": {
      "displayName": "Jingyue Huang",
      "userId": "10711135304644079745"
     },
     "user_tz": 240
    },
    "id": "Ny2RUsZov3YY",
    "outputId": "3744e6e9-7f33-48c6-8a40-4bdafefcef1d"
   },
   "outputs": [
    {
     "data": {
      "image/png": "[encoded data removed]",
      "text/plain": [
       "<Figure size 700x700 with 1 Axes>"
      ]
     },
     "metadata": {},
     "output_type": "display_data"
    }
   ],
   "source": [
    "fig=plt.figure(figsize=(7,7))\n",
    "plt.xlabel(r'${\\rm Truth}$')\n",
    "plt.ylabel(r'${\\rm Inference}$')\n",
    "plt.text(0.25, 4.0, r'$A_{\\rm SN1}$',fontsize=18)\n",
    "\n",
    "plt.errorbar(params_true[indexes,2], params_NN[indexes,2], errors_NN[indexes,2],\n",
    "             linestyle='None', lw=1, fmt='o', ms=2, elinewidth=1, capsize=0, c='r')\n",
    "plt.plot([0.25,4.0], [0.25,4.0], color='k')\n",
    "\n",
    "plt.show()"
   ]
  },
  {
   "cell_type": "markdown",
   "metadata": {
    "id": "Ykfc2lN5W4_-"
   },
   "source": [
    "### plot results for $A_{\\rm SN2}$"
   ]
  },
  {
   "cell_type": "code",
   "execution_count": 20,
   "metadata": {
    "colab": {
     "base_uri": "https://localhost:8080/",
     "height": 620
    },
    "executionInfo": {
     "elapsed": 456,
     "status": "ok",
     "timestamp": 1696449146957,
     "user": {
      "displayName": "Jingyue Huang",
      "userId": "10711135304644079745"
     },
     "user_tz": 240
    },
    "id": "o_ZvKgHyYIGK",
    "outputId": "f3cb1fe0-b1ea-4e97-9d05-1ea45a04bf24"
   },
   "outputs": [
    {
     "data": {
      "image/png": "[encoded data removed]",
      "text/plain": [
       "<Figure size 700x700 with 1 Axes>"
      ]
     },
     "metadata": {},
     "output_type": "display_data"
    }
   ],
   "source": [
    "fig=plt.figure(figsize=(7,7))\n",
    "plt.xlabel(r'${\\rm Truth}$')\n",
    "plt.ylabel(r'${\\rm Inference}$')\n",
    "plt.text(0.5, 2.0, r'$A_{\\rm SN2}$',fontsize=18)\n",
    "\n",
    "plt.errorbar(params_true[indexes,4], params_NN[indexes,4], errors_NN[indexes,4],\n",
    "             linestyle='None', lw=1, fmt='o', ms=2, elinewidth=1, capsize=0, c='r')\n",
    "plt.plot([0.5,2.0], [0.5,2.0], color='k')\n",
    "\n",
    "plt.show()"
   ]
  },
  {
   "cell_type": "markdown",
   "metadata": {
    "id": "6MZKJYOWXAbt"
   },
   "source": [
    "### plot results for $A_{\\rm AGN1}$"
   ]
  },
  {
   "cell_type": "code",
   "execution_count": 21,
   "metadata": {
    "colab": {
     "base_uri": "https://localhost:8080/",
     "height": 620
    },
    "executionInfo": {
     "elapsed": 427,
     "status": "ok",
     "timestamp": 1696449148809,
     "user": {
      "displayName": "Jingyue Huang",
      "userId": "10711135304644079745"
     },
     "user_tz": 240
    },
    "id": "iUOFxWNUYC04",
    "outputId": "70918372-5548-402f-ac75-f38e454c62ff"
   },
   "outputs": [
    {
     "data": {
      "image/png": "[encoded data removed]",
      "text/plain": [
       "<Figure size 700x700 with 1 Axes>"
      ]
     },
     "metadata": {},
     "output_type": "display_data"
    }
   ],
   "source": [
    "fig=plt.figure(figsize=(7,7))\n",
    "plt.xlabel(r'${\\rm Truth}$')\n",
    "plt.ylabel(r'${\\rm Inference}$')\n",
    "plt.text(0.25, 4.0, r'$A_{\\rm AGN1}$',fontsize=18)\n",
    "\n",
    "plt.errorbar(params_true[indexes,3], params_NN[indexes,3], errors_NN[indexes,3],\n",
    "             linestyle='None', lw=1, fmt='o', ms=2, elinewidth=1, capsize=0, c='r')\n",
    "plt.plot([0.25,4.0], [0.25,4.0], color='k')\n",
    "\n",
    "plt.show()"
   ]
  },
  {
   "cell_type": "markdown",
   "metadata": {
    "id": "uHousvPDXAEj"
   },
   "source": [
    "### plot results for $A_{\\rm AGN2}$"
   ]
  },
  {
   "cell_type": "code",
   "execution_count": 22,
   "metadata": {
    "colab": {
     "base_uri": "https://localhost:8080/",
     "height": 620
    },
    "executionInfo": {
     "elapsed": 491,
     "status": "ok",
     "timestamp": 1696449150839,
     "user": {
      "displayName": "Jingyue Huang",
      "userId": "10711135304644079745"
     },
     "user_tz": 240
    },
    "id": "K23LDB1aW9-i",
    "outputId": "658e315b-579c-4703-983a-05822d13477c"
   },
   "outputs": [
    {
     "data": {
      "image/png": "[encoded data removed]",
      "text/plain": [
       "<Figure size 700x700 with 1 Axes>"
      ]
     },
     "metadata": {},
     "output_type": "display_data"
    }
   ],
   "source": [
    "fig=plt.figure(figsize=(7,7))\n",
    "plt.xlabel(r'${\\rm Truth}$')\n",
    "plt.ylabel(r'${\\rm Inference}$')\n",
    "plt.text(0.5, 2.0, r'$A_{\\rm AGN2}$',fontsize=18)\n",
    "\n",
    "plt.errorbar(params_true[indexes,5], params_NN[indexes,5], errors_NN[indexes,5],\n",
    "             linestyle='None', lw=1, fmt='o', ms=2, elinewidth=1, capsize=0, c='r')\n",
    "plt.plot([0.5,2.0], [0.5,2.0], color='k')\n",
    "\n",
    "plt.show()"
   ]
  },
  {
   "cell_type": "code",
   "execution_count": null,
   "metadata": {},
   "outputs": [],
   "source": []
  },
  {
   "cell_type": "code",
   "execution_count": null,
   "metadata": {},
   "outputs": [],
   "source": []
  }
 ],
 "metadata": {
  "accelerator": "GPU",
  "colab": {
   "gpuType": "T4",
   "provenance": [
    {
     "file_id": "1-BmkA8JSc36O8g9pj7FenD1YSLKqjQR3",
     "timestamp": 1696449156108
    }
   ]
  },
  "kernelspec": {
   "display_name": "cmd",
   "language": "python",
   "name": "python3"
  },
  "language_info": {
   "codemirror_mode": {
    "name": "ipython",
    "version": 3
   },
   "file_extension": ".py",
   "mimetype": "text/x-python",
   "name": "python",
   "nbconvert_exporter": "python",
   "pygments_lexer": "ipython3",
   "version": "3.9.12"
  }
 },
 "nbformat": 4,
 "nbformat_minor": 1
}
