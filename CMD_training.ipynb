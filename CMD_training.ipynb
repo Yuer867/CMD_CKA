{
 "cells": [
  {
   "cell_type": "markdown",
   "metadata": {
    "id": "EHCsP9N_anrq"
   },
   "source": [
    "### Due to computational limitations from google colab, we illustrate the training and testing of a network on CMC maps using a simplify version of the benchmark codes and also using a fraction of all the data available. We note that the results obtained in this example are far from optimal and are just shown as an illustration."
   ]
  },
  {
   "cell_type": "markdown",
   "metadata": {
    "id": "D6kZv812TDL0"
   },
   "source": [
    "### Import libraries"
   ]
  },
  {
   "cell_type": "code",
   "execution_count": 1,
   "metadata": {
    "executionInfo": {
     "elapsed": 5934,
     "status": "ok",
     "timestamp": 1696445713267,
     "user": {
      "displayName": "Jingyue Huang",
      "userId": "10711135304644079745"
     },
     "user_tz": 240
    },
    "id": "Mo2BXcp0SdlU"
   },
   "outputs": [],
   "source": [
    "import numpy as np\n",
    "import torch\n",
    "import torch.nn as nn\n",
    "import torch.backends.cudnn as cudnn\n",
    "from torch.utils.data.dataset import Dataset\n",
    "from torch.utils.data import DataLoader\n",
    "import time, sys, os\n",
    "import matplotlib.pyplot as plt\n",
    "import optuna\n",
    "from sklearn.metrics import r2_score\n",
    "from dataloader import create_dataset_multifield\n",
    "from models import model_o3_err, model_o3_err_1param, model_o3_err_cosmology"
   ]
  },
  {
   "cell_type": "markdown",
   "metadata": {
    "id": "wK6Yg020wRA1"
   },
   "source": [
    "### The code will run on both CPUs or GPUs"
   ]
  },
  {
   "cell_type": "code",
   "execution_count": 2,
   "metadata": {
    "colab": {
     "base_uri": "https://localhost:8080/"
    },
    "executionInfo": {
     "elapsed": 183,
     "status": "ok",
     "timestamp": 1696445715256,
     "user": {
      "displayName": "Jingyue Huang",
      "userId": "10711135304644079745"
     },
     "user_tz": 240
    },
    "id": "DbjG-fAOwSAd",
    "outputId": "e48c5990-e220-48d9-b35a-c49f2cd815cb"
   },
   "outputs": [
    {
     "name": "stdout",
     "output_type": "stream",
     "text": [
      "CUDA Available\n"
     ]
    }
   ],
   "source": [
    "if torch.cuda.is_available():\n",
    "    print(\"CUDA Available\")\n",
    "    device = torch.device('cuda')\n",
    "else:\n",
    "    print('CUDA Not Available')\n",
    "    device = torch.device('cpu')\n",
    "cudnn.benchmark = True      #May train faster but cost more memory"
   ]
  },
  {
   "cell_type": "markdown",
   "metadata": {
    "id": "G4Ayvo_OAaY7"
   },
   "source": [
    "### Define the value of the parameters and hyperparameters"
   ]
  },
  {
   "cell_type": "code",
   "execution_count": 3,
   "metadata": {
    "executionInfo": {
     "elapsed": 185,
     "status": "ok",
     "timestamp": 1696445733505,
     "user": {
      "displayName": "Jingyue Huang",
      "userId": "10711135304644079745"
     },
     "user_tz": 240
    },
    "id": "aI-iV68kAitv"
   },
   "outputs": [],
   "source": [
    "# data parameters\n",
    "fmaps      = ['maps_T.npy'] #tuple containing the maps with the different fields to consider\n",
    "fmaps_norm = ['maps_T.npy'] #if you want to normalize the maps according to the properties of some data set, put that data set here (This is mostly used when training on IllustrisTNG and testing on SIMBA, or vicerversa)\n",
    "seed       = 1   #random seed to split maps among training, validation and testing\n",
    "splits     = 15   #number of maps per simulation\n",
    "\n",
    "# training parameters\n",
    "channels        = 1                #we only consider here 1 field\n",
    "# params          = [0,1,2,3,4,5]    #0(Omega_m) 1(sigma_8) 2(A_SN1) 3 (A_AGN1) 4(A_SN2) 5(A_AGN2). The code will be trained to predict all these parameters.\n",
    "params          = [0,1]\n",
    "# params          = [0]\n",
    "g               = params           #g will contain the mean of the posterior\n",
    "# h               = [6+i for i in g] #h will contain the variance of the posterior\n",
    "h               = [2+i for i in g] #h will contain the variance of the posterior\n",
    "# h               = [1+i for i in g] #h will contain the variance of the posterior\n",
    "# rot_flip_in_mem = True             #whether rotations and flipings are kept in memory. True will make the code faster but consumes more RAM memory.\n",
    "rot_flip_in_mem = True\n",
    "\n",
    "# optimizer parameters\n",
    "beta1 = 0.5\n",
    "beta2 = 0.999\n",
    "\n",
    "# hyperparameters\n",
    "batch_size = 128\n",
    "min_lr     = 1e-9\n",
    "max_lr     = 0.0036  # default: 1e-3\n",
    "wd         = 0.0258  #value of weight decay, default: 0.0005\n",
    "dr         = 0.4     #dropout value for fully connected layers, default: 0.2\n",
    "hidden     = 11       #this determines the number of channels in the CNNs; integer larger than 1, default: 5\n",
    "epochs     = 200      #number of epochs to train the network\n",
    "\n",
    "# output files names\n",
    "output_dir = 'layer20_TNG_2param_norm'\n",
    "os.makedirs(output_dir, exist_ok=True)\n",
    "floss  = os.path.join(output_dir, 'loss.txt')   #file with the training and validation losses for each epoch\n",
    "fmodel = os.path.join(output_dir, 'weights.pt') #file containing the weights of the best-model"
   ]
  },
  {
   "cell_type": "markdown",
   "metadata": {},
   "source": [
    "### load data"
   ]
  },
  {
   "cell_type": "code",
   "execution_count": 4,
   "metadata": {},
   "outputs": [
    {
     "name": "stdout",
     "output_type": "stream",
     "text": [
      "Shape of the maps: (15000, 256, 256)\n"
     ]
    }
   ],
   "source": [
    "# TNG - 43\n",
    "\n",
    "# data\n",
    "fparams = '2D_maps/data/params_LH_IllustrisTNG.txt'\n",
    "fmaps2 = '2D_maps/data/Maps_T_IllustrisTNG_LH_z=0.00.npy'\n",
    "\n",
    "# params\n",
    "# fdatabase  = 'sqlite:///2D_maps/inference/databases/IllustrisTNG_o3_T_all_steps_500_500_o3.db'\n",
    "# study_name = 'wd_dr_hidden_lr_o3'\n",
    "# study = optuna.load_study(study_name=study_name, storage=fdatabase)\n",
    "# trial_number = 43\n",
    "# trial = study.trials[trial_number]\n",
    "# hidden, dr = trial.params['hidden'], trial.params['dr']\n",
    "\n",
    "# weights\n",
    "fweights = '2D_maps/inference/weights/weights_IllustrisTNG_T_43_all_steps_500_500_o3.pt'\n",
    "\n",
    "# load data\n",
    "maps  = np.load(fmaps2)\n",
    "np.save('maps_T.npy', maps)\n",
    "print('Shape of the maps:', maps.shape)\n",
    "del maps"
   ]
  },
  {
   "cell_type": "code",
   "execution_count": 14,
   "metadata": {},
   "outputs": [
    {
     "name": "stdout",
     "output_type": "stream",
     "text": [
      "Shape of the maps: (15000, 256, 256)\n"
     ]
    }
   ],
   "source": [
    "# SIMBA - 37\n",
    "\n",
    "# data\n",
    "fparams = '2D_maps/data/params_LH_SIMBA.txt'\n",
    "fmaps2 = '2D_maps/data/Maps_T_SIMBA_LH_z=0.00.npy'\n",
    "\n",
    "# params\n",
    "# fdatabase  = 'sqlite:///2D_maps/inference/databases/SIMBA_o3_T_all_steps_500_500_o3.db'\n",
    "# study_name = 'wd_dr_hidden_lr_o3'\n",
    "# study = optuna.load_study(study_name=study_name, storage=fdatabase)\n",
    "# trial_number = 37\n",
    "# trial = study.trials[trial_number]\n",
    "# hidden, dr = trial.params['hidden'], trial.params['dr']\n",
    "\n",
    "# weights\n",
    "fweights = '2D_maps/inference/weights/weights_SIMBA_T_37_all_steps_500_500_o3.pt'\n",
    "\n",
    "# load data\n",
    "maps  = np.load(fmaps2)\n",
    "np.save('maps_T.npy', maps)\n",
    "print('Shape of the maps:', maps.shape)\n",
    "del maps"
   ]
  },
  {
   "cell_type": "code",
   "execution_count": 4,
   "metadata": {},
   "outputs": [
    {
     "name": "stdout",
     "output_type": "stream",
     "text": [
      "Shape of the maps: (30000, 256, 256)\n"
     ]
    }
   ],
   "source": [
    "# TNG + SIMBA\n",
    "\n",
    "# data\n",
    "fmaps2_TNG = '2D_maps/data/Maps_T_IllustrisTNG_LH_z=0.00.npy'\n",
    "fmaps2_SIMBA = '2D_maps/data/Maps_T_SIMBA_LH_z=0.00.npy'\n",
    "\n",
    "fparams = '2D_maps/data/params_LH.txt'\n",
    "\n",
    "# load data\n",
    "maps_TNG = np.load(fmaps2_TNG)\n",
    "maps_SIMBA = np.load(fmaps2_SIMBA)\n",
    "maps = np.concatenate((maps_TNG, maps_SIMBA), axis=0)\n",
    "np.save('maps_T.npy', maps)\n",
    "print('Shape of the maps:', maps.shape)\n",
    "del maps"
   ]
  },
  {
   "cell_type": "code",
   "execution_count": 5,
   "metadata": {},
   "outputs": [
    {
     "name": "stdout",
     "output_type": "stream",
     "text": [
      "\n",
      "Preparing training set\n",
      "Found 1 channels\n",
      "Reading data...\n",
      "1.502e+03 < F(all|orig) < 8.669e+07\n",
      "3.177 < F(all|resc)  < 7.938\n",
      "-1.282 < F(all|norm) < 4.550\n",
      "Channel 0 contains 108000 maps\n",
      "-1.282 < F < 4.550\n",
      "\n",
      "\n",
      "Preparing validation set\n",
      "Found 1 channels\n",
      "Reading data...\n",
      "1.502e+03 < F(all|orig) < 8.669e+07\n",
      "3.177 < F(all|resc)  < 7.938\n",
      "-1.282 < F(all|norm) < 4.550\n",
      "Channel 0 contains 6000 maps\n",
      "-1.240 < F < 4.189\n",
      "\n"
     ]
    }
   ],
   "source": [
    "# get training set\n",
    "print('\\nPreparing training set')\n",
    "train_loader = create_dataset_multifield('train', seed, fmaps, fparams, batch_size, splits, fmaps_norm,\n",
    "                                         rot_flip_in_mem=rot_flip_in_mem, verbose=True)\n",
    "\n",
    "# get validation set\n",
    "print('\\nPreparing validation set')\n",
    "valid_loader = create_dataset_multifield('valid', seed, fmaps, fparams, batch_size, splits, fmaps_norm,\n",
    "                                         rot_flip_in_mem=True,  verbose=True)"
   ]
  },
  {
   "cell_type": "code",
   "execution_count": 27,
   "metadata": {},
   "outputs": [
    {
     "name": "stdout",
     "output_type": "stream",
     "text": [
      "total number of parameters in the model = 28429326\n"
     ]
    }
   ],
   "source": [
    "# now that architecture is defined above, use it\n",
    "model = model_o3_err_1param(hidden, dr, channels)\n",
    "model = nn.DataParallel(model)\n",
    "model.to(device=device)\n",
    "network_total_params = sum(p.numel() for p in model.parameters())\n",
    "print('total number of parameters in the model = %d'%network_total_params)"
   ]
  },
  {
   "cell_type": "markdown",
   "metadata": {
    "id": "l7Wi-PCRh216"
   },
   "source": [
    "### Define the optimizer & scheduler"
   ]
  },
  {
   "cell_type": "code",
   "execution_count": 7,
   "metadata": {},
   "outputs": [],
   "source": [
    "optimizer = torch.optim.AdamW(model.parameters(), lr=max_lr, weight_decay=wd, betas=(beta1, beta2))\n",
    "scheduler = torch.optim.lr_scheduler.ReduceLROnPlateau(optimizer, 'min', factor=0.3, patience=10)\n",
    "\n",
    "# optimizer = torch.optim.AdamW(model.parameters(), lr=max_lr, weight_decay=wd, betas=(beta1, beta2))\n",
    "# scheduler = torch.optim.lr_scheduler.CyclicLR(optimizer, base_lr=min_lr, max_lr=max_lr, \n",
    "#                                               cycle_momentum=False, step_size_up=500, step_size_down=500)"
   ]
  },
  {
   "cell_type": "markdown",
   "metadata": {
    "id": "dMbGzDy3iLsM"
   },
   "source": [
    "### compute the initial validation loss"
   ]
  },
  {
   "cell_type": "code",
   "execution_count": 8,
   "metadata": {
    "colab": {
     "base_uri": "https://localhost:8080/"
    },
    "executionInfo": {
     "elapsed": 2670,
     "status": "ok",
     "timestamp": 1696446577192,
     "user": {
      "displayName": "Jingyue Huang",
      "userId": "10711135304644079745"
     },
     "user_tz": 240
    },
    "id": "p0e_mxP2iSqi",
    "outputId": "d0a11e20-9d63-4752-cca4-79074edd71dd"
   },
   "outputs": [
    {
     "name": "stdout",
     "output_type": "stream",
     "text": [
      "Computing initial validation loss\n",
      "Initial valid loss = 3.129e+00\n"
     ]
    }
   ],
   "source": [
    "print('Computing initial validation loss')\n",
    "model.eval()\n",
    "valid_loss1, valid_loss2 = torch.zeros(len(g)).to(device), torch.zeros(len(g)).to(device)\n",
    "min_valid_loss, points = 0.0, 0\n",
    "for x, y in valid_loader:\n",
    "      with torch.no_grad():\n",
    "          bs   = x.shape[0]                #batch size\n",
    "          x    = x.to(device=device)       #maps\n",
    "          y    = y.to(device=device)[:,g]  #parameters\n",
    "          p    = model(x)                  #NN output\n",
    "          y_NN = p[:,g]                    #posterior mean\n",
    "          e_NN = p[:,h]                    #posterior std\n",
    "          loss1 = torch.mean((y_NN - y)**2,                axis=0)\n",
    "          loss2 = torch.mean(((y_NN - y)**2 - e_NN**2)**2, axis=0)\n",
    "          loss  = torch.mean(torch.log(loss1) + torch.log(loss2))\n",
    "          valid_loss1 += loss1*bs\n",
    "          valid_loss2 += loss2*bs\n",
    "          points += bs\n",
    "min_valid_loss = torch.log(valid_loss1/points) + torch.log(valid_loss2/points)\n",
    "min_valid_loss = torch.mean(min_valid_loss).item()\n",
    "print('Initial valid loss = %.3e'%min_valid_loss)"
   ]
  },
  {
   "cell_type": "markdown",
   "metadata": {
    "id": "v8fsoPC4iw6v"
   },
   "source": [
    "### Now do a loop over all epochs while training and validating"
   ]
  },
  {
   "cell_type": "code",
   "execution_count": 9,
   "metadata": {
    "colab": {
     "base_uri": "https://localhost:8080/"
    },
    "executionInfo": {
     "elapsed": 2438421,
     "status": "ok",
     "timestamp": 1696449018296,
     "user": {
      "displayName": "Jingyue Huang",
      "userId": "10711135304644079745"
     },
     "user_tz": 240
    },
    "id": "Sy90PmxSxf9e",
    "outputId": "f76f1f0e-013f-418d-aead-1f02cad6d9a8"
   },
   "outputs": [
    {
     "name": "stderr",
     "output_type": "stream",
     "text": [
      "  0%|          | 1/200 [03:02<10:04:18, 182.20s/it]"
     ]
    },
    {
     "name": "stdout",
     "output_type": "stream",
     "text": [
      "000 1.346e+01 -7.454e+00 (C) \n",
      "001 -1.083e+01 -8.194e+00 "
     ]
    },
    {
     "name": "stderr",
     "output_type": "stream",
     "text": [
      "  1%|          | 2/200 [06:01<9:56:03, 180.62s/it] "
     ]
    },
    {
     "name": "stdout",
     "output_type": "stream",
     "text": [
      "(C) \n"
     ]
    },
    {
     "name": "stderr",
     "output_type": "stream",
     "text": [
      "  2%|▏         | 3/200 [09:01<9:51:04, 180.02s/it]"
     ]
    },
    {
     "name": "stdout",
     "output_type": "stream",
     "text": [
      "002 -1.216e+01 -7.108e+00 \n"
     ]
    },
    {
     "name": "stderr",
     "output_type": "stream",
     "text": [
      "  2%|▏         | 4/200 [12:00<9:47:21, 179.80s/it]"
     ]
    },
    {
     "name": "stdout",
     "output_type": "stream",
     "text": [
      "003 -1.263e+01 -8.831e+00 (C) \n"
     ]
    },
    {
     "name": "stderr",
     "output_type": "stream",
     "text": [
      "  2%|▎         | 5/200 [15:00<9:44:03, 179.71s/it]"
     ]
    },
    {
     "name": "stdout",
     "output_type": "stream",
     "text": [
      "004 -1.283e+01 -1.058e+01 (C) \n"
     ]
    },
    {
     "name": "stderr",
     "output_type": "stream",
     "text": [
      "  3%|▎         | 6/200 [17:59<9:40:46, 179.62s/it]"
     ]
    },
    {
     "name": "stdout",
     "output_type": "stream",
     "text": [
      "005 -1.297e+01 -7.936e+00 \n"
     ]
    },
    {
     "name": "stderr",
     "output_type": "stream",
     "text": [
      "  4%|▎         | 7/200 [20:58<9:37:29, 179.53s/it]"
     ]
    },
    {
     "name": "stdout",
     "output_type": "stream",
     "text": [
      "006 -1.306e+01 -9.140e+00 \n"
     ]
    },
    {
     "name": "stderr",
     "output_type": "stream",
     "text": [
      "  4%|▍         | 8/200 [23:58<9:34:17, 179.46s/it]"
     ]
    },
    {
     "name": "stdout",
     "output_type": "stream",
     "text": [
      "007 -1.321e+01 -8.311e+00 \n"
     ]
    },
    {
     "name": "stderr",
     "output_type": "stream",
     "text": [
      "  4%|▍         | 9/200 [26:57<9:31:07, 179.41s/it]"
     ]
    },
    {
     "name": "stdout",
     "output_type": "stream",
     "text": [
      "008 -1.326e+01 -7.781e+00 \n"
     ]
    },
    {
     "name": "stderr",
     "output_type": "stream",
     "text": [
      "  5%|▌         | 10/200 [29:56<9:28:07, 179.41s/it]"
     ]
    },
    {
     "name": "stdout",
     "output_type": "stream",
     "text": [
      "009 -1.344e+01 -7.453e+00 \n"
     ]
    },
    {
     "name": "stderr",
     "output_type": "stream",
     "text": [
      "  6%|▌         | 11/200 [32:56<9:25:00, 179.37s/it]"
     ]
    },
    {
     "name": "stdout",
     "output_type": "stream",
     "text": [
      "010 -1.350e+01 -6.084e+00 \n"
     ]
    },
    {
     "name": "stderr",
     "output_type": "stream",
     "text": [
      "  6%|▌         | 12/200 [35:55<9:22:08, 179.41s/it]"
     ]
    },
    {
     "name": "stdout",
     "output_type": "stream",
     "text": [
      "011 -1.349e+01 -1.080e+01 (C) \n"
     ]
    },
    {
     "name": "stderr",
     "output_type": "stream",
     "text": [
      "  6%|▋         | 13/200 [38:55<9:19:15, 179.44s/it]"
     ]
    },
    {
     "name": "stdout",
     "output_type": "stream",
     "text": [
      "012 -1.358e+01 -1.197e+01 (C) \n"
     ]
    },
    {
     "name": "stderr",
     "output_type": "stream",
     "text": [
      "  7%|▋         | 14/200 [41:54<9:16:07, 179.40s/it]"
     ]
    },
    {
     "name": "stdout",
     "output_type": "stream",
     "text": [
      "013 -1.364e+01 -1.002e+01 \n"
     ]
    },
    {
     "name": "stderr",
     "output_type": "stream",
     "text": [
      "  8%|▊         | 15/200 [44:53<9:13:15, 179.44s/it]"
     ]
    },
    {
     "name": "stdout",
     "output_type": "stream",
     "text": [
      "014 -1.366e+01 -1.057e+01 \n"
     ]
    },
    {
     "name": "stderr",
     "output_type": "stream",
     "text": [
      "  8%|▊         | 16/200 [47:53<9:10:06, 179.38s/it]"
     ]
    },
    {
     "name": "stdout",
     "output_type": "stream",
     "text": [
      "015 -1.375e+01 -8.035e+00 \n",
      "016 -1.385e+01 -1.284e+01 "
     ]
    },
    {
     "name": "stderr",
     "output_type": "stream",
     "text": [
      "  8%|▊         | 17/200 [50:52<9:07:20, 179.46s/it]"
     ]
    },
    {
     "name": "stdout",
     "output_type": "stream",
     "text": [
      "(C) \n"
     ]
    },
    {
     "name": "stderr",
     "output_type": "stream",
     "text": [
      "  9%|▉         | 18/200 [53:52<9:04:20, 179.45s/it]"
     ]
    },
    {
     "name": "stdout",
     "output_type": "stream",
     "text": [
      "017 -1.385e+01 -6.334e+00 \n"
     ]
    },
    {
     "name": "stderr",
     "output_type": "stream",
     "text": [
      " 10%|▉         | 19/200 [56:51<9:01:13, 179.41s/it]"
     ]
    },
    {
     "name": "stdout",
     "output_type": "stream",
     "text": [
      "018 -1.395e+01 -1.038e+01 \n"
     ]
    },
    {
     "name": "stderr",
     "output_type": "stream",
     "text": [
      " 10%|█         | 20/200 [59:50<8:58:06, 179.37s/it]"
     ]
    },
    {
     "name": "stdout",
     "output_type": "stream",
     "text": [
      "019 -1.389e+01 -8.088e+00 \n"
     ]
    },
    {
     "name": "stderr",
     "output_type": "stream",
     "text": [
      " 10%|█         | 21/200 [1:02:50<8:55:12, 179.40s/it]"
     ]
    },
    {
     "name": "stdout",
     "output_type": "stream",
     "text": [
      "020 -1.398e+01 -1.069e+01 \n"
     ]
    },
    {
     "name": "stderr",
     "output_type": "stream",
     "text": [
      " 11%|█         | 22/200 [1:05:49<8:52:16, 179.42s/it]"
     ]
    },
    {
     "name": "stdout",
     "output_type": "stream",
     "text": [
      "021 -1.399e+01 -8.339e+00 \n"
     ]
    },
    {
     "name": "stderr",
     "output_type": "stream",
     "text": [
      " 12%|█▏        | 23/200 [1:08:50<8:50:26, 179.81s/it]"
     ]
    },
    {
     "name": "stdout",
     "output_type": "stream",
     "text": [
      "022 -1.407e+01 -8.867e+00 \n"
     ]
    },
    {
     "name": "stderr",
     "output_type": "stream",
     "text": [
      " 12%|█▏        | 24/200 [1:11:49<8:47:02, 179.67s/it]"
     ]
    },
    {
     "name": "stdout",
     "output_type": "stream",
     "text": [
      "023 -1.406e+01 -1.120e+01 \n"
     ]
    },
    {
     "name": "stderr",
     "output_type": "stream",
     "text": [
      " 12%|█▎        | 25/200 [1:14:49<8:43:41, 179.55s/it]"
     ]
    },
    {
     "name": "stdout",
     "output_type": "stream",
     "text": [
      "024 -1.409e+01 -9.393e+00 \n"
     ]
    },
    {
     "name": "stderr",
     "output_type": "stream",
     "text": [
      " 13%|█▎        | 26/200 [1:17:48<8:40:44, 179.56s/it]"
     ]
    },
    {
     "name": "stdout",
     "output_type": "stream",
     "text": [
      "025 -1.423e+01 -1.019e+01 \n"
     ]
    },
    {
     "name": "stderr",
     "output_type": "stream",
     "text": [
      " 14%|█▎        | 27/200 [1:20:48<8:37:29, 179.48s/it]"
     ]
    },
    {
     "name": "stdout",
     "output_type": "stream",
     "text": [
      "026 -1.417e+01 -1.278e+01 \n"
     ]
    },
    {
     "name": "stderr",
     "output_type": "stream",
     "text": [
      " 14%|█▍        | 28/200 [1:23:47<8:34:18, 179.41s/it]"
     ]
    },
    {
     "name": "stdout",
     "output_type": "stream",
     "text": [
      "027 -1.428e+01 -1.237e+01 \n"
     ]
    },
    {
     "name": "stderr",
     "output_type": "stream",
     "text": [
      " 14%|█▍        | 29/200 [1:26:46<8:31:14, 179.38s/it]"
     ]
    },
    {
     "name": "stdout",
     "output_type": "stream",
     "text": [
      "028 -1.593e+01 -1.093e+01 \n"
     ]
    },
    {
     "name": "stderr",
     "output_type": "stream",
     "text": [
      " 15%|█▌        | 30/200 [1:29:45<8:28:09, 179.35s/it]"
     ]
    },
    {
     "name": "stdout",
     "output_type": "stream",
     "text": [
      "029 -1.618e+01 -6.039e+00 \n"
     ]
    },
    {
     "name": "stderr",
     "output_type": "stream",
     "text": [
      " 16%|█▌        | 31/200 [1:32:45<8:25:08, 179.34s/it]"
     ]
    },
    {
     "name": "stdout",
     "output_type": "stream",
     "text": [
      "030 -1.630e+01 -1.165e+01 \n"
     ]
    },
    {
     "name": "stderr",
     "output_type": "stream",
     "text": [
      " 16%|█▌        | 32/200 [1:35:44<8:22:09, 179.34s/it]"
     ]
    },
    {
     "name": "stdout",
     "output_type": "stream",
     "text": [
      "031 -1.649e+01 -9.514e+00 \n"
     ]
    },
    {
     "name": "stderr",
     "output_type": "stream",
     "text": [
      " 16%|█▋        | 33/200 [1:38:43<8:19:11, 179.35s/it]"
     ]
    },
    {
     "name": "stdout",
     "output_type": "stream",
     "text": [
      "032 -1.655e+01 -1.256e+01 \n"
     ]
    },
    {
     "name": "stderr",
     "output_type": "stream",
     "text": [
      " 17%|█▋        | 34/200 [1:41:43<8:16:09, 179.33s/it]"
     ]
    },
    {
     "name": "stdout",
     "output_type": "stream",
     "text": [
      "033 -1.661e+01 -1.014e+01 \n"
     ]
    },
    {
     "name": "stderr",
     "output_type": "stream",
     "text": [
      " 18%|█▊        | 35/200 [1:44:42<8:13:24, 179.42s/it]"
     ]
    },
    {
     "name": "stdout",
     "output_type": "stream",
     "text": [
      "034 -1.665e+01 -1.611e+01 (C) \n"
     ]
    },
    {
     "name": "stderr",
     "output_type": "stream",
     "text": [
      " 18%|█▊        | 36/200 [1:47:42<8:10:21, 179.40s/it]"
     ]
    },
    {
     "name": "stdout",
     "output_type": "stream",
     "text": [
      "035 -1.669e+01 -1.003e+01 \n"
     ]
    },
    {
     "name": "stderr",
     "output_type": "stream",
     "text": [
      " 18%|█▊        | 37/200 [1:50:41<8:07:24, 179.42s/it]"
     ]
    },
    {
     "name": "stdout",
     "output_type": "stream",
     "text": [
      "036 -1.681e+01 -1.374e+01 \n"
     ]
    },
    {
     "name": "stderr",
     "output_type": "stream",
     "text": [
      " 19%|█▉        | 38/200 [1:53:41<8:04:22, 179.40s/it]"
     ]
    },
    {
     "name": "stdout",
     "output_type": "stream",
     "text": [
      "037 -1.684e+01 -8.915e+00 \n"
     ]
    },
    {
     "name": "stderr",
     "output_type": "stream",
     "text": [
      " 20%|█▉        | 39/200 [1:56:40<8:01:18, 179.37s/it]"
     ]
    },
    {
     "name": "stdout",
     "output_type": "stream",
     "text": [
      "038 -1.688e+01 -1.049e+01 \n"
     ]
    },
    {
     "name": "stderr",
     "output_type": "stream",
     "text": [
      " 20%|██        | 40/200 [1:59:39<7:58:16, 179.35s/it]"
     ]
    },
    {
     "name": "stdout",
     "output_type": "stream",
     "text": [
      "039 -1.682e+01 -1.015e+01 \n"
     ]
    },
    {
     "name": "stderr",
     "output_type": "stream",
     "text": [
      " 20%|██        | 41/200 [2:02:39<7:55:23, 179.40s/it]"
     ]
    },
    {
     "name": "stdout",
     "output_type": "stream",
     "text": [
      "040 -1.688e+01 -1.516e+01 \n"
     ]
    },
    {
     "name": "stderr",
     "output_type": "stream",
     "text": [
      " 21%|██        | 42/200 [2:05:38<7:52:15, 179.34s/it]"
     ]
    },
    {
     "name": "stdout",
     "output_type": "stream",
     "text": [
      "041 -1.696e+01 -1.239e+01 \n"
     ]
    },
    {
     "name": "stderr",
     "output_type": "stream",
     "text": [
      " 22%|██▏       | 43/200 [2:08:37<7:49:16, 179.34s/it]"
     ]
    },
    {
     "name": "stdout",
     "output_type": "stream",
     "text": [
      "042 -1.695e+01 -1.473e+01 \n"
     ]
    },
    {
     "name": "stderr",
     "output_type": "stream",
     "text": [
      " 22%|██▏       | 44/200 [2:11:37<7:46:18, 179.35s/it]"
     ]
    },
    {
     "name": "stdout",
     "output_type": "stream",
     "text": [
      "043 -1.693e+01 -1.378e+01 \n"
     ]
    },
    {
     "name": "stderr",
     "output_type": "stream",
     "text": [
      " 22%|██▎       | 45/200 [2:14:36<7:43:22, 179.37s/it]"
     ]
    },
    {
     "name": "stdout",
     "output_type": "stream",
     "text": [
      "044 -1.700e+01 -1.154e+01 \n"
     ]
    },
    {
     "name": "stderr",
     "output_type": "stream",
     "text": [
      " 23%|██▎       | 46/200 [2:17:36<7:40:32, 179.43s/it]"
     ]
    },
    {
     "name": "stdout",
     "output_type": "stream",
     "text": [
      "045 -1.703e+01 -1.498e+01 \n"
     ]
    },
    {
     "name": "stderr",
     "output_type": "stream",
     "text": [
      " 24%|██▎       | 47/200 [2:20:35<7:37:30, 179.41s/it]"
     ]
    },
    {
     "name": "stdout",
     "output_type": "stream",
     "text": [
      "046 -1.798e+01 -1.577e+01 \n",
      "047 -1.810e+01 -1.619e+01 "
     ]
    },
    {
     "name": "stderr",
     "output_type": "stream",
     "text": [
      " 24%|██▍       | 48/200 [2:23:34<7:34:37, 179.46s/it]"
     ]
    },
    {
     "name": "stdout",
     "output_type": "stream",
     "text": [
      "(C) \n"
     ]
    },
    {
     "name": "stderr",
     "output_type": "stream",
     "text": [
      " 24%|██▍       | 49/200 [2:26:34<7:31:50, 179.54s/it]"
     ]
    },
    {
     "name": "stdout",
     "output_type": "stream",
     "text": [
      "048 -1.815e+01 -1.694e+01 (C) \n"
     ]
    },
    {
     "name": "stderr",
     "output_type": "stream",
     "text": [
      " 25%|██▌       | 50/200 [2:29:34<7:28:41, 179.47s/it]"
     ]
    },
    {
     "name": "stdout",
     "output_type": "stream",
     "text": [
      "049 -1.822e+01 -1.524e+01 \n"
     ]
    },
    {
     "name": "stderr",
     "output_type": "stream",
     "text": [
      " 26%|██▌       | 51/200 [2:32:33<7:25:37, 179.45s/it]"
     ]
    },
    {
     "name": "stdout",
     "output_type": "stream",
     "text": [
      "050 -1.832e+01 -1.478e+01 \n"
     ]
    },
    {
     "name": "stderr",
     "output_type": "stream",
     "text": [
      " 26%|██▌       | 52/200 [2:35:32<7:22:33, 179.41s/it]"
     ]
    },
    {
     "name": "stdout",
     "output_type": "stream",
     "text": [
      "051 -1.834e+01 -1.663e+01 \n",
      "052 -1.836e+01 -1.710e+01 "
     ]
    },
    {
     "name": "stderr",
     "output_type": "stream",
     "text": [
      " 26%|██▋       | 53/200 [2:38:32<7:19:42, 179.47s/it]"
     ]
    },
    {
     "name": "stdout",
     "output_type": "stream",
     "text": [
      "(C) \n",
      "053 -1.837e+01 -1.845e+01 "
     ]
    },
    {
     "name": "stderr",
     "output_type": "stream",
     "text": [
      " 27%|██▋       | 54/200 [2:41:31<7:16:47, 179.51s/it]"
     ]
    },
    {
     "name": "stdout",
     "output_type": "stream",
     "text": [
      "(C) \n"
     ]
    },
    {
     "name": "stderr",
     "output_type": "stream",
     "text": [
      " 28%|██▊       | 55/200 [2:44:31<7:13:40, 179.45s/it]"
     ]
    },
    {
     "name": "stdout",
     "output_type": "stream",
     "text": [
      "054 -1.837e+01 -1.489e+01 \n"
     ]
    },
    {
     "name": "stderr",
     "output_type": "stream",
     "text": [
      " 28%|██▊       | 56/200 [2:47:30<7:10:38, 179.44s/it]"
     ]
    },
    {
     "name": "stdout",
     "output_type": "stream",
     "text": [
      "055 -1.843e+01 -1.805e+01 \n"
     ]
    },
    {
     "name": "stderr",
     "output_type": "stream",
     "text": [
      " 28%|██▊       | 57/200 [2:50:29<7:07:34, 179.40s/it]"
     ]
    },
    {
     "name": "stdout",
     "output_type": "stream",
     "text": [
      "056 -1.845e+01 -1.397e+01 \n"
     ]
    },
    {
     "name": "stderr",
     "output_type": "stream",
     "text": [
      " 29%|██▉       | 58/200 [2:53:29<7:04:28, 179.35s/it]"
     ]
    },
    {
     "name": "stdout",
     "output_type": "stream",
     "text": [
      "057 -1.849e+01 -1.396e+01 \n"
     ]
    },
    {
     "name": "stderr",
     "output_type": "stream",
     "text": [
      " 30%|██▉       | 59/200 [2:56:28<7:01:30, 179.37s/it]"
     ]
    },
    {
     "name": "stdout",
     "output_type": "stream",
     "text": [
      "058 -1.852e+01 -1.785e+01 \n"
     ]
    },
    {
     "name": "stderr",
     "output_type": "stream",
     "text": [
      " 30%|███       | 60/200 [2:59:27<6:58:31, 179.37s/it]"
     ]
    },
    {
     "name": "stdout",
     "output_type": "stream",
     "text": [
      "059 -1.855e+01 -1.683e+01 \n"
     ]
    },
    {
     "name": "stderr",
     "output_type": "stream",
     "text": [
      " 30%|███       | 61/200 [3:02:27<6:55:33, 179.38s/it]"
     ]
    },
    {
     "name": "stdout",
     "output_type": "stream",
     "text": [
      "060 -1.856e+01 -1.729e+01 \n"
     ]
    },
    {
     "name": "stderr",
     "output_type": "stream",
     "text": [
      " 31%|███       | 62/200 [3:05:26<6:52:34, 179.38s/it]"
     ]
    },
    {
     "name": "stdout",
     "output_type": "stream",
     "text": [
      "061 -1.860e+01 -1.355e+01 \n"
     ]
    },
    {
     "name": "stderr",
     "output_type": "stream",
     "text": [
      " 32%|███▏      | 63/200 [3:08:26<6:49:38, 179.41s/it]"
     ]
    },
    {
     "name": "stdout",
     "output_type": "stream",
     "text": [
      "062 -1.861e+01 -1.453e+01 \n"
     ]
    },
    {
     "name": "stderr",
     "output_type": "stream",
     "text": [
      " 32%|███▏      | 64/200 [3:11:25<6:46:48, 179.47s/it]"
     ]
    },
    {
     "name": "stdout",
     "output_type": "stream",
     "text": [
      "063 -1.864e+01 -1.628e+01 \n"
     ]
    },
    {
     "name": "stderr",
     "output_type": "stream",
     "text": [
      " 32%|███▎      | 65/200 [3:14:25<6:43:45, 179.45s/it]"
     ]
    },
    {
     "name": "stdout",
     "output_type": "stream",
     "text": [
      "064 -1.866e+01 -1.731e+01 \n"
     ]
    },
    {
     "name": "stderr",
     "output_type": "stream",
     "text": [
      " 33%|███▎      | 66/200 [3:17:24<6:40:42, 179.42s/it]"
     ]
    },
    {
     "name": "stdout",
     "output_type": "stream",
     "text": [
      "065 -1.910e+01 -1.737e+01 \n",
      "066 -1.910e+01 -1.853e+01 "
     ]
    },
    {
     "name": "stderr",
     "output_type": "stream",
     "text": [
      " 34%|███▎      | 67/200 [3:20:24<6:37:49, 179.47s/it]"
     ]
    },
    {
     "name": "stdout",
     "output_type": "stream",
     "text": [
      "(C) \n"
     ]
    },
    {
     "name": "stderr",
     "output_type": "stream",
     "text": [
      " 34%|███▍      | 68/200 [3:23:23<6:34:41, 179.40s/it]"
     ]
    },
    {
     "name": "stdout",
     "output_type": "stream",
     "text": [
      "067 -1.913e+01 -1.732e+01 \n"
     ]
    },
    {
     "name": "stderr",
     "output_type": "stream",
     "text": [
      " 34%|███▍      | 69/200 [3:26:22<6:31:38, 179.38s/it]"
     ]
    },
    {
     "name": "stdout",
     "output_type": "stream",
     "text": [
      "068 -1.918e+01 -1.818e+01 \n"
     ]
    },
    {
     "name": "stderr",
     "output_type": "stream",
     "text": [
      " 35%|███▌      | 70/200 [3:29:22<6:28:34, 179.34s/it]"
     ]
    },
    {
     "name": "stdout",
     "output_type": "stream",
     "text": [
      "069 -1.921e+01 -1.762e+01 \n"
     ]
    },
    {
     "name": "stderr",
     "output_type": "stream",
     "text": [
      " 36%|███▌      | 71/200 [3:32:21<6:25:31, 179.32s/it]"
     ]
    },
    {
     "name": "stdout",
     "output_type": "stream",
     "text": [
      "070 -1.919e+01 -1.586e+01 \n"
     ]
    },
    {
     "name": "stderr",
     "output_type": "stream",
     "text": [
      " 36%|███▌      | 72/200 [3:35:20<6:22:29, 179.30s/it]"
     ]
    },
    {
     "name": "stdout",
     "output_type": "stream",
     "text": [
      "071 -1.921e+01 -1.813e+01 \n"
     ]
    },
    {
     "name": "stderr",
     "output_type": "stream",
     "text": [
      " 36%|███▋      | 73/200 [3:38:19<6:19:30, 179.29s/it]"
     ]
    },
    {
     "name": "stdout",
     "output_type": "stream",
     "text": [
      "072 -1.926e+01 -1.802e+01 \n"
     ]
    },
    {
     "name": "stderr",
     "output_type": "stream",
     "text": [
      " 37%|███▋      | 74/200 [3:41:19<6:16:32, 179.31s/it]"
     ]
    },
    {
     "name": "stdout",
     "output_type": "stream",
     "text": [
      "073 -1.926e+01 -1.756e+01 \n"
     ]
    },
    {
     "name": "stderr",
     "output_type": "stream",
     "text": [
      " 38%|███▊      | 75/200 [3:44:18<6:13:39, 179.36s/it]"
     ]
    },
    {
     "name": "stdout",
     "output_type": "stream",
     "text": [
      "074 -1.925e+01 -1.851e+01 \n"
     ]
    },
    {
     "name": "stderr",
     "output_type": "stream",
     "text": [
      " 38%|███▊      | 76/200 [3:47:18<6:10:41, 179.36s/it]"
     ]
    },
    {
     "name": "stdout",
     "output_type": "stream",
     "text": [
      "075 -1.929e+01 -1.841e+01 \n"
     ]
    },
    {
     "name": "stderr",
     "output_type": "stream",
     "text": [
      " 38%|███▊      | 77/200 [3:50:17<6:07:40, 179.36s/it]"
     ]
    },
    {
     "name": "stdout",
     "output_type": "stream",
     "text": [
      "076 -1.928e+01 -1.821e+01 \n"
     ]
    },
    {
     "name": "stderr",
     "output_type": "stream",
     "text": [
      " 39%|███▉      | 78/200 [3:53:16<6:04:40, 179.35s/it]"
     ]
    },
    {
     "name": "stdout",
     "output_type": "stream",
     "text": [
      "077 -1.933e+01 -1.645e+01 \n"
     ]
    },
    {
     "name": "stderr",
     "output_type": "stream",
     "text": [
      " 40%|███▉      | 79/200 [3:56:15<6:01:37, 179.32s/it]"
     ]
    },
    {
     "name": "stdout",
     "output_type": "stream",
     "text": [
      "078 -1.941e+01 -1.826e+01 \n"
     ]
    },
    {
     "name": "stderr",
     "output_type": "stream",
     "text": [
      " 40%|████      | 80/200 [3:59:15<5:58:39, 179.33s/it]"
     ]
    },
    {
     "name": "stdout",
     "output_type": "stream",
     "text": [
      "079 -1.945e+01 -1.848e+01 \n"
     ]
    },
    {
     "name": "stderr",
     "output_type": "stream",
     "text": [
      " 40%|████      | 81/200 [4:02:14<5:55:47, 179.39s/it]"
     ]
    },
    {
     "name": "stdout",
     "output_type": "stream",
     "text": [
      "080 -1.950e+01 -1.872e+01 (C) \n",
      "081 -1.950e+01 -1.877e+01 "
     ]
    },
    {
     "name": "stderr",
     "output_type": "stream",
     "text": [
      " 41%|████      | 82/200 [4:05:14<5:52:53, 179.43s/it]"
     ]
    },
    {
     "name": "stdout",
     "output_type": "stream",
     "text": [
      "(C) \n"
     ]
    },
    {
     "name": "stderr",
     "output_type": "stream",
     "text": [
      " 42%|████▏     | 83/200 [4:08:13<5:49:50, 179.40s/it]"
     ]
    },
    {
     "name": "stdout",
     "output_type": "stream",
     "text": [
      "082 -1.945e+01 -1.846e+01 \n"
     ]
    },
    {
     "name": "stderr",
     "output_type": "stream",
     "text": [
      " 42%|████▏     | 84/200 [4:11:12<5:46:45, 179.36s/it]"
     ]
    },
    {
     "name": "stdout",
     "output_type": "stream",
     "text": [
      "083 -1.946e+01 -1.775e+01 \n"
     ]
    },
    {
     "name": "stderr",
     "output_type": "stream",
     "text": [
      " 42%|████▎     | 85/200 [4:14:12<5:43:46, 179.36s/it]"
     ]
    },
    {
     "name": "stdout",
     "output_type": "stream",
     "text": [
      "084 -1.950e+01 -1.874e+01 \n"
     ]
    },
    {
     "name": "stderr",
     "output_type": "stream",
     "text": [
      " 43%|████▎     | 86/200 [4:17:11<5:40:46, 179.35s/it]"
     ]
    },
    {
     "name": "stdout",
     "output_type": "stream",
     "text": [
      "085 -1.949e+01 -1.857e+01 \n"
     ]
    },
    {
     "name": "stderr",
     "output_type": "stream",
     "text": [
      " 44%|████▎     | 87/200 [4:20:10<5:37:46, 179.35s/it]"
     ]
    },
    {
     "name": "stdout",
     "output_type": "stream",
     "text": [
      "086 -1.951e+01 -1.847e+01 \n"
     ]
    },
    {
     "name": "stderr",
     "output_type": "stream",
     "text": [
      " 44%|████▍     | 88/200 [4:23:10<5:34:44, 179.33s/it]"
     ]
    },
    {
     "name": "stdout",
     "output_type": "stream",
     "text": [
      "087 -1.950e+01 -1.857e+01 \n"
     ]
    },
    {
     "name": "stderr",
     "output_type": "stream",
     "text": [
      " 44%|████▍     | 89/200 [4:26:09<5:31:44, 179.32s/it]"
     ]
    },
    {
     "name": "stdout",
     "output_type": "stream",
     "text": [
      "088 -1.949e+01 -1.818e+01 \n"
     ]
    },
    {
     "name": "stderr",
     "output_type": "stream",
     "text": [
      " 45%|████▌     | 90/200 [4:29:08<5:28:44, 179.32s/it]"
     ]
    },
    {
     "name": "stdout",
     "output_type": "stream",
     "text": [
      "089 -1.948e+01 -1.836e+01 \n"
     ]
    },
    {
     "name": "stderr",
     "output_type": "stream",
     "text": [
      " 46%|████▌     | 91/200 [4:32:08<5:25:45, 179.32s/it]"
     ]
    },
    {
     "name": "stdout",
     "output_type": "stream",
     "text": [
      "090 -1.953e+01 -1.846e+01 \n"
     ]
    },
    {
     "name": "stderr",
     "output_type": "stream",
     "text": [
      " 46%|████▌     | 92/200 [4:35:07<5:22:47, 179.33s/it]"
     ]
    },
    {
     "name": "stdout",
     "output_type": "stream",
     "text": [
      "091 -1.950e+01 -1.757e+01 \n"
     ]
    },
    {
     "name": "stderr",
     "output_type": "stream",
     "text": [
      " 46%|████▋     | 93/200 [4:38:06<5:19:47, 179.32s/it]"
     ]
    },
    {
     "name": "stdout",
     "output_type": "stream",
     "text": [
      "092 -1.957e+01 -1.844e+01 \n"
     ]
    },
    {
     "name": "stderr",
     "output_type": "stream",
     "text": [
      " 47%|████▋     | 94/200 [4:41:06<5:16:47, 179.32s/it]"
     ]
    },
    {
     "name": "stdout",
     "output_type": "stream",
     "text": [
      "093 -1.959e+01 -1.846e+01 \n"
     ]
    },
    {
     "name": "stderr",
     "output_type": "stream",
     "text": [
      " 48%|████▊     | 95/200 [4:44:05<5:13:50, 179.34s/it]"
     ]
    },
    {
     "name": "stdout",
     "output_type": "stream",
     "text": [
      "094 -1.958e+01 -1.850e+01 \n"
     ]
    },
    {
     "name": "stderr",
     "output_type": "stream",
     "text": [
      " 48%|████▊     | 96/200 [4:47:04<5:10:50, 179.33s/it]"
     ]
    },
    {
     "name": "stdout",
     "output_type": "stream",
     "text": [
      "095 -1.962e+01 -1.850e+01 \n"
     ]
    },
    {
     "name": "stderr",
     "output_type": "stream",
     "text": [
      " 48%|████▊     | 97/200 [4:50:04<5:07:48, 179.31s/it]"
     ]
    },
    {
     "name": "stdout",
     "output_type": "stream",
     "text": [
      "096 -1.963e+01 -1.844e+01 \n"
     ]
    },
    {
     "name": "stderr",
     "output_type": "stream",
     "text": [
      " 49%|████▉     | 98/200 [4:53:03<5:04:49, 179.31s/it]"
     ]
    },
    {
     "name": "stdout",
     "output_type": "stream",
     "text": [
      "097 -1.960e+01 -1.853e+01 \n"
     ]
    },
    {
     "name": "stderr",
     "output_type": "stream",
     "text": [
      " 50%|████▉     | 99/200 [4:56:04<5:02:31, 179.72s/it]"
     ]
    },
    {
     "name": "stdout",
     "output_type": "stream",
     "text": [
      "098 -1.962e+01 -1.822e+01 \n"
     ]
    },
    {
     "name": "stderr",
     "output_type": "stream",
     "text": [
      " 50%|█████     | 100/200 [4:59:03<4:59:20, 179.61s/it]"
     ]
    },
    {
     "name": "stdout",
     "output_type": "stream",
     "text": [
      "099 -1.958e+01 -1.830e+01 \n"
     ]
    },
    {
     "name": "stderr",
     "output_type": "stream",
     "text": [
      " 50%|█████     | 101/200 [5:02:02<4:56:12, 179.52s/it]"
     ]
    },
    {
     "name": "stdout",
     "output_type": "stream",
     "text": [
      "100 -1.956e+01 -1.859e+01 \n"
     ]
    },
    {
     "name": "stderr",
     "output_type": "stream",
     "text": [
      " 51%|█████     | 102/200 [5:05:02<4:53:08, 179.47s/it]"
     ]
    },
    {
     "name": "stdout",
     "output_type": "stream",
     "text": [
      "101 -1.961e+01 -1.808e+01 \n"
     ]
    },
    {
     "name": "stderr",
     "output_type": "stream",
     "text": [
      " 52%|█████▏    | 103/200 [5:08:01<4:50:08, 179.47s/it]"
     ]
    },
    {
     "name": "stdout",
     "output_type": "stream",
     "text": [
      "102 -1.959e+01 -1.862e+01 \n"
     ]
    },
    {
     "name": "stderr",
     "output_type": "stream",
     "text": [
      " 52%|█████▏    | 104/200 [5:11:00<4:47:06, 179.45s/it]"
     ]
    },
    {
     "name": "stdout",
     "output_type": "stream",
     "text": [
      "103 -1.961e+01 -1.846e+01 \n"
     ]
    },
    {
     "name": "stderr",
     "output_type": "stream",
     "text": [
      " 52%|█████▎    | 105/200 [5:14:01<4:44:41, 179.81s/it]"
     ]
    },
    {
     "name": "stdout",
     "output_type": "stream",
     "text": [
      "104 -1.966e+01 -1.829e+01 \n"
     ]
    },
    {
     "name": "stderr",
     "output_type": "stream",
     "text": [
      " 53%|█████▎    | 106/200 [5:17:00<4:41:28, 179.66s/it]"
     ]
    },
    {
     "name": "stdout",
     "output_type": "stream",
     "text": [
      "105 -1.962e+01 -1.848e+01 \n"
     ]
    },
    {
     "name": "stderr",
     "output_type": "stream",
     "text": [
      " 54%|█████▎    | 107/200 [5:20:00<4:38:19, 179.56s/it]"
     ]
    },
    {
     "name": "stdout",
     "output_type": "stream",
     "text": [
      "106 -1.962e+01 -1.852e+01 \n"
     ]
    },
    {
     "name": "stderr",
     "output_type": "stream",
     "text": [
      " 54%|█████▍    | 108/200 [5:22:59<4:35:12, 179.49s/it]"
     ]
    },
    {
     "name": "stdout",
     "output_type": "stream",
     "text": [
      "107 -1.963e+01 -1.850e+01 \n"
     ]
    },
    {
     "name": "stderr",
     "output_type": "stream",
     "text": [
      " 55%|█████▍    | 109/200 [5:25:58<4:32:10, 179.46s/it]"
     ]
    },
    {
     "name": "stdout",
     "output_type": "stream",
     "text": [
      "108 -1.965e+01 -1.858e+01 \n"
     ]
    },
    {
     "name": "stderr",
     "output_type": "stream",
     "text": [
      " 55%|█████▌    | 110/200 [5:28:58<4:29:06, 179.41s/it]"
     ]
    },
    {
     "name": "stdout",
     "output_type": "stream",
     "text": [
      "109 -1.964e+01 -1.838e+01 \n"
     ]
    },
    {
     "name": "stderr",
     "output_type": "stream",
     "text": [
      " 56%|█████▌    | 111/200 [5:31:57<4:26:05, 179.39s/it]"
     ]
    },
    {
     "name": "stdout",
     "output_type": "stream",
     "text": [
      "110 -1.958e+01 -1.837e+01 \n"
     ]
    },
    {
     "name": "stderr",
     "output_type": "stream",
     "text": [
      " 56%|█████▌    | 112/200 [5:34:56<4:23:03, 179.35s/it]"
     ]
    },
    {
     "name": "stdout",
     "output_type": "stream",
     "text": [
      "111 -1.964e+01 -1.832e+01 \n"
     ]
    },
    {
     "name": "stderr",
     "output_type": "stream",
     "text": [
      " 56%|█████▋    | 113/200 [5:37:56<4:20:02, 179.34s/it]"
     ]
    },
    {
     "name": "stdout",
     "output_type": "stream",
     "text": [
      "112 -1.966e+01 -1.851e+01 \n"
     ]
    },
    {
     "name": "stderr",
     "output_type": "stream",
     "text": [
      " 57%|█████▋    | 114/200 [5:40:55<4:17:04, 179.36s/it]"
     ]
    },
    {
     "name": "stdout",
     "output_type": "stream",
     "text": [
      "113 -1.964e+01 -1.844e+01 \n"
     ]
    },
    {
     "name": "stderr",
     "output_type": "stream",
     "text": [
      " 57%|█████▊    | 115/200 [5:43:54<4:14:04, 179.34s/it]"
     ]
    },
    {
     "name": "stdout",
     "output_type": "stream",
     "text": [
      "114 -1.962e+01 -1.841e+01 \n"
     ]
    },
    {
     "name": "stderr",
     "output_type": "stream",
     "text": [
      " 58%|█████▊    | 116/200 [5:46:54<4:11:06, 179.36s/it]"
     ]
    },
    {
     "name": "stdout",
     "output_type": "stream",
     "text": [
      "115 -1.965e+01 -1.848e+01 \n"
     ]
    },
    {
     "name": "stderr",
     "output_type": "stream",
     "text": [
      " 58%|█████▊    | 117/200 [5:49:53<4:08:05, 179.34s/it]"
     ]
    },
    {
     "name": "stdout",
     "output_type": "stream",
     "text": [
      "116 -1.964e+01 -1.848e+01 \n"
     ]
    },
    {
     "name": "stderr",
     "output_type": "stream",
     "text": [
      " 59%|█████▉    | 118/200 [5:52:52<4:05:05, 179.34s/it]"
     ]
    },
    {
     "name": "stdout",
     "output_type": "stream",
     "text": [
      "117 -1.966e+01 -1.859e+01 \n"
     ]
    },
    {
     "name": "stderr",
     "output_type": "stream",
     "text": [
      " 60%|█████▉    | 119/200 [5:55:52<4:02:07, 179.36s/it]"
     ]
    },
    {
     "name": "stdout",
     "output_type": "stream",
     "text": [
      "118 -1.964e+01 -1.829e+01 \n"
     ]
    },
    {
     "name": "stderr",
     "output_type": "stream",
     "text": [
      " 60%|██████    | 120/200 [5:58:53<3:59:46, 179.84s/it]"
     ]
    },
    {
     "name": "stdout",
     "output_type": "stream",
     "text": [
      "119 -1.966e+01 -1.846e+01 \n"
     ]
    },
    {
     "name": "stderr",
     "output_type": "stream",
     "text": [
      " 60%|██████    | 121/200 [6:01:52<3:56:33, 179.66s/it]"
     ]
    },
    {
     "name": "stdout",
     "output_type": "stream",
     "text": [
      "120 -1.963e+01 -1.844e+01 \n"
     ]
    },
    {
     "name": "stderr",
     "output_type": "stream",
     "text": [
      " 61%|██████    | 122/200 [6:04:51<3:53:26, 179.57s/it]"
     ]
    },
    {
     "name": "stdout",
     "output_type": "stream",
     "text": [
      "121 -1.964e+01 -1.832e+01 \n"
     ]
    },
    {
     "name": "stderr",
     "output_type": "stream",
     "text": [
      " 62%|██████▏   | 123/200 [6:07:51<3:50:20, 179.48s/it]"
     ]
    },
    {
     "name": "stdout",
     "output_type": "stream",
     "text": [
      "122 -1.960e+01 -1.835e+01 \n"
     ]
    },
    {
     "name": "stderr",
     "output_type": "stream",
     "text": [
      " 62%|██████▏   | 124/200 [6:10:50<3:47:17, 179.44s/it]"
     ]
    },
    {
     "name": "stdout",
     "output_type": "stream",
     "text": [
      "123 -1.966e+01 -1.848e+01 \n"
     ]
    },
    {
     "name": "stderr",
     "output_type": "stream",
     "text": [
      " 62%|██████▎   | 125/200 [6:13:49<3:44:15, 179.41s/it]"
     ]
    },
    {
     "name": "stdout",
     "output_type": "stream",
     "text": [
      "124 -1.962e+01 -1.839e+01 \n"
     ]
    },
    {
     "name": "stderr",
     "output_type": "stream",
     "text": [
      " 63%|██████▎   | 126/200 [6:16:49<3:41:14, 179.38s/it]"
     ]
    },
    {
     "name": "stdout",
     "output_type": "stream",
     "text": [
      "125 -1.961e+01 -1.845e+01 \n"
     ]
    },
    {
     "name": "stderr",
     "output_type": "stream",
     "text": [
      " 64%|██████▎   | 127/200 [6:19:48<3:38:13, 179.36s/it]"
     ]
    },
    {
     "name": "stdout",
     "output_type": "stream",
     "text": [
      "126 -1.959e+01 -1.839e+01 \n"
     ]
    },
    {
     "name": "stderr",
     "output_type": "stream",
     "text": [
      " 64%|██████▍   | 128/200 [6:22:47<3:35:15, 179.39s/it]"
     ]
    },
    {
     "name": "stdout",
     "output_type": "stream",
     "text": [
      "127 -1.960e+01 -1.843e+01 \n"
     ]
    },
    {
     "name": "stderr",
     "output_type": "stream",
     "text": [
      " 64%|██████▍   | 128/200 [6:24:06<3:36:03, 180.05s/it]\n"
     ]
    },
    {
     "ename": "KeyboardInterrupt",
     "evalue": "",
     "output_type": "error",
     "traceback": [
      "\u001b[0;31m---------------------------------------------------------------------------\u001b[0m",
      "\u001b[0;31mKeyboardInterrupt\u001b[0m                         Traceback (most recent call last)",
      "\u001b[1;32m/home/jingyue/CMD/CMD_training.ipynb Cell 19\u001b[0m line \u001b[0;36m2\n\u001b[1;32m     <a href='vscode-notebook-cell://ssh-remote%2Blaregencia/home/jingyue/CMD/CMD_training.ipynb#X31sdnNjb2RlLXJlbW90ZQ%3D%3D?line=21'>22</a>\u001b[0m points      \u001b[39m+\u001b[39m\u001b[39m=\u001b[39m bs\n\u001b[1;32m     <a href='vscode-notebook-cell://ssh-remote%2Blaregencia/home/jingyue/CMD/CMD_training.ipynb#X31sdnNjb2RlLXJlbW90ZQ%3D%3D?line=22'>23</a>\u001b[0m optimizer\u001b[39m.\u001b[39mzero_grad()\n\u001b[0;32m---> <a href='vscode-notebook-cell://ssh-remote%2Blaregencia/home/jingyue/CMD/CMD_training.ipynb#X31sdnNjb2RlLXJlbW90ZQ%3D%3D?line=23'>24</a>\u001b[0m loss\u001b[39m.\u001b[39;49mbackward()\n\u001b[1;32m     <a href='vscode-notebook-cell://ssh-remote%2Blaregencia/home/jingyue/CMD/CMD_training.ipynb#X31sdnNjb2RlLXJlbW90ZQ%3D%3D?line=24'>25</a>\u001b[0m optimizer\u001b[39m.\u001b[39mstep()\n\u001b[1;32m     <a href='vscode-notebook-cell://ssh-remote%2Blaregencia/home/jingyue/CMD/CMD_training.ipynb#X31sdnNjb2RlLXJlbW90ZQ%3D%3D?line=26'>27</a>\u001b[0m \u001b[39m#if points>18000:  break\u001b[39;00m\n",
      "File \u001b[0;32m~/anaconda3/envs/ce2/lib/python3.8/site-packages/torch/_tensor.py:396\u001b[0m, in \u001b[0;36mTensor.backward\u001b[0;34m(self, gradient, retain_graph, create_graph, inputs)\u001b[0m\n\u001b[1;32m    387\u001b[0m \u001b[39mif\u001b[39;00m has_torch_function_unary(\u001b[39mself\u001b[39m):\n\u001b[1;32m    388\u001b[0m     \u001b[39mreturn\u001b[39;00m handle_torch_function(\n\u001b[1;32m    389\u001b[0m         Tensor\u001b[39m.\u001b[39mbackward,\n\u001b[1;32m    390\u001b[0m         (\u001b[39mself\u001b[39m,),\n\u001b[0;32m   (...)\u001b[0m\n\u001b[1;32m    394\u001b[0m         create_graph\u001b[39m=\u001b[39mcreate_graph,\n\u001b[1;32m    395\u001b[0m         inputs\u001b[39m=\u001b[39minputs)\n\u001b[0;32m--> 396\u001b[0m torch\u001b[39m.\u001b[39;49mautograd\u001b[39m.\u001b[39;49mbackward(\u001b[39mself\u001b[39;49m, gradient, retain_graph, create_graph, inputs\u001b[39m=\u001b[39;49minputs)\n",
      "File \u001b[0;32m~/anaconda3/envs/ce2/lib/python3.8/site-packages/torch/autograd/__init__.py:173\u001b[0m, in \u001b[0;36mbackward\u001b[0;34m(tensors, grad_tensors, retain_graph, create_graph, grad_variables, inputs)\u001b[0m\n\u001b[1;32m    168\u001b[0m     retain_graph \u001b[39m=\u001b[39m create_graph\n\u001b[1;32m    170\u001b[0m \u001b[39m# The reason we repeat same the comment below is that\u001b[39;00m\n\u001b[1;32m    171\u001b[0m \u001b[39m# some Python versions print out the first line of a multi-line function\u001b[39;00m\n\u001b[1;32m    172\u001b[0m \u001b[39m# calls in the traceback and some print out the last line\u001b[39;00m\n\u001b[0;32m--> 173\u001b[0m Variable\u001b[39m.\u001b[39;49m_execution_engine\u001b[39m.\u001b[39;49mrun_backward(  \u001b[39m# Calls into the C++ engine to run the backward pass\u001b[39;49;00m\n\u001b[1;32m    174\u001b[0m     tensors, grad_tensors_, retain_graph, create_graph, inputs,\n\u001b[1;32m    175\u001b[0m     allow_unreachable\u001b[39m=\u001b[39;49m\u001b[39mTrue\u001b[39;49;00m, accumulate_grad\u001b[39m=\u001b[39;49m\u001b[39mTrue\u001b[39;49;00m)\n",
      "\u001b[0;31mKeyboardInterrupt\u001b[0m: "
     ]
    }
   ],
   "source": [
    "from tqdm import tqdm\n",
    "# do a loop over all epochs\n",
    "start = time.time()\n",
    "for epoch in tqdm(range(epochs)):\n",
    "\n",
    "    # do training\n",
    "    train_loss1, train_loss2 = torch.zeros(len(g)).to(device), torch.zeros(len(g)).to(device)\n",
    "    train_loss, points = 0.0, 0\n",
    "    model.train()\n",
    "    for x, y in train_loader:\n",
    "        bs   = x.shape[0]         #batch size\n",
    "        x    = x.to(device)       #maps\n",
    "        y    = y.to(device)[:,g]  #parameters\n",
    "        p    = model(x)           #NN output\n",
    "        y_NN = p[:,g]             #posterior mean\n",
    "        e_NN = p[:,h]             #posterior std\n",
    "        loss1 = torch.mean((y_NN - y)**2,                axis=0)\n",
    "        loss2 = torch.mean(((y_NN - y)**2 - e_NN**2)**2, axis=0)\n",
    "        loss  = torch.mean(torch.log(loss1) + torch.log(loss2))\n",
    "        train_loss1 += loss1*bs\n",
    "        train_loss2 += loss2*bs\n",
    "        points      += bs\n",
    "        optimizer.zero_grad()\n",
    "        loss.backward()\n",
    "        optimizer.step()\n",
    "\n",
    "        #if points>18000:  break\n",
    "    train_loss = torch.log(train_loss1/points) + torch.log(train_loss2/points)\n",
    "    train_loss = torch.mean(train_loss).item()\n",
    "\n",
    "    # do validation: cosmo alone & all params\n",
    "    valid_loss1, valid_loss2 = torch.zeros(len(g)).to(device), torch.zeros(len(g)).to(device)\n",
    "    valid_loss, points = 0.0, 0\n",
    "    model.eval()\n",
    "    for x, y in valid_loader:\n",
    "        with torch.no_grad():\n",
    "            bs    = x.shape[0]         #batch size\n",
    "            x     = x.to(device)       #maps\n",
    "            y     = y.to(device)[:,g]  #parameters\n",
    "            p     = model(x)           #NN output\n",
    "            y_NN  = p[:,g]             #posterior mean\n",
    "            e_NN  = p[:,h]             #posterior std\n",
    "            loss1 = torch.mean((y_NN - y)**2,                axis=0)\n",
    "            loss2 = torch.mean(((y_NN - y)**2 - e_NN**2)**2, axis=0)\n",
    "            loss  = torch.mean(torch.log(loss1) + torch.log(loss2))\n",
    "            valid_loss1 += loss1*bs\n",
    "            valid_loss2 += loss2*bs\n",
    "            points     += bs\n",
    "    valid_loss = torch.log(valid_loss1/points) + torch.log(valid_loss2/points)\n",
    "    valid_loss = torch.mean(valid_loss).item()\n",
    "\n",
    "    scheduler.step(valid_loss)\n",
    "\n",
    "    # verbose\n",
    "    print('%03d %.3e %.3e '%(epoch, train_loss, valid_loss), end='')\n",
    "\n",
    "    # save model if it is better\n",
    "    if valid_loss<min_valid_loss:\n",
    "        torch.save(model.state_dict(), fmodel)\n",
    "        min_valid_loss = valid_loss\n",
    "        print('(C) ', end='')\n",
    "    print('')\n",
    "\n",
    "    # save losses to file\n",
    "    f = open(floss, 'a')\n",
    "    f.write('%d %.5e %.5e\\n'%(epoch, train_loss, valid_loss))\n",
    "    f.close()\n",
    "\n",
    "stop = time.time()\n",
    "print('Time take (h):', \"{:.4f}\".format((stop-start)/3600.0))"
   ]
  },
  {
   "cell_type": "markdown",
   "metadata": {
    "id": "kJh7kM4vmye5"
   },
   "source": [
    "\n",
    "\n",
    "\n",
    "### Now test the model"
   ]
  },
  {
   "cell_type": "code",
   "execution_count": 28,
   "metadata": {
    "colab": {
     "base_uri": "https://localhost:8080/"
    },
    "executionInfo": {
     "elapsed": 142,
     "status": "ok",
     "timestamp": 1696449043252,
     "user": {
      "displayName": "Jingyue Huang",
      "userId": "10711135304644079745"
     },
     "user_tz": 240
    },
    "id": "RYIhDeVH5fWs",
    "outputId": "74c7185e-41b4-4fae-977b-5b262971d86e"
   },
   "outputs": [
    {
     "name": "stdout",
     "output_type": "stream",
     "text": [
      "Weights loaded\n"
     ]
    }
   ],
   "source": [
    "# load the weights in case they exists\n",
    "# fmodel = 'best_weights_T_SIMBA.pt'\n",
    "fmodel = 'layer20_TNG_1param_norm/weights.pt'\n",
    "if os.path.exists(fmodel):\n",
    "    model.load_state_dict(torch.load(fmodel, map_location=torch.device(device)))\n",
    "    print('Weights loaded')"
   ]
  },
  {
   "cell_type": "code",
   "execution_count": 118,
   "metadata": {},
   "outputs": [
    {
     "name": "stdout",
     "output_type": "stream",
     "text": [
      "Weights loaded\n"
     ]
    }
   ],
   "source": [
    "# load the weights in case they exists\n",
    "if os.path.exists(fweights):\n",
    "    model.load_state_dict(torch.load(fweights, map_location=torch.device(device)))\n",
    "    print('Weights loaded')"
   ]
  },
  {
   "cell_type": "code",
   "execution_count": 16,
   "metadata": {
    "colab": {
     "base_uri": "https://localhost:8080/"
    },
    "executionInfo": {
     "elapsed": 20672,
     "status": "ok",
     "timestamp": 1696449090690,
     "user": {
      "displayName": "Jingyue Huang",
      "userId": "10711135304644079745"
     },
     "user_tz": 240
    },
    "id": "fYndRfrpkt1p",
    "outputId": "9bec2cbe-b0a9-4a19-9f69-b09d5cb22c1d"
   },
   "outputs": [
    {
     "name": "stdout",
     "output_type": "stream",
     "text": [
      "750\n"
     ]
    },
    {
     "name": "stdout",
     "output_type": "stream",
     "text": [
      "Found 1 channels\n",
      "Reading data...\n",
      "2.215e+02 < F(all|orig) < 2.772e+11\n",
      "2.345 < F(all|resc)  < 11.443\n",
      "-2.708 < F(all|norm) < 4.815\n",
      "\n",
      "Number of maps in the test set: 750\n"
     ]
    },
    {
     "name": "stderr",
     "output_type": "stream",
     "text": [
      "  1%|          | 1/100 [00:00<00:48,  2.06it/s]"
     ]
    },
    {
     "name": "stdout",
     "output_type": "stream",
     "text": [
      "Test loss = -1.358e+00\n",
      "\n",
      "Normalized Error Omega_m = 0.751\n",
      "Normalized Error sigma_8 = 0.592\n",
      "Error Omega_m = 0.300\n",
      "Error sigma_8 = 0.237\n",
      "Bayesian error Omega_m = 0.010\n",
      "Bayesian error sigma_8 = 0.013\n",
      "Relative error Omega_m = 1.582\n",
      "Relative error sigma_8 = 0.350\n",
      "R^2: -2.0269728794891133\n"
     ]
    },
    {
     "name": "stderr",
     "output_type": "stream",
     "text": [
      "  2%|▏         | 2/100 [00:00<00:45,  2.17it/s]"
     ]
    },
    {
     "name": "stdout",
     "output_type": "stream",
     "text": [
      "Test loss = -1.357e+00\n",
      "\n",
      "Normalized Error Omega_m = 0.751\n",
      "Normalized Error sigma_8 = 0.591\n",
      "Error Omega_m = 0.300\n",
      "Error sigma_8 = 0.237\n",
      "Bayesian error Omega_m = 0.010\n",
      "Bayesian error sigma_8 = 0.013\n",
      "Relative error Omega_m = 1.582\n",
      "Relative error sigma_8 = 0.350\n",
      "R^2: -3.2768030649582984\n"
     ]
    },
    {
     "name": "stderr",
     "output_type": "stream",
     "text": [
      "  3%|▎         | 3/100 [00:01<00:43,  2.21it/s]"
     ]
    },
    {
     "name": "stdout",
     "output_type": "stream",
     "text": [
      "Test loss = -1.349e+00\n",
      "\n",
      "Normalized Error Omega_m = 0.750\n",
      "Normalized Error sigma_8 = 0.592\n",
      "Error Omega_m = 0.300\n",
      "Error sigma_8 = 0.237\n",
      "Bayesian error Omega_m = 0.010\n",
      "Bayesian error sigma_8 = 0.013\n",
      "Relative error Omega_m = 1.581\n",
      "Relative error sigma_8 = 0.350\n",
      "R^2: -2.4294437498226436\n"
     ]
    },
    {
     "name": "stderr",
     "output_type": "stream",
     "text": [
      "  4%|▍         | 4/100 [00:01<00:43,  2.23it/s]"
     ]
    },
    {
     "name": "stdout",
     "output_type": "stream",
     "text": [
      "Test loss = -1.337e+00\n",
      "\n",
      "Normalized Error Omega_m = 0.749\n",
      "Normalized Error sigma_8 = 0.595\n",
      "Error Omega_m = 0.300\n",
      "Error sigma_8 = 0.238\n",
      "Bayesian error Omega_m = 0.010\n",
      "Bayesian error sigma_8 = 0.013\n",
      "Relative error Omega_m = 1.579\n",
      "Relative error sigma_8 = 0.352\n",
      "R^2: -2.87019070003093\n"
     ]
    },
    {
     "name": "stderr",
     "output_type": "stream",
     "text": [
      "  5%|▌         | 5/100 [00:02<00:42,  2.23it/s]"
     ]
    },
    {
     "name": "stdout",
     "output_type": "stream",
     "text": [
      "Test loss = -1.347e+00\n",
      "\n",
      "Normalized Error Omega_m = 0.750\n",
      "Normalized Error sigma_8 = 0.594\n",
      "Error Omega_m = 0.300\n",
      "Error sigma_8 = 0.237\n",
      "Bayesian error Omega_m = 0.010\n",
      "Bayesian error sigma_8 = 0.013\n",
      "Relative error Omega_m = 1.579\n",
      "Relative error sigma_8 = 0.352\n",
      "R^2: -3.7637213289406537\n"
     ]
    },
    {
     "name": "stderr",
     "output_type": "stream",
     "text": [
      "  6%|▌         | 6/100 [00:02<00:41,  2.24it/s]"
     ]
    },
    {
     "name": "stdout",
     "output_type": "stream",
     "text": [
      "Test loss = -1.342e+00\n",
      "\n",
      "Normalized Error Omega_m = 0.750\n",
      "Normalized Error sigma_8 = 0.593\n",
      "Error Omega_m = 0.300\n",
      "Error sigma_8 = 0.237\n",
      "Bayesian error Omega_m = 0.010\n",
      "Bayesian error sigma_8 = 0.013\n",
      "Relative error Omega_m = 1.580\n",
      "Relative error sigma_8 = 0.351\n",
      "R^2: -4.701437448447827\n"
     ]
    },
    {
     "name": "stderr",
     "output_type": "stream",
     "text": [
      "  7%|▋         | 7/100 [00:03<00:41,  2.24it/s]"
     ]
    },
    {
     "name": "stdout",
     "output_type": "stream",
     "text": [
      "Test loss = -1.343e+00\n",
      "\n",
      "Normalized Error Omega_m = 0.750\n",
      "Normalized Error sigma_8 = 0.594\n",
      "Error Omega_m = 0.300\n",
      "Error sigma_8 = 0.238\n",
      "Bayesian error Omega_m = 0.010\n",
      "Bayesian error sigma_8 = 0.013\n",
      "Relative error Omega_m = 1.581\n",
      "Relative error sigma_8 = 0.351\n",
      "R^2: -4.1580521769273115\n"
     ]
    },
    {
     "name": "stderr",
     "output_type": "stream",
     "text": [
      "  8%|▊         | 8/100 [00:03<00:40,  2.25it/s]"
     ]
    },
    {
     "name": "stdout",
     "output_type": "stream",
     "text": [
      "Test loss = -1.371e+00\n",
      "\n",
      "Normalized Error Omega_m = 0.749\n",
      "Normalized Error sigma_8 = 0.589\n",
      "Error Omega_m = 0.300\n",
      "Error sigma_8 = 0.236\n",
      "Bayesian error Omega_m = 0.010\n",
      "Bayesian error sigma_8 = 0.013\n",
      "Relative error Omega_m = 1.579\n",
      "Relative error sigma_8 = 0.348\n",
      "R^2: -2.8542198281583744\n"
     ]
    },
    {
     "name": "stderr",
     "output_type": "stream",
     "text": [
      "  9%|▉         | 9/100 [00:04<00:40,  2.25it/s]"
     ]
    },
    {
     "name": "stdout",
     "output_type": "stream",
     "text": [
      "Test loss = -1.357e+00\n",
      "\n",
      "Normalized Error Omega_m = 0.751\n",
      "Normalized Error sigma_8 = 0.591\n",
      "Error Omega_m = 0.300\n",
      "Error sigma_8 = 0.236\n",
      "Bayesian error Omega_m = 0.010\n",
      "Bayesian error sigma_8 = 0.013\n",
      "Relative error Omega_m = 1.583\n",
      "Relative error sigma_8 = 0.350\n",
      "R^2: -2.196969061740321\n"
     ]
    },
    {
     "name": "stderr",
     "output_type": "stream",
     "text": [
      " 10%|█         | 10/100 [00:04<00:39,  2.25it/s]"
     ]
    },
    {
     "name": "stdout",
     "output_type": "stream",
     "text": [
      "Test loss = -1.372e+00\n",
      "\n",
      "Normalized Error Omega_m = 0.749\n",
      "Normalized Error sigma_8 = 0.589\n",
      "Error Omega_m = 0.300\n",
      "Error sigma_8 = 0.236\n",
      "Bayesian error Omega_m = 0.010\n",
      "Bayesian error sigma_8 = 0.013\n",
      "Relative error Omega_m = 1.578\n",
      "Relative error sigma_8 = 0.349\n",
      "R^2: -3.4548452245786025\n"
     ]
    },
    {
     "name": "stderr",
     "output_type": "stream",
     "text": [
      " 11%|█         | 11/100 [00:04<00:39,  2.24it/s]"
     ]
    },
    {
     "name": "stdout",
     "output_type": "stream",
     "text": [
      "Test loss = -1.345e+00\n",
      "\n",
      "Normalized Error Omega_m = 0.750\n",
      "Normalized Error sigma_8 = 0.593\n",
      "Error Omega_m = 0.300\n",
      "Error sigma_8 = 0.237\n",
      "Bayesian error Omega_m = 0.010\n",
      "Bayesian error sigma_8 = 0.013\n",
      "Relative error Omega_m = 1.579\n",
      "Relative error sigma_8 = 0.351\n",
      "R^2: -3.7924067946856432\n"
     ]
    },
    {
     "name": "stderr",
     "output_type": "stream",
     "text": [
      " 12%|█▏        | 12/100 [00:05<00:39,  2.24it/s]"
     ]
    },
    {
     "name": "stdout",
     "output_type": "stream",
     "text": [
      "Test loss = -1.365e+00\n",
      "\n",
      "Normalized Error Omega_m = 0.749\n",
      "Normalized Error sigma_8 = 0.590\n",
      "Error Omega_m = 0.299\n",
      "Error sigma_8 = 0.236\n",
      "Bayesian error Omega_m = 0.010\n",
      "Bayesian error sigma_8 = 0.013\n",
      "Relative error Omega_m = 1.577\n",
      "Relative error sigma_8 = 0.349\n",
      "R^2: -3.496025775228401\n"
     ]
    },
    {
     "name": "stderr",
     "output_type": "stream",
     "text": [
      " 13%|█▎        | 13/100 [00:05<00:38,  2.24it/s]"
     ]
    },
    {
     "name": "stdout",
     "output_type": "stream",
     "text": [
      "Test loss = -1.351e+00\n",
      "\n",
      "Normalized Error Omega_m = 0.751\n",
      "Normalized Error sigma_8 = 0.592\n",
      "Error Omega_m = 0.300\n",
      "Error sigma_8 = 0.237\n",
      "Bayesian error Omega_m = 0.010\n",
      "Bayesian error sigma_8 = 0.013\n",
      "Relative error Omega_m = 1.583\n",
      "Relative error sigma_8 = 0.350\n",
      "R^2: -4.684630627552779\n"
     ]
    },
    {
     "name": "stderr",
     "output_type": "stream",
     "text": [
      " 14%|█▍        | 14/100 [00:06<00:38,  2.24it/s]"
     ]
    },
    {
     "name": "stdout",
     "output_type": "stream",
     "text": [
      "Test loss = -1.310e+00\n",
      "\n",
      "Normalized Error Omega_m = 0.751\n",
      "Normalized Error sigma_8 = 0.599\n",
      "Error Omega_m = 0.300\n",
      "Error sigma_8 = 0.240\n",
      "Bayesian error Omega_m = 0.010\n",
      "Bayesian error sigma_8 = 0.013\n",
      "Relative error Omega_m = 1.583\n",
      "Relative error sigma_8 = 0.355\n",
      "R^2: -3.572534624287954\n"
     ]
    },
    {
     "name": "stderr",
     "output_type": "stream",
     "text": [
      " 15%|█▌        | 15/100 [00:06<00:38,  2.24it/s]"
     ]
    },
    {
     "name": "stdout",
     "output_type": "stream",
     "text": [
      "Test loss = -1.346e+00\n",
      "\n",
      "Normalized Error Omega_m = 0.750\n",
      "Normalized Error sigma_8 = 0.594\n",
      "Error Omega_m = 0.300\n",
      "Error sigma_8 = 0.237\n",
      "Bayesian error Omega_m = 0.010\n",
      "Bayesian error sigma_8 = 0.013\n",
      "Relative error Omega_m = 1.582\n",
      "Relative error sigma_8 = 0.351\n",
      "R^2: -3.7273458980492693\n"
     ]
    },
    {
     "name": "stderr",
     "output_type": "stream",
     "text": [
      " 16%|█▌        | 16/100 [00:07<00:37,  2.23it/s]"
     ]
    },
    {
     "name": "stdout",
     "output_type": "stream",
     "text": [
      "Test loss = -1.337e+00\n",
      "\n",
      "Normalized Error Omega_m = 0.749\n",
      "Normalized Error sigma_8 = 0.595\n",
      "Error Omega_m = 0.300\n",
      "Error sigma_8 = 0.238\n",
      "Bayesian error Omega_m = 0.010\n",
      "Bayesian error sigma_8 = 0.013\n",
      "Relative error Omega_m = 1.578\n",
      "Relative error sigma_8 = 0.352\n",
      "R^2: -2.330454688674648\n"
     ]
    },
    {
     "name": "stderr",
     "output_type": "stream",
     "text": [
      " 17%|█▋        | 17/100 [00:07<00:37,  2.24it/s]"
     ]
    },
    {
     "name": "stdout",
     "output_type": "stream",
     "text": [
      "Test loss = -1.379e+00\n",
      "\n",
      "Normalized Error Omega_m = 0.750\n",
      "Normalized Error sigma_8 = 0.590\n",
      "Error Omega_m = 0.300\n",
      "Error sigma_8 = 0.236\n",
      "Bayesian error Omega_m = 0.010\n",
      "Bayesian error sigma_8 = 0.013\n",
      "Relative error Omega_m = 1.577\n",
      "Relative error sigma_8 = 0.349\n",
      "R^2: -2.4754477451260635\n"
     ]
    },
    {
     "name": "stderr",
     "output_type": "stream",
     "text": [
      " 18%|█▊        | 18/100 [00:08<00:36,  2.24it/s]"
     ]
    },
    {
     "name": "stdout",
     "output_type": "stream",
     "text": [
      "Test loss = -1.370e+00\n",
      "\n",
      "Normalized Error Omega_m = 0.750\n",
      "Normalized Error sigma_8 = 0.590\n",
      "Error Omega_m = 0.300\n",
      "Error sigma_8 = 0.236\n",
      "Bayesian error Omega_m = 0.010\n",
      "Bayesian error sigma_8 = 0.013\n",
      "Relative error Omega_m = 1.580\n",
      "Relative error sigma_8 = 0.349\n",
      "R^2: -3.0876173039688144\n"
     ]
    },
    {
     "name": "stderr",
     "output_type": "stream",
     "text": [
      " 19%|█▉        | 19/100 [00:08<00:36,  2.25it/s]"
     ]
    },
    {
     "name": "stdout",
     "output_type": "stream",
     "text": [
      "Test loss = -1.352e+00\n",
      "\n",
      "Normalized Error Omega_m = 0.750\n",
      "Normalized Error sigma_8 = 0.593\n",
      "Error Omega_m = 0.300\n",
      "Error sigma_8 = 0.237\n",
      "Bayesian error Omega_m = 0.010\n",
      "Bayesian error sigma_8 = 0.013\n",
      "Relative error Omega_m = 1.580\n",
      "Relative error sigma_8 = 0.350\n",
      "R^2: -3.426227134363259\n"
     ]
    },
    {
     "name": "stderr",
     "output_type": "stream",
     "text": [
      " 20%|██        | 20/100 [00:08<00:35,  2.25it/s]"
     ]
    },
    {
     "name": "stdout",
     "output_type": "stream",
     "text": [
      "Test loss = -1.362e+00\n",
      "\n",
      "Normalized Error Omega_m = 0.749\n",
      "Normalized Error sigma_8 = 0.591\n",
      "Error Omega_m = 0.300\n",
      "Error sigma_8 = 0.237\n",
      "Bayesian error Omega_m = 0.010\n",
      "Bayesian error sigma_8 = 0.013\n",
      "Relative error Omega_m = 1.576\n",
      "Relative error sigma_8 = 0.350\n",
      "R^2: -3.455359385169336\n"
     ]
    },
    {
     "name": "stderr",
     "output_type": "stream",
     "text": [
      " 21%|██        | 21/100 [00:09<00:35,  2.25it/s]"
     ]
    },
    {
     "name": "stdout",
     "output_type": "stream",
     "text": [
      "Test loss = -1.357e+00\n",
      "\n",
      "Normalized Error Omega_m = 0.750\n",
      "Normalized Error sigma_8 = 0.592\n",
      "Error Omega_m = 0.300\n",
      "Error sigma_8 = 0.237\n",
      "Bayesian error Omega_m = 0.010\n",
      "Bayesian error sigma_8 = 0.013\n",
      "Relative error Omega_m = 1.580\n",
      "Relative error sigma_8 = 0.350\n",
      "R^2: -2.582661133445505\n"
     ]
    },
    {
     "name": "stderr",
     "output_type": "stream",
     "text": [
      " 22%|██▏       | 22/100 [00:09<00:34,  2.25it/s]"
     ]
    },
    {
     "name": "stdout",
     "output_type": "stream",
     "text": [
      "Test loss = -1.346e+00\n",
      "\n",
      "Normalized Error Omega_m = 0.750\n",
      "Normalized Error sigma_8 = 0.593\n",
      "Error Omega_m = 0.300\n",
      "Error sigma_8 = 0.237\n",
      "Bayesian error Omega_m = 0.010\n",
      "Bayesian error sigma_8 = 0.013\n",
      "Relative error Omega_m = 1.583\n",
      "Relative error sigma_8 = 0.351\n",
      "R^2: -3.0749766172732445\n"
     ]
    },
    {
     "name": "stderr",
     "output_type": "stream",
     "text": [
      " 23%|██▎       | 23/100 [00:10<00:34,  2.25it/s]"
     ]
    },
    {
     "name": "stdout",
     "output_type": "stream",
     "text": [
      "Test loss = -1.361e+00\n",
      "\n",
      "Normalized Error Omega_m = 0.750\n",
      "Normalized Error sigma_8 = 0.592\n",
      "Error Omega_m = 0.300\n",
      "Error sigma_8 = 0.237\n",
      "Bayesian error Omega_m = 0.010\n",
      "Bayesian error sigma_8 = 0.013\n",
      "Relative error Omega_m = 1.579\n",
      "Relative error sigma_8 = 0.350\n",
      "R^2: -2.1321873317846887\n"
     ]
    },
    {
     "name": "stderr",
     "output_type": "stream",
     "text": [
      " 24%|██▍       | 24/100 [00:10<00:33,  2.25it/s]"
     ]
    },
    {
     "name": "stdout",
     "output_type": "stream",
     "text": [
      "Test loss = -1.336e+00\n",
      "\n",
      "Normalized Error Omega_m = 0.750\n",
      "Normalized Error sigma_8 = 0.596\n",
      "Error Omega_m = 0.300\n",
      "Error sigma_8 = 0.238\n",
      "Bayesian error Omega_m = 0.010\n",
      "Bayesian error sigma_8 = 0.013\n",
      "Relative error Omega_m = 1.579\n",
      "Relative error sigma_8 = 0.352\n",
      "R^2: -2.578607374848019\n"
     ]
    },
    {
     "name": "stderr",
     "output_type": "stream",
     "text": [
      " 25%|██▌       | 25/100 [00:11<00:33,  2.25it/s]"
     ]
    },
    {
     "name": "stdout",
     "output_type": "stream",
     "text": [
      "Test loss = -1.358e+00\n",
      "\n",
      "Normalized Error Omega_m = 0.750\n",
      "Normalized Error sigma_8 = 0.591\n",
      "Error Omega_m = 0.300\n",
      "Error sigma_8 = 0.236\n",
      "Bayesian error Omega_m = 0.010\n",
      "Bayesian error sigma_8 = 0.013\n",
      "Relative error Omega_m = 1.579\n",
      "Relative error sigma_8 = 0.350\n",
      "R^2: -3.3324008970520094\n"
     ]
    },
    {
     "name": "stderr",
     "output_type": "stream",
     "text": [
      " 26%|██▌       | 26/100 [00:11<00:32,  2.25it/s]"
     ]
    },
    {
     "name": "stdout",
     "output_type": "stream",
     "text": [
      "Test loss = -1.373e+00\n",
      "\n",
      "Normalized Error Omega_m = 0.750\n",
      "Normalized Error sigma_8 = 0.590\n",
      "Error Omega_m = 0.300\n",
      "Error sigma_8 = 0.236\n",
      "Bayesian error Omega_m = 0.010\n",
      "Bayesian error sigma_8 = 0.013\n",
      "Relative error Omega_m = 1.580\n",
      "Relative error sigma_8 = 0.349\n",
      "R^2: -3.1777999155734467\n"
     ]
    },
    {
     "name": "stderr",
     "output_type": "stream",
     "text": [
      " 27%|██▋       | 27/100 [00:12<00:32,  2.24it/s]"
     ]
    },
    {
     "name": "stdout",
     "output_type": "stream",
     "text": [
      "Test loss = -1.367e+00\n",
      "\n",
      "Normalized Error Omega_m = 0.749\n",
      "Normalized Error sigma_8 = 0.591\n",
      "Error Omega_m = 0.300\n",
      "Error sigma_8 = 0.236\n",
      "Bayesian error Omega_m = 0.010\n",
      "Bayesian error sigma_8 = 0.013\n",
      "Relative error Omega_m = 1.576\n",
      "Relative error sigma_8 = 0.349\n",
      "R^2: -2.777778776414653\n"
     ]
    },
    {
     "name": "stderr",
     "output_type": "stream",
     "text": [
      " 28%|██▊       | 28/100 [00:12<00:32,  2.24it/s]"
     ]
    },
    {
     "name": "stdout",
     "output_type": "stream",
     "text": [
      "Test loss = -1.351e+00\n",
      "\n",
      "Normalized Error Omega_m = 0.751\n",
      "Normalized Error sigma_8 = 0.592\n",
      "Error Omega_m = 0.300\n",
      "Error sigma_8 = 0.237\n",
      "Bayesian error Omega_m = 0.010\n",
      "Bayesian error sigma_8 = 0.013\n",
      "Relative error Omega_m = 1.581\n",
      "Relative error sigma_8 = 0.350\n",
      "R^2: -3.668354129159156\n"
     ]
    },
    {
     "name": "stderr",
     "output_type": "stream",
     "text": [
      " 29%|██▉       | 29/100 [00:12<00:31,  2.24it/s]"
     ]
    },
    {
     "name": "stdout",
     "output_type": "stream",
     "text": [
      "Test loss = -1.353e+00\n",
      "\n",
      "Normalized Error Omega_m = 0.749\n",
      "Normalized Error sigma_8 = 0.592\n",
      "Error Omega_m = 0.300\n",
      "Error sigma_8 = 0.237\n",
      "Bayesian error Omega_m = 0.010\n",
      "Bayesian error sigma_8 = 0.013\n",
      "Relative error Omega_m = 1.577\n",
      "Relative error sigma_8 = 0.350\n",
      "R^2: -2.5907503459041723\n"
     ]
    },
    {
     "name": "stderr",
     "output_type": "stream",
     "text": [
      " 30%|███       | 30/100 [00:13<00:31,  2.24it/s]"
     ]
    },
    {
     "name": "stdout",
     "output_type": "stream",
     "text": [
      "Test loss = -1.360e+00\n",
      "\n",
      "Normalized Error Omega_m = 0.749\n",
      "Normalized Error sigma_8 = 0.591\n",
      "Error Omega_m = 0.300\n",
      "Error sigma_8 = 0.236\n",
      "Bayesian error Omega_m = 0.010\n",
      "Bayesian error sigma_8 = 0.013\n",
      "Relative error Omega_m = 1.580\n",
      "Relative error sigma_8 = 0.349\n",
      "R^2: -2.291817715471709\n"
     ]
    },
    {
     "name": "stderr",
     "output_type": "stream",
     "text": [
      " 31%|███       | 31/100 [00:13<00:30,  2.24it/s]"
     ]
    },
    {
     "name": "stdout",
     "output_type": "stream",
     "text": [
      "Test loss = -1.371e+00\n",
      "\n",
      "Normalized Error Omega_m = 0.748\n",
      "Normalized Error sigma_8 = 0.590\n",
      "Error Omega_m = 0.299\n",
      "Error sigma_8 = 0.236\n",
      "Bayesian error Omega_m = 0.010\n",
      "Bayesian error sigma_8 = 0.013\n",
      "Relative error Omega_m = 1.576\n",
      "Relative error sigma_8 = 0.349\n",
      "R^2: -2.6297408684631565\n"
     ]
    },
    {
     "name": "stderr",
     "output_type": "stream",
     "text": [
      " 32%|███▏      | 32/100 [00:14<00:30,  2.24it/s]"
     ]
    },
    {
     "name": "stdout",
     "output_type": "stream",
     "text": [
      "Test loss = -1.358e+00\n",
      "\n",
      "Normalized Error Omega_m = 0.750\n",
      "Normalized Error sigma_8 = 0.592\n",
      "Error Omega_m = 0.300\n",
      "Error sigma_8 = 0.237\n",
      "Bayesian error Omega_m = 0.010\n",
      "Bayesian error sigma_8 = 0.013\n",
      "Relative error Omega_m = 1.582\n",
      "Relative error sigma_8 = 0.350\n",
      "R^2: -5.646826250458698\n"
     ]
    },
    {
     "name": "stderr",
     "output_type": "stream",
     "text": [
      " 33%|███▎      | 33/100 [00:14<00:29,  2.24it/s]"
     ]
    },
    {
     "name": "stdout",
     "output_type": "stream",
     "text": [
      "Test loss = -1.330e+00\n",
      "\n",
      "Normalized Error Omega_m = 0.751\n",
      "Normalized Error sigma_8 = 0.594\n",
      "Error Omega_m = 0.300\n",
      "Error sigma_8 = 0.238\n",
      "Bayesian error Omega_m = 0.010\n",
      "Bayesian error sigma_8 = 0.013\n",
      "Relative error Omega_m = 1.583\n",
      "Relative error sigma_8 = 0.352\n",
      "R^2: -3.255674426835202\n"
     ]
    },
    {
     "name": "stderr",
     "output_type": "stream",
     "text": [
      " 34%|███▍      | 34/100 [00:15<00:29,  2.24it/s]"
     ]
    },
    {
     "name": "stdout",
     "output_type": "stream",
     "text": [
      "Test loss = -1.353e+00\n",
      "\n",
      "Normalized Error Omega_m = 0.749\n",
      "Normalized Error sigma_8 = 0.592\n",
      "Error Omega_m = 0.299\n",
      "Error sigma_8 = 0.237\n",
      "Bayesian error Omega_m = 0.010\n",
      "Bayesian error sigma_8 = 0.013\n",
      "Relative error Omega_m = 1.574\n",
      "Relative error sigma_8 = 0.351\n",
      "R^2: -3.8877394371584666\n"
     ]
    },
    {
     "name": "stderr",
     "output_type": "stream",
     "text": [
      " 35%|███▌      | 35/100 [00:15<00:28,  2.24it/s]"
     ]
    },
    {
     "name": "stdout",
     "output_type": "stream",
     "text": [
      "Test loss = -1.372e+00\n",
      "\n",
      "Normalized Error Omega_m = 0.750\n",
      "Normalized Error sigma_8 = 0.590\n",
      "Error Omega_m = 0.300\n",
      "Error sigma_8 = 0.236\n",
      "Bayesian error Omega_m = 0.010\n",
      "Bayesian error sigma_8 = 0.013\n",
      "Relative error Omega_m = 1.579\n",
      "Relative error sigma_8 = 0.349\n",
      "R^2: -4.6569042337374995\n"
     ]
    },
    {
     "name": "stderr",
     "output_type": "stream",
     "text": [
      " 36%|███▌      | 36/100 [00:16<00:28,  2.25it/s]"
     ]
    },
    {
     "name": "stdout",
     "output_type": "stream",
     "text": [
      "Test loss = -1.363e+00\n",
      "\n",
      "Normalized Error Omega_m = 0.751\n",
      "Normalized Error sigma_8 = 0.590\n",
      "Error Omega_m = 0.300\n",
      "Error sigma_8 = 0.236\n",
      "Bayesian error Omega_m = 0.010\n",
      "Bayesian error sigma_8 = 0.013\n",
      "Relative error Omega_m = 1.582\n",
      "Relative error sigma_8 = 0.349\n",
      "R^2: -3.907306682732174\n"
     ]
    },
    {
     "name": "stderr",
     "output_type": "stream",
     "text": [
      " 37%|███▋      | 37/100 [00:16<00:28,  2.25it/s]"
     ]
    },
    {
     "name": "stdout",
     "output_type": "stream",
     "text": [
      "Test loss = -1.355e+00\n",
      "\n",
      "Normalized Error Omega_m = 0.750\n",
      "Normalized Error sigma_8 = 0.591\n",
      "Error Omega_m = 0.300\n",
      "Error sigma_8 = 0.236\n",
      "Bayesian error Omega_m = 0.010\n",
      "Bayesian error sigma_8 = 0.013\n",
      "Relative error Omega_m = 1.579\n",
      "Relative error sigma_8 = 0.350\n",
      "R^2: -2.897953823485132\n"
     ]
    },
    {
     "name": "stderr",
     "output_type": "stream",
     "text": [
      " 38%|███▊      | 38/100 [00:16<00:27,  2.25it/s]"
     ]
    },
    {
     "name": "stdout",
     "output_type": "stream",
     "text": [
      "Test loss = -1.369e+00\n",
      "\n",
      "Normalized Error Omega_m = 0.750\n",
      "Normalized Error sigma_8 = 0.590\n",
      "Error Omega_m = 0.300\n",
      "Error sigma_8 = 0.236\n",
      "Bayesian error Omega_m = 0.010\n",
      "Bayesian error sigma_8 = 0.013\n",
      "Relative error Omega_m = 1.579\n",
      "Relative error sigma_8 = 0.349\n",
      "R^2: -3.991937792201492\n"
     ]
    },
    {
     "name": "stderr",
     "output_type": "stream",
     "text": [
      " 39%|███▉      | 39/100 [00:17<00:27,  2.25it/s]"
     ]
    },
    {
     "name": "stdout",
     "output_type": "stream",
     "text": [
      "Test loss = -1.358e+00\n",
      "\n",
      "Normalized Error Omega_m = 0.749\n",
      "Normalized Error sigma_8 = 0.593\n",
      "Error Omega_m = 0.299\n",
      "Error sigma_8 = 0.237\n",
      "Bayesian error Omega_m = 0.010\n",
      "Bayesian error sigma_8 = 0.013\n",
      "Relative error Omega_m = 1.576\n",
      "Relative error sigma_8 = 0.350\n",
      "R^2: -3.0933760071413348\n"
     ]
    },
    {
     "name": "stderr",
     "output_type": "stream",
     "text": [
      " 40%|████      | 40/100 [00:17<00:26,  2.24it/s]"
     ]
    },
    {
     "name": "stdout",
     "output_type": "stream",
     "text": [
      "Test loss = -1.360e+00\n",
      "\n",
      "Normalized Error Omega_m = 0.750\n",
      "Normalized Error sigma_8 = 0.592\n",
      "Error Omega_m = 0.300\n",
      "Error sigma_8 = 0.237\n",
      "Bayesian error Omega_m = 0.010\n",
      "Bayesian error sigma_8 = 0.013\n",
      "Relative error Omega_m = 1.581\n",
      "Relative error sigma_8 = 0.350\n",
      "R^2: -3.0818586473020915\n"
     ]
    },
    {
     "name": "stderr",
     "output_type": "stream",
     "text": [
      " 41%|████      | 41/100 [00:18<00:26,  2.25it/s]"
     ]
    },
    {
     "name": "stdout",
     "output_type": "stream",
     "text": [
      "Test loss = -1.350e+00\n",
      "\n",
      "Normalized Error Omega_m = 0.750\n",
      "Normalized Error sigma_8 = 0.592\n",
      "Error Omega_m = 0.300\n",
      "Error sigma_8 = 0.237\n",
      "Bayesian error Omega_m = 0.010\n",
      "Bayesian error sigma_8 = 0.013\n",
      "Relative error Omega_m = 1.580\n",
      "Relative error sigma_8 = 0.350\n",
      "R^2: -2.6166678574129727\n"
     ]
    },
    {
     "name": "stderr",
     "output_type": "stream",
     "text": [
      " 42%|████▏     | 42/100 [00:18<00:25,  2.25it/s]"
     ]
    },
    {
     "name": "stdout",
     "output_type": "stream",
     "text": [
      "Test loss = -1.342e+00\n",
      "\n",
      "Normalized Error Omega_m = 0.750\n",
      "Normalized Error sigma_8 = 0.594\n",
      "Error Omega_m = 0.300\n",
      "Error sigma_8 = 0.238\n",
      "Bayesian error Omega_m = 0.010\n",
      "Bayesian error sigma_8 = 0.013\n",
      "Relative error Omega_m = 1.580\n",
      "Relative error sigma_8 = 0.352\n",
      "R^2: -2.7522170428019637\n"
     ]
    },
    {
     "name": "stderr",
     "output_type": "stream",
     "text": [
      " 43%|████▎     | 43/100 [00:19<00:25,  2.25it/s]"
     ]
    },
    {
     "name": "stdout",
     "output_type": "stream",
     "text": [
      "Test loss = -1.346e+00\n",
      "\n",
      "Normalized Error Omega_m = 0.751\n",
      "Normalized Error sigma_8 = 0.592\n",
      "Error Omega_m = 0.300\n",
      "Error sigma_8 = 0.237\n",
      "Bayesian error Omega_m = 0.010\n",
      "Bayesian error sigma_8 = 0.013\n",
      "Relative error Omega_m = 1.583\n",
      "Relative error sigma_8 = 0.351\n",
      "R^2: -3.4361344843252857\n"
     ]
    },
    {
     "name": "stderr",
     "output_type": "stream",
     "text": [
      " 44%|████▍     | 44/100 [00:19<00:24,  2.24it/s]"
     ]
    },
    {
     "name": "stdout",
     "output_type": "stream",
     "text": [
      "Test loss = -1.355e+00\n",
      "\n",
      "Normalized Error Omega_m = 0.749\n",
      "Normalized Error sigma_8 = 0.592\n",
      "Error Omega_m = 0.300\n",
      "Error sigma_8 = 0.237\n",
      "Bayesian error Omega_m = 0.010\n",
      "Bayesian error sigma_8 = 0.013\n",
      "Relative error Omega_m = 1.577\n",
      "Relative error sigma_8 = 0.350\n",
      "R^2: -2.7651584242017178\n"
     ]
    },
    {
     "name": "stderr",
     "output_type": "stream",
     "text": [
      " 45%|████▌     | 45/100 [00:20<00:24,  2.24it/s]"
     ]
    },
    {
     "name": "stdout",
     "output_type": "stream",
     "text": [
      "Test loss = -1.378e+00\n",
      "\n",
      "Normalized Error Omega_m = 0.750\n",
      "Normalized Error sigma_8 = 0.589\n",
      "Error Omega_m = 0.300\n",
      "Error sigma_8 = 0.236\n",
      "Bayesian error Omega_m = 0.010\n",
      "Bayesian error sigma_8 = 0.013\n",
      "Relative error Omega_m = 1.580\n",
      "Relative error sigma_8 = 0.348\n",
      "R^2: -3.6418524624736293\n"
     ]
    },
    {
     "name": "stderr",
     "output_type": "stream",
     "text": [
      " 46%|████▌     | 46/100 [00:20<00:24,  2.24it/s]"
     ]
    },
    {
     "name": "stdout",
     "output_type": "stream",
     "text": [
      "Test loss = -1.355e+00\n",
      "\n",
      "Normalized Error Omega_m = 0.750\n",
      "Normalized Error sigma_8 = 0.592\n",
      "Error Omega_m = 0.300\n",
      "Error sigma_8 = 0.237\n",
      "Bayesian error Omega_m = 0.010\n",
      "Bayesian error sigma_8 = 0.013\n",
      "Relative error Omega_m = 1.581\n",
      "Relative error sigma_8 = 0.350\n",
      "R^2: -2.7800810637965645\n"
     ]
    },
    {
     "name": "stderr",
     "output_type": "stream",
     "text": [
      " 47%|████▋     | 47/100 [00:20<00:23,  2.24it/s]"
     ]
    },
    {
     "name": "stdout",
     "output_type": "stream",
     "text": [
      "Test loss = -1.366e+00\n",
      "\n",
      "Normalized Error Omega_m = 0.748\n",
      "Normalized Error sigma_8 = 0.590\n",
      "Error Omega_m = 0.299\n",
      "Error sigma_8 = 0.236\n",
      "Bayesian error Omega_m = 0.010\n",
      "Bayesian error sigma_8 = 0.013\n",
      "Relative error Omega_m = 1.577\n",
      "Relative error sigma_8 = 0.349\n",
      "R^2: -2.814730014796708\n"
     ]
    },
    {
     "name": "stderr",
     "output_type": "stream",
     "text": [
      " 48%|████▊     | 48/100 [00:21<00:23,  2.24it/s]"
     ]
    },
    {
     "name": "stdout",
     "output_type": "stream",
     "text": [
      "Test loss = -1.358e+00\n",
      "\n",
      "Normalized Error Omega_m = 0.751\n",
      "Normalized Error sigma_8 = 0.590\n",
      "Error Omega_m = 0.300\n",
      "Error sigma_8 = 0.236\n",
      "Bayesian error Omega_m = 0.010\n",
      "Bayesian error sigma_8 = 0.013\n",
      "Relative error Omega_m = 1.581\n",
      "Relative error sigma_8 = 0.349\n",
      "R^2: -2.8191083955356437\n"
     ]
    },
    {
     "name": "stderr",
     "output_type": "stream",
     "text": [
      " 49%|████▉     | 49/100 [00:21<00:22,  2.24it/s]"
     ]
    },
    {
     "name": "stdout",
     "output_type": "stream",
     "text": [
      "Test loss = -1.332e+00\n",
      "\n",
      "Normalized Error Omega_m = 0.749\n",
      "Normalized Error sigma_8 = 0.598\n",
      "Error Omega_m = 0.300\n",
      "Error sigma_8 = 0.239\n",
      "Bayesian error Omega_m = 0.010\n",
      "Bayesian error sigma_8 = 0.013\n",
      "Relative error Omega_m = 1.580\n",
      "Relative error sigma_8 = 0.354\n",
      "R^2: -4.694553900922076\n"
     ]
    },
    {
     "name": "stderr",
     "output_type": "stream",
     "text": [
      " 50%|█████     | 50/100 [00:22<00:22,  2.24it/s]"
     ]
    },
    {
     "name": "stdout",
     "output_type": "stream",
     "text": [
      "Test loss = -1.349e+00\n",
      "\n",
      "Normalized Error Omega_m = 0.751\n",
      "Normalized Error sigma_8 = 0.594\n",
      "Error Omega_m = 0.300\n",
      "Error sigma_8 = 0.238\n",
      "Bayesian error Omega_m = 0.010\n",
      "Bayesian error sigma_8 = 0.013\n",
      "Relative error Omega_m = 1.583\n",
      "Relative error sigma_8 = 0.351\n",
      "R^2: -1.9560362824388688\n"
     ]
    },
    {
     "name": "stderr",
     "output_type": "stream",
     "text": [
      " 51%|█████     | 51/100 [00:22<00:21,  2.24it/s]"
     ]
    },
    {
     "name": "stdout",
     "output_type": "stream",
     "text": [
      "Test loss = -1.360e+00\n",
      "\n",
      "Normalized Error Omega_m = 0.749\n",
      "Normalized Error sigma_8 = 0.591\n",
      "Error Omega_m = 0.300\n",
      "Error sigma_8 = 0.236\n",
      "Bayesian error Omega_m = 0.010\n",
      "Bayesian error sigma_8 = 0.013\n",
      "Relative error Omega_m = 1.579\n",
      "Relative error sigma_8 = 0.350\n",
      "R^2: -2.6084863526210915\n"
     ]
    },
    {
     "name": "stderr",
     "output_type": "stream",
     "text": [
      " 52%|█████▏    | 52/100 [00:23<00:21,  2.24it/s]"
     ]
    },
    {
     "name": "stdout",
     "output_type": "stream",
     "text": [
      "Test loss = -1.354e+00\n",
      "\n",
      "Normalized Error Omega_m = 0.749\n",
      "Normalized Error sigma_8 = 0.593\n",
      "Error Omega_m = 0.300\n",
      "Error sigma_8 = 0.237\n",
      "Bayesian error Omega_m = 0.010\n",
      "Bayesian error sigma_8 = 0.013\n",
      "Relative error Omega_m = 1.577\n",
      "Relative error sigma_8 = 0.351\n",
      "R^2: -2.3383569234813186\n"
     ]
    },
    {
     "name": "stderr",
     "output_type": "stream",
     "text": [
      " 53%|█████▎    | 53/100 [00:23<00:20,  2.24it/s]"
     ]
    },
    {
     "name": "stdout",
     "output_type": "stream",
     "text": [
      "Test loss = -1.344e+00\n",
      "\n",
      "Normalized Error Omega_m = 0.750\n",
      "Normalized Error sigma_8 = 0.594\n",
      "Error Omega_m = 0.300\n",
      "Error sigma_8 = 0.238\n",
      "Bayesian error Omega_m = 0.010\n",
      "Bayesian error sigma_8 = 0.013\n",
      "Relative error Omega_m = 1.580\n",
      "Relative error sigma_8 = 0.351\n",
      "R^2: -3.637593850448112\n"
     ]
    },
    {
     "name": "stderr",
     "output_type": "stream",
     "text": [
      " 54%|█████▍    | 54/100 [00:24<00:20,  2.24it/s]"
     ]
    },
    {
     "name": "stdout",
     "output_type": "stream",
     "text": [
      "Test loss = -1.359e+00\n",
      "\n",
      "Normalized Error Omega_m = 0.749\n",
      "Normalized Error sigma_8 = 0.592\n",
      "Error Omega_m = 0.300\n",
      "Error sigma_8 = 0.237\n",
      "Bayesian error Omega_m = 0.010\n",
      "Bayesian error sigma_8 = 0.013\n",
      "Relative error Omega_m = 1.577\n",
      "Relative error sigma_8 = 0.350\n",
      "R^2: -2.9625454823874033\n"
     ]
    },
    {
     "name": "stderr",
     "output_type": "stream",
     "text": [
      " 55%|█████▌    | 55/100 [00:24<00:20,  2.24it/s]"
     ]
    },
    {
     "name": "stdout",
     "output_type": "stream",
     "text": [
      "Test loss = -1.362e+00\n",
      "\n",
      "Normalized Error Omega_m = 0.749\n",
      "Normalized Error sigma_8 = 0.592\n",
      "Error Omega_m = 0.300\n",
      "Error sigma_8 = 0.237\n",
      "Bayesian error Omega_m = 0.010\n",
      "Bayesian error sigma_8 = 0.013\n",
      "Relative error Omega_m = 1.578\n",
      "Relative error sigma_8 = 0.350\n",
      "R^2: -3.176197766830822\n"
     ]
    },
    {
     "name": "stderr",
     "output_type": "stream",
     "text": [
      " 56%|█████▌    | 56/100 [00:24<00:19,  2.24it/s]"
     ]
    },
    {
     "name": "stdout",
     "output_type": "stream",
     "text": [
      "Test loss = -1.344e+00\n",
      "\n",
      "Normalized Error Omega_m = 0.752\n",
      "Normalized Error sigma_8 = 0.593\n",
      "Error Omega_m = 0.301\n",
      "Error sigma_8 = 0.237\n",
      "Bayesian error Omega_m = 0.010\n",
      "Bayesian error sigma_8 = 0.013\n",
      "Relative error Omega_m = 1.585\n",
      "Relative error sigma_8 = 0.351\n",
      "R^2: -3.9973085619158493\n"
     ]
    },
    {
     "name": "stderr",
     "output_type": "stream",
     "text": [
      " 57%|█████▋    | 57/100 [00:25<00:19,  2.15it/s]"
     ]
    },
    {
     "name": "stdout",
     "output_type": "stream",
     "text": [
      "Test loss = -1.361e+00\n",
      "\n",
      "Normalized Error Omega_m = 0.749\n",
      "Normalized Error sigma_8 = 0.591\n",
      "Error Omega_m = 0.300\n",
      "Error sigma_8 = 0.236\n",
      "Bayesian error Omega_m = 0.010\n",
      "Bayesian error sigma_8 = 0.013\n",
      "Relative error Omega_m = 1.577\n",
      "Relative error sigma_8 = 0.350\n",
      "R^2: -4.780032742831534\n"
     ]
    },
    {
     "name": "stderr",
     "output_type": "stream",
     "text": [
      " 58%|█████▊    | 58/100 [00:25<00:19,  2.18it/s]"
     ]
    },
    {
     "name": "stdout",
     "output_type": "stream",
     "text": [
      "Test loss = -1.376e+00\n",
      "\n",
      "Normalized Error Omega_m = 0.750\n",
      "Normalized Error sigma_8 = 0.589\n",
      "Error Omega_m = 0.300\n",
      "Error sigma_8 = 0.235\n",
      "Bayesian error Omega_m = 0.010\n",
      "Bayesian error sigma_8 = 0.013\n",
      "Relative error Omega_m = 1.578\n",
      "Relative error sigma_8 = 0.348\n",
      "R^2: -4.111693784811089\n"
     ]
    },
    {
     "name": "stderr",
     "output_type": "stream",
     "text": [
      " 59%|█████▉    | 59/100 [00:26<00:18,  2.19it/s]"
     ]
    },
    {
     "name": "stdout",
     "output_type": "stream",
     "text": [
      "Test loss = -1.364e+00\n",
      "\n",
      "Normalized Error Omega_m = 0.750\n",
      "Normalized Error sigma_8 = 0.590\n",
      "Error Omega_m = 0.300\n",
      "Error sigma_8 = 0.236\n",
      "Bayesian error Omega_m = 0.010\n",
      "Bayesian error sigma_8 = 0.013\n",
      "Relative error Omega_m = 1.577\n",
      "Relative error sigma_8 = 0.349\n",
      "R^2: -3.009634724445452\n"
     ]
    },
    {
     "name": "stderr",
     "output_type": "stream",
     "text": [
      " 60%|██████    | 60/100 [00:26<00:18,  2.19it/s]"
     ]
    },
    {
     "name": "stdout",
     "output_type": "stream",
     "text": [
      "Test loss = -1.342e+00\n",
      "\n",
      "Normalized Error Omega_m = 0.751\n",
      "Normalized Error sigma_8 = 0.594\n",
      "Error Omega_m = 0.300\n",
      "Error sigma_8 = 0.238\n",
      "Bayesian error Omega_m = 0.010\n",
      "Bayesian error sigma_8 = 0.013\n",
      "Relative error Omega_m = 1.580\n",
      "Relative error sigma_8 = 0.352\n",
      "R^2: -2.0390869670441543\n"
     ]
    },
    {
     "name": "stderr",
     "output_type": "stream",
     "text": [
      " 61%|██████    | 61/100 [00:27<00:17,  2.20it/s]"
     ]
    },
    {
     "name": "stdout",
     "output_type": "stream",
     "text": [
      "Test loss = -1.348e+00\n",
      "\n",
      "Normalized Error Omega_m = 0.750\n",
      "Normalized Error sigma_8 = 0.593\n",
      "Error Omega_m = 0.300\n",
      "Error sigma_8 = 0.237\n",
      "Bayesian error Omega_m = 0.010\n",
      "Bayesian error sigma_8 = 0.013\n",
      "Relative error Omega_m = 1.579\n",
      "Relative error sigma_8 = 0.351\n",
      "R^2: -3.2460448865911697\n"
     ]
    },
    {
     "name": "stderr",
     "output_type": "stream",
     "text": [
      " 62%|██████▏   | 62/100 [00:27<00:17,  2.20it/s]"
     ]
    },
    {
     "name": "stdout",
     "output_type": "stream",
     "text": [
      "Test loss = -1.359e+00\n",
      "\n",
      "Normalized Error Omega_m = 0.750\n",
      "Normalized Error sigma_8 = 0.592\n",
      "Error Omega_m = 0.300\n",
      "Error sigma_8 = 0.237\n",
      "Bayesian error Omega_m = 0.010\n",
      "Bayesian error sigma_8 = 0.013\n",
      "Relative error Omega_m = 1.579\n",
      "Relative error sigma_8 = 0.350\n",
      "R^2: -3.691963732847027\n"
     ]
    },
    {
     "name": "stderr",
     "output_type": "stream",
     "text": [
      " 63%|██████▎   | 63/100 [00:28<00:16,  2.21it/s]"
     ]
    },
    {
     "name": "stdout",
     "output_type": "stream",
     "text": [
      "Test loss = -1.351e+00\n",
      "\n",
      "Normalized Error Omega_m = 0.750\n",
      "Normalized Error sigma_8 = 0.591\n",
      "Error Omega_m = 0.300\n",
      "Error sigma_8 = 0.236\n",
      "Bayesian error Omega_m = 0.010\n",
      "Bayesian error sigma_8 = 0.013\n",
      "Relative error Omega_m = 1.579\n",
      "Relative error sigma_8 = 0.350\n",
      "R^2: -4.9490332868150295\n"
     ]
    },
    {
     "name": "stderr",
     "output_type": "stream",
     "text": [
      " 64%|██████▍   | 64/100 [00:28<00:16,  2.22it/s]"
     ]
    },
    {
     "name": "stdout",
     "output_type": "stream",
     "text": [
      "Test loss = -1.351e+00\n",
      "\n",
      "Normalized Error Omega_m = 0.750\n",
      "Normalized Error sigma_8 = 0.592\n",
      "Error Omega_m = 0.300\n",
      "Error sigma_8 = 0.237\n",
      "Bayesian error Omega_m = 0.010\n",
      "Bayesian error sigma_8 = 0.013\n",
      "Relative error Omega_m = 1.579\n",
      "Relative error sigma_8 = 0.351\n",
      "R^2: -3.5334785204091554\n"
     ]
    },
    {
     "name": "stderr",
     "output_type": "stream",
     "text": [
      " 65%|██████▌   | 65/100 [00:29<00:15,  2.23it/s]"
     ]
    },
    {
     "name": "stdout",
     "output_type": "stream",
     "text": [
      "Test loss = -1.353e+00\n",
      "\n",
      "Normalized Error Omega_m = 0.750\n",
      "Normalized Error sigma_8 = 0.592\n",
      "Error Omega_m = 0.300\n",
      "Error sigma_8 = 0.237\n",
      "Bayesian error Omega_m = 0.010\n",
      "Bayesian error sigma_8 = 0.013\n",
      "Relative error Omega_m = 1.581\n",
      "Relative error sigma_8 = 0.350\n",
      "R^2: -3.3732527131031516\n"
     ]
    },
    {
     "name": "stderr",
     "output_type": "stream",
     "text": [
      " 66%|██████▌   | 66/100 [00:29<00:15,  2.23it/s]"
     ]
    },
    {
     "name": "stdout",
     "output_type": "stream",
     "text": [
      "Test loss = -1.338e+00\n",
      "\n",
      "Normalized Error Omega_m = 0.749\n",
      "Normalized Error sigma_8 = 0.597\n",
      "Error Omega_m = 0.299\n",
      "Error sigma_8 = 0.239\n",
      "Bayesian error Omega_m = 0.010\n",
      "Bayesian error sigma_8 = 0.013\n",
      "Relative error Omega_m = 1.576\n",
      "Relative error sigma_8 = 0.353\n",
      "R^2: -2.694860837913336\n"
     ]
    },
    {
     "name": "stderr",
     "output_type": "stream",
     "text": [
      " 67%|██████▋   | 67/100 [00:29<00:14,  2.24it/s]"
     ]
    },
    {
     "name": "stdout",
     "output_type": "stream",
     "text": [
      "Test loss = -1.389e+00\n",
      "\n",
      "Normalized Error Omega_m = 0.750\n",
      "Normalized Error sigma_8 = 0.586\n",
      "Error Omega_m = 0.300\n",
      "Error sigma_8 = 0.234\n",
      "Bayesian error Omega_m = 0.010\n",
      "Bayesian error sigma_8 = 0.013\n",
      "Relative error Omega_m = 1.580\n",
      "Relative error sigma_8 = 0.347\n",
      "R^2: -2.9804438012751846\n"
     ]
    },
    {
     "name": "stderr",
     "output_type": "stream",
     "text": [
      " 68%|██████▊   | 68/100 [00:30<00:14,  2.24it/s]"
     ]
    },
    {
     "name": "stdout",
     "output_type": "stream",
     "text": [
      "Test loss = -1.334e+00\n",
      "\n",
      "Normalized Error Omega_m = 0.752\n",
      "Normalized Error sigma_8 = 0.595\n",
      "Error Omega_m = 0.301\n",
      "Error sigma_8 = 0.238\n",
      "Bayesian error Omega_m = 0.010\n",
      "Bayesian error sigma_8 = 0.013\n",
      "Relative error Omega_m = 1.585\n",
      "Relative error sigma_8 = 0.352\n",
      "R^2: -2.3830484963394847\n"
     ]
    },
    {
     "name": "stderr",
     "output_type": "stream",
     "text": [
      " 69%|██████▉   | 69/100 [00:30<00:13,  2.24it/s]"
     ]
    },
    {
     "name": "stdout",
     "output_type": "stream",
     "text": [
      "Test loss = -1.330e+00\n",
      "\n",
      "Normalized Error Omega_m = 0.751\n",
      "Normalized Error sigma_8 = 0.596\n",
      "Error Omega_m = 0.300\n",
      "Error sigma_8 = 0.239\n",
      "Bayesian error Omega_m = 0.010\n",
      "Bayesian error sigma_8 = 0.013\n",
      "Relative error Omega_m = 1.586\n",
      "Relative error sigma_8 = 0.353\n",
      "R^2: -3.822098681284243\n"
     ]
    },
    {
     "name": "stderr",
     "output_type": "stream",
     "text": [
      " 70%|███████   | 70/100 [00:31<00:13,  2.24it/s]"
     ]
    },
    {
     "name": "stdout",
     "output_type": "stream",
     "text": [
      "Test loss = -1.364e+00\n",
      "\n",
      "Normalized Error Omega_m = 0.749\n",
      "Normalized Error sigma_8 = 0.590\n",
      "Error Omega_m = 0.300\n",
      "Error sigma_8 = 0.236\n",
      "Bayesian error Omega_m = 0.010\n",
      "Bayesian error sigma_8 = 0.013\n",
      "Relative error Omega_m = 1.578\n",
      "Relative error sigma_8 = 0.349\n",
      "R^2: -2.9615279540210913\n"
     ]
    },
    {
     "name": "stderr",
     "output_type": "stream",
     "text": [
      " 71%|███████   | 71/100 [00:31<00:12,  2.24it/s]"
     ]
    },
    {
     "name": "stdout",
     "output_type": "stream",
     "text": [
      "Test loss = -1.342e+00\n",
      "\n",
      "Normalized Error Omega_m = 0.750\n",
      "Normalized Error sigma_8 = 0.594\n",
      "Error Omega_m = 0.300\n",
      "Error sigma_8 = 0.238\n",
      "Bayesian error Omega_m = 0.010\n",
      "Bayesian error sigma_8 = 0.013\n",
      "Relative error Omega_m = 1.581\n",
      "Relative error sigma_8 = 0.352\n",
      "R^2: -3.5904739293228927\n"
     ]
    },
    {
     "name": "stderr",
     "output_type": "stream",
     "text": [
      " 72%|███████▏  | 72/100 [00:32<00:12,  2.24it/s]"
     ]
    },
    {
     "name": "stdout",
     "output_type": "stream",
     "text": [
      "Test loss = -1.360e+00\n",
      "\n",
      "Normalized Error Omega_m = 0.749\n",
      "Normalized Error sigma_8 = 0.592\n",
      "Error Omega_m = 0.300\n",
      "Error sigma_8 = 0.237\n",
      "Bayesian error Omega_m = 0.010\n",
      "Bayesian error sigma_8 = 0.013\n",
      "Relative error Omega_m = 1.576\n",
      "Relative error sigma_8 = 0.350\n",
      "R^2: -3.6545406300690164\n"
     ]
    },
    {
     "name": "stderr",
     "output_type": "stream",
     "text": [
      " 73%|███████▎  | 73/100 [00:32<00:12,  2.23it/s]"
     ]
    },
    {
     "name": "stdout",
     "output_type": "stream",
     "text": [
      "Test loss = -1.359e+00\n",
      "\n",
      "Normalized Error Omega_m = 0.749\n",
      "Normalized Error sigma_8 = 0.593\n",
      "Error Omega_m = 0.299\n",
      "Error sigma_8 = 0.237\n",
      "Bayesian error Omega_m = 0.010\n",
      "Bayesian error sigma_8 = 0.013\n",
      "Relative error Omega_m = 1.579\n",
      "Relative error sigma_8 = 0.351\n",
      "R^2: -3.6216010340280507\n"
     ]
    },
    {
     "name": "stderr",
     "output_type": "stream",
     "text": [
      " 74%|███████▍  | 74/100 [00:33<00:11,  2.24it/s]"
     ]
    },
    {
     "name": "stdout",
     "output_type": "stream",
     "text": [
      "Test loss = -1.334e+00\n",
      "\n",
      "Normalized Error Omega_m = 0.750\n",
      "Normalized Error sigma_8 = 0.596\n",
      "Error Omega_m = 0.300\n",
      "Error sigma_8 = 0.238\n",
      "Bayesian error Omega_m = 0.010\n",
      "Bayesian error sigma_8 = 0.013\n",
      "Relative error Omega_m = 1.580\n",
      "Relative error sigma_8 = 0.353\n",
      "R^2: -5.2507680885039845\n"
     ]
    },
    {
     "name": "stderr",
     "output_type": "stream",
     "text": [
      " 75%|███████▌  | 75/100 [00:33<00:11,  2.24it/s]"
     ]
    },
    {
     "name": "stdout",
     "output_type": "stream",
     "text": [
      "Test loss = -1.357e+00\n",
      "\n",
      "Normalized Error Omega_m = 0.750\n",
      "Normalized Error sigma_8 = 0.591\n",
      "Error Omega_m = 0.300\n",
      "Error sigma_8 = 0.236\n",
      "Bayesian error Omega_m = 0.010\n",
      "Bayesian error sigma_8 = 0.013\n",
      "Relative error Omega_m = 1.582\n",
      "Relative error sigma_8 = 0.350\n",
      "R^2: -2.380841954078045\n"
     ]
    },
    {
     "name": "stderr",
     "output_type": "stream",
     "text": [
      " 76%|███████▌  | 76/100 [00:33<00:10,  2.24it/s]"
     ]
    },
    {
     "name": "stdout",
     "output_type": "stream",
     "text": [
      "Test loss = -1.356e+00\n",
      "\n",
      "Normalized Error Omega_m = 0.752\n",
      "Normalized Error sigma_8 = 0.591\n",
      "Error Omega_m = 0.301\n",
      "Error sigma_8 = 0.236\n",
      "Bayesian error Omega_m = 0.010\n",
      "Bayesian error sigma_8 = 0.013\n",
      "Relative error Omega_m = 1.583\n",
      "Relative error sigma_8 = 0.350\n",
      "R^2: -4.532725425331083\n"
     ]
    },
    {
     "name": "stderr",
     "output_type": "stream",
     "text": [
      " 77%|███████▋  | 77/100 [00:34<00:10,  2.23it/s]"
     ]
    },
    {
     "name": "stdout",
     "output_type": "stream",
     "text": [
      "Test loss = -1.337e+00\n",
      "\n",
      "Normalized Error Omega_m = 0.751\n",
      "Normalized Error sigma_8 = 0.595\n",
      "Error Omega_m = 0.300\n",
      "Error sigma_8 = 0.238\n",
      "Bayesian error Omega_m = 0.010\n",
      "Bayesian error sigma_8 = 0.013\n",
      "Relative error Omega_m = 1.583\n",
      "Relative error sigma_8 = 0.352\n",
      "R^2: -2.6723051803015574\n"
     ]
    },
    {
     "name": "stderr",
     "output_type": "stream",
     "text": [
      " 78%|███████▊  | 78/100 [00:34<00:09,  2.23it/s]"
     ]
    },
    {
     "name": "stdout",
     "output_type": "stream",
     "text": [
      "Test loss = -1.383e+00\n",
      "\n",
      "Normalized Error Omega_m = 0.749\n",
      "Normalized Error sigma_8 = 0.589\n",
      "Error Omega_m = 0.300\n",
      "Error sigma_8 = 0.235\n",
      "Bayesian error Omega_m = 0.010\n",
      "Bayesian error sigma_8 = 0.013\n",
      "Relative error Omega_m = 1.577\n",
      "Relative error sigma_8 = 0.348\n",
      "R^2: -2.6166024882676737\n"
     ]
    },
    {
     "name": "stderr",
     "output_type": "stream",
     "text": [
      " 79%|███████▉  | 79/100 [00:35<00:09,  2.23it/s]"
     ]
    },
    {
     "name": "stdout",
     "output_type": "stream",
     "text": [
      "Test loss = -1.390e+00\n",
      "\n",
      "Normalized Error Omega_m = 0.749\n",
      "Normalized Error sigma_8 = 0.587\n",
      "Error Omega_m = 0.300\n",
      "Error sigma_8 = 0.235\n",
      "Bayesian error Omega_m = 0.010\n",
      "Bayesian error sigma_8 = 0.013\n",
      "Relative error Omega_m = 1.573\n",
      "Relative error sigma_8 = 0.347\n",
      "R^2: -3.315322788126662\n"
     ]
    },
    {
     "name": "stderr",
     "output_type": "stream",
     "text": [
      " 80%|████████  | 80/100 [00:35<00:08,  2.23it/s]"
     ]
    },
    {
     "name": "stdout",
     "output_type": "stream",
     "text": [
      "Test loss = -1.346e+00\n",
      "\n",
      "Normalized Error Omega_m = 0.749\n",
      "Normalized Error sigma_8 = 0.593\n",
      "Error Omega_m = 0.300\n",
      "Error sigma_8 = 0.237\n",
      "Bayesian error Omega_m = 0.010\n",
      "Bayesian error sigma_8 = 0.013\n",
      "Relative error Omega_m = 1.574\n",
      "Relative error sigma_8 = 0.351\n",
      "R^2: -5.883281742648542\n"
     ]
    },
    {
     "name": "stderr",
     "output_type": "stream",
     "text": [
      " 81%|████████  | 81/100 [00:36<00:08,  2.23it/s]"
     ]
    },
    {
     "name": "stdout",
     "output_type": "stream",
     "text": [
      "Test loss = -1.346e+00\n",
      "\n",
      "Normalized Error Omega_m = 0.751\n",
      "Normalized Error sigma_8 = 0.593\n",
      "Error Omega_m = 0.300\n",
      "Error sigma_8 = 0.237\n",
      "Bayesian error Omega_m = 0.010\n",
      "Bayesian error sigma_8 = 0.013\n",
      "Relative error Omega_m = 1.583\n",
      "Relative error sigma_8 = 0.351\n",
      "R^2: -2.2699589329969823\n"
     ]
    },
    {
     "name": "stderr",
     "output_type": "stream",
     "text": [
      " 82%|████████▏ | 82/100 [00:36<00:08,  2.24it/s]"
     ]
    },
    {
     "name": "stdout",
     "output_type": "stream",
     "text": [
      "Test loss = -1.335e+00\n",
      "\n",
      "Normalized Error Omega_m = 0.750\n",
      "Normalized Error sigma_8 = 0.595\n",
      "Error Omega_m = 0.300\n",
      "Error sigma_8 = 0.238\n",
      "Bayesian error Omega_m = 0.010\n",
      "Bayesian error sigma_8 = 0.013\n",
      "Relative error Omega_m = 1.581\n",
      "Relative error sigma_8 = 0.352\n",
      "R^2: -2.3775451438759116\n"
     ]
    },
    {
     "name": "stderr",
     "output_type": "stream",
     "text": [
      " 83%|████████▎ | 83/100 [00:37<00:07,  2.24it/s]"
     ]
    },
    {
     "name": "stdout",
     "output_type": "stream",
     "text": [
      "Test loss = -1.359e+00\n",
      "\n",
      "Normalized Error Omega_m = 0.749\n",
      "Normalized Error sigma_8 = 0.592\n",
      "Error Omega_m = 0.300\n",
      "Error sigma_8 = 0.237\n",
      "Bayesian error Omega_m = 0.010\n",
      "Bayesian error sigma_8 = 0.013\n",
      "Relative error Omega_m = 1.574\n",
      "Relative error sigma_8 = 0.350\n",
      "R^2: -3.2469701674359825\n"
     ]
    },
    {
     "name": "stderr",
     "output_type": "stream",
     "text": [
      " 84%|████████▍ | 84/100 [00:37<00:07,  2.25it/s]"
     ]
    },
    {
     "name": "stdout",
     "output_type": "stream",
     "text": [
      "Test loss = -1.349e+00\n",
      "\n",
      "Normalized Error Omega_m = 0.749\n",
      "Normalized Error sigma_8 = 0.594\n",
      "Error Omega_m = 0.300\n",
      "Error sigma_8 = 0.238\n",
      "Bayesian error Omega_m = 0.010\n",
      "Bayesian error sigma_8 = 0.013\n",
      "Relative error Omega_m = 1.578\n",
      "Relative error sigma_8 = 0.351\n",
      "R^2: -3.2943279587830823\n"
     ]
    },
    {
     "name": "stderr",
     "output_type": "stream",
     "text": [
      " 85%|████████▌ | 85/100 [00:38<00:06,  2.24it/s]"
     ]
    },
    {
     "name": "stdout",
     "output_type": "stream",
     "text": [
      "Test loss = -1.363e+00\n",
      "\n",
      "Normalized Error Omega_m = 0.749\n",
      "Normalized Error sigma_8 = 0.590\n",
      "Error Omega_m = 0.300\n",
      "Error sigma_8 = 0.236\n",
      "Bayesian error Omega_m = 0.010\n",
      "Bayesian error sigma_8 = 0.013\n",
      "Relative error Omega_m = 1.576\n",
      "Relative error sigma_8 = 0.349\n",
      "R^2: -2.651200289264086\n"
     ]
    },
    {
     "name": "stderr",
     "output_type": "stream",
     "text": [
      " 86%|████████▌ | 86/100 [00:38<00:06,  2.24it/s]"
     ]
    },
    {
     "name": "stdout",
     "output_type": "stream",
     "text": [
      "Test loss = -1.353e+00\n",
      "\n",
      "Normalized Error Omega_m = 0.748\n",
      "Normalized Error sigma_8 = 0.594\n",
      "Error Omega_m = 0.299\n",
      "Error sigma_8 = 0.238\n",
      "Bayesian error Omega_m = 0.010\n",
      "Bayesian error sigma_8 = 0.013\n",
      "Relative error Omega_m = 1.574\n",
      "Relative error sigma_8 = 0.351\n",
      "R^2: -4.31248309062796\n"
     ]
    },
    {
     "name": "stderr",
     "output_type": "stream",
     "text": [
      " 87%|████████▋ | 87/100 [00:38<00:05,  2.24it/s]"
     ]
    },
    {
     "name": "stdout",
     "output_type": "stream",
     "text": [
      "Test loss = -1.354e+00\n",
      "\n",
      "Normalized Error Omega_m = 0.750\n",
      "Normalized Error sigma_8 = 0.592\n",
      "Error Omega_m = 0.300\n",
      "Error sigma_8 = 0.237\n",
      "Bayesian error Omega_m = 0.010\n",
      "Bayesian error sigma_8 = 0.013\n",
      "Relative error Omega_m = 1.581\n",
      "Relative error sigma_8 = 0.350\n",
      "R^2: -3.950049097931048\n"
     ]
    },
    {
     "name": "stderr",
     "output_type": "stream",
     "text": [
      " 88%|████████▊ | 88/100 [00:39<00:05,  2.24it/s]"
     ]
    },
    {
     "name": "stdout",
     "output_type": "stream",
     "text": [
      "Test loss = -1.356e+00\n",
      "\n",
      "Normalized Error Omega_m = 0.750\n",
      "Normalized Error sigma_8 = 0.593\n",
      "Error Omega_m = 0.300\n",
      "Error sigma_8 = 0.237\n",
      "Bayesian error Omega_m = 0.010\n",
      "Bayesian error sigma_8 = 0.013\n",
      "Relative error Omega_m = 1.578\n",
      "Relative error sigma_8 = 0.351\n",
      "R^2: -3.503463106232968\n"
     ]
    },
    {
     "name": "stderr",
     "output_type": "stream",
     "text": [
      " 89%|████████▉ | 89/100 [00:39<00:04,  2.25it/s]"
     ]
    },
    {
     "name": "stdout",
     "output_type": "stream",
     "text": [
      "Test loss = -1.350e+00\n",
      "\n",
      "Normalized Error Omega_m = 0.749\n",
      "Normalized Error sigma_8 = 0.594\n",
      "Error Omega_m = 0.299\n",
      "Error sigma_8 = 0.237\n",
      "Bayesian error Omega_m = 0.010\n",
      "Bayesian error sigma_8 = 0.013\n",
      "Relative error Omega_m = 1.578\n",
      "Relative error sigma_8 = 0.351\n",
      "R^2: -3.097799625676015\n"
     ]
    },
    {
     "name": "stderr",
     "output_type": "stream",
     "text": [
      " 90%|█████████ | 90/100 [00:40<00:04,  2.25it/s]"
     ]
    },
    {
     "name": "stdout",
     "output_type": "stream",
     "text": [
      "Test loss = -1.346e+00\n",
      "\n",
      "Normalized Error Omega_m = 0.750\n",
      "Normalized Error sigma_8 = 0.594\n",
      "Error Omega_m = 0.300\n",
      "Error sigma_8 = 0.238\n",
      "Bayesian error Omega_m = 0.010\n",
      "Bayesian error sigma_8 = 0.013\n",
      "Relative error Omega_m = 1.579\n",
      "Relative error sigma_8 = 0.351\n",
      "R^2: -3.214474306674065\n"
     ]
    },
    {
     "name": "stderr",
     "output_type": "stream",
     "text": [
      " 91%|█████████ | 91/100 [00:40<00:04,  2.24it/s]"
     ]
    },
    {
     "name": "stdout",
     "output_type": "stream",
     "text": [
      "Test loss = -1.363e+00\n",
      "\n",
      "Normalized Error Omega_m = 0.748\n",
      "Normalized Error sigma_8 = 0.592\n",
      "Error Omega_m = 0.299\n",
      "Error sigma_8 = 0.237\n",
      "Bayesian error Omega_m = 0.010\n",
      "Bayesian error sigma_8 = 0.013\n",
      "Relative error Omega_m = 1.579\n",
      "Relative error sigma_8 = 0.350\n",
      "R^2: -3.1001929169476927\n"
     ]
    },
    {
     "name": "stderr",
     "output_type": "stream",
     "text": [
      " 92%|█████████▏| 92/100 [00:41<00:03,  2.23it/s]"
     ]
    },
    {
     "name": "stdout",
     "output_type": "stream",
     "text": [
      "Test loss = -1.355e+00\n",
      "\n",
      "Normalized Error Omega_m = 0.750\n",
      "Normalized Error sigma_8 = 0.592\n",
      "Error Omega_m = 0.300\n",
      "Error sigma_8 = 0.237\n",
      "Bayesian error Omega_m = 0.010\n",
      "Bayesian error sigma_8 = 0.013\n",
      "Relative error Omega_m = 1.580\n",
      "Relative error sigma_8 = 0.351\n",
      "R^2: -1.9526639380825541\n"
     ]
    },
    {
     "name": "stderr",
     "output_type": "stream",
     "text": [
      " 93%|█████████▎| 93/100 [00:41<00:03,  2.23it/s]"
     ]
    },
    {
     "name": "stdout",
     "output_type": "stream",
     "text": [
      "Test loss = -1.355e+00\n",
      "\n",
      "Normalized Error Omega_m = 0.749\n",
      "Normalized Error sigma_8 = 0.592\n",
      "Error Omega_m = 0.300\n",
      "Error sigma_8 = 0.237\n",
      "Bayesian error Omega_m = 0.010\n",
      "Bayesian error sigma_8 = 0.013\n",
      "Relative error Omega_m = 1.577\n",
      "Relative error sigma_8 = 0.351\n",
      "R^2: -2.5937154940544302\n"
     ]
    },
    {
     "name": "stderr",
     "output_type": "stream",
     "text": [
      " 94%|█████████▍| 94/100 [00:42<00:02,  2.23it/s]"
     ]
    },
    {
     "name": "stdout",
     "output_type": "stream",
     "text": [
      "Test loss = -1.360e+00\n",
      "\n",
      "Normalized Error Omega_m = 0.749\n",
      "Normalized Error sigma_8 = 0.592\n",
      "Error Omega_m = 0.299\n",
      "Error sigma_8 = 0.237\n",
      "Bayesian error Omega_m = 0.010\n",
      "Bayesian error sigma_8 = 0.013\n",
      "Relative error Omega_m = 1.577\n",
      "Relative error sigma_8 = 0.351\n",
      "R^2: -3.533176797631504\n"
     ]
    },
    {
     "name": "stderr",
     "output_type": "stream",
     "text": [
      " 95%|█████████▌| 95/100 [00:42<00:02,  2.24it/s]"
     ]
    },
    {
     "name": "stdout",
     "output_type": "stream",
     "text": [
      "Test loss = -1.361e+00\n",
      "\n",
      "Normalized Error Omega_m = 0.752\n",
      "Normalized Error sigma_8 = 0.592\n",
      "Error Omega_m = 0.301\n",
      "Error sigma_8 = 0.237\n",
      "Bayesian error Omega_m = 0.010\n",
      "Bayesian error sigma_8 = 0.013\n",
      "Relative error Omega_m = 1.585\n",
      "Relative error sigma_8 = 0.350\n",
      "R^2: -3.7598000725555405\n"
     ]
    },
    {
     "name": "stderr",
     "output_type": "stream",
     "text": [
      " 96%|█████████▌| 96/100 [00:42<00:01,  2.24it/s]"
     ]
    },
    {
     "name": "stdout",
     "output_type": "stream",
     "text": [
      "Test loss = -1.376e+00\n",
      "\n",
      "Normalized Error Omega_m = 0.748\n",
      "Normalized Error sigma_8 = 0.590\n",
      "Error Omega_m = 0.299\n",
      "Error sigma_8 = 0.236\n",
      "Bayesian error Omega_m = 0.010\n",
      "Bayesian error sigma_8 = 0.013\n",
      "Relative error Omega_m = 1.573\n",
      "Relative error sigma_8 = 0.349\n",
      "R^2: -3.1308601531077507\n"
     ]
    },
    {
     "name": "stderr",
     "output_type": "stream",
     "text": [
      " 97%|█████████▋| 97/100 [00:43<00:01,  2.24it/s]"
     ]
    },
    {
     "name": "stdout",
     "output_type": "stream",
     "text": [
      "Test loss = -1.363e+00\n",
      "\n",
      "Normalized Error Omega_m = 0.748\n",
      "Normalized Error sigma_8 = 0.592\n",
      "Error Omega_m = 0.299\n",
      "Error sigma_8 = 0.237\n",
      "Bayesian error Omega_m = 0.010\n",
      "Bayesian error sigma_8 = 0.013\n",
      "Relative error Omega_m = 1.573\n",
      "Relative error sigma_8 = 0.350\n",
      "R^2: -3.5387607557000544\n"
     ]
    },
    {
     "name": "stderr",
     "output_type": "stream",
     "text": [
      " 98%|█████████▊| 98/100 [00:43<00:00,  2.24it/s]"
     ]
    },
    {
     "name": "stdout",
     "output_type": "stream",
     "text": [
      "Test loss = -1.343e+00\n",
      "\n",
      "Normalized Error Omega_m = 0.750\n",
      "Normalized Error sigma_8 = 0.595\n",
      "Error Omega_m = 0.300\n",
      "Error sigma_8 = 0.238\n",
      "Bayesian error Omega_m = 0.010\n",
      "Bayesian error sigma_8 = 0.013\n",
      "Relative error Omega_m = 1.580\n",
      "Relative error sigma_8 = 0.352\n",
      "R^2: -3.3999283605073964\n"
     ]
    },
    {
     "name": "stderr",
     "output_type": "stream",
     "text": [
      " 99%|█████████▉| 99/100 [00:44<00:00,  2.24it/s]"
     ]
    },
    {
     "name": "stdout",
     "output_type": "stream",
     "text": [
      "Test loss = -1.343e+00\n",
      "\n",
      "Normalized Error Omega_m = 0.749\n",
      "Normalized Error sigma_8 = 0.593\n",
      "Error Omega_m = 0.300\n",
      "Error sigma_8 = 0.237\n",
      "Bayesian error Omega_m = 0.010\n",
      "Bayesian error sigma_8 = 0.013\n",
      "Relative error Omega_m = 1.577\n",
      "Relative error sigma_8 = 0.351\n",
      "R^2: -4.468908771224769\n"
     ]
    },
    {
     "name": "stderr",
     "output_type": "stream",
     "text": [
      "100%|██████████| 100/100 [00:44<00:00,  2.24it/s]"
     ]
    },
    {
     "name": "stdout",
     "output_type": "stream",
     "text": [
      "Test loss = -1.359e+00\n",
      "\n",
      "Normalized Error Omega_m = 0.749\n",
      "Normalized Error sigma_8 = 0.592\n",
      "Error Omega_m = 0.300\n",
      "Error sigma_8 = 0.237\n",
      "Bayesian error Omega_m = 0.010\n",
      "Bayesian error sigma_8 = 0.013\n",
      "Relative error Omega_m = 1.579\n",
      "Relative error sigma_8 = 0.350\n",
      "R^2: -2.6726090700960983\n",
      "average R2: -3.291979391528467\n"
     ]
    },
    {
     "name": "stderr",
     "output_type": "stream",
     "text": [
      "\n"
     ]
    }
   ],
   "source": [
    "# load test set\n",
    "test_loader  = create_dataset_multifield('test', seed, fmaps, fparams, batch_size, splits, fmaps_norm,\n",
    "                                         rot_flip_in_mem=False, verbose=True)\n",
    "\n",
    "# get the number of maps in the test set\n",
    "num_maps = 0\n",
    "for x,y in test_loader:\n",
    "      num_maps += x.shape[0]\n",
    "print('\\nNumber of maps in the test set: %d'%num_maps)\n",
    "\n",
    "r2_list = []\n",
    "n_test = 100\n",
    "for i in tqdm(range(n_test)):\n",
    "    # define the arrays containing the value of the parameters\n",
    "    params_true = np.zeros((num_maps,len(g)), dtype=np.float32)\n",
    "    params_NN   = np.zeros((num_maps,len(g)), dtype=np.float32)\n",
    "    errors_NN   = np.zeros((num_maps,len(g)), dtype=np.float32)\n",
    "\n",
    "    # get test loss\n",
    "    test_loss1, test_loss2 = torch.zeros(len(g)).to(device), torch.zeros(len(g)).to(device)\n",
    "    test_loss, points = 0.0, 0\n",
    "    model.eval()\n",
    "    for x, y in test_loader:\n",
    "        with torch.no_grad():\n",
    "            bs    = x.shape[0]    #batch size\n",
    "            x     = x.to(device)  #send data to device\n",
    "            y     = y.to(device)[:,g]  #send data to device\n",
    "            p     = model(x)      #prediction for mean and variance\n",
    "            y_NN  = p[:,g]        #prediction for mean\n",
    "            e_NN  = p[:,h]        #prediction for error\n",
    "            loss1 = torch.mean((y_NN[:,g] - y[:,g])**2,                     axis=0)\n",
    "            loss2 = torch.mean(((y_NN[:,g] - y[:,g])**2 - e_NN[:,g]**2)**2, axis=0)\n",
    "            test_loss1 += loss1*bs\n",
    "            test_loss2 += loss2*bs\n",
    "\n",
    "            # save results to their corresponding arrays\n",
    "            params_true[points:points+x.shape[0]] = y.cpu().numpy()\n",
    "            params_NN[points:points+x.shape[0]]   = y_NN.cpu().numpy()\n",
    "            errors_NN[points:points+x.shape[0]]   = e_NN.cpu().numpy()\n",
    "            points    += x.shape[0]\n",
    "    test_loss = torch.log(test_loss1/points) + torch.log(test_loss2/points)\n",
    "    test_loss = torch.mean(test_loss).item()\n",
    "    print('Test loss = %.3e\\n'%test_loss)\n",
    "\n",
    "    Norm_error = np.sqrt(np.mean((params_true - params_NN)**2, axis=0))\n",
    "    print('Normalized Error Omega_m = %.3f'%Norm_error[0])\n",
    "    print('Normalized Error sigma_8 = %.3f'%Norm_error[1])\n",
    "    # print('Normalized Error A_SN1   = %.3f'%Norm_error[2])\n",
    "    # print('Normalized Error A_AGN1  = %.3f'%Norm_error[3])\n",
    "    # print('Normalized Error A_SN2   = %.3f'%Norm_error[4])\n",
    "    # print('Normalized Error A_AGN2  = %.3f\\n'%Norm_error[5])\n",
    "\n",
    "    # de-normalize\n",
    "    # minimum = np.array([0.1, 0.6, 0.25, 0.25, 0.5, 0.5])\n",
    "    # maximum = np.array([0.5, 1.0, 4.00, 4.00, 2.0, 2.0])\n",
    "    minimum = np.array([0.1, 0.6])\n",
    "    maximum = np.array([0.5, 1.0])\n",
    "    params_true = params_true*(maximum - minimum) + minimum\n",
    "    params_NN   = params_NN*(maximum - minimum) + minimum\n",
    "    errors_NN   = errors_NN*(maximum - minimum)\n",
    "\n",
    "    error = np.sqrt(np.mean((params_true - params_NN)**2, axis=0))\n",
    "    print('Error Omega_m = %.3f'%error[0])\n",
    "    print('Error sigma_8 = %.3f'%error[1])\n",
    "    # print('Error A_SN1   = %.3f'%error[2])\n",
    "    # print('Error A_AGN1  = %.3f'%error[3])\n",
    "    # print('Error A_SN2   = %.3f'%error[4])\n",
    "    # print('Error A_AGN2  = %.3f\\n'%error[5])\n",
    "\n",
    "    mean_error = np.absolute(np.mean(errors_NN, axis=0))\n",
    "    print('Bayesian error Omega_m = %.3f'%mean_error[0])\n",
    "    print('Bayesian error sigma_8 = %.3f'%mean_error[1])\n",
    "    # print('Bayesian error A_SN1   = %.3f'%mean_error[2])\n",
    "    # print('Bayesian error A_AGN1  = %.3f'%mean_error[3])\n",
    "    # print('Bayesian error A_SN2   = %.3f'%mean_error[4])\n",
    "    # print('Bayesian error A_AGN2  = %.3f\\n'%mean_error[5])\n",
    "\n",
    "    rel_error = np.sqrt(np.mean((params_true - params_NN)**2/params_true**2, axis=0))\n",
    "    print('Relative error Omega_m = %.3f'%rel_error[0])\n",
    "    print('Relative error sigma_8 = %.3f'%rel_error[1])\n",
    "    # print('Relative error A_SN1   = %.3f'%rel_error[2])\n",
    "    # print('Relative error A_AGN1  = %.3f'%rel_error[3])\n",
    "    # print('Relative error A_SN2   = %.3f'%rel_error[4])\n",
    "    # print('Relative error A_AGN2  = %.3f\\n'%rel_error[5])\n",
    "\n",
    "    # save results to file\n",
    "    #dataset = np.zeros((num_maps,18), dtype=np.float32)\n",
    "    #dataset[:,:6]   = params_true\n",
    "    #dataset[:,6:12] = params_NN\n",
    "    #dataset[:,12:]  = errors_NN\n",
    "    #np.savetxt(fresults,  dataset)\n",
    "    #np.savetxt(fresults1, Norm_error)\n",
    "\n",
    "    from sklearn.metrics import r2_score\n",
    "    indexes = np.arange(50)*splits\n",
    "    r2 = r2_score(params_true[indexes,1], params_NN[indexes,1])\n",
    "    print(\"R^2:\", r2)\n",
    "    r2_list.append(r2)\n",
    "\n",
    "print('average R2:', np.mean(r2_list))"
   ]
  },
  {
   "cell_type": "markdown",
   "metadata": {
    "id": "90J57zLFqjiV"
   },
   "source": [
    "### plot the results for $\\Omega_{\\rm m}$"
   ]
  },
  {
   "cell_type": "code",
   "execution_count": 18,
   "metadata": {
    "colab": {
     "base_uri": "https://localhost:8080/",
     "height": 620
    },
    "executionInfo": {
     "elapsed": 486,
     "status": "ok",
     "timestamp": 1696449139882,
     "user": {
      "displayName": "Jingyue Huang",
      "userId": "10711135304644079745"
     },
     "user_tz": 240
    },
    "id": "xmMUI3bKqbvI",
    "outputId": "e09cdcda-173f-4605-f34b-e7aeede38f5b"
   },
   "outputs": [
    {
     "name": "stdout",
     "output_type": "stream",
     "text": [
      "R^2: 0.9499050162213075\n"
     ]
    },
    {
     "data": {
      "image/png": "[encoded data removed]",
      "text/plain": [
       "<Figure size 700x700 with 1 Axes>"
      ]
     },
     "metadata": {},
     "output_type": "display_data"
    }
   ],
   "source": [
    "# select the first map of every simulation in the test set\n",
    "indexes = np.arange(50)*splits\n",
    "\n",
    "fig=plt.figure(figsize=(7,7))\n",
    "plt.xlabel(r'${\\rm Truth}$')\n",
    "plt.ylabel(r'${\\rm Inference}$')\n",
    "plt.text(0.1, 0.45, r'$\\Omega_{\\rm m}$',fontsize=18)\n",
    "\n",
    "\n",
    "print(\"R^2:\", r2_score(params_true[indexes,0], params_NN[indexes,0]))\n",
    "\n",
    "plt.errorbar(params_true[indexes,0], params_NN[indexes,0], errors_NN[indexes,0],\n",
    "             linestyle='None', lw=1, fmt='o', ms=2, elinewidth=1, capsize=0, c='r')\n",
    "plt.plot([0.1,0.5], [0.1,0.5], color='k')\n",
    "\n",
    "# plt.title(\"TNG -> SIMBA\")\n",
    "# plt.savefig(\"SIMBA_omega_sd.png\")\n",
    "plt.show()"
   ]
  },
  {
   "cell_type": "markdown",
   "metadata": {
    "id": "XE8itGaGvvKb"
   },
   "source": [
    "### plot the results for $\\sigma_8$"
   ]
  },
  {
   "cell_type": "code",
   "execution_count": 19,
   "metadata": {
    "colab": {
     "base_uri": "https://localhost:8080/",
     "height": 620
    },
    "executionInfo": {
     "elapsed": 578,
     "status": "ok",
     "timestamp": 1696449142402,
     "user": {
      "displayName": "Jingyue Huang",
      "userId": "10711135304644079745"
     },
     "user_tz": 240
    },
    "id": "h_Wf7whwrE_D",
    "outputId": "85ca4910-f750-4508-97f6-9c72f5da1288"
   },
   "outputs": [
    {
     "name": "stdout",
     "output_type": "stream",
     "text": [
      "R^2: 0.8328903987375611\n"
     ]
    },
    {
     "data": {
      "image/png": "[encoded data removed]",
      "text/plain": [
       "<Figure size 700x700 with 1 Axes>"
      ]
     },
     "metadata": {},
     "output_type": "display_data"
    }
   ],
   "source": [
    "fig=plt.figure(figsize=(7,7))\n",
    "plt.xlabel(r'${\\rm Truth}$')\n",
    "plt.ylabel(r'${\\rm Inference}$')\n",
    "plt.text(0.6, 0.95, r'$\\sigma_8$',fontsize=18)\n",
    "\n",
    "print(\"R^2:\", r2_score(params_true[indexes,1], params_NN[indexes,1]))\n",
    "\n",
    "plt.errorbar(params_true[indexes,1], params_NN[indexes,1], errors_NN[indexes,1],\n",
    "             linestyle='None', lw=1, fmt='o', ms=2, elinewidth=1, capsize=0, c='r')\n",
    "plt.plot([0.6,1.0], [0.6,1.0], color='k')\n",
    "\n",
    "# plt.title(\"TNG -> SIMBA\")\n",
    "# plt.savefig(\"SIMBA_sigma_sd.png\")\n",
    "plt.show()"
   ]
  },
  {
   "cell_type": "markdown",
   "metadata": {
    "id": "Qw17Gj8jW0Zb"
   },
   "source": [
    "### plot results for $A_{\\rm SN1}$"
   ]
  },
  {
   "cell_type": "code",
   "execution_count": 21,
   "metadata": {
    "colab": {
     "base_uri": "https://localhost:8080/",
     "height": 620
    },
    "executionInfo": {
     "elapsed": 723,
     "status": "ok",
     "timestamp": 1696449144915,
     "user": {
      "displayName": "Jingyue Huang",
      "userId": "10711135304644079745"
     },
     "user_tz": 240
    },
    "id": "Ny2RUsZov3YY",
    "outputId": "3744e6e9-7f33-48c6-8a40-4bdafefcef1d"
   },
   "outputs": [
    {
     "data": {
      "image/png": "[encoded data removed]",
      "text/plain": [
       "<Figure size 700x700 with 1 Axes>"
      ]
     },
     "metadata": {},
     "output_type": "display_data"
    }
   ],
   "source": [
    "fig=plt.figure(figsize=(7,7))\n",
    "plt.xlabel(r'${\\rm Truth}$')\n",
    "plt.ylabel(r'${\\rm Inference}$')\n",
    "plt.text(0.25, 4.0, r'$A_{\\rm SN1}$',fontsize=18)\n",
    "\n",
    "plt.errorbar(params_true[indexes,2], params_NN[indexes,2], errors_NN[indexes,2],\n",
    "             linestyle='None', lw=1, fmt='o', ms=2, elinewidth=1, capsize=0, c='r')\n",
    "plt.plot([0.25,4.0], [0.25,4.0], color='k')\n",
    "\n",
    "plt.show()"
   ]
  },
  {
   "cell_type": "markdown",
   "metadata": {
    "id": "Ykfc2lN5W4_-"
   },
   "source": [
    "### plot results for $A_{\\rm SN2}$"
   ]
  },
  {
   "cell_type": "code",
   "execution_count": 20,
   "metadata": {
    "colab": {
     "base_uri": "https://localhost:8080/",
     "height": 620
    },
    "executionInfo": {
     "elapsed": 456,
     "status": "ok",
     "timestamp": 1696449146957,
     "user": {
      "displayName": "Jingyue Huang",
      "userId": "10711135304644079745"
     },
     "user_tz": 240
    },
    "id": "o_ZvKgHyYIGK",
    "outputId": "f3cb1fe0-b1ea-4e97-9d05-1ea45a04bf24"
   },
   "outputs": [
    {
     "data": {
      "image/png": "[encoded data removed]",
      "text/plain": [
       "<Figure size 700x700 with 1 Axes>"
      ]
     },
     "metadata": {},
     "output_type": "display_data"
    }
   ],
   "source": [
    "fig=plt.figure(figsize=(7,7))\n",
    "plt.xlabel(r'${\\rm Truth}$')\n",
    "plt.ylabel(r'${\\rm Inference}$')\n",
    "plt.text(0.5, 2.0, r'$A_{\\rm SN2}$',fontsize=18)\n",
    "\n",
    "plt.errorbar(params_true[indexes,4], params_NN[indexes,4], errors_NN[indexes,4],\n",
    "             linestyle='None', lw=1, fmt='o', ms=2, elinewidth=1, capsize=0, c='r')\n",
    "plt.plot([0.5,2.0], [0.5,2.0], color='k')\n",
    "\n",
    "plt.show()"
   ]
  },
  {
   "cell_type": "markdown",
   "metadata": {
    "id": "6MZKJYOWXAbt"
   },
   "source": [
    "### plot results for $A_{\\rm AGN1}$"
   ]
  },
  {
   "cell_type": "code",
   "execution_count": 21,
   "metadata": {
    "colab": {
     "base_uri": "https://localhost:8080/",
     "height": 620
    },
    "executionInfo": {
     "elapsed": 427,
     "status": "ok",
     "timestamp": 1696449148809,
     "user": {
      "displayName": "Jingyue Huang",
      "userId": "10711135304644079745"
     },
     "user_tz": 240
    },
    "id": "iUOFxWNUYC04",
    "outputId": "70918372-5548-402f-ac75-f38e454c62ff"
   },
   "outputs": [
    {
     "data": {
      "image/png": "[encoded data removed]",
      "text/plain": [
       "<Figure size 700x700 with 1 Axes>"
      ]
     },
     "metadata": {},
     "output_type": "display_data"
    }
   ],
   "source": [
    "fig=plt.figure(figsize=(7,7))\n",
    "plt.xlabel(r'${\\rm Truth}$')\n",
    "plt.ylabel(r'${\\rm Inference}$')\n",
    "plt.text(0.25, 4.0, r'$A_{\\rm AGN1}$',fontsize=18)\n",
    "\n",
    "plt.errorbar(params_true[indexes,3], params_NN[indexes,3], errors_NN[indexes,3],\n",
    "             linestyle='None', lw=1, fmt='o', ms=2, elinewidth=1, capsize=0, c='r')\n",
    "plt.plot([0.25,4.0], [0.25,4.0], color='k')\n",
    "\n",
    "plt.show()"
   ]
  },
  {
   "cell_type": "markdown",
   "metadata": {
    "id": "uHousvPDXAEj"
   },
   "source": [
    "### plot results for $A_{\\rm AGN2}$"
   ]
  },
  {
   "cell_type": "code",
   "execution_count": 22,
   "metadata": {
    "colab": {
     "base_uri": "https://localhost:8080/",
     "height": 620
    },
    "executionInfo": {
     "elapsed": 491,
     "status": "ok",
     "timestamp": 1696449150839,
     "user": {
      "displayName": "Jingyue Huang",
      "userId": "10711135304644079745"
     },
     "user_tz": 240
    },
    "id": "K23LDB1aW9-i",
    "outputId": "658e315b-579c-4703-983a-05822d13477c"
   },
   "outputs": [
    {
     "data": {
      "image/png": "[encoded data removed]",
      "text/plain": [
       "<Figure size 700x700 with 1 Axes>"
      ]
     },
     "metadata": {},
     "output_type": "display_data"
    }
   ],
   "source": [
    "fig=plt.figure(figsize=(7,7))\n",
    "plt.xlabel(r'${\\rm Truth}$')\n",
    "plt.ylabel(r'${\\rm Inference}$')\n",
    "plt.text(0.5, 2.0, r'$A_{\\rm AGN2}$',fontsize=18)\n",
    "\n",
    "plt.errorbar(params_true[indexes,5], params_NN[indexes,5], errors_NN[indexes,5],\n",
    "             linestyle='None', lw=1, fmt='o', ms=2, elinewidth=1, capsize=0, c='r')\n",
    "plt.plot([0.5,2.0], [0.5,2.0], color='k')\n",
    "\n",
    "plt.show()"
   ]
  },
  {
   "cell_type": "markdown",
   "metadata": {},
   "source": [
    "## Compute CKA"
   ]
  },
  {
   "cell_type": "code",
   "execution_count": 32,
   "metadata": {},
   "outputs": [
    {
     "name": "stdout",
     "output_type": "stream",
     "text": [
      "total number of parameters in the model = 28429326\n",
      "Weights loaded\n"
     ]
    }
   ],
   "source": [
    "# now that architecture is defined above, use it\n",
    "model = model_o3_err_1param(hidden, dr, channels)\n",
    "# model = nn.DataParallel(model)\n",
    "model.to(device=device)\n",
    "network_total_params = sum(p.numel() for p in model.parameters())\n",
    "print('total number of parameters in the model = %d'%network_total_params)\n",
    "\n",
    "# load the weights in case they exists\n",
    "fmodel = 'layer20_TNG_1param_norm/weights.pt'\n",
    "# fmodel = 'layer20_TNG_SIMBA/weights.pt'\n",
    "# fmodel = 'best_weights_T_TNG.pt'\n",
    "\n",
    "if os.path.exists(fmodel):\n",
    "    checkpoint = torch.load(fmodel, map_location=torch.device(device))\n",
    "    new_state_dict = {k.replace('module.', ''): v for k, v in checkpoint.items()}\n",
    "    model.load_state_dict(new_state_dict)\n",
    "    \n",
    "    # model.load_state_dict(torch.load(fmodel, map_location=torch.device(device)))\n",
    "    print('Weights loaded')"
   ]
  },
  {
   "cell_type": "code",
   "execution_count": 44,
   "metadata": {},
   "outputs": [
    {
     "name": "stdout",
     "output_type": "stream",
     "text": [
      "750\n",
      "Found 1 channels\n",
      "Reading data...\n",
      "1.502e+03 < F(all|orig) < 8.669e+07\n",
      "3.177 < F(all|resc)  < 7.938\n",
      "-2.020 < F(all|norm) < 1.917\n"
     ]
    }
   ],
   "source": [
    "# load test set\n",
    "fmaps = ['maps_T_TNG.npy']\n",
    "fparams = '2D_maps/data/params_LH_IllustrisTNG.txt'\n",
    "test_loader  = create_dataset_multifield('test', seed, fmaps, fparams, batch_size, splits, fmaps_norm,\n",
    "                                         rot_flip_in_mem=False, verbose=True)"
   ]
  },
  {
   "cell_type": "code",
   "execution_count": 38,
   "metadata": {},
   "outputs": [
    {
     "name": "stdout",
     "output_type": "stream",
     "text": [
      "750\n",
      "Found 1 channels\n",
      "Reading data...\n",
      "2.215e+02 < F(all|orig) < 2.772e+11\n",
      "2.345 < F(all|resc)  < 11.443\n",
      "-2.708 < F(all|norm) < 4.815\n"
     ]
    }
   ],
   "source": [
    "# load test set\n",
    "fmaps = ['maps_T_SIMBA.npy']\n",
    "fparams = '2D_maps/data/params_LH_SIMBA.txt'\n",
    "test_loader  = create_dataset_multifield('test', seed, fmaps, fparams, batch_size, splits, fmaps_norm,\n",
    "                                         rot_flip_in_mem=False, verbose=True)"
   ]
  },
  {
   "cell_type": "code",
   "execution_count": 39,
   "metadata": {},
   "outputs": [],
   "source": [
    "from similarity.efficient_CKA import *\n",
    "import matplotlib.pyplot as plt"
   ]
  },
  {
   "cell_type": "code",
   "execution_count": 40,
   "metadata": {},
   "outputs": [],
   "source": [
    "def normalize_activations(act):\n",
    "    \"\"\"Normalize along each row so that the norm of activations produced by each example is 1.\"\"\"\n",
    "    act = act.view(act.size(0), -1)\n",
    "    act_norm = torch.linalg.norm(act, dim=1, keepdim=True)\n",
    "    act /= act_norm\n",
    "    return act\n",
    "\n",
    "def get_activations(images, model, normalize_act=False):\n",
    "    \"\"\"Return a list of activations obtained from a model on a set of images.\"\"\"\n",
    "    activations = []\n",
    "\n",
    "    def hook_fn(module, input, output):\n",
    "        if normalize_act:\n",
    "            output = normalize_activations(output)\n",
    "        activations.append(output)\n",
    "\n",
    "    hooks = []\n",
    "    for layer in model.children():\n",
    "        if 'Linear' in str(layer) or 'Conv2d' in str(layer):\n",
    "            hooks.append(layer.register_forward_hook(hook_fn))\n",
    "\n",
    "    with torch.no_grad():\n",
    "        model(images)\n",
    "\n",
    "    for hook in hooks:\n",
    "        hook.remove()\n",
    "\n",
    "    return activations\n",
    "\n",
    "# Plotting the heatmap with 'magma' colormap and flipping the matrix vertically\n",
    "def plotHeatmap(heatmap, modelName):\n",
    "    # plt.imshow(np.flipud(heatmap), cmap='magma', interpolation='nearest')\n",
    "    imshowobj = plt.imshow(np.flipud(heatmap), cmap='magma', interpolation='nearest')\n",
    "    # imshowobj.set_clim(0,1)\n",
    "    plt.colorbar()\n",
    "    plt.title('CKA$_{minibatch}$'+f' - {modelName}', fontsize=20)\n",
    "    plt.xlabel('Layer', fontsize=20)\n",
    "    plt.ylabel('Layer', fontsize=20)\n",
    "    plt.xticks(ticks=np.arange(1, heatmap.shape[1], 2), labels=[f\"{i+1}\" for i in range(1, heatmap.shape[1], 2)], fontsize=12)\n",
    "    plt.yticks(ticks=np.arange(0, heatmap.shape[0], 2), labels=[f\"{i+1}\" for i in range(heatmap.shape[0]-1, -1, -2)], fontsize=12)\n",
    "\n",
    "    # Show the plot\n",
    "    plt.tight_layout()\n",
    "    plt.savefig(f\"heatmap/Heatmap_{modelName}.png\", dpi=300)\n",
    "    # files.download(f\"Heatmap_{modelName}.png\")\n",
    "    plt.show()"
   ]
  },
  {
   "cell_type": "code",
   "execution_count": 45,
   "metadata": {},
   "outputs": [
    {
     "name": "stderr",
     "output_type": "stream",
     "text": [
      "100%|██████████| 6/6 [00:22<00:00,  3.77s/it]\n",
      "100%|██████████| 6/6 [00:22<00:00,  3.78s/it]]\n",
      "100%|██████████| 6/6 [00:22<00:00,  3.77s/it]]\n",
      "100%|██████████| 6/6 [00:22<00:00,  3.75s/it]]\n",
      "100%|██████████| 6/6 [00:22<00:00,  3.74s/it]]\n",
      "100%|██████████| 6/6 [00:22<00:00,  3.79s/it]]\n",
      "100%|██████████| 6/6 [00:22<00:00,  3.76s/it]]\n",
      "100%|██████████| 6/6 [00:22<00:00,  3.78s/it]]\n",
      "100%|██████████| 6/6 [00:22<00:00,  3.80s/it]]\n",
      "100%|██████████| 6/6 [00:22<00:00,  3.79s/it]]\n",
      "100%|██████████| 10/10 [03:46<00:00, 22.64s/it]\n"
     ]
    }
   ],
   "source": [
    "model = model.to('cpu')\n",
    "model.eval()\n",
    "# n_layers = len(model.layers)\n",
    "n_layers = 21\n",
    "cka = MinibatchCKA(n_layers)\n",
    "count = 0\n",
    "iteration = 10\n",
    "for i in tqdm(range(iteration)):\n",
    "    for data, target in tqdm(test_loader):\n",
    "        act = get_activations(data, model, False)\n",
    "        # print(len(act))\n",
    "        cka.update_state(act)\n",
    "        # print(len(data))\n",
    "        count += len(data)"
   ]
  },
  {
   "cell_type": "code",
   "execution_count": 46,
   "metadata": {},
   "outputs": [],
   "source": [
    "heatmap = cka.result().numpy()\n",
    "# eigenvalues, eigenvectors = np.linalg.eig(heatmap)\n",
    "# np.save(\"heatmap/Layer21_SIMBA(TNG+SIMBA).npy\", heatmap)"
   ]
  },
  {
   "cell_type": "code",
   "execution_count": 47,
   "metadata": {},
   "outputs": [
    {
     "data": {
      "image/png": "[encoded data removed]",
      "text/plain": [
       "<Figure size 640x480 with 2 Axes>"
      ]
     },
     "metadata": {},
     "output_type": "display_data"
    }
   ],
   "source": [
    "name = 'Layer21_TNG(norm)'\n",
    "# heatmap = np.load(\"heatmap/{}.npy\".format(name))\n",
    "plotHeatmap(heatmap, name) # accuracy 99.12%\n",
    "np.save(\"heatmap/Layer21_TNG(norm).npy\", heatmap)"
   ]
  },
  {
   "cell_type": "code",
   "execution_count": null,
   "metadata": {},
   "outputs": [],
   "source": []
  }
 ],
 "metadata": {
  "accelerator": "GPU",
  "colab": {
   "gpuType": "T4",
   "provenance": [
    {
     "file_id": "1-BmkA8JSc36O8g9pj7FenD1YSLKqjQR3",
     "timestamp": 1696449156108
    }
   ]
  },
  "kernelspec": {
   "display_name": "ce2",
   "language": "python",
   "name": "python3"
  },
  "language_info": {
   "codemirror_mode": {
    "name": "ipython",
    "version": 3
   },
   "file_extension": ".py",
   "mimetype": "text/x-python",
   "name": "python",
   "nbconvert_exporter": "python",
   "pygments_lexer": "ipython3",
   "version": "3.8.13"
  }
 },
 "nbformat": 4,
 "nbformat_minor": 1
}
