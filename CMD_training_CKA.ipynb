{
 "cells": [
  {
   "cell_type": "code",
   "execution_count": 1,
   "metadata": {},
   "outputs": [
    {
     "name": "stderr",
     "output_type": "stream",
     "text": [
      "/home/jingyue/anaconda3/envs/cmd/lib/python3.9/site-packages/tqdm/auto.py:21: TqdmWarning: IProgress not found. Please update jupyter and ipywidgets. See https://ipywidgets.readthedocs.io/en/stable/user_install.html\n",
      "  from .autonotebook import tqdm as notebook_tqdm\n"
     ]
    }
   ],
   "source": [
    "import random\n",
    "import warnings\n",
    "import os\n",
    "from tqdm import tqdm\n",
    "import numpy as np\n",
    "import matplotlib.pyplot as plt\n",
    "import time\n",
    "\n",
    "import torch\n",
    "import torch.nn as nn\n",
    "import torch.backends.cudnn as cudnn\n",
    "import torch.optim as optim\n",
    "from torch.optim import SGD\n",
    "from torch.optim.lr_scheduler import LambdaLR\n",
    "\n",
    "from tllib.modules.regressor import Regressor\n",
    "from tllib.alignment.dann import DomainAdversarialLoss\n",
    "from tllib.modules.domain_discriminator import DomainDiscriminator\n",
    "import tllib.vision.datasets.regression as datasets\n",
    "import tllib.vision.models as models\n",
    "from tllib.utils.data import ForeverDataIterator\n",
    "from tllib.utils.meter import AverageMeter, ProgressMeter\n",
    "from tllib.utils.logger import CompleteLogger\n",
    "from tllib.utils.analysis import collect_feature, tsne, a_distance\n",
    "\n",
    "from models import model_o3_err, model_o3_err_cosmology, model_o3_err_18layers, model_o3_err_da\n",
    "from dataloader import create_dataset_multifield"
   ]
  },
  {
   "cell_type": "code",
   "execution_count": 2,
   "metadata": {},
   "outputs": [
    {
     "name": "stdout",
     "output_type": "stream",
     "text": [
      "cuda:1\n"
     ]
    }
   ],
   "source": [
    "device = torch.device(\"cuda:1\" if torch.cuda.is_available() else \"cpu\")\n",
    "print(device)"
   ]
  },
  {
   "cell_type": "code",
   "execution_count": 3,
   "metadata": {},
   "outputs": [
    {
     "name": "stderr",
     "output_type": "stream",
     "text": [
      "/tmp/ipykernel_3791199/2356918065.py:7: UserWarning: You have chosen to seed training. This will turn on the CUDNN deterministic setting, which can slow down your training considerably! You may see unexpected behavior when restarting from checkpoints.\n",
      "  warnings.warn('You have chosen to seed training. '\n"
     ]
    }
   ],
   "source": [
    "# logger = CompleteLogger('dann', 'train')\n",
    "\n",
    "seed = 1\n",
    "random.seed(1)\n",
    "torch.manual_seed(1)\n",
    "cudnn.deterministic = True\n",
    "warnings.warn('You have chosen to seed training. '\n",
    "                'This will turn on the CUDNN deterministic setting, '\n",
    "                'which can slow down your training considerably! '\n",
    "                'You may see unexpected behavior when restarting '\n",
    "                'from checkpoints.')\n",
    "cudnn.benchmark = True"
   ]
  },
  {
   "cell_type": "markdown",
   "metadata": {},
   "source": [
    "## Load Dataset"
   ]
  },
  {
   "cell_type": "code",
   "execution_count": 4,
   "metadata": {},
   "outputs": [],
   "source": [
    "batch_size = 64\n",
    "splits     = 15\n",
    "\n",
    "# Normalization\n",
    "fmaps_norm = ['maps_T_TNG.npy']\n",
    "# fmaps_norm = ['maps_T_SIMBA.npy']\n",
    "# fmaps_norm = [None]\n",
    "\n",
    "# data augmentation\n",
    "rot_flip_in_mem = False"
   ]
  },
  {
   "cell_type": "code",
   "execution_count": 5,
   "metadata": {},
   "outputs": [
    {
     "name": "stdout",
     "output_type": "stream",
     "text": [
      "13500\n",
      "Found 1 channels\n",
      "Reading data...\n",
      "1.502e+03 < F(all|orig) < 8.669e+07\n",
      "3.177 < F(all|resc)  < 7.938\n",
      "-1.282 < F(all|norm) < 4.550\n",
      "Found 1 channels\n",
      "Reading data...\n",
      "1.502e+03 < F(all|orig) < 8.669e+07\n",
      "3.177 < F(all|resc)  < 7.938\n",
      "-1.282 < F(all|norm) < 4.550\n",
      "Channel 0 contains 6000 maps\n",
      "-1.240 < F < 4.189\n",
      "\n",
      "Found 1 channels\n",
      "Reading data...\n",
      "2.215e+02 < F(all|orig) < 2.772e+11\n",
      "2.345 < F(all|resc)  < 11.443\n",
      "-2.301 < F(all|norm) < 8.844\n",
      "Channel 0 contains 6000 maps\n",
      "-2.163 < F < 8.844\n",
      "\n"
     ]
    }
   ],
   "source": [
    "# load TNG dataset (source)\n",
    "fmaps = ['maps_T_TNG.npy']\n",
    "fparams = '2D_maps/data/params_LH_IllustrisTNG.txt'\n",
    "TNG_train_loader = create_dataset_multifield('train', seed, fmaps, fparams, batch_size, splits, fmaps_norm,\n",
    "                                         rot_flip_in_mem=rot_flip_in_mem, verbose=True)\n",
    "TNG_valid_loader = create_dataset_multifield('valid', seed, fmaps, fparams, batch_size, splits, fmaps_norm,\n",
    "                                         rot_flip_in_mem=True,  verbose=True)\n",
    "# TNG_test_loader = create_dataset_multifield('test', seed, fmaps, fparams, batch_size, splits, fmaps_norm,\n",
    "#                                          rot_flip_in_mem=False, verbose=True)\n",
    "\n",
    "# load SIMBA dataset (target)\n",
    "fmaps = ['maps_T_SIMBA.npy']\n",
    "fparams = '2D_maps/data/params_LH_SIMBA.txt'\n",
    "# SIMBA_train_loader = create_dataset_multifield('train', seed, fmaps, fparams, batch_size, splits, fmaps_norm,\n",
    "#                                          rot_flip_in_mem=rot_flip_in_mem, verbose=True)\n",
    "SIMBA_valid_loader = create_dataset_multifield('valid', seed, fmaps, fparams, batch_size, splits, fmaps_norm,\n",
    "                                         rot_flip_in_mem=True,  verbose=True)\n",
    "# SIMBA_test_loader  = create_dataset_multifield('test', seed, fmaps, fparams, batch_size, splits, fmaps_norm,\n",
    "#                                          rot_flip_in_mem=False, verbose=True)"
   ]
  },
  {
   "cell_type": "code",
   "execution_count": 6,
   "metadata": {},
   "outputs": [],
   "source": [
    "learningRate = 1e-07\n",
    "CKA_index = [2,3,4,5]\n",
    "selected_layers = '2345'\n",
    "modelName = 'TNG_VGG13'\n",
    "\n",
    "# factors = ['Omega', 'sigma', 'ASN1', 'ASN2', 'AGN1', 'AGN2']\n",
    "# factors_error = ['Omega_err', 'sigma_err', 'ASN1_err', 'ASN2_err', 'AGN1_err', 'AGN2_err']\n",
    "# factors = ['Omega', 'sigma']\n",
    "# factors_error = ['Omega_err', 'sigma_err']\n",
    "factors = ['Omega']\n",
    "factors_error = ['Omega_err']\n",
    "# factors_error = []\n",
    "num_factors = len(factors) + len(factors_error)\n",
    "\n",
    "train_loader = TNG_train_loader\n",
    "test_loader = TNG_valid_loader\n",
    "test_loader_ood = SIMBA_valid_loader"
   ]
  },
  {
   "cell_type": "code",
   "execution_count": 7,
   "metadata": {},
   "outputs": [
    {
     "name": "stderr",
     "output_type": "stream",
     "text": [
      "\u001b[34m\u001b[1mwandb\u001b[0m: Currently logged in as: \u001b[33mjh8522\u001b[0m (\u001b[33mcmd_cka\u001b[0m). Use \u001b[1m`wandb login --relogin`\u001b[0m to force relogin\n",
      "\u001b[34m\u001b[1mwandb\u001b[0m: Tracking run with wandb version 0.16.1\n",
      "\u001b[34m\u001b[1mwandb\u001b[0m: Run data is saved locally in \u001b[35m\u001b[1m/home/jingyue/CMD/wandb/run-20231206_224646-12uqzvq3\u001b[0m\n",
      "\u001b[34m\u001b[1mwandb\u001b[0m: Run \u001b[1m`wandb offline`\u001b[0m to turn off syncing.\n",
      "\u001b[34m\u001b[1mwandb\u001b[0m: Syncing run \u001b[33mprime-silence-7\u001b[0m\n",
      "\u001b[34m\u001b[1mwandb\u001b[0m: ⭐️ View project at \u001b[34m\u001b[4mhttps://wandb.ai/cmd_cka/capstone-project-cka\u001b[0m\n",
      "\u001b[34m\u001b[1mwandb\u001b[0m: 🚀 View run at \u001b[34m\u001b[4mhttps://wandb.ai/cmd_cka/capstone-project-cka/runs/12uqzvq3\u001b[0m\n"
     ]
    },
    {
     "data": {
      "text/html": [
       "<button onClick=\"this.nextSibling.style.display='block';this.style.display='none';\">Display W&B run</button><iframe src='https://wandb.ai/cmd_cka/capstone-project-cka/runs/12uqzvq3?jupyter=true' style='border:none;width:100%;height:420px;display:none;'></iframe>"
      ],
      "text/plain": [
       "<wandb.sdk.wandb_run.Run at 0x7f8f422b8400>"
      ]
     },
     "execution_count": 7,
     "metadata": {},
     "output_type": "execute_result"
    }
   ],
   "source": [
    "import wandb\n",
    "# start a new wandb run to track this script\n",
    "wandb.init(\n",
    "    # set the wandb project where this run will be logged\n",
    "    project=\"capstone-project-cka\",\n",
    "    \n",
    "    # track hyperparameters and run metadata\n",
    "    config={\n",
    "    \"learning_rate\": learningRate,\n",
    "    \"architecture\": \"VGG13\",\n",
    "    \"dataset\": \"TNG\",\n",
    "    \"model_name\" : modelName,\n",
    "    \"epochs\": 100,\n",
    "    \"W1\": 0,\n",
    "    \"W2\": 1,\n",
    "    \"scheduler\": \"On\",\n",
    "    \"selected_layers_CKA\": selected_layers\n",
    "    }\n",
    ")"
   ]
  },
  {
   "cell_type": "code",
   "execution_count": 8,
   "metadata": {},
   "outputs": [],
   "source": [
    "class VGG_split(nn.Module):\n",
    "    def __init__(self):\n",
    "        super(VGG_split, self).__init__()\n",
    "        model = torch.hub.load('pytorch/vision:v0.10.0', 'vgg13', pretrained=True)\n",
    "        num_classes = num_factors\n",
    "        model.classifier[6] = nn.Linear(4096, num_classes)\n",
    "        model.to(device=device)\n",
    "\n",
    "        fmodel = 'best_weights_vgg13_1param_norm.pt'\n",
    "        model.load_state_dict(torch.load(fmodel, map_location=torch.device(device)))\n",
    "\n",
    "        self.vgg_pretrained_features = model.features\n",
    "        self.vgg_pretrained_avgpool = model.avgpool\n",
    "        self.vgg_pretrained_classifier = model.classifier\n",
    "\n",
    "    def forward(self, x):\n",
    "        conv1 = self.vgg_pretrained_features[0](x)\n",
    "        conv1 = self.vgg_pretrained_features[1](conv1)\n",
    "\n",
    "        conv2 = self.vgg_pretrained_features[2](conv1)\n",
    "        conv2 = self.vgg_pretrained_features[3](conv2)\n",
    "        conv2_pool = self.vgg_pretrained_features[4](conv2)\n",
    "\n",
    "        conv3 = self.vgg_pretrained_features[5](conv2_pool)\n",
    "        conv3 = self.vgg_pretrained_features[6](conv3)\n",
    "\n",
    "        conv4 = self.vgg_pretrained_features[7](conv3)\n",
    "        conv4 = self.vgg_pretrained_features[8](conv4)\n",
    "        conv4_pool = self.vgg_pretrained_features[9](conv4)\n",
    "\n",
    "        conv5 = self.vgg_pretrained_features[10](conv4_pool)\n",
    "        conv5 = self.vgg_pretrained_features[11](conv5)\n",
    "\n",
    "        conv6 = self.vgg_pretrained_features[12](conv5)\n",
    "        conv6 = self.vgg_pretrained_features[13](conv6)\n",
    "        conv6_pool = self.vgg_pretrained_features[14](conv6)\n",
    "\n",
    "        conv7 = self.vgg_pretrained_features[15](conv6_pool)\n",
    "        conv7 = self.vgg_pretrained_features[16](conv7)\n",
    "\n",
    "        conv8 = self.vgg_pretrained_features[17](conv7)\n",
    "        conv8 = self.vgg_pretrained_features[18](conv8)\n",
    "        conv8_pool = self.vgg_pretrained_features[19](conv8)\n",
    "\n",
    "        conv9 = self.vgg_pretrained_features[20](conv8_pool)\n",
    "        conv9 = self.vgg_pretrained_features[21](conv9)\n",
    "\n",
    "        conv10 = self.vgg_pretrained_features[22](conv9)\n",
    "        conv10 = self.vgg_pretrained_features[23](conv10)\n",
    "        conv10_pool = self.vgg_pretrained_features[24](conv10)\n",
    "\n",
    "        conv10_pool = self.vgg_pretrained_avgpool(conv10_pool)\n",
    "        conv10_pool = torch.flatten(conv10_pool, 1)\n",
    "\n",
    "        linear1 = self.vgg_pretrained_classifier[0](conv10_pool)\n",
    "        linear1 = self.vgg_pretrained_classifier[1](linear1)\n",
    "        linear1 = self.vgg_pretrained_classifier[2](linear1)\n",
    "        linear2 = self.vgg_pretrained_classifier[3](linear1)\n",
    "        linear2 = self.vgg_pretrained_classifier[4](linear2)\n",
    "        linear2 = self.vgg_pretrained_classifier[5](linear2)\n",
    "        output = self.vgg_pretrained_classifier[6](linear2)\n",
    "\n",
    "        return conv1, conv2, conv3, conv4, conv5, conv6, conv7, conv8, conv9, conv10, linear1, linear2, output"
   ]
  },
  {
   "cell_type": "code",
   "execution_count": 9,
   "metadata": {},
   "outputs": [],
   "source": [
    "class CKA_Loss(torch.nn.Module):\n",
    "    def __init__(self):\n",
    "        super(CKA_Loss,self).__init__()\n",
    "\n",
    "    def HSIC(self, K, L, device):\n",
    "        \"\"\"\n",
    "        Computes the unbiased estimate of HSIC metric.\n",
    "        \"\"\"\n",
    "        M = K.shape[0]\n",
    "        I = torch.eye(M).to(device)\n",
    "        unit = torch.ones([M, M]).to(device)\n",
    "        H = I - unit/M\n",
    "        Khat = H @ K @ H\n",
    "        Lhat = H @ L @ H\n",
    "        return torch.abs(torch.sum(Khat * Lhat))\n",
    "\n",
    "    def forward(self, output, device):\n",
    "        M = len(output)\n",
    "        hsic_matrix = torch.zeros(M, M)\n",
    "        for i in range(M):\n",
    "            X = output[i].flatten(1)\n",
    "            K = X @ X.t()\n",
    "            K.fill_diagonal_(0.0)\n",
    "            hsic_k = self.HSIC(K, K, device)\n",
    "            for j in range(i):\n",
    "                Y = output[j].flatten(1)\n",
    "                L = Y @ Y.t()\n",
    "                L.fill_diagonal_(0.0)\n",
    "                assert K.shape == L.shape, f\"Feature shape mismatch! {K.shape}, {L.shape}\"\n",
    "                hsic_matrix[i, j] = self.HSIC(K, L, device) / torch.sqrt(hsic_k *self.HSIC(L, L, device)+1e-06)\n",
    "        # absolute sum of differ\n",
    "        id = torch.eye(M)\n",
    "        l = torch.sum(torch.abs(hsic_matrix))\n",
    "        hsic_visual = hsic_matrix + torch.transpose(hsic_matrix,0,1) +id\n",
    "        # only adjacent cells\n",
    "#         loss_area = torch.diagonal(hsic_matrix, 1)\n",
    "#         l = torch.sum(torch.abs(loss_area))\n",
    "        return hsic_visual,l"
   ]
  },
  {
   "cell_type": "code",
   "execution_count": 10,
   "metadata": {},
   "outputs": [],
   "source": [
    "def train(model, device, train_loader, optimizer, epoch, w1, w2):\n",
    "    model.train()\n",
    "    history = []\n",
    "    for batch_idx, (data, target) in tqdm(enumerate(train_loader)):\n",
    "        data = data.repeat(1, 3, 1, 1)\n",
    "        data, target = data.to(device), target.to(device)\n",
    "        \n",
    "        output = model(data) # output is a length-10 tuple for 10 layers outputs\n",
    "        optimizer.zero_grad()\n",
    "        criterion = CKA_Loss()\n",
    "        _,CKALoss = criterion([output[idx] for idx in CKA_index], device)\n",
    "        loss = CKALoss\n",
    "        # _,CKALoss = criterion(output[:10], device)\n",
    "        # originalLoss = F.nll_loss(output[-1], target)\n",
    "        # loss = w1*originalLoss + w2*CKALoss\n",
    "        history.append(loss)\n",
    "        if torch.isnan(loss):\n",
    "            break\n",
    "        loss.backward()\n",
    "        optimizer.step()\n",
    "    print('Train Epoch: {}  Loss: {:.6f}'.format(epoch, loss.item()))\n",
    "    return history"
   ]
  },
  {
   "cell_type": "code",
   "execution_count": 11,
   "metadata": {},
   "outputs": [],
   "source": [
    "def plotHeatmap(heatmap, index, epoch, testDataLabel, acc):\n",
    "    plt.imshow(np.flipud(heatmap), cmap='magma', interpolation='nearest',vmin=0.0,vmax=1.0)\n",
    "    plt.colorbar(label='Similarity')\n",
    "    plt.title(f'CKA - Epoch{epoch} - {testDataLabel} - {acc}')\n",
    "    plt.xlabel('Layer')\n",
    "    plt.ylabel('Layer')\n",
    "    plt.xticks(ticks=np.arange(0, heatmap.shape[0]), labels=index)\n",
    "    plt.yticks(ticks=np.arange(heatmap.shape[0]-1,-1,-1), labels=index)\n",
    "    plt.tight_layout()\n",
    "    plt.savefig(f'heatmap_1/CKA Heatmap - Epoch {epoch} - {testDataLabel} - {selected_layers}.png')\n",
    "    plt.show()\n",
    "    plt.clf()"
   ]
  },
  {
   "cell_type": "code",
   "execution_count": 12,
   "metadata": {},
   "outputs": [],
   "source": [
    "def test(model, device, test_loader, epoch, testDataLabel):\n",
    "    model.eval()\n",
    "    # nll_loss = 0\n",
    "    reg_loss = 0\n",
    "    cka_loss = 0\n",
    "    cka_loss_p = 0\n",
    "    correct = 0\n",
    "    m_p = np.zeros((len(CKA_index),len(CKA_index)))\n",
    "    m = np.zeros((13, 13))\n",
    "\n",
    "    num_maps = 0\n",
    "    for x,y in test_loader:\n",
    "        num_maps += x.shape[0]\n",
    "    params_true = np.zeros((num_maps, len(factors)), dtype=np.float32)\n",
    "    params_NN   = np.zeros((num_maps, len(factors)), dtype=np.float32)\n",
    "    points = 0\n",
    "\n",
    "    criterion = CKA_Loss()\n",
    "\n",
    "    model.to(device)\n",
    "    with torch.no_grad():\n",
    "        for data, target in test_loader:\n",
    "            data = data.repeat(1, 3, 1, 1)\n",
    "            data, target = data.to(device), target[:, :len(factors)].to(device)\n",
    "            output = model(data)\n",
    "\n",
    "            y_NN = output[-1][:, :len(factors)]       #posterior mean\n",
    "            e_NN = output[-1][:, len(factors):]       #posterior std\n",
    "            loss1 = torch.mean((y_NN - target)**2,                axis=0)\n",
    "            loss2 = torch.mean(((y_NN - target)**2 - e_NN**2)**2, axis=0)\n",
    "            reg_loss += torch.mean(torch.log(loss1) + torch.log(loss2))\n",
    "\n",
    "            # nll_loss += F.nll_loss(output[-1], target, reduction='sum').item()  # sum up batch loss\n",
    "\n",
    "            # for all layers\n",
    "            matrix, loss = criterion(output, device)\n",
    "            cka_loss += loss.item()\n",
    "            m += matrix.detach().numpy().reshape((len(output), len(output)))\n",
    "            \n",
    "            # for partial layers\n",
    "            matrix_p, loss_p = criterion([output[idx] for idx in CKA_index], device)\n",
    "            cka_loss_p += loss_p.item()\n",
    "            m_p += matrix_p.detach().numpy().reshape((len(CKA_index),len(CKA_index)))\n",
    "\n",
    "            params_true[points:points+data.shape[0]] = target.cpu().numpy()\n",
    "            params_NN[points:points+data.shape[0]]   = y_NN.cpu().numpy()\n",
    "            points    += data.shape[0]\n",
    "\n",
    "            # pred = output[-1].argmax(dim=1, keepdim=True)  # get the index of the max log-probability\n",
    "            # correct += pred.eq(target.view_as(pred)).sum().item()\n",
    "\n",
    "    # nll_loss /= len(test_loader)\n",
    "    reg_loss /= len(test_loader)\n",
    "    cka_loss /= len(test_loader)\n",
    "    cka_loss_p /= len(test_loader)\n",
    "    m /= len(test_loader)\n",
    "\n",
    "    minimum = np.array([0.1, 0.6, 0.25, 0.25, 0.5, 0.5])[:len(factors)]\n",
    "    maximum = np.array([0.5, 1.0, 4.00, 4.00, 2.0, 2.0])[:len(factors)]\n",
    "    params_true = params_true*(maximum - minimum) + minimum\n",
    "    params_NN   = params_NN*(maximum - minimum) + minimum\n",
    "    \n",
    "    rel_error = np.sqrt(np.mean((params_true - params_NN)**2/params_true**2, axis=0))\n",
    "    \n",
    "    # m_p /= len(test_loader)\n",
    "    # acc = 100. * correct / len(test_loader.dataset)\n",
    "    plotHeatmap(m, list(range(13)), epoch, testDataLabel, rel_error)\n",
    "    print(f'{testDataLabel} Result:')\n",
    "    print('Test set: Average CMD loss: {:.4f}, Average CKA loss: {:.4f}, {:.4f} (selected layers), RE: {:.4f}'.format(\n",
    "        reg_loss, cka_loss, cka_loss_p, rel_error[0]))\n",
    "    return reg_loss, cka_loss, rel_error\n"
   ]
  },
  {
   "cell_type": "code",
   "execution_count": 13,
   "metadata": {},
   "outputs": [
    {
     "name": "stderr",
     "output_type": "stream",
     "text": [
      "Using cache found in /home/jingyue/.cache/torch/hub/pytorch_vision_v0.10.0\n",
      "/home/jingyue/anaconda3/envs/cmd/lib/python3.9/site-packages/torchvision/models/_utils.py:208: UserWarning: The parameter 'pretrained' is deprecated since 0.13 and will be removed in 0.15, please use 'weights' instead.\n",
      "  warnings.warn(\n",
      "/home/jingyue/anaconda3/envs/cmd/lib/python3.9/site-packages/torchvision/models/_utils.py:223: UserWarning: Arguments other than a weight enum or `None` for 'weights' are deprecated since 0.13 and will be removed in 0.15. The current behavior is equivalent to passing `weights=VGG13_Weights.IMAGENET1K_V1`. You can also use `weights=VGG13_Weights.DEFAULT` to get the most up-to-date weights.\n",
      "  warnings.warn(msg)\n"
     ]
    },
    {
     "name": "stdout",
     "output_type": "stream",
     "text": [
      "Epoch: 1\n"
     ]
    },
    {
     "name": "stderr",
     "output_type": "stream",
     "text": [
      "211it [01:01,  3.45it/s]\n"
     ]
    },
    {
     "name": "stdout",
     "output_type": "stream",
     "text": [
      "Train Epoch: 1  Loss: 5.890069\n",
      "ID Result:\n",
      "Test set: Average CMD loss: -18.1955, Average CKA loss: 49.0048, 5.8661 (selected layers), RE: 0.0578\n",
      "OOD Result:\n",
      "Test set: Average CMD loss: -7.9401, Average CKA loss: 61.2948, 5.9461 (selected layers), RE: 0.3855\n",
      "Epoch: 2\n"
     ]
    },
    {
     "name": "stderr",
     "output_type": "stream",
     "text": [
      "211it [00:55,  3.81it/s]\n"
     ]
    },
    {
     "name": "stdout",
     "output_type": "stream",
     "text": [
      "Train Epoch: 2  Loss: 5.874003\n",
      "ID Result:\n",
      "Test set: Average CMD loss: -18.2004, Average CKA loss: 48.9609, 5.8666 (selected layers), RE: 0.0578\n",
      "OOD Result:\n",
      "Test set: Average CMD loss: -7.9739, Average CKA loss: 61.9399, 5.9443 (selected layers), RE: 0.3855\n",
      "Epoch: 3\n"
     ]
    },
    {
     "name": "stderr",
     "output_type": "stream",
     "text": [
      "211it [00:55,  3.80it/s]\n"
     ]
    },
    {
     "name": "stdout",
     "output_type": "stream",
     "text": [
      "Train Epoch: 3  Loss: 5.898820\n",
      "ID Result:\n",
      "Test set: Average CMD loss: -18.1540, Average CKA loss: 49.0416, 5.8669 (selected layers), RE: 0.0578\n",
      "OOD Result:\n",
      "Test set: Average CMD loss: -7.9512, Average CKA loss: 61.9587, 5.9397 (selected layers), RE: 0.3855\n",
      "Epoch: 4\n"
     ]
    },
    {
     "name": "stderr",
     "output_type": "stream",
     "text": [
      "211it [00:55,  3.80it/s]\n"
     ]
    },
    {
     "name": "stdout",
     "output_type": "stream",
     "text": [
      "Train Epoch: 4  Loss: 5.869233\n",
      "ID Result:\n",
      "Test set: Average CMD loss: -18.1805, Average CKA loss: 49.0125, 5.8671 (selected layers), RE: 0.0578\n",
      "OOD Result:\n",
      "Test set: Average CMD loss: -7.9311, Average CKA loss: 61.8571, 5.9440 (selected layers), RE: 0.3855\n",
      "Epoch: 5\n"
     ]
    },
    {
     "name": "stderr",
     "output_type": "stream",
     "text": [
      "211it [00:55,  3.81it/s]\n"
     ]
    },
    {
     "name": "stdout",
     "output_type": "stream",
     "text": [
      "Train Epoch: 5  Loss: 5.893404\n",
      "ID Result:\n",
      "Test set: Average CMD loss: -18.1744, Average CKA loss: 48.9173, 5.8665 (selected layers), RE: 0.0578\n",
      "OOD Result:\n",
      "Test set: Average CMD loss: -7.9292, Average CKA loss: 61.6026, 5.9438 (selected layers), RE: 0.3855\n",
      "Epoch: 6\n"
     ]
    },
    {
     "name": "stderr",
     "output_type": "stream",
     "text": [
      "211it [00:55,  3.81it/s]\n"
     ]
    },
    {
     "name": "stdout",
     "output_type": "stream",
     "text": [
      "Train Epoch: 6  Loss: 5.880155\n",
      "ID Result:\n",
      "Test set: Average CMD loss: -18.1844, Average CKA loss: 48.9668, 5.8665 (selected layers), RE: 0.0578\n",
      "OOD Result:\n",
      "Test set: Average CMD loss: -7.9586, Average CKA loss: 61.8013, 5.9425 (selected layers), RE: 0.3855\n",
      "Epoch: 7\n"
     ]
    },
    {
     "name": "stderr",
     "output_type": "stream",
     "text": [
      "211it [00:55,  3.81it/s]\n"
     ]
    },
    {
     "name": "stdout",
     "output_type": "stream",
     "text": [
      "Train Epoch: 7  Loss: 5.882813\n",
      "ID Result:\n",
      "Test set: Average CMD loss: -18.1918, Average CKA loss: 49.0156, 5.8665 (selected layers), RE: 0.0578\n",
      "OOD Result:\n",
      "Test set: Average CMD loss: -7.9619, Average CKA loss: 61.7427, 5.9436 (selected layers), RE: 0.3855\n",
      "Epoch: 8\n"
     ]
    },
    {
     "name": "stderr",
     "output_type": "stream",
     "text": [
      "211it [00:55,  3.80it/s]\n"
     ]
    },
    {
     "name": "stdout",
     "output_type": "stream",
     "text": [
      "Train Epoch: 8  Loss: 5.882585\n",
      "ID Result:\n",
      "Test set: Average CMD loss: -18.1736, Average CKA loss: 49.0197, 5.8659 (selected layers), RE: 0.0578\n",
      "OOD Result:\n",
      "Test set: Average CMD loss: -7.9631, Average CKA loss: 61.8230, 5.9426 (selected layers), RE: 0.3855\n",
      "Epoch: 9\n"
     ]
    },
    {
     "name": "stderr",
     "output_type": "stream",
     "text": [
      "211it [00:55,  3.80it/s]\n"
     ]
    },
    {
     "name": "stdout",
     "output_type": "stream",
     "text": [
      "Train Epoch: 9  Loss: 5.885726\n",
      "ID Result:\n",
      "Test set: Average CMD loss: -18.1578, Average CKA loss: 48.9895, 5.8664 (selected layers), RE: 0.0578\n",
      "OOD Result:\n",
      "Test set: Average CMD loss: -7.9472, Average CKA loss: 61.7751, 5.9423 (selected layers), RE: 0.3855\n",
      "Epoch: 10\n"
     ]
    },
    {
     "name": "stderr",
     "output_type": "stream",
     "text": [
      "211it [00:55,  3.82it/s]\n"
     ]
    },
    {
     "name": "stdout",
     "output_type": "stream",
     "text": [
      "Train Epoch: 10  Loss: 5.872714\n",
      "ID Result:\n",
      "Test set: Average CMD loss: -18.1702, Average CKA loss: 49.0029, 5.8673 (selected layers), RE: 0.0578\n",
      "OOD Result:\n",
      "Test set: Average CMD loss: -7.9495, Average CKA loss: 61.7778, 5.9438 (selected layers), RE: 0.3855\n",
      "Epoch: 11\n"
     ]
    },
    {
     "name": "stderr",
     "output_type": "stream",
     "text": [
      "211it [00:55,  3.81it/s]\n"
     ]
    },
    {
     "name": "stdout",
     "output_type": "stream",
     "text": [
      "Train Epoch: 11  Loss: 5.893297\n",
      "ID Result:\n",
      "Test set: Average CMD loss: -18.1731, Average CKA loss: 49.0152, 5.8661 (selected layers), RE: 0.0578\n",
      "OOD Result:\n",
      "Test set: Average CMD loss: -7.9454, Average CKA loss: 61.4891, 5.9463 (selected layers), RE: 0.3855\n",
      "Epoch: 12\n"
     ]
    },
    {
     "name": "stderr",
     "output_type": "stream",
     "text": [
      "211it [00:55,  3.81it/s]\n"
     ]
    },
    {
     "name": "stdout",
     "output_type": "stream",
     "text": [
      "Train Epoch: 12  Loss: 5.888422\n",
      "ID Result:\n",
      "Test set: Average CMD loss: -18.1779, Average CKA loss: 49.0464, 5.8667 (selected layers), RE: 0.0578\n",
      "OOD Result:\n",
      "Test set: Average CMD loss: -7.9467, Average CKA loss: 61.8388, 5.9425 (selected layers), RE: 0.3855\n",
      "Epoch: 13\n"
     ]
    },
    {
     "name": "stderr",
     "output_type": "stream",
     "text": [
      "211it [00:55,  3.80it/s]\n"
     ]
    },
    {
     "name": "stdout",
     "output_type": "stream",
     "text": [
      "Train Epoch: 13  Loss: 5.880834\n",
      "ID Result:\n",
      "Test set: Average CMD loss: -18.1841, Average CKA loss: 49.0439, 5.8672 (selected layers), RE: 0.0578\n",
      "OOD Result:\n",
      "Test set: Average CMD loss: -7.9467, Average CKA loss: 61.4937, 5.9429 (selected layers), RE: 0.3855\n",
      "Epoch: 14\n"
     ]
    },
    {
     "name": "stderr",
     "output_type": "stream",
     "text": [
      "211it [00:55,  3.81it/s]\n"
     ]
    },
    {
     "name": "stdout",
     "output_type": "stream",
     "text": [
      "Train Epoch: 14  Loss: 5.879594\n",
      "ID Result:\n",
      "Test set: Average CMD loss: -18.1764, Average CKA loss: 48.9886, 5.8668 (selected layers), RE: 0.0578\n",
      "OOD Result:\n",
      "Test set: Average CMD loss: -7.9341, Average CKA loss: 61.6637, 5.9447 (selected layers), RE: 0.3855\n",
      "Epoch: 15\n"
     ]
    },
    {
     "name": "stderr",
     "output_type": "stream",
     "text": [
      "211it [00:55,  3.80it/s]\n"
     ]
    },
    {
     "name": "stdout",
     "output_type": "stream",
     "text": [
      "Train Epoch: 15  Loss: 5.870691\n",
      "ID Result:\n",
      "Test set: Average CMD loss: -18.2035, Average CKA loss: 49.0324, 5.8664 (selected layers), RE: 0.0578\n",
      "OOD Result:\n",
      "Test set: Average CMD loss: -7.9408, Average CKA loss: 61.8132, 5.9425 (selected layers), RE: 0.3855\n",
      "Epoch: 16\n"
     ]
    },
    {
     "name": "stderr",
     "output_type": "stream",
     "text": [
      "211it [00:55,  3.80it/s]\n"
     ]
    },
    {
     "name": "stdout",
     "output_type": "stream",
     "text": [
      "Train Epoch: 16  Loss: 5.891346\n",
      "ID Result:\n",
      "Test set: Average CMD loss: -18.1723, Average CKA loss: 48.9580, 5.8660 (selected layers), RE: 0.0578\n",
      "OOD Result:\n",
      "Test set: Average CMD loss: -7.9469, Average CKA loss: 61.5307, 5.9453 (selected layers), RE: 0.3855\n",
      "Epoch: 17\n"
     ]
    },
    {
     "name": "stderr",
     "output_type": "stream",
     "text": [
      "211it [00:55,  3.80it/s]\n"
     ]
    },
    {
     "name": "stdout",
     "output_type": "stream",
     "text": [
      "Train Epoch: 17  Loss: 5.893462\n",
      "ID Result:\n",
      "Test set: Average CMD loss: -18.1985, Average CKA loss: 49.0046, 5.8663 (selected layers), RE: 0.0578\n",
      "OOD Result:\n",
      "Test set: Average CMD loss: -7.9341, Average CKA loss: 61.5044, 5.9463 (selected layers), RE: 0.3855\n",
      "Epoch: 18\n"
     ]
    },
    {
     "name": "stderr",
     "output_type": "stream",
     "text": [
      "211it [00:55,  3.81it/s]\n"
     ]
    },
    {
     "name": "stdout",
     "output_type": "stream",
     "text": [
      "Train Epoch: 18  Loss: 5.890904\n",
      "ID Result:\n",
      "Test set: Average CMD loss: -18.1621, Average CKA loss: 48.9914, 5.8665 (selected layers), RE: 0.0578\n",
      "OOD Result:\n",
      "Test set: Average CMD loss: -7.9565, Average CKA loss: 61.6729, 5.9392 (selected layers), RE: 0.3855\n",
      "Epoch: 19\n"
     ]
    },
    {
     "name": "stderr",
     "output_type": "stream",
     "text": [
      "211it [00:55,  3.80it/s]\n"
     ]
    },
    {
     "name": "stdout",
     "output_type": "stream",
     "text": [
      "Train Epoch: 19  Loss: 5.894306\n",
      "ID Result:\n",
      "Test set: Average CMD loss: -18.1629, Average CKA loss: 48.9923, 5.8665 (selected layers), RE: 0.0578\n",
      "OOD Result:\n",
      "Test set: Average CMD loss: -7.9572, Average CKA loss: 61.6162, 5.9428 (selected layers), RE: 0.3855\n",
      "Epoch: 20\n"
     ]
    },
    {
     "name": "stderr",
     "output_type": "stream",
     "text": [
      "211it [00:55,  3.81it/s]\n"
     ]
    },
    {
     "name": "stdout",
     "output_type": "stream",
     "text": [
      "Train Epoch: 20  Loss: 5.880399\n",
      "ID Result:\n",
      "Test set: Average CMD loss: -18.1906, Average CKA loss: 48.9530, 5.8663 (selected layers), RE: 0.0578\n",
      "OOD Result:\n",
      "Test set: Average CMD loss: -7.9441, Average CKA loss: 61.7279, 5.9418 (selected layers), RE: 0.3855\n",
      "Epoch: 21\n"
     ]
    },
    {
     "name": "stderr",
     "output_type": "stream",
     "text": [
      "211it [00:55,  3.81it/s]\n"
     ]
    },
    {
     "name": "stdout",
     "output_type": "stream",
     "text": [
      "Train Epoch: 21  Loss: 5.853439\n",
      "ID Result:\n",
      "Test set: Average CMD loss: -18.1787, Average CKA loss: 48.9910, 5.8667 (selected layers), RE: 0.0578\n",
      "OOD Result:\n",
      "Test set: Average CMD loss: -7.9596, Average CKA loss: 61.6193, 5.9439 (selected layers), RE: 0.3855\n",
      "Epoch: 22\n"
     ]
    },
    {
     "name": "stderr",
     "output_type": "stream",
     "text": [
      "211it [00:55,  3.81it/s]\n"
     ]
    },
    {
     "name": "stdout",
     "output_type": "stream",
     "text": [
      "Train Epoch: 22  Loss: 5.901818\n",
      "ID Result:\n",
      "Test set: Average CMD loss: -18.1663, Average CKA loss: 48.9957, 5.8667 (selected layers), RE: 0.0578\n",
      "OOD Result:\n",
      "Test set: Average CMD loss: -7.9556, Average CKA loss: 61.6933, 5.9435 (selected layers), RE: 0.3855\n",
      "Epoch: 23\n"
     ]
    },
    {
     "name": "stderr",
     "output_type": "stream",
     "text": [
      "211it [00:55,  3.80it/s]\n"
     ]
    },
    {
     "name": "stdout",
     "output_type": "stream",
     "text": [
      "Train Epoch: 23  Loss: 5.884437\n",
      "ID Result:\n",
      "Test set: Average CMD loss: -18.1867, Average CKA loss: 48.9276, 5.8662 (selected layers), RE: 0.0578\n",
      "OOD Result:\n",
      "Test set: Average CMD loss: -7.9465, Average CKA loss: 61.7338, 5.9426 (selected layers), RE: 0.3855\n",
      "Epoch: 24\n"
     ]
    },
    {
     "name": "stderr",
     "output_type": "stream",
     "text": [
      "211it [00:55,  3.80it/s]\n"
     ]
    },
    {
     "name": "stdout",
     "output_type": "stream",
     "text": [
      "Train Epoch: 24  Loss: 5.878374\n",
      "ID Result:\n",
      "Test set: Average CMD loss: -18.1932, Average CKA loss: 48.9887, 5.8665 (selected layers), RE: 0.0578\n",
      "OOD Result:\n",
      "Test set: Average CMD loss: -7.9390, Average CKA loss: 61.9327, 5.9416 (selected layers), RE: 0.3855\n",
      "Epoch: 25\n"
     ]
    },
    {
     "name": "stderr",
     "output_type": "stream",
     "text": [
      "211it [00:55,  3.81it/s]\n"
     ]
    },
    {
     "name": "stdout",
     "output_type": "stream",
     "text": [
      "Train Epoch: 25  Loss: 5.881142\n",
      "ID Result:\n",
      "Test set: Average CMD loss: -18.1954, Average CKA loss: 49.0346, 5.8661 (selected layers), RE: 0.0578\n",
      "OOD Result:\n",
      "Test set: Average CMD loss: -7.9628, Average CKA loss: 61.3347, 5.9433 (selected layers), RE: 0.3855\n",
      "Epoch: 26\n"
     ]
    },
    {
     "name": "stderr",
     "output_type": "stream",
     "text": [
      "211it [00:55,  3.80it/s]\n"
     ]
    },
    {
     "name": "stdout",
     "output_type": "stream",
     "text": [
      "Train Epoch: 26  Loss: 5.890116\n",
      "ID Result:\n",
      "Test set: Average CMD loss: -18.1999, Average CKA loss: 48.9812, 5.8668 (selected layers), RE: 0.0578\n",
      "OOD Result:\n",
      "Test set: Average CMD loss: -7.9459, Average CKA loss: 61.8919, 5.9396 (selected layers), RE: 0.3855\n",
      "Epoch: 27\n"
     ]
    },
    {
     "name": "stderr",
     "output_type": "stream",
     "text": [
      "211it [00:55,  3.81it/s]\n"
     ]
    },
    {
     "name": "stdout",
     "output_type": "stream",
     "text": [
      "Train Epoch: 27  Loss: 5.874198\n",
      "ID Result:\n",
      "Test set: Average CMD loss: -18.1735, Average CKA loss: 48.9864, 5.8657 (selected layers), RE: 0.0578\n",
      "OOD Result:\n",
      "Test set: Average CMD loss: -7.9600, Average CKA loss: 61.6003, 5.9446 (selected layers), RE: 0.3855\n",
      "Epoch: 28\n"
     ]
    },
    {
     "name": "stderr",
     "output_type": "stream",
     "text": [
      "211it [00:55,  3.81it/s]\n"
     ]
    },
    {
     "name": "stdout",
     "output_type": "stream",
     "text": [
      "Train Epoch: 28  Loss: 5.878316\n",
      "ID Result:\n",
      "Test set: Average CMD loss: -18.1885, Average CKA loss: 48.9900, 5.8659 (selected layers), RE: 0.0578\n",
      "OOD Result:\n",
      "Test set: Average CMD loss: -7.9584, Average CKA loss: 62.0660, 5.9400 (selected layers), RE: 0.3855\n",
      "Epoch: 29\n"
     ]
    },
    {
     "name": "stderr",
     "output_type": "stream",
     "text": [
      "211it [00:55,  3.81it/s]\n"
     ]
    },
    {
     "name": "stdout",
     "output_type": "stream",
     "text": [
      "Train Epoch: 29  Loss: 5.892343\n",
      "ID Result:\n",
      "Test set: Average CMD loss: -18.1711, Average CKA loss: 48.9687, 5.8664 (selected layers), RE: 0.0578\n",
      "OOD Result:\n",
      "Test set: Average CMD loss: -7.9363, Average CKA loss: 61.6820, 5.9450 (selected layers), RE: 0.3855\n",
      "Epoch: 30\n"
     ]
    },
    {
     "name": "stderr",
     "output_type": "stream",
     "text": [
      "211it [00:55,  3.81it/s]\n"
     ]
    },
    {
     "name": "stdout",
     "output_type": "stream",
     "text": [
      "Train Epoch: 30  Loss: 5.879333\n",
      "ID Result:\n",
      "Test set: Average CMD loss: -18.1630, Average CKA loss: 48.9638, 5.8667 (selected layers), RE: 0.0578\n",
      "OOD Result:\n",
      "Test set: Average CMD loss: -7.9291, Average CKA loss: 62.0116, 5.9407 (selected layers), RE: 0.3855\n",
      "Epoch: 31\n"
     ]
    },
    {
     "name": "stderr",
     "output_type": "stream",
     "text": [
      "211it [00:55,  3.81it/s]\n"
     ]
    },
    {
     "name": "stdout",
     "output_type": "stream",
     "text": [
      "Train Epoch: 31  Loss: 5.881638\n",
      "ID Result:\n",
      "Test set: Average CMD loss: -18.1529, Average CKA loss: 49.0217, 5.8663 (selected layers), RE: 0.0578\n",
      "OOD Result:\n",
      "Test set: Average CMD loss: -7.9479, Average CKA loss: 61.4105, 5.9459 (selected layers), RE: 0.3855\n",
      "Epoch: 32\n"
     ]
    },
    {
     "name": "stderr",
     "output_type": "stream",
     "text": [
      "211it [00:55,  3.81it/s]\n"
     ]
    },
    {
     "name": "stdout",
     "output_type": "stream",
     "text": [
      "Train Epoch: 32  Loss: 5.886457\n",
      "ID Result:\n",
      "Test set: Average CMD loss: -18.1742, Average CKA loss: 48.9900, 5.8668 (selected layers), RE: 0.0578\n",
      "OOD Result:\n",
      "Test set: Average CMD loss: -7.9558, Average CKA loss: 61.4686, 5.9476 (selected layers), RE: 0.3855\n",
      "Epoch: 33\n"
     ]
    },
    {
     "name": "stderr",
     "output_type": "stream",
     "text": [
      "211it [00:55,  3.81it/s]\n"
     ]
    },
    {
     "name": "stdout",
     "output_type": "stream",
     "text": [
      "Train Epoch: 33  Loss: 5.893323\n",
      "ID Result:\n",
      "Test set: Average CMD loss: -18.1735, Average CKA loss: 49.0082, 5.8664 (selected layers), RE: 0.0578\n",
      "OOD Result:\n",
      "Test set: Average CMD loss: -7.9756, Average CKA loss: 61.6955, 5.9456 (selected layers), RE: 0.3855\n",
      "Epoch: 34\n"
     ]
    },
    {
     "name": "stderr",
     "output_type": "stream",
     "text": [
      "211it [00:55,  3.81it/s]\n"
     ]
    },
    {
     "name": "stdout",
     "output_type": "stream",
     "text": [
      "Train Epoch: 34  Loss: 5.889052\n",
      "ID Result:\n",
      "Test set: Average CMD loss: -18.1954, Average CKA loss: 48.9954, 5.8659 (selected layers), RE: 0.0578\n",
      "OOD Result:\n",
      "Test set: Average CMD loss: -7.9386, Average CKA loss: 61.3988, 5.9462 (selected layers), RE: 0.3855\n",
      "Epoch: 35\n"
     ]
    },
    {
     "name": "stderr",
     "output_type": "stream",
     "text": [
      "211it [00:55,  3.81it/s]\n"
     ]
    },
    {
     "name": "stdout",
     "output_type": "stream",
     "text": [
      "Train Epoch: 35  Loss: 5.891030\n",
      "ID Result:\n",
      "Test set: Average CMD loss: -18.1558, Average CKA loss: 48.9138, 5.8666 (selected layers), RE: 0.0578\n",
      "OOD Result:\n",
      "Test set: Average CMD loss: -7.9576, Average CKA loss: 61.8827, 5.9433 (selected layers), RE: 0.3855\n",
      "Epoch: 36\n"
     ]
    },
    {
     "name": "stderr",
     "output_type": "stream",
     "text": [
      "211it [00:55,  3.81it/s]\n"
     ]
    },
    {
     "name": "stdout",
     "output_type": "stream",
     "text": [
      "Train Epoch: 36  Loss: 5.873459\n",
      "ID Result:\n",
      "Test set: Average CMD loss: -18.1836, Average CKA loss: 49.0177, 5.8668 (selected layers), RE: 0.0578\n",
      "OOD Result:\n",
      "Test set: Average CMD loss: -7.9516, Average CKA loss: 61.7408, 5.9438 (selected layers), RE: 0.3855\n",
      "Epoch: 37\n"
     ]
    },
    {
     "name": "stderr",
     "output_type": "stream",
     "text": [
      "211it [00:55,  3.81it/s]\n"
     ]
    },
    {
     "name": "stdout",
     "output_type": "stream",
     "text": [
      "Train Epoch: 37  Loss: 5.869347\n",
      "ID Result:\n",
      "Test set: Average CMD loss: -18.1559, Average CKA loss: 48.9269, 5.8661 (selected layers), RE: 0.0578\n",
      "OOD Result:\n",
      "Test set: Average CMD loss: -7.9498, Average CKA loss: 61.8701, 5.9414 (selected layers), RE: 0.3855\n",
      "Epoch: 38\n"
     ]
    },
    {
     "name": "stderr",
     "output_type": "stream",
     "text": [
      "211it [00:55,  3.81it/s]\n"
     ]
    },
    {
     "name": "stdout",
     "output_type": "stream",
     "text": [
      "Train Epoch: 38  Loss: 5.882336\n",
      "ID Result:\n",
      "Test set: Average CMD loss: -18.1842, Average CKA loss: 48.9970, 5.8652 (selected layers), RE: 0.0578\n",
      "OOD Result:\n",
      "Test set: Average CMD loss: -7.9553, Average CKA loss: 62.2211, 5.9381 (selected layers), RE: 0.3855\n",
      "Epoch: 39\n"
     ]
    },
    {
     "name": "stderr",
     "output_type": "stream",
     "text": [
      "211it [00:55,  3.80it/s]\n"
     ]
    },
    {
     "name": "stdout",
     "output_type": "stream",
     "text": [
      "Train Epoch: 39  Loss: 5.882108\n",
      "ID Result:\n",
      "Test set: Average CMD loss: -18.1666, Average CKA loss: 48.9705, 5.8658 (selected layers), RE: 0.0578\n",
      "OOD Result:\n",
      "Test set: Average CMD loss: -7.9528, Average CKA loss: 61.9455, 5.9449 (selected layers), RE: 0.3855\n",
      "Epoch: 40\n"
     ]
    },
    {
     "name": "stderr",
     "output_type": "stream",
     "text": [
      "211it [00:55,  3.81it/s]\n"
     ]
    },
    {
     "name": "stdout",
     "output_type": "stream",
     "text": [
      "Train Epoch: 40  Loss: 5.874084\n",
      "ID Result:\n",
      "Test set: Average CMD loss: -18.1552, Average CKA loss: 49.0000, 5.8660 (selected layers), RE: 0.0578\n",
      "OOD Result:\n",
      "Test set: Average CMD loss: -7.9519, Average CKA loss: 61.9071, 5.9459 (selected layers), RE: 0.3855\n",
      "Epoch: 41\n"
     ]
    },
    {
     "name": "stderr",
     "output_type": "stream",
     "text": [
      "211it [00:55,  3.81it/s]\n"
     ]
    },
    {
     "name": "stdout",
     "output_type": "stream",
     "text": [
      "Train Epoch: 41  Loss: 5.899794\n",
      "ID Result:\n",
      "Test set: Average CMD loss: -18.1633, Average CKA loss: 48.9592, 5.8664 (selected layers), RE: 0.0578\n",
      "OOD Result:\n",
      "Test set: Average CMD loss: -7.9391, Average CKA loss: 61.6289, 5.9421 (selected layers), RE: 0.3855\n",
      "Epoch: 42\n"
     ]
    },
    {
     "name": "stderr",
     "output_type": "stream",
     "text": [
      "211it [00:55,  3.81it/s]\n"
     ]
    },
    {
     "name": "stdout",
     "output_type": "stream",
     "text": [
      "Train Epoch: 42  Loss: 5.890260\n",
      "ID Result:\n",
      "Test set: Average CMD loss: -18.1887, Average CKA loss: 48.9648, 5.8668 (selected layers), RE: 0.0578\n",
      "OOD Result:\n",
      "Test set: Average CMD loss: -7.9469, Average CKA loss: 61.7768, 5.9426 (selected layers), RE: 0.3855\n",
      "Epoch: 43\n"
     ]
    },
    {
     "name": "stderr",
     "output_type": "stream",
     "text": [
      "211it [00:55,  3.81it/s]\n"
     ]
    },
    {
     "name": "stdout",
     "output_type": "stream",
     "text": [
      "Train Epoch: 43  Loss: 5.874123\n",
      "ID Result:\n",
      "Test set: Average CMD loss: -18.2044, Average CKA loss: 49.0076, 5.8664 (selected layers), RE: 0.0578\n",
      "OOD Result:\n",
      "Test set: Average CMD loss: -7.9632, Average CKA loss: 61.9324, 5.9426 (selected layers), RE: 0.3855\n",
      "Epoch: 44\n"
     ]
    },
    {
     "name": "stderr",
     "output_type": "stream",
     "text": [
      "211it [00:55,  3.81it/s]\n"
     ]
    },
    {
     "name": "stdout",
     "output_type": "stream",
     "text": [
      "Train Epoch: 44  Loss: 5.886587\n",
      "ID Result:\n",
      "Test set: Average CMD loss: -18.2118, Average CKA loss: 49.0288, 5.8668 (selected layers), RE: 0.0578\n",
      "OOD Result:\n",
      "Test set: Average CMD loss: -7.9416, Average CKA loss: 61.7114, 5.9432 (selected layers), RE: 0.3855\n",
      "Epoch: 45\n"
     ]
    },
    {
     "name": "stderr",
     "output_type": "stream",
     "text": [
      "211it [00:55,  3.81it/s]\n"
     ]
    },
    {
     "name": "stdout",
     "output_type": "stream",
     "text": [
      "Train Epoch: 45  Loss: 5.892791\n",
      "ID Result:\n",
      "Test set: Average CMD loss: -18.2039, Average CKA loss: 49.0029, 5.8667 (selected layers), RE: 0.0578\n",
      "OOD Result:\n",
      "Test set: Average CMD loss: -7.9755, Average CKA loss: 61.0974, 5.9478 (selected layers), RE: 0.3855\n",
      "Epoch: 46\n"
     ]
    },
    {
     "name": "stderr",
     "output_type": "stream",
     "text": [
      "211it [00:55,  3.81it/s]\n"
     ]
    },
    {
     "name": "stdout",
     "output_type": "stream",
     "text": [
      "Train Epoch: 46  Loss: 5.886134\n",
      "ID Result:\n",
      "Test set: Average CMD loss: -18.1632, Average CKA loss: 49.0144, 5.8666 (selected layers), RE: 0.0578\n",
      "OOD Result:\n",
      "Test set: Average CMD loss: -7.9366, Average CKA loss: 61.7185, 5.9435 (selected layers), RE: 0.3855\n",
      "Epoch: 47\n"
     ]
    },
    {
     "name": "stderr",
     "output_type": "stream",
     "text": [
      "211it [00:55,  3.80it/s]\n"
     ]
    },
    {
     "name": "stdout",
     "output_type": "stream",
     "text": [
      "Train Epoch: 47  Loss: 5.866916\n",
      "ID Result:\n",
      "Test set: Average CMD loss: -18.1810, Average CKA loss: 49.0002, 5.8667 (selected layers), RE: 0.0578\n",
      "OOD Result:\n",
      "Test set: Average CMD loss: -7.9432, Average CKA loss: 61.8101, 5.9428 (selected layers), RE: 0.3855\n",
      "Epoch: 48\n"
     ]
    },
    {
     "name": "stderr",
     "output_type": "stream",
     "text": [
      "211it [00:55,  3.81it/s]\n"
     ]
    },
    {
     "name": "stdout",
     "output_type": "stream",
     "text": [
      "Train Epoch: 48  Loss: 5.900531\n",
      "ID Result:\n",
      "Test set: Average CMD loss: -18.1747, Average CKA loss: 49.0206, 5.8665 (selected layers), RE: 0.0578\n",
      "OOD Result:\n",
      "Test set: Average CMD loss: -7.9642, Average CKA loss: 61.7075, 5.9417 (selected layers), RE: 0.3855\n",
      "Epoch: 49\n"
     ]
    },
    {
     "name": "stderr",
     "output_type": "stream",
     "text": [
      "211it [00:55,  3.81it/s]\n"
     ]
    },
    {
     "name": "stdout",
     "output_type": "stream",
     "text": [
      "Train Epoch: 49  Loss: 5.870708\n",
      "ID Result:\n",
      "Test set: Average CMD loss: -18.1729, Average CKA loss: 49.0139, 5.8667 (selected layers), RE: 0.0578\n",
      "OOD Result:\n",
      "Test set: Average CMD loss: -7.9507, Average CKA loss: 61.3970, 5.9436 (selected layers), RE: 0.3855\n",
      "Epoch: 50\n"
     ]
    },
    {
     "name": "stderr",
     "output_type": "stream",
     "text": [
      "211it [00:55,  3.81it/s]\n"
     ]
    },
    {
     "name": "stdout",
     "output_type": "stream",
     "text": [
      "Train Epoch: 50  Loss: 5.884171\n",
      "ID Result:\n",
      "Test set: Average CMD loss: -18.1762, Average CKA loss: 48.9837, 5.8666 (selected layers), RE: 0.0578\n",
      "OOD Result:\n",
      "Test set: Average CMD loss: -7.9326, Average CKA loss: 61.1546, 5.9461 (selected layers), RE: 0.3855\n",
      "Epoch: 51\n"
     ]
    },
    {
     "name": "stderr",
     "output_type": "stream",
     "text": [
      "211it [00:55,  3.80it/s]\n"
     ]
    },
    {
     "name": "stdout",
     "output_type": "stream",
     "text": [
      "Train Epoch: 51  Loss: 5.892852\n",
      "ID Result:\n",
      "Test set: Average CMD loss: -18.1566, Average CKA loss: 49.0624, 5.8661 (selected layers), RE: 0.0578\n",
      "OOD Result:\n",
      "Test set: Average CMD loss: -7.9552, Average CKA loss: 61.6941, 5.9410 (selected layers), RE: 0.3855\n",
      "Epoch: 52\n"
     ]
    },
    {
     "name": "stderr",
     "output_type": "stream",
     "text": [
      "211it [00:55,  3.80it/s]\n"
     ]
    },
    {
     "name": "stdout",
     "output_type": "stream",
     "text": [
      "Train Epoch: 52  Loss: 5.890433\n",
      "ID Result:\n",
      "Test set: Average CMD loss: -18.1783, Average CKA loss: 48.9590, 5.8660 (selected layers), RE: 0.0578\n",
      "OOD Result:\n",
      "Test set: Average CMD loss: -7.9530, Average CKA loss: 61.4189, 5.9462 (selected layers), RE: 0.3855\n",
      "Epoch: 53\n"
     ]
    },
    {
     "name": "stderr",
     "output_type": "stream",
     "text": [
      "211it [00:55,  3.81it/s]\n"
     ]
    },
    {
     "name": "stdout",
     "output_type": "stream",
     "text": [
      "Train Epoch: 53  Loss: 5.886543\n",
      "ID Result:\n",
      "Test set: Average CMD loss: -18.1819, Average CKA loss: 48.9672, 5.8665 (selected layers), RE: 0.0578\n",
      "OOD Result:\n",
      "Test set: Average CMD loss: -7.9610, Average CKA loss: 61.1561, 5.9467 (selected layers), RE: 0.3855\n",
      "Epoch: 54\n"
     ]
    },
    {
     "name": "stderr",
     "output_type": "stream",
     "text": [
      "211it [00:55,  3.81it/s]\n"
     ]
    },
    {
     "name": "stdout",
     "output_type": "stream",
     "text": [
      "Train Epoch: 54  Loss: 5.880229\n",
      "ID Result:\n",
      "Test set: Average CMD loss: -18.1853, Average CKA loss: 48.9754, 5.8663 (selected layers), RE: 0.0578\n",
      "OOD Result:\n",
      "Test set: Average CMD loss: -7.9336, Average CKA loss: 61.3997, 5.9438 (selected layers), RE: 0.3855\n",
      "Epoch: 55\n"
     ]
    },
    {
     "name": "stderr",
     "output_type": "stream",
     "text": [
      "211it [00:55,  3.81it/s]\n"
     ]
    },
    {
     "name": "stdout",
     "output_type": "stream",
     "text": [
      "Train Epoch: 55  Loss: 5.904973\n",
      "ID Result:\n",
      "Test set: Average CMD loss: -18.1804, Average CKA loss: 48.9758, 5.8658 (selected layers), RE: 0.0578\n",
      "OOD Result:\n",
      "Test set: Average CMD loss: -7.9374, Average CKA loss: 61.6945, 5.9438 (selected layers), RE: 0.3855\n",
      "Epoch: 56\n"
     ]
    },
    {
     "name": "stderr",
     "output_type": "stream",
     "text": [
      "211it [00:55,  3.81it/s]\n"
     ]
    },
    {
     "name": "stdout",
     "output_type": "stream",
     "text": [
      "Train Epoch: 56  Loss: 5.883839\n",
      "ID Result:\n",
      "Test set: Average CMD loss: -18.1705, Average CKA loss: 48.9811, 5.8662 (selected layers), RE: 0.0578\n",
      "OOD Result:\n",
      "Test set: Average CMD loss: -7.9392, Average CKA loss: 61.6138, 5.9462 (selected layers), RE: 0.3855\n",
      "Epoch: 57\n"
     ]
    },
    {
     "name": "stderr",
     "output_type": "stream",
     "text": [
      "211it [00:55,  3.81it/s]\n"
     ]
    },
    {
     "name": "stdout",
     "output_type": "stream",
     "text": [
      "Train Epoch: 57  Loss: 5.886096\n",
      "ID Result:\n",
      "Test set: Average CMD loss: -18.1852, Average CKA loss: 48.9757, 5.8665 (selected layers), RE: 0.0578\n",
      "OOD Result:\n",
      "Test set: Average CMD loss: -7.9327, Average CKA loss: 61.3219, 5.9443 (selected layers), RE: 0.3855\n",
      "Epoch: 58\n"
     ]
    },
    {
     "name": "stderr",
     "output_type": "stream",
     "text": [
      "211it [00:55,  3.80it/s]\n"
     ]
    },
    {
     "name": "stdout",
     "output_type": "stream",
     "text": [
      "Train Epoch: 58  Loss: 5.887609\n",
      "ID Result:\n",
      "Test set: Average CMD loss: -18.1760, Average CKA loss: 48.9553, 5.8667 (selected layers), RE: 0.0578\n",
      "OOD Result:\n",
      "Test set: Average CMD loss: -7.9433, Average CKA loss: 61.6829, 5.9459 (selected layers), RE: 0.3855\n",
      "Epoch: 59\n"
     ]
    },
    {
     "name": "stderr",
     "output_type": "stream",
     "text": [
      "211it [00:55,  3.80it/s]\n"
     ]
    },
    {
     "name": "stdout",
     "output_type": "stream",
     "text": [
      "Train Epoch: 59  Loss: 5.886497\n",
      "ID Result:\n",
      "Test set: Average CMD loss: -18.1877, Average CKA loss: 49.0204, 5.8660 (selected layers), RE: 0.0578\n",
      "OOD Result:\n",
      "Test set: Average CMD loss: -7.9560, Average CKA loss: 61.6389, 5.9439 (selected layers), RE: 0.3855\n",
      "Epoch: 60\n"
     ]
    },
    {
     "name": "stderr",
     "output_type": "stream",
     "text": [
      "211it [00:55,  3.80it/s]\n"
     ]
    },
    {
     "name": "stdout",
     "output_type": "stream",
     "text": [
      "Train Epoch: 60  Loss: 5.866758\n",
      "ID Result:\n",
      "Test set: Average CMD loss: -18.1869, Average CKA loss: 48.9725, 5.8667 (selected layers), RE: 0.0578\n",
      "OOD Result:\n",
      "Test set: Average CMD loss: -7.9303, Average CKA loss: 61.5272, 5.9438 (selected layers), RE: 0.3855\n",
      "Epoch: 61\n"
     ]
    },
    {
     "name": "stderr",
     "output_type": "stream",
     "text": [
      "211it [00:55,  3.81it/s]\n"
     ]
    },
    {
     "name": "stdout",
     "output_type": "stream",
     "text": [
      "Train Epoch: 61  Loss: 5.897289\n",
      "ID Result:\n",
      "Test set: Average CMD loss: -18.1643, Average CKA loss: 48.9492, 5.8666 (selected layers), RE: 0.0578\n",
      "OOD Result:\n",
      "Test set: Average CMD loss: -7.9449, Average CKA loss: 61.5719, 5.9423 (selected layers), RE: 0.3855\n",
      "Epoch: 62\n"
     ]
    },
    {
     "name": "stderr",
     "output_type": "stream",
     "text": [
      "211it [00:55,  3.81it/s]\n"
     ]
    },
    {
     "name": "stdout",
     "output_type": "stream",
     "text": [
      "Train Epoch: 62  Loss: 5.904863\n",
      "ID Result:\n",
      "Test set: Average CMD loss: -18.2330, Average CKA loss: 49.0486, 5.8667 (selected layers), RE: 0.0578\n",
      "OOD Result:\n",
      "Test set: Average CMD loss: -7.9311, Average CKA loss: 61.4364, 5.9439 (selected layers), RE: 0.3855\n",
      "Epoch: 63\n"
     ]
    },
    {
     "name": "stderr",
     "output_type": "stream",
     "text": [
      "211it [00:55,  3.81it/s]\n"
     ]
    },
    {
     "name": "stdout",
     "output_type": "stream",
     "text": [
      "Train Epoch: 63  Loss: 5.874482\n",
      "ID Result:\n",
      "Test set: Average CMD loss: -18.2073, Average CKA loss: 48.9765, 5.8663 (selected layers), RE: 0.0578\n",
      "OOD Result:\n",
      "Test set: Average CMD loss: -7.9732, Average CKA loss: 61.8222, 5.9440 (selected layers), RE: 0.3855\n",
      "Epoch: 64\n"
     ]
    },
    {
     "name": "stderr",
     "output_type": "stream",
     "text": [
      "211it [00:55,  3.81it/s]\n"
     ]
    },
    {
     "name": "stdout",
     "output_type": "stream",
     "text": [
      "Train Epoch: 64  Loss: 5.893361\n",
      "ID Result:\n",
      "Test set: Average CMD loss: -18.1602, Average CKA loss: 48.9802, 5.8662 (selected layers), RE: 0.0578\n",
      "OOD Result:\n",
      "Test set: Average CMD loss: -7.9700, Average CKA loss: 61.8421, 5.9416 (selected layers), RE: 0.3855\n",
      "Epoch: 65\n"
     ]
    },
    {
     "name": "stderr",
     "output_type": "stream",
     "text": [
      "211it [00:55,  3.81it/s]\n"
     ]
    },
    {
     "name": "stdout",
     "output_type": "stream",
     "text": [
      "Train Epoch: 65  Loss: 5.875277\n",
      "ID Result:\n",
      "Test set: Average CMD loss: -18.1953, Average CKA loss: 48.9466, 5.8660 (selected layers), RE: 0.0578\n",
      "OOD Result:\n",
      "Test set: Average CMD loss: -7.9574, Average CKA loss: 61.1095, 5.9480 (selected layers), RE: 0.3855\n",
      "Epoch: 66\n"
     ]
    },
    {
     "name": "stderr",
     "output_type": "stream",
     "text": [
      "211it [00:55,  3.80it/s]\n"
     ]
    },
    {
     "name": "stdout",
     "output_type": "stream",
     "text": [
      "Train Epoch: 66  Loss: 5.889582\n",
      "ID Result:\n",
      "Test set: Average CMD loss: -18.2272, Average CKA loss: 48.9785, 5.8665 (selected layers), RE: 0.0578\n",
      "OOD Result:\n",
      "Test set: Average CMD loss: -7.9504, Average CKA loss: 61.7707, 5.9432 (selected layers), RE: 0.3855\n",
      "Epoch: 67\n"
     ]
    },
    {
     "name": "stderr",
     "output_type": "stream",
     "text": [
      "211it [00:55,  3.81it/s]\n"
     ]
    },
    {
     "name": "stdout",
     "output_type": "stream",
     "text": [
      "Train Epoch: 67  Loss: 5.894566\n",
      "ID Result:\n",
      "Test set: Average CMD loss: -18.1855, Average CKA loss: 48.9920, 5.8665 (selected layers), RE: 0.0578\n",
      "OOD Result:\n",
      "Test set: Average CMD loss: -7.9448, Average CKA loss: 62.0461, 5.9418 (selected layers), RE: 0.3855\n",
      "Epoch: 68\n"
     ]
    },
    {
     "name": "stderr",
     "output_type": "stream",
     "text": [
      "211it [00:55,  3.81it/s]\n"
     ]
    },
    {
     "name": "stdout",
     "output_type": "stream",
     "text": [
      "Train Epoch: 68  Loss: 5.889510\n",
      "ID Result:\n",
      "Test set: Average CMD loss: -18.1962, Average CKA loss: 48.9799, 5.8660 (selected layers), RE: 0.0578\n",
      "OOD Result:\n",
      "Test set: Average CMD loss: -7.9225, Average CKA loss: 61.8833, 5.9437 (selected layers), RE: 0.3855\n",
      "Epoch: 69\n"
     ]
    },
    {
     "name": "stderr",
     "output_type": "stream",
     "text": [
      "211it [00:55,  3.80it/s]\n"
     ]
    },
    {
     "name": "stdout",
     "output_type": "stream",
     "text": [
      "Train Epoch: 69  Loss: 5.896497\n",
      "ID Result:\n",
      "Test set: Average CMD loss: -18.1549, Average CKA loss: 48.9670, 5.8660 (selected layers), RE: 0.0578\n",
      "OOD Result:\n",
      "Test set: Average CMD loss: -7.9418, Average CKA loss: 61.9570, 5.9416 (selected layers), RE: 0.3855\n",
      "Epoch: 70\n"
     ]
    },
    {
     "name": "stderr",
     "output_type": "stream",
     "text": [
      "211it [00:55,  3.80it/s]\n"
     ]
    },
    {
     "name": "stdout",
     "output_type": "stream",
     "text": [
      "Train Epoch: 70  Loss: 5.881604\n",
      "ID Result:\n",
      "Test set: Average CMD loss: -18.1579, Average CKA loss: 48.9980, 5.8670 (selected layers), RE: 0.0578\n",
      "OOD Result:\n",
      "Test set: Average CMD loss: -7.9325, Average CKA loss: 61.6923, 5.9417 (selected layers), RE: 0.3855\n",
      "Epoch: 71\n"
     ]
    },
    {
     "name": "stderr",
     "output_type": "stream",
     "text": [
      "211it [00:55,  3.81it/s]\n"
     ]
    },
    {
     "name": "stdout",
     "output_type": "stream",
     "text": [
      "Train Epoch: 71  Loss: 5.872115\n",
      "ID Result:\n",
      "Test set: Average CMD loss: -18.1474, Average CKA loss: 49.0181, 5.8663 (selected layers), RE: 0.0578\n",
      "OOD Result:\n",
      "Test set: Average CMD loss: -7.9338, Average CKA loss: 61.7113, 5.9420 (selected layers), RE: 0.3855\n",
      "Epoch: 72\n"
     ]
    },
    {
     "name": "stderr",
     "output_type": "stream",
     "text": [
      "211it [00:55,  3.81it/s]\n"
     ]
    },
    {
     "name": "stdout",
     "output_type": "stream",
     "text": [
      "Train Epoch: 72  Loss: 5.883766\n",
      "ID Result:\n",
      "Test set: Average CMD loss: -18.1642, Average CKA loss: 48.9566, 5.8663 (selected layers), RE: 0.0578\n",
      "OOD Result:\n",
      "Test set: Average CMD loss: -7.9606, Average CKA loss: 61.6949, 5.9439 (selected layers), RE: 0.3855\n",
      "Epoch: 73\n"
     ]
    },
    {
     "name": "stderr",
     "output_type": "stream",
     "text": [
      "211it [00:55,  3.80it/s]\n"
     ]
    },
    {
     "name": "stdout",
     "output_type": "stream",
     "text": [
      "Train Epoch: 73  Loss: 5.851299\n",
      "ID Result:\n",
      "Test set: Average CMD loss: -18.2102, Average CKA loss: 48.9445, 5.8668 (selected layers), RE: 0.0578\n",
      "OOD Result:\n",
      "Test set: Average CMD loss: -7.9377, Average CKA loss: 61.7418, 5.9444 (selected layers), RE: 0.3855\n",
      "Epoch: 74\n"
     ]
    },
    {
     "name": "stderr",
     "output_type": "stream",
     "text": [
      "211it [00:55,  3.81it/s]\n"
     ]
    },
    {
     "name": "stdout",
     "output_type": "stream",
     "text": [
      "Train Epoch: 74  Loss: 5.865208\n",
      "ID Result:\n",
      "Test set: Average CMD loss: -18.1890, Average CKA loss: 48.9583, 5.8663 (selected layers), RE: 0.0578\n",
      "OOD Result:\n",
      "Test set: Average CMD loss: -7.9372, Average CKA loss: 61.9258, 5.9425 (selected layers), RE: 0.3855\n",
      "Epoch: 75\n"
     ]
    },
    {
     "name": "stderr",
     "output_type": "stream",
     "text": [
      "211it [00:55,  3.80it/s]\n"
     ]
    },
    {
     "name": "stdout",
     "output_type": "stream",
     "text": [
      "Train Epoch: 75  Loss: 5.879636\n",
      "ID Result:\n",
      "Test set: Average CMD loss: -18.1941, Average CKA loss: 48.9682, 5.8662 (selected layers), RE: 0.0578\n",
      "OOD Result:\n",
      "Test set: Average CMD loss: -7.9457, Average CKA loss: 61.8048, 5.9410 (selected layers), RE: 0.3855\n",
      "Epoch: 76\n"
     ]
    },
    {
     "name": "stderr",
     "output_type": "stream",
     "text": [
      "211it [00:55,  3.80it/s]\n"
     ]
    },
    {
     "name": "stdout",
     "output_type": "stream",
     "text": [
      "Train Epoch: 76  Loss: 5.884109\n",
      "ID Result:\n",
      "Test set: Average CMD loss: -18.2166, Average CKA loss: 48.9933, 5.8664 (selected layers), RE: 0.0578\n",
      "OOD Result:\n",
      "Test set: Average CMD loss: -7.9455, Average CKA loss: 61.9775, 5.9422 (selected layers), RE: 0.3855\n",
      "Epoch: 77\n"
     ]
    },
    {
     "name": "stderr",
     "output_type": "stream",
     "text": [
      "211it [00:55,  3.81it/s]\n"
     ]
    },
    {
     "name": "stdout",
     "output_type": "stream",
     "text": [
      "Train Epoch: 77  Loss: 5.899879\n",
      "ID Result:\n",
      "Test set: Average CMD loss: -18.2321, Average CKA loss: 48.9424, 5.8666 (selected layers), RE: 0.0578\n",
      "OOD Result:\n",
      "Test set: Average CMD loss: -7.9403, Average CKA loss: 61.9041, 5.9440 (selected layers), RE: 0.3855\n",
      "Epoch: 78\n"
     ]
    },
    {
     "name": "stderr",
     "output_type": "stream",
     "text": [
      "211it [00:55,  3.80it/s]\n"
     ]
    },
    {
     "name": "stdout",
     "output_type": "stream",
     "text": [
      "Train Epoch: 78  Loss: 5.873225\n",
      "ID Result:\n",
      "Test set: Average CMD loss: -18.1749, Average CKA loss: 48.9762, 5.8666 (selected layers), RE: 0.0578\n",
      "OOD Result:\n",
      "Test set: Average CMD loss: -7.9591, Average CKA loss: 61.2726, 5.9480 (selected layers), RE: 0.3855\n",
      "Epoch: 79\n"
     ]
    },
    {
     "name": "stderr",
     "output_type": "stream",
     "text": [
      "211it [00:55,  3.80it/s]\n"
     ]
    },
    {
     "name": "stdout",
     "output_type": "stream",
     "text": [
      "Train Epoch: 79  Loss: 5.882941\n",
      "ID Result:\n",
      "Test set: Average CMD loss: -18.1700, Average CKA loss: 48.9449, 5.8661 (selected layers), RE: 0.0578\n",
      "OOD Result:\n",
      "Test set: Average CMD loss: -7.9492, Average CKA loss: 61.8237, 5.9401 (selected layers), RE: 0.3855\n",
      "Epoch: 80\n"
     ]
    },
    {
     "name": "stderr",
     "output_type": "stream",
     "text": [
      "211it [00:55,  3.81it/s]\n"
     ]
    },
    {
     "name": "stdout",
     "output_type": "stream",
     "text": [
      "Train Epoch: 80  Loss: 5.888588\n",
      "ID Result:\n",
      "Test set: Average CMD loss: -18.1604, Average CKA loss: 49.0174, 5.8664 (selected layers), RE: 0.0578\n",
      "OOD Result:\n",
      "Test set: Average CMD loss: -7.9401, Average CKA loss: 61.4575, 5.9447 (selected layers), RE: 0.3855\n",
      "Epoch: 81\n"
     ]
    },
    {
     "name": "stderr",
     "output_type": "stream",
     "text": [
      "211it [00:55,  3.80it/s]\n"
     ]
    },
    {
     "name": "stdout",
     "output_type": "stream",
     "text": [
      "Train Epoch: 81  Loss: 5.891278\n",
      "ID Result:\n",
      "Test set: Average CMD loss: -18.1676, Average CKA loss: 48.9706, 5.8660 (selected layers), RE: 0.0578\n",
      "OOD Result:\n",
      "Test set: Average CMD loss: -7.9539, Average CKA loss: 61.6115, 5.9432 (selected layers), RE: 0.3855\n",
      "Epoch: 82\n"
     ]
    },
    {
     "name": "stderr",
     "output_type": "stream",
     "text": [
      "211it [00:55,  3.81it/s]\n"
     ]
    },
    {
     "name": "stdout",
     "output_type": "stream",
     "text": [
      "Train Epoch: 82  Loss: 5.887303\n",
      "ID Result:\n",
      "Test set: Average CMD loss: -18.1765, Average CKA loss: 49.0053, 5.8667 (selected layers), RE: 0.0578\n",
      "OOD Result:\n",
      "Test set: Average CMD loss: -7.9472, Average CKA loss: 61.5079, 5.9437 (selected layers), RE: 0.3855\n",
      "Epoch: 83\n"
     ]
    },
    {
     "name": "stderr",
     "output_type": "stream",
     "text": [
      "211it [00:55,  3.80it/s]\n"
     ]
    },
    {
     "name": "stdout",
     "output_type": "stream",
     "text": [
      "Train Epoch: 83  Loss: 5.885714\n",
      "ID Result:\n",
      "Test set: Average CMD loss: -18.1787, Average CKA loss: 48.9813, 5.8666 (selected layers), RE: 0.0578\n",
      "OOD Result:\n",
      "Test set: Average CMD loss: -7.9495, Average CKA loss: 61.5417, 5.9439 (selected layers), RE: 0.3855\n",
      "Epoch: 84\n"
     ]
    },
    {
     "name": "stderr",
     "output_type": "stream",
     "text": [
      "211it [00:55,  3.81it/s]\n"
     ]
    },
    {
     "name": "stdout",
     "output_type": "stream",
     "text": [
      "Train Epoch: 84  Loss: 5.875591\n",
      "ID Result:\n",
      "Test set: Average CMD loss: -18.2046, Average CKA loss: 48.9831, 5.8662 (selected layers), RE: 0.0578\n",
      "OOD Result:\n",
      "Test set: Average CMD loss: -7.9454, Average CKA loss: 61.7559, 5.9420 (selected layers), RE: 0.3855\n",
      "Epoch: 85\n"
     ]
    },
    {
     "name": "stderr",
     "output_type": "stream",
     "text": [
      "211it [00:55,  3.80it/s]\n"
     ]
    },
    {
     "name": "stdout",
     "output_type": "stream",
     "text": [
      "Train Epoch: 85  Loss: 5.879368\n",
      "ID Result:\n",
      "Test set: Average CMD loss: -18.1509, Average CKA loss: 48.9790, 5.8667 (selected layers), RE: 0.0578\n",
      "OOD Result:\n",
      "Test set: Average CMD loss: -7.9503, Average CKA loss: 62.0041, 5.9417 (selected layers), RE: 0.3856\n",
      "Epoch: 86\n"
     ]
    },
    {
     "name": "stderr",
     "output_type": "stream",
     "text": [
      "211it [00:55,  3.80it/s]\n"
     ]
    },
    {
     "name": "stdout",
     "output_type": "stream",
     "text": [
      "Train Epoch: 86  Loss: 5.878176\n",
      "ID Result:\n",
      "Test set: Average CMD loss: -18.1707, Average CKA loss: 48.9831, 5.8663 (selected layers), RE: 0.0578\n",
      "OOD Result:\n",
      "Test set: Average CMD loss: -7.9464, Average CKA loss: 61.4396, 5.9433 (selected layers), RE: 0.3856\n",
      "Epoch: 87\n"
     ]
    },
    {
     "name": "stderr",
     "output_type": "stream",
     "text": [
      "211it [00:55,  3.81it/s]\n"
     ]
    },
    {
     "name": "stdout",
     "output_type": "stream",
     "text": [
      "Train Epoch: 87  Loss: 5.891965\n",
      "ID Result:\n",
      "Test set: Average CMD loss: -18.2016, Average CKA loss: 48.9521, 5.8661 (selected layers), RE: 0.0578\n",
      "OOD Result:\n",
      "Test set: Average CMD loss: -7.9357, Average CKA loss: 61.7657, 5.9428 (selected layers), RE: 0.3856\n",
      "Epoch: 88\n"
     ]
    },
    {
     "name": "stderr",
     "output_type": "stream",
     "text": [
      "211it [00:55,  3.81it/s]\n"
     ]
    },
    {
     "name": "stdout",
     "output_type": "stream",
     "text": [
      "Train Epoch: 88  Loss: 5.871572\n",
      "ID Result:\n",
      "Test set: Average CMD loss: -18.1669, Average CKA loss: 48.9901, 5.8669 (selected layers), RE: 0.0578\n",
      "OOD Result:\n",
      "Test set: Average CMD loss: -7.9571, Average CKA loss: 61.6920, 5.9410 (selected layers), RE: 0.3856\n",
      "Epoch: 89\n"
     ]
    },
    {
     "name": "stderr",
     "output_type": "stream",
     "text": [
      "211it [00:55,  3.81it/s]\n"
     ]
    },
    {
     "name": "stdout",
     "output_type": "stream",
     "text": [
      "Train Epoch: 89  Loss: 5.888237\n",
      "ID Result:\n",
      "Test set: Average CMD loss: -18.1729, Average CKA loss: 48.9426, 5.8664 (selected layers), RE: 0.0578\n",
      "OOD Result:\n",
      "Test set: Average CMD loss: -7.9324, Average CKA loss: 61.3413, 5.9487 (selected layers), RE: 0.3856\n",
      "Epoch: 90\n"
     ]
    },
    {
     "name": "stderr",
     "output_type": "stream",
     "text": [
      "211it [00:55,  3.81it/s]\n"
     ]
    },
    {
     "name": "stdout",
     "output_type": "stream",
     "text": [
      "Train Epoch: 90  Loss: 5.891881\n",
      "ID Result:\n",
      "Test set: Average CMD loss: -18.1602, Average CKA loss: 49.0101, 5.8665 (selected layers), RE: 0.0578\n",
      "OOD Result:\n",
      "Test set: Average CMD loss: -7.9659, Average CKA loss: 61.7570, 5.9433 (selected layers), RE: 0.3856\n",
      "Epoch: 91\n"
     ]
    },
    {
     "name": "stderr",
     "output_type": "stream",
     "text": [
      "211it [00:55,  3.80it/s]\n"
     ]
    },
    {
     "name": "stdout",
     "output_type": "stream",
     "text": [
      "Train Epoch: 91  Loss: 5.878170\n",
      "ID Result:\n",
      "Test set: Average CMD loss: -18.1616, Average CKA loss: 49.0180, 5.8656 (selected layers), RE: 0.0578\n",
      "OOD Result:\n",
      "Test set: Average CMD loss: -7.9513, Average CKA loss: 61.4347, 5.9438 (selected layers), RE: 0.3856\n",
      "Epoch: 92\n"
     ]
    },
    {
     "name": "stderr",
     "output_type": "stream",
     "text": [
      "211it [00:55,  3.80it/s]\n"
     ]
    },
    {
     "name": "stdout",
     "output_type": "stream",
     "text": [
      "Train Epoch: 92  Loss: 5.887926\n",
      "ID Result:\n",
      "Test set: Average CMD loss: -18.1802, Average CKA loss: 48.9973, 5.8664 (selected layers), RE: 0.0578\n",
      "OOD Result:\n",
      "Test set: Average CMD loss: -7.9393, Average CKA loss: 61.8031, 5.9428 (selected layers), RE: 0.3856\n",
      "Epoch: 93\n"
     ]
    },
    {
     "name": "stderr",
     "output_type": "stream",
     "text": [
      "211it [00:55,  3.80it/s]\n"
     ]
    },
    {
     "name": "stdout",
     "output_type": "stream",
     "text": [
      "Train Epoch: 93  Loss: 5.889636\n",
      "ID Result:\n",
      "Test set: Average CMD loss: -18.1496, Average CKA loss: 48.9933, 5.8662 (selected layers), RE: 0.0578\n",
      "OOD Result:\n",
      "Test set: Average CMD loss: -7.9483, Average CKA loss: 61.5712, 5.9453 (selected layers), RE: 0.3856\n",
      "Epoch: 94\n"
     ]
    },
    {
     "name": "stderr",
     "output_type": "stream",
     "text": [
      "211it [00:55,  3.81it/s]\n"
     ]
    },
    {
     "name": "stdout",
     "output_type": "stream",
     "text": [
      "Train Epoch: 94  Loss: 5.870798\n",
      "ID Result:\n",
      "Test set: Average CMD loss: -18.1759, Average CKA loss: 48.9873, 5.8664 (selected layers), RE: 0.0578\n",
      "OOD Result:\n",
      "Test set: Average CMD loss: -7.9485, Average CKA loss: 61.5745, 5.9437 (selected layers), RE: 0.3856\n",
      "Epoch: 95\n"
     ]
    },
    {
     "name": "stderr",
     "output_type": "stream",
     "text": [
      "211it [00:55,  3.79it/s]\n"
     ]
    },
    {
     "name": "stdout",
     "output_type": "stream",
     "text": [
      "Train Epoch: 95  Loss: 5.884103\n",
      "ID Result:\n",
      "Test set: Average CMD loss: -18.1922, Average CKA loss: 48.9559, 5.8662 (selected layers), RE: 0.0578\n",
      "OOD Result:\n",
      "Test set: Average CMD loss: -7.9351, Average CKA loss: 61.8004, 5.9431 (selected layers), RE: 0.3856\n",
      "Epoch: 96\n"
     ]
    },
    {
     "name": "stderr",
     "output_type": "stream",
     "text": [
      "211it [00:55,  3.78it/s]\n"
     ]
    },
    {
     "name": "stdout",
     "output_type": "stream",
     "text": [
      "Train Epoch: 96  Loss: 5.887284\n",
      "ID Result:\n",
      "Test set: Average CMD loss: -18.1714, Average CKA loss: 48.9777, 5.8666 (selected layers), RE: 0.0578\n",
      "OOD Result:\n",
      "Test set: Average CMD loss: -7.9563, Average CKA loss: 61.2465, 5.9449 (selected layers), RE: 0.3856\n",
      "Epoch: 97\n"
     ]
    },
    {
     "name": "stderr",
     "output_type": "stream",
     "text": [
      "211it [00:55,  3.80it/s]\n"
     ]
    },
    {
     "name": "stdout",
     "output_type": "stream",
     "text": [
      "Train Epoch: 97  Loss: 5.896020\n",
      "ID Result:\n",
      "Test set: Average CMD loss: -18.1891, Average CKA loss: 48.9931, 5.8668 (selected layers), RE: 0.0578\n",
      "OOD Result:\n",
      "Test set: Average CMD loss: -7.9468, Average CKA loss: 61.8818, 5.9405 (selected layers), RE: 0.3856\n",
      "Epoch: 98\n"
     ]
    },
    {
     "name": "stderr",
     "output_type": "stream",
     "text": [
      "211it [00:55,  3.79it/s]\n"
     ]
    },
    {
     "name": "stdout",
     "output_type": "stream",
     "text": [
      "Train Epoch: 98  Loss: 5.897946\n",
      "ID Result:\n",
      "Test set: Average CMD loss: -18.1688, Average CKA loss: 48.9459, 5.8662 (selected layers), RE: 0.0578\n",
      "OOD Result:\n",
      "Test set: Average CMD loss: -7.9655, Average CKA loss: 61.3948, 5.9439 (selected layers), RE: 0.3856\n",
      "Epoch: 99\n"
     ]
    },
    {
     "name": "stderr",
     "output_type": "stream",
     "text": [
      "211it [00:55,  3.79it/s]\n"
     ]
    },
    {
     "name": "stdout",
     "output_type": "stream",
     "text": [
      "Train Epoch: 99  Loss: 5.877515\n",
      "ID Result:\n",
      "Test set: Average CMD loss: -18.1671, Average CKA loss: 48.9981, 5.8661 (selected layers), RE: 0.0578\n",
      "OOD Result:\n",
      "Test set: Average CMD loss: -7.9391, Average CKA loss: 61.2984, 5.9473 (selected layers), RE: 0.3856\n",
      "3291.0623829364777\n"
     ]
    },
    {
     "name": "stderr",
     "output_type": "stream",
     "text": [
      "\u001b[34m\u001b[1mwandb\u001b[0m:                                                                                \n",
      "\u001b[34m\u001b[1mwandb\u001b[0m: \n",
      "\u001b[34m\u001b[1mwandb\u001b[0m: Run history:\n",
      "\u001b[34m\u001b[1mwandb\u001b[0m:     cka_loss ▅▇▃▆▆▇▃▄▄▁▄▄▆▅▆▅▃▅▆▆█▃▄▂▂▄▄▄▆▂▄▄▃▄▄▄▆▄▄▅\n",
      "\u001b[34m\u001b[1mwandb\u001b[0m: cka_loss_ood ▂▆▅▅▃▃▃▄▄▅▆▇▃▅▅█▄▆▅▅▅▁▄▄▄▅▅▆▅▅▆▂▄▄▃▅▃▄▂▂\n",
      "\u001b[34m\u001b[1mwandb\u001b[0m:     cmd_loss ▄▇▅▆▆▅▆▇▅▅▃▄█▆▅▅▇▃▇▆▇▅▆▅▇▃▁▄█▂▂▆▆▅▆▆▇█▆▆\n",
      "\u001b[34m\u001b[1mwandb\u001b[0m: cmd_loss_ood ▆▄▃▃▅▅▅▄▃▅▅▃▅▁▄▄▆▃▆▃▄▃▆▅▅▁▄█▇▆▅▃▄▄▅▃▄▅▄▆\n",
      "\u001b[34m\u001b[1mwandb\u001b[0m:        epoch ▁▁▁▁▂▂▂▂▂▃▃▃▃▃▃▄▄▄▄▄▅▅▅▅▅▅▆▆▆▆▆▇▇▇▇▇▇███\n",
      "\u001b[34m\u001b[1mwandb\u001b[0m:           re ██▇▇▇▆▆▆▅▅▅▅▄▄▄▄▃▃▃▃▃▃▃▂▂▂▂▂▂▂▂▂▁▁▁▁▁▁▁▁\n",
      "\u001b[34m\u001b[1mwandb\u001b[0m:       re_ood ▁▁▂▂▃▃▃▃▄▄▄▄▅▅▅▅▆▆▆▆▆▆▇▇▇▇▇▇▇▇▇▇████████\n",
      "\u001b[34m\u001b[1mwandb\u001b[0m: \n",
      "\u001b[34m\u001b[1mwandb\u001b[0m: Run summary:\n",
      "\u001b[34m\u001b[1mwandb\u001b[0m:     cka_loss 48.99811\n",
      "\u001b[34m\u001b[1mwandb\u001b[0m: cka_loss_ood 61.2984\n",
      "\u001b[34m\u001b[1mwandb\u001b[0m:     cmd_loss -18.16711\n",
      "\u001b[34m\u001b[1mwandb\u001b[0m: cmd_loss_ood -7.93908\n",
      "\u001b[34m\u001b[1mwandb\u001b[0m:        epoch 99\n",
      "\u001b[34m\u001b[1mwandb\u001b[0m:           re 0.05778\n",
      "\u001b[34m\u001b[1mwandb\u001b[0m:       re_ood 0.38555\n",
      "\u001b[34m\u001b[1mwandb\u001b[0m: \n",
      "\u001b[34m\u001b[1mwandb\u001b[0m: 🚀 View run \u001b[33mprime-silence-7\u001b[0m at: \u001b[34m\u001b[4mhttps://wandb.ai/cmd_cka/capstone-project-cka/runs/12uqzvq3\u001b[0m\n",
      "\u001b[34m\u001b[1mwandb\u001b[0m: Synced 5 W&B file(s), 0 media file(s), 0 artifact file(s) and 0 other file(s)\n",
      "\u001b[34m\u001b[1mwandb\u001b[0m: Find logs at: \u001b[35m\u001b[1m./wandb/run-20231206_224646-12uqzvq3/logs\u001b[0m\n"
     ]
    },
    {
     "name": "stdout",
     "output_type": "stream",
     "text": [
      "Final Printed Results\n",
      "------------------------\n",
      "l\n",
      "[49.00478452317258, 48.960915464036006, 49.04157829284668, 49.01249191608835, 48.91729849957405, 48.9667905848077, 49.01562029250125, 49.01973428117468, 48.98950199370689, 49.00286901758072, 49.01515936344228, 49.046363059510576, 49.04386378349142, 48.98859949314848, 49.03240914040423, 48.957968853889625, 49.00458242538127, 48.99142184156052, 48.99232369280876, 48.953030647115504, 48.990956813731096, 48.99574360948928, 48.92763580159938, 48.988736213521754, 49.034618418267435, 48.98123992757594, 48.986428970986225, 48.98995955446933, 48.96865288754727, 48.96377932771723, 49.02170790002701, 48.98996547942466, 49.008225867088804, 48.99536871402822, 48.91382136243455, 49.01766513256317, 48.92687265923683, 48.99698188457083, 48.97051928905731, 49.00004208341558, 48.95922798806048, 48.964834619075695, 49.00764988838358, 49.02876951339397, 49.00294133450122, 49.01443181139358, 49.00024616971929, 49.02060001454455, 49.013897266793755, 48.98370280164353, 49.062428981699846, 48.95901197068235, 48.96722079337911, 48.975425639051075, 48.97577220835584, 48.98107260846077, 48.9757460330395, 48.955277950205705, 49.02036833255849, 48.97253982056963, 48.949210024894555, 49.04860451880922, 48.9764655904567, 48.98019226561201, 48.946610673945, 48.978511769720846, 48.99196409671865, 48.97990336316697, 48.96701240539551, 48.998008322208484, 49.01808207085792, 48.95662867769282, 48.944492908234295, 48.95825475327512, 48.968214278525494, 48.99333308605438, 48.94243280938331, 48.97624559605375, 48.94490802034419, 49.01737432276949, 48.97056798732027, 49.005318012643365, 48.98125770244192, 48.98314597758841, 48.979042134386425, 48.983064367416056, 48.95213703399009, 48.99006458038979, 48.94262212388059, 49.010103712690636, 49.01797237802059, 48.9972852747491, 48.99325419486837, 48.98727067987969, 48.95593095333018, 48.97772492753698, 48.99307522875198, 48.94591554682305, 48.99811273940066]\n",
      "l_ood\n",
      "[61.29475301377317, 61.939924930004366, 61.95874981170005, 61.857067513973156, 61.60264335794652, 61.801325493670525, 61.74272366787525, 61.82298274750405, 61.77511280140978, 61.7778008643617, 61.489132292727206, 61.83881617606954, 61.493735090215154, 61.663725548602166, 61.8131895268217, 61.53065791028611, 61.50444241787525, 61.67287932050989, 61.61618597964023, 61.72790247328738, 61.61930932389929, 61.69333924638464, 61.733797195109915, 61.93268715067113, 61.33470105110331, 61.89192183474277, 61.60034755950279, 62.066034154689056, 61.68202737037172, 62.01158734585376, 61.410500424973506, 61.4685633233253, 61.69546784745886, 61.398796203288626, 61.882673669368664, 61.74081291036403, 61.870133988400724, 62.221117263144635, 61.945503397190826, 61.907088868161466, 61.628940825766705, 61.77680234706148, 61.93240360503501, 61.711397373929934, 61.09744189647918, 61.71854140910696, 61.810106845612225, 61.70750175638402, 61.39696218612346, 61.15459243287432, 61.69412937570125, 61.41893127116751, 61.15608588685381, 61.39968648869941, 61.69454866774539, 61.613808165205285, 61.32192615752525, 61.68291871091153, 61.638854777559324, 61.52716567668509, 61.571881030468234, 61.436420197182514, 61.82218153933261, 61.84208078587309, 61.10953071269583, 61.77072938959649, 62.0461039847516, 61.88329234021775, 61.95702556853599, 61.69229426282517, 61.71126004482837, 61.69485944382688, 61.74177186032559, 61.92579285641934, 61.80481926938321, 61.97750444615141, 61.90405038062563, 61.272640228271484, 61.823701533865425, 61.45753986277479, 61.611466671558134, 61.507864810050805, 61.541711117358915, 61.75588193852851, 62.004069308017165, 61.439580268048225, 61.76572207187085, 61.69199566130943, 61.34131216495595, 61.75698138297872, 61.43472902825538, 61.80307075825144, 61.57124669501122, 61.57446216015106, 61.80043922586644, 61.24651701906894, 61.88175140543187, 61.39475489677267, 61.29840018901419]\n",
      "re\n",
      "0.05778009370851682\n",
      "re_ood\n",
      "0.3855549814833292\n"
     ]
    }
   ],
   "source": [
    "model_init = VGG_split().to(device)\n",
    "optimizer = optim.Adadelta(model_init.parameters(), lr=learningRate)\n",
    "scheduler = optim.lr_scheduler.StepLR(optimizer, step_size=10, gamma=0.9)\n",
    "loss = []\n",
    "loss_ood = []\n",
    "RE = []\n",
    "RE_ood = []\n",
    "history_epoch = []\n",
    "time_batch = 0\n",
    "best_re = 1e6\n",
    "for epoch in range(1, 100):\n",
    "    print(f'Epoch: {epoch}')\n",
    "    start_time = time.time()\n",
    "    history = train(model_init, device, train_loader, optimizer, epoch, 1, 1)\n",
    "    assert len(history) == len(train_loader), \"Nan with batch {}\".format(len(history))  \n",
    "    cmd_l, cka_l, rel_error = test(model_init, device, test_loader, epoch, 'ID')\n",
    "    cmd_l_ood, cka_l_ood, rel_error_ood = test(model_init, device, test_loader_ood, epoch, 'OOD')\n",
    "    loss.append(cka_l)\n",
    "    RE.append(rel_error[0])\n",
    "    loss_ood.append(cka_l_ood)\n",
    "    RE_ood.append(rel_error_ood[0])\n",
    "    scheduler.step()\n",
    "    history_epoch.append(history)\n",
    "    time_batch += time.time()-start_time\n",
    "    wandb.log({\"epoch\": epoch, \"re\":rel_error[0], \"cka_loss\": cka_l, \"re_ood\": rel_error_ood[0], \"cka_loss_ood\": cka_l_ood, \"cmd_loss\": cmd_l, \"cmd_loss_ood\":cmd_l_ood})\n",
    "    if rel_error[0] < best_re:\n",
    "        best_re = rel_error[0]\n",
    "        torch.save(model_init.state_dict(), f\"best_model_selected_layers_{selected_layers}.pth\")\n",
    "print(time_batch/3)\n",
    "wandb.finish()\n",
    "print('Final Printed Results')\n",
    "print('------------------------')\n",
    "print('l')\n",
    "print(loss)\n",
    "print('l_ood')\n",
    "print(loss_ood)\n",
    "print('re')\n",
    "print(rel_error[0])\n",
    "print('re_ood')\n",
    "print(rel_error_ood[0])\n",
    "\n",
    "def plot_loss_trend(storedList, testDataLabel, yAxisLabel):\n",
    "    epochs = list(range(1, len(storedList) + 1))  # Assuming epochs start from 1\n",
    "    plt.plot(epochs, storedList, label=f'{yAxisLabel} per Epoch')\n",
    "    plt.xlabel('Epoch')\n",
    "    plt.ylabel(f'{yAxisLabel}')\n",
    "    plt.title('Loss Trend over Epochs')\n",
    "    plt.legend()\n",
    "    plt.show()\n",
    "    plt.clf()"
   ]
  },
  {
   "cell_type": "markdown",
   "metadata": {},
   "source": [
    "## Test"
   ]
  },
  {
   "cell_type": "code",
   "execution_count": 8,
   "metadata": {},
   "outputs": [
    {
     "name": "stdout",
     "output_type": "stream",
     "text": [
      "750\n",
      "Found 1 channels\n",
      "Reading data...\n",
      "1.502e+03 < F(all|orig) < 8.669e+07\n",
      "3.177 < F(all|resc)  < 7.938\n",
      "-1.282 < F(all|norm) < 4.550\n"
     ]
    }
   ],
   "source": [
    "# load test set\n",
    "fmaps = ['maps_T_TNG.npy']\n",
    "fparams = '2D_maps/data/params_LH_IllustrisTNG.txt'\n",
    "test_loader  = create_dataset_multifield('test', seed, fmaps, fparams, batch_size, splits, fmaps_norm,\n",
    "                                         rot_flip_in_mem=False, verbose=True)"
   ]
  },
  {
   "cell_type": "code",
   "execution_count": 13,
   "metadata": {},
   "outputs": [
    {
     "name": "stdout",
     "output_type": "stream",
     "text": [
      "750\n",
      "Found 1 channels\n",
      "Reading data...\n",
      "2.215e+02 < F(all|orig) < 2.772e+11\n",
      "2.345 < F(all|resc)  < 11.443\n",
      "-2.301 < F(all|norm) < 8.844\n"
     ]
    }
   ],
   "source": [
    "# load test set\n",
    "fmaps = ['maps_T_SIMBA.npy']\n",
    "fparams = '2D_maps/data/params_LH_SIMBA.txt'\n",
    "test_loader  = create_dataset_multifield('test', seed, fmaps, fparams, batch_size, splits, fmaps_norm,\n",
    "                                         rot_flip_in_mem=False, verbose=True)"
   ]
  },
  {
   "cell_type": "code",
   "execution_count": 18,
   "metadata": {},
   "outputs": [
    {
     "name": "stdout",
     "output_type": "stream",
     "text": [
      "Weights loaded\n"
     ]
    }
   ],
   "source": [
    "fmodel = 'dann/checkpoints/best_model_2.pth'\n",
    "fmodel = 'dann/checkpoints/best_model_vgg_0.1_11.pth'\n",
    "fmodel = 'dann/checkpoints/best_model_vgg_2_0.001_13.pth'\n",
    "fmodel = 'dann/checkpoints/best_model_vgg_1_0.8_norm.pth'\n",
    "# fmodel = 'dann/checkpoints/best_model_vgg_2_0.1_norm.pth'\n",
    "fmodel = 'dann/checkpoints/best_model.pth'\n",
    "# fmodel = 'dann/checkpoints/best_model_vgg_1_0.01_norm.pth'\n",
    "\n",
    "\n",
    "if os.path.exists(fmodel):\n",
    "    checkpoint = torch.load(fmodel, map_location=torch.device(device))\n",
    "    new_state_dict = {k.replace('module.', ''): v for k, v in checkpoint.items()}\n",
    "    regressor.load_state_dict(new_state_dict)\n",
    "    \n",
    "    # model.load_state_dict(torch.load(fmodel, map_location=torch.device(device)))\n",
    "    print('Weights loaded')"
   ]
  },
  {
   "cell_type": "code",
   "execution_count": 20,
   "metadata": {},
   "outputs": [
    {
     "name": "stdout",
     "output_type": "stream",
     "text": [
      "\n",
      "Number of maps in the test set: 750\n"
     ]
    },
    {
     "name": "stderr",
     "output_type": "stream",
     "text": [
      "  0%|          | 0/100 [00:00<?, ?it/s]"
     ]
    },
    {
     "name": "stderr",
     "output_type": "stream",
     "text": [
      "  1%|          | 1/100 [00:00<01:30,  1.09it/s]"
     ]
    },
    {
     "name": "stdout",
     "output_type": "stream",
     "text": [
      "Test loss = -2.795e+00\n",
      "\n",
      "Normalized Error Omega_m = 0.247\n",
      "Error Omega_m = 0.099\n",
      "Bayesian error Omega_m = 0.000\n",
      "Relative error Omega_m = 0.481\n",
      "R^2: 0.33879434062723557\n"
     ]
    },
    {
     "name": "stderr",
     "output_type": "stream",
     "text": [
      "  2%|▏         | 2/100 [00:01<01:29,  1.10it/s]"
     ]
    },
    {
     "name": "stdout",
     "output_type": "stream",
     "text": [
      "Test loss = -2.796e+00\n",
      "\n",
      "Normalized Error Omega_m = 0.247\n",
      "Error Omega_m = 0.099\n",
      "Bayesian error Omega_m = 0.000\n",
      "Relative error Omega_m = 0.478\n",
      "R^2: 0.34814531986981334\n"
     ]
    },
    {
     "name": "stderr",
     "output_type": "stream",
     "text": [
      "  3%|▎         | 3/100 [00:02<01:28,  1.10it/s]"
     ]
    },
    {
     "name": "stdout",
     "output_type": "stream",
     "text": [
      "Test loss = -2.786e+00\n",
      "\n",
      "Normalized Error Omega_m = 0.248\n",
      "Error Omega_m = 0.099\n",
      "Bayesian error Omega_m = 0.000\n",
      "Relative error Omega_m = 0.480\n",
      "R^2: 0.3296375018779881\n"
     ]
    },
    {
     "name": "stderr",
     "output_type": "stream",
     "text": [
      "  4%|▍         | 4/100 [00:03<01:27,  1.10it/s]"
     ]
    },
    {
     "name": "stdout",
     "output_type": "stream",
     "text": [
      "Test loss = -2.783e+00\n",
      "\n",
      "Normalized Error Omega_m = 0.249\n",
      "Error Omega_m = 0.099\n",
      "Bayesian error Omega_m = 0.000\n",
      "Relative error Omega_m = 0.481\n",
      "R^2: 0.1427903896114191\n"
     ]
    },
    {
     "name": "stderr",
     "output_type": "stream",
     "text": [
      "  5%|▌         | 5/100 [00:04<01:26,  1.10it/s]"
     ]
    },
    {
     "name": "stdout",
     "output_type": "stream",
     "text": [
      "Test loss = -2.791e+00\n",
      "\n",
      "Normalized Error Omega_m = 0.248\n",
      "Error Omega_m = 0.099\n",
      "Bayesian error Omega_m = 0.000\n",
      "Relative error Omega_m = 0.480\n",
      "R^2: 0.2622175279335037\n"
     ]
    },
    {
     "name": "stderr",
     "output_type": "stream",
     "text": [
      "  6%|▌         | 6/100 [00:05<01:25,  1.10it/s]"
     ]
    },
    {
     "name": "stdout",
     "output_type": "stream",
     "text": [
      "Test loss = -2.792e+00\n",
      "\n",
      "Normalized Error Omega_m = 0.248\n",
      "Error Omega_m = 0.099\n",
      "Bayesian error Omega_m = 0.000\n",
      "Relative error Omega_m = 0.480\n",
      "R^2: 0.24642735512506975\n"
     ]
    },
    {
     "name": "stderr",
     "output_type": "stream",
     "text": [
      "  7%|▋         | 7/100 [00:06<01:24,  1.10it/s]"
     ]
    },
    {
     "name": "stdout",
     "output_type": "stream",
     "text": [
      "Test loss = -2.784e+00\n",
      "\n",
      "Normalized Error Omega_m = 0.249\n",
      "Error Omega_m = 0.099\n",
      "Bayesian error Omega_m = 0.000\n",
      "Relative error Omega_m = 0.483\n",
      "R^2: -0.22664474655450628\n"
     ]
    },
    {
     "name": "stderr",
     "output_type": "stream",
     "text": [
      "  8%|▊         | 8/100 [00:07<01:23,  1.10it/s]"
     ]
    },
    {
     "name": "stdout",
     "output_type": "stream",
     "text": [
      "Test loss = -2.790e+00\n",
      "\n",
      "Normalized Error Omega_m = 0.248\n",
      "Error Omega_m = 0.099\n",
      "Bayesian error Omega_m = 0.000\n",
      "Relative error Omega_m = 0.481\n",
      "R^2: 0.2995270652675319\n"
     ]
    },
    {
     "name": "stderr",
     "output_type": "stream",
     "text": [
      "  9%|▉         | 9/100 [00:08<01:23,  1.10it/s]"
     ]
    },
    {
     "name": "stdout",
     "output_type": "stream",
     "text": [
      "Test loss = -2.792e+00\n",
      "\n",
      "Normalized Error Omega_m = 0.248\n",
      "Error Omega_m = 0.099\n",
      "Bayesian error Omega_m = 0.000\n",
      "Relative error Omega_m = 0.481\n",
      "R^2: 0.21497077880989746\n"
     ]
    },
    {
     "name": "stderr",
     "output_type": "stream",
     "text": [
      " 10%|█         | 10/100 [00:09<01:22,  1.10it/s]"
     ]
    },
    {
     "name": "stdout",
     "output_type": "stream",
     "text": [
      "Test loss = -2.794e+00\n",
      "\n",
      "Normalized Error Omega_m = 0.247\n",
      "Error Omega_m = 0.099\n",
      "Bayesian error Omega_m = 0.000\n",
      "Relative error Omega_m = 0.481\n",
      "R^2: 0.024759011818332288\n"
     ]
    },
    {
     "name": "stderr",
     "output_type": "stream",
     "text": [
      " 11%|█         | 11/100 [00:10<01:21,  1.09it/s]"
     ]
    },
    {
     "name": "stdout",
     "output_type": "stream",
     "text": [
      "Test loss = -2.786e+00\n",
      "\n",
      "Normalized Error Omega_m = 0.248\n",
      "Error Omega_m = 0.099\n",
      "Bayesian error Omega_m = 0.000\n",
      "Relative error Omega_m = 0.482\n",
      "R^2: 0.05629576274307868\n"
     ]
    },
    {
     "name": "stderr",
     "output_type": "stream",
     "text": [
      " 12%|█▏        | 12/100 [00:10<01:20,  1.09it/s]"
     ]
    },
    {
     "name": "stdout",
     "output_type": "stream",
     "text": [
      "Test loss = -2.793e+00\n",
      "\n",
      "Normalized Error Omega_m = 0.247\n",
      "Error Omega_m = 0.099\n",
      "Bayesian error Omega_m = 0.000\n",
      "Relative error Omega_m = 0.479\n",
      "R^2: -0.0234733135879317\n"
     ]
    },
    {
     "name": "stderr",
     "output_type": "stream",
     "text": [
      " 13%|█▎        | 13/100 [00:11<01:19,  1.09it/s]"
     ]
    },
    {
     "name": "stdout",
     "output_type": "stream",
     "text": [
      "Test loss = -2.791e+00\n",
      "\n",
      "Normalized Error Omega_m = 0.248\n",
      "Error Omega_m = 0.099\n",
      "Bayesian error Omega_m = 0.000\n",
      "Relative error Omega_m = 0.480\n",
      "R^2: -0.10183328996999386\n"
     ]
    },
    {
     "name": "stderr",
     "output_type": "stream",
     "text": [
      " 14%|█▍        | 14/100 [00:12<01:18,  1.09it/s]"
     ]
    },
    {
     "name": "stdout",
     "output_type": "stream",
     "text": [
      "Test loss = -2.797e+00\n",
      "\n",
      "Normalized Error Omega_m = 0.247\n",
      "Error Omega_m = 0.099\n",
      "Bayesian error Omega_m = 0.000\n",
      "Relative error Omega_m = 0.478\n",
      "R^2: 0.34798512170248697\n"
     ]
    },
    {
     "name": "stderr",
     "output_type": "stream",
     "text": [
      " 15%|█▌        | 15/100 [00:13<01:17,  1.09it/s]"
     ]
    },
    {
     "name": "stdout",
     "output_type": "stream",
     "text": [
      "Test loss = -2.788e+00\n",
      "\n",
      "Normalized Error Omega_m = 0.248\n",
      "Error Omega_m = 0.099\n",
      "Bayesian error Omega_m = 0.000\n",
      "Relative error Omega_m = 0.481\n",
      "R^2: -0.17044618312630333\n"
     ]
    },
    {
     "name": "stderr",
     "output_type": "stream",
     "text": [
      " 16%|█▌        | 16/100 [00:14<01:16,  1.09it/s]"
     ]
    },
    {
     "name": "stdout",
     "output_type": "stream",
     "text": [
      "Test loss = -2.781e+00\n",
      "\n",
      "Normalized Error Omega_m = 0.249\n",
      "Error Omega_m = 0.100\n",
      "Bayesian error Omega_m = 0.000\n",
      "Relative error Omega_m = 0.482\n",
      "R^2: 0.1453308211255656\n"
     ]
    },
    {
     "name": "stderr",
     "output_type": "stream",
     "text": [
      " 17%|█▋        | 17/100 [00:15<01:15,  1.09it/s]"
     ]
    },
    {
     "name": "stdout",
     "output_type": "stream",
     "text": [
      "Test loss = -2.784e+00\n",
      "\n",
      "Normalized Error Omega_m = 0.249\n",
      "Error Omega_m = 0.099\n",
      "Bayesian error Omega_m = 0.000\n",
      "Relative error Omega_m = 0.482\n",
      "R^2: 0.25308580305963535\n"
     ]
    },
    {
     "name": "stderr",
     "output_type": "stream",
     "text": [
      " 18%|█▊        | 18/100 [00:16<01:15,  1.09it/s]"
     ]
    },
    {
     "name": "stdout",
     "output_type": "stream",
     "text": [
      "Test loss = -2.795e+00\n",
      "\n",
      "Normalized Error Omega_m = 0.247\n",
      "Error Omega_m = 0.099\n",
      "Bayesian error Omega_m = 0.000\n",
      "Relative error Omega_m = 0.479\n",
      "R^2: 0.24392976275047706\n"
     ]
    },
    {
     "name": "stderr",
     "output_type": "stream",
     "text": [
      " 19%|█▉        | 19/100 [00:17<01:14,  1.09it/s]"
     ]
    },
    {
     "name": "stdout",
     "output_type": "stream",
     "text": [
      "Test loss = -2.779e+00\n",
      "\n",
      "Normalized Error Omega_m = 0.249\n",
      "Error Omega_m = 0.100\n",
      "Bayesian error Omega_m = 0.000\n",
      "Relative error Omega_m = 0.483\n",
      "R^2: 0.43982386858431133\n"
     ]
    },
    {
     "name": "stderr",
     "output_type": "stream",
     "text": [
      " 20%|██        | 20/100 [00:18<01:13,  1.09it/s]"
     ]
    },
    {
     "name": "stdout",
     "output_type": "stream",
     "text": [
      "Test loss = -2.786e+00\n",
      "\n",
      "Normalized Error Omega_m = 0.248\n",
      "Error Omega_m = 0.099\n",
      "Bayesian error Omega_m = 0.000\n",
      "Relative error Omega_m = 0.481\n",
      "R^2: 0.11860726631594887\n"
     ]
    },
    {
     "name": "stderr",
     "output_type": "stream",
     "text": [
      " 21%|██        | 21/100 [00:19<01:12,  1.09it/s]"
     ]
    },
    {
     "name": "stdout",
     "output_type": "stream",
     "text": [
      "Test loss = -2.780e+00\n",
      "\n",
      "Normalized Error Omega_m = 0.249\n",
      "Error Omega_m = 0.100\n",
      "Bayesian error Omega_m = 0.000\n",
      "Relative error Omega_m = 0.483\n",
      "R^2: 0.289973268727752\n"
     ]
    },
    {
     "name": "stderr",
     "output_type": "stream",
     "text": [
      " 22%|██▏       | 22/100 [00:20<01:11,  1.09it/s]"
     ]
    },
    {
     "name": "stdout",
     "output_type": "stream",
     "text": [
      "Test loss = -2.789e+00\n",
      "\n",
      "Normalized Error Omega_m = 0.248\n",
      "Error Omega_m = 0.099\n",
      "Bayesian error Omega_m = 0.000\n",
      "Relative error Omega_m = 0.481\n",
      "R^2: 0.24272470149627134\n"
     ]
    },
    {
     "name": "stderr",
     "output_type": "stream",
     "text": [
      " 23%|██▎       | 23/100 [00:21<01:10,  1.09it/s]"
     ]
    },
    {
     "name": "stdout",
     "output_type": "stream",
     "text": [
      "Test loss = -2.797e+00\n",
      "\n",
      "Normalized Error Omega_m = 0.247\n",
      "Error Omega_m = 0.099\n",
      "Bayesian error Omega_m = 0.000\n",
      "Relative error Omega_m = 0.480\n",
      "R^2: 0.12332983615059634\n"
     ]
    },
    {
     "name": "stderr",
     "output_type": "stream",
     "text": [
      " 24%|██▍       | 24/100 [00:21<01:09,  1.09it/s]"
     ]
    },
    {
     "name": "stdout",
     "output_type": "stream",
     "text": [
      "Test loss = -2.775e+00\n",
      "\n",
      "Normalized Error Omega_m = 0.250\n",
      "Error Omega_m = 0.100\n",
      "Bayesian error Omega_m = 0.000\n",
      "Relative error Omega_m = 0.487\n",
      "R^2: 0.05393948843137042\n"
     ]
    },
    {
     "name": "stderr",
     "output_type": "stream",
     "text": [
      " 25%|██▌       | 25/100 [00:22<01:08,  1.09it/s]"
     ]
    },
    {
     "name": "stdout",
     "output_type": "stream",
     "text": [
      "Test loss = -2.786e+00\n",
      "\n",
      "Normalized Error Omega_m = 0.248\n",
      "Error Omega_m = 0.099\n",
      "Bayesian error Omega_m = 0.000\n",
      "Relative error Omega_m = 0.482\n",
      "R^2: 0.1186052413412787\n"
     ]
    },
    {
     "name": "stderr",
     "output_type": "stream",
     "text": [
      " 26%|██▌       | 26/100 [00:23<01:07,  1.09it/s]"
     ]
    },
    {
     "name": "stdout",
     "output_type": "stream",
     "text": [
      "Test loss = -2.787e+00\n",
      "\n",
      "Normalized Error Omega_m = 0.248\n",
      "Error Omega_m = 0.099\n",
      "Bayesian error Omega_m = 0.000\n",
      "Relative error Omega_m = 0.482\n",
      "R^2: -0.15089583172385912\n"
     ]
    },
    {
     "name": "stderr",
     "output_type": "stream",
     "text": [
      " 27%|██▋       | 27/100 [00:24<01:06,  1.09it/s]"
     ]
    },
    {
     "name": "stdout",
     "output_type": "stream",
     "text": [
      "Test loss = -2.792e+00\n",
      "\n",
      "Normalized Error Omega_m = 0.248\n",
      "Error Omega_m = 0.099\n",
      "Bayesian error Omega_m = 0.000\n",
      "Relative error Omega_m = 0.480\n",
      "R^2: 0.029594075990059365\n"
     ]
    },
    {
     "name": "stderr",
     "output_type": "stream",
     "text": [
      " 28%|██▊       | 28/100 [00:25<01:05,  1.09it/s]"
     ]
    },
    {
     "name": "stdout",
     "output_type": "stream",
     "text": [
      "Test loss = -2.791e+00\n",
      "\n",
      "Normalized Error Omega_m = 0.248\n",
      "Error Omega_m = 0.099\n",
      "Bayesian error Omega_m = 0.000\n",
      "Relative error Omega_m = 0.481\n",
      "R^2: 0.18644868108059198\n"
     ]
    },
    {
     "name": "stderr",
     "output_type": "stream",
     "text": [
      " 29%|██▉       | 29/100 [00:26<01:05,  1.09it/s]"
     ]
    },
    {
     "name": "stdout",
     "output_type": "stream",
     "text": [
      "Test loss = -2.785e+00\n",
      "\n",
      "Normalized Error Omega_m = 0.248\n",
      "Error Omega_m = 0.099\n",
      "Bayesian error Omega_m = 0.000\n",
      "Relative error Omega_m = 0.481\n",
      "R^2: -0.07467230613753961\n"
     ]
    },
    {
     "name": "stderr",
     "output_type": "stream",
     "text": [
      " 30%|███       | 30/100 [00:27<01:04,  1.09it/s]"
     ]
    },
    {
     "name": "stdout",
     "output_type": "stream",
     "text": [
      "Test loss = -2.792e+00\n",
      "\n",
      "Normalized Error Omega_m = 0.248\n",
      "Error Omega_m = 0.099\n",
      "Bayesian error Omega_m = 0.000\n",
      "Relative error Omega_m = 0.481\n",
      "R^2: -0.029639949650632547\n"
     ]
    },
    {
     "name": "stderr",
     "output_type": "stream",
     "text": [
      " 31%|███       | 31/100 [00:28<01:03,  1.09it/s]"
     ]
    },
    {
     "name": "stdout",
     "output_type": "stream",
     "text": [
      "Test loss = -2.791e+00\n",
      "\n",
      "Normalized Error Omega_m = 0.248\n",
      "Error Omega_m = 0.099\n",
      "Bayesian error Omega_m = 0.000\n",
      "Relative error Omega_m = 0.481\n",
      "R^2: -0.038211607956824434\n"
     ]
    },
    {
     "name": "stderr",
     "output_type": "stream",
     "text": [
      " 32%|███▏      | 32/100 [00:29<01:02,  1.09it/s]"
     ]
    },
    {
     "name": "stdout",
     "output_type": "stream",
     "text": [
      "Test loss = -2.800e+00\n",
      "\n",
      "Normalized Error Omega_m = 0.247\n",
      "Error Omega_m = 0.099\n",
      "Bayesian error Omega_m = 0.000\n",
      "Relative error Omega_m = 0.480\n",
      "R^2: -0.002264241250056198\n"
     ]
    },
    {
     "name": "stderr",
     "output_type": "stream",
     "text": [
      " 33%|███▎      | 33/100 [00:30<01:01,  1.09it/s]"
     ]
    },
    {
     "name": "stdout",
     "output_type": "stream",
     "text": [
      "Test loss = -2.786e+00\n",
      "\n",
      "Normalized Error Omega_m = 0.248\n",
      "Error Omega_m = 0.099\n",
      "Bayesian error Omega_m = 0.000\n",
      "Relative error Omega_m = 0.482\n",
      "R^2: 0.39402869462669354\n"
     ]
    },
    {
     "name": "stderr",
     "output_type": "stream",
     "text": [
      " 34%|███▍      | 34/100 [00:31<01:00,  1.09it/s]"
     ]
    },
    {
     "name": "stdout",
     "output_type": "stream",
     "text": [
      "Test loss = -2.789e+00\n",
      "\n",
      "Normalized Error Omega_m = 0.248\n",
      "Error Omega_m = 0.099\n",
      "Bayesian error Omega_m = 0.000\n",
      "Relative error Omega_m = 0.482\n",
      "R^2: 0.4642279753494599\n"
     ]
    },
    {
     "name": "stderr",
     "output_type": "stream",
     "text": [
      " 35%|███▌      | 35/100 [00:32<00:59,  1.09it/s]"
     ]
    },
    {
     "name": "stdout",
     "output_type": "stream",
     "text": [
      "Test loss = -2.789e+00\n",
      "\n",
      "Normalized Error Omega_m = 0.248\n",
      "Error Omega_m = 0.099\n",
      "Bayesian error Omega_m = 0.000\n",
      "Relative error Omega_m = 0.481\n",
      "R^2: 0.49525056250167954\n"
     ]
    },
    {
     "name": "stderr",
     "output_type": "stream",
     "text": [
      " 36%|███▌      | 36/100 [00:32<00:58,  1.09it/s]"
     ]
    },
    {
     "name": "stdout",
     "output_type": "stream",
     "text": [
      "Test loss = -2.783e+00\n",
      "\n",
      "Normalized Error Omega_m = 0.249\n",
      "Error Omega_m = 0.099\n",
      "Bayesian error Omega_m = 0.000\n",
      "Relative error Omega_m = 0.485\n",
      "R^2: 0.13121698771098012\n"
     ]
    },
    {
     "name": "stderr",
     "output_type": "stream",
     "text": [
      " 37%|███▋      | 37/100 [00:33<00:57,  1.09it/s]"
     ]
    },
    {
     "name": "stdout",
     "output_type": "stream",
     "text": [
      "Test loss = -2.788e+00\n",
      "\n",
      "Normalized Error Omega_m = 0.248\n",
      "Error Omega_m = 0.099\n",
      "Bayesian error Omega_m = 0.000\n",
      "Relative error Omega_m = 0.481\n",
      "R^2: 0.0298303653604286\n"
     ]
    },
    {
     "name": "stderr",
     "output_type": "stream",
     "text": [
      " 38%|███▊      | 38/100 [00:34<00:56,  1.09it/s]"
     ]
    },
    {
     "name": "stdout",
     "output_type": "stream",
     "text": [
      "Test loss = -2.800e+00\n",
      "\n",
      "Normalized Error Omega_m = 0.247\n",
      "Error Omega_m = 0.099\n",
      "Bayesian error Omega_m = 0.000\n",
      "Relative error Omega_m = 0.477\n",
      "R^2: -0.015846590775143943\n"
     ]
    },
    {
     "name": "stderr",
     "output_type": "stream",
     "text": [
      " 39%|███▉      | 39/100 [00:35<00:55,  1.09it/s]"
     ]
    },
    {
     "name": "stdout",
     "output_type": "stream",
     "text": [
      "Test loss = -2.786e+00\n",
      "\n",
      "Normalized Error Omega_m = 0.248\n",
      "Error Omega_m = 0.099\n",
      "Bayesian error Omega_m = 0.000\n",
      "Relative error Omega_m = 0.482\n",
      "R^2: 0.09145305601720677\n"
     ]
    },
    {
     "name": "stderr",
     "output_type": "stream",
     "text": [
      " 40%|████      | 40/100 [00:36<00:54,  1.09it/s]"
     ]
    },
    {
     "name": "stdout",
     "output_type": "stream",
     "text": [
      "Test loss = -2.795e+00\n",
      "\n",
      "Normalized Error Omega_m = 0.247\n",
      "Error Omega_m = 0.099\n",
      "Bayesian error Omega_m = 0.000\n",
      "Relative error Omega_m = 0.479\n",
      "R^2: -0.0033831829446988593\n"
     ]
    },
    {
     "name": "stderr",
     "output_type": "stream",
     "text": [
      " 41%|████      | 41/100 [00:37<00:54,  1.09it/s]"
     ]
    },
    {
     "name": "stdout",
     "output_type": "stream",
     "text": [
      "Test loss = -2.787e+00\n",
      "\n",
      "Normalized Error Omega_m = 0.248\n",
      "Error Omega_m = 0.099\n",
      "Bayesian error Omega_m = 0.000\n",
      "Relative error Omega_m = 0.481\n",
      "R^2: 0.2721773507729771\n"
     ]
    },
    {
     "name": "stderr",
     "output_type": "stream",
     "text": [
      " 42%|████▏     | 42/100 [00:38<00:53,  1.09it/s]"
     ]
    },
    {
     "name": "stdout",
     "output_type": "stream",
     "text": [
      "Test loss = -2.791e+00\n",
      "\n",
      "Normalized Error Omega_m = 0.248\n",
      "Error Omega_m = 0.099\n",
      "Bayesian error Omega_m = 0.000\n",
      "Relative error Omega_m = 0.481\n",
      "R^2: 0.3512292026582581\n"
     ]
    },
    {
     "name": "stderr",
     "output_type": "stream",
     "text": [
      " 43%|████▎     | 43/100 [00:39<00:52,  1.09it/s]"
     ]
    },
    {
     "name": "stdout",
     "output_type": "stream",
     "text": [
      "Test loss = -2.797e+00\n",
      "\n",
      "Normalized Error Omega_m = 0.247\n",
      "Error Omega_m = 0.099\n",
      "Bayesian error Omega_m = 0.000\n",
      "Relative error Omega_m = 0.480\n",
      "R^2: 0.26562934976866337\n"
     ]
    },
    {
     "name": "stderr",
     "output_type": "stream",
     "text": [
      " 44%|████▍     | 44/100 [00:40<00:51,  1.09it/s]"
     ]
    },
    {
     "name": "stdout",
     "output_type": "stream",
     "text": [
      "Test loss = -2.784e+00\n",
      "\n",
      "Normalized Error Omega_m = 0.249\n",
      "Error Omega_m = 0.099\n",
      "Bayesian error Omega_m = 0.000\n",
      "Relative error Omega_m = 0.482\n",
      "R^2: 0.15621272159040556\n"
     ]
    },
    {
     "name": "stderr",
     "output_type": "stream",
     "text": [
      " 45%|████▌     | 45/100 [00:41<00:50,  1.09it/s]"
     ]
    },
    {
     "name": "stdout",
     "output_type": "stream",
     "text": [
      "Test loss = -2.790e+00\n",
      "\n",
      "Normalized Error Omega_m = 0.248\n",
      "Error Omega_m = 0.099\n",
      "Bayesian error Omega_m = 0.000\n",
      "Relative error Omega_m = 0.482\n",
      "R^2: 0.1036918009453267\n"
     ]
    },
    {
     "name": "stderr",
     "output_type": "stream",
     "text": [
      " 46%|████▌     | 46/100 [00:42<00:49,  1.09it/s]"
     ]
    },
    {
     "name": "stdout",
     "output_type": "stream",
     "text": [
      "Test loss = -2.789e+00\n",
      "\n",
      "Normalized Error Omega_m = 0.248\n",
      "Error Omega_m = 0.099\n",
      "Bayesian error Omega_m = 0.000\n",
      "Relative error Omega_m = 0.482\n",
      "R^2: -0.42787554143523754\n"
     ]
    },
    {
     "name": "stderr",
     "output_type": "stream",
     "text": [
      " 47%|████▋     | 47/100 [00:42<00:48,  1.09it/s]"
     ]
    },
    {
     "name": "stdout",
     "output_type": "stream",
     "text": [
      "Test loss = -2.793e+00\n",
      "\n",
      "Normalized Error Omega_m = 0.248\n",
      "Error Omega_m = 0.099\n",
      "Bayesian error Omega_m = 0.000\n",
      "Relative error Omega_m = 0.480\n",
      "R^2: 0.1850131235440201\n"
     ]
    },
    {
     "name": "stderr",
     "output_type": "stream",
     "text": [
      " 48%|████▊     | 48/100 [00:43<00:47,  1.09it/s]"
     ]
    },
    {
     "name": "stdout",
     "output_type": "stream",
     "text": [
      "Test loss = -2.790e+00\n",
      "\n",
      "Normalized Error Omega_m = 0.248\n",
      "Error Omega_m = 0.099\n",
      "Bayesian error Omega_m = 0.000\n",
      "Relative error Omega_m = 0.479\n",
      "R^2: 0.34176748741060925\n"
     ]
    },
    {
     "name": "stderr",
     "output_type": "stream",
     "text": [
      " 49%|████▉     | 49/100 [00:44<00:46,  1.09it/s]"
     ]
    },
    {
     "name": "stdout",
     "output_type": "stream",
     "text": [
      "Test loss = -2.787e+00\n",
      "\n",
      "Normalized Error Omega_m = 0.248\n",
      "Error Omega_m = 0.099\n",
      "Bayesian error Omega_m = 0.000\n",
      "Relative error Omega_m = 0.481\n",
      "R^2: -0.020083295930740874\n"
     ]
    },
    {
     "name": "stderr",
     "output_type": "stream",
     "text": [
      " 50%|█████     | 50/100 [00:45<00:45,  1.09it/s]"
     ]
    },
    {
     "name": "stdout",
     "output_type": "stream",
     "text": [
      "Test loss = -2.784e+00\n",
      "\n",
      "Normalized Error Omega_m = 0.249\n",
      "Error Omega_m = 0.099\n",
      "Bayesian error Omega_m = 0.000\n",
      "Relative error Omega_m = 0.482\n",
      "R^2: 0.12575432789783147\n"
     ]
    },
    {
     "name": "stderr",
     "output_type": "stream",
     "text": [
      " 51%|█████     | 51/100 [00:46<00:44,  1.09it/s]"
     ]
    },
    {
     "name": "stdout",
     "output_type": "stream",
     "text": [
      "Test loss = -2.786e+00\n",
      "\n",
      "Normalized Error Omega_m = 0.248\n",
      "Error Omega_m = 0.099\n",
      "Bayesian error Omega_m = 0.000\n",
      "Relative error Omega_m = 0.481\n",
      "R^2: 0.15886835721553083\n"
     ]
    },
    {
     "name": "stderr",
     "output_type": "stream",
     "text": [
      " 52%|█████▏    | 52/100 [00:47<00:43,  1.09it/s]"
     ]
    },
    {
     "name": "stdout",
     "output_type": "stream",
     "text": [
      "Test loss = -2.792e+00\n",
      "\n",
      "Normalized Error Omega_m = 0.248\n",
      "Error Omega_m = 0.099\n",
      "Bayesian error Omega_m = 0.000\n",
      "Relative error Omega_m = 0.479\n",
      "R^2: 0.09320642139567503\n"
     ]
    },
    {
     "name": "stderr",
     "output_type": "stream",
     "text": [
      " 53%|█████▎    | 53/100 [00:48<00:43,  1.09it/s]"
     ]
    },
    {
     "name": "stdout",
     "output_type": "stream",
     "text": [
      "Test loss = -2.776e+00\n",
      "\n",
      "Normalized Error Omega_m = 0.250\n",
      "Error Omega_m = 0.100\n",
      "Bayesian error Omega_m = 0.000\n",
      "Relative error Omega_m = 0.484\n",
      "R^2: 0.10530582056528026\n"
     ]
    },
    {
     "name": "stderr",
     "output_type": "stream",
     "text": [
      " 54%|█████▍    | 54/100 [00:49<00:42,  1.09it/s]"
     ]
    },
    {
     "name": "stdout",
     "output_type": "stream",
     "text": [
      "Test loss = -2.786e+00\n",
      "\n",
      "Normalized Error Omega_m = 0.248\n",
      "Error Omega_m = 0.099\n",
      "Bayesian error Omega_m = 0.000\n",
      "Relative error Omega_m = 0.483\n",
      "R^2: 0.08413783127563834\n"
     ]
    },
    {
     "name": "stderr",
     "output_type": "stream",
     "text": [
      " 55%|█████▌    | 55/100 [00:50<00:41,  1.09it/s]"
     ]
    },
    {
     "name": "stdout",
     "output_type": "stream",
     "text": [
      "Test loss = -2.792e+00\n",
      "\n",
      "Normalized Error Omega_m = 0.248\n",
      "Error Omega_m = 0.099\n",
      "Bayesian error Omega_m = 0.000\n",
      "Relative error Omega_m = 0.481\n",
      "R^2: 0.24414876904683458\n"
     ]
    },
    {
     "name": "stderr",
     "output_type": "stream",
     "text": [
      " 56%|█████▌    | 56/100 [00:51<00:40,  1.09it/s]"
     ]
    },
    {
     "name": "stdout",
     "output_type": "stream",
     "text": [
      "Test loss = -2.785e+00\n",
      "\n",
      "Normalized Error Omega_m = 0.248\n",
      "Error Omega_m = 0.099\n",
      "Bayesian error Omega_m = 0.000\n",
      "Relative error Omega_m = 0.481\n",
      "R^2: 0.34826411492787646\n"
     ]
    },
    {
     "name": "stderr",
     "output_type": "stream",
     "text": [
      " 57%|█████▋    | 57/100 [00:52<00:39,  1.09it/s]"
     ]
    },
    {
     "name": "stdout",
     "output_type": "stream",
     "text": [
      "Test loss = -2.790e+00\n",
      "\n",
      "Normalized Error Omega_m = 0.248\n",
      "Error Omega_m = 0.099\n",
      "Bayesian error Omega_m = 0.000\n",
      "Relative error Omega_m = 0.481\n",
      "R^2: 0.246426194746036\n"
     ]
    },
    {
     "name": "stderr",
     "output_type": "stream",
     "text": [
      " 58%|█████▊    | 58/100 [00:53<00:38,  1.09it/s]"
     ]
    },
    {
     "name": "stdout",
     "output_type": "stream",
     "text": [
      "Test loss = -2.782e+00\n",
      "\n",
      "Normalized Error Omega_m = 0.249\n",
      "Error Omega_m = 0.100\n",
      "Bayesian error Omega_m = 0.000\n",
      "Relative error Omega_m = 0.483\n",
      "R^2: 0.22044288410153468\n"
     ]
    },
    {
     "name": "stderr",
     "output_type": "stream",
     "text": [
      " 59%|█████▉    | 59/100 [00:53<00:37,  1.09it/s]"
     ]
    },
    {
     "name": "stdout",
     "output_type": "stream",
     "text": [
      "Test loss = -2.783e+00\n",
      "\n",
      "Normalized Error Omega_m = 0.249\n",
      "Error Omega_m = 0.099\n",
      "Bayesian error Omega_m = 0.000\n",
      "Relative error Omega_m = 0.483\n",
      "R^2: 0.3455349829325832\n"
     ]
    },
    {
     "name": "stderr",
     "output_type": "stream",
     "text": [
      " 60%|██████    | 60/100 [00:54<00:36,  1.09it/s]"
     ]
    },
    {
     "name": "stdout",
     "output_type": "stream",
     "text": [
      "Test loss = -2.782e+00\n",
      "\n",
      "Normalized Error Omega_m = 0.249\n",
      "Error Omega_m = 0.100\n",
      "Bayesian error Omega_m = 0.000\n",
      "Relative error Omega_m = 0.483\n",
      "R^2: 0.47380429493479936\n"
     ]
    },
    {
     "name": "stderr",
     "output_type": "stream",
     "text": [
      " 61%|██████    | 61/100 [00:55<00:35,  1.09it/s]"
     ]
    },
    {
     "name": "stdout",
     "output_type": "stream",
     "text": [
      "Test loss = -2.796e+00\n",
      "\n",
      "Normalized Error Omega_m = 0.247\n",
      "Error Omega_m = 0.099\n",
      "Bayesian error Omega_m = 0.000\n",
      "Relative error Omega_m = 0.479\n",
      "R^2: 0.2248018117900874\n"
     ]
    },
    {
     "name": "stderr",
     "output_type": "stream",
     "text": [
      " 62%|██████▏   | 62/100 [00:56<00:34,  1.09it/s]"
     ]
    },
    {
     "name": "stdout",
     "output_type": "stream",
     "text": [
      "Test loss = -2.785e+00\n",
      "\n",
      "Normalized Error Omega_m = 0.249\n",
      "Error Omega_m = 0.099\n",
      "Bayesian error Omega_m = 0.000\n",
      "Relative error Omega_m = 0.481\n",
      "R^2: -0.24590813804930556\n"
     ]
    },
    {
     "name": "stderr",
     "output_type": "stream",
     "text": [
      " 63%|██████▎   | 63/100 [00:57<00:33,  1.09it/s]"
     ]
    },
    {
     "name": "stdout",
     "output_type": "stream",
     "text": [
      "Test loss = -2.784e+00\n",
      "\n",
      "Normalized Error Omega_m = 0.249\n",
      "Error Omega_m = 0.099\n",
      "Bayesian error Omega_m = 0.000\n",
      "Relative error Omega_m = 0.482\n",
      "R^2: -0.2669575655905527\n"
     ]
    },
    {
     "name": "stderr",
     "output_type": "stream",
     "text": [
      " 64%|██████▍   | 64/100 [00:58<00:32,  1.09it/s]"
     ]
    },
    {
     "name": "stdout",
     "output_type": "stream",
     "text": [
      "Test loss = -2.787e+00\n",
      "\n",
      "Normalized Error Omega_m = 0.248\n",
      "Error Omega_m = 0.099\n",
      "Bayesian error Omega_m = 0.000\n",
      "Relative error Omega_m = 0.482\n",
      "R^2: 0.008746521221626002\n"
     ]
    },
    {
     "name": "stderr",
     "output_type": "stream",
     "text": [
      " 65%|██████▌   | 65/100 [00:59<00:32,  1.09it/s]"
     ]
    },
    {
     "name": "stdout",
     "output_type": "stream",
     "text": [
      "Test loss = -2.782e+00\n",
      "\n",
      "Normalized Error Omega_m = 0.249\n",
      "Error Omega_m = 0.100\n",
      "Bayesian error Omega_m = 0.000\n",
      "Relative error Omega_m = 0.482\n",
      "R^2: 0.18317054989681314\n"
     ]
    },
    {
     "name": "stderr",
     "output_type": "stream",
     "text": [
      " 66%|██████▌   | 66/100 [01:00<00:31,  1.09it/s]"
     ]
    },
    {
     "name": "stdout",
     "output_type": "stream",
     "text": [
      "Test loss = -2.791e+00\n",
      "\n",
      "Normalized Error Omega_m = 0.248\n",
      "Error Omega_m = 0.099\n",
      "Bayesian error Omega_m = 0.000\n",
      "Relative error Omega_m = 0.479\n",
      "R^2: 0.021638724242720397\n"
     ]
    },
    {
     "name": "stderr",
     "output_type": "stream",
     "text": [
      " 67%|██████▋   | 67/100 [01:01<00:30,  1.09it/s]"
     ]
    },
    {
     "name": "stdout",
     "output_type": "stream",
     "text": [
      "Test loss = -2.786e+00\n",
      "\n",
      "Normalized Error Omega_m = 0.248\n",
      "Error Omega_m = 0.099\n",
      "Bayesian error Omega_m = 0.000\n",
      "Relative error Omega_m = 0.482\n",
      "R^2: -0.1611078553873997\n"
     ]
    },
    {
     "name": "stderr",
     "output_type": "stream",
     "text": [
      " 68%|██████▊   | 68/100 [01:02<00:29,  1.09it/s]"
     ]
    },
    {
     "name": "stdout",
     "output_type": "stream",
     "text": [
      "Test loss = -2.790e+00\n",
      "\n",
      "Normalized Error Omega_m = 0.248\n",
      "Error Omega_m = 0.099\n",
      "Bayesian error Omega_m = 0.000\n",
      "Relative error Omega_m = 0.482\n",
      "R^2: 0.35170146168408756\n"
     ]
    },
    {
     "name": "stderr",
     "output_type": "stream",
     "text": [
      " 69%|██████▉   | 69/100 [01:03<00:28,  1.09it/s]"
     ]
    },
    {
     "name": "stdout",
     "output_type": "stream",
     "text": [
      "Test loss = -2.790e+00\n",
      "\n",
      "Normalized Error Omega_m = 0.248\n",
      "Error Omega_m = 0.099\n",
      "Bayesian error Omega_m = 0.000\n",
      "Relative error Omega_m = 0.482\n",
      "R^2: -0.06547714036715013\n"
     ]
    },
    {
     "name": "stderr",
     "output_type": "stream",
     "text": [
      " 70%|███████   | 70/100 [01:04<00:27,  1.09it/s]"
     ]
    },
    {
     "name": "stdout",
     "output_type": "stream",
     "text": [
      "Test loss = -2.791e+00\n",
      "\n",
      "Normalized Error Omega_m = 0.248\n",
      "Error Omega_m = 0.099\n",
      "Bayesian error Omega_m = 0.000\n",
      "Relative error Omega_m = 0.480\n",
      "R^2: 0.11933130199858455\n"
     ]
    },
    {
     "name": "stderr",
     "output_type": "stream",
     "text": [
      " 71%|███████   | 71/100 [01:04<00:26,  1.09it/s]"
     ]
    },
    {
     "name": "stdout",
     "output_type": "stream",
     "text": [
      "Test loss = -2.797e+00\n",
      "\n",
      "Normalized Error Omega_m = 0.247\n",
      "Error Omega_m = 0.099\n",
      "Bayesian error Omega_m = 0.000\n",
      "Relative error Omega_m = 0.479\n",
      "R^2: 0.07105357395726664\n"
     ]
    },
    {
     "name": "stderr",
     "output_type": "stream",
     "text": [
      " 72%|███████▏  | 72/100 [01:05<00:25,  1.09it/s]"
     ]
    },
    {
     "name": "stdout",
     "output_type": "stream",
     "text": [
      "Test loss = -2.799e+00\n",
      "\n",
      "Normalized Error Omega_m = 0.247\n",
      "Error Omega_m = 0.099\n",
      "Bayesian error Omega_m = 0.000\n",
      "Relative error Omega_m = 0.478\n",
      "R^2: 0.19579149803455154\n"
     ]
    },
    {
     "name": "stderr",
     "output_type": "stream",
     "text": [
      " 73%|███████▎  | 73/100 [01:06<00:24,  1.09it/s]"
     ]
    },
    {
     "name": "stdout",
     "output_type": "stream",
     "text": [
      "Test loss = -2.789e+00\n",
      "\n",
      "Normalized Error Omega_m = 0.248\n",
      "Error Omega_m = 0.099\n",
      "Bayesian error Omega_m = 0.000\n",
      "Relative error Omega_m = 0.482\n",
      "R^2: 0.4113629626726474\n"
     ]
    },
    {
     "name": "stderr",
     "output_type": "stream",
     "text": [
      " 74%|███████▍  | 74/100 [01:07<00:23,  1.09it/s]"
     ]
    },
    {
     "name": "stdout",
     "output_type": "stream",
     "text": [
      "Test loss = -2.792e+00\n",
      "\n",
      "Normalized Error Omega_m = 0.248\n",
      "Error Omega_m = 0.099\n",
      "Bayesian error Omega_m = 0.000\n",
      "Relative error Omega_m = 0.480\n",
      "R^2: 0.30605510074139175\n"
     ]
    },
    {
     "name": "stderr",
     "output_type": "stream",
     "text": [
      " 75%|███████▌  | 75/100 [01:08<00:22,  1.09it/s]"
     ]
    },
    {
     "name": "stdout",
     "output_type": "stream",
     "text": [
      "Test loss = -2.798e+00\n",
      "\n",
      "Normalized Error Omega_m = 0.247\n",
      "Error Omega_m = 0.099\n",
      "Bayesian error Omega_m = 0.000\n",
      "Relative error Omega_m = 0.479\n",
      "R^2: -0.09172679914655446\n"
     ]
    },
    {
     "name": "stderr",
     "output_type": "stream",
     "text": [
      " 76%|███████▌  | 76/100 [01:09<00:22,  1.09it/s]"
     ]
    },
    {
     "name": "stdout",
     "output_type": "stream",
     "text": [
      "Test loss = -2.792e+00\n",
      "\n",
      "Normalized Error Omega_m = 0.248\n",
      "Error Omega_m = 0.099\n",
      "Bayesian error Omega_m = 0.000\n",
      "Relative error Omega_m = 0.479\n",
      "R^2: -0.13454390014056816\n"
     ]
    },
    {
     "name": "stderr",
     "output_type": "stream",
     "text": [
      " 77%|███████▋  | 77/100 [01:10<00:21,  1.09it/s]"
     ]
    },
    {
     "name": "stdout",
     "output_type": "stream",
     "text": [
      "Test loss = -2.797e+00\n",
      "\n",
      "Normalized Error Omega_m = 0.247\n",
      "Error Omega_m = 0.099\n",
      "Bayesian error Omega_m = 0.000\n",
      "Relative error Omega_m = 0.481\n",
      "R^2: 0.4129804079908619\n"
     ]
    },
    {
     "name": "stderr",
     "output_type": "stream",
     "text": [
      " 78%|███████▊  | 78/100 [01:11<00:20,  1.09it/s]"
     ]
    },
    {
     "name": "stdout",
     "output_type": "stream",
     "text": [
      "Test loss = -2.789e+00\n",
      "\n",
      "Normalized Error Omega_m = 0.248\n",
      "Error Omega_m = 0.099\n",
      "Bayesian error Omega_m = 0.000\n",
      "Relative error Omega_m = 0.481\n",
      "R^2: -0.08862559379630763\n"
     ]
    },
    {
     "name": "stderr",
     "output_type": "stream",
     "text": [
      " 79%|███████▉  | 79/100 [01:12<00:19,  1.09it/s]"
     ]
    },
    {
     "name": "stdout",
     "output_type": "stream",
     "text": [
      "Test loss = -2.785e+00\n",
      "\n",
      "Normalized Error Omega_m = 0.249\n",
      "Error Omega_m = 0.099\n",
      "Bayesian error Omega_m = 0.000\n",
      "Relative error Omega_m = 0.482\n",
      "R^2: 0.41736505731421736\n"
     ]
    },
    {
     "name": "stderr",
     "output_type": "stream",
     "text": [
      " 80%|████████  | 80/100 [01:13<00:18,  1.09it/s]"
     ]
    },
    {
     "name": "stdout",
     "output_type": "stream",
     "text": [
      "Test loss = -2.788e+00\n",
      "\n",
      "Normalized Error Omega_m = 0.248\n",
      "Error Omega_m = 0.099\n",
      "Bayesian error Omega_m = 0.000\n",
      "Relative error Omega_m = 0.482\n",
      "R^2: 0.04277598136855587\n"
     ]
    },
    {
     "name": "stderr",
     "output_type": "stream",
     "text": [
      " 81%|████████  | 81/100 [01:14<00:17,  1.09it/s]"
     ]
    },
    {
     "name": "stdout",
     "output_type": "stream",
     "text": [
      "Test loss = -2.791e+00\n",
      "\n",
      "Normalized Error Omega_m = 0.248\n",
      "Error Omega_m = 0.099\n",
      "Bayesian error Omega_m = 0.000\n",
      "Relative error Omega_m = 0.481\n",
      "R^2: 0.23116911905591409\n"
     ]
    },
    {
     "name": "stderr",
     "output_type": "stream",
     "text": [
      " 82%|████████▏ | 82/100 [01:15<00:16,  1.09it/s]"
     ]
    },
    {
     "name": "stdout",
     "output_type": "stream",
     "text": [
      "Test loss = -2.772e+00\n",
      "\n",
      "Normalized Error Omega_m = 0.250\n",
      "Error Omega_m = 0.100\n",
      "Bayesian error Omega_m = 0.000\n",
      "Relative error Omega_m = 0.486\n",
      "R^2: 0.11370836056715805\n"
     ]
    },
    {
     "name": "stderr",
     "output_type": "stream",
     "text": [
      " 83%|████████▎ | 83/100 [01:15<00:15,  1.09it/s]"
     ]
    },
    {
     "name": "stdout",
     "output_type": "stream",
     "text": [
      "Test loss = -2.799e+00\n",
      "\n",
      "Normalized Error Omega_m = 0.247\n",
      "Error Omega_m = 0.099\n",
      "Bayesian error Omega_m = 0.000\n",
      "Relative error Omega_m = 0.478\n",
      "R^2: 0.22079321422883313\n"
     ]
    },
    {
     "name": "stderr",
     "output_type": "stream",
     "text": [
      " 84%|████████▍ | 84/100 [01:16<00:14,  1.09it/s]"
     ]
    },
    {
     "name": "stdout",
     "output_type": "stream",
     "text": [
      "Test loss = -2.796e+00\n",
      "\n",
      "Normalized Error Omega_m = 0.247\n",
      "Error Omega_m = 0.099\n",
      "Bayesian error Omega_m = 0.000\n",
      "Relative error Omega_m = 0.480\n",
      "R^2: 0.2034658517860919\n"
     ]
    },
    {
     "name": "stderr",
     "output_type": "stream",
     "text": [
      " 85%|████████▌ | 85/100 [01:17<00:13,  1.09it/s]"
     ]
    },
    {
     "name": "stdout",
     "output_type": "stream",
     "text": [
      "Test loss = -2.803e+00\n",
      "\n",
      "Normalized Error Omega_m = 0.246\n",
      "Error Omega_m = 0.098\n",
      "Bayesian error Omega_m = 0.000\n",
      "Relative error Omega_m = 0.479\n",
      "R^2: 0.2101226008802617\n"
     ]
    },
    {
     "name": "stderr",
     "output_type": "stream",
     "text": [
      " 86%|████████▌ | 86/100 [01:18<00:12,  1.09it/s]"
     ]
    },
    {
     "name": "stdout",
     "output_type": "stream",
     "text": [
      "Test loss = -2.793e+00\n",
      "\n",
      "Normalized Error Omega_m = 0.247\n",
      "Error Omega_m = 0.099\n",
      "Bayesian error Omega_m = 0.000\n",
      "Relative error Omega_m = 0.480\n",
      "R^2: 0.4154361605912985\n"
     ]
    },
    {
     "name": "stderr",
     "output_type": "stream",
     "text": [
      " 87%|████████▋ | 87/100 [01:19<00:11,  1.09it/s]"
     ]
    },
    {
     "name": "stdout",
     "output_type": "stream",
     "text": [
      "Test loss = -2.793e+00\n",
      "\n",
      "Normalized Error Omega_m = 0.247\n",
      "Error Omega_m = 0.099\n",
      "Bayesian error Omega_m = 0.000\n",
      "Relative error Omega_m = 0.480\n",
      "R^2: 0.11265687296107363\n"
     ]
    },
    {
     "name": "stderr",
     "output_type": "stream",
     "text": [
      " 88%|████████▊ | 88/100 [01:20<00:10,  1.09it/s]"
     ]
    },
    {
     "name": "stdout",
     "output_type": "stream",
     "text": [
      "Test loss = -2.787e+00\n",
      "\n",
      "Normalized Error Omega_m = 0.248\n",
      "Error Omega_m = 0.099\n",
      "Bayesian error Omega_m = 0.000\n",
      "Relative error Omega_m = 0.483\n",
      "R^2: 0.3629698667606166\n"
     ]
    },
    {
     "name": "stderr",
     "output_type": "stream",
     "text": [
      " 89%|████████▉ | 89/100 [01:21<00:10,  1.09it/s]"
     ]
    },
    {
     "name": "stdout",
     "output_type": "stream",
     "text": [
      "Test loss = -2.778e+00\n",
      "\n",
      "Normalized Error Omega_m = 0.249\n",
      "Error Omega_m = 0.100\n",
      "Bayesian error Omega_m = 0.000\n",
      "Relative error Omega_m = 0.484\n",
      "R^2: 0.2009296240608962\n"
     ]
    },
    {
     "name": "stderr",
     "output_type": "stream",
     "text": [
      " 90%|█████████ | 90/100 [01:22<00:09,  1.09it/s]"
     ]
    },
    {
     "name": "stdout",
     "output_type": "stream",
     "text": [
      "Test loss = -2.799e+00\n",
      "\n",
      "Normalized Error Omega_m = 0.247\n",
      "Error Omega_m = 0.099\n",
      "Bayesian error Omega_m = 0.000\n",
      "Relative error Omega_m = 0.480\n",
      "R^2: 0.19180582046609174\n"
     ]
    },
    {
     "name": "stderr",
     "output_type": "stream",
     "text": [
      " 91%|█████████ | 91/100 [01:23<00:08,  1.09it/s]"
     ]
    },
    {
     "name": "stdout",
     "output_type": "stream",
     "text": [
      "Test loss = -2.780e+00\n",
      "\n",
      "Normalized Error Omega_m = 0.249\n",
      "Error Omega_m = 0.100\n",
      "Bayesian error Omega_m = 0.000\n",
      "Relative error Omega_m = 0.484\n",
      "R^2: -0.027544512959806422\n"
     ]
    },
    {
     "name": "stderr",
     "output_type": "stream",
     "text": [
      " 92%|█████████▏| 92/100 [01:24<00:07,  1.09it/s]"
     ]
    },
    {
     "name": "stdout",
     "output_type": "stream",
     "text": [
      "Test loss = -2.796e+00\n",
      "\n",
      "Normalized Error Omega_m = 0.247\n",
      "Error Omega_m = 0.099\n",
      "Bayesian error Omega_m = 0.000\n",
      "Relative error Omega_m = 0.479\n",
      "R^2: 0.4143289384986065\n"
     ]
    },
    {
     "name": "stderr",
     "output_type": "stream",
     "text": [
      " 93%|█████████▎| 93/100 [01:25<00:06,  1.09it/s]"
     ]
    },
    {
     "name": "stdout",
     "output_type": "stream",
     "text": [
      "Test loss = -2.789e+00\n",
      "\n",
      "Normalized Error Omega_m = 0.248\n",
      "Error Omega_m = 0.099\n",
      "Bayesian error Omega_m = 0.000\n",
      "Relative error Omega_m = 0.480\n",
      "R^2: 0.4024491376504653\n"
     ]
    },
    {
     "name": "stderr",
     "output_type": "stream",
     "text": [
      " 94%|█████████▍| 94/100 [01:26<00:05,  1.09it/s]"
     ]
    },
    {
     "name": "stdout",
     "output_type": "stream",
     "text": [
      "Test loss = -2.791e+00\n",
      "\n",
      "Normalized Error Omega_m = 0.248\n",
      "Error Omega_m = 0.099\n",
      "Bayesian error Omega_m = 0.000\n",
      "Relative error Omega_m = 0.482\n",
      "R^2: 0.1696796411933872\n"
     ]
    },
    {
     "name": "stderr",
     "output_type": "stream",
     "text": [
      " 95%|█████████▌| 95/100 [01:26<00:04,  1.09it/s]"
     ]
    },
    {
     "name": "stdout",
     "output_type": "stream",
     "text": [
      "Test loss = -2.789e+00\n",
      "\n",
      "Normalized Error Omega_m = 0.248\n",
      "Error Omega_m = 0.099\n",
      "Bayesian error Omega_m = 0.000\n",
      "Relative error Omega_m = 0.481\n",
      "R^2: 0.1909846980689256\n"
     ]
    },
    {
     "name": "stderr",
     "output_type": "stream",
     "text": [
      " 96%|█████████▌| 96/100 [01:27<00:03,  1.09it/s]"
     ]
    },
    {
     "name": "stdout",
     "output_type": "stream",
     "text": [
      "Test loss = -2.798e+00\n",
      "\n",
      "Normalized Error Omega_m = 0.247\n",
      "Error Omega_m = 0.099\n",
      "Bayesian error Omega_m = 0.000\n",
      "Relative error Omega_m = 0.480\n",
      "R^2: 0.11314795335501826\n"
     ]
    },
    {
     "name": "stderr",
     "output_type": "stream",
     "text": [
      " 97%|█████████▋| 97/100 [01:28<00:02,  1.09it/s]"
     ]
    },
    {
     "name": "stdout",
     "output_type": "stream",
     "text": [
      "Test loss = -2.792e+00\n",
      "\n",
      "Normalized Error Omega_m = 0.248\n",
      "Error Omega_m = 0.099\n",
      "Bayesian error Omega_m = 0.000\n",
      "Relative error Omega_m = 0.480\n",
      "R^2: 0.34384156809981126\n"
     ]
    },
    {
     "name": "stderr",
     "output_type": "stream",
     "text": [
      " 98%|█████████▊| 98/100 [01:29<00:01,  1.09it/s]"
     ]
    },
    {
     "name": "stdout",
     "output_type": "stream",
     "text": [
      "Test loss = -2.785e+00\n",
      "\n",
      "Normalized Error Omega_m = 0.248\n",
      "Error Omega_m = 0.099\n",
      "Bayesian error Omega_m = 0.000\n",
      "Relative error Omega_m = 0.481\n",
      "R^2: 0.2141792787972685\n"
     ]
    },
    {
     "name": "stderr",
     "output_type": "stream",
     "text": [
      " 99%|█████████▉| 99/100 [01:30<00:00,  1.09it/s]"
     ]
    },
    {
     "name": "stdout",
     "output_type": "stream",
     "text": [
      "Test loss = -2.785e+00\n",
      "\n",
      "Normalized Error Omega_m = 0.248\n",
      "Error Omega_m = 0.099\n",
      "Bayesian error Omega_m = 0.000\n",
      "Relative error Omega_m = 0.483\n",
      "R^2: 0.28486636861195025\n"
     ]
    },
    {
     "name": "stderr",
     "output_type": "stream",
     "text": [
      "100%|██████████| 100/100 [01:31<00:00,  1.09it/s]"
     ]
    },
    {
     "name": "stdout",
     "output_type": "stream",
     "text": [
      "Test loss = -2.791e+00\n",
      "\n",
      "Normalized Error Omega_m = 0.248\n",
      "Error Omega_m = 0.099\n",
      "Bayesian error Omega_m = 0.000\n",
      "Relative error Omega_m = 0.480\n",
      "R^2: 0.10516530285913106\n",
      "average R2: 0.15485879412661643\n"
     ]
    },
    {
     "name": "stderr",
     "output_type": "stream",
     "text": [
      "\n"
     ]
    }
   ],
   "source": [
    "minimum = np.array([0.1, 0.6, 0.25, 0.25, 0.5, 0.5])[:len(factors)]\n",
    "maximum = np.array([0.5, 1.0, 4.00, 4.00, 2.0, 2.0])[:len(factors)]\n",
    "\n",
    "# get the number of maps in the test set\n",
    "num_maps = 0\n",
    "for x,y in test_loader:\n",
    "      num_maps += x.shape[0]\n",
    "print('\\nNumber of maps in the test set: %d'%num_maps)\n",
    "\n",
    "r2_list = []\n",
    "n_test = 100\n",
    "for i in tqdm(range(n_test)):\n",
    "    # define the arrays containing the value of the parameters\n",
    "    params_true = np.zeros((num_maps,len(factors)), dtype=np.float32)\n",
    "    params_NN   = np.zeros((num_maps,len(factors)), dtype=np.float32)\n",
    "    errors_NN   = np.zeros((num_maps,len(factors)), dtype=np.float32)\n",
    "\n",
    "    # get test loss\n",
    "    test_loss1, test_loss2 = torch.zeros(len(factors)).to(device), torch.zeros(len(factors)).to(device)\n",
    "    test_loss, points = 0.0, 0\n",
    "    regressor.eval()\n",
    "    for x, y in test_loader:\n",
    "        with torch.no_grad():\n",
    "            bs    = x.shape[0]    #batch size\n",
    "            x     = x.to(device)  #send data to device\n",
    "            if 'VGG' in backbone_type:\n",
    "                x = x.repeat(1, 3, 1, 1)\n",
    "            y     = y.to(device)[:,:len(factors)]  #send data to device\n",
    "            p     = regressor(x)      #prediction for mean and variance\n",
    "            y_NN  = p[:,:len(factors)]       #prediction for mean\n",
    "            # e_NN  = p[:,len(factors):]       #prediction for error\n",
    "            loss1 = torch.mean((y_NN[:,:len(factors)] - y[:,:len(factors)])**2,                     axis=0)\n",
    "            # loss2 = torch.mean(((y_NN[:,:len(factors)] - y[:,:len(factors)])**2 - e_NN[:,:len(factors)]**2)**2, axis=0)\n",
    "            test_loss1 += loss1*bs\n",
    "            # test_loss2 += loss2*bs\n",
    "\n",
    "            # save results to their corresponding arrays\n",
    "            params_true[points:points+x.shape[0]] = y.cpu().numpy()\n",
    "            params_NN[points:points+x.shape[0]]   = y_NN.cpu().numpy()\n",
    "            # errors_NN[points:points+x.shape[0]]   = e_NN.cpu().numpy()\n",
    "            points    += x.shape[0]\n",
    "    test_loss = torch.log(test_loss1/points)# + torch.log(test_loss2/points)\n",
    "    test_loss = torch.mean(test_loss).item()\n",
    "    print('Test loss = %.3e\\n'%test_loss)\n",
    "\n",
    "    Norm_error = np.sqrt(np.mean((params_true - params_NN)**2, axis=0))\n",
    "    print('Normalized Error Omega_m = %.3f'%Norm_error[0])\n",
    "    # print('Normalized Error sigma_8 = %.3f'%Norm_error[1])\n",
    "\n",
    "    # de-normalize\n",
    "    minimum = np.array([0.1, 0.6, 0.25, 0.25, 0.5, 0.5])[:len(factors)]\n",
    "    maximum = np.array([0.5, 1.0, 4.00, 4.00, 2.0, 2.0])[:len(factors)]\n",
    "    # minimum = np.array([0.1, 0.6])\n",
    "    # maximum = np.array([0.5, 1.0])\n",
    "    params_true = params_true*(maximum - minimum) + minimum\n",
    "    params_NN   = params_NN*(maximum - minimum) + minimum\n",
    "    errors_NN   = errors_NN*(maximum - minimum)\n",
    "\n",
    "    error = np.sqrt(np.mean((params_true - params_NN)**2, axis=0))\n",
    "    print('Error Omega_m = %.3f'%error[0])\n",
    "    # print('Error sigma_8 = %.3f'%error[1])\n",
    "\n",
    "    mean_error = np.absolute(np.mean(errors_NN, axis=0))\n",
    "    print('Bayesian error Omega_m = %.3f'%mean_error[0])\n",
    "    # print('Bayesian error sigma_8 = %.3f'%mean_error[1])\n",
    "\n",
    "    rel_error = np.sqrt(np.mean((params_true - params_NN)**2/params_true**2, axis=0))\n",
    "    print('Relative error Omega_m = %.3f'%rel_error[0])\n",
    "    # print('Relative error sigma_8 = %.3f'%rel_error[1])\n",
    "    if len(factors) > 2:\n",
    "        print('Relative error A_SN1   = %.3f'%rel_error[2])\n",
    "        print('Relative error A_AGN1  = %.3f'%rel_error[3])\n",
    "        print('Relative error A_SN2   = %.3f'%rel_error[4])\n",
    "        print('Relative error A_AGN2  = %.3f\\n'%rel_error[5])\n",
    "\n",
    "    from sklearn.metrics import r2_score\n",
    "    indexes = np.arange(50)*splits\n",
    "    r2 = r2_score(params_true[indexes,0], params_NN[indexes,0])\n",
    "    print(\"R^2:\", r2)\n",
    "    r2_list.append(r2)\n",
    "    # print(\"R^2:\", r2_score(params_true[indexes,1], params_NN[indexes,1]))\n",
    "print('average R2:', np.mean(r2_list))\n"
   ]
  },
  {
   "cell_type": "markdown",
   "metadata": {},
   "source": [
    "## Compute CKA"
   ]
  },
  {
   "cell_type": "code",
   "execution_count": 8,
   "metadata": {},
   "outputs": [
    {
     "name": "stderr",
     "output_type": "stream",
     "text": [
      "2023-11-30 09:51:45.652718: I tensorflow/tsl/cuda/cudart_stub.cc:28] Could not find cuda drivers on your machine, GPU will not be used.\n",
      "2023-11-30 09:51:45.675845: I tensorflow/tsl/cuda/cudart_stub.cc:28] Could not find cuda drivers on your machine, GPU will not be used.\n",
      "2023-11-30 09:51:45.676321: I tensorflow/core/platform/cpu_feature_guard.cc:182] This TensorFlow binary is optimized to use available CPU instructions in performance-critical operations.\n",
      "To enable the following instructions: AVX2 FMA, in other operations, rebuild TensorFlow with the appropriate compiler flags.\n",
      "2023-11-30 09:51:46.170769: W tensorflow/compiler/tf2tensorrt/utils/py_utils.cc:38] TF-TRT Warning: Could not find TensorRT\n"
     ]
    }
   ],
   "source": [
    "from similarity.efficient_CKA import *\n",
    "import matplotlib.pyplot as plt"
   ]
  },
  {
   "cell_type": "code",
   "execution_count": 9,
   "metadata": {},
   "outputs": [],
   "source": [
    "def normalize_activations(act):\n",
    "    \"\"\"Normalize along each row so that the norm of activations produced by each example is 1.\"\"\"\n",
    "    act = act.view(act.size(0), -1)\n",
    "    act_norm = torch.linalg.norm(act, dim=1, keepdim=True)\n",
    "    act /= act_norm\n",
    "    return act\n",
    "\n",
    "def get_activations(images, model, normalize_act=False):\n",
    "    \"\"\"Return a list of activations obtained from a model on a set of images.\"\"\"\n",
    "    activations = []\n",
    "\n",
    "    def hook_fn(module, input, output):\n",
    "        if normalize_act:\n",
    "            output = normalize_activations(output)\n",
    "        activations.append(output)\n",
    "\n",
    "    hooks = []\n",
    "    for layer in model.backbone.children():\n",
    "        if 'Linear' in str(layer) or 'Conv2d' in str(layer):\n",
    "            hooks.append(layer.register_forward_hook(hook_fn))\n",
    "    for layer in model.bottleneck.children():\n",
    "        if 'Linear' in str(layer) or 'Conv2d' in str(layer):\n",
    "            hooks.append(layer.register_forward_hook(hook_fn))\n",
    "    for layer in model.head.children():\n",
    "        if 'Linear' in str(layer) or 'Conv2d' in str(layer):\n",
    "            hooks.append(layer.register_forward_hook(hook_fn))\n",
    "\n",
    "    with torch.no_grad():\n",
    "        model(images)\n",
    "\n",
    "    for hook in hooks:\n",
    "        hook.remove()\n",
    "\n",
    "    return activations\n",
    "\n",
    "# Plotting the heatmap with 'magma' colormap and flipping the matrix vertically\n",
    "def plotHeatmap(heatmap, modelName):\n",
    "    # plt.imshow(np.flipud(heatmap), cmap='magma', interpolation='nearest')\n",
    "    plt.figure()\n",
    "    imshowobj = plt.imshow(np.flipud(heatmap), cmap='magma', interpolation='nearest')\n",
    "    imshowobj.set_clim(0,1)\n",
    "    plt.colorbar()\n",
    "    plt.title('CKA$_{minibatch}$'+f' - {modelName}', fontsize=20)\n",
    "    plt.xlabel('Layer', fontsize=20)\n",
    "    plt.ylabel('Layer', fontsize=20)\n",
    "    plt.xticks(ticks=np.arange(1, heatmap.shape[1], 2), labels=[f\"{i+1}\" for i in range(1, heatmap.shape[1], 2)], fontsize=12)\n",
    "    plt.yticks(ticks=np.arange(0, heatmap.shape[0], 2), labels=[f\"{i+1}\" for i in range(heatmap.shape[0]-1, -1, -2)], fontsize=12)\n",
    "\n",
    "    # Show the plot\n",
    "    plt.tight_layout()\n",
    "    plt.savefig(f\"heatmap/Heatmap_{modelName}.png\", dpi=300)\n",
    "    # files.download(f\"Heatmap_{modelName}.png\")\n",
    "    plt.show()"
   ]
  },
  {
   "cell_type": "code",
   "execution_count": 24,
   "metadata": {},
   "outputs": [
    {
     "name": "stderr",
     "output_type": "stream",
     "text": [
      "100%|██████████| 12/12 [00:46<00:00,  3.86s/it]\n",
      "100%|██████████| 12/12 [00:47<00:00,  3.93s/it]\n",
      "100%|██████████| 12/12 [00:46<00:00,  3.89s/it]\n",
      "100%|██████████| 12/12 [00:46<00:00,  3.90s/it]\n",
      "100%|██████████| 12/12 [00:47<00:00,  3.93s/it]\n",
      "100%|██████████| 12/12 [00:46<00:00,  3.86s/it]\n",
      "100%|██████████| 12/12 [00:46<00:00,  3.89s/it]\n",
      "100%|██████████| 12/12 [00:46<00:00,  3.89s/it]\n",
      "100%|██████████| 12/12 [00:46<00:00,  3.89s/it]\n",
      "100%|██████████| 12/12 [00:47<00:00,  3.95s/it]\n",
      "100%|██████████| 10/10 [07:47<00:00, 46.77s/it]\n"
     ]
    }
   ],
   "source": [
    "regressor = regressor.to('cpu')\n",
    "regressor.eval()\n",
    "# n_layers = len(model.layers)\n",
    "n_layers = 12\n",
    "cka = MinibatchCKA(n_layers)\n",
    "count = 0\n",
    "iteration = 10\n",
    "for i in tqdm(range(iteration)):\n",
    "    for data, target in tqdm(test_loader):\n",
    "        if 'VGG' in backbone_type:\n",
    "             data = data.repeat(1, 3, 1, 1)\n",
    "        act = get_activations(data, regressor, False)\n",
    "        # print(len(act))\n",
    "        cka.update_state(act)\n",
    "        # print(len(data))\n",
    "        count += len(data)"
   ]
  },
  {
   "cell_type": "code",
   "execution_count": 25,
   "metadata": {},
   "outputs": [],
   "source": [
    "heatmap = cka.result().numpy()\n",
    "# eigenvalues, eigenvectors = np.linalg.eig(heatmap)\n",
    "# np.save(\"heatmap/Layer21_SIMBA(TNG+SIMBA).npy\", heatmap)"
   ]
  },
  {
   "cell_type": "code",
   "execution_count": 26,
   "metadata": {},
   "outputs": [],
   "source": [
    "name = 'VGG13+DaNN_SIMBA(norm)'\n",
    "# heatmap = np.load(\"heatmap/{}.npy\".format(name))\n",
    "plotHeatmap(heatmap, name) # accuracy 99.12%\n",
    "np.save(\"heatmap/VGG13+DaNN_SIMBA(norm).npy\", heatmap)"
   ]
  },
  {
   "cell_type": "markdown",
   "metadata": {},
   "source": [
    "## compute eigenvalues"
   ]
  },
  {
   "cell_type": "code",
   "execution_count": 11,
   "metadata": {},
   "outputs": [
    {
     "data": {
      "image/png": "[encoded data removed]",
      "text/plain": [
       "<Figure size 640x480 with 1 Axes>"
      ]
     },
     "metadata": {},
     "output_type": "display_data"
    }
   ],
   "source": [
    "import numpy as np\n",
    "import matplotlib.pyplot as plt\n",
    "\n",
    "heatmap_CNN21 = np.load(\"heatmap/Layer21_TNG(norm).npy\")\n",
    "heatmap_VGG13 = np.load(\"heatmap/VGG13_1param_TNG.npy\")\n",
    "heatmap_VGG13_DaNN = np.load(\"heatmap/VGG13+DaNN_TNG(norm).npy\")\n",
    "heatmap_VGG13_MMD = np.load(\"heatmap/MMD_1param_TNG.npy\")\n",
    "eigenvalues_cnn21, _ = np.linalg.eig(heatmap_CNN21)\n",
    "eigenvalues_vgg13, _ = np.linalg.eig(heatmap_VGG13)\n",
    "eigenvalues_vgg13_dann, _ = np.linalg.eig(heatmap_VGG13_DaNN)\n",
    "eigenvalues_vgg13_mmd, _ = np.linalg.eig(heatmap_VGG13_MMD)\n",
    "# plt.plot(eigenvalues_cnn21, label='CNN21')\n",
    "plt.plot(eigenvalues_vgg13[:10], label='VGG13')\n",
    "plt.plot(eigenvalues_vgg13_dann[:10], label='VGG13+DaNN')\n",
    "plt.plot(eigenvalues_vgg13_mmd[:10], label='VGG13+MMD')\n",
    "plt.legend()\n",
    "plt.yscale('log')\n",
    "plt.xlabel('rank')\n",
    "plt.ylabel('eigenvalues')\n",
    "plt.title('Eigenvalues of CKA matrices - TNG')\n",
    "plt.savefig('eigenvalue_TNG.png')\n",
    "plt.show()\n"
   ]
  },
  {
   "cell_type": "code",
   "execution_count": 13,
   "metadata": {},
   "outputs": [
    {
     "data": {
      "image/png": "[encoded data removed]",
      "text/plain": [
       "<Figure size 640x480 with 1 Axes>"
      ]
     },
     "metadata": {},
     "output_type": "display_data"
    }
   ],
   "source": [
    "import numpy as np\n",
    "import matplotlib.pyplot as plt\n",
    "\n",
    "heatmap_CNN21 = np.load(\"heatmap/Layer21_SIMBA(norm).npy\")\n",
    "heatmap_VGG13 = np.load(\"heatmap/VGG13_1param_SIMBA.npy\")\n",
    "heatmap_VGG13_DaNN = np.load(\"heatmap/VGG13+DaNN_SIMBA(norm).npy\")\n",
    "heatmap_VGG13_MMD = np.load(\"heatmap/MMD_1param_SIMBA.npy\")\n",
    "eigenvalues_cnn21, _ = np.linalg.eig(heatmap_CNN21)\n",
    "eigenvalues_vgg13, _ = np.linalg.eig(heatmap_VGG13)\n",
    "eigenvalues_vgg13_dann, _ = np.linalg.eig(heatmap_VGG13_DaNN)\n",
    "eigenvalues_vgg13_mmd, _ = np.linalg.eig(heatmap_VGG13_MMD)\n",
    "# plt.plot(eigenvalues_cnn21, label='CNN21')\n",
    "plt.plot(eigenvalues_vgg13[:10], label='VGG13')\n",
    "plt.plot(eigenvalues_vgg13_dann[:10], label='VGG13+DaNN')\n",
    "plt.plot(eigenvalues_vgg13_mmd[:10], label='VGG13+MMD')\n",
    "plt.legend()\n",
    "plt.yscale('log')\n",
    "plt.xlabel('rank')\n",
    "plt.ylabel('eigenvalues')\n",
    "plt.title('Eigenvalues of CKA matrices - SIMBA')\n",
    "plt.savefig('eigenvalue_SIMBA.png')\n",
    "plt.show()\n"
   ]
  },
  {
   "cell_type": "code",
   "execution_count": 14,
   "metadata": {},
   "outputs": [
    {
     "data": {
      "image/png": "[encoded data removed]",
      "text/plain": [
       "<Figure size 640x480 with 2 Axes>"
      ]
     },
     "metadata": {},
     "output_type": "display_data"
    },
    {
     "data": {
      "image/png": "[encoded data removed]",
      "text/plain": [
       "<Figure size 640x480 with 2 Axes>"
      ]
     },
     "metadata": {},
     "output_type": "display_data"
    },
    {
     "data": {
      "image/png": "[encoded data removed]",
      "text/plain": [
       "<Figure size 640x480 with 2 Axes>"
      ]
     },
     "metadata": {},
     "output_type": "display_data"
    },
    {
     "data": {
      "image/png": "[encoded data removed]",
      "text/plain": [
       "<Figure size 640x480 with 2 Axes>"
      ]
     },
     "metadata": {},
     "output_type": "display_data"
    }
   ],
   "source": [
    "plotHeatmap(heatmap_CNN21, \"CNN21_SIMBA\")\n",
    "plotHeatmap(heatmap_VGG13, \"VGG13_SIMBA\")\n",
    "plotHeatmap(heatmap_VGG13_DaNN, \"VGG13+DaNN_SIMBA\")\n",
    "plotHeatmap(heatmap_VGG13_MMD, \"VGG13+MMD_SIMBA\")"
   ]
  },
  {
   "cell_type": "code",
   "execution_count": null,
   "metadata": {},
   "outputs": [],
   "source": []
  }
 ],
 "metadata": {
  "kernelspec": {
   "display_name": "cmd",
   "language": "python",
   "name": "python3"
  },
  "language_info": {
   "codemirror_mode": {
    "name": "ipython",
    "version": 3
   },
   "file_extension": ".py",
   "mimetype": "text/x-python",
   "name": "python",
   "nbconvert_exporter": "python",
   "pygments_lexer": "ipython3",
   "version": "3.9.12"
  }
 },
 "nbformat": 4,
 "nbformat_minor": 2
}
