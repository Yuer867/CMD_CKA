{
 "cells": [
  {
   "cell_type": "code",
   "execution_count": 1,
   "metadata": {},
   "outputs": [],
   "source": [
    "import random\n",
    "import warnings\n",
    "import os\n",
    "from tqdm import tqdm\n",
    "import numpy as np\n",
    "\n",
    "import torch\n",
    "import torch.nn as nn\n",
    "import torch.backends.cudnn as cudnn\n",
    "from torch.optim import SGD\n",
    "from torch.optim.lr_scheduler import LambdaLR\n",
    "\n",
    "from tllib.modules.regressor import Regressor\n",
    "from tllib.alignment.dann import DomainAdversarialLoss\n",
    "from tllib.modules.domain_discriminator import DomainDiscriminator\n",
    "import tllib.vision.datasets.regression as datasets\n",
    "import tllib.vision.models as models\n",
    "from tllib.utils.data import ForeverDataIterator\n",
    "from tllib.utils.meter import AverageMeter, ProgressMeter\n",
    "from tllib.utils.logger import CompleteLogger\n",
    "from tllib.utils.analysis import collect_feature, tsne, a_distance\n",
    "\n",
    "from models import model_o3_err, model_o3_err_cosmology, model_o3_err_18layers, model_o3_err_da\n",
    "from dataloader import create_dataset_multifield"
   ]
  },
  {
   "cell_type": "code",
   "execution_count": 2,
   "metadata": {},
   "outputs": [
    {
     "name": "stdout",
     "output_type": "stream",
     "text": [
      "cuda\n"
     ]
    }
   ],
   "source": [
    "device = torch.device(\"cuda\" if torch.cuda.is_available() else \"cpu\")\n",
    "print(device)"
   ]
  },
  {
   "cell_type": "code",
   "execution_count": 3,
   "metadata": {},
   "outputs": [
    {
     "name": "stderr",
     "output_type": "stream",
     "text": [
      "/tmp/ipykernel_129197/2356918065.py:7: UserWarning: You have chosen to seed training. This will turn on the CUDNN deterministic setting, which can slow down your training considerably! You may see unexpected behavior when restarting from checkpoints.\n",
      "  warnings.warn('You have chosen to seed training. '\n"
     ]
    }
   ],
   "source": [
    "# logger = CompleteLogger('dann', 'train')\n",
    "\n",
    "seed = 1\n",
    "random.seed(1)\n",
    "torch.manual_seed(1)\n",
    "cudnn.deterministic = True\n",
    "warnings.warn('You have chosen to seed training. '\n",
    "                'This will turn on the CUDNN deterministic setting, '\n",
    "                'which can slow down your training considerably! '\n",
    "                'You may see unexpected behavior when restarting '\n",
    "                'from checkpoints.')\n",
    "cudnn.benchmark = True"
   ]
  },
  {
   "cell_type": "markdown",
   "metadata": {},
   "source": [
    "## Load Dataset"
   ]
  },
  {
   "cell_type": "code",
   "execution_count": 4,
   "metadata": {},
   "outputs": [],
   "source": [
    "batch_size = 64\n",
    "splits     = 15\n",
    "\n",
    "# Normalization\n",
    "fmaps_norm = ['maps_T_TNG.npy']\n",
    "# fmaps_norm = ['maps_T_SIMBA.npy']\n",
    "# fmaps_norm = [None]\n",
    "\n",
    "# data augmentation\n",
    "rot_flip_in_mem = False"
   ]
  },
  {
   "cell_type": "code",
   "execution_count": 5,
   "metadata": {},
   "outputs": [
    {
     "name": "stdout",
     "output_type": "stream",
     "text": [
      "13500\n",
      "Found 1 channels\n",
      "Reading data...\n",
      "1.502e+03 < F(all|orig) < 8.669e+07\n",
      "3.177 < F(all|resc)  < 7.938\n"
     ]
    },
    {
     "ename": "KeyboardInterrupt",
     "evalue": "",
     "output_type": "error",
     "traceback": [
      "\u001b[0;31m---------------------------------------------------------------------------\u001b[0m",
      "\u001b[0;31mKeyboardInterrupt\u001b[0m                         Traceback (most recent call last)",
      "\u001b[1;32m/home/jingyue/CMD/CMD_data_da.ipynb Cell 6\u001b[0m line \u001b[0;36m4\n\u001b[1;32m      <a href='vscode-notebook-cell://ssh-remote%2Blaregencia/home/jingyue/CMD/CMD_data_da.ipynb#W5sdnNjb2RlLXJlbW90ZQ%3D%3D?line=1'>2</a>\u001b[0m fmaps \u001b[39m=\u001b[39m [\u001b[39m'\u001b[39m\u001b[39mmaps_T_TNG.npy\u001b[39m\u001b[39m'\u001b[39m]\n\u001b[1;32m      <a href='vscode-notebook-cell://ssh-remote%2Blaregencia/home/jingyue/CMD/CMD_data_da.ipynb#W5sdnNjb2RlLXJlbW90ZQ%3D%3D?line=2'>3</a>\u001b[0m fparams \u001b[39m=\u001b[39m \u001b[39m'\u001b[39m\u001b[39m2D_maps/data/params_LH_IllustrisTNG.txt\u001b[39m\u001b[39m'\u001b[39m\n\u001b[0;32m----> <a href='vscode-notebook-cell://ssh-remote%2Blaregencia/home/jingyue/CMD/CMD_data_da.ipynb#W5sdnNjb2RlLXJlbW90ZQ%3D%3D?line=3'>4</a>\u001b[0m TNG_train_loader \u001b[39m=\u001b[39m create_dataset_multifield(\u001b[39m'\u001b[39;49m\u001b[39mtrain\u001b[39;49m\u001b[39m'\u001b[39;49m, seed, fmaps, fparams, batch_size, splits, fmaps_norm,\n\u001b[1;32m      <a href='vscode-notebook-cell://ssh-remote%2Blaregencia/home/jingyue/CMD/CMD_data_da.ipynb#W5sdnNjb2RlLXJlbW90ZQ%3D%3D?line=4'>5</a>\u001b[0m                                          rot_flip_in_mem\u001b[39m=\u001b[39;49mrot_flip_in_mem, verbose\u001b[39m=\u001b[39;49m\u001b[39mTrue\u001b[39;49;00m)\n\u001b[1;32m      <a href='vscode-notebook-cell://ssh-remote%2Blaregencia/home/jingyue/CMD/CMD_data_da.ipynb#W5sdnNjb2RlLXJlbW90ZQ%3D%3D?line=5'>6</a>\u001b[0m TNG_valid_loader \u001b[39m=\u001b[39m create_dataset_multifield(\u001b[39m'\u001b[39m\u001b[39mvalid\u001b[39m\u001b[39m'\u001b[39m, seed, fmaps, fparams, batch_size, splits, fmaps_norm,\n\u001b[1;32m      <a href='vscode-notebook-cell://ssh-remote%2Blaregencia/home/jingyue/CMD/CMD_data_da.ipynb#W5sdnNjb2RlLXJlbW90ZQ%3D%3D?line=6'>7</a>\u001b[0m                                          rot_flip_in_mem\u001b[39m=\u001b[39m\u001b[39mTrue\u001b[39;00m,  verbose\u001b[39m=\u001b[39m\u001b[39mTrue\u001b[39;00m)\n\u001b[1;32m      <a href='vscode-notebook-cell://ssh-remote%2Blaregencia/home/jingyue/CMD/CMD_data_da.ipynb#W5sdnNjb2RlLXJlbW90ZQ%3D%3D?line=7'>8</a>\u001b[0m \u001b[39m# TNG_test_loader = create_dataset_multifield('test', seed, fmaps, fparams, batch_size, splits, fmaps_norm,\u001b[39;00m\n\u001b[1;32m      <a href='vscode-notebook-cell://ssh-remote%2Blaregencia/home/jingyue/CMD/CMD_data_da.ipynb#W5sdnNjb2RlLXJlbW90ZQ%3D%3D?line=8'>9</a>\u001b[0m \u001b[39m#                                          rot_flip_in_mem=False, verbose=True)\u001b[39;00m\n\u001b[1;32m     <a href='vscode-notebook-cell://ssh-remote%2Blaregencia/home/jingyue/CMD/CMD_data_da.ipynb#W5sdnNjb2RlLXJlbW90ZQ%3D%3D?line=9'>10</a>\u001b[0m \n\u001b[1;32m     <a href='vscode-notebook-cell://ssh-remote%2Blaregencia/home/jingyue/CMD/CMD_data_da.ipynb#W5sdnNjb2RlLXJlbW90ZQ%3D%3D?line=10'>11</a>\u001b[0m \u001b[39m# load SIMBA dataset (target)\u001b[39;00m\n",
      "File \u001b[0;32m~/CMD/dataloader.py:13\u001b[0m, in \u001b[0;36mcreate_dataset_multifield\u001b[0;34m(mode, seed, fmaps, fparams, batch_size, splits, fmaps_norm, rot_flip_in_mem, shuffle, verbose, simulation)\u001b[0m\n\u001b[1;32m     11\u001b[0m     data_set \u001b[39m=\u001b[39m make_dataset_multifield(mode, seed, fmaps, fparams, splits, fmaps_norm, verbose, simulation)\n\u001b[1;32m     12\u001b[0m \u001b[39melse\u001b[39;00m:\n\u001b[0;32m---> 13\u001b[0m     data_set \u001b[39m=\u001b[39m make_dataset_multifield2(mode, seed, fmaps, fparams, splits, fmaps_norm, verbose, simulation)\n\u001b[1;32m     15\u001b[0m data_loader \u001b[39m=\u001b[39m DataLoader(dataset\u001b[39m=\u001b[39mdata_set, batch_size\u001b[39m=\u001b[39mbatch_size, shuffle\u001b[39m=\u001b[39mshuffle)\n\u001b[1;32m     16\u001b[0m \u001b[39mreturn\u001b[39;00m data_loader\n",
      "File \u001b[0;32m~/CMD/dataloader.py:238\u001b[0m, in \u001b[0;36mmake_dataset_multifield2.__init__\u001b[0;34m(self, mode, seed, fmaps, fparams, splits, fmaps_norm, verbose, simulation)\u001b[0m\n\u001b[1;32m    235\u001b[0m     \u001b[39mdel\u001b[39;00m data_norm\n\u001b[1;32m    237\u001b[0m data_c \u001b[39m=\u001b[39m (data_c \u001b[39m-\u001b[39m mean)\u001b[39m/\u001b[39mstd\n\u001b[0;32m--> 238\u001b[0m \u001b[39mif\u001b[39;00m verbose:  \u001b[39mprint\u001b[39m(\u001b[39m'\u001b[39m\u001b[39m%.3f\u001b[39;00m\u001b[39m < F(all|norm) < \u001b[39m\u001b[39m%.3f\u001b[39;00m\u001b[39m'\u001b[39m\u001b[39m%\u001b[39m(np\u001b[39m.\u001b[39mmin(data_c), np\u001b[39m.\u001b[39;49mmax(data_c)))\n\u001b[1;32m    240\u001b[0m \u001b[39m# keep only the data of the chosen set\u001b[39;00m\n\u001b[1;32m    241\u001b[0m data[:,channel,:,:] \u001b[39m=\u001b[39m data_c[indexes]\n",
      "File \u001b[0;32m<__array_function__ internals>:180\u001b[0m, in \u001b[0;36mamax\u001b[0;34m(*args, **kwargs)\u001b[0m\n",
      "File \u001b[0;32m~/anaconda3/envs/ce2/lib/python3.8/site-packages/numpy/core/fromnumeric.py:2791\u001b[0m, in \u001b[0;36mamax\u001b[0;34m(a, axis, out, keepdims, initial, where)\u001b[0m\n\u001b[1;32m   2675\u001b[0m \u001b[39m@array_function_dispatch\u001b[39m(_amax_dispatcher)\n\u001b[1;32m   2676\u001b[0m \u001b[39mdef\u001b[39;00m \u001b[39mamax\u001b[39m(a, axis\u001b[39m=\u001b[39m\u001b[39mNone\u001b[39;00m, out\u001b[39m=\u001b[39m\u001b[39mNone\u001b[39;00m, keepdims\u001b[39m=\u001b[39mnp\u001b[39m.\u001b[39m_NoValue, initial\u001b[39m=\u001b[39mnp\u001b[39m.\u001b[39m_NoValue,\n\u001b[1;32m   2677\u001b[0m          where\u001b[39m=\u001b[39mnp\u001b[39m.\u001b[39m_NoValue):\n\u001b[1;32m   2678\u001b[0m \u001b[39m    \u001b[39m\u001b[39m\"\"\"\u001b[39;00m\n\u001b[1;32m   2679\u001b[0m \u001b[39m    Return the maximum of an array or maximum along an axis.\u001b[39;00m\n\u001b[1;32m   2680\u001b[0m \n\u001b[0;32m   (...)\u001b[0m\n\u001b[1;32m   2789\u001b[0m \u001b[39m    5\u001b[39;00m\n\u001b[1;32m   2790\u001b[0m \u001b[39m    \"\"\"\u001b[39;00m\n\u001b[0;32m-> 2791\u001b[0m     \u001b[39mreturn\u001b[39;00m _wrapreduction(a, np\u001b[39m.\u001b[39;49mmaximum, \u001b[39m'\u001b[39;49m\u001b[39mmax\u001b[39;49m\u001b[39m'\u001b[39;49m, axis, \u001b[39mNone\u001b[39;49;00m, out,\n\u001b[1;32m   2792\u001b[0m                           keepdims\u001b[39m=\u001b[39;49mkeepdims, initial\u001b[39m=\u001b[39;49minitial, where\u001b[39m=\u001b[39;49mwhere)\n",
      "File \u001b[0;32m~/anaconda3/envs/ce2/lib/python3.8/site-packages/numpy/core/fromnumeric.py:86\u001b[0m, in \u001b[0;36m_wrapreduction\u001b[0;34m(obj, ufunc, method, axis, dtype, out, **kwargs)\u001b[0m\n\u001b[1;32m     83\u001b[0m         \u001b[39melse\u001b[39;00m:\n\u001b[1;32m     84\u001b[0m             \u001b[39mreturn\u001b[39;00m reduction(axis\u001b[39m=\u001b[39maxis, out\u001b[39m=\u001b[39mout, \u001b[39m*\u001b[39m\u001b[39m*\u001b[39mpasskwargs)\n\u001b[0;32m---> 86\u001b[0m \u001b[39mreturn\u001b[39;00m ufunc\u001b[39m.\u001b[39;49mreduce(obj, axis, dtype, out, \u001b[39m*\u001b[39;49m\u001b[39m*\u001b[39;49mpasskwargs)\n",
      "\u001b[0;31mKeyboardInterrupt\u001b[0m: "
     ]
    }
   ],
   "source": [
    "# load TNG dataset (source)\n",
    "fmaps = ['maps_T_TNG.npy']\n",
    "fparams = '2D_maps/data/params_LH_IllustrisTNG.txt'\n",
    "TNG_train_loader = create_dataset_multifield('train', seed, fmaps, fparams, batch_size, splits, fmaps_norm,\n",
    "                                         rot_flip_in_mem=rot_flip_in_mem, verbose=True)\n",
    "TNG_valid_loader = create_dataset_multifield('valid', seed, fmaps, fparams, batch_size, splits, fmaps_norm,\n",
    "                                         rot_flip_in_mem=True,  verbose=True)\n",
    "# TNG_test_loader = create_dataset_multifield('test', seed, fmaps, fparams, batch_size, splits, fmaps_norm,\n",
    "#                                          rot_flip_in_mem=False, verbose=True)\n",
    "\n",
    "# load SIMBA dataset (target)\n",
    "fmaps = ['maps_T_SIMBA.npy']\n",
    "fparams = '2D_maps/data/params_LH_SIMBA.txt'\n",
    "SIMBA_train_loader = create_dataset_multifield('train', seed, fmaps, fparams, batch_size, splits, fmaps_norm,\n",
    "                                         rot_flip_in_mem=rot_flip_in_mem, verbose=True)\n",
    "SIMBA_valid_loader = create_dataset_multifield('valid', seed, fmaps, fparams, batch_size, splits, fmaps_norm,\n",
    "                                         rot_flip_in_mem=True,  verbose=True)\n",
    "# SIMBA_test_loader  = create_dataset_multifield('test', seed, fmaps, fparams, batch_size, splits, fmaps_norm,\n",
    "#                                          rot_flip_in_mem=False, verbose=True)"
   ]
  },
  {
   "cell_type": "code",
   "execution_count": 6,
   "metadata": {},
   "outputs": [],
   "source": [
    "train_source_loader = TNG_train_loader\n",
    "train_target_loader = SIMBA_train_loader\n",
    "val_source_loader = TNG_valid_loader\n",
    "val_target_loader = SIMBA_valid_loader\n",
    "\n",
    "# train_source_loader = SIMBA_train_loader\n",
    "# train_target_loader = TNG_train_loader\n",
    "# val_source_loader = SIMBA_valid_loader\n",
    "# val_target_loader = TNG_valid_loader\n",
    "\n",
    "train_source_iter = ForeverDataIterator(train_source_loader)\n",
    "train_target_iter = ForeverDataIterator(train_target_loader)"
   ]
  },
  {
   "cell_type": "markdown",
   "metadata": {},
   "source": [
    "## Load Model"
   ]
  },
  {
   "cell_type": "code",
   "execution_count": 6,
   "metadata": {},
   "outputs": [],
   "source": [
    "# CNN\n",
    "channels   = 1\n",
    "hidden     = 11 \n",
    "dr         = 0.4\n",
    "\n",
    "# factors = ['Omega', 'sigma', 'ASN1', 'ASN2', 'AGN1', 'AGN2']\n",
    "# factors_error = ['Omega_err', 'sigma_err', 'ASN1_err', 'ASN2_err', 'AGN1_err', 'AGN2_err']\n",
    "# factors = ['Omega', 'sigma']\n",
    "# factors_error = ['Omega_err', 'sigma_err']\n",
    "factors = ['Omega']\n",
    "# factors_error = ['Omega_err']\n",
    "factors_error = []\n",
    "num_factors = len(factors) + len(factors_error)\n",
    "\n",
    "backbone_type = 'VGG' # 'CNN', 'VGG', 'VGG_pretrain'"
   ]
  },
  {
   "cell_type": "code",
   "execution_count": 7,
   "metadata": {},
   "outputs": [
    {
     "name": "stderr",
     "output_type": "stream",
     "text": [
      "Using cache found in /home/jingyue/.cache/torch/hub/pytorch_vision_v0.10.0\n",
      "/home/jingyue/anaconda3/envs/ce2/lib/python3.8/site-packages/torchvision/models/_utils.py:208: UserWarning: The parameter 'pretrained' is deprecated since 0.13 and will be removed in 0.15, please use 'weights' instead.\n",
      "  warnings.warn(\n",
      "/home/jingyue/anaconda3/envs/ce2/lib/python3.8/site-packages/torchvision/models/_utils.py:223: UserWarning: Arguments other than a weight enum or `None` for 'weights' are deprecated since 0.13 and will be removed in 0.15. The current behavior is equivalent to passing `weights=VGG13_Weights.IMAGENET1K_V1`. You can also use `weights=VGG13_Weights.DEFAULT` to get the most up-to-date weights.\n",
      "  warnings.warn(msg)\n"
     ]
    }
   ],
   "source": [
    "if backbone_type == 'CNN':\n",
    "    backbone = model_o3_err_da(hidden, dr, channels)\n",
    "    bottleneck = nn.Sequential(\n",
    "        nn.AdaptiveAvgPool2d(output_size=(1, 1)),\n",
    "        nn.Flatten(),\n",
    "        nn.Linear(128*hidden, 256),\n",
    "        nn.ReLU()\n",
    "    )\n",
    "elif backbone_type == 'VGG':\n",
    "    model = torch.hub.load('pytorch/vision:v0.10.0', 'vgg13', pretrained=True) # out_features=1000\n",
    "    backbone = model.features\n",
    "    # backbone = models.__dict__['resnet18'](pretrained=True)\n",
    "    bottleneck = nn.Sequential(\n",
    "        nn.AdaptiveAvgPool2d(output_size=(1, 1)),\n",
    "        nn.Flatten(),\n",
    "        nn.Linear(512, 256),\n",
    "        nn.ReLU(),\n",
    "        nn.Dropout(0.5)\n",
    "    )\n",
    "elif backbone_type == 'VGG_pretrain':\n",
    "    backbone = torch.hub.load('pytorch/vision:v0.10.0', 'vgg13', pretrained=True) # out_features=1000\n",
    "    backbone.classifier[6] = nn.Linear(4096, num_factors)\n",
    "    checkpoint = torch.load('best_weights_vgg13.pt', map_location=torch.device(device))\n",
    "    backbone.load_state_dict(checkpoint)\n",
    "    backbone.classifier[6] = nn.Linear(4096, 1000)\n",
    "    bottleneck = nn.Sequential(\n",
    "        # nn.AdaptiveAvgPool2d(output_size=(1, 1)),\n",
    "        # nn.Flatten(),\n",
    "        nn.Linear(1000, 256),\n",
    "        nn.ReLU(),\n",
    "        nn.Dropout(0.5)\n",
    "    )\n",
    "\n",
    "head = nn.Sequential(\n",
    "    nn.Linear(256, num_factors),\n",
    "    # nn.Sigmoid()\n",
    ")\n",
    "regressor = Regressor(backbone=backbone, num_factors=num_factors, \n",
    "                    bottleneck=bottleneck, bottleneck_dim=256, \n",
    "                    head=head).to(device)\n",
    "# print(regressor)\n",
    "domain_discri = DomainDiscriminator(in_feature=regressor.features_dim, hidden_size=1024).to(device)"
   ]
  },
  {
   "cell_type": "markdown",
   "metadata": {},
   "source": [
    "## Training"
   ]
  },
  {
   "cell_type": "code",
   "execution_count": 8,
   "metadata": {},
   "outputs": [],
   "source": [
    "# === define optimizer and lr scheduler ===\n",
    "lr=0.1\n",
    "momentum=0.9\n",
    "wd=0.001\n",
    "lr_gamma=0.0001\n",
    "lr_decay=0.75\n",
    "# optimizer = SGD(regressor.get_parameters() + domain_discri.get_parameters(), lr, momentum=momentum,\n",
    "#                 weight_decay=wd, nesterov=True)\n",
    "# lr_scheduler = LambdaLR(optimizer, lambda x: lr * (1. + lr_gamma * float(x)) ** (-lr_decay))\n",
    "\n",
    "# max_lr = 0.0036\n",
    "max_lr = 0.00001\n",
    "beta1 = 0.5\n",
    "beta2 = 0.999\n",
    "wd = 0.001\n",
    "optimizer = torch.optim.AdamW(regressor.parameters(), lr=max_lr, weight_decay=wd, betas=(beta1, beta2))\n",
    "lr_scheduler = torch.optim.lr_scheduler.ReduceLROnPlateau(optimizer, 'min', factor=0.3, patience=10)\n",
    "\n",
    "# === define loss function ===\n",
    "dann = DomainAdversarialLoss(domain_discri).to(device)\n",
    "trade_off=0.01  # 0.001\n",
    "\n",
    "epochs=100\n",
    "print_freq=100\n",
    "iters_per_epoch=212"
   ]
  },
  {
   "cell_type": "code",
   "execution_count": 9,
   "metadata": {},
   "outputs": [],
   "source": [
    "def train(train_source_iter: ForeverDataIterator, train_target_iter: ForeverDataIterator,\n",
    "          model: Regressor, domain_adv: DomainAdversarialLoss, optimizer: SGD,\n",
    "          lr_scheduler: LambdaLR, epoch: int, trade_off: float, loss_type: str):\n",
    "    # mse_losses = AverageMeter('MSE Loss', ':6.3f')\n",
    "    cmd_losses_s = AverageMeter('CMD Loss (s)', ':6.3e')\n",
    "    cmd_losses_t = AverageMeter('CMD Loss (t)', ':6.3e')\n",
    "    dann_losses = AverageMeter('DANN Loss', ':6.3f')\n",
    "    domain_accs = AverageMeter('Domain Acc', ':3.1f')\n",
    "    # mae_losses_s = AverageMeter('MAE Loss (s)', ':6.3f')\n",
    "    # mae_losses_t = AverageMeter('MAE Loss (t)', ':6.3f')\n",
    "\n",
    "    progress = ProgressMeter(\n",
    "        len(train_source_loader),\n",
    "        [cmd_losses_s, cmd_losses_t, dann_losses, domain_accs],\n",
    "        prefix=\"Epoch: [{}]\".format(epoch))\n",
    "\n",
    "    # switch to train mode\n",
    "    model.train()\n",
    "    domain_adv.train()\n",
    "\n",
    "    for i in range(iters_per_epoch):\n",
    "        optimizer.zero_grad()\n",
    "\n",
    "        x_s, labels_s = next(train_source_iter)\n",
    "        x_s = x_s.to(device)\n",
    "        labels_s = labels_s[:, :len(factors)].to(device).float()\n",
    "        \n",
    "        x_t, labels_t = next(train_target_iter)\n",
    "        x_t = x_t.to(device)\n",
    "        labels_t = labels_t[:, :len(factors)].to(device).float()\n",
    "        \n",
    "        if 'VGG' in backbone_type:\n",
    "            x_s = x_s.repeat(1, 3, 1, 1)\n",
    "            x_t = x_t.repeat(1, 3, 1, 1)\n",
    "\n",
    "        # compute output\n",
    "        y_s, f_s = model(x_s)\n",
    "        y_t, f_t = model(x_t)\n",
    "\n",
    "        # print(f_s.shape)\n",
    "        # print(f_t.shape)\n",
    "\n",
    "        if loss_type != 'mean':\n",
    "            y_s_m = y_s[:, :len(factors)]\n",
    "            y_s_e = y_s[:, len(factors):]\n",
    "            loss1_s = torch.mean((y_s_m - labels_s)**2,                axis=0)\n",
    "            loss2_s = torch.mean(((y_s_m - labels_s)**2 - y_s_e**2)**2, axis=0)\n",
    "            cmd_loss_s  = torch.mean(torch.log(loss1_s) + torch.log(loss2_s))\n",
    "\n",
    "            y_t_m = y_t[:, :len(factors)]\n",
    "            y_t_e = y_t[:, len(factors):]\n",
    "            loss1_t = torch.mean((y_t_m - labels_t)**2,                axis=0)\n",
    "            loss2_t = torch.mean(((y_t_m - labels_t)**2 - y_t_e**2)**2, axis=0)\n",
    "            cmd_loss_t  = torch.mean(torch.log(loss1_t) + torch.log(loss2_t))\n",
    "        else:\n",
    "            y_s_m = y_s[:, :len(factors)]\n",
    "            cmd_loss_s = torch.mean((y_s_m - labels_s)**2,                axis=0)\n",
    "\n",
    "            y_t_m = y_t[:, :len(factors)]\n",
    "            cmd_loss_t = torch.mean((y_t_m - labels_t)**2,                axis=0)\n",
    "\n",
    "        transfer_loss = domain_adv(f_s, f_t)\n",
    "        loss = cmd_loss_s + transfer_loss * trade_off\n",
    "        # loss = cmd_loss_s\n",
    "        domain_acc = domain_adv.domain_discriminator_accuracy\n",
    "\n",
    "        # mse_loss = F.mse_loss(y_s, labels_s)\n",
    "        # mae_loss_s = F.l1_loss(y_s, labels_s)\n",
    "        # mae_loss_t = F.l1_loss(y_t, labels_t)\n",
    "        # transfer_loss = domain_adv(f_s, f_t)\n",
    "        # loss = mse_loss + transfer_loss * trade_off\n",
    "        # domain_acc = domain_adv.domain_discriminator_accuracy\n",
    "\n",
    "        # mse_losses.update(mse_loss.item(), x_s.size(0))\n",
    "        cmd_losses_s.update(cmd_loss_s.item(), x_s.size(0))\n",
    "        cmd_losses_t.update(cmd_loss_t.item(), x_s.size(0))\n",
    "        dann_losses.update(transfer_loss.item(), x_s.size(0))\n",
    "        # mae_losses_s.update(mae_loss_s.item(), x_s.size(0))\n",
    "        # mae_losses_t.update(mae_loss_t.item(), x_s.size(0))\n",
    "        domain_accs.update(domain_acc.item(), x_s.size(0))\n",
    "\n",
    "        # compute gradient and do SGD step\n",
    "        loss.backward()\n",
    "        optimizer.step()\n",
    "        # lr_scheduler.step()\n",
    "\n",
    "        if i % print_freq == 0:\n",
    "            progress.display(i)\n"
   ]
  },
  {
   "cell_type": "code",
   "execution_count": 10,
   "metadata": {},
   "outputs": [],
   "source": [
    "def validate(val_loader, model, factors, device, loss_type):\n",
    "    cmd_losses_s = AverageMeter('CMD Loss (s)', ':6.3e')\n",
    "    # mae_losses = [AverageMeter('mae {}'.format(factor), ':6.3f') for factor in factors]\n",
    "    progress = ProgressMeter(\n",
    "        len(val_loader), [cmd_losses_s], prefix='Test: ')\n",
    "\n",
    "    num_maps = 0\n",
    "    for x,y in val_loader:\n",
    "        num_maps += x.shape[0]\n",
    "    params_true = np.zeros((num_maps, len(factors)), dtype=np.float32)\n",
    "    params_NN   = np.zeros((num_maps, len(factors)), dtype=np.float32)\n",
    "    points = 0\n",
    "\n",
    "    # switch to evaluate mode\n",
    "    model.eval()\n",
    "\n",
    "    with torch.no_grad():\n",
    "        for i, (images, target) in enumerate(val_loader):\n",
    "            x_s = images.to(device)\n",
    "            labels_s = target[:, :len(factors)].to(device).float()\n",
    "\n",
    "            if 'VGG' in backbone_type:\n",
    "                x_s = x_s.repeat(1, 3, 1, 1)\n",
    "\n",
    "            # compute output\n",
    "            y_s = model(x_s)\n",
    "\n",
    "            if loss_type != 'mean':\n",
    "                y_s_m = y_s[:, :len(factors)]\n",
    "                y_s_e = y_s[:, len(factors):]\n",
    "                loss1_s = torch.mean((y_s_m - labels_s)**2,                axis=0)\n",
    "                loss2_s = torch.mean(((y_s_m - labels_s)**2 - y_s_e**2)**2, axis=0)\n",
    "                cmd_loss_s  = torch.mean(torch.log(loss1_s) + torch.log(loss2_s))\n",
    "            else:\n",
    "                y_s_m = y_s[:, :len(factors)]\n",
    "                cmd_loss_s = torch.mean((y_s_m - labels_s)**2,                axis=0)\n",
    "\n",
    "            cmd_losses_s.update(cmd_loss_s.item(), x_s.size(0))\n",
    "            \n",
    "            # for j in range(len(factors)):\n",
    "            #     mae_loss = F.l1_loss(output[:, j], target[:, j])\n",
    "            #     mae_losses[j].update(mae_loss.item(), images.size(0))\n",
    "\n",
    "            if i % (len(val_loader)-1) == 0:\n",
    "                progress.display(i)\n",
    "\n",
    "            params_true[points:points+x_s.shape[0]] = labels_s.cpu().numpy()\n",
    "            params_NN[points:points+x_s.shape[0]]   = y_s_m.cpu().numpy()\n",
    "            points    += x_s.shape[0]\n",
    "\n",
    "        # for i, factor in enumerate(factors):\n",
    "        #     print(\"{} MAE {mae.avg:6.3f}\".format(factor, mae=mae_losses[i]))\n",
    "        # mean_mae = sum(l.avg for l in mae_losses) / len(factors)\n",
    "\n",
    "    minimum = np.array([0.1, 0.6, 0.25, 0.25, 0.5, 0.5])[:len(factors)]\n",
    "    maximum = np.array([0.5, 1.0, 4.00, 4.00, 2.0, 2.0])[:len(factors)]\n",
    "    params_true = params_true*(maximum - minimum) + minimum\n",
    "    params_NN   = params_NN*(maximum - minimum) + minimum\n",
    "    \n",
    "    rel_error = np.sqrt(np.mean((params_true - params_NN)**2/params_true**2, axis=0))\n",
    "    \n",
    "    return cmd_losses_s.avg, rel_error\n"
   ]
  },
  {
   "cell_type": "code",
   "execution_count": 12,
   "metadata": {},
   "outputs": [
    {
     "name": "stdout",
     "output_type": "stream",
     "text": [
      "Epoch: [0][  0/211]\tCMD Loss (s) 3.064e-01 (3.064e-01)\tCMD Loss (t) 3.529e-01 (3.529e-01)\tDANN Loss  0.754 ( 0.754)\tDomain Acc 46.1 (46.1)\n",
      "Epoch: [0][100/211]\tCMD Loss (s) 1.205e-02 (5.139e-02)\tCMD Loss (t) 9.687e-02 (1.553e-01)\tDANN Loss  0.716 ( 0.735)\tDomain Acc 49.2 (47.0)\n",
      "Epoch: [0][200/211]\tCMD Loss (s) 8.026e-03 (3.381e-02)\tCMD Loss (t) 4.609e-02 (1.147e-01)\tDANN Loss  0.699 ( 0.735)\tDomain Acc 53.1 (47.7)\n",
      "Test: [ 0/94]\tCMD Loss (s) 6.311e-03 (6.311e-03)\n",
      "Test: [93/94]\tCMD Loss (s) 5.148e-03 (7.292e-03)\n",
      "Test: [ 0/94]\tCMD Loss (s) 9.495e-02 (9.495e-02)\n",
      "Test: [93/94]\tCMD Loss (s) 7.389e-02 (6.430e-02)\n",
      "Source: mean MAE 7.292e-03 best MAE 7.292e-03 Omega_m_RE  0.119\n",
      "Target: mean MAE 6.430e-02 best MAE 6.430e-02 Omega_m_RE  0.359\n",
      "Epoch: [1][  0/211]\tCMD Loss (s) 1.641e-02 (1.641e-02)\tCMD Loss (t) 7.014e-02 (7.014e-02)\tDANN Loss  0.752 ( 0.752)\tDomain Acc 47.7 (47.7)\n",
      "Epoch: [1][100/211]\tCMD Loss (s) 1.295e-02 (1.202e-02)\tCMD Loss (t) 4.033e-02 (5.249e-02)\tDANN Loss  0.766 ( 0.754)\tDomain Acc 44.5 (47.4)\n",
      "Epoch: [1][200/211]\tCMD Loss (s) 1.090e-02 (1.172e-02)\tCMD Loss (t) 5.273e-02 (5.079e-02)\tDANN Loss  0.831 ( 0.762)\tDomain Acc 40.6 (46.8)\n",
      "Test: [ 0/94]\tCMD Loss (s) 7.605e-03 (7.605e-03)\n",
      "Test: [93/94]\tCMD Loss (s) 4.686e-03 (6.313e-03)\n",
      "Test: [ 0/94]\tCMD Loss (s) 6.229e-02 (6.229e-02)\n",
      "Test: [93/94]\tCMD Loss (s) 6.298e-02 (6.334e-02)\n",
      "Source: mean MAE 6.313e-03 best MAE 6.313e-03 Omega_m_RE  0.112\n",
      "Target: mean MAE 6.334e-02 best MAE 6.334e-02 Omega_m_RE  0.433\n",
      "Epoch: [2][  0/211]\tCMD Loss (s) 1.274e-02 (1.274e-02)\tCMD Loss (t) 6.722e-02 (6.722e-02)\tDANN Loss  0.785 ( 0.785)\tDomain Acc 50.0 (50.0)\n",
      "Epoch: [2][100/211]\tCMD Loss (s) 6.750e-03 (9.885e-03)\tCMD Loss (t) 6.657e-02 (5.872e-02)\tDANN Loss  0.853 ( 0.812)\tDomain Acc 32.8 (41.5)\n",
      "Epoch: [2][200/211]\tCMD Loss (s) 7.747e-03 (9.743e-03)\tCMD Loss (t) 1.086e-01 (6.369e-02)\tDANN Loss  0.862 ( 0.832)\tDomain Acc 40.6 (39.4)\n",
      "Test: [ 0/94]\tCMD Loss (s) 4.977e-03 (4.977e-03)\n",
      "Test: [93/94]\tCMD Loss (s) 4.646e-03 (5.228e-03)\n",
      "Test: [ 0/94]\tCMD Loss (s) 7.116e-02 (7.116e-02)\n",
      "Test: [93/94]\tCMD Loss (s) 7.082e-02 (7.511e-02)\n",
      "Source: mean MAE 5.228e-03 best MAE 5.228e-03 Omega_m_RE  0.088\n",
      "Target: mean MAE 7.511e-02 best MAE 6.334e-02 Omega_m_RE  0.478\n",
      "Epoch: [3][  0/211]\tCMD Loss (s) 7.627e-03 (7.627e-03)\tCMD Loss (t) 6.499e-02 (6.499e-02)\tDANN Loss  0.903 ( 0.903)\tDomain Acc 29.7 (29.7)\n",
      "Epoch: [3][100/211]\tCMD Loss (s) 9.410e-03 (8.724e-03)\tCMD Loss (t) 9.218e-02 (9.650e-02)\tDANN Loss  0.937 ( 0.927)\tDomain Acc 25.8 (27.5)\n",
      "Epoch: [3][200/211]\tCMD Loss (s) 1.215e-02 (8.669e-03)\tCMD Loss (t) 1.146e-01 (1.006e-01)\tDANN Loss  1.032 ( 0.968)\tDomain Acc 16.4 (23.1)\n",
      "Test: [ 0/94]\tCMD Loss (s) 4.518e-03 (4.518e-03)\n",
      "Test: [93/94]\tCMD Loss (s) 3.081e-03 (4.240e-03)\n",
      "Test: [ 0/94]\tCMD Loss (s) 6.815e-02 (6.815e-02)\n",
      "Test: [93/94]\tCMD Loss (s) 8.483e-02 (9.033e-02)\n",
      "Source: mean MAE 4.240e-03 best MAE 4.240e-03 Omega_m_RE  0.089\n",
      "Target: mean MAE 9.033e-02 best MAE 6.334e-02 Omega_m_RE  0.572\n",
      "Epoch: [4][  0/211]\tCMD Loss (s) 8.032e-03 (8.032e-03)\tCMD Loss (t) 1.051e-01 (1.051e-01)\tDANN Loss  1.037 ( 1.037)\tDomain Acc 18.0 (18.0)\n",
      "Epoch: [4][100/211]\tCMD Loss (s) 9.029e-03 (8.067e-03)\tCMD Loss (t) 1.070e-01 (1.109e-01)\tDANN Loss  1.136 ( 1.101)\tDomain Acc 15.6 (14.5)\n",
      "Epoch: [4][200/211]\tCMD Loss (s) 7.987e-03 (7.915e-03)\tCMD Loss (t) 1.217e-01 (1.131e-01)\tDANN Loss  1.190 ( 1.136)\tDomain Acc 14.1 (13.8)\n",
      "Test: [ 0/94]\tCMD Loss (s) 4.721e-03 (4.721e-03)\n",
      "Test: [93/94]\tCMD Loss (s) 3.624e-03 (4.364e-03)\n",
      "Test: [ 0/94]\tCMD Loss (s) 5.808e-02 (5.808e-02)\n",
      "Test: [93/94]\tCMD Loss (s) 5.097e-02 (5.932e-02)\n",
      "Source: mean MAE 4.364e-03 best MAE 4.240e-03 Omega_m_RE  0.080\n",
      "Target: mean MAE 5.932e-02 best MAE 5.932e-02 Omega_m_RE  0.503\n",
      "Epoch: [5][  0/211]\tCMD Loss (s) 7.872e-03 (7.872e-03)\tCMD Loss (t) 1.213e-01 (1.213e-01)\tDANN Loss  1.187 ( 1.187)\tDomain Acc 16.4 (16.4)\n",
      "Epoch: [5][100/211]\tCMD Loss (s) 7.245e-03 (7.546e-03)\tCMD Loss (t) 1.206e-01 (1.210e-01)\tDANN Loss  1.274 ( 1.237)\tDomain Acc 9.4 (12.6)\n",
      "Epoch: [5][200/211]\tCMD Loss (s) 8.194e-03 (7.360e-03)\tCMD Loss (t) 1.047e-01 (1.203e-01)\tDANN Loss  1.303 ( 1.262)\tDomain Acc 10.2 (11.9)\n",
      "Test: [ 0/94]\tCMD Loss (s) 4.968e-03 (4.968e-03)\n",
      "Test: [93/94]\tCMD Loss (s) 2.142e-03 (4.248e-03)\n",
      "Test: [ 0/94]\tCMD Loss (s) 5.769e-02 (5.769e-02)\n",
      "Test: [93/94]\tCMD Loss (s) 5.590e-02 (5.828e-02)\n",
      "Source: mean MAE 4.248e-03 best MAE 4.240e-03 Omega_m_RE  0.076\n",
      "Target: mean MAE 5.828e-02 best MAE 5.828e-02 Omega_m_RE  0.494\n",
      "Epoch: [6][  0/211]\tCMD Loss (s) 7.396e-03 (7.396e-03)\tCMD Loss (t) 1.399e-01 (1.399e-01)\tDANN Loss  1.350 ( 1.350)\tDomain Acc 10.2 (10.2)\n",
      "Epoch: [6][100/211]\tCMD Loss (s) 1.099e-02 (7.378e-03)\tCMD Loss (t) 2.087e-01 (1.368e-01)\tDANN Loss  1.339 ( 1.322)\tDomain Acc 10.2 (9.8)\n",
      "Epoch: [6][200/211]\tCMD Loss (s) 7.644e-03 (7.313e-03)\tCMD Loss (t) 2.139e-01 (1.363e-01)\tDANN Loss  1.367 ( 1.332)\tDomain Acc 9.4 (9.3)\n",
      "Test: [ 0/94]\tCMD Loss (s) 6.406e-03 (6.406e-03)\n",
      "Test: [93/94]\tCMD Loss (s) 2.969e-03 (4.696e-03)\n",
      "Test: [ 0/94]\tCMD Loss (s) 9.357e-02 (9.357e-02)\n",
      "Test: [93/94]\tCMD Loss (s) 7.790e-02 (8.249e-02)\n",
      "Source: mean MAE 4.696e-03 best MAE 4.240e-03 Omega_m_RE  0.079\n",
      "Target: mean MAE 8.249e-02 best MAE 5.828e-02 Omega_m_RE  0.563\n",
      "Epoch: [7][  0/211]\tCMD Loss (s) 7.232e-03 (7.232e-03)\tCMD Loss (t) 1.368e-01 (1.368e-01)\tDANN Loss  1.341 ( 1.341)\tDomain Acc 7.8 (7.8)\n",
      "Epoch: [7][100/211]\tCMD Loss (s) 9.639e-03 (6.669e-03)\tCMD Loss (t) 1.952e-01 (1.572e-01)\tDANN Loss  1.401 ( 1.370)\tDomain Acc 6.2 (7.7)\n",
      "Epoch: [7][200/211]\tCMD Loss (s) 6.345e-03 (6.873e-03)\tCMD Loss (t) 1.734e-01 (1.670e-01)\tDANN Loss  1.370 ( 1.379)\tDomain Acc 8.6 (7.3)\n",
      "Test: [ 0/94]\tCMD Loss (s) 5.014e-03 (5.014e-03)\n",
      "Test: [93/94]\tCMD Loss (s) 5.563e-03 (5.585e-03)\n",
      "Test: [ 0/94]\tCMD Loss (s) 8.163e-02 (8.163e-02)\n",
      "Test: [93/94]\tCMD Loss (s) 7.225e-02 (7.177e-02)\n",
      "Source: mean MAE 5.585e-03 best MAE 4.240e-03 Omega_m_RE  0.083\n",
      "Target: mean MAE 7.177e-02 best MAE 5.828e-02 Omega_m_RE  0.522\n",
      "Epoch: [8][  0/211]\tCMD Loss (s) 1.182e-02 (1.182e-02)\tCMD Loss (t) 1.685e-01 (1.685e-01)\tDANN Loss  1.417 ( 1.417)\tDomain Acc 6.2 (6.2)\n",
      "Epoch: [8][100/211]\tCMD Loss (s) 5.705e-03 (6.579e-03)\tCMD Loss (t) 2.022e-01 (1.829e-01)\tDANN Loss  1.445 ( 1.408)\tDomain Acc 1.6 (5.7)\n",
      "Epoch: [8][200/211]\tCMD Loss (s) 4.408e-03 (6.557e-03)\tCMD Loss (t) 2.540e-01 (2.002e-01)\tDANN Loss  1.465 ( 1.422)\tDomain Acc 4.7 (5.1)\n",
      "Test: [ 0/94]\tCMD Loss (s) 4.590e-03 (4.590e-03)\n",
      "Test: [93/94]\tCMD Loss (s) 3.061e-03 (5.077e-03)\n",
      "Test: [ 0/94]\tCMD Loss (s) 1.493e-01 (1.493e-01)\n",
      "Test: [93/94]\tCMD Loss (s) 1.319e-01 (1.299e-01)\n",
      "Source: mean MAE 5.077e-03 best MAE 4.240e-03 Omega_m_RE  0.081\n",
      "Target: mean MAE 1.299e-01 best MAE 5.828e-02 Omega_m_RE  0.725\n",
      "Epoch: [9][  0/211]\tCMD Loss (s) 3.952e-03 (3.952e-03)\tCMD Loss (t) 1.452e-01 (1.452e-01)\tDANN Loss  1.469 ( 1.469)\tDomain Acc 2.3 (2.3)\n",
      "Epoch: [9][100/211]\tCMD Loss (s) 9.714e-03 (6.463e-03)\tCMD Loss (t) 2.272e-01 (2.459e-01)\tDANN Loss  1.460 ( 1.462)\tDomain Acc 2.3 (2.6)\n",
      "Epoch: [9][200/211]\tCMD Loss (s) 6.580e-03 (6.465e-03)\tCMD Loss (t) 2.785e-01 (2.636e-01)\tDANN Loss  1.451 ( 1.475)\tDomain Acc 2.3 (1.9)\n",
      "Test: [ 0/94]\tCMD Loss (s) 4.258e-03 (4.258e-03)\n",
      "Test: [93/94]\tCMD Loss (s) 3.627e-03 (3.691e-03)\n",
      "Test: [ 0/94]\tCMD Loss (s) 1.933e-01 (1.933e-01)\n",
      "Test: [93/94]\tCMD Loss (s) 1.977e-01 (1.895e-01)\n",
      "Source: mean MAE 3.691e-03 best MAE 3.691e-03 Omega_m_RE  0.071\n",
      "Target: mean MAE 1.895e-01 best MAE 5.828e-02 Omega_m_RE  0.851\n",
      "Epoch: [10][  0/211]\tCMD Loss (s) 5.235e-03 (5.235e-03)\tCMD Loss (t) 2.521e-01 (2.521e-01)\tDANN Loss  1.505 ( 1.505)\tDomain Acc 0.8 (0.8)\n",
      "Epoch: [10][100/211]\tCMD Loss (s) 6.292e-03 (6.135e-03)\tCMD Loss (t) 3.317e-01 (3.347e-01)\tDANN Loss  1.495 ( 1.520)\tDomain Acc 0.0 (0.7)\n",
      "Epoch: [10][200/211]\tCMD Loss (s) 7.243e-03 (6.147e-03)\tCMD Loss (t) 5.146e-01 (3.880e-01)\tDANN Loss  1.565 ( 1.532)\tDomain Acc 0.0 (0.6)\n",
      "Test: [ 0/94]\tCMD Loss (s) 1.086e-02 (1.086e-02)\n",
      "Test: [93/94]\tCMD Loss (s) 8.897e-03 (7.490e-03)\n",
      "Test: [ 0/94]\tCMD Loss (s) 2.608e-01 (2.608e-01)\n",
      "Test: [93/94]\tCMD Loss (s) 3.192e-01 (3.303e-01)\n",
      "Source: mean MAE 7.490e-03 best MAE 3.691e-03 Omega_m_RE  0.092\n",
      "Target: mean MAE 3.303e-01 best MAE 5.828e-02 Omega_m_RE  1.046\n",
      "Epoch: [11][  0/211]\tCMD Loss (s) 7.520e-03 (7.520e-03)\tCMD Loss (t) 5.307e-01 (5.307e-01)\tDANN Loss  1.559 ( 1.559)\tDomain Acc 0.0 (0.0)\n",
      "Epoch: [11][100/211]\tCMD Loss (s) 3.351e-03 (6.332e-03)\tCMD Loss (t) 4.272e-01 (5.099e-01)\tDANN Loss  1.610 ( 1.568)\tDomain Acc 0.0 (0.4)\n",
      "Epoch: [11][200/211]\tCMD Loss (s) 8.699e-03 (6.121e-03)\tCMD Loss (t) 6.282e-01 (5.566e-01)\tDANN Loss  1.603 ( 1.579)\tDomain Acc 0.0 (0.4)\n",
      "Test: [ 0/94]\tCMD Loss (s) 3.427e-03 (3.427e-03)\n",
      "Test: [93/94]\tCMD Loss (s) 2.215e-03 (3.127e-03)\n",
      "Test: [ 0/94]\tCMD Loss (s) 5.136e-01 (5.136e-01)\n",
      "Test: [93/94]\tCMD Loss (s) 4.384e-01 (4.490e-01)\n",
      "Source: mean MAE 3.127e-03 best MAE 3.127e-03 Omega_m_RE  0.068\n",
      "Target: mean MAE 4.490e-01 best MAE 5.828e-02 Omega_m_RE  1.181\n",
      "Epoch: [12][  0/211]\tCMD Loss (s) 4.487e-03 (4.487e-03)\tCMD Loss (t) 7.026e-01 (7.026e-01)\tDANN Loss  1.590 ( 1.590)\tDomain Acc 0.8 (0.8)\n",
      "Epoch: [12][100/211]\tCMD Loss (s) 6.433e-03 (5.879e-03)\tCMD Loss (t) 6.726e-01 (7.191e-01)\tDANN Loss  1.613 ( 1.610)\tDomain Acc 0.0 (0.3)\n",
      "Epoch: [12][200/211]\tCMD Loss (s) 4.447e-03 (5.882e-03)\tCMD Loss (t) 8.507e-01 (7.467e-01)\tDANN Loss  1.646 ( 1.616)\tDomain Acc 0.0 (0.3)\n",
      "Test: [ 0/94]\tCMD Loss (s) 3.190e-03 (3.190e-03)\n",
      "Test: [93/94]\tCMD Loss (s) 2.275e-03 (2.801e-03)\n",
      "Test: [ 0/94]\tCMD Loss (s) 4.472e-01 (4.472e-01)\n",
      "Test: [93/94]\tCMD Loss (s) 5.398e-01 (4.868e-01)\n",
      "Source: mean MAE 2.801e-03 best MAE 2.801e-03 Omega_m_RE  0.067\n",
      "Target: mean MAE 4.868e-01 best MAE 5.828e-02 Omega_m_RE  1.259\n",
      "Epoch: [13][  0/211]\tCMD Loss (s) 5.168e-03 (5.168e-03)\tCMD Loss (t) 8.796e-01 (8.796e-01)\tDANN Loss  1.629 ( 1.629)\tDomain Acc 0.0 (0.0)\n",
      "Epoch: [13][100/211]\tCMD Loss (s) 4.422e-03 (5.832e-03)\tCMD Loss (t) 1.158e+00 (8.904e-01)\tDANN Loss  1.644 ( 1.631)\tDomain Acc 0.0 (0.2)\n",
      "Epoch: [13][200/211]\tCMD Loss (s) 3.558e-03 (5.856e-03)\tCMD Loss (t) 9.613e-01 (9.302e-01)\tDANN Loss  1.663 ( 1.634)\tDomain Acc 0.0 (0.2)\n",
      "Test: [ 0/94]\tCMD Loss (s) 3.872e-03 (3.872e-03)\n",
      "Test: [93/94]\tCMD Loss (s) 6.520e-03 (4.028e-03)\n",
      "Test: [ 0/94]\tCMD Loss (s) 6.135e-01 (6.135e-01)\n",
      "Test: [93/94]\tCMD Loss (s) 7.470e-01 (6.294e-01)\n",
      "Source: mean MAE 4.028e-03 best MAE 2.801e-03 Omega_m_RE  0.079\n",
      "Target: mean MAE 6.294e-01 best MAE 5.828e-02 Omega_m_RE  1.428\n",
      "Epoch: [14][  0/211]\tCMD Loss (s) 9.264e-03 (9.264e-03)\tCMD Loss (t) 9.580e-01 (9.580e-01)\tDANN Loss  1.630 ( 1.630)\tDomain Acc 0.0 (0.0)\n",
      "Epoch: [14][100/211]\tCMD Loss (s) 6.417e-03 (5.789e-03)\tCMD Loss (t) 8.777e-01 (1.062e+00)\tDANN Loss  1.636 ( 1.651)\tDomain Acc 0.0 (0.2)\n",
      "Epoch: [14][200/211]\tCMD Loss (s) 7.842e-03 (5.901e-03)\tCMD Loss (t) 1.014e+00 (1.052e+00)\tDANN Loss  1.609 ( 1.652)\tDomain Acc 0.8 (0.2)\n",
      "Test: [ 0/94]\tCMD Loss (s) 4.838e-03 (4.838e-03)\n",
      "Test: [93/94]\tCMD Loss (s) 4.282e-03 (3.271e-03)\n",
      "Test: [ 0/94]\tCMD Loss (s) 8.446e-01 (8.446e-01)\n",
      "Test: [93/94]\tCMD Loss (s) 8.599e-01 (8.136e-01)\n",
      "Source: mean MAE 3.271e-03 best MAE 2.801e-03 Omega_m_RE  0.068\n",
      "Target: mean MAE 8.136e-01 best MAE 5.828e-02 Omega_m_RE  1.623\n",
      "Epoch: [15][  0/211]\tCMD Loss (s) 8.230e-03 (8.230e-03)\tCMD Loss (t) 1.193e+00 (1.193e+00)\tDANN Loss  1.664 ( 1.664)\tDomain Acc 0.0 (0.0)\n",
      "Epoch: [15][100/211]\tCMD Loss (s) 5.186e-03 (5.714e-03)\tCMD Loss (t) 1.108e+00 (1.267e+00)\tDANN Loss  1.662 ( 1.656)\tDomain Acc 0.0 (0.2)\n",
      "Epoch: [15][200/211]\tCMD Loss (s) 5.345e-03 (5.676e-03)\tCMD Loss (t) 1.169e+00 (1.195e+00)\tDANN Loss  1.684 ( 1.658)\tDomain Acc 0.8 (0.2)\n",
      "Test: [ 0/94]\tCMD Loss (s) 1.273e-03 (1.273e-03)\n",
      "Test: [93/94]\tCMD Loss (s) 3.913e-03 (2.557e-03)\n",
      "Test: [ 0/94]\tCMD Loss (s) 7.085e-01 (7.085e-01)\n",
      "Test: [93/94]\tCMD Loss (s) 7.323e-01 (7.225e-01)\n",
      "Source: mean MAE 2.557e-03 best MAE 2.557e-03 Omega_m_RE  0.067\n",
      "Target: mean MAE 7.225e-01 best MAE 5.828e-02 Omega_m_RE  1.574\n",
      "Epoch: [16][  0/211]\tCMD Loss (s) 4.339e-03 (4.339e-03)\tCMD Loss (t) 1.016e+00 (1.016e+00)\tDANN Loss  1.616 ( 1.616)\tDomain Acc 0.0 (0.0)\n",
      "Epoch: [16][100/211]\tCMD Loss (s) 4.720e-03 (5.563e-03)\tCMD Loss (t) 1.604e+00 (1.177e+00)\tDANN Loss  1.665 ( 1.662)\tDomain Acc 1.6 (0.2)\n",
      "Epoch: [16][200/211]\tCMD Loss (s) 3.437e-03 (5.483e-03)\tCMD Loss (t) 1.024e+00 (1.170e+00)\tDANN Loss  1.677 ( 1.664)\tDomain Acc 0.0 (0.2)\n",
      "Test: [ 0/94]\tCMD Loss (s) 2.287e-03 (2.287e-03)\n",
      "Test: [93/94]\tCMD Loss (s) 5.489e-03 (3.028e-03)\n",
      "Test: [ 0/94]\tCMD Loss (s) 6.355e-01 (6.355e-01)\n",
      "Test: [93/94]\tCMD Loss (s) 4.758e-01 (6.059e-01)\n",
      "Source: mean MAE 3.028e-03 best MAE 2.557e-03 Omega_m_RE  0.064\n",
      "Target: mean MAE 6.059e-01 best MAE 5.828e-02 Omega_m_RE  1.485\n",
      "Epoch: [17][  0/211]\tCMD Loss (s) 6.322e-03 (6.322e-03)\tCMD Loss (t) 1.159e+00 (1.159e+00)\tDANN Loss  1.647 ( 1.647)\tDomain Acc 0.0 (0.0)\n",
      "Epoch: [17][100/211]\tCMD Loss (s) 5.481e-03 (5.470e-03)\tCMD Loss (t) 1.256e+00 (1.142e+00)\tDANN Loss  1.669 ( 1.664)\tDomain Acc 0.0 (0.2)\n",
      "Epoch: [17][200/211]\tCMD Loss (s) 4.704e-03 (5.431e-03)\tCMD Loss (t) 1.022e+00 (1.193e+00)\tDANN Loss  1.711 ( 1.670)\tDomain Acc 0.0 (0.2)\n",
      "Test: [ 0/94]\tCMD Loss (s) 3.285e-03 (3.285e-03)\n",
      "Test: [93/94]\tCMD Loss (s) 2.641e-03 (2.539e-03)\n",
      "Test: [ 0/94]\tCMD Loss (s) 7.824e-01 (7.824e-01)\n",
      "Test: [93/94]\tCMD Loss (s) 7.766e-01 (7.724e-01)\n",
      "Source: mean MAE 2.539e-03 best MAE 2.539e-03 Omega_m_RE  0.064\n",
      "Target: mean MAE 7.724e-01 best MAE 5.828e-02 Omega_m_RE  1.658\n",
      "Epoch: [18][  0/211]\tCMD Loss (s) 4.455e-03 (4.455e-03)\tCMD Loss (t) 1.369e+00 (1.369e+00)\tDANN Loss  1.624 ( 1.624)\tDomain Acc 0.8 (0.8)\n",
      "Epoch: [18][100/211]\tCMD Loss (s) 6.417e-03 (5.441e-03)\tCMD Loss (t) 1.378e+00 (1.408e+00)\tDANN Loss  1.701 ( 1.673)\tDomain Acc 0.0 (0.1)\n",
      "Epoch: [18][200/211]\tCMD Loss (s) 5.720e-03 (5.453e-03)\tCMD Loss (t) 1.735e+00 (1.343e+00)\tDANN Loss  1.657 ( 1.674)\tDomain Acc 0.0 (0.1)\n",
      "Test: [ 0/94]\tCMD Loss (s) 2.041e-03 (2.041e-03)\n",
      "Test: [93/94]\tCMD Loss (s) 2.306e-03 (2.540e-03)\n",
      "Test: [ 0/94]\tCMD Loss (s) 8.925e-01 (8.925e-01)\n",
      "Test: [93/94]\tCMD Loss (s) 8.004e-01 (8.253e-01)\n",
      "Source: mean MAE 2.540e-03 best MAE 2.539e-03 Omega_m_RE  0.061\n",
      "Target: mean MAE 8.253e-01 best MAE 5.828e-02 Omega_m_RE  1.753\n",
      "Epoch: [19][  0/211]\tCMD Loss (s) 2.795e-03 (2.795e-03)\tCMD Loss (t) 1.633e+00 (1.633e+00)\tDANN Loss  1.680 ( 1.680)\tDomain Acc 0.0 (0.0)\n",
      "Epoch: [19][100/211]\tCMD Loss (s) 6.111e-03 (5.308e-03)\tCMD Loss (t) 1.256e+00 (1.433e+00)\tDANN Loss  1.645 ( 1.676)\tDomain Acc 0.0 (0.1)\n",
      "Epoch: [19][200/211]\tCMD Loss (s) 6.038e-03 (5.348e-03)\tCMD Loss (t) 1.495e+00 (1.467e+00)\tDANN Loss  1.641 ( 1.676)\tDomain Acc 0.8 (0.1)\n",
      "Test: [ 0/94]\tCMD Loss (s) 3.259e-03 (3.259e-03)\n",
      "Test: [93/94]\tCMD Loss (s) 2.167e-03 (2.370e-03)\n",
      "Test: [ 0/94]\tCMD Loss (s) 7.760e-01 (7.760e-01)\n",
      "Test: [93/94]\tCMD Loss (s) 8.709e-01 (8.551e-01)\n",
      "Source: mean MAE 2.370e-03 best MAE 2.370e-03 Omega_m_RE  0.064\n",
      "Target: mean MAE 8.551e-01 best MAE 5.828e-02 Omega_m_RE  1.749\n",
      "Epoch: [20][  0/211]\tCMD Loss (s) 4.765e-03 (4.765e-03)\tCMD Loss (t) 1.185e+00 (1.185e+00)\tDANN Loss  1.645 ( 1.645)\tDomain Acc 0.0 (0.0)\n",
      "Epoch: [20][100/211]\tCMD Loss (s) 4.838e-03 (5.125e-03)\tCMD Loss (t) 1.736e+00 (1.657e+00)\tDANN Loss  1.689 ( 1.676)\tDomain Acc 0.0 (0.1)\n",
      "Epoch: [20][200/211]\tCMD Loss (s) 4.517e-03 (5.266e-03)\tCMD Loss (t) 2.270e+00 (1.590e+00)\tDANN Loss  1.689 ( 1.678)\tDomain Acc 0.0 (0.1)\n",
      "Test: [ 0/94]\tCMD Loss (s) 2.289e-03 (2.289e-03)\n",
      "Test: [93/94]\tCMD Loss (s) 2.184e-03 (3.024e-03)\n",
      "Test: [ 0/94]\tCMD Loss (s) 1.079e+00 (1.079e+00)\n",
      "Test: [93/94]\tCMD Loss (s) 1.041e+00 (1.061e+00)\n",
      "Source: mean MAE 3.024e-03 best MAE 2.370e-03 Omega_m_RE  0.063\n",
      "Target: mean MAE 1.061e+00 best MAE 5.828e-02 Omega_m_RE  1.969\n",
      "Epoch: [21][  0/211]\tCMD Loss (s) 6.739e-03 (6.739e-03)\tCMD Loss (t) 1.617e+00 (1.617e+00)\tDANN Loss  1.674 ( 1.674)\tDomain Acc 0.0 (0.0)\n",
      "Epoch: [21][100/211]\tCMD Loss (s) 3.627e-03 (5.057e-03)\tCMD Loss (t) 1.425e+00 (1.718e+00)\tDANN Loss  1.675 ( 1.678)\tDomain Acc 0.0 (0.1)\n",
      "Epoch: [21][200/211]\tCMD Loss (s) 6.043e-03 (5.072e-03)\tCMD Loss (t) 1.648e+00 (1.725e+00)\tDANN Loss  1.680 ( 1.680)\tDomain Acc 0.0 (0.1)\n",
      "Test: [ 0/94]\tCMD Loss (s) 2.390e-03 (2.390e-03)\n",
      "Test: [93/94]\tCMD Loss (s) 2.180e-03 (2.297e-03)\n",
      "Test: [ 0/94]\tCMD Loss (s) 9.338e-01 (9.338e-01)\n",
      "Test: [93/94]\tCMD Loss (s) 9.136e-01 (1.038e+00)\n",
      "Source: mean MAE 2.297e-03 best MAE 2.297e-03 Omega_m_RE  0.062\n",
      "Target: mean MAE 1.038e+00 best MAE 5.828e-02 Omega_m_RE  1.972\n",
      "Epoch: [22][  0/211]\tCMD Loss (s) 5.976e-03 (5.976e-03)\tCMD Loss (t) 2.523e+00 (2.523e+00)\tDANN Loss  1.700 ( 1.700)\tDomain Acc 0.0 (0.0)\n",
      "Epoch: [22][100/211]\tCMD Loss (s) 3.381e-03 (5.326e-03)\tCMD Loss (t) 1.462e+00 (1.817e+00)\tDANN Loss  1.677 ( 1.683)\tDomain Acc 0.8 (0.1)\n",
      "Epoch: [22][200/211]\tCMD Loss (s) 5.710e-03 (5.212e-03)\tCMD Loss (t) 1.806e+00 (1.730e+00)\tDANN Loss  1.707 ( 1.683)\tDomain Acc 0.0 (0.1)\n",
      "Test: [ 0/94]\tCMD Loss (s) 3.378e-03 (3.378e-03)\n",
      "Test: [93/94]\tCMD Loss (s) 3.280e-03 (3.519e-03)\n",
      "Test: [ 0/94]\tCMD Loss (s) 9.862e-01 (9.862e-01)\n",
      "Test: [93/94]\tCMD Loss (s) 9.447e-01 (9.960e-01)\n",
      "Source: mean MAE 3.519e-03 best MAE 2.297e-03 Omega_m_RE  0.066\n",
      "Target: mean MAE 9.960e-01 best MAE 5.828e-02 Omega_m_RE  1.937\n",
      "Epoch: [23][  0/211]\tCMD Loss (s) 4.107e-03 (4.107e-03)\tCMD Loss (t) 1.809e+00 (1.809e+00)\tDANN Loss  1.699 ( 1.699)\tDomain Acc 0.0 (0.0)\n",
      "Epoch: [23][100/211]\tCMD Loss (s) 4.934e-03 (5.077e-03)\tCMD Loss (t) 1.370e+00 (1.721e+00)\tDANN Loss  1.700 ( 1.682)\tDomain Acc 0.0 (0.1)\n",
      "Epoch: [23][200/211]\tCMD Loss (s) 5.446e-03 (5.011e-03)\tCMD Loss (t) 2.305e+00 (1.771e+00)\tDANN Loss  1.713 ( 1.684)\tDomain Acc 0.0 (0.1)\n",
      "Test: [ 0/94]\tCMD Loss (s) 3.207e-03 (3.207e-03)\n",
      "Test: [93/94]\tCMD Loss (s) 1.591e-03 (2.299e-03)\n",
      "Test: [ 0/94]\tCMD Loss (s) 1.221e+00 (1.221e+00)\n",
      "Test: [93/94]\tCMD Loss (s) 1.090e+00 (1.180e+00)\n",
      "Source: mean MAE 2.299e-03 best MAE 2.297e-03 Omega_m_RE  0.059\n",
      "Target: mean MAE 1.180e+00 best MAE 5.828e-02 Omega_m_RE  2.089\n",
      "Epoch: [24][  0/211]\tCMD Loss (s) 3.633e-03 (3.633e-03)\tCMD Loss (t) 1.343e+00 (1.343e+00)\tDANN Loss  1.678 ( 1.678)\tDomain Acc 0.0 (0.0)\n",
      "Epoch: [24][100/211]\tCMD Loss (s) 5.020e-03 (4.843e-03)\tCMD Loss (t) 2.276e+00 (1.947e+00)\tDANN Loss  1.663 ( 1.688)\tDomain Acc 0.8 (0.1)\n",
      "Epoch: [24][200/211]\tCMD Loss (s) 3.710e-03 (4.919e-03)\tCMD Loss (t) 1.608e+00 (1.931e+00)\tDANN Loss  1.667 ( 1.686)\tDomain Acc 0.0 (0.1)\n",
      "Test: [ 0/94]\tCMD Loss (s) 2.137e-03 (2.137e-03)\n",
      "Test: [93/94]\tCMD Loss (s) 2.973e-03 (2.399e-03)\n",
      "Test: [ 0/94]\tCMD Loss (s) 9.072e-01 (9.072e-01)\n",
      "Test: [93/94]\tCMD Loss (s) 9.677e-01 (9.365e-01)\n",
      "Source: mean MAE 2.399e-03 best MAE 2.297e-03 Omega_m_RE  0.057\n",
      "Target: mean MAE 9.365e-01 best MAE 5.828e-02 Omega_m_RE  1.894\n",
      "Epoch: [25][  0/211]\tCMD Loss (s) 5.502e-03 (5.502e-03)\tCMD Loss (t) 1.706e+00 (1.706e+00)\tDANN Loss  1.700 ( 1.700)\tDomain Acc 0.8 (0.8)\n",
      "Epoch: [25][100/211]\tCMD Loss (s) 4.632e-03 (4.777e-03)\tCMD Loss (t) 1.712e+00 (1.857e+00)\tDANN Loss  1.676 ( 1.686)\tDomain Acc 0.0 (0.1)\n",
      "Epoch: [25][200/211]\tCMD Loss (s) 4.141e-03 (4.760e-03)\tCMD Loss (t) 3.261e+00 (2.005e+00)\tDANN Loss  1.704 ( 1.689)\tDomain Acc 0.0 (0.1)\n",
      "Test: [ 0/94]\tCMD Loss (s) 3.124e-03 (3.124e-03)\n",
      "Test: [93/94]\tCMD Loss (s) 3.838e-03 (2.942e-03)\n",
      "Test: [ 0/94]\tCMD Loss (s) 1.277e+00 (1.277e+00)\n",
      "Test: [93/94]\tCMD Loss (s) 1.466e+00 (1.267e+00)\n",
      "Source: mean MAE 2.942e-03 best MAE 2.297e-03 Omega_m_RE  0.060\n",
      "Target: mean MAE 1.267e+00 best MAE 5.828e-02 Omega_m_RE  2.183\n",
      "Epoch: [26][  0/211]\tCMD Loss (s) 6.319e-03 (6.319e-03)\tCMD Loss (t) 1.989e+00 (1.989e+00)\tDANN Loss  1.695 ( 1.695)\tDomain Acc 0.0 (0.0)\n",
      "Epoch: [26][100/211]\tCMD Loss (s) 4.363e-03 (4.683e-03)\tCMD Loss (t) 1.572e+00 (2.041e+00)\tDANN Loss  1.703 ( 1.688)\tDomain Acc 0.0 (0.1)\n",
      "Epoch: [26][200/211]\tCMD Loss (s) 3.054e-03 (4.775e-03)\tCMD Loss (t) 2.417e+00 (2.084e+00)\tDANN Loss  1.702 ( 1.690)\tDomain Acc 0.0 (0.1)\n",
      "Test: [ 0/94]\tCMD Loss (s) 1.655e-03 (1.655e-03)\n",
      "Test: [93/94]\tCMD Loss (s) 1.738e-03 (2.470e-03)\n",
      "Test: [ 0/94]\tCMD Loss (s) 1.149e+00 (1.149e+00)\n",
      "Test: [93/94]\tCMD Loss (s) 1.163e+00 (1.234e+00)\n",
      "Source: mean MAE 2.470e-03 best MAE 2.297e-03 Omega_m_RE  0.060\n",
      "Target: mean MAE 1.234e+00 best MAE 5.828e-02 Omega_m_RE  2.122\n",
      "Epoch: [27][  0/211]\tCMD Loss (s) 3.498e-03 (3.498e-03)\tCMD Loss (t) 2.096e+00 (2.096e+00)\tDANN Loss  1.703 ( 1.703)\tDomain Acc 0.0 (0.0)\n",
      "Epoch: [27][100/211]\tCMD Loss (s) 5.629e-03 (4.779e-03)\tCMD Loss (t) 1.952e+00 (2.329e+00)\tDANN Loss  1.711 ( 1.692)\tDomain Acc 0.0 (0.1)\n",
      "Epoch: [27][200/211]\tCMD Loss (s) 3.464e-03 (4.790e-03)\tCMD Loss (t) 1.747e+00 (2.239e+00)\tDANN Loss  1.686 ( 1.693)\tDomain Acc 0.0 (0.1)\n",
      "Test: [ 0/94]\tCMD Loss (s) 1.663e-03 (1.663e-03)\n",
      "Test: [93/94]\tCMD Loss (s) 2.239e-03 (2.188e-03)\n",
      "Test: [ 0/94]\tCMD Loss (s) 1.394e+00 (1.394e+00)\n",
      "Test: [93/94]\tCMD Loss (s) 1.347e+00 (1.433e+00)\n",
      "Source: mean MAE 2.188e-03 best MAE 2.188e-03 Omega_m_RE  0.056\n",
      "Target: mean MAE 1.433e+00 best MAE 5.828e-02 Omega_m_RE  2.328\n",
      "Epoch: [28][  0/211]\tCMD Loss (s) 4.302e-03 (4.302e-03)\tCMD Loss (t) 1.998e+00 (1.998e+00)\tDANN Loss  1.697 ( 1.697)\tDomain Acc 0.0 (0.0)\n",
      "Epoch: [28][100/211]\tCMD Loss (s) 5.231e-03 (4.511e-03)\tCMD Loss (t) 1.764e+00 (2.251e+00)\tDANN Loss  1.687 ( 1.692)\tDomain Acc 0.0 (0.1)\n",
      "Epoch: [28][200/211]\tCMD Loss (s) 3.561e-03 (4.641e-03)\tCMD Loss (t) 2.287e+00 (2.256e+00)\tDANN Loss  1.660 ( 1.693)\tDomain Acc 0.0 (0.1)\n",
      "Test: [ 0/94]\tCMD Loss (s) 1.367e-03 (1.367e-03)\n",
      "Test: [93/94]\tCMD Loss (s) 3.292e-03 (2.194e-03)\n",
      "Test: [ 0/94]\tCMD Loss (s) 1.741e+00 (1.741e+00)\n",
      "Test: [93/94]\tCMD Loss (s) 1.737e+00 (1.629e+00)\n",
      "Source: mean MAE 2.194e-03 best MAE 2.188e-03 Omega_m_RE  0.056\n",
      "Target: mean MAE 1.629e+00 best MAE 5.828e-02 Omega_m_RE  2.437\n",
      "Epoch: [29][  0/211]\tCMD Loss (s) 3.007e-03 (3.007e-03)\tCMD Loss (t) 2.540e+00 (2.540e+00)\tDANN Loss  1.711 ( 1.711)\tDomain Acc 0.0 (0.0)\n",
      "Epoch: [29][100/211]\tCMD Loss (s) 6.523e-03 (4.599e-03)\tCMD Loss (t) 1.730e+00 (2.432e+00)\tDANN Loss  1.700 ( 1.698)\tDomain Acc 0.0 (0.1)\n",
      "Epoch: [29][200/211]\tCMD Loss (s) 3.342e-03 (4.601e-03)\tCMD Loss (t) 3.408e+00 (2.465e+00)\tDANN Loss  1.732 ( 1.697)\tDomain Acc 0.0 (0.1)\n",
      "Test: [ 0/94]\tCMD Loss (s) 1.788e-03 (1.788e-03)\n",
      "Test: [93/94]\tCMD Loss (s) 2.147e-03 (2.126e-03)\n",
      "Test: [ 0/94]\tCMD Loss (s) 1.767e+00 (1.767e+00)\n",
      "Test: [93/94]\tCMD Loss (s) 1.981e+00 (1.830e+00)\n",
      "Source: mean MAE 2.126e-03 best MAE 2.126e-03 Omega_m_RE  0.060\n",
      "Target: mean MAE 1.830e+00 best MAE 5.828e-02 Omega_m_RE  2.577\n",
      "Epoch: [30][  0/211]\tCMD Loss (s) 4.123e-03 (4.123e-03)\tCMD Loss (t) 2.635e+00 (2.635e+00)\tDANN Loss  1.685 ( 1.685)\tDomain Acc 0.0 (0.0)\n",
      "Epoch: [30][100/211]\tCMD Loss (s) 3.435e-03 (4.851e-03)\tCMD Loss (t) 2.891e+00 (2.506e+00)\tDANN Loss  1.720 ( 1.696)\tDomain Acc 0.0 (0.1)\n",
      "Epoch: [30][200/211]\tCMD Loss (s) 4.325e-03 (4.790e-03)\tCMD Loss (t) 2.839e+00 (2.537e+00)\tDANN Loss  1.678 ( 1.697)\tDomain Acc 0.0 (0.1)\n",
      "Test: [ 0/94]\tCMD Loss (s) 2.226e-03 (2.226e-03)\n",
      "Test: [93/94]\tCMD Loss (s) 1.896e-03 (2.016e-03)\n",
      "Test: [ 0/94]\tCMD Loss (s) 1.557e+00 (1.557e+00)\n",
      "Test: [93/94]\tCMD Loss (s) 1.479e+00 (1.605e+00)\n",
      "Source: mean MAE 2.016e-03 best MAE 2.016e-03 Omega_m_RE  0.059\n",
      "Target: mean MAE 1.605e+00 best MAE 5.828e-02 Omega_m_RE  2.482\n",
      "Epoch: [31][  0/211]\tCMD Loss (s) 4.843e-03 (4.843e-03)\tCMD Loss (t) 2.305e+00 (2.305e+00)\tDANN Loss  1.679 ( 1.679)\tDomain Acc 0.0 (0.0)\n",
      "Epoch: [31][100/211]\tCMD Loss (s) 3.798e-03 (4.408e-03)\tCMD Loss (t) 2.666e+00 (2.619e+00)\tDANN Loss  1.718 ( 1.699)\tDomain Acc 0.0 (0.1)\n",
      "Epoch: [31][200/211]\tCMD Loss (s) 3.919e-03 (4.379e-03)\tCMD Loss (t) 2.668e+00 (2.699e+00)\tDANN Loss  1.683 ( 1.700)\tDomain Acc 0.0 (0.1)\n",
      "Test: [ 0/94]\tCMD Loss (s) 4.479e-03 (4.479e-03)\n",
      "Test: [93/94]\tCMD Loss (s) 4.654e-03 (3.585e-03)\n",
      "Test: [ 0/94]\tCMD Loss (s) 1.406e+00 (1.406e+00)\n",
      "Test: [93/94]\tCMD Loss (s) 1.408e+00 (1.491e+00)\n",
      "Source: mean MAE 3.585e-03 best MAE 2.016e-03 Omega_m_RE  0.065\n",
      "Target: mean MAE 1.491e+00 best MAE 5.828e-02 Omega_m_RE  2.424\n",
      "Epoch: [32][  0/211]\tCMD Loss (s) 2.966e-03 (2.966e-03)\tCMD Loss (t) 2.695e+00 (2.695e+00)\tDANN Loss  1.708 ( 1.708)\tDomain Acc 0.0 (0.0)\n",
      "Epoch: [32][100/211]\tCMD Loss (s) 4.015e-03 (4.412e-03)\tCMD Loss (t) 2.830e+00 (2.587e+00)\tDANN Loss  1.702 ( 1.704)\tDomain Acc 0.0 (0.1)\n",
      "Epoch: [32][200/211]\tCMD Loss (s) 5.044e-03 (4.568e-03)\tCMD Loss (t) 2.618e+00 (2.538e+00)\tDANN Loss  1.723 ( 1.702)\tDomain Acc 0.0 (0.1)\n",
      "Test: [ 0/94]\tCMD Loss (s) 1.690e-03 (1.690e-03)\n",
      "Test: [93/94]\tCMD Loss (s) 1.980e-03 (2.091e-03)\n",
      "Test: [ 0/94]\tCMD Loss (s) 1.707e+00 (1.707e+00)\n",
      "Test: [93/94]\tCMD Loss (s) 1.918e+00 (1.738e+00)\n",
      "Source: mean MAE 2.091e-03 best MAE 2.016e-03 Omega_m_RE  0.056\n",
      "Target: mean MAE 1.738e+00 best MAE 5.828e-02 Omega_m_RE  2.555\n",
      "Epoch: [33][  0/211]\tCMD Loss (s) 3.493e-03 (3.493e-03)\tCMD Loss (t) 2.595e+00 (2.595e+00)\tDANN Loss  1.701 ( 1.701)\tDomain Acc 0.0 (0.0)\n",
      "Epoch: [33][100/211]\tCMD Loss (s) 4.372e-03 (4.312e-03)\tCMD Loss (t) 3.862e+00 (2.835e+00)\tDANN Loss  1.701 ( 1.702)\tDomain Acc 0.0 (0.1)\n",
      "Epoch: [33][200/211]\tCMD Loss (s) 4.770e-03 (4.387e-03)\tCMD Loss (t) 3.028e+00 (2.840e+00)\tDANN Loss  1.717 ( 1.702)\tDomain Acc 0.0 (0.1)\n",
      "Test: [ 0/94]\tCMD Loss (s) 2.392e-03 (2.392e-03)\n",
      "Test: [93/94]\tCMD Loss (s) 1.426e-03 (2.259e-03)\n",
      "Test: [ 0/94]\tCMD Loss (s) 1.764e+00 (1.764e+00)\n",
      "Test: [93/94]\tCMD Loss (s) 1.785e+00 (1.828e+00)\n",
      "Source: mean MAE 2.259e-03 best MAE 2.016e-03 Omega_m_RE  0.055\n",
      "Target: mean MAE 1.828e+00 best MAE 5.828e-02 Omega_m_RE  2.595\n",
      "Epoch: [34][  0/211]\tCMD Loss (s) 3.423e-03 (3.423e-03)\tCMD Loss (t) 3.023e+00 (3.023e+00)\tDANN Loss  1.695 ( 1.695)\tDomain Acc 0.8 (0.8)\n",
      "Epoch: [34][100/211]\tCMD Loss (s) 4.776e-03 (4.420e-03)\tCMD Loss (t) 3.230e+00 (2.808e+00)\tDANN Loss  1.689 ( 1.701)\tDomain Acc 0.0 (0.1)\n",
      "Epoch: [34][200/211]\tCMD Loss (s) 3.075e-03 (4.386e-03)\tCMD Loss (t) 3.005e+00 (2.868e+00)\tDANN Loss  1.686 ( 1.702)\tDomain Acc 0.0 (0.1)\n",
      "Test: [ 0/94]\tCMD Loss (s) 1.405e-03 (1.405e-03)\n",
      "Test: [93/94]\tCMD Loss (s) 2.941e-03 (2.104e-03)\n",
      "Test: [ 0/94]\tCMD Loss (s) 1.829e+00 (1.829e+00)\n",
      "Test: [93/94]\tCMD Loss (s) 1.811e+00 (1.836e+00)\n",
      "Source: mean MAE 2.104e-03 best MAE 2.016e-03 Omega_m_RE  0.055\n",
      "Target: mean MAE 1.836e+00 best MAE 5.828e-02 Omega_m_RE  2.602\n",
      "Epoch: [35][  0/211]\tCMD Loss (s) 3.452e-03 (3.452e-03)\tCMD Loss (t) 2.906e+00 (2.906e+00)\tDANN Loss  1.699 ( 1.699)\tDomain Acc 0.0 (0.0)\n",
      "Epoch: [35][100/211]\tCMD Loss (s) 2.651e-03 (4.244e-03)\tCMD Loss (t) 2.980e+00 (3.098e+00)\tDANN Loss  1.695 ( 1.704)\tDomain Acc 0.0 (0.1)\n",
      "Epoch: [35][200/211]\tCMD Loss (s) 5.832e-03 (4.346e-03)\tCMD Loss (t) 3.108e+00 (3.052e+00)\tDANN Loss  1.715 ( 1.705)\tDomain Acc 0.0 (0.1)\n",
      "Test: [ 0/94]\tCMD Loss (s) 1.936e-03 (1.936e-03)\n",
      "Test: [93/94]\tCMD Loss (s) 1.911e-03 (2.035e-03)\n",
      "Test: [ 0/94]\tCMD Loss (s) 1.932e+00 (1.932e+00)\n",
      "Test: [93/94]\tCMD Loss (s) 1.675e+00 (1.803e+00)\n",
      "Source: mean MAE 2.035e-03 best MAE 2.016e-03 Omega_m_RE  0.059\n",
      "Target: mean MAE 1.803e+00 best MAE 5.828e-02 Omega_m_RE  2.593\n",
      "Epoch: [36][  0/211]\tCMD Loss (s) 2.451e-03 (2.451e-03)\tCMD Loss (t) 3.543e+00 (3.543e+00)\tDANN Loss  1.717 ( 1.717)\tDomain Acc 0.0 (0.0)\n",
      "Epoch: [36][100/211]\tCMD Loss (s) 4.437e-03 (4.363e-03)\tCMD Loss (t) 2.660e+00 (2.719e+00)\tDANN Loss  1.665 ( 1.704)\tDomain Acc 0.0 (0.1)\n",
      "Epoch: [36][200/211]\tCMD Loss (s) 2.313e-03 (4.271e-03)\tCMD Loss (t) 3.280e+00 (2.831e+00)\tDANN Loss  1.692 ( 1.703)\tDomain Acc 0.0 (0.1)\n",
      "Test: [ 0/94]\tCMD Loss (s) 1.411e-03 (1.411e-03)\n",
      "Test: [93/94]\tCMD Loss (s) 1.261e-03 (2.014e-03)\n",
      "Test: [ 0/94]\tCMD Loss (s) 1.873e+00 (1.873e+00)\n",
      "Test: [93/94]\tCMD Loss (s) 1.899e+00 (1.928e+00)\n",
      "Source: mean MAE 2.014e-03 best MAE 2.014e-03 Omega_m_RE  0.054\n",
      "Target: mean MAE 1.928e+00 best MAE 5.828e-02 Omega_m_RE  2.725\n",
      "Epoch: [37][  0/211]\tCMD Loss (s) 4.509e-03 (4.509e-03)\tCMD Loss (t) 2.890e+00 (2.890e+00)\tDANN Loss  1.720 ( 1.720)\tDomain Acc 0.0 (0.0)\n",
      "Epoch: [37][100/211]\tCMD Loss (s) 3.338e-03 (4.369e-03)\tCMD Loss (t) 2.153e+00 (2.922e+00)\tDANN Loss  1.699 ( 1.703)\tDomain Acc 0.0 (0.0)\n",
      "Epoch: [37][200/211]\tCMD Loss (s) 4.367e-03 (4.258e-03)\tCMD Loss (t) 2.936e+00 (3.073e+00)\tDANN Loss  1.726 ( 1.707)\tDomain Acc 0.0 (0.0)\n",
      "Test: [ 0/94]\tCMD Loss (s) 1.543e-03 (1.543e-03)\n",
      "Test: [93/94]\tCMD Loss (s) 1.052e-03 (1.892e-03)\n",
      "Test: [ 0/94]\tCMD Loss (s) 2.136e+00 (2.136e+00)\n",
      "Test: [93/94]\tCMD Loss (s) 2.066e+00 (2.219e+00)\n",
      "Source: mean MAE 1.892e-03 best MAE 1.892e-03 Omega_m_RE  0.053\n",
      "Target: mean MAE 2.219e+00 best MAE 5.828e-02 Omega_m_RE  2.852\n",
      "Epoch: [38][  0/211]\tCMD Loss (s) 4.556e-03 (4.556e-03)\tCMD Loss (t) 3.841e+00 (3.841e+00)\tDANN Loss  1.718 ( 1.718)\tDomain Acc 0.0 (0.0)\n",
      "Epoch: [38][100/211]\tCMD Loss (s) 5.890e-03 (4.459e-03)\tCMD Loss (t) 3.117e+00 (3.330e+00)\tDANN Loss  1.724 ( 1.703)\tDomain Acc 0.0 (0.1)\n",
      "Epoch: [38][200/211]\tCMD Loss (s) 4.533e-03 (4.259e-03)\tCMD Loss (t) 2.993e+00 (3.306e+00)\tDANN Loss  1.686 ( 1.706)\tDomain Acc 0.0 (0.0)\n",
      "Test: [ 0/94]\tCMD Loss (s) 2.169e-03 (2.169e-03)\n",
      "Test: [93/94]\tCMD Loss (s) 1.820e-03 (1.946e-03)\n",
      "Test: [ 0/94]\tCMD Loss (s) 2.442e+00 (2.442e+00)\n",
      "Test: [93/94]\tCMD Loss (s) 2.375e+00 (2.397e+00)\n",
      "Source: mean MAE 1.946e-03 best MAE 1.892e-03 Omega_m_RE  0.053\n",
      "Target: mean MAE 2.397e+00 best MAE 5.828e-02 Omega_m_RE  2.973\n",
      "Epoch: [39][  0/211]\tCMD Loss (s) 2.832e-03 (2.832e-03)\tCMD Loss (t) 3.564e+00 (3.564e+00)\tDANN Loss  1.699 ( 1.699)\tDomain Acc 0.0 (0.0)\n",
      "Epoch: [39][100/211]\tCMD Loss (s) 5.167e-03 (4.104e-03)\tCMD Loss (t) 2.801e+00 (3.544e+00)\tDANN Loss  1.723 ( 1.712)\tDomain Acc 0.0 (0.0)\n",
      "Epoch: [39][200/211]\tCMD Loss (s) 4.248e-03 (4.105e-03)\tCMD Loss (t) 2.596e+00 (3.411e+00)\tDANN Loss  1.709 ( 1.710)\tDomain Acc 0.0 (0.0)\n",
      "Test: [ 0/94]\tCMD Loss (s) 2.793e-03 (2.793e-03)\n",
      "Test: [93/94]\tCMD Loss (s) 1.822e-03 (2.311e-03)\n",
      "Test: [ 0/94]\tCMD Loss (s) 2.149e+00 (2.149e+00)\n",
      "Test: [93/94]\tCMD Loss (s) 2.224e+00 (2.291e+00)\n",
      "Source: mean MAE 2.311e-03 best MAE 1.892e-03 Omega_m_RE  0.056\n",
      "Target: mean MAE 2.291e+00 best MAE 5.828e-02 Omega_m_RE  2.909\n",
      "Epoch: [40][  0/211]\tCMD Loss (s) 2.768e-03 (2.768e-03)\tCMD Loss (t) 3.243e+00 (3.243e+00)\tDANN Loss  1.692 ( 1.692)\tDomain Acc 0.0 (0.0)\n",
      "Epoch: [40][100/211]\tCMD Loss (s) 3.184e-03 (4.251e-03)\tCMD Loss (t) 3.419e+00 (3.374e+00)\tDANN Loss  1.715 ( 1.709)\tDomain Acc 0.8 (0.1)\n",
      "Epoch: [40][200/211]\tCMD Loss (s) 4.357e-03 (4.222e-03)\tCMD Loss (t) 3.760e+00 (3.388e+00)\tDANN Loss  1.711 ( 1.709)\tDomain Acc 0.0 (0.1)\n",
      "Test: [ 0/94]\tCMD Loss (s) 2.305e-03 (2.305e-03)\n",
      "Test: [93/94]\tCMD Loss (s) 1.587e-03 (2.386e-03)\n",
      "Test: [ 0/94]\tCMD Loss (s) 2.322e+00 (2.322e+00)\n",
      "Test: [93/94]\tCMD Loss (s) 2.378e+00 (2.271e+00)\n",
      "Source: mean MAE 2.386e-03 best MAE 1.892e-03 Omega_m_RE  0.055\n",
      "Target: mean MAE 2.271e+00 best MAE 5.828e-02 Omega_m_RE  2.922\n",
      "Epoch: [41][  0/211]\tCMD Loss (s) 2.107e-03 (2.107e-03)\tCMD Loss (t) 3.311e+00 (3.311e+00)\tDANN Loss  1.730 ( 1.730)\tDomain Acc 0.0 (0.0)\n",
      "Epoch: [41][100/211]\tCMD Loss (s) 5.391e-03 (4.051e-03)\tCMD Loss (t) 2.429e+00 (3.274e+00)\tDANN Loss  1.708 ( 1.711)\tDomain Acc 0.0 (0.1)\n",
      "Epoch: [41][200/211]\tCMD Loss (s) 2.526e-03 (4.082e-03)\tCMD Loss (t) 3.463e+00 (3.393e+00)\tDANN Loss  1.729 ( 1.710)\tDomain Acc 0.0 (0.1)\n",
      "Test: [ 0/94]\tCMD Loss (s) 1.196e-03 (1.196e-03)\n",
      "Test: [93/94]\tCMD Loss (s) 2.625e-03 (1.933e-03)\n",
      "Test: [ 0/94]\tCMD Loss (s) 2.268e+00 (2.268e+00)\n",
      "Test: [93/94]\tCMD Loss (s) 2.461e+00 (2.218e+00)\n",
      "Source: mean MAE 1.933e-03 best MAE 1.892e-03 Omega_m_RE  0.052\n",
      "Target: mean MAE 2.218e+00 best MAE 5.828e-02 Omega_m_RE  2.875\n",
      "Epoch: [42][  0/211]\tCMD Loss (s) 3.830e-03 (3.830e-03)\tCMD Loss (t) 2.687e+00 (2.687e+00)\tDANN Loss  1.693 ( 1.693)\tDomain Acc 0.0 (0.0)\n",
      "Epoch: [42][100/211]\tCMD Loss (s) 4.334e-03 (4.240e-03)\tCMD Loss (t) 1.818e+00 (3.138e+00)\tDANN Loss  1.716 ( 1.708)\tDomain Acc 0.0 (0.1)\n",
      "Epoch: [42][200/211]\tCMD Loss (s) 5.115e-03 (4.104e-03)\tCMD Loss (t) 3.507e+00 (3.057e+00)\tDANN Loss  1.724 ( 1.710)\tDomain Acc 0.0 (0.1)\n",
      "Test: [ 0/94]\tCMD Loss (s) 1.715e-03 (1.715e-03)\n",
      "Test: [93/94]\tCMD Loss (s) 1.674e-03 (2.177e-03)\n",
      "Test: [ 0/94]\tCMD Loss (s) 2.112e+00 (2.112e+00)\n",
      "Test: [93/94]\tCMD Loss (s) 1.906e+00 (2.078e+00)\n",
      "Source: mean MAE 2.177e-03 best MAE 1.892e-03 Omega_m_RE  0.053\n",
      "Target: mean MAE 2.078e+00 best MAE 5.828e-02 Omega_m_RE  2.759\n",
      "Epoch: [43][  0/211]\tCMD Loss (s) 5.366e-03 (5.366e-03)\tCMD Loss (t) 2.850e+00 (2.850e+00)\tDANN Loss  1.714 ( 1.714)\tDomain Acc 0.0 (0.0)\n",
      "Epoch: [43][100/211]\tCMD Loss (s) 3.587e-03 (3.946e-03)\tCMD Loss (t) 3.139e+00 (2.923e+00)\tDANN Loss  1.725 ( 1.712)\tDomain Acc 0.0 (0.0)\n",
      "Epoch: [43][200/211]\tCMD Loss (s) 3.947e-03 (4.016e-03)\tCMD Loss (t) 4.540e+00 (3.231e+00)\tDANN Loss  1.738 ( 1.713)\tDomain Acc 0.0 (0.1)\n",
      "Test: [ 0/94]\tCMD Loss (s) 2.477e-03 (2.477e-03)\n",
      "Test: [93/94]\tCMD Loss (s) 1.644e-03 (1.814e-03)\n",
      "Test: [ 0/94]\tCMD Loss (s) 2.324e+00 (2.324e+00)\n",
      "Test: [93/94]\tCMD Loss (s) 2.141e+00 (2.343e+00)\n",
      "Source: mean MAE 1.814e-03 best MAE 1.814e-03 Omega_m_RE  0.051\n",
      "Target: mean MAE 2.343e+00 best MAE 5.828e-02 Omega_m_RE  2.953\n",
      "Epoch: [44][  0/211]\tCMD Loss (s) 4.055e-03 (4.055e-03)\tCMD Loss (t) 4.074e+00 (4.074e+00)\tDANN Loss  1.712 ( 1.712)\tDomain Acc 0.0 (0.0)\n",
      "Epoch: [44][100/211]\tCMD Loss (s) 3.390e-03 (4.210e-03)\tCMD Loss (t) 3.296e+00 (3.467e+00)\tDANN Loss  1.722 ( 1.714)\tDomain Acc 0.0 (0.0)\n",
      "Epoch: [44][200/211]\tCMD Loss (s) 4.065e-03 (4.179e-03)\tCMD Loss (t) 3.897e+00 (3.632e+00)\tDANN Loss  1.769 ( 1.715)\tDomain Acc 0.0 (0.0)\n",
      "Test: [ 0/94]\tCMD Loss (s) 1.808e-03 (1.808e-03)\n",
      "Test: [93/94]\tCMD Loss (s) 1.314e-03 (1.933e-03)\n",
      "Test: [ 0/94]\tCMD Loss (s) 2.740e+00 (2.740e+00)\n",
      "Test: [93/94]\tCMD Loss (s) 2.541e+00 (2.739e+00)\n",
      "Source: mean MAE 1.933e-03 best MAE 1.814e-03 Omega_m_RE  0.052\n",
      "Target: mean MAE 2.739e+00 best MAE 5.828e-02 Omega_m_RE  3.157\n",
      "Epoch: [45][  0/211]\tCMD Loss (s) 3.279e-03 (3.279e-03)\tCMD Loss (t) 3.058e+00 (3.058e+00)\tDANN Loss  1.712 ( 1.712)\tDomain Acc 0.0 (0.0)\n",
      "Epoch: [45][100/211]\tCMD Loss (s) 4.463e-03 (3.791e-03)\tCMD Loss (t) 5.029e+00 (4.047e+00)\tDANN Loss  1.686 ( 1.713)\tDomain Acc 0.0 (0.0)\n",
      "Epoch: [45][200/211]\tCMD Loss (s) 3.935e-03 (3.930e-03)\tCMD Loss (t) 3.380e+00 (3.930e+00)\tDANN Loss  1.730 ( 1.714)\tDomain Acc 0.0 (0.0)\n",
      "Test: [ 0/94]\tCMD Loss (s) 2.221e-03 (2.221e-03)\n",
      "Test: [93/94]\tCMD Loss (s) 2.301e-03 (2.083e-03)\n",
      "Test: [ 0/94]\tCMD Loss (s) 2.432e+00 (2.432e+00)\n",
      "Test: [93/94]\tCMD Loss (s) 2.342e+00 (2.359e+00)\n",
      "Source: mean MAE 2.083e-03 best MAE 1.814e-03 Omega_m_RE  0.052\n",
      "Target: mean MAE 2.359e+00 best MAE 5.828e-02 Omega_m_RE  2.983\n",
      "Epoch: [46][  0/211]\tCMD Loss (s) 3.429e-03 (3.429e-03)\tCMD Loss (t) 3.719e+00 (3.719e+00)\tDANN Loss  1.716 ( 1.716)\tDomain Acc 0.0 (0.0)\n",
      "Epoch: [46][100/211]\tCMD Loss (s) 3.441e-03 (3.979e-03)\tCMD Loss (t) 4.207e+00 (3.894e+00)\tDANN Loss  1.699 ( 1.715)\tDomain Acc 0.0 (0.0)\n",
      "Epoch: [46][200/211]\tCMD Loss (s) 3.163e-03 (3.960e-03)\tCMD Loss (t) 2.772e+00 (3.763e+00)\tDANN Loss  1.725 ( 1.715)\tDomain Acc 0.0 (0.0)\n",
      "Test: [ 0/94]\tCMD Loss (s) 2.445e-03 (2.445e-03)\n",
      "Test: [93/94]\tCMD Loss (s) 1.070e-03 (1.744e-03)\n",
      "Test: [ 0/94]\tCMD Loss (s) 2.035e+00 (2.035e+00)\n",
      "Test: [93/94]\tCMD Loss (s) 2.128e+00 (2.089e+00)\n",
      "Source: mean MAE 1.744e-03 best MAE 1.744e-03 Omega_m_RE  0.053\n",
      "Target: mean MAE 2.089e+00 best MAE 5.828e-02 Omega_m_RE  2.807\n",
      "Epoch: [47][  0/211]\tCMD Loss (s) 3.911e-03 (3.911e-03)\tCMD Loss (t) 3.321e+00 (3.321e+00)\tDANN Loss  1.706 ( 1.706)\tDomain Acc 0.0 (0.0)\n",
      "Epoch: [47][100/211]\tCMD Loss (s) 4.514e-03 (3.889e-03)\tCMD Loss (t) 2.959e+00 (3.500e+00)\tDANN Loss  1.692 ( 1.715)\tDomain Acc 0.0 (0.0)\n"
     ]
    },
    {
     "ename": "KeyboardInterrupt",
     "evalue": "",
     "output_type": "error",
     "traceback": [
      "\u001b[0;31m---------------------------------------------------------------------------\u001b[0m",
      "\u001b[0;31mKeyboardInterrupt\u001b[0m                         Traceback (most recent call last)",
      "\u001b[1;32m/home/jingyue/CMD/CMD_data_da.ipynb Cell 15\u001b[0m line \u001b[0;36m6\n\u001b[1;32m      <a href='vscode-notebook-cell://ssh-remote%2Blaregencia/home/jingyue/CMD/CMD_data_da.ipynb#X20sdnNjb2RlLXJlbW90ZQ%3D%3D?line=1'>2</a>\u001b[0m best_mae_t \u001b[39m=\u001b[39m \u001b[39m100000.\u001b[39m\n\u001b[1;32m      <a href='vscode-notebook-cell://ssh-remote%2Blaregencia/home/jingyue/CMD/CMD_data_da.ipynb#X20sdnNjb2RlLXJlbW90ZQ%3D%3D?line=2'>3</a>\u001b[0m \u001b[39mfor\u001b[39;00m epoch \u001b[39min\u001b[39;00m \u001b[39mrange\u001b[39m(epochs):\n\u001b[1;32m      <a href='vscode-notebook-cell://ssh-remote%2Blaregencia/home/jingyue/CMD/CMD_data_da.ipynb#X20sdnNjb2RlLXJlbW90ZQ%3D%3D?line=3'>4</a>\u001b[0m     \u001b[39m# train for one epoch\u001b[39;00m\n\u001b[1;32m      <a href='vscode-notebook-cell://ssh-remote%2Blaregencia/home/jingyue/CMD/CMD_data_da.ipynb#X20sdnNjb2RlLXJlbW90ZQ%3D%3D?line=4'>5</a>\u001b[0m     \u001b[39m# print(\"lr\", lr_scheduler.get_lr())\u001b[39;00m\n\u001b[0;32m----> <a href='vscode-notebook-cell://ssh-remote%2Blaregencia/home/jingyue/CMD/CMD_data_da.ipynb#X20sdnNjb2RlLXJlbW90ZQ%3D%3D?line=5'>6</a>\u001b[0m     train(train_source_iter, train_target_iter, regressor, dann, optimizer,\n\u001b[1;32m      <a href='vscode-notebook-cell://ssh-remote%2Blaregencia/home/jingyue/CMD/CMD_data_da.ipynb#X20sdnNjb2RlLXJlbW90ZQ%3D%3D?line=6'>7</a>\u001b[0m             lr_scheduler, epoch, trade_off, loss_type\u001b[39m=\u001b[39;49m\u001b[39m\"\u001b[39;49m\u001b[39mmean\u001b[39;49m\u001b[39m\"\u001b[39;49m)\n\u001b[1;32m      <a href='vscode-notebook-cell://ssh-remote%2Blaregencia/home/jingyue/CMD/CMD_data_da.ipynb#X20sdnNjb2RlLXJlbW90ZQ%3D%3D?line=8'>9</a>\u001b[0m     \u001b[39m# evaluate on validation set\u001b[39;00m\n\u001b[1;32m     <a href='vscode-notebook-cell://ssh-remote%2Blaregencia/home/jingyue/CMD/CMD_data_da.ipynb#X20sdnNjb2RlLXJlbW90ZQ%3D%3D?line=9'>10</a>\u001b[0m     mae_s, rel_error_s \u001b[39m=\u001b[39m validate(val_source_loader, regressor, factors, device, loss_type\u001b[39m=\u001b[39m\u001b[39m\"\u001b[39m\u001b[39mmean\u001b[39m\u001b[39m\"\u001b[39m)\n",
      "\u001b[1;32m/home/jingyue/CMD/CMD_data_da.ipynb Cell 15\u001b[0m line \u001b[0;36m2\n\u001b[1;32m     <a href='vscode-notebook-cell://ssh-remote%2Blaregencia/home/jingyue/CMD/CMD_data_da.ipynb#X20sdnNjb2RlLXJlbW90ZQ%3D%3D?line=21'>22</a>\u001b[0m optimizer\u001b[39m.\u001b[39mzero_grad()\n\u001b[1;32m     <a href='vscode-notebook-cell://ssh-remote%2Blaregencia/home/jingyue/CMD/CMD_data_da.ipynb#X20sdnNjb2RlLXJlbW90ZQ%3D%3D?line=23'>24</a>\u001b[0m x_s, labels_s \u001b[39m=\u001b[39m \u001b[39mnext\u001b[39m(train_source_iter)\n\u001b[0;32m---> <a href='vscode-notebook-cell://ssh-remote%2Blaregencia/home/jingyue/CMD/CMD_data_da.ipynb#X20sdnNjb2RlLXJlbW90ZQ%3D%3D?line=24'>25</a>\u001b[0m x_s \u001b[39m=\u001b[39m x_s\u001b[39m.\u001b[39;49mto(device)\n\u001b[1;32m     <a href='vscode-notebook-cell://ssh-remote%2Blaregencia/home/jingyue/CMD/CMD_data_da.ipynb#X20sdnNjb2RlLXJlbW90ZQ%3D%3D?line=25'>26</a>\u001b[0m labels_s \u001b[39m=\u001b[39m labels_s[:, :\u001b[39mlen\u001b[39m(factors)]\u001b[39m.\u001b[39mto(device)\u001b[39m.\u001b[39mfloat()\n\u001b[1;32m     <a href='vscode-notebook-cell://ssh-remote%2Blaregencia/home/jingyue/CMD/CMD_data_da.ipynb#X20sdnNjb2RlLXJlbW90ZQ%3D%3D?line=27'>28</a>\u001b[0m x_t, labels_t \u001b[39m=\u001b[39m \u001b[39mnext\u001b[39m(train_target_iter)\n",
      "\u001b[0;31mKeyboardInterrupt\u001b[0m: "
     ]
    }
   ],
   "source": [
    "best_mae_s = 100000.\n",
    "best_mae_t = 100000.\n",
    "for epoch in range(epochs):\n",
    "    # train for one epoch\n",
    "    # print(\"lr\", lr_scheduler.get_lr())\n",
    "    train(train_source_iter, train_target_iter, regressor, dann, optimizer,\n",
    "            lr_scheduler, epoch, trade_off, loss_type=\"mean\")\n",
    "\n",
    "    # evaluate on validation set\n",
    "    mae_s, rel_error_s = validate(val_source_loader, regressor, factors, device, loss_type=\"mean\")\n",
    "    mae_t, rel_error_t = validate(val_target_loader, regressor, factors, device, loss_type=\"mean\")\n",
    "\n",
    "    # remember best mae and save checkpoint\n",
    "    if mae_t < best_mae_t:\n",
    "        torch.save(regressor.state_dict(), \"dann/checkpoints/best_model.pth\")\n",
    "    best_mae_t = min(mae_t, best_mae_t)\n",
    "    best_mae_s = min(mae_s, best_mae_s)\n",
    "    if num_factors <= 2:\n",
    "        print(\"Source: mean MAE {:6.3e} best MAE {:6.3e} Omega_m_RE {:6.3f}\".format(mae_s, best_mae_s, rel_error_s[0]))\n",
    "        print(\"Target: mean MAE {:6.3e} best MAE {:6.3e} Omega_m_RE {:6.3f}\".format(mae_t, best_mae_t, rel_error_t[0]))\n",
    "    else:\n",
    "        print(\"Source: mean MAE {:6.3e} best MAE {:6.3e} Omega_m_RE {:6.3f} sigma_8_RE {:6.3f}\".format(mae_s, best_mae_s, rel_error_s[0], rel_error_s[1]))\n",
    "        print(\"Target: mean MAE {:6.3e} best MAE {:6.3e} Omega_m_RE {:6.3f} sigma_8_RE {:6.3f}\".format(mae_t, best_mae_t, rel_error_t[0], rel_error_t[1]))\n",
    "    \n",
    "print(\"best_mae = {:6.3f}\".format(best_mae_t))\n"
   ]
  },
  {
   "cell_type": "markdown",
   "metadata": {},
   "source": [
    "## Test"
   ]
  },
  {
   "cell_type": "code",
   "execution_count": 11,
   "metadata": {},
   "outputs": [
    {
     "name": "stdout",
     "output_type": "stream",
     "text": [
      "750\n",
      "Found 1 channels\n",
      "Reading data...\n",
      "1.502e+03 < F(all|orig) < 8.669e+07\n",
      "3.177 < F(all|resc)  < 7.938\n",
      "-1.282 < F(all|norm) < 4.550\n"
     ]
    }
   ],
   "source": [
    "# load test set\n",
    "fmaps = ['maps_T_TNG.npy']\n",
    "fparams = '2D_maps/data/params_LH_IllustrisTNG.txt'\n",
    "test_loader  = create_dataset_multifield('test', seed, fmaps, fparams, batch_size, splits, fmaps_norm,\n",
    "                                         rot_flip_in_mem=False, verbose=True)"
   ]
  },
  {
   "cell_type": "code",
   "execution_count": 13,
   "metadata": {},
   "outputs": [
    {
     "name": "stdout",
     "output_type": "stream",
     "text": [
      "750\n",
      "Found 1 channels\n",
      "Reading data...\n",
      "2.215e+02 < F(all|orig) < 2.772e+11\n",
      "2.345 < F(all|resc)  < 11.443\n",
      "-2.301 < F(all|norm) < 8.844\n"
     ]
    }
   ],
   "source": [
    "# load test set\n",
    "fmaps = ['maps_T_SIMBA.npy']\n",
    "fparams = '2D_maps/data/params_LH_SIMBA.txt'\n",
    "test_loader  = create_dataset_multifield('test', seed, fmaps, fparams, batch_size, splits, fmaps_norm,\n",
    "                                         rot_flip_in_mem=False, verbose=True)"
   ]
  },
  {
   "cell_type": "code",
   "execution_count": 18,
   "metadata": {},
   "outputs": [
    {
     "name": "stdout",
     "output_type": "stream",
     "text": [
      "Weights loaded\n"
     ]
    }
   ],
   "source": [
    "fmodel = 'dann/checkpoints/best_model_2.pth'\n",
    "fmodel = 'dann/checkpoints/best_model_vgg_0.1_11.pth'\n",
    "fmodel = 'dann/checkpoints/best_model_vgg_2_0.001_13.pth'\n",
    "fmodel = 'dann/checkpoints/best_model_vgg_1_0.8_norm.pth'\n",
    "# fmodel = 'dann/checkpoints/best_model_vgg_2_0.1_norm.pth'\n",
    "fmodel = 'dann/checkpoints/best_model.pth'\n",
    "# fmodel = 'dann/checkpoints/best_model_vgg_1_0.01_norm.pth'\n",
    "\n",
    "\n",
    "if os.path.exists(fmodel):\n",
    "    checkpoint = torch.load(fmodel, map_location=torch.device(device))\n",
    "    new_state_dict = {k.replace('module.', ''): v for k, v in checkpoint.items()}\n",
    "    regressor.load_state_dict(new_state_dict)\n",
    "    \n",
    "    # model.load_state_dict(torch.load(fmodel, map_location=torch.device(device)))\n",
    "    print('Weights loaded')"
   ]
  },
  {
   "cell_type": "code",
   "execution_count": 20,
   "metadata": {},
   "outputs": [
    {
     "name": "stdout",
     "output_type": "stream",
     "text": [
      "\n",
      "Number of maps in the test set: 750\n"
     ]
    },
    {
     "name": "stderr",
     "output_type": "stream",
     "text": [
      "  0%|          | 0/100 [00:00<?, ?it/s]"
     ]
    },
    {
     "name": "stderr",
     "output_type": "stream",
     "text": [
      "  1%|          | 1/100 [00:00<01:30,  1.09it/s]"
     ]
    },
    {
     "name": "stdout",
     "output_type": "stream",
     "text": [
      "Test loss = -2.795e+00\n",
      "\n",
      "Normalized Error Omega_m = 0.247\n",
      "Error Omega_m = 0.099\n",
      "Bayesian error Omega_m = 0.000\n",
      "Relative error Omega_m = 0.481\n",
      "R^2: 0.33879434062723557\n"
     ]
    },
    {
     "name": "stderr",
     "output_type": "stream",
     "text": [
      "  2%|▏         | 2/100 [00:01<01:29,  1.10it/s]"
     ]
    },
    {
     "name": "stdout",
     "output_type": "stream",
     "text": [
      "Test loss = -2.796e+00\n",
      "\n",
      "Normalized Error Omega_m = 0.247\n",
      "Error Omega_m = 0.099\n",
      "Bayesian error Omega_m = 0.000\n",
      "Relative error Omega_m = 0.478\n",
      "R^2: 0.34814531986981334\n"
     ]
    },
    {
     "name": "stderr",
     "output_type": "stream",
     "text": [
      "  3%|▎         | 3/100 [00:02<01:28,  1.10it/s]"
     ]
    },
    {
     "name": "stdout",
     "output_type": "stream",
     "text": [
      "Test loss = -2.786e+00\n",
      "\n",
      "Normalized Error Omega_m = 0.248\n",
      "Error Omega_m = 0.099\n",
      "Bayesian error Omega_m = 0.000\n",
      "Relative error Omega_m = 0.480\n",
      "R^2: 0.3296375018779881\n"
     ]
    },
    {
     "name": "stderr",
     "output_type": "stream",
     "text": [
      "  4%|▍         | 4/100 [00:03<01:27,  1.10it/s]"
     ]
    },
    {
     "name": "stdout",
     "output_type": "stream",
     "text": [
      "Test loss = -2.783e+00\n",
      "\n",
      "Normalized Error Omega_m = 0.249\n",
      "Error Omega_m = 0.099\n",
      "Bayesian error Omega_m = 0.000\n",
      "Relative error Omega_m = 0.481\n",
      "R^2: 0.1427903896114191\n"
     ]
    },
    {
     "name": "stderr",
     "output_type": "stream",
     "text": [
      "  5%|▌         | 5/100 [00:04<01:26,  1.10it/s]"
     ]
    },
    {
     "name": "stdout",
     "output_type": "stream",
     "text": [
      "Test loss = -2.791e+00\n",
      "\n",
      "Normalized Error Omega_m = 0.248\n",
      "Error Omega_m = 0.099\n",
      "Bayesian error Omega_m = 0.000\n",
      "Relative error Omega_m = 0.480\n",
      "R^2: 0.2622175279335037\n"
     ]
    },
    {
     "name": "stderr",
     "output_type": "stream",
     "text": [
      "  6%|▌         | 6/100 [00:05<01:25,  1.10it/s]"
     ]
    },
    {
     "name": "stdout",
     "output_type": "stream",
     "text": [
      "Test loss = -2.792e+00\n",
      "\n",
      "Normalized Error Omega_m = 0.248\n",
      "Error Omega_m = 0.099\n",
      "Bayesian error Omega_m = 0.000\n",
      "Relative error Omega_m = 0.480\n",
      "R^2: 0.24642735512506975\n"
     ]
    },
    {
     "name": "stderr",
     "output_type": "stream",
     "text": [
      "  7%|▋         | 7/100 [00:06<01:24,  1.10it/s]"
     ]
    },
    {
     "name": "stdout",
     "output_type": "stream",
     "text": [
      "Test loss = -2.784e+00\n",
      "\n",
      "Normalized Error Omega_m = 0.249\n",
      "Error Omega_m = 0.099\n",
      "Bayesian error Omega_m = 0.000\n",
      "Relative error Omega_m = 0.483\n",
      "R^2: -0.22664474655450628\n"
     ]
    },
    {
     "name": "stderr",
     "output_type": "stream",
     "text": [
      "  8%|▊         | 8/100 [00:07<01:23,  1.10it/s]"
     ]
    },
    {
     "name": "stdout",
     "output_type": "stream",
     "text": [
      "Test loss = -2.790e+00\n",
      "\n",
      "Normalized Error Omega_m = 0.248\n",
      "Error Omega_m = 0.099\n",
      "Bayesian error Omega_m = 0.000\n",
      "Relative error Omega_m = 0.481\n",
      "R^2: 0.2995270652675319\n"
     ]
    },
    {
     "name": "stderr",
     "output_type": "stream",
     "text": [
      "  9%|▉         | 9/100 [00:08<01:23,  1.10it/s]"
     ]
    },
    {
     "name": "stdout",
     "output_type": "stream",
     "text": [
      "Test loss = -2.792e+00\n",
      "\n",
      "Normalized Error Omega_m = 0.248\n",
      "Error Omega_m = 0.099\n",
      "Bayesian error Omega_m = 0.000\n",
      "Relative error Omega_m = 0.481\n",
      "R^2: 0.21497077880989746\n"
     ]
    },
    {
     "name": "stderr",
     "output_type": "stream",
     "text": [
      " 10%|█         | 10/100 [00:09<01:22,  1.10it/s]"
     ]
    },
    {
     "name": "stdout",
     "output_type": "stream",
     "text": [
      "Test loss = -2.794e+00\n",
      "\n",
      "Normalized Error Omega_m = 0.247\n",
      "Error Omega_m = 0.099\n",
      "Bayesian error Omega_m = 0.000\n",
      "Relative error Omega_m = 0.481\n",
      "R^2: 0.024759011818332288\n"
     ]
    },
    {
     "name": "stderr",
     "output_type": "stream",
     "text": [
      " 11%|█         | 11/100 [00:10<01:21,  1.09it/s]"
     ]
    },
    {
     "name": "stdout",
     "output_type": "stream",
     "text": [
      "Test loss = -2.786e+00\n",
      "\n",
      "Normalized Error Omega_m = 0.248\n",
      "Error Omega_m = 0.099\n",
      "Bayesian error Omega_m = 0.000\n",
      "Relative error Omega_m = 0.482\n",
      "R^2: 0.05629576274307868\n"
     ]
    },
    {
     "name": "stderr",
     "output_type": "stream",
     "text": [
      " 12%|█▏        | 12/100 [00:10<01:20,  1.09it/s]"
     ]
    },
    {
     "name": "stdout",
     "output_type": "stream",
     "text": [
      "Test loss = -2.793e+00\n",
      "\n",
      "Normalized Error Omega_m = 0.247\n",
      "Error Omega_m = 0.099\n",
      "Bayesian error Omega_m = 0.000\n",
      "Relative error Omega_m = 0.479\n",
      "R^2: -0.0234733135879317\n"
     ]
    },
    {
     "name": "stderr",
     "output_type": "stream",
     "text": [
      " 13%|█▎        | 13/100 [00:11<01:19,  1.09it/s]"
     ]
    },
    {
     "name": "stdout",
     "output_type": "stream",
     "text": [
      "Test loss = -2.791e+00\n",
      "\n",
      "Normalized Error Omega_m = 0.248\n",
      "Error Omega_m = 0.099\n",
      "Bayesian error Omega_m = 0.000\n",
      "Relative error Omega_m = 0.480\n",
      "R^2: -0.10183328996999386\n"
     ]
    },
    {
     "name": "stderr",
     "output_type": "stream",
     "text": [
      " 14%|█▍        | 14/100 [00:12<01:18,  1.09it/s]"
     ]
    },
    {
     "name": "stdout",
     "output_type": "stream",
     "text": [
      "Test loss = -2.797e+00\n",
      "\n",
      "Normalized Error Omega_m = 0.247\n",
      "Error Omega_m = 0.099\n",
      "Bayesian error Omega_m = 0.000\n",
      "Relative error Omega_m = 0.478\n",
      "R^2: 0.34798512170248697\n"
     ]
    },
    {
     "name": "stderr",
     "output_type": "stream",
     "text": [
      " 15%|█▌        | 15/100 [00:13<01:17,  1.09it/s]"
     ]
    },
    {
     "name": "stdout",
     "output_type": "stream",
     "text": [
      "Test loss = -2.788e+00\n",
      "\n",
      "Normalized Error Omega_m = 0.248\n",
      "Error Omega_m = 0.099\n",
      "Bayesian error Omega_m = 0.000\n",
      "Relative error Omega_m = 0.481\n",
      "R^2: -0.17044618312630333\n"
     ]
    },
    {
     "name": "stderr",
     "output_type": "stream",
     "text": [
      " 16%|█▌        | 16/100 [00:14<01:16,  1.09it/s]"
     ]
    },
    {
     "name": "stdout",
     "output_type": "stream",
     "text": [
      "Test loss = -2.781e+00\n",
      "\n",
      "Normalized Error Omega_m = 0.249\n",
      "Error Omega_m = 0.100\n",
      "Bayesian error Omega_m = 0.000\n",
      "Relative error Omega_m = 0.482\n",
      "R^2: 0.1453308211255656\n"
     ]
    },
    {
     "name": "stderr",
     "output_type": "stream",
     "text": [
      " 17%|█▋        | 17/100 [00:15<01:15,  1.09it/s]"
     ]
    },
    {
     "name": "stdout",
     "output_type": "stream",
     "text": [
      "Test loss = -2.784e+00\n",
      "\n",
      "Normalized Error Omega_m = 0.249\n",
      "Error Omega_m = 0.099\n",
      "Bayesian error Omega_m = 0.000\n",
      "Relative error Omega_m = 0.482\n",
      "R^2: 0.25308580305963535\n"
     ]
    },
    {
     "name": "stderr",
     "output_type": "stream",
     "text": [
      " 18%|█▊        | 18/100 [00:16<01:15,  1.09it/s]"
     ]
    },
    {
     "name": "stdout",
     "output_type": "stream",
     "text": [
      "Test loss = -2.795e+00\n",
      "\n",
      "Normalized Error Omega_m = 0.247\n",
      "Error Omega_m = 0.099\n",
      "Bayesian error Omega_m = 0.000\n",
      "Relative error Omega_m = 0.479\n",
      "R^2: 0.24392976275047706\n"
     ]
    },
    {
     "name": "stderr",
     "output_type": "stream",
     "text": [
      " 19%|█▉        | 19/100 [00:17<01:14,  1.09it/s]"
     ]
    },
    {
     "name": "stdout",
     "output_type": "stream",
     "text": [
      "Test loss = -2.779e+00\n",
      "\n",
      "Normalized Error Omega_m = 0.249\n",
      "Error Omega_m = 0.100\n",
      "Bayesian error Omega_m = 0.000\n",
      "Relative error Omega_m = 0.483\n",
      "R^2: 0.43982386858431133\n"
     ]
    },
    {
     "name": "stderr",
     "output_type": "stream",
     "text": [
      " 20%|██        | 20/100 [00:18<01:13,  1.09it/s]"
     ]
    },
    {
     "name": "stdout",
     "output_type": "stream",
     "text": [
      "Test loss = -2.786e+00\n",
      "\n",
      "Normalized Error Omega_m = 0.248\n",
      "Error Omega_m = 0.099\n",
      "Bayesian error Omega_m = 0.000\n",
      "Relative error Omega_m = 0.481\n",
      "R^2: 0.11860726631594887\n"
     ]
    },
    {
     "name": "stderr",
     "output_type": "stream",
     "text": [
      " 21%|██        | 21/100 [00:19<01:12,  1.09it/s]"
     ]
    },
    {
     "name": "stdout",
     "output_type": "stream",
     "text": [
      "Test loss = -2.780e+00\n",
      "\n",
      "Normalized Error Omega_m = 0.249\n",
      "Error Omega_m = 0.100\n",
      "Bayesian error Omega_m = 0.000\n",
      "Relative error Omega_m = 0.483\n",
      "R^2: 0.289973268727752\n"
     ]
    },
    {
     "name": "stderr",
     "output_type": "stream",
     "text": [
      " 22%|██▏       | 22/100 [00:20<01:11,  1.09it/s]"
     ]
    },
    {
     "name": "stdout",
     "output_type": "stream",
     "text": [
      "Test loss = -2.789e+00\n",
      "\n",
      "Normalized Error Omega_m = 0.248\n",
      "Error Omega_m = 0.099\n",
      "Bayesian error Omega_m = 0.000\n",
      "Relative error Omega_m = 0.481\n",
      "R^2: 0.24272470149627134\n"
     ]
    },
    {
     "name": "stderr",
     "output_type": "stream",
     "text": [
      " 23%|██▎       | 23/100 [00:21<01:10,  1.09it/s]"
     ]
    },
    {
     "name": "stdout",
     "output_type": "stream",
     "text": [
      "Test loss = -2.797e+00\n",
      "\n",
      "Normalized Error Omega_m = 0.247\n",
      "Error Omega_m = 0.099\n",
      "Bayesian error Omega_m = 0.000\n",
      "Relative error Omega_m = 0.480\n",
      "R^2: 0.12332983615059634\n"
     ]
    },
    {
     "name": "stderr",
     "output_type": "stream",
     "text": [
      " 24%|██▍       | 24/100 [00:21<01:09,  1.09it/s]"
     ]
    },
    {
     "name": "stdout",
     "output_type": "stream",
     "text": [
      "Test loss = -2.775e+00\n",
      "\n",
      "Normalized Error Omega_m = 0.250\n",
      "Error Omega_m = 0.100\n",
      "Bayesian error Omega_m = 0.000\n",
      "Relative error Omega_m = 0.487\n",
      "R^2: 0.05393948843137042\n"
     ]
    },
    {
     "name": "stderr",
     "output_type": "stream",
     "text": [
      " 25%|██▌       | 25/100 [00:22<01:08,  1.09it/s]"
     ]
    },
    {
     "name": "stdout",
     "output_type": "stream",
     "text": [
      "Test loss = -2.786e+00\n",
      "\n",
      "Normalized Error Omega_m = 0.248\n",
      "Error Omega_m = 0.099\n",
      "Bayesian error Omega_m = 0.000\n",
      "Relative error Omega_m = 0.482\n",
      "R^2: 0.1186052413412787\n"
     ]
    },
    {
     "name": "stderr",
     "output_type": "stream",
     "text": [
      " 26%|██▌       | 26/100 [00:23<01:07,  1.09it/s]"
     ]
    },
    {
     "name": "stdout",
     "output_type": "stream",
     "text": [
      "Test loss = -2.787e+00\n",
      "\n",
      "Normalized Error Omega_m = 0.248\n",
      "Error Omega_m = 0.099\n",
      "Bayesian error Omega_m = 0.000\n",
      "Relative error Omega_m = 0.482\n",
      "R^2: -0.15089583172385912\n"
     ]
    },
    {
     "name": "stderr",
     "output_type": "stream",
     "text": [
      " 27%|██▋       | 27/100 [00:24<01:06,  1.09it/s]"
     ]
    },
    {
     "name": "stdout",
     "output_type": "stream",
     "text": [
      "Test loss = -2.792e+00\n",
      "\n",
      "Normalized Error Omega_m = 0.248\n",
      "Error Omega_m = 0.099\n",
      "Bayesian error Omega_m = 0.000\n",
      "Relative error Omega_m = 0.480\n",
      "R^2: 0.029594075990059365\n"
     ]
    },
    {
     "name": "stderr",
     "output_type": "stream",
     "text": [
      " 28%|██▊       | 28/100 [00:25<01:05,  1.09it/s]"
     ]
    },
    {
     "name": "stdout",
     "output_type": "stream",
     "text": [
      "Test loss = -2.791e+00\n",
      "\n",
      "Normalized Error Omega_m = 0.248\n",
      "Error Omega_m = 0.099\n",
      "Bayesian error Omega_m = 0.000\n",
      "Relative error Omega_m = 0.481\n",
      "R^2: 0.18644868108059198\n"
     ]
    },
    {
     "name": "stderr",
     "output_type": "stream",
     "text": [
      " 29%|██▉       | 29/100 [00:26<01:05,  1.09it/s]"
     ]
    },
    {
     "name": "stdout",
     "output_type": "stream",
     "text": [
      "Test loss = -2.785e+00\n",
      "\n",
      "Normalized Error Omega_m = 0.248\n",
      "Error Omega_m = 0.099\n",
      "Bayesian error Omega_m = 0.000\n",
      "Relative error Omega_m = 0.481\n",
      "R^2: -0.07467230613753961\n"
     ]
    },
    {
     "name": "stderr",
     "output_type": "stream",
     "text": [
      " 30%|███       | 30/100 [00:27<01:04,  1.09it/s]"
     ]
    },
    {
     "name": "stdout",
     "output_type": "stream",
     "text": [
      "Test loss = -2.792e+00\n",
      "\n",
      "Normalized Error Omega_m = 0.248\n",
      "Error Omega_m = 0.099\n",
      "Bayesian error Omega_m = 0.000\n",
      "Relative error Omega_m = 0.481\n",
      "R^2: -0.029639949650632547\n"
     ]
    },
    {
     "name": "stderr",
     "output_type": "stream",
     "text": [
      " 31%|███       | 31/100 [00:28<01:03,  1.09it/s]"
     ]
    },
    {
     "name": "stdout",
     "output_type": "stream",
     "text": [
      "Test loss = -2.791e+00\n",
      "\n",
      "Normalized Error Omega_m = 0.248\n",
      "Error Omega_m = 0.099\n",
      "Bayesian error Omega_m = 0.000\n",
      "Relative error Omega_m = 0.481\n",
      "R^2: -0.038211607956824434\n"
     ]
    },
    {
     "name": "stderr",
     "output_type": "stream",
     "text": [
      " 32%|███▏      | 32/100 [00:29<01:02,  1.09it/s]"
     ]
    },
    {
     "name": "stdout",
     "output_type": "stream",
     "text": [
      "Test loss = -2.800e+00\n",
      "\n",
      "Normalized Error Omega_m = 0.247\n",
      "Error Omega_m = 0.099\n",
      "Bayesian error Omega_m = 0.000\n",
      "Relative error Omega_m = 0.480\n",
      "R^2: -0.002264241250056198\n"
     ]
    },
    {
     "name": "stderr",
     "output_type": "stream",
     "text": [
      " 33%|███▎      | 33/100 [00:30<01:01,  1.09it/s]"
     ]
    },
    {
     "name": "stdout",
     "output_type": "stream",
     "text": [
      "Test loss = -2.786e+00\n",
      "\n",
      "Normalized Error Omega_m = 0.248\n",
      "Error Omega_m = 0.099\n",
      "Bayesian error Omega_m = 0.000\n",
      "Relative error Omega_m = 0.482\n",
      "R^2: 0.39402869462669354\n"
     ]
    },
    {
     "name": "stderr",
     "output_type": "stream",
     "text": [
      " 34%|███▍      | 34/100 [00:31<01:00,  1.09it/s]"
     ]
    },
    {
     "name": "stdout",
     "output_type": "stream",
     "text": [
      "Test loss = -2.789e+00\n",
      "\n",
      "Normalized Error Omega_m = 0.248\n",
      "Error Omega_m = 0.099\n",
      "Bayesian error Omega_m = 0.000\n",
      "Relative error Omega_m = 0.482\n",
      "R^2: 0.4642279753494599\n"
     ]
    },
    {
     "name": "stderr",
     "output_type": "stream",
     "text": [
      " 35%|███▌      | 35/100 [00:32<00:59,  1.09it/s]"
     ]
    },
    {
     "name": "stdout",
     "output_type": "stream",
     "text": [
      "Test loss = -2.789e+00\n",
      "\n",
      "Normalized Error Omega_m = 0.248\n",
      "Error Omega_m = 0.099\n",
      "Bayesian error Omega_m = 0.000\n",
      "Relative error Omega_m = 0.481\n",
      "R^2: 0.49525056250167954\n"
     ]
    },
    {
     "name": "stderr",
     "output_type": "stream",
     "text": [
      " 36%|███▌      | 36/100 [00:32<00:58,  1.09it/s]"
     ]
    },
    {
     "name": "stdout",
     "output_type": "stream",
     "text": [
      "Test loss = -2.783e+00\n",
      "\n",
      "Normalized Error Omega_m = 0.249\n",
      "Error Omega_m = 0.099\n",
      "Bayesian error Omega_m = 0.000\n",
      "Relative error Omega_m = 0.485\n",
      "R^2: 0.13121698771098012\n"
     ]
    },
    {
     "name": "stderr",
     "output_type": "stream",
     "text": [
      " 37%|███▋      | 37/100 [00:33<00:57,  1.09it/s]"
     ]
    },
    {
     "name": "stdout",
     "output_type": "stream",
     "text": [
      "Test loss = -2.788e+00\n",
      "\n",
      "Normalized Error Omega_m = 0.248\n",
      "Error Omega_m = 0.099\n",
      "Bayesian error Omega_m = 0.000\n",
      "Relative error Omega_m = 0.481\n",
      "R^2: 0.0298303653604286\n"
     ]
    },
    {
     "name": "stderr",
     "output_type": "stream",
     "text": [
      " 38%|███▊      | 38/100 [00:34<00:56,  1.09it/s]"
     ]
    },
    {
     "name": "stdout",
     "output_type": "stream",
     "text": [
      "Test loss = -2.800e+00\n",
      "\n",
      "Normalized Error Omega_m = 0.247\n",
      "Error Omega_m = 0.099\n",
      "Bayesian error Omega_m = 0.000\n",
      "Relative error Omega_m = 0.477\n",
      "R^2: -0.015846590775143943\n"
     ]
    },
    {
     "name": "stderr",
     "output_type": "stream",
     "text": [
      " 39%|███▉      | 39/100 [00:35<00:55,  1.09it/s]"
     ]
    },
    {
     "name": "stdout",
     "output_type": "stream",
     "text": [
      "Test loss = -2.786e+00\n",
      "\n",
      "Normalized Error Omega_m = 0.248\n",
      "Error Omega_m = 0.099\n",
      "Bayesian error Omega_m = 0.000\n",
      "Relative error Omega_m = 0.482\n",
      "R^2: 0.09145305601720677\n"
     ]
    },
    {
     "name": "stderr",
     "output_type": "stream",
     "text": [
      " 40%|████      | 40/100 [00:36<00:54,  1.09it/s]"
     ]
    },
    {
     "name": "stdout",
     "output_type": "stream",
     "text": [
      "Test loss = -2.795e+00\n",
      "\n",
      "Normalized Error Omega_m = 0.247\n",
      "Error Omega_m = 0.099\n",
      "Bayesian error Omega_m = 0.000\n",
      "Relative error Omega_m = 0.479\n",
      "R^2: -0.0033831829446988593\n"
     ]
    },
    {
     "name": "stderr",
     "output_type": "stream",
     "text": [
      " 41%|████      | 41/100 [00:37<00:54,  1.09it/s]"
     ]
    },
    {
     "name": "stdout",
     "output_type": "stream",
     "text": [
      "Test loss = -2.787e+00\n",
      "\n",
      "Normalized Error Omega_m = 0.248\n",
      "Error Omega_m = 0.099\n",
      "Bayesian error Omega_m = 0.000\n",
      "Relative error Omega_m = 0.481\n",
      "R^2: 0.2721773507729771\n"
     ]
    },
    {
     "name": "stderr",
     "output_type": "stream",
     "text": [
      " 42%|████▏     | 42/100 [00:38<00:53,  1.09it/s]"
     ]
    },
    {
     "name": "stdout",
     "output_type": "stream",
     "text": [
      "Test loss = -2.791e+00\n",
      "\n",
      "Normalized Error Omega_m = 0.248\n",
      "Error Omega_m = 0.099\n",
      "Bayesian error Omega_m = 0.000\n",
      "Relative error Omega_m = 0.481\n",
      "R^2: 0.3512292026582581\n"
     ]
    },
    {
     "name": "stderr",
     "output_type": "stream",
     "text": [
      " 43%|████▎     | 43/100 [00:39<00:52,  1.09it/s]"
     ]
    },
    {
     "name": "stdout",
     "output_type": "stream",
     "text": [
      "Test loss = -2.797e+00\n",
      "\n",
      "Normalized Error Omega_m = 0.247\n",
      "Error Omega_m = 0.099\n",
      "Bayesian error Omega_m = 0.000\n",
      "Relative error Omega_m = 0.480\n",
      "R^2: 0.26562934976866337\n"
     ]
    },
    {
     "name": "stderr",
     "output_type": "stream",
     "text": [
      " 44%|████▍     | 44/100 [00:40<00:51,  1.09it/s]"
     ]
    },
    {
     "name": "stdout",
     "output_type": "stream",
     "text": [
      "Test loss = -2.784e+00\n",
      "\n",
      "Normalized Error Omega_m = 0.249\n",
      "Error Omega_m = 0.099\n",
      "Bayesian error Omega_m = 0.000\n",
      "Relative error Omega_m = 0.482\n",
      "R^2: 0.15621272159040556\n"
     ]
    },
    {
     "name": "stderr",
     "output_type": "stream",
     "text": [
      " 45%|████▌     | 45/100 [00:41<00:50,  1.09it/s]"
     ]
    },
    {
     "name": "stdout",
     "output_type": "stream",
     "text": [
      "Test loss = -2.790e+00\n",
      "\n",
      "Normalized Error Omega_m = 0.248\n",
      "Error Omega_m = 0.099\n",
      "Bayesian error Omega_m = 0.000\n",
      "Relative error Omega_m = 0.482\n",
      "R^2: 0.1036918009453267\n"
     ]
    },
    {
     "name": "stderr",
     "output_type": "stream",
     "text": [
      " 46%|████▌     | 46/100 [00:42<00:49,  1.09it/s]"
     ]
    },
    {
     "name": "stdout",
     "output_type": "stream",
     "text": [
      "Test loss = -2.789e+00\n",
      "\n",
      "Normalized Error Omega_m = 0.248\n",
      "Error Omega_m = 0.099\n",
      "Bayesian error Omega_m = 0.000\n",
      "Relative error Omega_m = 0.482\n",
      "R^2: -0.42787554143523754\n"
     ]
    },
    {
     "name": "stderr",
     "output_type": "stream",
     "text": [
      " 47%|████▋     | 47/100 [00:42<00:48,  1.09it/s]"
     ]
    },
    {
     "name": "stdout",
     "output_type": "stream",
     "text": [
      "Test loss = -2.793e+00\n",
      "\n",
      "Normalized Error Omega_m = 0.248\n",
      "Error Omega_m = 0.099\n",
      "Bayesian error Omega_m = 0.000\n",
      "Relative error Omega_m = 0.480\n",
      "R^2: 0.1850131235440201\n"
     ]
    },
    {
     "name": "stderr",
     "output_type": "stream",
     "text": [
      " 48%|████▊     | 48/100 [00:43<00:47,  1.09it/s]"
     ]
    },
    {
     "name": "stdout",
     "output_type": "stream",
     "text": [
      "Test loss = -2.790e+00\n",
      "\n",
      "Normalized Error Omega_m = 0.248\n",
      "Error Omega_m = 0.099\n",
      "Bayesian error Omega_m = 0.000\n",
      "Relative error Omega_m = 0.479\n",
      "R^2: 0.34176748741060925\n"
     ]
    },
    {
     "name": "stderr",
     "output_type": "stream",
     "text": [
      " 49%|████▉     | 49/100 [00:44<00:46,  1.09it/s]"
     ]
    },
    {
     "name": "stdout",
     "output_type": "stream",
     "text": [
      "Test loss = -2.787e+00\n",
      "\n",
      "Normalized Error Omega_m = 0.248\n",
      "Error Omega_m = 0.099\n",
      "Bayesian error Omega_m = 0.000\n",
      "Relative error Omega_m = 0.481\n",
      "R^2: -0.020083295930740874\n"
     ]
    },
    {
     "name": "stderr",
     "output_type": "stream",
     "text": [
      " 50%|█████     | 50/100 [00:45<00:45,  1.09it/s]"
     ]
    },
    {
     "name": "stdout",
     "output_type": "stream",
     "text": [
      "Test loss = -2.784e+00\n",
      "\n",
      "Normalized Error Omega_m = 0.249\n",
      "Error Omega_m = 0.099\n",
      "Bayesian error Omega_m = 0.000\n",
      "Relative error Omega_m = 0.482\n",
      "R^2: 0.12575432789783147\n"
     ]
    },
    {
     "name": "stderr",
     "output_type": "stream",
     "text": [
      " 51%|█████     | 51/100 [00:46<00:44,  1.09it/s]"
     ]
    },
    {
     "name": "stdout",
     "output_type": "stream",
     "text": [
      "Test loss = -2.786e+00\n",
      "\n",
      "Normalized Error Omega_m = 0.248\n",
      "Error Omega_m = 0.099\n",
      "Bayesian error Omega_m = 0.000\n",
      "Relative error Omega_m = 0.481\n",
      "R^2: 0.15886835721553083\n"
     ]
    },
    {
     "name": "stderr",
     "output_type": "stream",
     "text": [
      " 52%|█████▏    | 52/100 [00:47<00:43,  1.09it/s]"
     ]
    },
    {
     "name": "stdout",
     "output_type": "stream",
     "text": [
      "Test loss = -2.792e+00\n",
      "\n",
      "Normalized Error Omega_m = 0.248\n",
      "Error Omega_m = 0.099\n",
      "Bayesian error Omega_m = 0.000\n",
      "Relative error Omega_m = 0.479\n",
      "R^2: 0.09320642139567503\n"
     ]
    },
    {
     "name": "stderr",
     "output_type": "stream",
     "text": [
      " 53%|█████▎    | 53/100 [00:48<00:43,  1.09it/s]"
     ]
    },
    {
     "name": "stdout",
     "output_type": "stream",
     "text": [
      "Test loss = -2.776e+00\n",
      "\n",
      "Normalized Error Omega_m = 0.250\n",
      "Error Omega_m = 0.100\n",
      "Bayesian error Omega_m = 0.000\n",
      "Relative error Omega_m = 0.484\n",
      "R^2: 0.10530582056528026\n"
     ]
    },
    {
     "name": "stderr",
     "output_type": "stream",
     "text": [
      " 54%|█████▍    | 54/100 [00:49<00:42,  1.09it/s]"
     ]
    },
    {
     "name": "stdout",
     "output_type": "stream",
     "text": [
      "Test loss = -2.786e+00\n",
      "\n",
      "Normalized Error Omega_m = 0.248\n",
      "Error Omega_m = 0.099\n",
      "Bayesian error Omega_m = 0.000\n",
      "Relative error Omega_m = 0.483\n",
      "R^2: 0.08413783127563834\n"
     ]
    },
    {
     "name": "stderr",
     "output_type": "stream",
     "text": [
      " 55%|█████▌    | 55/100 [00:50<00:41,  1.09it/s]"
     ]
    },
    {
     "name": "stdout",
     "output_type": "stream",
     "text": [
      "Test loss = -2.792e+00\n",
      "\n",
      "Normalized Error Omega_m = 0.248\n",
      "Error Omega_m = 0.099\n",
      "Bayesian error Omega_m = 0.000\n",
      "Relative error Omega_m = 0.481\n",
      "R^2: 0.24414876904683458\n"
     ]
    },
    {
     "name": "stderr",
     "output_type": "stream",
     "text": [
      " 56%|█████▌    | 56/100 [00:51<00:40,  1.09it/s]"
     ]
    },
    {
     "name": "stdout",
     "output_type": "stream",
     "text": [
      "Test loss = -2.785e+00\n",
      "\n",
      "Normalized Error Omega_m = 0.248\n",
      "Error Omega_m = 0.099\n",
      "Bayesian error Omega_m = 0.000\n",
      "Relative error Omega_m = 0.481\n",
      "R^2: 0.34826411492787646\n"
     ]
    },
    {
     "name": "stderr",
     "output_type": "stream",
     "text": [
      " 57%|█████▋    | 57/100 [00:52<00:39,  1.09it/s]"
     ]
    },
    {
     "name": "stdout",
     "output_type": "stream",
     "text": [
      "Test loss = -2.790e+00\n",
      "\n",
      "Normalized Error Omega_m = 0.248\n",
      "Error Omega_m = 0.099\n",
      "Bayesian error Omega_m = 0.000\n",
      "Relative error Omega_m = 0.481\n",
      "R^2: 0.246426194746036\n"
     ]
    },
    {
     "name": "stderr",
     "output_type": "stream",
     "text": [
      " 58%|█████▊    | 58/100 [00:53<00:38,  1.09it/s]"
     ]
    },
    {
     "name": "stdout",
     "output_type": "stream",
     "text": [
      "Test loss = -2.782e+00\n",
      "\n",
      "Normalized Error Omega_m = 0.249\n",
      "Error Omega_m = 0.100\n",
      "Bayesian error Omega_m = 0.000\n",
      "Relative error Omega_m = 0.483\n",
      "R^2: 0.22044288410153468\n"
     ]
    },
    {
     "name": "stderr",
     "output_type": "stream",
     "text": [
      " 59%|█████▉    | 59/100 [00:53<00:37,  1.09it/s]"
     ]
    },
    {
     "name": "stdout",
     "output_type": "stream",
     "text": [
      "Test loss = -2.783e+00\n",
      "\n",
      "Normalized Error Omega_m = 0.249\n",
      "Error Omega_m = 0.099\n",
      "Bayesian error Omega_m = 0.000\n",
      "Relative error Omega_m = 0.483\n",
      "R^2: 0.3455349829325832\n"
     ]
    },
    {
     "name": "stderr",
     "output_type": "stream",
     "text": [
      " 60%|██████    | 60/100 [00:54<00:36,  1.09it/s]"
     ]
    },
    {
     "name": "stdout",
     "output_type": "stream",
     "text": [
      "Test loss = -2.782e+00\n",
      "\n",
      "Normalized Error Omega_m = 0.249\n",
      "Error Omega_m = 0.100\n",
      "Bayesian error Omega_m = 0.000\n",
      "Relative error Omega_m = 0.483\n",
      "R^2: 0.47380429493479936\n"
     ]
    },
    {
     "name": "stderr",
     "output_type": "stream",
     "text": [
      " 61%|██████    | 61/100 [00:55<00:35,  1.09it/s]"
     ]
    },
    {
     "name": "stdout",
     "output_type": "stream",
     "text": [
      "Test loss = -2.796e+00\n",
      "\n",
      "Normalized Error Omega_m = 0.247\n",
      "Error Omega_m = 0.099\n",
      "Bayesian error Omega_m = 0.000\n",
      "Relative error Omega_m = 0.479\n",
      "R^2: 0.2248018117900874\n"
     ]
    },
    {
     "name": "stderr",
     "output_type": "stream",
     "text": [
      " 62%|██████▏   | 62/100 [00:56<00:34,  1.09it/s]"
     ]
    },
    {
     "name": "stdout",
     "output_type": "stream",
     "text": [
      "Test loss = -2.785e+00\n",
      "\n",
      "Normalized Error Omega_m = 0.249\n",
      "Error Omega_m = 0.099\n",
      "Bayesian error Omega_m = 0.000\n",
      "Relative error Omega_m = 0.481\n",
      "R^2: -0.24590813804930556\n"
     ]
    },
    {
     "name": "stderr",
     "output_type": "stream",
     "text": [
      " 63%|██████▎   | 63/100 [00:57<00:33,  1.09it/s]"
     ]
    },
    {
     "name": "stdout",
     "output_type": "stream",
     "text": [
      "Test loss = -2.784e+00\n",
      "\n",
      "Normalized Error Omega_m = 0.249\n",
      "Error Omega_m = 0.099\n",
      "Bayesian error Omega_m = 0.000\n",
      "Relative error Omega_m = 0.482\n",
      "R^2: -0.2669575655905527\n"
     ]
    },
    {
     "name": "stderr",
     "output_type": "stream",
     "text": [
      " 64%|██████▍   | 64/100 [00:58<00:32,  1.09it/s]"
     ]
    },
    {
     "name": "stdout",
     "output_type": "stream",
     "text": [
      "Test loss = -2.787e+00\n",
      "\n",
      "Normalized Error Omega_m = 0.248\n",
      "Error Omega_m = 0.099\n",
      "Bayesian error Omega_m = 0.000\n",
      "Relative error Omega_m = 0.482\n",
      "R^2: 0.008746521221626002\n"
     ]
    },
    {
     "name": "stderr",
     "output_type": "stream",
     "text": [
      " 65%|██████▌   | 65/100 [00:59<00:32,  1.09it/s]"
     ]
    },
    {
     "name": "stdout",
     "output_type": "stream",
     "text": [
      "Test loss = -2.782e+00\n",
      "\n",
      "Normalized Error Omega_m = 0.249\n",
      "Error Omega_m = 0.100\n",
      "Bayesian error Omega_m = 0.000\n",
      "Relative error Omega_m = 0.482\n",
      "R^2: 0.18317054989681314\n"
     ]
    },
    {
     "name": "stderr",
     "output_type": "stream",
     "text": [
      " 66%|██████▌   | 66/100 [01:00<00:31,  1.09it/s]"
     ]
    },
    {
     "name": "stdout",
     "output_type": "stream",
     "text": [
      "Test loss = -2.791e+00\n",
      "\n",
      "Normalized Error Omega_m = 0.248\n",
      "Error Omega_m = 0.099\n",
      "Bayesian error Omega_m = 0.000\n",
      "Relative error Omega_m = 0.479\n",
      "R^2: 0.021638724242720397\n"
     ]
    },
    {
     "name": "stderr",
     "output_type": "stream",
     "text": [
      " 67%|██████▋   | 67/100 [01:01<00:30,  1.09it/s]"
     ]
    },
    {
     "name": "stdout",
     "output_type": "stream",
     "text": [
      "Test loss = -2.786e+00\n",
      "\n",
      "Normalized Error Omega_m = 0.248\n",
      "Error Omega_m = 0.099\n",
      "Bayesian error Omega_m = 0.000\n",
      "Relative error Omega_m = 0.482\n",
      "R^2: -0.1611078553873997\n"
     ]
    },
    {
     "name": "stderr",
     "output_type": "stream",
     "text": [
      " 68%|██████▊   | 68/100 [01:02<00:29,  1.09it/s]"
     ]
    },
    {
     "name": "stdout",
     "output_type": "stream",
     "text": [
      "Test loss = -2.790e+00\n",
      "\n",
      "Normalized Error Omega_m = 0.248\n",
      "Error Omega_m = 0.099\n",
      "Bayesian error Omega_m = 0.000\n",
      "Relative error Omega_m = 0.482\n",
      "R^2: 0.35170146168408756\n"
     ]
    },
    {
     "name": "stderr",
     "output_type": "stream",
     "text": [
      " 69%|██████▉   | 69/100 [01:03<00:28,  1.09it/s]"
     ]
    },
    {
     "name": "stdout",
     "output_type": "stream",
     "text": [
      "Test loss = -2.790e+00\n",
      "\n",
      "Normalized Error Omega_m = 0.248\n",
      "Error Omega_m = 0.099\n",
      "Bayesian error Omega_m = 0.000\n",
      "Relative error Omega_m = 0.482\n",
      "R^2: -0.06547714036715013\n"
     ]
    },
    {
     "name": "stderr",
     "output_type": "stream",
     "text": [
      " 70%|███████   | 70/100 [01:04<00:27,  1.09it/s]"
     ]
    },
    {
     "name": "stdout",
     "output_type": "stream",
     "text": [
      "Test loss = -2.791e+00\n",
      "\n",
      "Normalized Error Omega_m = 0.248\n",
      "Error Omega_m = 0.099\n",
      "Bayesian error Omega_m = 0.000\n",
      "Relative error Omega_m = 0.480\n",
      "R^2: 0.11933130199858455\n"
     ]
    },
    {
     "name": "stderr",
     "output_type": "stream",
     "text": [
      " 71%|███████   | 71/100 [01:04<00:26,  1.09it/s]"
     ]
    },
    {
     "name": "stdout",
     "output_type": "stream",
     "text": [
      "Test loss = -2.797e+00\n",
      "\n",
      "Normalized Error Omega_m = 0.247\n",
      "Error Omega_m = 0.099\n",
      "Bayesian error Omega_m = 0.000\n",
      "Relative error Omega_m = 0.479\n",
      "R^2: 0.07105357395726664\n"
     ]
    },
    {
     "name": "stderr",
     "output_type": "stream",
     "text": [
      " 72%|███████▏  | 72/100 [01:05<00:25,  1.09it/s]"
     ]
    },
    {
     "name": "stdout",
     "output_type": "stream",
     "text": [
      "Test loss = -2.799e+00\n",
      "\n",
      "Normalized Error Omega_m = 0.247\n",
      "Error Omega_m = 0.099\n",
      "Bayesian error Omega_m = 0.000\n",
      "Relative error Omega_m = 0.478\n",
      "R^2: 0.19579149803455154\n"
     ]
    },
    {
     "name": "stderr",
     "output_type": "stream",
     "text": [
      " 73%|███████▎  | 73/100 [01:06<00:24,  1.09it/s]"
     ]
    },
    {
     "name": "stdout",
     "output_type": "stream",
     "text": [
      "Test loss = -2.789e+00\n",
      "\n",
      "Normalized Error Omega_m = 0.248\n",
      "Error Omega_m = 0.099\n",
      "Bayesian error Omega_m = 0.000\n",
      "Relative error Omega_m = 0.482\n",
      "R^2: 0.4113629626726474\n"
     ]
    },
    {
     "name": "stderr",
     "output_type": "stream",
     "text": [
      " 74%|███████▍  | 74/100 [01:07<00:23,  1.09it/s]"
     ]
    },
    {
     "name": "stdout",
     "output_type": "stream",
     "text": [
      "Test loss = -2.792e+00\n",
      "\n",
      "Normalized Error Omega_m = 0.248\n",
      "Error Omega_m = 0.099\n",
      "Bayesian error Omega_m = 0.000\n",
      "Relative error Omega_m = 0.480\n",
      "R^2: 0.30605510074139175\n"
     ]
    },
    {
     "name": "stderr",
     "output_type": "stream",
     "text": [
      " 75%|███████▌  | 75/100 [01:08<00:22,  1.09it/s]"
     ]
    },
    {
     "name": "stdout",
     "output_type": "stream",
     "text": [
      "Test loss = -2.798e+00\n",
      "\n",
      "Normalized Error Omega_m = 0.247\n",
      "Error Omega_m = 0.099\n",
      "Bayesian error Omega_m = 0.000\n",
      "Relative error Omega_m = 0.479\n",
      "R^2: -0.09172679914655446\n"
     ]
    },
    {
     "name": "stderr",
     "output_type": "stream",
     "text": [
      " 76%|███████▌  | 76/100 [01:09<00:22,  1.09it/s]"
     ]
    },
    {
     "name": "stdout",
     "output_type": "stream",
     "text": [
      "Test loss = -2.792e+00\n",
      "\n",
      "Normalized Error Omega_m = 0.248\n",
      "Error Omega_m = 0.099\n",
      "Bayesian error Omega_m = 0.000\n",
      "Relative error Omega_m = 0.479\n",
      "R^2: -0.13454390014056816\n"
     ]
    },
    {
     "name": "stderr",
     "output_type": "stream",
     "text": [
      " 77%|███████▋  | 77/100 [01:10<00:21,  1.09it/s]"
     ]
    },
    {
     "name": "stdout",
     "output_type": "stream",
     "text": [
      "Test loss = -2.797e+00\n",
      "\n",
      "Normalized Error Omega_m = 0.247\n",
      "Error Omega_m = 0.099\n",
      "Bayesian error Omega_m = 0.000\n",
      "Relative error Omega_m = 0.481\n",
      "R^2: 0.4129804079908619\n"
     ]
    },
    {
     "name": "stderr",
     "output_type": "stream",
     "text": [
      " 78%|███████▊  | 78/100 [01:11<00:20,  1.09it/s]"
     ]
    },
    {
     "name": "stdout",
     "output_type": "stream",
     "text": [
      "Test loss = -2.789e+00\n",
      "\n",
      "Normalized Error Omega_m = 0.248\n",
      "Error Omega_m = 0.099\n",
      "Bayesian error Omega_m = 0.000\n",
      "Relative error Omega_m = 0.481\n",
      "R^2: -0.08862559379630763\n"
     ]
    },
    {
     "name": "stderr",
     "output_type": "stream",
     "text": [
      " 79%|███████▉  | 79/100 [01:12<00:19,  1.09it/s]"
     ]
    },
    {
     "name": "stdout",
     "output_type": "stream",
     "text": [
      "Test loss = -2.785e+00\n",
      "\n",
      "Normalized Error Omega_m = 0.249\n",
      "Error Omega_m = 0.099\n",
      "Bayesian error Omega_m = 0.000\n",
      "Relative error Omega_m = 0.482\n",
      "R^2: 0.41736505731421736\n"
     ]
    },
    {
     "name": "stderr",
     "output_type": "stream",
     "text": [
      " 80%|████████  | 80/100 [01:13<00:18,  1.09it/s]"
     ]
    },
    {
     "name": "stdout",
     "output_type": "stream",
     "text": [
      "Test loss = -2.788e+00\n",
      "\n",
      "Normalized Error Omega_m = 0.248\n",
      "Error Omega_m = 0.099\n",
      "Bayesian error Omega_m = 0.000\n",
      "Relative error Omega_m = 0.482\n",
      "R^2: 0.04277598136855587\n"
     ]
    },
    {
     "name": "stderr",
     "output_type": "stream",
     "text": [
      " 81%|████████  | 81/100 [01:14<00:17,  1.09it/s]"
     ]
    },
    {
     "name": "stdout",
     "output_type": "stream",
     "text": [
      "Test loss = -2.791e+00\n",
      "\n",
      "Normalized Error Omega_m = 0.248\n",
      "Error Omega_m = 0.099\n",
      "Bayesian error Omega_m = 0.000\n",
      "Relative error Omega_m = 0.481\n",
      "R^2: 0.23116911905591409\n"
     ]
    },
    {
     "name": "stderr",
     "output_type": "stream",
     "text": [
      " 82%|████████▏ | 82/100 [01:15<00:16,  1.09it/s]"
     ]
    },
    {
     "name": "stdout",
     "output_type": "stream",
     "text": [
      "Test loss = -2.772e+00\n",
      "\n",
      "Normalized Error Omega_m = 0.250\n",
      "Error Omega_m = 0.100\n",
      "Bayesian error Omega_m = 0.000\n",
      "Relative error Omega_m = 0.486\n",
      "R^2: 0.11370836056715805\n"
     ]
    },
    {
     "name": "stderr",
     "output_type": "stream",
     "text": [
      " 83%|████████▎ | 83/100 [01:15<00:15,  1.09it/s]"
     ]
    },
    {
     "name": "stdout",
     "output_type": "stream",
     "text": [
      "Test loss = -2.799e+00\n",
      "\n",
      "Normalized Error Omega_m = 0.247\n",
      "Error Omega_m = 0.099\n",
      "Bayesian error Omega_m = 0.000\n",
      "Relative error Omega_m = 0.478\n",
      "R^2: 0.22079321422883313\n"
     ]
    },
    {
     "name": "stderr",
     "output_type": "stream",
     "text": [
      " 84%|████████▍ | 84/100 [01:16<00:14,  1.09it/s]"
     ]
    },
    {
     "name": "stdout",
     "output_type": "stream",
     "text": [
      "Test loss = -2.796e+00\n",
      "\n",
      "Normalized Error Omega_m = 0.247\n",
      "Error Omega_m = 0.099\n",
      "Bayesian error Omega_m = 0.000\n",
      "Relative error Omega_m = 0.480\n",
      "R^2: 0.2034658517860919\n"
     ]
    },
    {
     "name": "stderr",
     "output_type": "stream",
     "text": [
      " 85%|████████▌ | 85/100 [01:17<00:13,  1.09it/s]"
     ]
    },
    {
     "name": "stdout",
     "output_type": "stream",
     "text": [
      "Test loss = -2.803e+00\n",
      "\n",
      "Normalized Error Omega_m = 0.246\n",
      "Error Omega_m = 0.098\n",
      "Bayesian error Omega_m = 0.000\n",
      "Relative error Omega_m = 0.479\n",
      "R^2: 0.2101226008802617\n"
     ]
    },
    {
     "name": "stderr",
     "output_type": "stream",
     "text": [
      " 86%|████████▌ | 86/100 [01:18<00:12,  1.09it/s]"
     ]
    },
    {
     "name": "stdout",
     "output_type": "stream",
     "text": [
      "Test loss = -2.793e+00\n",
      "\n",
      "Normalized Error Omega_m = 0.247\n",
      "Error Omega_m = 0.099\n",
      "Bayesian error Omega_m = 0.000\n",
      "Relative error Omega_m = 0.480\n",
      "R^2: 0.4154361605912985\n"
     ]
    },
    {
     "name": "stderr",
     "output_type": "stream",
     "text": [
      " 87%|████████▋ | 87/100 [01:19<00:11,  1.09it/s]"
     ]
    },
    {
     "name": "stdout",
     "output_type": "stream",
     "text": [
      "Test loss = -2.793e+00\n",
      "\n",
      "Normalized Error Omega_m = 0.247\n",
      "Error Omega_m = 0.099\n",
      "Bayesian error Omega_m = 0.000\n",
      "Relative error Omega_m = 0.480\n",
      "R^2: 0.11265687296107363\n"
     ]
    },
    {
     "name": "stderr",
     "output_type": "stream",
     "text": [
      " 88%|████████▊ | 88/100 [01:20<00:10,  1.09it/s]"
     ]
    },
    {
     "name": "stdout",
     "output_type": "stream",
     "text": [
      "Test loss = -2.787e+00\n",
      "\n",
      "Normalized Error Omega_m = 0.248\n",
      "Error Omega_m = 0.099\n",
      "Bayesian error Omega_m = 0.000\n",
      "Relative error Omega_m = 0.483\n",
      "R^2: 0.3629698667606166\n"
     ]
    },
    {
     "name": "stderr",
     "output_type": "stream",
     "text": [
      " 89%|████████▉ | 89/100 [01:21<00:10,  1.09it/s]"
     ]
    },
    {
     "name": "stdout",
     "output_type": "stream",
     "text": [
      "Test loss = -2.778e+00\n",
      "\n",
      "Normalized Error Omega_m = 0.249\n",
      "Error Omega_m = 0.100\n",
      "Bayesian error Omega_m = 0.000\n",
      "Relative error Omega_m = 0.484\n",
      "R^2: 0.2009296240608962\n"
     ]
    },
    {
     "name": "stderr",
     "output_type": "stream",
     "text": [
      " 90%|█████████ | 90/100 [01:22<00:09,  1.09it/s]"
     ]
    },
    {
     "name": "stdout",
     "output_type": "stream",
     "text": [
      "Test loss = -2.799e+00\n",
      "\n",
      "Normalized Error Omega_m = 0.247\n",
      "Error Omega_m = 0.099\n",
      "Bayesian error Omega_m = 0.000\n",
      "Relative error Omega_m = 0.480\n",
      "R^2: 0.19180582046609174\n"
     ]
    },
    {
     "name": "stderr",
     "output_type": "stream",
     "text": [
      " 91%|█████████ | 91/100 [01:23<00:08,  1.09it/s]"
     ]
    },
    {
     "name": "stdout",
     "output_type": "stream",
     "text": [
      "Test loss = -2.780e+00\n",
      "\n",
      "Normalized Error Omega_m = 0.249\n",
      "Error Omega_m = 0.100\n",
      "Bayesian error Omega_m = 0.000\n",
      "Relative error Omega_m = 0.484\n",
      "R^2: -0.027544512959806422\n"
     ]
    },
    {
     "name": "stderr",
     "output_type": "stream",
     "text": [
      " 92%|█████████▏| 92/100 [01:24<00:07,  1.09it/s]"
     ]
    },
    {
     "name": "stdout",
     "output_type": "stream",
     "text": [
      "Test loss = -2.796e+00\n",
      "\n",
      "Normalized Error Omega_m = 0.247\n",
      "Error Omega_m = 0.099\n",
      "Bayesian error Omega_m = 0.000\n",
      "Relative error Omega_m = 0.479\n",
      "R^2: 0.4143289384986065\n"
     ]
    },
    {
     "name": "stderr",
     "output_type": "stream",
     "text": [
      " 93%|█████████▎| 93/100 [01:25<00:06,  1.09it/s]"
     ]
    },
    {
     "name": "stdout",
     "output_type": "stream",
     "text": [
      "Test loss = -2.789e+00\n",
      "\n",
      "Normalized Error Omega_m = 0.248\n",
      "Error Omega_m = 0.099\n",
      "Bayesian error Omega_m = 0.000\n",
      "Relative error Omega_m = 0.480\n",
      "R^2: 0.4024491376504653\n"
     ]
    },
    {
     "name": "stderr",
     "output_type": "stream",
     "text": [
      " 94%|█████████▍| 94/100 [01:26<00:05,  1.09it/s]"
     ]
    },
    {
     "name": "stdout",
     "output_type": "stream",
     "text": [
      "Test loss = -2.791e+00\n",
      "\n",
      "Normalized Error Omega_m = 0.248\n",
      "Error Omega_m = 0.099\n",
      "Bayesian error Omega_m = 0.000\n",
      "Relative error Omega_m = 0.482\n",
      "R^2: 0.1696796411933872\n"
     ]
    },
    {
     "name": "stderr",
     "output_type": "stream",
     "text": [
      " 95%|█████████▌| 95/100 [01:26<00:04,  1.09it/s]"
     ]
    },
    {
     "name": "stdout",
     "output_type": "stream",
     "text": [
      "Test loss = -2.789e+00\n",
      "\n",
      "Normalized Error Omega_m = 0.248\n",
      "Error Omega_m = 0.099\n",
      "Bayesian error Omega_m = 0.000\n",
      "Relative error Omega_m = 0.481\n",
      "R^2: 0.1909846980689256\n"
     ]
    },
    {
     "name": "stderr",
     "output_type": "stream",
     "text": [
      " 96%|█████████▌| 96/100 [01:27<00:03,  1.09it/s]"
     ]
    },
    {
     "name": "stdout",
     "output_type": "stream",
     "text": [
      "Test loss = -2.798e+00\n",
      "\n",
      "Normalized Error Omega_m = 0.247\n",
      "Error Omega_m = 0.099\n",
      "Bayesian error Omega_m = 0.000\n",
      "Relative error Omega_m = 0.480\n",
      "R^2: 0.11314795335501826\n"
     ]
    },
    {
     "name": "stderr",
     "output_type": "stream",
     "text": [
      " 97%|█████████▋| 97/100 [01:28<00:02,  1.09it/s]"
     ]
    },
    {
     "name": "stdout",
     "output_type": "stream",
     "text": [
      "Test loss = -2.792e+00\n",
      "\n",
      "Normalized Error Omega_m = 0.248\n",
      "Error Omega_m = 0.099\n",
      "Bayesian error Omega_m = 0.000\n",
      "Relative error Omega_m = 0.480\n",
      "R^2: 0.34384156809981126\n"
     ]
    },
    {
     "name": "stderr",
     "output_type": "stream",
     "text": [
      " 98%|█████████▊| 98/100 [01:29<00:01,  1.09it/s]"
     ]
    },
    {
     "name": "stdout",
     "output_type": "stream",
     "text": [
      "Test loss = -2.785e+00\n",
      "\n",
      "Normalized Error Omega_m = 0.248\n",
      "Error Omega_m = 0.099\n",
      "Bayesian error Omega_m = 0.000\n",
      "Relative error Omega_m = 0.481\n",
      "R^2: 0.2141792787972685\n"
     ]
    },
    {
     "name": "stderr",
     "output_type": "stream",
     "text": [
      " 99%|█████████▉| 99/100 [01:30<00:00,  1.09it/s]"
     ]
    },
    {
     "name": "stdout",
     "output_type": "stream",
     "text": [
      "Test loss = -2.785e+00\n",
      "\n",
      "Normalized Error Omega_m = 0.248\n",
      "Error Omega_m = 0.099\n",
      "Bayesian error Omega_m = 0.000\n",
      "Relative error Omega_m = 0.483\n",
      "R^2: 0.28486636861195025\n"
     ]
    },
    {
     "name": "stderr",
     "output_type": "stream",
     "text": [
      "100%|██████████| 100/100 [01:31<00:00,  1.09it/s]"
     ]
    },
    {
     "name": "stdout",
     "output_type": "stream",
     "text": [
      "Test loss = -2.791e+00\n",
      "\n",
      "Normalized Error Omega_m = 0.248\n",
      "Error Omega_m = 0.099\n",
      "Bayesian error Omega_m = 0.000\n",
      "Relative error Omega_m = 0.480\n",
      "R^2: 0.10516530285913106\n",
      "average R2: 0.15485879412661643\n"
     ]
    },
    {
     "name": "stderr",
     "output_type": "stream",
     "text": [
      "\n"
     ]
    }
   ],
   "source": [
    "minimum = np.array([0.1, 0.6, 0.25, 0.25, 0.5, 0.5])[:len(factors)]\n",
    "maximum = np.array([0.5, 1.0, 4.00, 4.00, 2.0, 2.0])[:len(factors)]\n",
    "\n",
    "# get the number of maps in the test set\n",
    "num_maps = 0\n",
    "for x,y in test_loader:\n",
    "      num_maps += x.shape[0]\n",
    "print('\\nNumber of maps in the test set: %d'%num_maps)\n",
    "\n",
    "r2_list = []\n",
    "n_test = 100\n",
    "for i in tqdm(range(n_test)):\n",
    "    # define the arrays containing the value of the parameters\n",
    "    params_true = np.zeros((num_maps,len(factors)), dtype=np.float32)\n",
    "    params_NN   = np.zeros((num_maps,len(factors)), dtype=np.float32)\n",
    "    errors_NN   = np.zeros((num_maps,len(factors)), dtype=np.float32)\n",
    "\n",
    "    # get test loss\n",
    "    test_loss1, test_loss2 = torch.zeros(len(factors)).to(device), torch.zeros(len(factors)).to(device)\n",
    "    test_loss, points = 0.0, 0\n",
    "    regressor.eval()\n",
    "    for x, y in test_loader:\n",
    "        with torch.no_grad():\n",
    "            bs    = x.shape[0]    #batch size\n",
    "            x     = x.to(device)  #send data to device\n",
    "            if 'VGG' in backbone_type:\n",
    "                x = x.repeat(1, 3, 1, 1)\n",
    "            y     = y.to(device)[:,:len(factors)]  #send data to device\n",
    "            p     = regressor(x)      #prediction for mean and variance\n",
    "            y_NN  = p[:,:len(factors)]       #prediction for mean\n",
    "            # e_NN  = p[:,len(factors):]       #prediction for error\n",
    "            loss1 = torch.mean((y_NN[:,:len(factors)] - y[:,:len(factors)])**2,                     axis=0)\n",
    "            # loss2 = torch.mean(((y_NN[:,:len(factors)] - y[:,:len(factors)])**2 - e_NN[:,:len(factors)]**2)**2, axis=0)\n",
    "            test_loss1 += loss1*bs\n",
    "            # test_loss2 += loss2*bs\n",
    "\n",
    "            # save results to their corresponding arrays\n",
    "            params_true[points:points+x.shape[0]] = y.cpu().numpy()\n",
    "            params_NN[points:points+x.shape[0]]   = y_NN.cpu().numpy()\n",
    "            # errors_NN[points:points+x.shape[0]]   = e_NN.cpu().numpy()\n",
    "            points    += x.shape[0]\n",
    "    test_loss = torch.log(test_loss1/points)# + torch.log(test_loss2/points)\n",
    "    test_loss = torch.mean(test_loss).item()\n",
    "    print('Test loss = %.3e\\n'%test_loss)\n",
    "\n",
    "    Norm_error = np.sqrt(np.mean((params_true - params_NN)**2, axis=0))\n",
    "    print('Normalized Error Omega_m = %.3f'%Norm_error[0])\n",
    "    # print('Normalized Error sigma_8 = %.3f'%Norm_error[1])\n",
    "\n",
    "    # de-normalize\n",
    "    minimum = np.array([0.1, 0.6, 0.25, 0.25, 0.5, 0.5])[:len(factors)]\n",
    "    maximum = np.array([0.5, 1.0, 4.00, 4.00, 2.0, 2.0])[:len(factors)]\n",
    "    # minimum = np.array([0.1, 0.6])\n",
    "    # maximum = np.array([0.5, 1.0])\n",
    "    params_true = params_true*(maximum - minimum) + minimum\n",
    "    params_NN   = params_NN*(maximum - minimum) + minimum\n",
    "    errors_NN   = errors_NN*(maximum - minimum)\n",
    "\n",
    "    error = np.sqrt(np.mean((params_true - params_NN)**2, axis=0))\n",
    "    print('Error Omega_m = %.3f'%error[0])\n",
    "    # print('Error sigma_8 = %.3f'%error[1])\n",
    "\n",
    "    mean_error = np.absolute(np.mean(errors_NN, axis=0))\n",
    "    print('Bayesian error Omega_m = %.3f'%mean_error[0])\n",
    "    # print('Bayesian error sigma_8 = %.3f'%mean_error[1])\n",
    "\n",
    "    rel_error = np.sqrt(np.mean((params_true - params_NN)**2/params_true**2, axis=0))\n",
    "    print('Relative error Omega_m = %.3f'%rel_error[0])\n",
    "    # print('Relative error sigma_8 = %.3f'%rel_error[1])\n",
    "    if len(factors) > 2:\n",
    "        print('Relative error A_SN1   = %.3f'%rel_error[2])\n",
    "        print('Relative error A_AGN1  = %.3f'%rel_error[3])\n",
    "        print('Relative error A_SN2   = %.3f'%rel_error[4])\n",
    "        print('Relative error A_AGN2  = %.3f\\n'%rel_error[5])\n",
    "\n",
    "    from sklearn.metrics import r2_score\n",
    "    indexes = np.arange(50)*splits\n",
    "    r2 = r2_score(params_true[indexes,0], params_NN[indexes,0])\n",
    "    print(\"R^2:\", r2)\n",
    "    r2_list.append(r2)\n",
    "    # print(\"R^2:\", r2_score(params_true[indexes,1], params_NN[indexes,1]))\n",
    "print('average R2:', np.mean(r2_list))\n"
   ]
  },
  {
   "cell_type": "markdown",
   "metadata": {},
   "source": [
    "## Compute CKA"
   ]
  },
  {
   "cell_type": "code",
   "execution_count": 12,
   "metadata": {},
   "outputs": [
    {
     "name": "stderr",
     "output_type": "stream",
     "text": [
      "2023-12-08 11:27:52.091985: I tensorflow/core/platform/cpu_feature_guard.cc:182] This TensorFlow binary is optimized to use available CPU instructions in performance-critical operations.\n",
      "To enable the following instructions: AVX2 FMA, in other operations, rebuild TensorFlow with the appropriate compiler flags.\n",
      "2023-12-08 11:27:52.554695: W tensorflow/compiler/tf2tensorrt/utils/py_utils.cc:38] TF-TRT Warning: Could not find TensorRT\n"
     ]
    }
   ],
   "source": [
    "from similarity.efficient_CKA import *\n",
    "import matplotlib.pyplot as plt"
   ]
  },
  {
   "cell_type": "code",
   "execution_count": 13,
   "metadata": {},
   "outputs": [],
   "source": [
    "def normalize_activations(act):\n",
    "    \"\"\"Normalize along each row so that the norm of activations produced by each example is 1.\"\"\"\n",
    "    act = act.view(act.size(0), -1)\n",
    "    act_norm = torch.linalg.norm(act, dim=1, keepdim=True)\n",
    "    act /= act_norm\n",
    "    return act\n",
    "\n",
    "def get_activations(images, model, normalize_act=False):\n",
    "    \"\"\"Return a list of activations obtained from a model on a set of images.\"\"\"\n",
    "    activations = []\n",
    "\n",
    "    def hook_fn(module, input, output):\n",
    "        if normalize_act:\n",
    "            output = normalize_activations(output)\n",
    "        activations.append(output)\n",
    "\n",
    "    hooks = []\n",
    "    for layer in model.backbone.children():\n",
    "        if 'Linear' in str(layer) or 'Conv2d' in str(layer):\n",
    "            hooks.append(layer.register_forward_hook(hook_fn))\n",
    "    for layer in model.bottleneck.children():\n",
    "        if 'Linear' in str(layer) or 'Conv2d' in str(layer):\n",
    "            hooks.append(layer.register_forward_hook(hook_fn))\n",
    "    for layer in model.head.children():\n",
    "        if 'Linear' in str(layer) or 'Conv2d' in str(layer):\n",
    "            hooks.append(layer.register_forward_hook(hook_fn))\n",
    "\n",
    "    with torch.no_grad():\n",
    "        model(images)\n",
    "\n",
    "    for hook in hooks:\n",
    "        hook.remove()\n",
    "\n",
    "    return activations\n",
    "\n",
    "# Plotting the heatmap with 'magma' colormap and flipping the matrix vertically\n",
    "def plotHeatmap(heatmap, modelName):\n",
    "    # plt.imshow(np.flipud(heatmap), cmap='magma', interpolation='nearest')\n",
    "    plt.figure()\n",
    "    imshowobj = plt.imshow(np.flipud(heatmap), cmap='magma', interpolation='nearest')\n",
    "    imshowobj.set_clim(0,1)\n",
    "    plt.colorbar()\n",
    "    # plt.title('CKA$_{minibatch}$'+f' - {modelName}', fontsize=20)\n",
    "    plt.title(f'{modelName}', fontsize=24)\n",
    "    plt.xlabel('Layer', fontsize=20)\n",
    "    plt.ylabel('Layer', fontsize=20)\n",
    "    plt.xticks(ticks=np.arange(1, heatmap.shape[1], 2), labels=[f\"{i+1}\" for i in range(1, heatmap.shape[1], 2)], fontsize=12)\n",
    "    plt.yticks(ticks=np.arange(0, heatmap.shape[0], 2), labels=[f\"{i+1}\" for i in range(heatmap.shape[0]-1, -1, -2)], fontsize=12)\n",
    "\n",
    "    # Show the plot\n",
    "    plt.tight_layout()\n",
    "    plt.savefig(f\"figures/Heatmap_{modelName}.png\", dpi=300, bbox_inches='tight')\n",
    "    # files.download(f\"Heatmap_{modelName}.png\")\n",
    "    plt.show()"
   ]
  },
  {
   "cell_type": "code",
   "execution_count": 24,
   "metadata": {},
   "outputs": [
    {
     "name": "stderr",
     "output_type": "stream",
     "text": [
      "100%|██████████| 12/12 [00:46<00:00,  3.86s/it]\n",
      "100%|██████████| 12/12 [00:47<00:00,  3.93s/it]\n",
      "100%|██████████| 12/12 [00:46<00:00,  3.89s/it]\n",
      "100%|██████████| 12/12 [00:46<00:00,  3.90s/it]\n",
      "100%|██████████| 12/12 [00:47<00:00,  3.93s/it]\n",
      "100%|██████████| 12/12 [00:46<00:00,  3.86s/it]\n",
      "100%|██████████| 12/12 [00:46<00:00,  3.89s/it]\n",
      "100%|██████████| 12/12 [00:46<00:00,  3.89s/it]\n",
      "100%|██████████| 12/12 [00:46<00:00,  3.89s/it]\n",
      "100%|██████████| 12/12 [00:47<00:00,  3.95s/it]\n",
      "100%|██████████| 10/10 [07:47<00:00, 46.77s/it]\n"
     ]
    }
   ],
   "source": [
    "regressor = regressor.to('cpu')\n",
    "regressor.eval()\n",
    "# n_layers = len(model.layers)\n",
    "n_layers = 12\n",
    "cka = MinibatchCKA(n_layers)\n",
    "count = 0\n",
    "iteration = 10\n",
    "for i in tqdm(range(iteration)):\n",
    "    for data, target in tqdm(test_loader):\n",
    "        if 'VGG' in backbone_type:\n",
    "             data = data.repeat(1, 3, 1, 1)\n",
    "        act = get_activations(data, regressor, False)\n",
    "        # print(len(act))\n",
    "        cka.update_state(act)\n",
    "        # print(len(data))\n",
    "        count += len(data)"
   ]
  },
  {
   "cell_type": "code",
   "execution_count": 25,
   "metadata": {},
   "outputs": [],
   "source": [
    "heatmap = cka.result().numpy()\n",
    "# eigenvalues, eigenvectors = np.linalg.eig(heatmap)\n",
    "# np.save(\"heatmap/Layer21_SIMBA(TNG+SIMBA).npy\", heatmap)"
   ]
  },
  {
   "cell_type": "code",
   "execution_count": 26,
   "metadata": {},
   "outputs": [],
   "source": [
    "name = 'VGG13+DaNN_SIMBA(norm)'\n",
    "# heatmap = np.load(\"heatmap/{}.npy\".format(name))\n",
    "plotHeatmap(heatmap, name) # accuracy 99.12%\n",
    "np.save(\"heatmap/VGG13+DaNN_SIMBA(norm).npy\", heatmap)"
   ]
  },
  {
   "cell_type": "markdown",
   "metadata": {},
   "source": [
    "## compute eigenvalues"
   ]
  },
  {
   "cell_type": "code",
   "execution_count": 14,
   "metadata": {},
   "outputs": [
    {
     "data": {
      "image/png": "[encoded data removed]",
      "text/plain": [
       "<Figure size 640x480 with 1 Axes>"
      ]
     },
     "metadata": {},
     "output_type": "display_data"
    }
   ],
   "source": [
    "import numpy as np\n",
    "import matplotlib.pyplot as plt\n",
    "\n",
    "heatmap_CNN21 = np.load(\"heatmap/Layer21_TNG(norm).npy\")\n",
    "heatmap_VGG13 = np.load(\"heatmap/VGG13_1param_TNG.npy\")\n",
    "heatmap_VGG13_DaNN = np.load(\"heatmap/VGG13+DaNN_TNG(norm).npy\")\n",
    "heatmap_VGG13_MMD = np.load(\"heatmap/MMD_1param_TNG.npy\")\n",
    "eigenvalues_cnn21, _ = np.linalg.eig(heatmap_CNN21)\n",
    "eigenvalues_vgg13, _ = np.linalg.eig(heatmap_VGG13)\n",
    "eigenvalues_vgg13_dann, _ = np.linalg.eig(heatmap_VGG13_DaNN)\n",
    "eigenvalues_vgg13_mmd, _ = np.linalg.eig(heatmap_VGG13_MMD)\n",
    "# plt.plot(eigenvalues_cnn21, label='CNN21')\n",
    "plt.plot(eigenvalues_vgg13[:10], label='VGG13')\n",
    "plt.plot(eigenvalues_vgg13_dann[:10], label='VGG13+DaNN')\n",
    "plt.plot(eigenvalues_vgg13_mmd[:10], label='VGG13+MMD')\n",
    "plt.legend()\n",
    "plt.yscale('log')\n",
    "plt.xlabel('rank')\n",
    "plt.ylabel('eigenvalues')\n",
    "plt.title('Eigenvalues of CKA matrices - TNG')\n",
    "plt.savefig('eigenvalue_TNG.png')\n",
    "plt.show()\n"
   ]
  },
  {
   "cell_type": "code",
   "execution_count": 15,
   "metadata": {},
   "outputs": [
    {
     "data": {
      "image/png": "[encoded data removed]",
      "text/plain": [
       "<Figure size 640x480 with 2 Axes>"
      ]
     },
     "metadata": {},
     "output_type": "display_data"
    },
    {
     "data": {
      "image/png": "[encoded data removed]",
      "text/plain": [
       "<Figure size 640x480 with 2 Axes>"
      ]
     },
     "metadata": {},
     "output_type": "display_data"
    },
    {
     "data": {
      "image/png": "[encoded data removed]",
      "text/plain": [
       "<Figure size 640x480 with 2 Axes>"
      ]
     },
     "metadata": {},
     "output_type": "display_data"
    },
    {
     "data": {
      "image/png": "[encoded data removed]",
      "text/plain": [
       "<Figure size 640x480 with 2 Axes>"
      ]
     },
     "metadata": {},
     "output_type": "display_data"
    }
   ],
   "source": [
    "plotHeatmap(heatmap_CNN21, \"CNN21(TNG)\")\n",
    "plotHeatmap(heatmap_VGG13, \"VGG13(TNG)\")\n",
    "plotHeatmap(heatmap_VGG13_DaNN, \"VGG13+DaNN(TNG)\")\n",
    "plotHeatmap(heatmap_VGG13_MMD, \"VGG13+MMD(TNG)\")"
   ]
  },
  {
   "cell_type": "code",
   "execution_count": 9,
   "metadata": {},
   "outputs": [
    {
     "data": {
      "image/png": "[encoded data removed]",
      "text/plain": [
       "<Figure size 640x480 with 1 Axes>"
      ]
     },
     "metadata": {},
     "output_type": "display_data"
    }
   ],
   "source": [
    "import numpy as np\n",
    "import matplotlib.pyplot as plt\n",
    "\n",
    "heatmap_CNN21 = np.load(\"heatmap/Layer21_SIMBA(norm).npy\")\n",
    "heatmap_VGG13 = np.load(\"heatmap/VGG13_1param_SIMBA.npy\")\n",
    "heatmap_VGG13_DaNN = np.load(\"heatmap/VGG13+DaNN_SIMBA(norm).npy\")\n",
    "heatmap_VGG13_MMD = np.load(\"heatmap/MMD_1param_SIMBA.npy\")\n",
    "eigenvalues_cnn21, _ = np.linalg.eig(heatmap_CNN21)\n",
    "eigenvalues_vgg13, _ = np.linalg.eig(heatmap_VGG13)\n",
    "eigenvalues_vgg13_dann, _ = np.linalg.eig(heatmap_VGG13_DaNN)\n",
    "eigenvalues_vgg13_mmd, _ = np.linalg.eig(heatmap_VGG13_MMD)\n",
    "# plt.plot(eigenvalues_cnn21, label='CNN21')\n",
    "plt.plot(eigenvalues_vgg13[:10], label='VGG13')\n",
    "plt.plot(eigenvalues_vgg13_dann[:10], label='VGG13+DaNN')\n",
    "plt.plot(eigenvalues_vgg13_mmd[:10], label='VGG13+MMD')\n",
    "plt.legend()\n",
    "plt.yscale('log')\n",
    "plt.xlabel('rank')\n",
    "plt.ylabel('eigenvalues')\n",
    "plt.title('Eigenvalues of CKA matrices - SIMBA')\n",
    "plt.savefig('eigenvalue_SIMBA.png')\n",
    "plt.show()\n"
   ]
  },
  {
   "cell_type": "code",
   "execution_count": 10,
   "metadata": {},
   "outputs": [
    {
     "data": {
      "image/png": "[encoded data removed]",
      "text/plain": [
       "<Figure size 640x480 with 2 Axes>"
      ]
     },
     "metadata": {},
     "output_type": "display_data"
    },
    {
     "data": {
      "image/png": "[encoded data removed]",
      "text/plain": [
       "<Figure size 640x480 with 2 Axes>"
      ]
     },
     "metadata": {},
     "output_type": "display_data"
    },
    {
     "data": {
      "image/png": "[encoded data removed]",
      "text/plain": [
       "<Figure size 640x480 with 2 Axes>"
      ]
     },
     "metadata": {},
     "output_type": "display_data"
    },
    {
     "data": {
      "image/png": "[encoded data removed]",
      "text/plain": [
       "<Figure size 640x480 with 2 Axes>"
      ]
     },
     "metadata": {},
     "output_type": "display_data"
    }
   ],
   "source": [
    "plotHeatmap(heatmap_CNN21, \"CNN21(SIMBA)\")\n",
    "plotHeatmap(heatmap_VGG13, \"VGG13(SIMBA)\")\n",
    "plotHeatmap(heatmap_VGG13_DaNN, \"VGG13+DaNN(SIMBA)\")\n",
    "plotHeatmap(heatmap_VGG13_MMD, \"VGG13+MMD(SIMBA)\")"
   ]
  },
  {
   "cell_type": "code",
   "execution_count": 11,
   "metadata": {},
   "outputs": [
    {
     "data": {
      "image/png": "[encoded data removed]",
      "text/plain": [
       "<Figure size 640x480 with 2 Axes>"
      ]
     },
     "metadata": {},
     "output_type": "display_data"
    },
    {
     "data": {
      "image/png": "[encoded data removed]",
      "text/plain": [
       "<Figure size 640x480 with 2 Axes>"
      ]
     },
     "metadata": {},
     "output_type": "display_data"
    },
    {
     "data": {
      "image/png": "[encoded data removed]",
      "text/plain": [
       "<Figure size 640x480 with 2 Axes>"
      ]
     },
     "metadata": {},
     "output_type": "display_data"
    }
   ],
   "source": [
    "heatmap_CNN21 = np.load(\"heatmap/Layer21_TNG.npy\")\n",
    "heatmap_CNN18 = np.load(\"heatmap/Layer18_TNG.npy\")\n",
    "heatmap_CNN15 = np.load(\"heatmap/Layer15_TNG.npy\")\n",
    "plotHeatmap(heatmap_CNN21, \"CNN21(TNG)\")\n",
    "plotHeatmap(heatmap_CNN18, \"CNN18(TNG)\")\n",
    "plotHeatmap(heatmap_CNN15, \"CNN15(TNG)\")\n"
   ]
  },
  {
   "cell_type": "code",
   "execution_count": null,
   "metadata": {},
   "outputs": [],
   "source": []
  }
 ],
 "metadata": {
  "kernelspec": {
   "display_name": "cmd",
   "language": "python",
   "name": "python3"
  },
  "language_info": {
   "codemirror_mode": {
    "name": "ipython",
    "version": 3
   },
   "file_extension": ".py",
   "mimetype": "text/x-python",
   "name": "python",
   "nbconvert_exporter": "python",
   "pygments_lexer": "ipython3",
   "version": "3.8.13"
  }
 },
 "nbformat": 4,
 "nbformat_minor": 2
}
