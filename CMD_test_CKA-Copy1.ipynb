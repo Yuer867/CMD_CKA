{
 "cells": [
  {
   "cell_type": "markdown",
   "metadata": {
    "id": "EHCsP9N_anrq"
   },
   "source": [
    "### Due to computational limitations from google colab, we illustrate the training and testing of a network on CMC maps using a simplify version of the benchmark codes and also using a fraction of all the data available. We note that the results obtained in this example are far from optimal and are just shown as an illustration."
   ]
  },
  {
   "cell_type": "markdown",
   "metadata": {
    "id": "D6kZv812TDL0"
   },
   "source": [
    "### Import libraries"
   ]
  },
  {
   "cell_type": "code",
   "execution_count": 11,
   "metadata": {
    "executionInfo": {
     "elapsed": 5934,
     "status": "ok",
     "timestamp": 1696445713267,
     "user": {
      "displayName": "Jingyue Huang",
      "userId": "10711135304644079745"
     },
     "user_tz": 240
    },
    "id": "Mo2BXcp0SdlU"
   },
   "outputs": [],
   "source": [
    "import numpy as np\n",
    "import torch\n",
    "import torch.nn as nn\n",
    "import torch.backends.cudnn as cudnn\n",
    "from torch.utils.data.dataset import Dataset\n",
    "from torch.utils.data import DataLoader\n",
    "import time, sys, os\n",
    "import matplotlib.pyplot as plt\n",
    "import optuna\n",
    "from sklearn.metrics import r2_score\n",
    "from tqdm import tqdm\n",
    "# from models import model_o3_err"
   ]
  },
  {
   "cell_type": "code",
   "execution_count": 2,
   "metadata": {},
   "outputs": [
    {
     "name": "stderr",
     "output_type": "stream",
     "text": [
      "2023-12-08 12:02:56.018397: I tensorflow/core/platform/cpu_feature_guard.cc:182] This TensorFlow binary is optimized to use available CPU instructions in performance-critical operations.\n",
      "To enable the following instructions: AVX2 FMA, in other operations, rebuild TensorFlow with the appropriate compiler flags.\n",
      "2023-12-08 12:02:56.530230: W tensorflow/compiler/tf2tensorrt/utils/py_utils.cc:38] TF-TRT Warning: Could not find TensorRT\n"
     ]
    }
   ],
   "source": [
    "# import CKA package\n",
    "# from similarity.CKA import CKA, CudaCKA\n",
    "# from absl import flags\n",
    "from similarity.efficient_CKA import *"
   ]
  },
  {
   "cell_type": "markdown",
   "metadata": {
    "id": "wK6Yg020wRA1"
   },
   "source": [
    "### The code will run on both CPUs or GPUs"
   ]
  },
  {
   "cell_type": "code",
   "execution_count": 3,
   "metadata": {
    "colab": {
     "base_uri": "https://localhost:8080/"
    },
    "executionInfo": {
     "elapsed": 183,
     "status": "ok",
     "timestamp": 1696445715256,
     "user": {
      "displayName": "Jingyue Huang",
      "userId": "10711135304644079745"
     },
     "user_tz": 240
    },
    "id": "DbjG-fAOwSAd",
    "outputId": "e48c5990-e220-48d9-b35a-c49f2cd815cb"
   },
   "outputs": [
    {
     "name": "stdout",
     "output_type": "stream",
     "text": [
      "CUDA Available\n"
     ]
    }
   ],
   "source": [
    "if torch.cuda.is_available():\n",
    "    print(\"CUDA Available\")\n",
    "    device = torch.device('cuda')\n",
    "else:\n",
    "    print('CUDA Not Available')\n",
    "    device = torch.device('cpu')\n",
    "cudnn.benchmark = True      #May train faster but cost more memory"
   ]
  },
  {
   "cell_type": "markdown",
   "metadata": {
    "id": "G4Ayvo_OAaY7"
   },
   "source": [
    "### Define the value of the parameters and hyperparameters"
   ]
  },
  {
   "cell_type": "code",
   "execution_count": 4,
   "metadata": {
    "executionInfo": {
     "elapsed": 185,
     "status": "ok",
     "timestamp": 1696445733505,
     "user": {
      "displayName": "Jingyue Huang",
      "userId": "10711135304644079745"
     },
     "user_tz": 240
    },
    "id": "aI-iV68kAitv"
   },
   "outputs": [],
   "source": [
    "# data parameters\n",
    "fmaps      = ['maps_T.npy'] #tuple containing the maps with the different fields to consider\n",
    "fmaps_norm = [None] #if you want to normalize the maps according to the properties of some data set, put that data set here (This is mostly used when training on IllustrisTNG and testing on SIMBA, or vicerversa)\n",
    "seed       = 1   #random seed to split maps among training, validation and testing\n",
    "splits     = 15   #number of maps per simulation\n",
    "\n",
    "# training parameters\n",
    "channels        = 1                #we only consider here 1 field\n",
    "params          = [0,1,2,3,4,5]    #0(Omega_m) 1(sigma_8) 2(A_SN1) 3 (A_AGN1) 4(A_SN2) 5(A_AGN2). The code will be trained to predict all these parameters.\n",
    "# params          = [0,1]\n",
    "g               = params           #g will contain the mean of the posterior\n",
    "h               = [6+i for i in g] #h will contain the variance of the posterior\n",
    "rot_flip_in_mem = True             #whether rotations and flipings are kept in memory. True will make the code faster but consumes more RAM memory.\n",
    "\n",
    "# optimizer parameters\n",
    "beta1 = 0.5\n",
    "beta2 = 0.999\n",
    "\n",
    "# hyperparameters\n",
    "batch_size = 128\n",
    "min_lr     = 1e-9\n",
    "max_lr     = 0.0036  # default: 1e-3\n",
    "wd         = 0.0258  #value of weight decay, default: 0.0005\n",
    "dr         = 0.4     #dropout value for fully connected layers, default: 0.2\n",
    "hidden     = 11       #this determines the number of channels in the CNNs; integer larger than 1, default: 5\n",
    "epochs     = 50      #number of epochs to train the network\n",
    "\n",
    "# output files names\n",
    "floss  = 'loss.txt'   #file with the training and validation losses for each epoch\n",
    "fmodel = 'weights.pt' #file containing the weights of the best-model"
   ]
  },
  {
   "cell_type": "code",
   "execution_count": 5,
   "metadata": {},
   "outputs": [],
   "source": [
    "# TNG - 43\n",
    "\n",
    "# data\n",
    "fparams = '2D_maps/data/params_LH_IllustrisTNG.txt'\n",
    "fmaps2 = '2D_maps/data/Maps_T_IllustrisTNG_LH_z=0.00.npy'"
   ]
  },
  {
   "cell_type": "code",
   "execution_count": 11,
   "metadata": {},
   "outputs": [],
   "source": [
    "# SIMBA - 37\n",
    "\n",
    "# data\n",
    "fparams = '2D_maps/data/params_LH_SIMBA.txt'\n",
    "fmaps2 = '2D_maps/data/Maps_T_SIMBA_LH_z=0.00.npy'"
   ]
  },
  {
   "cell_type": "code",
   "execution_count": 6,
   "metadata": {
    "colab": {
     "base_uri": "https://localhost:8080/"
    },
    "executionInfo": {
     "elapsed": 64439,
     "status": "ok",
     "timestamp": 1696446338384,
     "user": {
      "displayName": "Jingyue Huang",
      "userId": "10711135304644079745"
     },
     "user_tz": 240
    },
    "id": "VydQS7u-ckhh",
    "outputId": "67114641-bbb7-4c63-fb00-1e91920262ca"
   },
   "outputs": [
    {
     "name": "stdout",
     "output_type": "stream",
     "text": [
      "Shape of the maps: (15000, 256, 256)\n"
     ]
    }
   ],
   "source": [
    "maps  = np.load(fmaps2)\n",
    "np.save('maps_T.npy', maps)\n",
    "print('Shape of the maps:', maps.shape)\n",
    "del maps"
   ]
  },
  {
   "cell_type": "markdown",
   "metadata": {
    "id": "OotlA8exo5Ce"
   },
   "source": [
    "### These routines define the way the data is input and fed into the network. We then read the data and get the training and validation sets"
   ]
  },
  {
   "cell_type": "code",
   "execution_count": 12,
   "metadata": {
    "colab": {
     "base_uri": "https://localhost:8080/"
    },
    "executionInfo": {
     "elapsed": 13959,
     "status": "ok",
     "timestamp": 1696446375747,
     "user": {
      "displayName": "Jingyue Huang",
      "userId": "10711135304644079745"
     },
     "user_tz": 240
    },
    "id": "-HygjyLJpFf_",
    "outputId": "2e59536e-1d98-439e-99c2-83c7fdc950a0"
   },
   "outputs": [],
   "source": [
    "# This routine returns the data loader need to train the network\n",
    "def create_dataset_multifield(mode, seed, fmaps, fparams, batch_size, splits, fmaps_norm,\n",
    "                              rot_flip_in_mem=True, shuffle=True, verbose=False):\n",
    "\n",
    "    # whether rotations and flippings are kept in memory\n",
    "    if rot_flip_in_mem:\n",
    "        data_set = make_dataset_multifield(mode, seed, fmaps, fparams, splits, fmaps_norm, verbose)\n",
    "    else:\n",
    "        data_set = make_dataset_multifield2(mode, seed, fmaps, fparams, splits, fmaps_norm, verbose)\n",
    "\n",
    "    data_loader = DataLoader(dataset=data_set, batch_size=batch_size, shuffle=shuffle)\n",
    "    return data_loader\n",
    "\n",
    "\n",
    "# This class creates the dataset. Rotations and flippings are precompued and stored in memory\n",
    "class make_dataset_multifield():\n",
    "\n",
    "    def __init__(self, mode, seed, fmaps, fparams, splits, fmaps_norm, verbose):\n",
    "\n",
    "        # get the total number of sims and maps\n",
    "        params_sims = np.loadtxt(fparams) #simulations parameters, NOT maps parameters\n",
    "        total_sims, total_maps, num_params = \\\n",
    "                params_sims.shape[0], params_sims.shape[0]*splits, params_sims.shape[1]\n",
    "        params_maps = np.zeros((total_maps, num_params), dtype=np.float32)\n",
    "        for i in range(total_sims):\n",
    "            for j in range(splits):\n",
    "                params_maps[i*splits + j] = params_sims[i]\n",
    "\n",
    "        # normalize the value of the cosmological & astrophysical parameters\n",
    "        minimum     = np.array([0.1, 0.6, 0.25, 0.25, 0.5, 0.5])\n",
    "        maximum     = np.array([0.5, 1.0, 4.00, 4.00, 2.0, 2.0])\n",
    "        params_maps = (params_maps - minimum)/(maximum - minimum)\n",
    "\n",
    "        # get the size and offset depending on the type of dataset\n",
    "        if   mode=='train':  offset, size_sims = int(0.00*total_sims), int(0.90*total_sims)\n",
    "        elif mode=='valid':  offset, size_sims = int(0.90*total_sims), int(0.05*total_sims)\n",
    "        elif mode=='test':   offset, size_sims = int(0.95*total_sims), int(0.05*total_sims)\n",
    "        elif mode=='all':    offset, size_sims = int(0.00*total_sims), int(1.00*total_sims)\n",
    "        else:                raise Exception('Wrong name!')\n",
    "        size_maps = size_sims*splits\n",
    "\n",
    "        # randomly shuffle the simulations (not maps). Instead of 0 1 2 3...999 have a\n",
    "        # random permutation. E.g. 5 9 0 29...342\n",
    "        np.random.seed(seed)\n",
    "        sim_numbers = np.arange(total_sims) #shuffle sims not maps\n",
    "        np.random.shuffle(sim_numbers)\n",
    "        sim_numbers = sim_numbers[offset:offset+size_sims] #select indexes of mode\n",
    "\n",
    "        # get the corresponding indexes of the maps associated to the sims\n",
    "        indexes = np.zeros(size_maps, dtype=np.int32)\n",
    "        count = 0\n",
    "        for i in sim_numbers:\n",
    "            for j in range(splits):\n",
    "                indexes[count] = i*splits + j\n",
    "                count += 1\n",
    "\n",
    "        # keep only the value of the parameters of the considered maps\n",
    "        params_maps = params_maps[indexes]\n",
    "\n",
    "        # define the matrix containing the maps with rotations and flipings\n",
    "        channels = len(fmaps)\n",
    "        dumb     = np.load(fmaps[0])    #[number of maps, height, width]\n",
    "        height, width = dumb.shape[1], dumb.shape[2];  del dumb\n",
    "        data     = np.zeros((size_maps*8, channels, height, width), dtype=np.float32)\n",
    "        params   = np.zeros((size_maps*8, num_params),              dtype=np.float32)\n",
    "\n",
    "        # read the data\n",
    "        print('Found %d channels\\nReading data...'%channels)\n",
    "        for channel, (fim, fnorm) in enumerate(zip(fmaps, fmaps_norm)):\n",
    "\n",
    "            # read maps in the considered channel\n",
    "            data_c = np.load(fim)\n",
    "            if data_c.shape[0]!=total_maps:  raise Exception('sizes do not match')\n",
    "            if verbose:  print('%.3e < F(all|orig) < %.3e'%(np.min(data_c), np.max(data_c)))\n",
    "\n",
    "            # rescale maps\n",
    "            if fim.find('Mstar')!=-1:  data_c = np.log10(data_c + 1.0)\n",
    "            else:                      data_c = np.log10(data_c)\n",
    "            if verbose:  print('%.3f < F(all|resc)  < %.3f'%(np.min(data_c), np.max(data_c)))\n",
    "\n",
    "            # normalize maps\n",
    "            if fnorm is None:\n",
    "                mean,    std     = np.mean(data_c), np.std(data_c)\n",
    "            else:\n",
    "                # read data\n",
    "                data_norm = np.load(fnorm)\n",
    "\n",
    "                # rescale\n",
    "                if fnorm.find('Mstar')!=-1:  data_norm = np.log10(data_norm + 1.0)\n",
    "                else:                        data_norm = np.log10(data_norm)\n",
    "\n",
    "                # compute mean and std\n",
    "                mean,    std     = np.mean(data_norm), np.std(data_norm)\n",
    "                del data_norm\n",
    "\n",
    "            data_c = (data_c - mean)/std\n",
    "            if verbose:  print('%.3f < F(all|norm) < %.3f'%(np.min(data_c), np.max(data_c)))\n",
    "\n",
    "            # keep only the data of the chosen set\n",
    "            data_c = data_c[indexes]\n",
    "\n",
    "            # do a loop over all rotations (each is 90 deg)\n",
    "            counted_maps = 0\n",
    "            for rot in [0,1,2,3]:\n",
    "                data_rot = np.rot90(data_c, k=rot, axes=(1,2))\n",
    "\n",
    "                data[counted_maps:counted_maps+size_maps,channel,:,:] = data_rot\n",
    "                params[counted_maps:counted_maps+size_maps]           = params_maps\n",
    "                counted_maps += size_maps\n",
    "\n",
    "                data[counted_maps:counted_maps+size_maps,channel,:,:] = \\\n",
    "                                                    np.flip(data_rot, axis=1)\n",
    "                params[counted_maps:counted_maps+size_maps]           = params_maps\n",
    "                counted_maps += size_maps\n",
    "\n",
    "            if verbose:\n",
    "                print('Channel %d contains %d maps'%(channel,counted_maps))\n",
    "                print('%.3f < F < %.3f\\n'%(np.min(data_c), np.max(data_c)))\n",
    "\n",
    "        self.size = data.shape[0]\n",
    "        self.x    = torch.tensor(data,   dtype=torch.float32)\n",
    "        self.y    = torch.tensor(params, dtype=torch.float32)\n",
    "        del data, data_c\n",
    "\n",
    "    def __len__(self):\n",
    "        return self.size\n",
    "\n",
    "    def __getitem__(self, idx):\n",
    "        return self.x[idx], self.y[idx]\n",
    "\n",
    "# This class creates the dataset. It will read the maps and store them in memory.\n",
    "# The rotations and flipings are done when calling the data\n",
    "class make_dataset_multifield2():\n",
    "\n",
    "    def __init__(self, mode, seed, fmaps, fparams, splits, fmaps_norm, verbose):\n",
    "\n",
    "        # get the total number of simulations and maps\n",
    "        params_sims = np.loadtxt(fparams) #simulations parameters, NOT maps parameters\n",
    "        total_sims, total_maps, num_params = \\\n",
    "                params_sims.shape[0], params_sims.shape[0]*splits, params_sims.shape[1]\n",
    "        params = np.zeros((total_maps, num_params), dtype=np.float32)\n",
    "        for i in range(total_sims):\n",
    "            for j in range(splits):\n",
    "                params[i*splits + j] = params_sims[i]\n",
    "\n",
    "        # normalize params\n",
    "        minimum = np.array([0.1, 0.6, 0.25, 0.25, 0.5, 0.5])\n",
    "        maximum = np.array([0.5, 1.0, 4.00, 4.00, 2.0, 2.0])\n",
    "        params  = (params - minimum)/(maximum - minimum)\n",
    "\n",
    "        # get the size and offset depending on the type of dataset\n",
    "        if   mode=='train':  offset, size_sims = int(0.00*total_sims), int(0.90*total_sims)\n",
    "        elif mode=='valid':  offset, size_sims = int(0.90*total_sims), int(0.05*total_sims)\n",
    "        elif mode=='test':   offset, size_sims = int(0.95*total_sims), int(0.05*total_sims)\n",
    "        elif mode=='all':    offset, size_sims = int(0.00*total_sims), int(1.00*total_sims)\n",
    "        else:                raise Exception('Wrong name!')\n",
    "        size_maps = size_sims*splits\n",
    "\n",
    "        # randomly shuffle the simulations (not maps). Instead of 0 1 2 3...999 have a\n",
    "        # random permutation. E.g. 5 9 0 29...342\n",
    "        np.random.seed(seed)\n",
    "        sim_numbers = np.arange(total_sims) #shuffle maps not rotations\n",
    "        np.random.shuffle(sim_numbers)\n",
    "        sim_numbers = sim_numbers[offset:offset+size_sims] #select indexes of mode\n",
    "\n",
    "        # get the corresponding indexes of the maps associated to the sims\n",
    "        indexes = np.zeros(size_maps, dtype=np.int32)\n",
    "        count = 0\n",
    "        for i in sim_numbers:\n",
    "            for j in range(splits):\n",
    "                indexes[count] = i*splits + j\n",
    "                count += 1\n",
    "\n",
    "        # keep only the value of the parameters of the considered maps\n",
    "        params = params[indexes]\n",
    "\n",
    "        # define the matrix containing the maps without rotations or flippings\n",
    "        channels = len(fmaps)\n",
    "        dumb     = np.load(fmaps[0])    #[number of maps, height, width]\n",
    "        height, width = dumb.shape[1], dumb.shape[2];  del dumb\n",
    "        data     = np.zeros((size_maps, channels, height, width), dtype=np.float32)\n",
    "\n",
    "        # read the data\n",
    "        print('Found %d channels\\nReading data...'%channels)\n",
    "        for channel, (fim, fnorm) in enumerate(zip(fmaps, fmaps_norm)):\n",
    "\n",
    "            # read maps in the considered channel\n",
    "            data_c = np.load(fim)\n",
    "            if data_c.shape[0]!=total_maps:  raise Exception('sizes do not match')\n",
    "            if verbose:\n",
    "                print('%.3e < F(all|orig) < %.3e'%(np.min(data_c), np.max(data_c)))\n",
    "\n",
    "            # rescale maps\n",
    "            if fim.find('Mstar')!=-1:  data_c = np.log10(data_c + 1.0)\n",
    "            else:                      data_c = np.log10(data_c)\n",
    "            if verbose:\n",
    "                print('%.3f < F(all|resc)  < %.3f'%(np.min(data_c), np.max(data_c)))\n",
    "\n",
    "            # normalize maps\n",
    "            if fnorm is None:\n",
    "                mean,    std     = np.mean(data_c), np.std(data_c)\n",
    "                minimum, maximum = np.min(data_c),  np.max(data_c)\n",
    "            else:\n",
    "                # read data\n",
    "                data_norm     = np.load(fnorm)\n",
    "\n",
    "                # rescale data\n",
    "                if fnorm.find('Mstar')!=-1:  data_norm = np.log10(data_norm + 1.0)\n",
    "                else:                        data_norm = np.log10(data_norm)\n",
    "\n",
    "                # compute mean and std\n",
    "                mean,    std     = np.mean(data_norm), np.std(data_norm)\n",
    "                minimum, maximum = np.min(data_norm),  np.max(data_norm)\n",
    "                del data_norm\n",
    "\n",
    "            data_c = (data_c - mean)/std\n",
    "            if verbose:  print('%.3f < F(all|norm) < %.3f'%(np.min(data_c), np.max(data_c)))\n",
    "\n",
    "            # keep only the data of the chosen set\n",
    "            data[:,channel,:,:] = data_c[indexes]\n",
    "\n",
    "        self.size = data.shape[0]\n",
    "        self.x    = torch.tensor(data,   dtype=torch.float32)\n",
    "        self.y    = torch.tensor(params, dtype=torch.float32)\n",
    "        del data, data_c\n",
    "\n",
    "    def __len__(self):\n",
    "        return self.size\n",
    "\n",
    "    def __getitem__(self, idx):\n",
    "\n",
    "        # choose a rotation angle (0-0, 1-90, 2-180, 3-270)\n",
    "        # and whether do flipping or not\n",
    "        rot  = np.random.randint(0,4)\n",
    "        flip = np.random.randint(0,1)\n",
    "\n",
    "        # rotate and flip the maps\n",
    "        maps = torch.rot90(self.x[idx], k=rot, dims=[1,2])\n",
    "        if flip==1:  maps = torch.flip(maps, dims=[1])\n",
    "\n",
    "        return maps, self.y[idx]\n",
    "\n",
    "# # get training set\n",
    "# print('\\nPreparing training set')\n",
    "# train_loader = create_dataset_multifield('train', seed, fmaps, fparams, batch_size, splits, fmaps_norm,\n",
    "#                                          rot_flip_in_mem=rot_flip_in_mem, verbose=True)\n",
    "\n",
    "# # get validation set\n",
    "# print('\\nPreparing validation set')\n",
    "# valid_loader = create_dataset_multifield('valid', seed, fmaps, fparams, batch_size, splits, fmaps_norm,\n",
    "#                                          rot_flip_in_mem=True,  verbose=True)"
   ]
  },
  {
   "cell_type": "markdown",
   "metadata": {
    "id": "XYUJMjyChT1t"
   },
   "source": [
    "### Define the model architecture and use it."
   ]
  },
  {
   "cell_type": "markdown",
   "metadata": {},
   "source": [
    "### Full Model (21 layers)"
   ]
  },
  {
   "cell_type": "code",
   "execution_count": 13,
   "metadata": {
    "colab": {
     "base_uri": "https://localhost:8080/"
    },
    "executionInfo": {
     "elapsed": 199,
     "status": "ok",
     "timestamp": 1696446572389,
     "user": {
      "displayName": "Jingyue Huang",
      "userId": "10711135304644079745"
     },
     "user_tz": 240
    },
    "id": "4yAeuGDEhXPT",
    "outputId": "7aa82dee-50c1-49ef-ca23-4e1cf8664ba2"
   },
   "outputs": [
    {
     "name": "stdout",
     "output_type": "stream",
     "text": [
      "total number of parameters in the model = 28436376\n"
     ]
    }
   ],
   "source": [
    "class model_o3_err(nn.Module):\n",
    "    def __init__(self, hidden, dr, channels):\n",
    "        super(model_o3_err, self).__init__()\n",
    "\n",
    "        # input: 1x256x256 ---------------> output: 2*hiddenx128x128\n",
    "        self.C01 = nn.Conv2d(channels,  2*hidden, kernel_size=3, stride=1, padding=1,\n",
    "                            padding_mode='circular', bias=True)\n",
    "        self.C02 = nn.Conv2d(2*hidden,  2*hidden, kernel_size=3, stride=1, padding=1,\n",
    "                            padding_mode='circular', bias=True)\n",
    "        self.C03 = nn.Conv2d(2*hidden,  2*hidden, kernel_size=2, stride=2, padding=0,\n",
    "                            padding_mode='circular', bias=True)\n",
    "        self.B01 = nn.BatchNorm2d(2*hidden)\n",
    "        self.B02 = nn.BatchNorm2d(2*hidden)\n",
    "        self.B03 = nn.BatchNorm2d(2*hidden)\n",
    "\n",
    "        # input: 2*hiddenx128x128 ----------> output: 4*hiddenx64x64\n",
    "        self.C11 = nn.Conv2d(2*hidden, 4*hidden, kernel_size=3, stride=1, padding=1,\n",
    "                            padding_mode='circular', bias=True)\n",
    "        self.C12 = nn.Conv2d(4*hidden, 4*hidden, kernel_size=3, stride=1, padding=1,\n",
    "                            padding_mode='circular', bias=True)\n",
    "        self.C13 = nn.Conv2d(4*hidden, 4*hidden, kernel_size=2, stride=2, padding=0,\n",
    "                            padding_mode='circular', bias=True)\n",
    "        self.B11 = nn.BatchNorm2d(4*hidden)\n",
    "        self.B12 = nn.BatchNorm2d(4*hidden)\n",
    "        self.B13 = nn.BatchNorm2d(4*hidden)\n",
    "\n",
    "        # input: 4*hiddenx64x64 --------> output: 8*hiddenx32x32\n",
    "        self.C21 = nn.Conv2d(4*hidden, 8*hidden, kernel_size=3, stride=1, padding=1,\n",
    "                            padding_mode='circular', bias=True)\n",
    "        self.C22 = nn.Conv2d(8*hidden, 8*hidden, kernel_size=3, stride=1, padding=1,\n",
    "                            padding_mode='circular', bias=True)\n",
    "        self.C23 = nn.Conv2d(8*hidden, 8*hidden, kernel_size=2, stride=2, padding=0,\n",
    "                            padding_mode='circular', bias=True)\n",
    "        self.B21 = nn.BatchNorm2d(8*hidden)\n",
    "        self.B22 = nn.BatchNorm2d(8*hidden)\n",
    "        self.B23 = nn.BatchNorm2d(8*hidden)\n",
    "\n",
    "        # input: 8*hiddenx32x32 ----------> output: 16*hiddenx16x16\n",
    "        self.C31 = nn.Conv2d(8*hidden,  16*hidden, kernel_size=3, stride=1, padding=1,\n",
    "                            padding_mode='circular', bias=True)\n",
    "        self.C32 = nn.Conv2d(16*hidden, 16*hidden, kernel_size=3, stride=1, padding=1,\n",
    "                            padding_mode='circular', bias=True)\n",
    "        self.C33 = nn.Conv2d(16*hidden, 16*hidden, kernel_size=2, stride=2, padding=0,\n",
    "                            padding_mode='circular', bias=True)\n",
    "        self.B31 = nn.BatchNorm2d(16*hidden)\n",
    "        self.B32 = nn.BatchNorm2d(16*hidden)\n",
    "        self.B33 = nn.BatchNorm2d(16*hidden)\n",
    "\n",
    "        # input: 16*hiddenx16x16 ----------> output: 32*hiddenx8x8\n",
    "        self.C41 = nn.Conv2d(16*hidden, 32*hidden, kernel_size=3, stride=1, padding=1,\n",
    "                            padding_mode='circular', bias=True)\n",
    "        self.C42 = nn.Conv2d(32*hidden, 32*hidden, kernel_size=3, stride=1, padding=1,\n",
    "                            padding_mode='circular', bias=True)\n",
    "        self.C43 = nn.Conv2d(32*hidden, 32*hidden, kernel_size=2, stride=2, padding=0,\n",
    "                            padding_mode='circular', bias=True)\n",
    "        self.B41 = nn.BatchNorm2d(32*hidden)\n",
    "        self.B42 = nn.BatchNorm2d(32*hidden)\n",
    "        self.B43 = nn.BatchNorm2d(32*hidden)\n",
    "\n",
    "        # input: 32*hiddenx8x8 ----------> output:64*hiddenx4x4\n",
    "        self.C51 = nn.Conv2d(32*hidden, 64*hidden, kernel_size=3, stride=1, padding=1,\n",
    "                            padding_mode='circular', bias=True)\n",
    "        self.C52 = nn.Conv2d(64*hidden, 64*hidden, kernel_size=3, stride=1, padding=1,\n",
    "                            padding_mode='circular', bias=True)\n",
    "        self.C53 = nn.Conv2d(64*hidden, 64*hidden, kernel_size=2, stride=2, padding=0,\n",
    "                            padding_mode='circular', bias=True)\n",
    "        self.B51 = nn.BatchNorm2d(64*hidden)\n",
    "        self.B52 = nn.BatchNorm2d(64*hidden)\n",
    "        self.B53 = nn.BatchNorm2d(64*hidden)\n",
    "\n",
    "        # input: 64*hiddenx4x4 ----------> output: 128*hiddenx1x1\n",
    "        self.C61 = nn.Conv2d(64*hidden, 128*hidden, kernel_size=4, stride=1, padding=0,\n",
    "                            padding_mode='circular', bias=True)\n",
    "        self.B61 = nn.BatchNorm2d(128*hidden)\n",
    "\n",
    "        # self.P0  = nn.AvgPool2d(kernel_size=2, stride=2, padding=0)\n",
    "\n",
    "        self.FC1  = nn.Linear(128*hidden, 64*hidden)\n",
    "        self.FC2  = nn.Linear(64*hidden,  12)  # TODO\n",
    "\n",
    "        self.dropout   = nn.Dropout(p=dr)\n",
    "        # self.ReLU      = nn.ReLU()\n",
    "        self.LeakyReLU = nn.LeakyReLU(0.2)\n",
    "        # self.tanh      = nn.Tanh()\n",
    "\n",
    "        for m in self.modules():\n",
    "            if isinstance(m, nn.BatchNorm2d) or isinstance(m, nn.BatchNorm1d):\n",
    "                nn.init.constant_(m.weight, 1)\n",
    "                nn.init.constant_(m.bias, 0)\n",
    "            elif isinstance(m, nn.Conv2d) or isinstance(m, nn.ConvTranspose2d) or isinstance(m, nn.Linear):\n",
    "                nn.init.kaiming_normal_(m.weight)\n",
    "\n",
    "\n",
    "    def forward(self, image):\n",
    "\n",
    "        x = self.LeakyReLU(self.C01(image))\n",
    "        x = self.LeakyReLU(self.B02(self.C02(x)))\n",
    "        x = self.LeakyReLU(self.B03(self.C03(x)))\n",
    "\n",
    "        x = self.LeakyReLU(self.B11(self.C11(x)))\n",
    "        x = self.LeakyReLU(self.B12(self.C12(x)))\n",
    "        x = self.LeakyReLU(self.B13(self.C13(x)))\n",
    "\n",
    "        x = self.LeakyReLU(self.B21(self.C21(x)))\n",
    "        x = self.LeakyReLU(self.B22(self.C22(x)))\n",
    "        x = self.LeakyReLU(self.B23(self.C23(x)))\n",
    "\n",
    "        x = self.LeakyReLU(self.B31(self.C31(x)))\n",
    "        x = self.LeakyReLU(self.B32(self.C32(x)))\n",
    "        x = self.LeakyReLU(self.B33(self.C33(x)))\n",
    "\n",
    "        x = self.LeakyReLU(self.B41(self.C41(x)))\n",
    "        x = self.LeakyReLU(self.B42(self.C42(x)))\n",
    "        x = self.LeakyReLU(self.B43(self.C43(x)))\n",
    "\n",
    "        x = self.LeakyReLU(self.B51(self.C51(x)))\n",
    "        x = self.LeakyReLU(self.B52(self.C52(x)))\n",
    "        x = self.LeakyReLU(self.B53(self.C53(x)))\n",
    "\n",
    "        x = self.LeakyReLU(self.B61(self.C61(x)))\n",
    "\n",
    "        x = x.view(image.shape[0],-1)\n",
    "        x = self.dropout(x)\n",
    "        x = self.dropout(self.LeakyReLU(self.FC1(x)))\n",
    "        x = self.FC2(x)\n",
    "\n",
    "        # enforce the errors to be positive\n",
    "        y = torch.clone(x)\n",
    "        y[:,6:12] = torch.square(x[:,6:12])  # TODO\n",
    "\n",
    "        return y\n",
    "\n",
    "# now that architecture is defined above, use it\n",
    "model = model_o3_err(hidden, dr, channels)\n",
    "# model = nn.DataParallel(model)\n",
    "model.to(device=device)\n",
    "network_total_params = sum(p.numel() for p in model.parameters())\n",
    "print('total number of parameters in the model = %d'%network_total_params)"
   ]
  },
  {
   "cell_type": "code",
   "execution_count": 13,
   "metadata": {},
   "outputs": [
    {
     "name": "stdout",
     "output_type": "stream",
     "text": [
      "total number of parameters in the model = 28436376\n"
     ]
    }
   ],
   "source": [
    "model = model_o3_err(hidden, dr, channels)\n",
    "# model = nn.DataParallel(model)\n",
    "model.to(device=device)\n",
    "network_total_params = sum(p.numel() for p in model.parameters())\n",
    "print('total number of parameters in the model = %d'%network_total_params)"
   ]
  },
  {
   "cell_type": "markdown",
   "metadata": {},
   "source": [
    "### 18-layer model"
   ]
  },
  {
   "cell_type": "code",
   "execution_count": 8,
   "metadata": {},
   "outputs": [
    {
     "name": "stdout",
     "output_type": "stream",
     "text": [
      "total number of parameters in the model = 8851096\n"
     ]
    }
   ],
   "source": [
    "class model_o3_err(nn.Module):\n",
    "    def __init__(self, hidden, dr, channels):\n",
    "        super(model_o3_err, self).__init__()\n",
    "\n",
    "        # input: 1x256x256 ---------------> output: 2*hiddenx128x128\n",
    "        self.C01 = nn.Conv2d(channels,  2*hidden, kernel_size=3, stride=1, padding=1,\n",
    "                            padding_mode='circular', bias=True)\n",
    "        self.C02 = nn.Conv2d(2*hidden,  2*hidden, kernel_size=3, stride=1, padding=1,\n",
    "                            padding_mode='circular', bias=True)\n",
    "        self.C03 = nn.Conv2d(2*hidden,  2*hidden, kernel_size=2, stride=2, padding=0,\n",
    "                            padding_mode='circular', bias=True)\n",
    "        self.B01 = nn.BatchNorm2d(2*hidden)\n",
    "        self.B02 = nn.BatchNorm2d(2*hidden)\n",
    "        self.B03 = nn.BatchNorm2d(2*hidden)\n",
    "\n",
    "        # input: 2*hiddenx128x128 ----------> output: 4*hiddenx64x64\n",
    "        self.C11 = nn.Conv2d(2*hidden, 4*hidden, kernel_size=3, stride=1, padding=1,\n",
    "                            padding_mode='circular', bias=True)\n",
    "        self.C12 = nn.Conv2d(4*hidden, 4*hidden, kernel_size=3, stride=1, padding=1,\n",
    "                            padding_mode='circular', bias=True)\n",
    "        self.C13 = nn.Conv2d(4*hidden, 4*hidden, kernel_size=2, stride=2, padding=0,\n",
    "                            padding_mode='circular', bias=True)\n",
    "        self.B11 = nn.BatchNorm2d(4*hidden)\n",
    "        self.B12 = nn.BatchNorm2d(4*hidden)\n",
    "        self.B13 = nn.BatchNorm2d(4*hidden)\n",
    "\n",
    "        # input: 4*hiddenx64x64 --------> output: 8*hiddenx32x32\n",
    "        self.C21 = nn.Conv2d(4*hidden, 8*hidden, kernel_size=3, stride=1, padding=1,\n",
    "                            padding_mode='circular', bias=True)\n",
    "        self.C22 = nn.Conv2d(8*hidden, 8*hidden, kernel_size=3, stride=1, padding=1,\n",
    "                            padding_mode='circular', bias=True)\n",
    "        self.C23 = nn.Conv2d(8*hidden, 8*hidden, kernel_size=2, stride=2, padding=0,\n",
    "                            padding_mode='circular', bias=True)\n",
    "        self.B21 = nn.BatchNorm2d(8*hidden)\n",
    "        self.B22 = nn.BatchNorm2d(8*hidden)\n",
    "        self.B23 = nn.BatchNorm2d(8*hidden)\n",
    "\n",
    "        # input: 8*hiddenx32x32 ----------> output: 16*hiddenx16x16\n",
    "        self.C31 = nn.Conv2d(8*hidden,  16*hidden, kernel_size=3, stride=1, padding=1,\n",
    "                            padding_mode='circular', bias=True)\n",
    "        self.C32 = nn.Conv2d(16*hidden, 16*hidden, kernel_size=3, stride=1, padding=1,\n",
    "                            padding_mode='circular', bias=True)\n",
    "        self.C33 = nn.Conv2d(16*hidden, 16*hidden, kernel_size=2, stride=2, padding=0,\n",
    "                            padding_mode='circular', bias=True)\n",
    "        self.B31 = nn.BatchNorm2d(16*hidden)\n",
    "        self.B32 = nn.BatchNorm2d(16*hidden)\n",
    "        self.B33 = nn.BatchNorm2d(16*hidden)\n",
    "\n",
    "        # input: 16*hiddenx16x16 ----------> output: 32*hiddenx8x8\n",
    "        self.C41 = nn.Conv2d(16*hidden, 32*hidden, kernel_size=3, stride=1, padding=1,\n",
    "                            padding_mode='circular', bias=True)\n",
    "        self.C42 = nn.Conv2d(32*hidden, 32*hidden, kernel_size=3, stride=1, padding=1,\n",
    "                            padding_mode='circular', bias=True)\n",
    "        self.C43 = nn.Conv2d(32*hidden, 32*hidden, kernel_size=2, stride=2, padding=0,\n",
    "                            padding_mode='circular', bias=True)\n",
    "        self.B41 = nn.BatchNorm2d(32*hidden)\n",
    "        self.B42 = nn.BatchNorm2d(32*hidden)\n",
    "        self.B43 = nn.BatchNorm2d(32*hidden)\n",
    "\n",
    "        # input: 32*hiddenx8x8 ----------> output:64*hiddenx4x4\n",
    "#         self.C51 = nn.Conv2d(32*hidden, 64*hidden, kernel_size=3, stride=1, padding=1,\n",
    "#                             padding_mode='circular', bias=True)\n",
    "#         self.C52 = nn.Conv2d(64*hidden, 64*hidden, kernel_size=3, stride=1, padding=1,\n",
    "#                             padding_mode='circular', bias=True)\n",
    "#         self.C53 = nn.Conv2d(64*hidden, 64*hidden, kernel_size=2, stride=2, padding=0,\n",
    "#                             padding_mode='circular', bias=True)\n",
    "#         self.B51 = nn.BatchNorm2d(64*hidden)\n",
    "#         self.B52 = nn.BatchNorm2d(64*hidden)\n",
    "#         self.B53 = nn.BatchNorm2d(64*hidden)\n",
    "\n",
    "        # input: 32*hiddenx8x8 ----------> output:64*hiddenx2x2\n",
    "        self.C61 = nn.Conv2d(32*hidden, 64*hidden, kernel_size=4, stride=1, padding=0,\n",
    "                            padding_mode='circular', bias=True)\n",
    "        self.B61 = nn.BatchNorm2d(64*hidden)\n",
    "\n",
    "        self.P0  = nn.AvgPool2d(kernel_size=2, stride=2, padding=0)\n",
    "\n",
    "        self.FC1  = nn.Linear(64*hidden*4, 64*hidden)\n",
    "        self.FC2  = nn.Linear(64*hidden,  12)  # TODO\n",
    "\n",
    "        self.dropout   = nn.Dropout(p=dr)\n",
    "        self.ReLU      = nn.ReLU()\n",
    "        self.LeakyReLU = nn.LeakyReLU(0.2)\n",
    "        self.tanh      = nn.Tanh()\n",
    "\n",
    "        for m in self.modules():\n",
    "            if isinstance(m, nn.BatchNorm2d) or isinstance(m, nn.BatchNorm1d):\n",
    "                nn.init.constant_(m.weight, 1)\n",
    "                nn.init.constant_(m.bias, 0)\n",
    "            elif isinstance(m, nn.Conv2d) or isinstance(m, nn.ConvTranspose2d) or isinstance(m, nn.Linear):\n",
    "                nn.init.kaiming_normal_(m.weight)\n",
    "\n",
    "\n",
    "    def forward(self, image):\n",
    "\n",
    "        x = self.LeakyReLU(self.C01(image))\n",
    "        x = self.LeakyReLU(self.B02(self.C02(x)))\n",
    "        x = self.LeakyReLU(self.B03(self.C03(x)))\n",
    "\n",
    "        x = self.LeakyReLU(self.B11(self.C11(x)))\n",
    "        x = self.LeakyReLU(self.B12(self.C12(x)))\n",
    "        x = self.LeakyReLU(self.B13(self.C13(x)))\n",
    "\n",
    "        x = self.LeakyReLU(self.B21(self.C21(x)))\n",
    "        x = self.LeakyReLU(self.B22(self.C22(x)))\n",
    "        x = self.LeakyReLU(self.B23(self.C23(x)))\n",
    "\n",
    "        x = self.LeakyReLU(self.B31(self.C31(x)))\n",
    "        x = self.LeakyReLU(self.B32(self.C32(x)))\n",
    "        x = self.LeakyReLU(self.B33(self.C33(x)))\n",
    "\n",
    "        x = self.LeakyReLU(self.B41(self.C41(x)))\n",
    "        x = self.LeakyReLU(self.B42(self.C42(x)))\n",
    "        x = self.LeakyReLU(self.B43(self.C43(x)))\n",
    "\n",
    "#         x = self.LeakyReLU(self.B51(self.C51(x)))\n",
    "#         x = self.LeakyReLU(self.B52(self.C52(x)))\n",
    "#         x = self.LeakyReLU(self.B53(self.C53(x)))\n",
    "\n",
    "        x = self.LeakyReLU(self.B61(self.C61(x)))\n",
    "        x = self.P0(x)\n",
    "\n",
    "        x = x.view(image.shape[0],-1)\n",
    "        x = self.dropout(x)\n",
    "        x = self.dropout(self.LeakyReLU(self.FC1(x)))\n",
    "        x = self.FC2(x)\n",
    "\n",
    "        # enforce the errors to be positive\n",
    "        y = torch.clone(x)\n",
    "        y[:,6:12] = torch.square(x[:,6:12])  # TODO\n",
    "\n",
    "        return y\n",
    "\n",
    "# now that architecture is defined above, use it\n",
    "model = model_o3_err(hidden, dr, channels)\n",
    "# model = nn.DataParallel(model)\n",
    "model.to(device=device)\n",
    "network_total_params = sum(p.numel() for p in model.parameters())\n",
    "print('total number of parameters in the model = %d'%network_total_params)"
   ]
  },
  {
   "cell_type": "markdown",
   "metadata": {},
   "source": [
    "### 15-layer model"
   ]
  },
  {
   "cell_type": "code",
   "execution_count": 15,
   "metadata": {},
   "outputs": [
    {
     "name": "stdout",
     "output_type": "stream",
     "text": [
      "total number of parameters in the model = 10643480\n"
     ]
    }
   ],
   "source": [
    "class model_o3_err(nn.Module):\n",
    "    def __init__(self, hidden, dr, channels):\n",
    "        super(model_o3_err, self).__init__()\n",
    "\n",
    "        # input: 1x256x256 ---------------> output: 2*hiddenx128x128\n",
    "        self.C01 = nn.Conv2d(channels,  2*hidden, kernel_size=3, stride=1, padding=1,\n",
    "                            padding_mode='circular', bias=True)\n",
    "        self.C02 = nn.Conv2d(2*hidden,  2*hidden, kernel_size=3, stride=1, padding=1,\n",
    "                            padding_mode='circular', bias=True)\n",
    "        self.C03 = nn.Conv2d(2*hidden,  2*hidden, kernel_size=2, stride=2, padding=0,\n",
    "                            padding_mode='circular', bias=True)\n",
    "        self.B01 = nn.BatchNorm2d(2*hidden)\n",
    "        self.B02 = nn.BatchNorm2d(2*hidden)\n",
    "        self.B03 = nn.BatchNorm2d(2*hidden)\n",
    "\n",
    "        # input: 2*hiddenx128x128 ----------> output: 4*hiddenx64x64\n",
    "        self.C11 = nn.Conv2d(2*hidden, 4*hidden, kernel_size=3, stride=1, padding=1,\n",
    "                            padding_mode='circular', bias=True)\n",
    "        self.C12 = nn.Conv2d(4*hidden, 4*hidden, kernel_size=3, stride=1, padding=1,\n",
    "                            padding_mode='circular', bias=True)\n",
    "        self.C13 = nn.Conv2d(4*hidden, 4*hidden, kernel_size=2, stride=2, padding=0,\n",
    "                            padding_mode='circular', bias=True)\n",
    "        self.B11 = nn.BatchNorm2d(4*hidden)\n",
    "        self.B12 = nn.BatchNorm2d(4*hidden)\n",
    "        self.B13 = nn.BatchNorm2d(4*hidden)\n",
    "\n",
    "        # input: 4*hiddenx64x64 --------> output: 8*hiddenx32x32\n",
    "        self.C21 = nn.Conv2d(4*hidden, 8*hidden, kernel_size=3, stride=1, padding=1,\n",
    "                            padding_mode='circular', bias=True)\n",
    "        self.C22 = nn.Conv2d(8*hidden, 8*hidden, kernel_size=3, stride=1, padding=1,\n",
    "                            padding_mode='circular', bias=True)\n",
    "        self.C23 = nn.Conv2d(8*hidden, 8*hidden, kernel_size=2, stride=2, padding=0,\n",
    "                            padding_mode='circular', bias=True)\n",
    "        self.B21 = nn.BatchNorm2d(8*hidden)\n",
    "        self.B22 = nn.BatchNorm2d(8*hidden)\n",
    "        self.B23 = nn.BatchNorm2d(8*hidden)\n",
    "\n",
    "        # input: 8*hiddenx32x32 ----------> output: 16*hiddenx16x16\n",
    "        self.C31 = nn.Conv2d(8*hidden,  16*hidden, kernel_size=3, stride=1, padding=1,\n",
    "                            padding_mode='circular', bias=True)\n",
    "        self.C32 = nn.Conv2d(16*hidden, 16*hidden, kernel_size=3, stride=1, padding=1,\n",
    "                            padding_mode='circular', bias=True)\n",
    "        self.C33 = nn.Conv2d(16*hidden, 16*hidden, kernel_size=2, stride=2, padding=0,\n",
    "                            padding_mode='circular', bias=True)\n",
    "        self.B31 = nn.BatchNorm2d(16*hidden)\n",
    "        self.B32 = nn.BatchNorm2d(16*hidden)\n",
    "        self.B33 = nn.BatchNorm2d(16*hidden)\n",
    "\n",
    "        # input: 16*hiddenx16x16 ----------> output: 32*hiddenx8x8\n",
    "#         self.C41 = nn.Conv2d(16*hidden, 32*hidden, kernel_size=3, stride=1, padding=1,\n",
    "#                             padding_mode='circular', bias=True)\n",
    "#         self.C42 = nn.Conv2d(32*hidden, 32*hidden, kernel_size=3, stride=1, padding=1,\n",
    "#                             padding_mode='circular', bias=True)\n",
    "#         self.C43 = nn.Conv2d(32*hidden, 32*hidden, kernel_size=2, stride=2, padding=0,\n",
    "#                             padding_mode='circular', bias=True)\n",
    "#         self.B41 = nn.BatchNorm2d(32*hidden)\n",
    "#         self.B42 = nn.BatchNorm2d(32*hidden)\n",
    "#         self.B43 = nn.BatchNorm2d(32*hidden)\n",
    "\n",
    "        # input: 32*hiddenx8x8 ----------> output:64*hiddenx4x4\n",
    "#         self.C51 = nn.Conv2d(32*hidden, 64*hidden, kernel_size=3, stride=1, padding=1,\n",
    "#                             padding_mode='circular', bias=True)\n",
    "#         self.C52 = nn.Conv2d(64*hidden, 64*hidden, kernel_size=3, stride=1, padding=1,\n",
    "#                             padding_mode='circular', bias=True)\n",
    "#         self.C53 = nn.Conv2d(64*hidden, 64*hidden, kernel_size=2, stride=2, padding=0,\n",
    "#                             padding_mode='circular', bias=True)\n",
    "#         self.B51 = nn.BatchNorm2d(64*hidden)\n",
    "#         self.B52 = nn.BatchNorm2d(64*hidden)\n",
    "#         self.B53 = nn.BatchNorm2d(64*hidden)\n",
    "\n",
    "        # input: 32*hiddenx8x8 ----------> output:64*hiddenx2x2\n",
    "        self.C61 = nn.Conv2d(16*hidden, 32*hidden, kernel_size=4, stride=1, padding=0,\n",
    "                            padding_mode='circular', bias=True)\n",
    "        self.B61 = nn.BatchNorm2d(32*hidden)\n",
    "\n",
    "        self.P0  = nn.AvgPool2d(kernel_size=2, stride=2, padding=0)\n",
    "\n",
    "        self.FC1  = nn.Linear(32*hidden*36, 64*hidden)\n",
    "        self.FC2  = nn.Linear(64*hidden,  12)  # TODO\n",
    "\n",
    "        self.dropout   = nn.Dropout(p=dr)\n",
    "        self.ReLU      = nn.ReLU()\n",
    "        self.LeakyReLU = nn.LeakyReLU(0.2)\n",
    "        self.tanh      = nn.Tanh()\n",
    "\n",
    "        for m in self.modules():\n",
    "            if isinstance(m, nn.BatchNorm2d) or isinstance(m, nn.BatchNorm1d):\n",
    "                nn.init.constant_(m.weight, 1)\n",
    "                nn.init.constant_(m.bias, 0)\n",
    "            elif isinstance(m, nn.Conv2d) or isinstance(m, nn.ConvTranspose2d) or isinstance(m, nn.Linear):\n",
    "                nn.init.kaiming_normal_(m.weight)\n",
    "\n",
    "\n",
    "    def forward(self, image):\n",
    "\n",
    "        x = self.LeakyReLU(self.C01(image))\n",
    "        x = self.LeakyReLU(self.B02(self.C02(x)))\n",
    "        x = self.LeakyReLU(self.B03(self.C03(x)))\n",
    "\n",
    "        x = self.LeakyReLU(self.B11(self.C11(x)))\n",
    "        x = self.LeakyReLU(self.B12(self.C12(x)))\n",
    "        x = self.LeakyReLU(self.B13(self.C13(x)))\n",
    "\n",
    "        x = self.LeakyReLU(self.B21(self.C21(x)))\n",
    "        x = self.LeakyReLU(self.B22(self.C22(x)))\n",
    "        x = self.LeakyReLU(self.B23(self.C23(x)))\n",
    "\n",
    "        x = self.LeakyReLU(self.B31(self.C31(x)))\n",
    "        x = self.LeakyReLU(self.B32(self.C32(x)))\n",
    "        x = self.LeakyReLU(self.B33(self.C33(x)))\n",
    "\n",
    "#         x = self.LeakyReLU(self.B41(self.C41(x)))\n",
    "#         x = self.LeakyReLU(self.B42(self.C42(x)))\n",
    "#         x = self.LeakyReLU(self.B43(self.C43(x)))\n",
    "\n",
    "#         x = self.LeakyReLU(self.B51(self.C51(x)))\n",
    "#         x = self.LeakyReLU(self.B52(self.C52(x)))\n",
    "#         x = self.LeakyReLU(self.B53(self.C53(x)))\n",
    "\n",
    "        x = self.LeakyReLU(self.B61(self.C61(x)))\n",
    "        x = self.P0(x)\n",
    "\n",
    "        x = x.view(image.shape[0],-1)\n",
    "        x = self.dropout(x)\n",
    "        x = self.dropout(self.LeakyReLU(self.FC1(x)))\n",
    "        x = self.FC2(x)\n",
    "\n",
    "        # enforce the errors to be positive\n",
    "        y = torch.clone(x)\n",
    "        y[:,6:12] = torch.square(x[:,6:12])  # TODO\n",
    "\n",
    "        return y\n",
    "\n",
    "# now that architecture is defined above, use it\n",
    "model = model_o3_err(hidden, dr, channels)\n",
    "# model = nn.DataParallel(model)\n",
    "model.to(device=device)\n",
    "network_total_params = sum(p.numel() for p in model.parameters())\n",
    "print('total number of parameters in the model = %d'%network_total_params)"
   ]
  },
  {
   "cell_type": "code",
   "execution_count": 10,
   "metadata": {},
   "outputs": [],
   "source": [
    "optimizer = torch.optim.AdamW(model.parameters(), lr=max_lr, weight_decay=wd, betas=(beta1, beta2))\n",
    "scheduler = torch.optim.lr_scheduler.ReduceLROnPlateau(optimizer, 'min', factor=0.3, patience=10)\n",
    "\n",
    "# optimizer = torch.optim.AdamW(model.parameters(), lr=max_lr, weight_decay=wd, betas=(beta1, beta2))\n",
    "# scheduler = torch.optim.lr_scheduler.CyclicLR(optimizer, base_lr=min_lr, max_lr=max_lr, \n",
    "#                                               cycle_momentum=False, step_size_up=500, step_size_down=500)"
   ]
  },
  {
   "cell_type": "code",
   "execution_count": 11,
   "metadata": {},
   "outputs": [
    {
     "name": "stdout",
     "output_type": "stream",
     "text": [
      "Computing initial validation loss\n"
     ]
    },
    {
     "ename": "NameError",
     "evalue": "name 'valid_loader' is not defined",
     "output_type": "error",
     "traceback": [
      "\u001b[0;31m---------------------------------------------------------------------------\u001b[0m",
      "\u001b[0;31mNameError\u001b[0m                                 Traceback (most recent call last)",
      "\u001b[1;32m/home/jingyue/CMD/CMD_test_CKA-Copy1.ipynb Cell 22\u001b[0m line \u001b[0;36m5\n\u001b[1;32m      <a href='vscode-notebook-cell://ssh-remote%2Blaregencia/home/jingyue/CMD/CMD_test_CKA-Copy1.ipynb#X30sdnNjb2RlLXJlbW90ZQ%3D%3D?line=2'>3</a>\u001b[0m valid_loss1, valid_loss2 \u001b[39m=\u001b[39m torch\u001b[39m.\u001b[39mzeros(\u001b[39mlen\u001b[39m(g))\u001b[39m.\u001b[39mto(device), torch\u001b[39m.\u001b[39mzeros(\u001b[39mlen\u001b[39m(g))\u001b[39m.\u001b[39mto(device)\n\u001b[1;32m      <a href='vscode-notebook-cell://ssh-remote%2Blaregencia/home/jingyue/CMD/CMD_test_CKA-Copy1.ipynb#X30sdnNjb2RlLXJlbW90ZQ%3D%3D?line=3'>4</a>\u001b[0m min_valid_loss, points \u001b[39m=\u001b[39m \u001b[39m0.0\u001b[39m, \u001b[39m0\u001b[39m\n\u001b[0;32m----> <a href='vscode-notebook-cell://ssh-remote%2Blaregencia/home/jingyue/CMD/CMD_test_CKA-Copy1.ipynb#X30sdnNjb2RlLXJlbW90ZQ%3D%3D?line=4'>5</a>\u001b[0m \u001b[39mfor\u001b[39;00m x, y \u001b[39min\u001b[39;00m valid_loader:\n\u001b[1;32m      <a href='vscode-notebook-cell://ssh-remote%2Blaregencia/home/jingyue/CMD/CMD_test_CKA-Copy1.ipynb#X30sdnNjb2RlLXJlbW90ZQ%3D%3D?line=5'>6</a>\u001b[0m     \u001b[39mwith\u001b[39;00m torch\u001b[39m.\u001b[39mno_grad():\n\u001b[1;32m      <a href='vscode-notebook-cell://ssh-remote%2Blaregencia/home/jingyue/CMD/CMD_test_CKA-Copy1.ipynb#X30sdnNjb2RlLXJlbW90ZQ%3D%3D?line=6'>7</a>\u001b[0m         bs   \u001b[39m=\u001b[39m x\u001b[39m.\u001b[39mshape[\u001b[39m0\u001b[39m]                \u001b[39m#batch size\u001b[39;00m\n",
      "\u001b[0;31mNameError\u001b[0m: name 'valid_loader' is not defined"
     ]
    }
   ],
   "source": [
    "print('Computing initial validation loss')\n",
    "model.eval()\n",
    "valid_loss1, valid_loss2 = torch.zeros(len(g)).to(device), torch.zeros(len(g)).to(device)\n",
    "min_valid_loss, points = 0.0, 0\n",
    "for x, y in valid_loader:\n",
    "    with torch.no_grad():\n",
    "        bs   = x.shape[0]                #batch size\n",
    "        x    = x.to(device=device)       #maps\n",
    "        y    = y.to(device=device)[:,g]  #parameters\n",
    "        p    = model(x)                  #NN output\n",
    "        y_NN = p[:,g]                    #posterior mean\n",
    "        e_NN = p[:,h]                    #posterior std\n",
    "        loss1 = torch.mean((y_NN - y)**2,                axis=0)\n",
    "        loss2 = torch.mean(((y_NN - y)**2 - e_NN**2)**2, axis=0)\n",
    "        loss  = torch.mean(torch.log(loss1) + torch.log(loss2))\n",
    "        valid_loss1 += loss1*bs\n",
    "        valid_loss2 += loss2*bs\n",
    "        points += bs\n",
    "min_valid_loss = torch.log(valid_loss1/points) + torch.log(valid_loss2/points)\n",
    "min_valid_loss = torch.mean(min_valid_loss).item()\n",
    "print('Initial valid loss = %.3e'%min_valid_loss)"
   ]
  },
  {
   "cell_type": "code",
   "execution_count": null,
   "metadata": {},
   "outputs": [
    {
     "name": "stderr",
     "output_type": "stream",
     "text": [
      "\r\n",
      "  0%|          | 0/200 [00:00<?, ?it/s]"
     ]
    },
    {
     "name": "stdout",
     "output_type": "stream",
     "text": [
      "000 2.863e+01 -6.019e+00 (C) \n"
     ]
    },
    {
     "name": "stderr",
     "output_type": "stream",
     "text": [
      "  1%|          | 2/200 [10:30<17:15:52, 313.90s/it]"
     ]
    },
    {
     "name": "stdout",
     "output_type": "stream",
     "text": [
      "001 -8.666e+00 -7.035e+00 (C) \n"
     ]
    },
    {
     "name": "stderr",
     "output_type": "stream",
     "text": [
      "\r\n",
      "  2%|▏         | 3/200 [15:38<17:02:01, 311.28s/it]"
     ]
    },
    {
     "name": "stdout",
     "output_type": "stream",
     "text": [
      "002 -9.335e+00 -7.860e+00 (C) \n"
     ]
    },
    {
     "name": "stderr",
     "output_type": "stream",
     "text": [
      "\r\n",
      "  2%|▏         | 4/200 [20:46<16:51:58, 309.79s/it]"
     ]
    },
    {
     "name": "stdout",
     "output_type": "stream",
     "text": [
      "003 -9.705e+00 -9.063e+00 (C) \n"
     ]
    },
    {
     "name": "stderr",
     "output_type": "stream",
     "text": [
      "\r\n",
      "  2%|▎         | 5/200 [25:53<16:43:57, 308.91s/it]"
     ]
    },
    {
     "name": "stdout",
     "output_type": "stream",
     "text": [
      "004 -9.935e+00 -9.433e+00 (C) \n"
     ]
    },
    {
     "name": "stderr",
     "output_type": "stream",
     "text": [
      "\r\n",
      "  3%|▎         | 6/200 [31:01<16:37:52, 308.62s/it]"
     ]
    },
    {
     "name": "stdout",
     "output_type": "stream",
     "text": [
      "005 -1.012e+01 -9.861e+00 (C) \n"
     ]
    },
    {
     "name": "stderr",
     "output_type": "stream",
     "text": [
      "\r\n",
      "  4%|▎         | 7/200 [36:09<16:31:45, 308.32s/it]"
     ]
    },
    {
     "name": "stdout",
     "output_type": "stream",
     "text": [
      "006 -1.028e+01 -9.038e+00 \n"
     ]
    },
    {
     "name": "stderr",
     "output_type": "stream",
     "text": [
      "\r\n",
      "  4%|▍         | 8/200 [41:16<16:25:48, 308.06s/it]"
     ]
    },
    {
     "name": "stdout",
     "output_type": "stream",
     "text": [
      "007 -1.036e+01 -9.651e+00 \n"
     ]
    },
    {
     "name": "stderr",
     "output_type": "stream",
     "text": [
      "\r\n",
      "  4%|▍         | 9/200 [46:24<16:20:34, 308.03s/it]"
     ]
    },
    {
     "name": "stdout",
     "output_type": "stream",
     "text": [
      "008 -1.047e+01 -1.011e+01 (C) \n"
     ]
    },
    {
     "name": "stderr",
     "output_type": "stream",
     "text": [
      "\r\n",
      "  5%|▌         | 10/200 [51:32<16:15:18, 307.99s/it]"
     ]
    },
    {
     "name": "stdout",
     "output_type": "stream",
     "text": [
      "009 -1.053e+01 -9.528e+00 \n"
     ]
    },
    {
     "name": "stderr",
     "output_type": "stream",
     "text": [
      "\r\n",
      "  6%|▌         | 11/200 [56:40<16:10:08, 307.98s/it]"
     ]
    },
    {
     "name": "stdout",
     "output_type": "stream",
     "text": [
      "010 -1.056e+01 -9.502e+00 \n"
     ]
    },
    {
     "name": "stderr",
     "output_type": "stream",
     "text": [
      "\r\n",
      "  6%|▌         | 12/200 [1:01:47<16:03:54, 307.63s/it]"
     ]
    },
    {
     "name": "stdout",
     "output_type": "stream",
     "text": [
      "011 -1.063e+01 -6.832e+00 \n"
     ]
    },
    {
     "name": "stderr",
     "output_type": "stream",
     "text": [
      "\r\n",
      "  6%|▋         | 13/200 [1:06:54<15:58:31, 307.55s/it]"
     ]
    },
    {
     "name": "stdout",
     "output_type": "stream",
     "text": [
      "012 -1.069e+01 -9.425e+00 \n"
     ]
    },
    {
     "name": "stderr",
     "output_type": "stream",
     "text": [
      "\r\n",
      "  7%|▋         | 14/200 [1:12:02<15:53:18, 307.52s/it]"
     ]
    },
    {
     "name": "stdout",
     "output_type": "stream",
     "text": [
      "013 -1.072e+01 -9.729e+00 \n"
     ]
    },
    {
     "name": "stderr",
     "output_type": "stream",
     "text": [
      "\r\n",
      "  8%|▊         | 15/200 [1:17:09<15:48:09, 307.51s/it]"
     ]
    },
    {
     "name": "stdout",
     "output_type": "stream",
     "text": [
      "014 -1.075e+01 -9.951e+00 \n"
     ]
    },
    {
     "name": "stderr",
     "output_type": "stream",
     "text": [
      "\r\n",
      "  8%|▊         | 16/200 [1:22:17<15:43:19, 307.60s/it]"
     ]
    },
    {
     "name": "stdout",
     "output_type": "stream",
     "text": [
      "015 -1.075e+01 -8.957e+00 \n"
     ]
    },
    {
     "name": "stderr",
     "output_type": "stream",
     "text": [
      "\r\n",
      "  8%|▊         | 17/200 [1:27:25<15:38:18, 307.64s/it]"
     ]
    },
    {
     "name": "stdout",
     "output_type": "stream",
     "text": [
      "016 -1.081e+01 -5.855e+00 \n"
     ]
    },
    {
     "name": "stderr",
     "output_type": "stream",
     "text": [
      "\r\n",
      "  9%|▉         | 18/200 [1:32:32<15:32:50, 307.53s/it]"
     ]
    },
    {
     "name": "stdout",
     "output_type": "stream",
     "text": [
      "017 -9.890e+00 -9.622e+00 \n"
     ]
    },
    {
     "name": "stderr",
     "output_type": "stream",
     "text": [
      "\r\n",
      " 10%|▉         | 19/200 [1:37:39<15:27:34, 307.49s/it]"
     ]
    },
    {
     "name": "stdout",
     "output_type": "stream",
     "text": [
      "018 -1.083e+01 -6.933e+00 \n"
     ]
    },
    {
     "name": "stderr",
     "output_type": "stream",
     "text": [
      "\r\n",
      " 10%|█         | 20/200 [1:42:47<15:22:25, 307.47s/it]"
     ]
    },
    {
     "name": "stdout",
     "output_type": "stream",
     "text": [
      "019 -1.089e+01 -9.466e+00 \n"
     ]
    },
    {
     "name": "stderr",
     "output_type": "stream",
     "text": [
      "\r\n",
      " 10%|█         | 21/200 [1:47:54<15:17:19, 307.48s/it]"
     ]
    },
    {
     "name": "stdout",
     "output_type": "stream",
     "text": [
      "020 -1.227e+01 -1.195e+01 (C) \n"
     ]
    },
    {
     "name": "stderr",
     "output_type": "stream",
     "text": [
      "\r\n",
      " 11%|█         | 22/200 [1:53:02<15:12:25, 307.56s/it]"
     ]
    },
    {
     "name": "stdout",
     "output_type": "stream",
     "text": [
      "021 -1.242e+01 -1.149e+01 \n"
     ]
    },
    {
     "name": "stderr",
     "output_type": "stream",
     "text": [
      "\r\n",
      " 12%|█▏        | 23/200 [1:58:09<15:06:52, 307.41s/it]"
     ]
    },
    {
     "name": "stdout",
     "output_type": "stream",
     "text": [
      "022 -1.248e+01 -1.197e+01 (C) \n"
     ]
    },
    {
     "name": "stderr",
     "output_type": "stream",
     "text": [
      "\r\n",
      " 12%|█▏        | 24/200 [2:03:17<15:02:03, 307.52s/it]"
     ]
    },
    {
     "name": "stdout",
     "output_type": "stream",
     "text": [
      "023 -1.258e+01 -1.191e+01 \n"
     ]
    },
    {
     "name": "stderr",
     "output_type": "stream",
     "text": [
      "\r\n",
      " 12%|█▎        | 25/200 [2:08:25<14:57:24, 307.68s/it]"
     ]
    },
    {
     "name": "stdout",
     "output_type": "stream",
     "text": [
      "024 -1.260e+01 -1.066e+01 \n"
     ]
    },
    {
     "name": "stderr",
     "output_type": "stream",
     "text": [
      "\r\n",
      " 13%|█▎        | 26/200 [2:13:33<14:52:35, 307.79s/it]"
     ]
    },
    {
     "name": "stdout",
     "output_type": "stream",
     "text": [
      "025 -1.265e+01 -1.234e+01 (C) \n"
     ]
    },
    {
     "name": "stderr",
     "output_type": "stream",
     "text": [
      "\r\n",
      " 14%|█▎        | 27/200 [2:18:40<14:47:00, 307.63s/it]"
     ]
    },
    {
     "name": "stdout",
     "output_type": "stream",
     "text": [
      "026 -1.270e+01 -1.153e+01 \n"
     ]
    },
    {
     "name": "stderr",
     "output_type": "stream",
     "text": [
      "\r\n",
      " 14%|█▍        | 28/200 [2:23:48<14:42:14, 307.76s/it]"
     ]
    },
    {
     "name": "stdout",
     "output_type": "stream",
     "text": [
      "027 -1.276e+01 -1.214e+01 \n"
     ]
    },
    {
     "name": "stderr",
     "output_type": "stream",
     "text": [
      "\r\n",
      " 14%|█▍        | 29/200 [2:28:56<14:37:10, 307.78s/it]"
     ]
    },
    {
     "name": "stdout",
     "output_type": "stream",
     "text": [
      "028 -1.276e+01 -9.790e+00 \n"
     ]
    },
    {
     "name": "stderr",
     "output_type": "stream",
     "text": [
      "\r\n",
      " 15%|█▌        | 30/200 [2:34:05<14:32:40, 308.00s/it]"
     ]
    },
    {
     "name": "stdout",
     "output_type": "stream",
     "text": [
      "029 -1.280e+01 -1.029e+01 \n"
     ]
    },
    {
     "name": "stderr",
     "output_type": "stream",
     "text": [
      "\r\n",
      " 16%|█▌        | 31/200 [2:39:14<14:28:53, 308.48s/it]"
     ]
    },
    {
     "name": "stdout",
     "output_type": "stream",
     "text": [
      "030 -1.283e+01 -1.185e+01 \n"
     ]
    },
    {
     "name": "stderr",
     "output_type": "stream",
     "text": [
      "\r\n",
      " 16%|█▌        | 32/200 [2:44:22<14:23:01, 308.22s/it]"
     ]
    },
    {
     "name": "stdout",
     "output_type": "stream",
     "text": [
      "031 -1.287e+01 -9.948e+00 \n"
     ]
    },
    {
     "name": "stderr",
     "output_type": "stream",
     "text": [
      "\r\n",
      " 16%|█▋        | 33/200 [2:49:29<14:17:18, 308.02s/it]"
     ]
    },
    {
     "name": "stdout",
     "output_type": "stream",
     "text": [
      "032 -1.290e+01 -1.036e+01 \n"
     ]
    },
    {
     "name": "stderr",
     "output_type": "stream",
     "text": [
      "\r\n",
      " 17%|█▋        | 34/200 [2:54:37<14:12:04, 307.98s/it]"
     ]
    },
    {
     "name": "stdout",
     "output_type": "stream",
     "text": [
      "033 -1.293e+01 -1.009e+01 \n"
     ]
    },
    {
     "name": "stderr",
     "output_type": "stream",
     "text": [
      "\r\n",
      " 18%|█▊        | 35/200 [2:59:45<14:06:50, 307.94s/it]"
     ]
    },
    {
     "name": "stdout",
     "output_type": "stream",
     "text": [
      "034 -1.295e+01 -1.041e+01 \n"
     ]
    },
    {
     "name": "stderr",
     "output_type": "stream",
     "text": [
      "\r\n",
      " 18%|█▊        | 36/200 [3:04:53<14:01:41, 307.93s/it]"
     ]
    },
    {
     "name": "stdout",
     "output_type": "stream",
     "text": [
      "035 -1.296e+01 -1.012e+01 \n"
     ]
    },
    {
     "name": "stderr",
     "output_type": "stream",
     "text": [
      "\r\n",
      " 18%|█▊        | 37/200 [3:10:00<13:56:02, 307.74s/it]"
     ]
    },
    {
     "name": "stdout",
     "output_type": "stream",
     "text": [
      "036 -1.299e+01 -1.088e+01 \n"
     ]
    },
    {
     "name": "stderr",
     "output_type": "stream",
     "text": [
      "\r\n",
      " 19%|█▉        | 38/200 [3:15:08<13:50:28, 307.58s/it]"
     ]
    },
    {
     "name": "stdout",
     "output_type": "stream",
     "text": [
      "037 -1.365e+01 -1.189e+01 \n"
     ]
    },
    {
     "name": "stderr",
     "output_type": "stream",
     "text": [
      "\r\n",
      " 20%|█▉        | 39/200 [3:20:15<13:45:36, 307.68s/it]"
     ]
    },
    {
     "name": "stdout",
     "output_type": "stream",
     "text": [
      "038 -1.375e+01 -1.268e+01 (C) \n"
     ]
    },
    {
     "name": "stderr",
     "output_type": "stream",
     "text": [
      "\r\n",
      " 20%|██        | 40/200 [3:25:24<13:40:54, 307.84s/it]"
     ]
    },
    {
     "name": "stdout",
     "output_type": "stream",
     "text": [
      "039 -1.380e+01 -1.282e+01 (C) \n"
     ]
    },
    {
     "name": "stderr",
     "output_type": "stream",
     "text": [
      "\r\n",
      " 20%|██        | 41/200 [3:30:32<13:35:50, 307.86s/it]"
     ]
    },
    {
     "name": "stdout",
     "output_type": "stream",
     "text": [
      "040 -1.384e+01 -1.253e+01 \n"
     ]
    },
    {
     "name": "stderr",
     "output_type": "stream",
     "text": [
      "\r\n",
      " 21%|██        | 42/200 [3:35:39<13:30:38, 307.84s/it]"
     ]
    },
    {
     "name": "stdout",
     "output_type": "stream",
     "text": [
      "041 -1.387e+01 -1.254e+01 \n"
     ]
    },
    {
     "name": "stderr",
     "output_type": "stream",
     "text": [
      "\r\n",
      " 22%|██▏       | 43/200 [3:40:47<13:25:23, 307.79s/it]"
     ]
    },
    {
     "name": "stdout",
     "output_type": "stream",
     "text": [
      "042 -1.395e+01 -1.234e+01 \n"
     ]
    },
    {
     "name": "stderr",
     "output_type": "stream",
     "text": [
      "\r\n",
      " 22%|██▏       | 44/200 [3:45:55<13:20:15, 307.79s/it]"
     ]
    },
    {
     "name": "stdout",
     "output_type": "stream",
     "text": [
      "043 -1.395e+01 -1.227e+01 \n"
     ]
    },
    {
     "name": "stderr",
     "output_type": "stream",
     "text": [
      "\r\n",
      " 22%|██▎       | 45/200 [3:51:03<13:15:04, 307.77s/it]"
     ]
    },
    {
     "name": "stdout",
     "output_type": "stream",
     "text": [
      "044 -1.395e+01 -1.234e+01 \n"
     ]
    },
    {
     "name": "stderr",
     "output_type": "stream",
     "text": [
      "\r\n",
      " 23%|██▎       | 46/200 [3:56:10<13:10:00, 307.80s/it]"
     ]
    },
    {
     "name": "stdout",
     "output_type": "stream",
     "text": [
      "045 -1.400e+01 -1.267e+01 \n"
     ]
    },
    {
     "name": "stderr",
     "output_type": "stream",
     "text": [
      "\r\n",
      " 24%|██▎       | 47/200 [4:01:18<13:04:54, 307.81s/it]"
     ]
    },
    {
     "name": "stdout",
     "output_type": "stream",
     "text": [
      "046 -1.402e+01 -1.261e+01 \n"
     ]
    },
    {
     "name": "stderr",
     "output_type": "stream",
     "text": [
      "\r\n",
      " 24%|██▍       | 48/200 [4:06:27<13:00:42, 308.18s/it]"
     ]
    },
    {
     "name": "stdout",
     "output_type": "stream",
     "text": [
      "047 -1.406e+01 -1.234e+01 \n"
     ]
    },
    {
     "name": "stderr",
     "output_type": "stream",
     "text": [
      "\r\n",
      " 24%|██▍       | 49/200 [4:11:36<12:56:12, 308.43s/it]"
     ]
    },
    {
     "name": "stdout",
     "output_type": "stream",
     "text": [
      "048 -1.411e+01 -1.222e+01 \n"
     ]
    },
    {
     "name": "stderr",
     "output_type": "stream",
     "text": [
      "\r\n",
      " 25%|██▌       | 50/200 [4:16:45<12:51:33, 308.62s/it]"
     ]
    },
    {
     "name": "stdout",
     "output_type": "stream",
     "text": [
      "049 -1.412e+01 -1.158e+01 \n"
     ]
    },
    {
     "name": "stderr",
     "output_type": "stream",
     "text": [
      "\r\n",
      " 26%|██▌       | 51/200 [4:21:55<12:46:55, 308.83s/it]"
     ]
    },
    {
     "name": "stdout",
     "output_type": "stream",
     "text": [
      "050 -1.414e+01 -1.243e+01 \n"
     ]
    },
    {
     "name": "stderr",
     "output_type": "stream",
     "text": [
      "\r\n",
      " 26%|██▌       | 52/200 [4:27:04<12:42:11, 309.00s/it]"
     ]
    },
    {
     "name": "stdout",
     "output_type": "stream",
     "text": [
      "051 -1.442e+01 -1.276e+01 \n"
     ]
    },
    {
     "name": "stderr",
     "output_type": "stream",
     "text": [
      "\r\n",
      " 26%|██▋       | 53/200 [4:32:13<12:37:05, 309.02s/it]"
     ]
    },
    {
     "name": "stdout",
     "output_type": "stream",
     "text": [
      "052 -1.449e+01 -1.286e+01 (C) \n"
     ]
    }
   ],
   "source": [
    "from tqdm import tqdm\n",
    "# do a loop over all epochs\n",
    "start = time.time()\n",
    "for epoch in tqdm(range(200)):\n",
    "\n",
    "    # do training\n",
    "    train_loss1, train_loss2 = torch.zeros(len(g)).to(device), torch.zeros(len(g)).to(device)\n",
    "    train_loss, points = 0.0, 0\n",
    "    model.train()\n",
    "    for x, y in train_loader:\n",
    "        bs   = x.shape[0]         #batch size\n",
    "        x    = x.to(device)       #maps\n",
    "        y    = y.to(device)[:,g]  #parameters\n",
    "        p    = model(x)           #NN output\n",
    "        y_NN = p[:,g]             #posterior mean\n",
    "        e_NN = p[:,h]             #posterior std\n",
    "        loss1 = torch.mean((y_NN - y)**2,                axis=0)\n",
    "        loss2 = torch.mean(((y_NN - y)**2 - e_NN**2)**2, axis=0)\n",
    "        loss  = torch.mean(torch.log(loss1) + torch.log(loss2))\n",
    "        train_loss1 += loss1*bs\n",
    "        train_loss2 += loss2*bs\n",
    "        points      += bs\n",
    "        optimizer.zero_grad()\n",
    "        loss.backward()\n",
    "        optimizer.step()\n",
    "\n",
    "        #if points>18000:  break\n",
    "    train_loss = torch.log(train_loss1/points) + torch.log(train_loss2/points)\n",
    "    train_loss = torch.mean(train_loss).item()\n",
    "\n",
    "    # do validation: cosmo alone & all params\n",
    "    valid_loss1, valid_loss2 = torch.zeros(len(g)).to(device), torch.zeros(len(g)).to(device)\n",
    "    valid_loss, points = 0.0, 0\n",
    "    model.eval()\n",
    "    for x, y in valid_loader:\n",
    "        with torch.no_grad():\n",
    "            bs    = x.shape[0]         #batch size\n",
    "            x     = x.to(device)       #maps\n",
    "            y     = y.to(device)[:,g]  #parameters\n",
    "            p     = model(x)           #NN output\n",
    "            y_NN  = p[:,g]             #posterior mean\n",
    "            e_NN  = p[:,h]             #posterior std\n",
    "            loss1 = torch.mean((y_NN - y)**2,                axis=0)\n",
    "            loss2 = torch.mean(((y_NN - y)**2 - e_NN**2)**2, axis=0)\n",
    "            loss  = torch.mean(torch.log(loss1) + torch.log(loss2))\n",
    "            valid_loss1 += loss1*bs\n",
    "            valid_loss2 += loss2*bs\n",
    "            points     += bs\n",
    "    valid_loss = torch.log(valid_loss1/points) + torch.log(valid_loss2/points)\n",
    "    valid_loss = torch.mean(valid_loss).item()\n",
    "\n",
    "    scheduler.step(valid_loss)\n",
    "\n",
    "    # verbose\n",
    "    print('%03d %.3e %.3e '%(epoch, train_loss, valid_loss), end='')\n",
    "\n",
    "    # save model if it is better\n",
    "    if valid_loss<min_valid_loss:\n",
    "        torch.save(model.state_dict(), fmodel)\n",
    "        min_valid_loss = valid_loss\n",
    "        print('(C) ', end='')\n",
    "    print('')\n",
    "\n",
    "    # save losses to file\n",
    "    f = open(floss, 'a')\n",
    "    f.write('%d %.5e %.5e\\n'%(epoch, train_loss, valid_loss))\n",
    "    f.close()\n",
    "\n",
    "stop = time.time()\n",
    "print('Time take (h):', \"{:.4f}\".format((stop-start)/3600.0))"
   ]
  },
  {
   "cell_type": "markdown",
   "metadata": {
    "id": "kJh7kM4vmye5"
   },
   "source": [
    "\n",
    "\n",
    "\n",
    "### Now test the model"
   ]
  },
  {
   "cell_type": "code",
   "execution_count": 20,
   "metadata": {},
   "outputs": [
    {
     "data": {
      "text/plain": [
       "dict_keys(['C01.weight', 'C01.bias', 'C02.weight', 'C02.bias', 'C03.weight', 'C03.bias', 'B01.weight', 'B01.bias', 'B01.running_mean', 'B01.running_var', 'B01.num_batches_tracked', 'B02.weight', 'B02.bias', 'B02.running_mean', 'B02.running_var', 'B02.num_batches_tracked', 'B03.weight', 'B03.bias', 'B03.running_mean', 'B03.running_var', 'B03.num_batches_tracked', 'C11.weight', 'C11.bias', 'C12.weight', 'C12.bias', 'C13.weight', 'C13.bias', 'B11.weight', 'B11.bias', 'B11.running_mean', 'B11.running_var', 'B11.num_batches_tracked', 'B12.weight', 'B12.bias', 'B12.running_mean', 'B12.running_var', 'B12.num_batches_tracked', 'B13.weight', 'B13.bias', 'B13.running_mean', 'B13.running_var', 'B13.num_batches_tracked', 'C21.weight', 'C21.bias', 'C22.weight', 'C22.bias', 'C23.weight', 'C23.bias', 'B21.weight', 'B21.bias', 'B21.running_mean', 'B21.running_var', 'B21.num_batches_tracked', 'B22.weight', 'B22.bias', 'B22.running_mean', 'B22.running_var', 'B22.num_batches_tracked', 'B23.weight', 'B23.bias', 'B23.running_mean', 'B23.running_var', 'B23.num_batches_tracked', 'C31.weight', 'C31.bias', 'C32.weight', 'C32.bias', 'C33.weight', 'C33.bias', 'B31.weight', 'B31.bias', 'B31.running_mean', 'B31.running_var', 'B31.num_batches_tracked', 'B32.weight', 'B32.bias', 'B32.running_mean', 'B32.running_var', 'B32.num_batches_tracked', 'B33.weight', 'B33.bias', 'B33.running_mean', 'B33.running_var', 'B33.num_batches_tracked', 'C41.weight', 'C41.bias', 'C42.weight', 'C42.bias', 'C43.weight', 'C43.bias', 'B41.weight', 'B41.bias', 'B41.running_mean', 'B41.running_var', 'B41.num_batches_tracked', 'B42.weight', 'B42.bias', 'B42.running_mean', 'B42.running_var', 'B42.num_batches_tracked', 'B43.weight', 'B43.bias', 'B43.running_mean', 'B43.running_var', 'B43.num_batches_tracked', 'C61.weight', 'C61.bias', 'B61.weight', 'B61.bias', 'B61.running_mean', 'B61.running_var', 'B61.num_batches_tracked', 'FC1.weight', 'FC1.bias', 'FC2.weight', 'FC2.bias'])"
      ]
     },
     "execution_count": 20,
     "metadata": {},
     "output_type": "execute_result"
    }
   ],
   "source": [
    "new_state_dict.keys()"
   ]
  },
  {
   "cell_type": "code",
   "execution_count": 16,
   "metadata": {
    "colab": {
     "base_uri": "https://localhost:8080/"
    },
    "executionInfo": {
     "elapsed": 142,
     "status": "ok",
     "timestamp": 1696449043252,
     "user": {
      "displayName": "Jingyue Huang",
      "userId": "10711135304644079745"
     },
     "user_tz": 240
    },
    "id": "RYIhDeVH5fWs",
    "outputId": "74c7185e-41b4-4fae-977b-5b262971d86e"
   },
   "outputs": [
    {
     "ename": "RuntimeError",
     "evalue": "Error(s) in loading state_dict for model_o3_err:\n\tMissing key(s) in state_dict: \"C51.weight\", \"C51.bias\", \"C52.weight\", \"C52.bias\", \"C53.weight\", \"C53.bias\", \"B51.weight\", \"B51.bias\", \"B51.running_mean\", \"B51.running_var\", \"B52.weight\", \"B52.bias\", \"B52.running_mean\", \"B52.running_var\", \"B53.weight\", \"B53.bias\", \"B53.running_mean\", \"B53.running_var\". \n\tsize mismatch for C61.weight: copying a param with shape torch.Size([704, 352, 4, 4]) from checkpoint, the shape in current model is torch.Size([1408, 704, 4, 4]).\n\tsize mismatch for C61.bias: copying a param with shape torch.Size([704]) from checkpoint, the shape in current model is torch.Size([1408]).\n\tsize mismatch for B61.weight: copying a param with shape torch.Size([704]) from checkpoint, the shape in current model is torch.Size([1408]).\n\tsize mismatch for B61.bias: copying a param with shape torch.Size([704]) from checkpoint, the shape in current model is torch.Size([1408]).\n\tsize mismatch for B61.running_mean: copying a param with shape torch.Size([704]) from checkpoint, the shape in current model is torch.Size([1408]).\n\tsize mismatch for B61.running_var: copying a param with shape torch.Size([704]) from checkpoint, the shape in current model is torch.Size([1408]).\n\tsize mismatch for FC1.weight: copying a param with shape torch.Size([704, 2816]) from checkpoint, the shape in current model is torch.Size([704, 1408]).",
     "output_type": "error",
     "traceback": [
      "\u001b[0;31m---------------------------------------------------------------------------\u001b[0m",
      "\u001b[0;31mRuntimeError\u001b[0m                              Traceback (most recent call last)",
      "\u001b[1;32m/home/jingyue/CMD/CMD_test_CKA-Copy1.ipynb Cell 26\u001b[0m line \u001b[0;36m1\n\u001b[1;32m      <a href='vscode-notebook-cell://ssh-remote%2Blaregencia/home/jingyue/CMD/CMD_test_CKA-Copy1.ipynb#X33sdnNjb2RlLXJlbW90ZQ%3D%3D?line=7'>8</a>\u001b[0m checkpoint \u001b[39m=\u001b[39m torch\u001b[39m.\u001b[39mload(fmodel, map_location\u001b[39m=\u001b[39mtorch\u001b[39m.\u001b[39mdevice(device))\n\u001b[1;32m      <a href='vscode-notebook-cell://ssh-remote%2Blaregencia/home/jingyue/CMD/CMD_test_CKA-Copy1.ipynb#X33sdnNjb2RlLXJlbW90ZQ%3D%3D?line=8'>9</a>\u001b[0m new_state_dict \u001b[39m=\u001b[39m {k\u001b[39m.\u001b[39mreplace(\u001b[39m'\u001b[39m\u001b[39mmodule.\u001b[39m\u001b[39m'\u001b[39m, \u001b[39m'\u001b[39m\u001b[39m'\u001b[39m): v \u001b[39mfor\u001b[39;00m k, v \u001b[39min\u001b[39;00m checkpoint\u001b[39m.\u001b[39mitems()}\n\u001b[0;32m---> <a href='vscode-notebook-cell://ssh-remote%2Blaregencia/home/jingyue/CMD/CMD_test_CKA-Copy1.ipynb#X33sdnNjb2RlLXJlbW90ZQ%3D%3D?line=9'>10</a>\u001b[0m model\u001b[39m.\u001b[39;49mload_state_dict(new_state_dict)\n\u001b[1;32m     <a href='vscode-notebook-cell://ssh-remote%2Blaregencia/home/jingyue/CMD/CMD_test_CKA-Copy1.ipynb#X33sdnNjb2RlLXJlbW90ZQ%3D%3D?line=11'>12</a>\u001b[0m \u001b[39m# model.load_state_dict(torch.load(fmodel, map_location=torch.device(device)))\u001b[39;00m\n\u001b[1;32m     <a href='vscode-notebook-cell://ssh-remote%2Blaregencia/home/jingyue/CMD/CMD_test_CKA-Copy1.ipynb#X33sdnNjb2RlLXJlbW90ZQ%3D%3D?line=12'>13</a>\u001b[0m \u001b[39mprint\u001b[39m(\u001b[39m'\u001b[39m\u001b[39mWeights loaded\u001b[39m\u001b[39m'\u001b[39m)\n",
      "File \u001b[0;32m~/anaconda3/envs/ce2/lib/python3.8/site-packages/torch/nn/modules/module.py:1604\u001b[0m, in \u001b[0;36mModule.load_state_dict\u001b[0;34m(self, state_dict, strict)\u001b[0m\n\u001b[1;32m   1599\u001b[0m         error_msgs\u001b[39m.\u001b[39minsert(\n\u001b[1;32m   1600\u001b[0m             \u001b[39m0\u001b[39m, \u001b[39m'\u001b[39m\u001b[39mMissing key(s) in state_dict: \u001b[39m\u001b[39m{}\u001b[39;00m\u001b[39m. \u001b[39m\u001b[39m'\u001b[39m\u001b[39m.\u001b[39mformat(\n\u001b[1;32m   1601\u001b[0m                 \u001b[39m'\u001b[39m\u001b[39m, \u001b[39m\u001b[39m'\u001b[39m\u001b[39m.\u001b[39mjoin(\u001b[39m'\u001b[39m\u001b[39m\"\u001b[39m\u001b[39m{}\u001b[39;00m\u001b[39m\"\u001b[39m\u001b[39m'\u001b[39m\u001b[39m.\u001b[39mformat(k) \u001b[39mfor\u001b[39;00m k \u001b[39min\u001b[39;00m missing_keys)))\n\u001b[1;32m   1603\u001b[0m \u001b[39mif\u001b[39;00m \u001b[39mlen\u001b[39m(error_msgs) \u001b[39m>\u001b[39m \u001b[39m0\u001b[39m:\n\u001b[0;32m-> 1604\u001b[0m     \u001b[39mraise\u001b[39;00m \u001b[39mRuntimeError\u001b[39;00m(\u001b[39m'\u001b[39m\u001b[39mError(s) in loading state_dict for \u001b[39m\u001b[39m{}\u001b[39;00m\u001b[39m:\u001b[39m\u001b[39m\\n\u001b[39;00m\u001b[39m\\t\u001b[39;00m\u001b[39m{}\u001b[39;00m\u001b[39m'\u001b[39m\u001b[39m.\u001b[39mformat(\n\u001b[1;32m   1605\u001b[0m                        \u001b[39mself\u001b[39m\u001b[39m.\u001b[39m\u001b[39m__class__\u001b[39m\u001b[39m.\u001b[39m\u001b[39m__name__\u001b[39m, \u001b[39m\"\u001b[39m\u001b[39m\\n\u001b[39;00m\u001b[39m\\t\u001b[39;00m\u001b[39m\"\u001b[39m\u001b[39m.\u001b[39mjoin(error_msgs)))\n\u001b[1;32m   1606\u001b[0m \u001b[39mreturn\u001b[39;00m _IncompatibleKeys(missing_keys, unexpected_keys)\n",
      "\u001b[0;31mRuntimeError\u001b[0m: Error(s) in loading state_dict for model_o3_err:\n\tMissing key(s) in state_dict: \"C51.weight\", \"C51.bias\", \"C52.weight\", \"C52.bias\", \"C53.weight\", \"C53.bias\", \"B51.weight\", \"B51.bias\", \"B51.running_mean\", \"B51.running_var\", \"B52.weight\", \"B52.bias\", \"B52.running_mean\", \"B52.running_var\", \"B53.weight\", \"B53.bias\", \"B53.running_mean\", \"B53.running_var\". \n\tsize mismatch for C61.weight: copying a param with shape torch.Size([704, 352, 4, 4]) from checkpoint, the shape in current model is torch.Size([1408, 704, 4, 4]).\n\tsize mismatch for C61.bias: copying a param with shape torch.Size([704]) from checkpoint, the shape in current model is torch.Size([1408]).\n\tsize mismatch for B61.weight: copying a param with shape torch.Size([704]) from checkpoint, the shape in current model is torch.Size([1408]).\n\tsize mismatch for B61.bias: copying a param with shape torch.Size([704]) from checkpoint, the shape in current model is torch.Size([1408]).\n\tsize mismatch for B61.running_mean: copying a param with shape torch.Size([704]) from checkpoint, the shape in current model is torch.Size([1408]).\n\tsize mismatch for B61.running_var: copying a param with shape torch.Size([704]) from checkpoint, the shape in current model is torch.Size([1408]).\n\tsize mismatch for FC1.weight: copying a param with shape torch.Size([704, 2816]) from checkpoint, the shape in current model is torch.Size([704, 1408])."
     ]
    }
   ],
   "source": [
    "# load the weights in case they exists\n",
    "fmodel = 'best_weights_t_15layers.pt'\n",
    "# fmodel = 'best_weights_T_TNG.pt'\n",
    "fmodel = 'layer17_TNG/weights.pt'\n",
    "fmdoel = 'best_weights_T_TNG_0.pt'\n",
    "\n",
    "if os.path.exists(fmodel):\n",
    "    checkpoint = torch.load(fmodel, map_location=torch.device(device))\n",
    "    new_state_dict = {k.replace('module.', ''): v for k, v in checkpoint.items()}\n",
    "    model.load_state_dict(new_state_dict)\n",
    "    \n",
    "    # model.load_state_dict(torch.load(fmodel, map_location=torch.device(device)))\n",
    "    print('Weights loaded')"
   ]
  },
  {
   "cell_type": "code",
   "execution_count": 10,
   "metadata": {},
   "outputs": [
    {
     "name": "stdout",
     "output_type": "stream",
     "text": [
      "Weights loaded\n"
     ]
    }
   ],
   "source": [
    "if os.path.exists(fmodel):\n",
    "    model.load_state_dict(torch.load(fmodel, map_location=torch.device(device)))\n",
    "    print('Weights loaded')"
   ]
  },
  {
   "cell_type": "code",
   "execution_count": 10,
   "metadata": {},
   "outputs": [
    {
     "name": "stdout",
     "output_type": "stream",
     "text": [
      "Found 1 channels\n",
      "Reading data...\n",
      "1.502e+03 < F(all|orig) < 8.669e+07\n",
      "3.177 < F(all|resc)  < 7.938\n",
      "-1.282 < F(all|norm) < 4.550\n"
     ]
    }
   ],
   "source": [
    "# load test set\n",
    "test_loader  = create_dataset_multifield('test', seed, fmaps, fparams, batch_size, splits, fmaps_norm,\n",
    "                                         rot_flip_in_mem=False, verbose=True)"
   ]
  },
  {
   "cell_type": "code",
   "execution_count": 18,
   "metadata": {
    "colab": {
     "base_uri": "https://localhost:8080/"
    },
    "executionInfo": {
     "elapsed": 20672,
     "status": "ok",
     "timestamp": 1696449090690,
     "user": {
      "displayName": "Jingyue Huang",
      "userId": "10711135304644079745"
     },
     "user_tz": 240
    },
    "id": "fYndRfrpkt1p",
    "outputId": "9bec2cbe-b0a9-4a19-9f69-b09d5cb22c1d"
   },
   "outputs": [
    {
     "name": "stdout",
     "output_type": "stream",
     "text": [
      "\n",
      "Number of maps in the test set: 750\n",
      "Test loss = 3.058e+00\n",
      "\n",
      "Normalized Error Omega_m = 1.822\n",
      "Normalized Error sigma_8 = 5.829\n",
      "Normalized Error A_SN1   = 0.827\n",
      "Normalized Error A_AGN1  = 2.183\n",
      "Normalized Error A_SN2   = 0.625\n",
      "Normalized Error A_AGN2  = 0.425\n",
      "\n",
      "Error Omega_m = 0.729\n",
      "Error sigma_8 = 2.332\n",
      "Error A_SN1   = 3.101\n",
      "Error A_AGN1  = 8.187\n",
      "Error A_SN2   = 0.937\n",
      "Error A_AGN2  = 0.637\n",
      "\n",
      "Bayesian error Omega_m = 0.007\n",
      "Bayesian error sigma_8 = 0.023\n",
      "Bayesian error A_SN1   = 0.565\n",
      "Bayesian error A_AGN1  = 4.924\n",
      "Bayesian error A_SN2   = 0.062\n",
      "Bayesian error A_AGN2  = 0.170\n",
      "\n",
      "Relative error Omega_m = 3.617\n",
      "Relative error sigma_8 = 3.244\n",
      "Relative error A_SN1   = 4.871\n",
      "Relative error A_AGN1  = 19.659\n",
      "Relative error A_SN2   = 0.842\n",
      "Relative error A_AGN2  = 0.758\n",
      "\n"
     ]
    }
   ],
   "source": [
    "# get the number of maps in the test set\n",
    "num_maps = 0\n",
    "for x,y in test_loader:\n",
    "      num_maps += x.shape[0]\n",
    "print('\\nNumber of maps in the test set: %d'%num_maps)\n",
    "\n",
    "# define the arrays containing the value of the parameters\n",
    "params_true = np.zeros((num_maps,6), dtype=np.float32)\n",
    "params_NN   = np.zeros((num_maps,6), dtype=np.float32)\n",
    "errors_NN   = np.zeros((num_maps,6), dtype=np.float32)\n",
    "\n",
    "# get test loss\n",
    "test_loss1, test_loss2 = torch.zeros(len(g)).to(device), torch.zeros(len(g)).to(device)\n",
    "test_loss, points = 0.0, 0\n",
    "model.eval()\n",
    "for x, y in test_loader:\n",
    "    with torch.no_grad():\n",
    "        bs    = x.shape[0]    #batch size\n",
    "        x     = x.to(device)  #send data to device\n",
    "        y     = y.to(device)  #send data to device\n",
    "        p     = model(x)      #prediction for mean and variance\n",
    "        y_NN  = p[:,:6]       #prediction for mean\n",
    "        e_NN  = p[:,6:]       #prediction for error\n",
    "        loss1 = torch.mean((y_NN[:,g] - y[:,g])**2,                     axis=0)\n",
    "        loss2 = torch.mean(((y_NN[:,g] - y[:,g])**2 - e_NN[:,g]**2)**2, axis=0)\n",
    "        test_loss1 += loss1*bs\n",
    "        test_loss2 += loss2*bs\n",
    "\n",
    "        # save results to their corresponding arrays\n",
    "        params_true[points:points+x.shape[0]] = y.cpu().numpy()\n",
    "        params_NN[points:points+x.shape[0]]   = y_NN.cpu().numpy()\n",
    "        errors_NN[points:points+x.shape[0]]   = e_NN.cpu().numpy()\n",
    "        points    += x.shape[0]\n",
    "test_loss = torch.log(test_loss1/points) + torch.log(test_loss2/points)\n",
    "test_loss = torch.mean(test_loss).item()\n",
    "print('Test loss = %.3e\\n'%test_loss)\n",
    "\n",
    "Norm_error = np.sqrt(np.mean((params_true - params_NN)**2, axis=0))\n",
    "print('Normalized Error Omega_m = %.3f'%Norm_error[0])\n",
    "print('Normalized Error sigma_8 = %.3f'%Norm_error[1])\n",
    "print('Normalized Error A_SN1   = %.3f'%Norm_error[2])\n",
    "print('Normalized Error A_AGN1  = %.3f'%Norm_error[3])\n",
    "print('Normalized Error A_SN2   = %.3f'%Norm_error[4])\n",
    "print('Normalized Error A_AGN2  = %.3f\\n'%Norm_error[5])\n",
    "\n",
    "# de-normalize\n",
    "minimum = np.array([0.1, 0.6, 0.25, 0.25, 0.5, 0.5])\n",
    "maximum = np.array([0.5, 1.0, 4.00, 4.00, 2.0, 2.0])\n",
    "params_true = params_true*(maximum - minimum) + minimum\n",
    "params_NN   = params_NN*(maximum - minimum) + minimum\n",
    "errors_NN   = errors_NN*(maximum - minimum)\n",
    "\n",
    "error = np.sqrt(np.mean((params_true - params_NN)**2, axis=0))\n",
    "print('Error Omega_m = %.3f'%error[0])\n",
    "print('Error sigma_8 = %.3f'%error[1])\n",
    "print('Error A_SN1   = %.3f'%error[2])\n",
    "print('Error A_AGN1  = %.3f'%error[3])\n",
    "print('Error A_SN2   = %.3f'%error[4])\n",
    "print('Error A_AGN2  = %.3f\\n'%error[5])\n",
    "\n",
    "mean_error = np.absolute(np.mean(errors_NN, axis=0))\n",
    "print('Bayesian error Omega_m = %.3f'%mean_error[0])\n",
    "print('Bayesian error sigma_8 = %.3f'%mean_error[1])\n",
    "print('Bayesian error A_SN1   = %.3f'%mean_error[2])\n",
    "print('Bayesian error A_AGN1  = %.3f'%mean_error[3])\n",
    "print('Bayesian error A_SN2   = %.3f'%mean_error[4])\n",
    "print('Bayesian error A_AGN2  = %.3f\\n'%mean_error[5])\n",
    "\n",
    "rel_error = np.sqrt(np.mean((params_true - params_NN)**2/params_true**2, axis=0))\n",
    "print('Relative error Omega_m = %.3f'%rel_error[0])\n",
    "print('Relative error sigma_8 = %.3f'%rel_error[1])\n",
    "print('Relative error A_SN1   = %.3f'%rel_error[2])\n",
    "print('Relative error A_AGN1  = %.3f'%rel_error[3])\n",
    "print('Relative error A_SN2   = %.3f'%rel_error[4])\n",
    "print('Relative error A_AGN2  = %.3f\\n'%rel_error[5])\n",
    "\n",
    "# save results to file\n",
    "#dataset = np.zeros((num_maps,18), dtype=np.float32)\n",
    "#dataset[:,:6]   = params_true\n",
    "#dataset[:,6:12] = params_NN\n",
    "#dataset[:,12:]  = errors_NN\n",
    "#np.savetxt(fresults,  dataset)\n",
    "#np.savetxt(fresults1, Norm_error)"
   ]
  },
  {
   "cell_type": "code",
   "execution_count": 19,
   "metadata": {},
   "outputs": [
    {
     "name": "stdout",
     "output_type": "stream",
     "text": [
      "R^2: -41.73478240994945\n"
     ]
    },
    {
     "data": {
      "image/png": "[encoded data removed]",
      "text/plain": [
       "<Figure size 700x700 with 1 Axes>"
      ]
     },
     "metadata": {},
     "output_type": "display_data"
    }
   ],
   "source": [
    "# select the first map of every simulation in the test set\n",
    "indexes = np.arange(50)*splits\n",
    "\n",
    "fig=plt.figure(figsize=(7,7))\n",
    "plt.xlabel(r'${\\rm Truth}$')\n",
    "plt.ylabel(r'${\\rm Inference}$')\n",
    "plt.text(0.1, 0.45, r'$\\Omega_{\\rm m}$',fontsize=18)\n",
    "\n",
    "print(\"R^2:\", r2_score(params_true[indexes,0], params_NN[indexes,0]))\n",
    "\n",
    "plt.errorbar(params_true[indexes,0], params_NN[indexes,0], #errors_NN[indexes,0],\n",
    "             linestyle='None', lw=1, fmt='o', ms=2, elinewidth=1, capsize=0, c='r')\n",
    "plt.plot([0.1,0.5], [0.1,0.5], color='k')\n",
    "\n",
    "plt.show()"
   ]
  },
  {
   "cell_type": "code",
   "execution_count": 20,
   "metadata": {},
   "outputs": [
    {
     "name": "stdout",
     "output_type": "stream",
     "text": [
      "R^2: -267.1588565979487\n"
     ]
    },
    {
     "data": {
      "image/png": "[encoded data removed]",
      "text/plain": [
       "<Figure size 700x700 with 1 Axes>"
      ]
     },
     "metadata": {},
     "output_type": "display_data"
    }
   ],
   "source": [
    "fig=plt.figure(figsize=(7,7))\n",
    "plt.xlabel(r'${\\rm Truth}$')\n",
    "plt.ylabel(r'${\\rm Inference}$')\n",
    "plt.text(0.6, 0.95, r'$\\sigma_8$',fontsize=18)\n",
    "\n",
    "print(\"R^2:\", r2_score(params_true[indexes,1], params_NN[indexes,1]))\n",
    "\n",
    "plt.errorbar(params_true[indexes,1], params_NN[indexes,1],# errors_NN[indexes,1],\n",
    "             linestyle='None', lw=1, fmt='o', ms=2, elinewidth=1, capsize=0, c='r')\n",
    "plt.plot([0.6,1.0], [0.6,1.0], color='k')\n",
    "\n",
    "plt.show()"
   ]
  },
  {
   "cell_type": "markdown",
   "metadata": {},
   "source": [
    "## compute CKA similarity"
   ]
  },
  {
   "cell_type": "code",
   "execution_count": 9,
   "metadata": {},
   "outputs": [
    {
     "name": "stdout",
     "output_type": "stream",
     "text": [
      "Conv2d(1, 22, kernel_size=(3, 3), stride=(1, 1), padding=(1, 1), padding_mode=circular)\n",
      "Conv2d(22, 22, kernel_size=(3, 3), stride=(1, 1), padding=(1, 1), padding_mode=circular)\n",
      "Conv2d(22, 22, kernel_size=(2, 2), stride=(2, 2), padding_mode=circular)\n",
      "BatchNorm2d(22, eps=1e-05, momentum=0.1, affine=True, track_running_stats=True)\n",
      "BatchNorm2d(22, eps=1e-05, momentum=0.1, affine=True, track_running_stats=True)\n",
      "BatchNorm2d(22, eps=1e-05, momentum=0.1, affine=True, track_running_stats=True)\n",
      "Conv2d(22, 44, kernel_size=(3, 3), stride=(1, 1), padding=(1, 1), padding_mode=circular)\n",
      "Conv2d(44, 44, kernel_size=(3, 3), stride=(1, 1), padding=(1, 1), padding_mode=circular)\n",
      "Conv2d(44, 44, kernel_size=(2, 2), stride=(2, 2), padding_mode=circular)\n",
      "BatchNorm2d(44, eps=1e-05, momentum=0.1, affine=True, track_running_stats=True)\n",
      "BatchNorm2d(44, eps=1e-05, momentum=0.1, affine=True, track_running_stats=True)\n",
      "BatchNorm2d(44, eps=1e-05, momentum=0.1, affine=True, track_running_stats=True)\n",
      "Conv2d(44, 88, kernel_size=(3, 3), stride=(1, 1), padding=(1, 1), padding_mode=circular)\n",
      "Conv2d(88, 88, kernel_size=(3, 3), stride=(1, 1), padding=(1, 1), padding_mode=circular)\n",
      "Conv2d(88, 88, kernel_size=(2, 2), stride=(2, 2), padding_mode=circular)\n",
      "BatchNorm2d(88, eps=1e-05, momentum=0.1, affine=True, track_running_stats=True)\n",
      "BatchNorm2d(88, eps=1e-05, momentum=0.1, affine=True, track_running_stats=True)\n",
      "BatchNorm2d(88, eps=1e-05, momentum=0.1, affine=True, track_running_stats=True)\n",
      "Conv2d(88, 176, kernel_size=(3, 3), stride=(1, 1), padding=(1, 1), padding_mode=circular)\n",
      "Conv2d(176, 176, kernel_size=(3, 3), stride=(1, 1), padding=(1, 1), padding_mode=circular)\n",
      "Conv2d(176, 176, kernel_size=(2, 2), stride=(2, 2), padding_mode=circular)\n",
      "BatchNorm2d(176, eps=1e-05, momentum=0.1, affine=True, track_running_stats=True)\n",
      "BatchNorm2d(176, eps=1e-05, momentum=0.1, affine=True, track_running_stats=True)\n",
      "BatchNorm2d(176, eps=1e-05, momentum=0.1, affine=True, track_running_stats=True)\n",
      "Conv2d(176, 352, kernel_size=(4, 4), stride=(1, 1), padding_mode=circular)\n",
      "BatchNorm2d(352, eps=1e-05, momentum=0.1, affine=True, track_running_stats=True)\n",
      "AvgPool2d(kernel_size=2, stride=2, padding=0)\n",
      "Linear(in_features=12672, out_features=704, bias=True)\n",
      "Linear(in_features=704, out_features=12, bias=True)\n",
      "Dropout(p=0.4, inplace=False)\n",
      "ReLU()\n",
      "LeakyReLU(negative_slope=0.2)\n",
      "Tanh()\n"
     ]
    }
   ],
   "source": [
    "for layer in model.children():\n",
    "    print(layer)"
   ]
  },
  {
   "cell_type": "code",
   "execution_count": 22,
   "metadata": {},
   "outputs": [],
   "source": [
    "def normalize_activations(act):\n",
    "    \"\"\"Normalize along each row so that the norm of activations produced by each example is 1.\"\"\"\n",
    "    act = act.view(act.size(0), -1)\n",
    "    act_norm = torch.linalg.norm(act, dim=1, keepdim=True)\n",
    "    act /= act_norm\n",
    "    return act\n",
    "\n",
    "def get_activations(images, model, normalize_act=False):\n",
    "    \"\"\"Return a list of activations obtained from a model on a set of images.\"\"\"\n",
    "    activations = []\n",
    "\n",
    "    def hook_fn(module, input, output):\n",
    "        if normalize_act:\n",
    "            output = normalize_activations(output)\n",
    "        activations.append(output)\n",
    "\n",
    "    hooks = []\n",
    "    for layer in model.children():\n",
    "        if 'Linear' in str(layer) or 'Conv2d' in str(layer):\n",
    "            hooks.append(layer.register_forward_hook(hook_fn))\n",
    "\n",
    "    with torch.no_grad():\n",
    "        model(images)\n",
    "\n",
    "    for hook in hooks:\n",
    "        hook.remove()\n",
    "\n",
    "    return activations\n",
    "\n",
    "# Plotting the heatmap with 'magma' colormap and flipping the matrix vertically\n",
    "def plotHeatmap(heatmap, modelName):\n",
    "    imshowobj = plt.imshow(np.flipud(heatmap), cmap='magma', interpolation='nearest')\n",
    "    imshowobj.set_clim(0,1)\n",
    "    plt.colorbar(label='Similarity')\n",
    "    plt.title('CKA$_{minibatch}$'+f' - {modelName}')\n",
    "    plt.xlabel('Layer')\n",
    "    plt.ylabel('Layer')\n",
    "    plt.xticks(ticks=np.arange(1, heatmap.shape[1], 2), labels=[f\"{i+1}\" for i in range(1, heatmap.shape[1], 2)])\n",
    "    plt.yticks(ticks=np.arange(0, heatmap.shape[0], 2), labels=[f\"{i+1}\" for i in range(heatmap.shape[0]-1, -1, -2)])\n",
    "\n",
    "    # Show the plot\n",
    "    plt.tight_layout()\n",
    "    plt.savefig(f\"heatmap/Heatmap_{modelName}.png\", dpi=300)\n",
    "    # files.download(f\"Heatmap_{modelName}.png\")\n",
    "    plt.show()\n",
    "\n",
    "def plotHeatmap(heatmap, modelName):\n",
    "    # plt.imshow(np.flipud(heatmap), cmap='magma', interpolation='nearest')\n",
    "    plt.figure()\n",
    "    imshowobj = plt.imshow(np.flipud(heatmap), cmap='magma', interpolation='nearest')\n",
    "    imshowobj.set_clim(0,1)\n",
    "    plt.colorbar()\n",
    "    # plt.title('CKA$_{minibatch}$'+f' - {modelName}', fontsize=20)\n",
    "    plt.title(f'{modelName}', fontsize=24)\n",
    "    plt.xlabel('Layer', fontsize=20)\n",
    "    plt.ylabel('Layer', fontsize=20)\n",
    "    plt.xticks(ticks=np.arange(1, heatmap.shape[1], 2), labels=[f\"{i+1}\" for i in range(1, heatmap.shape[1], 2)], fontsize=12)\n",
    "    plt.yticks(ticks=np.arange(0, heatmap.shape[0], 2), labels=[f\"{i+1}\" for i in range(heatmap.shape[0]-1, -1, -2)], fontsize=12)\n",
    "\n",
    "    # Show the plot\n",
    "    plt.tight_layout()\n",
    "    plt.savefig(f\"heatmap/Heatmap_{modelName}.png\", dpi=300)\n",
    "    # files.download(f\"Heatmap_{modelName}.png\")\n",
    "    plt.show()"
   ]
  },
  {
   "cell_type": "code",
   "execution_count": 13,
   "metadata": {},
   "outputs": [
    {
     "name": "stderr",
     "output_type": "stream",
     "text": [
      "100%|██████████| 6/6 [00:20<00:00,  3.47s/it]\n",
      "100%|██████████| 6/6 [00:20<00:00,  3.43s/it]]\n",
      "100%|██████████| 6/6 [00:21<00:00,  3.54s/it]]\n",
      "100%|██████████| 6/6 [00:20<00:00,  3.49s/it]]\n",
      "100%|██████████| 6/6 [00:20<00:00,  3.49s/it]]\n",
      "100%|██████████| 6/6 [00:20<00:00,  3.48s/it]]\n",
      "100%|██████████| 6/6 [00:20<00:00,  3.48s/it]]\n",
      "100%|██████████| 6/6 [00:21<00:00,  3.51s/it]]\n",
      "100%|██████████| 6/6 [00:20<00:00,  3.48s/it]]\n",
      "100%|██████████| 6/6 [00:21<00:00,  3.57s/it]]\n",
      "100%|██████████| 10/10 [03:29<00:00, 20.96s/it]\n"
     ]
    }
   ],
   "source": [
    "model = model.to('cpu')\n",
    "model.eval()\n",
    "# n_layers = len(model.layers)\n",
    "n_layers = 18\n",
    "cka = MinibatchCKA(n_layers)\n",
    "count = 0\n",
    "iteration = 10\n",
    "for i in tqdm(range(iteration)):\n",
    "    for data, target in tqdm(test_loader):\n",
    "        act = get_activations(data, model, False)\n",
    "        # print(len(act))\n",
    "        cka.update_state(act)\n",
    "        # print(len(data))\n",
    "        count += len(data)"
   ]
  },
  {
   "cell_type": "code",
   "execution_count": 14,
   "metadata": {},
   "outputs": [],
   "source": [
    "heatmap = cka.result().numpy()\n",
    "np.save('heatmap/Layer18_TNG', heatmap)"
   ]
  },
  {
   "cell_type": "code",
   "execution_count": 23,
   "metadata": {},
   "outputs": [
    {
     "data": {
      "image/png": "[encoded data removed]",
      "text/plain": [
       "<Figure size 640x480 with 2 Axes>"
      ]
     },
     "metadata": {},
     "output_type": "display_data"
    }
   ],
   "source": [
    "heatmap = np.load('heatmap/Layer21_TNG.npy')\n",
    "plotHeatmap(heatmap, 'CNN21(TNG)') # accuracy 99.12%"
   ]
  },
  {
   "cell_type": "markdown",
   "metadata": {},
   "source": [
    "## Across model CKA similarity"
   ]
  },
  {
   "cell_type": "code",
   "execution_count": null,
   "metadata": {},
   "outputs": [],
   "source": [
    "def normalize_activations(act):\n",
    "    \"\"\"Normalize along each row so that the norm of activations produced by each example is 1.\"\"\"\n",
    "    act = act.view(act.size(0), -1)\n",
    "    act_norm = torch.linalg.norm(act, dim=1, keepdim=True)\n",
    "    act /= act_norm\n",
    "    return act\n",
    "\n",
    "def get_activations(images, model, normalize_act=False):\n",
    "    \"\"\"Return a list of activations obtained from a model on a set of images.\"\"\"\n",
    "    activations = []\n",
    "\n",
    "    def hook_fn(module, input, output):\n",
    "        if normalize_act:\n",
    "            output = normalize_activations(output)\n",
    "        activations.append(output)\n",
    "\n",
    "    hooks = []\n",
    "    for layer in model.children():\n",
    "        if 'Linear' in str(layer) or 'Conv2d' in str(layer):\n",
    "            hooks.append(layer.register_forward_hook(hook_fn))\n",
    "\n",
    "    with torch.no_grad():\n",
    "        model(images)\n",
    "\n",
    "    for hook in hooks:\n",
    "        hook.remove()\n",
    "\n",
    "    return activations"
   ]
  },
  {
   "cell_type": "code",
   "execution_count": null,
   "metadata": {},
   "outputs": [],
   "source": [
    "model = model.to('cpu')\n",
    "model.eval()\n",
    "\n",
    "n_layers = 21\n",
    "across_cka = MinibatchCKA(num_layers=n_layers, num_layers2=n_layers, across_models=True)\n",
    "count = 0\n",
    "iteration = 10\n",
    "for i in tqdm(range(iteration)):\n",
    "    for batch_idx, (data1, _) in tqdm(enumerate(test_loader1)):\n",
    "        data2, _ = next(iter(test_loader2))\n",
    "        \n",
    "        act1 = get_activations(data1, model, False)\n",
    "        act2 = get_activations(data2, model, False)\n",
    "        across_cka.update_state_across_models(act1, act2)\n",
    "        \n",
    "        count += len(data1)\n",
    "\n",
    "print(count)"
   ]
  },
  {
   "cell_type": "code",
   "execution_count": null,
   "metadata": {},
   "outputs": [],
   "source": [
    "heatmap = cka.result().numpy()\n",
    "plotHeatmap(heatmap, 'Layer18_TNG') # accuracy 99.12%"
   ]
  }
 ],
 "metadata": {
  "accelerator": "GPU",
  "colab": {
   "gpuType": "T4",
   "provenance": [
    {
     "file_id": "1-BmkA8JSc36O8g9pj7FenD1YSLKqjQR3",
     "timestamp": 1696449156108
    }
   ]
  },
  "kernelspec": {
   "display_name": "cmd",
   "language": "python",
   "name": "python3"
  },
  "language_info": {
   "codemirror_mode": {
    "name": "ipython",
    "version": 3
   },
   "file_extension": ".py",
   "mimetype": "text/x-python",
   "name": "python",
   "nbconvert_exporter": "python",
   "pygments_lexer": "ipython3",
   "version": "3.8.13"
  }
 },
 "nbformat": 4,
 "nbformat_minor": 1
}
