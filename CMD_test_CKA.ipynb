{
 "cells": [
  {
   "cell_type": "markdown",
   "metadata": {
    "id": "EHCsP9N_anrq"
   },
   "source": [
    "### Due to computational limitations from google colab, we illustrate the training and testing of a network on CMC maps using a simplify version of the benchmark codes and also using a fraction of all the data available. We note that the results obtained in this example are far from optimal and are just shown as an illustration."
   ]
  },
  {
   "cell_type": "markdown",
   "metadata": {
    "id": "D6kZv812TDL0"
   },
   "source": [
    "### Import libraries"
   ]
  },
  {
   "cell_type": "code",
   "execution_count": 1,
   "metadata": {
    "executionInfo": {
     "elapsed": 5934,
     "status": "ok",
     "timestamp": 1696445713267,
     "user": {
      "displayName": "Jingyue Huang",
      "userId": "10711135304644079745"
     },
     "user_tz": 240
    },
    "id": "Mo2BXcp0SdlU"
   },
   "outputs": [],
   "source": [
    "import numpy as np\n",
    "import torch\n",
    "import torch.nn as nn\n",
    "import torch.backends.cudnn as cudnn\n",
    "from torch.utils.data.dataset import Dataset\n",
    "from torch.utils.data import DataLoader\n",
    "import time, sys, os\n",
    "import matplotlib.pyplot as plt\n",
    "import optuna\n",
    "from sklearn.metrics import r2_score\n",
    "from tqdm import tqdm\n",
    "\n",
    "from models import model_o3_err, model_o3_err_cosmology, model_o3_err_18layers\n",
    "from dataloader import create_dataset_multifield"
   ]
  },
  {
   "cell_type": "code",
   "execution_count": 2,
   "metadata": {},
   "outputs": [
    {
     "name": "stderr",
     "output_type": "stream",
     "text": [
      "2023-11-12 10:36:08.678001: I tensorflow/core/platform/cpu_feature_guard.cc:182] This TensorFlow binary is optimized to use available CPU instructions in performance-critical operations.\n",
      "To enable the following instructions: AVX2 FMA, in other operations, rebuild TensorFlow with the appropriate compiler flags.\n",
      "2023-11-12 10:36:09.326944: W tensorflow/compiler/tf2tensorrt/utils/py_utils.cc:38] TF-TRT Warning: Could not find TensorRT\n"
     ]
    }
   ],
   "source": [
    "# import CKA package\n",
    "# from similarity.CKA import CKA, CudaCKA\n",
    "# from absl import flags\n",
    "from similarity.efficient_CKA import *"
   ]
  },
  {
   "cell_type": "markdown",
   "metadata": {
    "id": "wK6Yg020wRA1"
   },
   "source": [
    "### The code will run on both CPUs or GPUs"
   ]
  },
  {
   "cell_type": "code",
   "execution_count": 3,
   "metadata": {
    "colab": {
     "base_uri": "https://localhost:8080/"
    },
    "executionInfo": {
     "elapsed": 183,
     "status": "ok",
     "timestamp": 1696445715256,
     "user": {
      "displayName": "Jingyue Huang",
      "userId": "10711135304644079745"
     },
     "user_tz": 240
    },
    "id": "DbjG-fAOwSAd",
    "outputId": "e48c5990-e220-48d9-b35a-c49f2cd815cb"
   },
   "outputs": [
    {
     "name": "stdout",
     "output_type": "stream",
     "text": [
      "CUDA Available\n"
     ]
    }
   ],
   "source": [
    "if torch.cuda.is_available():\n",
    "    print(\"CUDA Available\")\n",
    "    device = torch.device('cuda')\n",
    "else:\n",
    "    print('CUDA Not Available')\n",
    "    device = torch.device('cpu')\n",
    "cudnn.benchmark = True      #May train faster but cost more memory"
   ]
  },
  {
   "cell_type": "markdown",
   "metadata": {
    "id": "G4Ayvo_OAaY7"
   },
   "source": [
    "### Define the value of the parameters and hyperparameters"
   ]
  },
  {
   "cell_type": "code",
   "execution_count": 4,
   "metadata": {
    "executionInfo": {
     "elapsed": 185,
     "status": "ok",
     "timestamp": 1696445733505,
     "user": {
      "displayName": "Jingyue Huang",
      "userId": "10711135304644079745"
     },
     "user_tz": 240
    },
    "id": "aI-iV68kAitv"
   },
   "outputs": [],
   "source": [
    "# data parameters\n",
    "fmaps      = ['maps_T.npy'] #tuple containing the maps with the different fields to consider\n",
    "fmaps_norm = [None] #if you want to normalize the maps according to the properties of some data set, put that data set here (This is mostly used when training on IllustrisTNG and testing on SIMBA, or vicerversa)\n",
    "seed       = 1   #random seed to split maps among training, validation and testing\n",
    "splits     = 15   #number of maps per simulation\n",
    "\n",
    "# training parameters\n",
    "channels        = 1                #we only consider here 1 field\n",
    "# params          = [0,1,2,3,4,5]    #0(Omega_m) 1(sigma_8) 2(A_SN1) 3 (A_AGN1) 4(A_SN2) 5(A_AGN2). The code will be trained to predict all these parameters.\n",
    "params          = [0,1]\n",
    "g               = params           #g will contain the mean of the posterior\n",
    "# h               = [6+i for i in g] #h will contain the variance of the posterior\n",
    "h               = [2+i for i in g]\n",
    "rot_flip_in_mem = True             #whether rotations and flipings are kept in memory. True will make the code faster but consumes more RAM memory.\n",
    "\n",
    "# optimizer parameters\n",
    "beta1 = 0.5\n",
    "beta2 = 0.999\n",
    "\n",
    "# hyperparameters\n",
    "batch_size = 128\n",
    "min_lr     = 1e-9\n",
    "max_lr     = 0.0036  # default: 1e-3\n",
    "wd         = 0.0258  #value of weight decay, default: 0.0005\n",
    "dr         = 0.4     #dropout value for fully connected layers, default: 0.2\n",
    "hidden     = 11       #this determines the number of channels in the CNNs; integer larger than 1, default: 5\n",
    "epochs     = 50      #number of epochs to train the network\n",
    "\n",
    "# output files names\n",
    "floss  = 'loss.txt'   #file with the training and validation losses for each epoch\n",
    "fmodel = 'weights.pt' #file containing the weights of the best-model"
   ]
  },
  {
   "cell_type": "code",
   "execution_count": 5,
   "metadata": {},
   "outputs": [
    {
     "name": "stdout",
     "output_type": "stream",
     "text": [
      "Shape of the maps: (15000, 256, 256)\n"
     ]
    }
   ],
   "source": [
    "# TNG - 43\n",
    "\n",
    "# data\n",
    "fparams = '2D_maps/data/params_LH_IllustrisTNG.txt'\n",
    "fmaps2 = '2D_maps/data/Maps_T_IllustrisTNG_LH_z=0.00.npy'\n",
    "\n",
    "maps  = np.load(fmaps2)\n",
    "np.save('maps_T_TNG.npy', maps)\n",
    "print('Shape of the maps:', maps.shape)\n",
    "del maps"
   ]
  },
  {
   "cell_type": "code",
   "execution_count": 6,
   "metadata": {},
   "outputs": [
    {
     "name": "stdout",
     "output_type": "stream",
     "text": [
      "Shape of the maps: (15000, 256, 256)\n"
     ]
    }
   ],
   "source": [
    "# SIMBA - 37\n",
    "\n",
    "# data\n",
    "fparams = '2D_maps/data/params_LH_SIMBA.txt'\n",
    "fmaps2 = '2D_maps/data/Maps_T_SIMBA_LH_z=0.00.npy'\n",
    "\n",
    "maps  = np.load(fmaps2)\n",
    "np.save('maps_T_SIMBA.npy', maps)\n",
    "print('Shape of the maps:', maps.shape)\n",
    "del maps"
   ]
  },
  {
   "cell_type": "code",
   "execution_count": 7,
   "metadata": {},
   "outputs": [
    {
     "name": "stdout",
     "output_type": "stream",
     "text": [
      "Shape of the maps: (30000, 256, 256)\n"
     ]
    }
   ],
   "source": [
    "# TNG + SIMBA\n",
    "\n",
    "# data\n",
    "fmaps2_TNG = '2D_maps/data/Maps_T_IllustrisTNG_LH_z=0.00.npy'\n",
    "fmaps2_SIMBA = '2D_maps/data/Maps_T_SIMBA_LH_z=0.00.npy'\n",
    "\n",
    "fparams = '2D_maps/data/params_LH.txt'\n",
    "\n",
    "# load data\n",
    "maps_TNG = np.load(fmaps2_TNG)\n",
    "maps_SIMBA = np.load(fmaps2_SIMBA)\n",
    "maps = np.concatenate((maps_TNG, maps_SIMBA), axis=0)\n",
    "np.save('maps_T.npy', maps)\n",
    "print('Shape of the maps:', maps.shape)\n",
    "del maps"
   ]
  },
  {
   "cell_type": "markdown",
   "metadata": {
    "id": "OotlA8exo5Ce"
   },
   "source": [
    "### These routines define the way the data is input and fed into the network. We then read the data and get the training and validation sets"
   ]
  },
  {
   "cell_type": "code",
   "execution_count": 8,
   "metadata": {
    "colab": {
     "base_uri": "https://localhost:8080/"
    },
    "executionInfo": {
     "elapsed": 13959,
     "status": "ok",
     "timestamp": 1696446375747,
     "user": {
      "displayName": "Jingyue Huang",
      "userId": "10711135304644079745"
     },
     "user_tz": 240
    },
    "id": "-HygjyLJpFf_",
    "outputId": "2e59536e-1d98-439e-99c2-83c7fdc950a0"
   },
   "outputs": [],
   "source": [
    "# # get training set\n",
    "# print('\\nPreparing training set')\n",
    "# train_loader = create_dataset_multifield('train', seed, fmaps, fparams, batch_size, splits, fmaps_norm,\n",
    "#                                          rot_flip_in_mem=rot_flip_in_mem, verbose=True)\n",
    "\n",
    "# # get validation set\n",
    "# print('\\nPreparing validation set')\n",
    "# valid_loader = create_dataset_multifield('valid', seed, fmaps, fparams, batch_size, splits, fmaps_norm,\n",
    "#                                          rot_flip_in_mem=True,  verbose=True)"
   ]
  },
  {
   "cell_type": "markdown",
   "metadata": {
    "id": "XYUJMjyChT1t"
   },
   "source": [
    "### Define the model architecture and use it."
   ]
  },
  {
   "cell_type": "markdown",
   "metadata": {
    "id": "kJh7kM4vmye5"
   },
   "source": [
    "\n",
    "\n",
    "\n",
    "### Now test the model"
   ]
  },
  {
   "cell_type": "code",
   "execution_count": 9,
   "metadata": {},
   "outputs": [
    {
     "name": "stdout",
     "output_type": "stream",
     "text": [
      "total number of parameters in the model = 28430736\n",
      "Weights loaded\n"
     ]
    }
   ],
   "source": [
    "# now that architecture is defined above, use it\n",
    "model = model_o3_err_cosmology(hidden, dr, channels)\n",
    "# model = nn.DataParallel(model)\n",
    "model.to(device=device)\n",
    "network_total_params = sum(p.numel() for p in model.parameters())\n",
    "print('total number of parameters in the model = %d'%network_total_params)\n",
    "\n",
    "# load the weights in case they exists\n",
    "# fmodel = 'layer17_TNG/weights.pt'\n",
    "fmodel = 'layer20_TNG_SIMBA/weights.pt'\n",
    "# fmodel = 'best_weights_T_TNG.pt'\n",
    "\n",
    "if os.path.exists(fmodel):\n",
    "    checkpoint = torch.load(fmodel, map_location=torch.device(device))\n",
    "    new_state_dict = {k.replace('module.', ''): v for k, v in checkpoint.items()}\n",
    "    model.load_state_dict(new_state_dict)\n",
    "    \n",
    "    # model.load_state_dict(torch.load(fmodel, map_location=torch.device(device)))\n",
    "    print('Weights loaded')"
   ]
  },
  {
   "cell_type": "code",
   "execution_count": 53,
   "metadata": {},
   "outputs": [
    {
     "name": "stdout",
     "output_type": "stream",
     "text": [
      "total number of parameters in the model = 28436376\n",
      "Weights loaded\n"
     ]
    }
   ],
   "source": [
    "# now that architecture is defined above, use it\n",
    "model = model_o3_err(hidden, dr, channels)\n",
    "# model = nn.DataParallel(model)\n",
    "model.to(device=device)\n",
    "network_total_params = sum(p.numel() for p in model.parameters())\n",
    "print('total number of parameters in the model = %d'%network_total_params)\n",
    "\n",
    "# load the weights in case they exists\n",
    "# fmodel = 'layer17_TNG/weights.pt'\n",
    "# fmodel = 'layer20_TNG_SIMBA/weights.pt'\n",
    "fmodel = 'best_weights_T_TNG.pt'\n",
    "\n",
    "if os.path.exists(fmodel):\n",
    "    checkpoint = torch.load(fmodel, map_location=torch.device(device))\n",
    "    new_state_dict = {k.replace('module.', ''): v for k, v in checkpoint.items()}\n",
    "    model.load_state_dict(new_state_dict)\n",
    "    \n",
    "    # model.load_state_dict(torch.load(fmodel, map_location=torch.device(device)))\n",
    "    print('Weights loaded')"
   ]
  },
  {
   "cell_type": "code",
   "execution_count": 44,
   "metadata": {},
   "outputs": [
    {
     "name": "stdout",
     "output_type": "stream",
     "text": [
      "total number of parameters in the model = 8851096\n",
      "Weights loaded\n"
     ]
    }
   ],
   "source": [
    "# now that architecture is defined above, use it\n",
    "model = model_o3_err_18layers(hidden, dr, channels)\n",
    "# model = nn.DataParallel(model)\n",
    "model.to(device=device)\n",
    "network_total_params = sum(p.numel() for p in model.parameters())\n",
    "print('total number of parameters in the model = %d'%network_total_params)\n",
    "\n",
    "# load the weights in case they exists\n",
    "fmodel = 'layer17_TNG/weights.pt'\n",
    "# fmodel = 'layer20_TNG_SIMBA/weights.pt'\n",
    "# fmodel = 'best_weights_T_TNG.pt'\n",
    "\n",
    "if os.path.exists(fmodel):\n",
    "    checkpoint = torch.load(fmodel, map_location=torch.device(device))\n",
    "    new_state_dict = {k.replace('module.', ''): v for k, v in checkpoint.items()}\n",
    "    model.load_state_dict(new_state_dict)\n",
    "    \n",
    "    # model.load_state_dict(torch.load(fmodel, map_location=torch.device(device)))\n",
    "    print('Weights loaded')"
   ]
  },
  {
   "cell_type": "code",
   "execution_count": 6,
   "metadata": {},
   "outputs": [
    {
     "name": "stdout",
     "output_type": "stream",
     "text": [
      "SIMBA: 54\n",
      "810\n",
      "Found 1 channels\n",
      "Reading data...\n",
      "2.215e+02 < F(all|orig) < 2.772e+11\n",
      "2.345 < F(all|resc)  < 11.443\n",
      "-2.068 < F(all|norm) < 5.235\n"
     ]
    }
   ],
   "source": [
    "# load test set\n",
    "fmaps = ['maps_T.npy']\n",
    "fparams = '2D_maps/data/params_LH.txt'\n",
    "test_loader  = create_dataset_multifield('test', seed, fmaps, fparams, batch_size, splits, fmaps_norm,\n",
    "                                         rot_flip_in_mem=False, verbose=True, simulation='SIMBA')"
   ]
  },
  {
   "cell_type": "code",
   "execution_count": 43,
   "metadata": {},
   "outputs": [
    {
     "name": "stdout",
     "output_type": "stream",
     "text": [
      "750\n",
      "Found 1 channels\n",
      "Reading data...\n",
      "1.502e+03 < F(all|orig) < 8.669e+07\n",
      "3.177 < F(all|resc)  < 7.938\n",
      "-1.282 < F(all|norm) < 4.550\n"
     ]
    }
   ],
   "source": [
    "# load test set\n",
    "fmaps = ['maps_T_TNG.npy']\n",
    "fparams = '2D_maps/data/params_LH_IllustrisTNG.txt'\n",
    "test_loader  = create_dataset_multifield('test', seed, fmaps, fparams, batch_size, splits, fmaps_norm,\n",
    "                                         rot_flip_in_mem=False, verbose=True)"
   ]
  },
  {
   "cell_type": "code",
   "execution_count": 51,
   "metadata": {},
   "outputs": [
    {
     "name": "stdout",
     "output_type": "stream",
     "text": [
      "750\n"
     ]
    },
    {
     "name": "stdout",
     "output_type": "stream",
     "text": [
      "Found 1 channels\n",
      "Reading data...\n",
      "2.215e+02 < F(all|orig) < 2.772e+11\n",
      "2.345 < F(all|resc)  < 11.443\n",
      "-2.708 < F(all|norm) < 4.815\n"
     ]
    }
   ],
   "source": [
    "# load test set\n",
    "fmaps = ['maps_T_SIMBA.npy']\n",
    "fparams = '2D_maps/data/params_LH_SIMBA.txt'\n",
    "test_loader  = create_dataset_multifield('test', seed, fmaps, fparams, batch_size, splits, fmaps_norm,\n",
    "                                         rot_flip_in_mem=False, verbose=True)"
   ]
  },
  {
   "cell_type": "code",
   "execution_count": 10,
   "metadata": {
    "colab": {
     "base_uri": "https://localhost:8080/"
    },
    "executionInfo": {
     "elapsed": 20672,
     "status": "ok",
     "timestamp": 1696449090690,
     "user": {
      "displayName": "Jingyue Huang",
      "userId": "10711135304644079745"
     },
     "user_tz": 240
    },
    "id": "fYndRfrpkt1p",
    "outputId": "9bec2cbe-b0a9-4a19-9f69-b09d5cb22c1d"
   },
   "outputs": [
    {
     "name": "stdout",
     "output_type": "stream",
     "text": [
      "\n",
      "Number of maps in the test set: 810\n",
      "Test loss = -1.184e+01\n",
      "\n",
      "Normalized Error Omega_m = 0.065\n",
      "Normalized Error sigma_8 = 0.144\n",
      "Error Omega_m = 0.026\n",
      "Error sigma_8 = 0.058\n",
      "Bayesian error Omega_m = 0.026\n",
      "Bayesian error sigma_8 = 0.145\n",
      "Relative error Omega_m = 0.084\n",
      "Relative error sigma_8 = 0.070\n"
     ]
    }
   ],
   "source": [
    "# get the number of maps in the test set\n",
    "num_maps = 0\n",
    "for x,y in test_loader:\n",
    "      num_maps += x.shape[0]\n",
    "print('\\nNumber of maps in the test set: %d'%num_maps)\n",
    "\n",
    "# define the arrays containing the value of the parameters\n",
    "params_true = np.zeros((num_maps,len(g)), dtype=np.float32)\n",
    "params_NN   = np.zeros((num_maps,len(g)), dtype=np.float32)\n",
    "errors_NN   = np.zeros((num_maps,len(g)), dtype=np.float32)\n",
    "\n",
    "# get test loss\n",
    "test_loss1, test_loss2 = torch.zeros(len(g)).to(device), torch.zeros(len(g)).to(device)\n",
    "test_loss, points = 0.0, 0\n",
    "model.eval()\n",
    "for x, y in test_loader:\n",
    "    with torch.no_grad():\n",
    "        bs    = x.shape[0]    #batch size\n",
    "        x     = x.to(device)  #send data to device\n",
    "        y     = y.to(device)[:,g]  #send data to device\n",
    "        p     = model(x)      #prediction for mean and variance\n",
    "        y_NN  = p[:,g]       #prediction for mean\n",
    "        e_NN  = p[:,h]       #prediction for error\n",
    "        loss1 = torch.mean((y_NN[:,g] - y[:,g])**2,                     axis=0)\n",
    "        loss2 = torch.mean(((y_NN[:,g] - y[:,g])**2 - e_NN[:,g]**2)**2, axis=0)\n",
    "        test_loss1 += loss1*bs\n",
    "        test_loss2 += loss2*bs\n",
    "\n",
    "        # save results to their corresponding arrays\n",
    "        params_true[points:points+x.shape[0]] = y.cpu().numpy()\n",
    "        params_NN[points:points+x.shape[0]]   = y_NN.cpu().numpy()\n",
    "        errors_NN[points:points+x.shape[0]]   = e_NN.cpu().numpy()\n",
    "        points    += x.shape[0]\n",
    "test_loss = torch.log(test_loss1/points) + torch.log(test_loss2/points)\n",
    "test_loss = torch.mean(test_loss).item()\n",
    "print('Test loss = %.3e\\n'%test_loss)\n",
    "\n",
    "Norm_error = np.sqrt(np.mean((params_true - params_NN)**2, axis=0))\n",
    "print('Normalized Error Omega_m = %.3f'%Norm_error[0])\n",
    "print('Normalized Error sigma_8 = %.3f'%Norm_error[1])\n",
    "# print('Normalized Error A_SN1   = %.3f'%Norm_error[2])\n",
    "# print('Normalized Error A_AGN1  = %.3f'%Norm_error[3])\n",
    "# print('Normalized Error A_SN2   = %.3f'%Norm_error[4])\n",
    "# print('Normalized Error A_AGN2  = %.3f\\n'%Norm_error[5])\n",
    "\n",
    "# de-normalize\n",
    "# minimum = np.array([0.1, 0.6, 0.25, 0.25, 0.5, 0.5])\n",
    "# maximum = np.array([0.5, 1.0, 4.00, 4.00, 2.0, 2.0])\n",
    "minimum = np.array([0.1, 0.6])\n",
    "maximum = np.array([0.5, 1.0])\n",
    "params_true = params_true*(maximum - minimum) + minimum\n",
    "params_NN   = params_NN*(maximum - minimum) + minimum\n",
    "errors_NN   = errors_NN*(maximum - minimum)\n",
    "\n",
    "error = np.sqrt(np.mean((params_true - params_NN)**2, axis=0))\n",
    "print('Error Omega_m = %.3f'%error[0])\n",
    "print('Error sigma_8 = %.3f'%error[1])\n",
    "# print('Error A_SN1   = %.3f'%error[2])\n",
    "# print('Error A_AGN1  = %.3f'%error[3])\n",
    "# print('Error A_SN2   = %.3f'%error[4])\n",
    "# print('Error A_AGN2  = %.3f\\n'%error[5])\n",
    "\n",
    "mean_error = np.absolute(np.mean(errors_NN, axis=0))\n",
    "print('Bayesian error Omega_m = %.3f'%mean_error[0])\n",
    "print('Bayesian error sigma_8 = %.3f'%mean_error[1])\n",
    "# print('Bayesian error A_SN1   = %.3f'%mean_error[2])\n",
    "# print('Bayesian error A_AGN1  = %.3f'%mean_error[3])\n",
    "# print('Bayesian error A_SN2   = %.3f'%mean_error[4])\n",
    "# print('Bayesian error A_AGN2  = %.3f\\n'%mean_error[5])\n",
    "\n",
    "rel_error = np.sqrt(np.mean((params_true - params_NN)**2/params_true**2, axis=0))\n",
    "print('Relative error Omega_m = %.3f'%rel_error[0])\n",
    "print('Relative error sigma_8 = %.3f'%rel_error[1])\n",
    "# print('Relative error A_SN1   = %.3f'%rel_error[2])\n",
    "# print('Relative error A_AGN1  = %.3f'%rel_error[3])\n",
    "# print('Relative error A_SN2   = %.3f'%rel_error[4])\n",
    "# print('Relative error A_AGN2  = %.3f\\n'%rel_error[5])\n",
    "\n",
    "# save results to file\n",
    "#dataset = np.zeros((num_maps,18), dtype=np.float32)\n",
    "#dataset[:,:6]   = params_true\n",
    "#dataset[:,6:12] = params_NN\n",
    "#dataset[:,12:]  = errors_NN\n",
    "#np.savetxt(fresults,  dataset)\n",
    "#np.savetxt(fresults1, Norm_error)"
   ]
  },
  {
   "cell_type": "markdown",
   "metadata": {},
   "source": [
    "## compute CKA similarity"
   ]
  },
  {
   "cell_type": "code",
   "execution_count": 74,
   "metadata": {},
   "outputs": [],
   "source": [
    "def normalize_activations(act):\n",
    "    \"\"\"Normalize along each row so that the norm of activations produced by each example is 1.\"\"\"\n",
    "    act = act.view(act.size(0), -1)\n",
    "    act_norm = torch.linalg.norm(act, dim=1, keepdim=True)\n",
    "    act /= act_norm\n",
    "    return act\n",
    "\n",
    "def get_activations(images, model, normalize_act=False):\n",
    "    \"\"\"Return a list of activations obtained from a model on a set of images.\"\"\"\n",
    "    activations = []\n",
    "\n",
    "    def hook_fn(module, input, output):\n",
    "        if normalize_act:\n",
    "            output = normalize_activations(output)\n",
    "        activations.append(output)\n",
    "\n",
    "    hooks = []\n",
    "    for layer in model.children():\n",
    "        if 'Linear' in str(layer) or 'Conv2d' in str(layer):\n",
    "            hooks.append(layer.register_forward_hook(hook_fn))\n",
    "\n",
    "    with torch.no_grad():\n",
    "        model(images)\n",
    "\n",
    "    for hook in hooks:\n",
    "        hook.remove()\n",
    "\n",
    "    return activations\n",
    "\n",
    "# Plotting the heatmap with 'magma' colormap and flipping the matrix vertically\n",
    "def plotHeatmap(heatmap, modelName):\n",
    "    # plt.imshow(np.flipud(heatmap), cmap='magma', interpolation='nearest')\n",
    "    imshowobj = plt.imshow(np.flipud(heatmap), cmap='magma', interpolation='nearest')\n",
    "    # imshowobj.set_clim(0,1)\n",
    "    plt.colorbar()\n",
    "    plt.title('CKA$_{minibatch}$'+f' - {modelName}', fontsize=20)\n",
    "    plt.xlabel('Layer', fontsize=20)\n",
    "    plt.ylabel('Layer', fontsize=20)\n",
    "    plt.xticks(ticks=np.arange(1, heatmap.shape[1], 2), labels=[f\"{i+1}\" for i in range(1, heatmap.shape[1], 2)], fontsize=12)\n",
    "    plt.yticks(ticks=np.arange(0, heatmap.shape[0], 2), labels=[f\"{i+1}\" for i in range(heatmap.shape[0]-1, -1, -2)], fontsize=12)\n",
    "\n",
    "    # Show the plot\n",
    "    plt.tight_layout()\n",
    "    plt.savefig(f\"heatmap/Heatmap_{modelName}.png\", dpi=300)\n",
    "    # files.download(f\"Heatmap_{modelName}.png\")\n",
    "    plt.show()"
   ]
  },
  {
   "cell_type": "code",
   "execution_count": 79,
   "metadata": {},
   "outputs": [
    {
     "name": "stderr",
     "output_type": "stream",
     "text": [
      "100%|██████████| 7/7 [00:25<00:00,  3.60s/it]\n",
      "100%|██████████| 7/7 [00:25<00:00,  3.65s/it]]\n",
      "100%|██████████| 7/7 [00:24<00:00,  3.56s/it]]\n",
      "100%|██████████| 7/7 [00:24<00:00,  3.56s/it]]\n",
      "100%|██████████| 7/7 [00:25<00:00,  3.58s/it]]\n",
      "100%|██████████| 7/7 [00:24<00:00,  3.55s/it]]\n",
      "100%|██████████| 7/7 [00:24<00:00,  3.55s/it]]\n",
      "100%|██████████| 7/7 [00:24<00:00,  3.54s/it]]\n",
      "100%|██████████| 7/7 [00:24<00:00,  3.55s/it]]\n",
      "100%|██████████| 7/7 [00:24<00:00,  3.57s/it]]\n",
      "100%|██████████| 10/10 [04:09<00:00, 24.99s/it]\n"
     ]
    }
   ],
   "source": [
    "model = model.to('cpu')\n",
    "model.eval()\n",
    "# n_layers = len(model.layers)\n",
    "n_layers = 21\n",
    "cka = MinibatchCKA(n_layers)\n",
    "count = 0\n",
    "iteration = 10\n",
    "for i in tqdm(range(iteration)):\n",
    "    for data, target in tqdm(test_loader):\n",
    "        act = get_activations(data, model, False)\n",
    "        # print(len(act))\n",
    "        cka.update_state(act)\n",
    "        # print(len(data))\n",
    "        count += len(data)"
   ]
  },
  {
   "cell_type": "code",
   "execution_count": 80,
   "metadata": {},
   "outputs": [],
   "source": [
    "heatmap = cka.result().numpy()\n",
    "# eigenvalues, eigenvectors = np.linalg.eig(heatmap)\n",
    "np.save(\"heatmap/Layer21_SIMBA(TNG+SIMBA).npy\", heatmap)"
   ]
  },
  {
   "cell_type": "code",
   "execution_count": 81,
   "metadata": {},
   "outputs": [
    {
     "data": {
      "image/png": "[encoded data removed]",
      "text/plain": [
       "<Figure size 640x480 with 2 Axes>"
      ]
     },
     "metadata": {},
     "output_type": "display_data"
    }
   ],
   "source": [
    "name = 'Layer21_SIMBA(TNG+SIMBA)'\n",
    "heatmap = np.load(\"heatmap/{}.npy\".format(name))\n",
    "plotHeatmap(heatmap, '{}'.format(name)) # accuracy 99.12%"
   ]
  },
  {
   "cell_type": "code",
   "execution_count": 83,
   "metadata": {},
   "outputs": [
    {
     "data": {
      "image/png": "[encoded data removed]",
      "text/plain": [
       "<Figure size 640x480 with 1 Axes>"
      ]
     },
     "metadata": {},
     "output_type": "display_data"
    }
   ],
   "source": [
    "heatmap_TNG = np.load(\"heatmap/Layer21_TNG.npy\")\n",
    "heatmap_SIMBA = np.load(\"heatmap/Layer21_SIMBA.npy\")\n",
    "plt.hist(heatmap_TNG.flatten(), bins=30, label='TNG', alpha=0.75)\n",
    "plt.hist(heatmap_SIMBA.flatten(), bins=30, label='SIMBA', alpha=0.75)\n",
    "plt.legend()\n",
    "plt.title('CKA value distribution (TNG)')\n",
    "plt.savefig('figures/dist_CKA_T.png')\n",
    "plt.show()"
   ]
  },
  {
   "cell_type": "code",
   "execution_count": 28,
   "metadata": {},
   "outputs": [],
   "source": [
    "e_SIMBA_TNG_18 = eigenvalues"
   ]
  },
  {
   "cell_type": "code",
   "execution_count": 32,
   "metadata": {},
   "outputs": [
    {
     "data": {
      "image/png": "[encoded data removed]",
      "text/plain": [
       "<Figure size 640x480 with 1 Axes>"
      ]
     },
     "metadata": {},
     "output_type": "display_data"
    }
   ],
   "source": [
    "x = list(range(1, 19))\n",
    "plt.plot(x, e_TNG_TNG_18, label='TNG(TNG)')\n",
    "plt.plot(x, e_SIMBA_TNG_18, label='SIMBA(TNG)')\n",
    "plt.legend()\n",
    "plt.yscale('log')\n",
    "plt.xticks(x, list(range(1, 19)))\n",
    "plt.xlabel('rank')\n",
    "plt.ylabel('eigenvalues')\n",
    "plt.title('Eigenvalues of CKA matrices (18 layers)')\n",
    "plt.savefig('eigenvalue_18layers.png')\n",
    "plt.show()\n"
   ]
  },
  {
   "cell_type": "code",
   "execution_count": 50,
   "metadata": {},
   "outputs": [
    {
     "data": {
      "image/png": "[encoded data removed]",
      "text/plain": [
       "<Figure size 640x480 with 1 Axes>"
      ]
     },
     "metadata": {},
     "output_type": "display_data"
    }
   ],
   "source": [
    "plt.plot(e_TNG_TNG, label='TNG(TNG)')\n",
    "plt.plot(e_SIMBA_TNG, label='SIMBA(TNG)')\n",
    "plt.plot(e_TNG_all, label='TNG(TNG+SIMBA)')\n",
    "plt.plot(e_SIMBA_all, label='SIMBA(TNG+SIMBA)')\n",
    "plt.legend()\n",
    "plt.yscale('log')\n",
    "plt.xlabel('rank')\n",
    "plt.ylabel('eigenvalues')\n",
    "plt.title('Eigenvalues of CKA matrices')\n",
    "plt.savefig('eigenvalue.png')\n",
    "plt.show()"
   ]
  },
  {
   "cell_type": "markdown",
   "metadata": {},
   "source": [
    "## Across model CKA similarity"
   ]
  },
  {
   "cell_type": "code",
   "execution_count": 10,
   "metadata": {},
   "outputs": [],
   "source": [
    "def normalize_activations(act):\n",
    "    \"\"\"Normalize along each row so that the norm of activations produced by each example is 1.\"\"\"\n",
    "    act = act.view(act.size(0), -1)\n",
    "    act_norm = torch.linalg.norm(act, dim=1, keepdim=True)\n",
    "    act /= act_norm\n",
    "    return act\n",
    "\n",
    "def get_activations(images, model, normalize_act=False):\n",
    "    \"\"\"Return a list of activations obtained from a model on a set of images.\"\"\"\n",
    "    activations = []\n",
    "\n",
    "    def hook_fn(module, input, output):\n",
    "        if normalize_act:\n",
    "            output = normalize_activations(output)\n",
    "        activations.append(output)\n",
    "\n",
    "    hooks = []\n",
    "    for layer in model.children():\n",
    "        if 'Linear' in str(layer) or 'Conv2d' in str(layer):\n",
    "            hooks.append(layer.register_forward_hook(hook_fn))\n",
    "\n",
    "    with torch.no_grad():\n",
    "        model(images)\n",
    "\n",
    "    for hook in hooks:\n",
    "        hook.remove()\n",
    "\n",
    "    return activations\n",
    "\n",
    "# Plotting the heatmap with 'magma' colormap and flipping the matrix vertically\n",
    "def plotHeatmap(heatmap, modelName):\n",
    "    plt.imshow(np.flipud(heatmap), cmap='magma', interpolation='nearest')\n",
    "    plt.colorbar(label='Similarity')\n",
    "    plt.title('CKA$_{minibatch}$'+f' - {modelName}')\n",
    "    plt.xlabel('Layer')\n",
    "    plt.ylabel('Layer')\n",
    "    plt.xticks(ticks=np.arange(1, heatmap.shape[1], 2), labels=[f\"{i+1}\" for i in range(1, heatmap.shape[1], 2)])\n",
    "    plt.yticks(ticks=np.arange(0, heatmap.shape[0], 2), labels=[f\"{i+1}\" for i in range(heatmap.shape[0]-1, -1, -2)])\n",
    "\n",
    "    # Show the plot\n",
    "    plt.tight_layout()\n",
    "    plt.savefig(f\"heatmap/Heatmap_{modelName}.png\", dpi=300)\n",
    "    # files.download(f\"Heatmap_{modelName}.png\")\n",
    "    plt.show()"
   ]
  },
  {
   "cell_type": "code",
   "execution_count": 29,
   "metadata": {},
   "outputs": [
    {
     "name": "stdout",
     "output_type": "stream",
     "text": [
      "750\n",
      "Found 1 channels\n",
      "Reading data...\n",
      "1.502e+03 < F(all|orig) < 8.669e+07\n",
      "3.177 < F(all|resc)  < 7.938\n",
      "-1.282 < F(all|norm) < 4.550\n",
      "750\n",
      "Found 1 channels\n",
      "Reading data...\n",
      "2.215e+02 < F(all|orig) < 2.772e+11\n",
      "2.345 < F(all|resc)  < 11.443\n",
      "-2.708 < F(all|norm) < 4.815\n"
     ]
    }
   ],
   "source": [
    "# load test set\n",
    "fmaps = ['maps_T_TNG.npy']\n",
    "test_loader1  = create_dataset_multifield('test', seed, fmaps, fparams, batch_size, splits, fmaps_norm,\n",
    "                                         rot_flip_in_mem=False, verbose=True)\n",
    "\n",
    "fmaps = ['maps_T_SIMBA.npy']\n",
    "test_loader2  = create_dataset_multifield('test', seed, fmaps, fparams, batch_size, splits, fmaps_norm,\n",
    "                                         rot_flip_in_mem=False, verbose=True)"
   ]
  },
  {
   "cell_type": "code",
   "execution_count": 31,
   "metadata": {},
   "outputs": [],
   "source": [
    "test_data1 = []\n",
    "test_data2 = []\n",
    "for batch_idx, (data, _) in enumerate(test_loader1):\n",
    "    test_data1.append(data)\n",
    "for batch_idx, (data, _) in enumerate(test_loader2):\n",
    "    test_data2.append(data)\n",
    "assert len(test_data1) == len(test_data2)"
   ]
  },
  {
   "cell_type": "code",
   "execution_count": null,
   "metadata": {},
   "outputs": [],
   "source": [
    "from skshift import ExplanationShiftDetector\n",
    "from xgboost import XGBClassifier\n",
    "from skorch import NeuralNetRegressor\n",
    "model = NeuralNetRegressor(\n",
    "    module=model\n",
    ")\n",
    "detector = ExplanationShiftDetector(model=model, gmodel=XGBClassifier())\n",
    "detector.fit_detector(test_data1[0], test_data2[0])\n",
    "# roc_auc_score(y_new, detector.predict_proba(X_new)[:, 1])\n",
    "# 0.96"
   ]
  },
  {
   "cell_type": "code",
   "execution_count": 17,
   "metadata": {},
   "outputs": [
    {
     "name": "stderr",
     "output_type": "stream",
     "text": [
      "2023-10-30 01:13:36.200639: I tensorflow/core/common_runtime/gpu/gpu_device.cc:1886] Created device /job:localhost/replica:0/task:0/device:GPU:0 with 30635 MB memory:  -> device: 0, name: Tesla V100-PCIE-32GB, pci bus id: 0000:2f:00.0, compute capability: 7.0\n"
     ]
    },
    {
     "data": {
      "application/vnd.jupyter.widget-view+json": {
       "model_id": "3750c1b5c27e41c7ab43cca0f886a870",
       "version_major": 2,
       "version_minor": 0
      },
      "text/plain": [
       "  0%|          | 0/10 [00:00<?, ?it/s]"
      ]
     },
     "metadata": {},
     "output_type": "display_data"
    },
    {
     "name": "stdout",
     "output_type": "stream",
     "text": [
      "torch.Size([128, 1, 256, 256])\n",
      "torch.Size([128, 1, 256, 256])\n",
      "torch.Size([128, 1, 256, 256])\n",
      "torch.Size([128, 1, 256, 256])\n",
      "torch.Size([128, 1, 256, 256])\n",
      "torch.Size([128, 1, 256, 256])\n",
      "torch.Size([128, 1, 256, 256])\n",
      "torch.Size([128, 1, 256, 256])\n",
      "torch.Size([128, 1, 256, 256])\n",
      "torch.Size([128, 1, 256, 256])\n",
      "torch.Size([110, 1, 256, 256])\n",
      "torch.Size([110, 1, 256, 256])\n",
      "torch.Size([128, 1, 256, 256])\n",
      "torch.Size([128, 1, 256, 256])\n",
      "torch.Size([128, 1, 256, 256])\n",
      "torch.Size([128, 1, 256, 256])\n",
      "torch.Size([128, 1, 256, 256])\n",
      "torch.Size([128, 1, 256, 256])\n",
      "torch.Size([128, 1, 256, 256])\n",
      "torch.Size([128, 1, 256, 256])\n",
      "torch.Size([128, 1, 256, 256])\n",
      "torch.Size([128, 1, 256, 256])\n",
      "torch.Size([110, 1, 256, 256])\n",
      "torch.Size([110, 1, 256, 256])\n",
      "torch.Size([128, 1, 256, 256])\n",
      "torch.Size([128, 1, 256, 256])\n",
      "torch.Size([128, 1, 256, 256])\n",
      "torch.Size([128, 1, 256, 256])\n",
      "torch.Size([128, 1, 256, 256])\n",
      "torch.Size([128, 1, 256, 256])\n",
      "torch.Size([128, 1, 256, 256])\n",
      "torch.Size([128, 1, 256, 256])\n",
      "torch.Size([128, 1, 256, 256])\n",
      "torch.Size([128, 1, 256, 256])\n",
      "torch.Size([110, 1, 256, 256])\n",
      "torch.Size([110, 1, 256, 256])\n",
      "torch.Size([128, 1, 256, 256])\n",
      "torch.Size([128, 1, 256, 256])\n",
      "torch.Size([128, 1, 256, 256])\n",
      "torch.Size([128, 1, 256, 256])\n",
      "torch.Size([128, 1, 256, 256])\n",
      "torch.Size([128, 1, 256, 256])\n",
      "torch.Size([128, 1, 256, 256])\n",
      "torch.Size([128, 1, 256, 256])\n",
      "torch.Size([128, 1, 256, 256])\n",
      "torch.Size([128, 1, 256, 256])\n",
      "torch.Size([110, 1, 256, 256])\n",
      "torch.Size([110, 1, 256, 256])\n",
      "torch.Size([128, 1, 256, 256])\n",
      "torch.Size([128, 1, 256, 256])\n",
      "torch.Size([128, 1, 256, 256])\n",
      "torch.Size([128, 1, 256, 256])\n",
      "torch.Size([128, 1, 256, 256])\n",
      "torch.Size([128, 1, 256, 256])\n",
      "torch.Size([128, 1, 256, 256])\n",
      "torch.Size([128, 1, 256, 256])\n",
      "torch.Size([128, 1, 256, 256])\n",
      "torch.Size([128, 1, 256, 256])\n",
      "torch.Size([110, 1, 256, 256])\n",
      "torch.Size([110, 1, 256, 256])\n",
      "torch.Size([128, 1, 256, 256])\n",
      "torch.Size([128, 1, 256, 256])\n",
      "torch.Size([128, 1, 256, 256])\n",
      "torch.Size([128, 1, 256, 256])\n",
      "torch.Size([128, 1, 256, 256])\n",
      "torch.Size([128, 1, 256, 256])\n",
      "torch.Size([128, 1, 256, 256])\n",
      "torch.Size([128, 1, 256, 256])\n",
      "torch.Size([128, 1, 256, 256])\n",
      "torch.Size([128, 1, 256, 256])\n",
      "torch.Size([110, 1, 256, 256])\n",
      "torch.Size([110, 1, 256, 256])\n",
      "torch.Size([128, 1, 256, 256])\n",
      "torch.Size([128, 1, 256, 256])\n",
      "torch.Size([128, 1, 256, 256])\n",
      "torch.Size([128, 1, 256, 256])\n",
      "torch.Size([128, 1, 256, 256])\n",
      "torch.Size([128, 1, 256, 256])\n",
      "torch.Size([128, 1, 256, 256])\n",
      "torch.Size([128, 1, 256, 256])\n",
      "torch.Size([128, 1, 256, 256])\n",
      "torch.Size([128, 1, 256, 256])\n",
      "torch.Size([110, 1, 256, 256])\n",
      "torch.Size([110, 1, 256, 256])\n",
      "torch.Size([128, 1, 256, 256])\n",
      "torch.Size([128, 1, 256, 256])\n",
      "torch.Size([128, 1, 256, 256])\n",
      "torch.Size([128, 1, 256, 256])\n",
      "torch.Size([128, 1, 256, 256])\n",
      "torch.Size([128, 1, 256, 256])\n",
      "torch.Size([128, 1, 256, 256])\n",
      "torch.Size([128, 1, 256, 256])\n",
      "torch.Size([128, 1, 256, 256])\n",
      "torch.Size([128, 1, 256, 256])\n",
      "torch.Size([110, 1, 256, 256])\n",
      "torch.Size([110, 1, 256, 256])\n",
      "torch.Size([128, 1, 256, 256])\n",
      "torch.Size([128, 1, 256, 256])\n",
      "torch.Size([128, 1, 256, 256])\n",
      "torch.Size([128, 1, 256, 256])\n",
      "torch.Size([128, 1, 256, 256])\n",
      "torch.Size([128, 1, 256, 256])\n",
      "torch.Size([128, 1, 256, 256])\n",
      "torch.Size([128, 1, 256, 256])\n",
      "torch.Size([128, 1, 256, 256])\n",
      "torch.Size([128, 1, 256, 256])\n",
      "torch.Size([110, 1, 256, 256])\n",
      "torch.Size([110, 1, 256, 256])\n",
      "torch.Size([128, 1, 256, 256])\n",
      "torch.Size([128, 1, 256, 256])\n",
      "torch.Size([128, 1, 256, 256])\n",
      "torch.Size([128, 1, 256, 256])\n",
      "torch.Size([128, 1, 256, 256])\n",
      "torch.Size([128, 1, 256, 256])\n",
      "torch.Size([128, 1, 256, 256])\n",
      "torch.Size([128, 1, 256, 256])\n",
      "torch.Size([128, 1, 256, 256])\n",
      "torch.Size([128, 1, 256, 256])\n",
      "torch.Size([110, 1, 256, 256])\n",
      "torch.Size([110, 1, 256, 256])\n",
      "7500\n"
     ]
    }
   ],
   "source": [
    "model = model.to('cpu')\n",
    "model.eval()\n",
    "\n",
    "n_layers = 21\n",
    "across_cka = MinibatchCKA(num_layers=n_layers, num_layers2=n_layers, across_models=True)\n",
    "count = 0\n",
    "iteration = 10\n",
    "for i in tqdm(range(iteration)):\n",
    "    for batch_idx in tqdm(range(len(test_data1))):\n",
    "        data1 = test_data1[batch_idx]\n",
    "        data2 = test_data2[batch_idx]\n",
    "        \n",
    "        act1 = get_activations(data1, model, False)\n",
    "        act2 = get_activations(data2, model, False)\n",
    "        across_cka.update_state_across_models(act1, act2)\n",
    "        \n",
    "        count += len(data1)\n",
    "\n",
    "print(count)"
   ]
  },
  {
   "cell_type": "code",
   "execution_count": 21,
   "metadata": {},
   "outputs": [
    {
     "data": {
      "image/png": "[encoded data removed]",
      "text/plain": [
       "<Figure size 640x480 with 2 Axes>"
      ]
     },
     "metadata": {},
     "output_type": "display_data"
    }
   ],
   "source": [
    "heatmap = across_cka.result().numpy()\n",
    "plotHeatmap(heatmap, 'TNG_vs_SIMBA(TNG)') # accuracy 99.12%"
   ]
  },
  {
   "cell_type": "markdown",
   "metadata": {},
   "source": [
    "## TNG + SIMBA"
   ]
  },
  {
   "cell_type": "code",
   "execution_count": 10,
   "metadata": {},
   "outputs": [
    {
     "name": "stdout",
     "output_type": "stream",
     "text": [
      "TNG: 46\n",
      "690\n",
      "Found 1 channels\n",
      "Reading data...\n",
      "2.215e+02 < F(all|orig) < 2.772e+11\n",
      "2.345 < F(all|resc)  < 11.443\n",
      "-2.068 < F(all|norm) < 5.235\n",
      "SIMBA: 54\n",
      "810\n",
      "Found 1 channels\n",
      "Reading data...\n",
      "2.215e+02 < F(all|orig) < 2.772e+11\n",
      "2.345 < F(all|resc)  < 11.443\n",
      "-2.068 < F(all|norm) < 5.235\n"
     ]
    }
   ],
   "source": [
    "# load test set\n",
    "fmaps = ['maps_T.npy']\n",
    "test_loader1  = create_dataset_multifield('test', seed, fmaps, fparams, batch_size, splits, fmaps_norm,\n",
    "                                         rot_flip_in_mem=False, verbose=True, simulation=\"TNG\")\n",
    "\n",
    "test_loader2  = create_dataset_multifield('test', seed, fmaps, fparams, batch_size, splits, fmaps_norm,\n",
    "                                         rot_flip_in_mem=False, verbose=True, simulation=\"SIMBA\")"
   ]
  },
  {
   "cell_type": "code",
   "execution_count": 11,
   "metadata": {},
   "outputs": [],
   "source": [
    "test_data1 = []\n",
    "test_data2 = []\n",
    "for batch_idx, (data, _) in enumerate(test_loader1):\n",
    "    test_data1.append(data)\n",
    "for batch_idx, (data, _) in enumerate(test_loader2):\n",
    "    test_data2.append(data)\n",
    "# assert len(test_data1) == len(test_data2)"
   ]
  },
  {
   "cell_type": "code",
   "execution_count": 12,
   "metadata": {},
   "outputs": [
    {
     "data": {
      "text/plain": [
       "7"
      ]
     },
     "execution_count": 12,
     "metadata": {},
     "output_type": "execute_result"
    }
   ],
   "source": [
    "len(test_loader2)"
   ]
  },
  {
   "cell_type": "code",
   "execution_count": 15,
   "metadata": {},
   "outputs": [
    {
     "name": "stderr",
     "output_type": "stream",
     "text": [
      "  0%|          | 0/10 [00:00<?, ?it/s]\n",
      "  0%|          | 0/5 [00:00<?, ?it/s]\u001b[A"
     ]
    },
    {
     "name": "stdout",
     "output_type": "stream",
     "text": [
      "torch.Size([128, 1, 256, 256])\n",
      "torch.Size([128, 1, 256, 256])\n"
     ]
    },
    {
     "name": "stderr",
     "output_type": "stream",
     "text": [
      "\n",
      " 20%|██        | 1/5 [00:13<00:53, 13.32s/it]\u001b[A"
     ]
    },
    {
     "name": "stdout",
     "output_type": "stream",
     "text": [
      "torch.Size([128, 1, 256, 256])\n",
      "torch.Size([128, 1, 256, 256])\n"
     ]
    },
    {
     "name": "stderr",
     "output_type": "stream",
     "text": [
      "\n",
      " 40%|████      | 2/5 [00:22<00:33, 11.05s/it]\u001b[A"
     ]
    },
    {
     "name": "stdout",
     "output_type": "stream",
     "text": [
      "torch.Size([128, 1, 256, 256])\n",
      "torch.Size([128, 1, 256, 256])\n"
     ]
    },
    {
     "name": "stderr",
     "output_type": "stream",
     "text": [
      "\n",
      " 60%|██████    | 3/5 [00:32<00:20, 10.40s/it]\u001b[A"
     ]
    },
    {
     "name": "stdout",
     "output_type": "stream",
     "text": [
      "torch.Size([128, 1, 256, 256])\n",
      "torch.Size([128, 1, 256, 256])\n"
     ]
    },
    {
     "name": "stderr",
     "output_type": "stream",
     "text": [
      "\n",
      " 80%|████████  | 4/5 [00:41<00:09,  9.99s/it]\u001b[A"
     ]
    },
    {
     "name": "stdout",
     "output_type": "stream",
     "text": [
      "torch.Size([128, 1, 256, 256])\n",
      "torch.Size([128, 1, 256, 256])\n"
     ]
    },
    {
     "name": "stderr",
     "output_type": "stream",
     "text": [
      "\n",
      "100%|██████████| 5/5 [00:51<00:00, 10.23s/it]\u001b[A\n",
      " 10%|█         | 1/10 [00:51<07:40, 51.13s/it]\n",
      "  0%|          | 0/5 [00:00<?, ?it/s]\u001b[A"
     ]
    },
    {
     "name": "stdout",
     "output_type": "stream",
     "text": [
      "torch.Size([128, 1, 256, 256])\n",
      "torch.Size([128, 1, 256, 256])\n"
     ]
    },
    {
     "name": "stderr",
     "output_type": "stream",
     "text": [
      "\n",
      " 20%|██        | 1/5 [00:09<00:36,  9.23s/it]\u001b[A"
     ]
    },
    {
     "name": "stdout",
     "output_type": "stream",
     "text": [
      "torch.Size([128, 1, 256, 256])\n",
      "torch.Size([128, 1, 256, 256])\n"
     ]
    },
    {
     "name": "stderr",
     "output_type": "stream",
     "text": [
      "\n",
      " 40%|████      | 2/5 [00:18<00:28,  9.38s/it]\u001b[A"
     ]
    },
    {
     "name": "stdout",
     "output_type": "stream",
     "text": [
      "torch.Size([128, 1, 256, 256])\n",
      "torch.Size([128, 1, 256, 256])\n"
     ]
    },
    {
     "name": "stderr",
     "output_type": "stream",
     "text": [
      "\n",
      " 60%|██████    | 3/5 [00:28<00:18,  9.41s/it]\u001b[A"
     ]
    },
    {
     "name": "stdout",
     "output_type": "stream",
     "text": [
      "torch.Size([128, 1, 256, 256])\n",
      "torch.Size([128, 1, 256, 256])\n"
     ]
    },
    {
     "name": "stderr",
     "output_type": "stream",
     "text": [
      "\n",
      " 80%|████████  | 4/5 [00:37<00:09,  9.32s/it]\u001b[A"
     ]
    },
    {
     "name": "stdout",
     "output_type": "stream",
     "text": [
      "torch.Size([128, 1, 256, 256])\n",
      "torch.Size([128, 1, 256, 256])\n"
     ]
    },
    {
     "name": "stderr",
     "output_type": "stream",
     "text": [
      "\n",
      "100%|██████████| 5/5 [00:46<00:00,  9.35s/it]\u001b[A\n",
      " 20%|██        | 2/10 [01:37<06:28, 48.55s/it]\n",
      "  0%|          | 0/5 [00:00<?, ?it/s]\u001b[A"
     ]
    },
    {
     "name": "stdout",
     "output_type": "stream",
     "text": [
      "torch.Size([128, 1, 256, 256])\n",
      "torch.Size([128, 1, 256, 256])\n"
     ]
    },
    {
     "name": "stderr",
     "output_type": "stream",
     "text": [
      "\n",
      " 20%|██        | 1/5 [00:09<00:37,  9.37s/it]\u001b[A"
     ]
    },
    {
     "name": "stdout",
     "output_type": "stream",
     "text": [
      "torch.Size([128, 1, 256, 256])\n",
      "torch.Size([128, 1, 256, 256])\n"
     ]
    },
    {
     "name": "stderr",
     "output_type": "stream",
     "text": [
      "\n",
      " 40%|████      | 2/5 [00:18<00:28,  9.40s/it]\u001b[A"
     ]
    },
    {
     "name": "stdout",
     "output_type": "stream",
     "text": [
      "torch.Size([128, 1, 256, 256])\n",
      "torch.Size([128, 1, 256, 256])\n"
     ]
    },
    {
     "name": "stderr",
     "output_type": "stream",
     "text": [
      "\n",
      " 60%|██████    | 3/5 [00:28<00:18,  9.40s/it]\u001b[A"
     ]
    },
    {
     "name": "stdout",
     "output_type": "stream",
     "text": [
      "torch.Size([128, 1, 256, 256])\n",
      "torch.Size([128, 1, 256, 256])\n"
     ]
    },
    {
     "name": "stderr",
     "output_type": "stream",
     "text": [
      "\n",
      " 80%|████████  | 4/5 [00:37<00:09,  9.40s/it]\u001b[A"
     ]
    },
    {
     "name": "stdout",
     "output_type": "stream",
     "text": [
      "torch.Size([128, 1, 256, 256])\n",
      "torch.Size([128, 1, 256, 256])\n"
     ]
    },
    {
     "name": "stderr",
     "output_type": "stream",
     "text": [
      "\n",
      "100%|██████████| 5/5 [00:46<00:00,  9.39s/it]\u001b[A\n",
      " 30%|███       | 3/10 [02:24<05:34, 47.82s/it]\n",
      "  0%|          | 0/5 [00:00<?, ?it/s]\u001b[A"
     ]
    },
    {
     "name": "stdout",
     "output_type": "stream",
     "text": [
      "torch.Size([128, 1, 256, 256])\n",
      "torch.Size([128, 1, 256, 256])\n"
     ]
    },
    {
     "name": "stderr",
     "output_type": "stream",
     "text": [
      "\n",
      " 20%|██        | 1/5 [00:09<00:37,  9.41s/it]\u001b[A"
     ]
    },
    {
     "name": "stdout",
     "output_type": "stream",
     "text": [
      "torch.Size([128, 1, 256, 256])\n",
      "torch.Size([128, 1, 256, 256])\n"
     ]
    },
    {
     "name": "stderr",
     "output_type": "stream",
     "text": [
      "\n",
      " 40%|████      | 2/5 [00:18<00:28,  9.35s/it]\u001b[A"
     ]
    },
    {
     "name": "stdout",
     "output_type": "stream",
     "text": [
      "torch.Size([128, 1, 256, 256])\n",
      "torch.Size([128, 1, 256, 256])\n"
     ]
    },
    {
     "name": "stderr",
     "output_type": "stream",
     "text": [
      "\n",
      " 60%|██████    | 3/5 [00:28<00:18,  9.35s/it]\u001b[A"
     ]
    },
    {
     "name": "stdout",
     "output_type": "stream",
     "text": [
      "torch.Size([128, 1, 256, 256])\n",
      "torch.Size([128, 1, 256, 256])\n"
     ]
    },
    {
     "name": "stderr",
     "output_type": "stream",
     "text": [
      "\n",
      " 80%|████████  | 4/5 [00:37<00:09,  9.41s/it]\u001b[A"
     ]
    },
    {
     "name": "stdout",
     "output_type": "stream",
     "text": [
      "torch.Size([128, 1, 256, 256])\n",
      "torch.Size([128, 1, 256, 256])\n"
     ]
    },
    {
     "name": "stderr",
     "output_type": "stream",
     "text": [
      "\n",
      "100%|██████████| 5/5 [00:47<00:00,  9.43s/it]\u001b[A\n",
      " 40%|████      | 4/10 [03:11<04:45, 47.55s/it]\n",
      "  0%|          | 0/5 [00:00<?, ?it/s]\u001b[A"
     ]
    },
    {
     "name": "stdout",
     "output_type": "stream",
     "text": [
      "torch.Size([128, 1, 256, 256])\n",
      "torch.Size([128, 1, 256, 256])\n"
     ]
    },
    {
     "name": "stderr",
     "output_type": "stream",
     "text": [
      "\n",
      " 20%|██        | 1/5 [00:09<00:36,  9.22s/it]\u001b[A"
     ]
    },
    {
     "name": "stdout",
     "output_type": "stream",
     "text": [
      "torch.Size([128, 1, 256, 256])\n",
      "torch.Size([128, 1, 256, 256])\n"
     ]
    },
    {
     "name": "stderr",
     "output_type": "stream",
     "text": [
      "\n",
      " 40%|████      | 2/5 [00:18<00:27,  9.31s/it]\u001b[A"
     ]
    },
    {
     "name": "stdout",
     "output_type": "stream",
     "text": [
      "torch.Size([128, 1, 256, 256])\n",
      "torch.Size([128, 1, 256, 256])\n"
     ]
    },
    {
     "name": "stderr",
     "output_type": "stream",
     "text": [
      "\n",
      " 60%|██████    | 3/5 [00:28<00:18,  9.36s/it]\u001b[A"
     ]
    },
    {
     "name": "stdout",
     "output_type": "stream",
     "text": [
      "torch.Size([128, 1, 256, 256])\n",
      "torch.Size([128, 1, 256, 256])\n"
     ]
    },
    {
     "name": "stderr",
     "output_type": "stream",
     "text": [
      "\n",
      " 80%|████████  | 4/5 [00:37<00:09,  9.35s/it]\u001b[A"
     ]
    },
    {
     "name": "stdout",
     "output_type": "stream",
     "text": [
      "torch.Size([128, 1, 256, 256])\n",
      "torch.Size([128, 1, 256, 256])\n"
     ]
    },
    {
     "name": "stderr",
     "output_type": "stream",
     "text": [
      "\n",
      "100%|██████████| 5/5 [00:46<00:00,  9.35s/it]\u001b[A\n",
      " 50%|█████     | 5/10 [03:58<03:56, 47.26s/it]\n",
      "  0%|          | 0/5 [00:00<?, ?it/s]\u001b[A"
     ]
    },
    {
     "name": "stdout",
     "output_type": "stream",
     "text": [
      "torch.Size([128, 1, 256, 256])\n",
      "torch.Size([128, 1, 256, 256])\n"
     ]
    },
    {
     "name": "stderr",
     "output_type": "stream",
     "text": [
      "\n",
      " 20%|██        | 1/5 [00:09<00:37,  9.44s/it]\u001b[A"
     ]
    },
    {
     "name": "stdout",
     "output_type": "stream",
     "text": [
      "torch.Size([128, 1, 256, 256])\n",
      "torch.Size([128, 1, 256, 256])\n"
     ]
    },
    {
     "name": "stderr",
     "output_type": "stream",
     "text": [
      "\n",
      " 40%|████      | 2/5 [00:18<00:27,  9.27s/it]\u001b[A"
     ]
    },
    {
     "name": "stdout",
     "output_type": "stream",
     "text": [
      "torch.Size([128, 1, 256, 256])\n",
      "torch.Size([128, 1, 256, 256])\n"
     ]
    },
    {
     "name": "stderr",
     "output_type": "stream",
     "text": [
      "\n",
      " 60%|██████    | 3/5 [00:28<00:18,  9.35s/it]\u001b[A"
     ]
    },
    {
     "name": "stdout",
     "output_type": "stream",
     "text": [
      "torch.Size([128, 1, 256, 256])\n",
      "torch.Size([128, 1, 256, 256])\n"
     ]
    },
    {
     "name": "stderr",
     "output_type": "stream",
     "text": [
      "\n",
      " 80%|████████  | 4/5 [00:37<00:09,  9.32s/it]\u001b[A"
     ]
    },
    {
     "name": "stdout",
     "output_type": "stream",
     "text": [
      "torch.Size([128, 1, 256, 256])\n",
      "torch.Size([128, 1, 256, 256])\n"
     ]
    },
    {
     "name": "stderr",
     "output_type": "stream",
     "text": [
      "\n",
      "100%|██████████| 5/5 [00:46<00:00,  9.34s/it]\u001b[A\n",
      " 60%|██████    | 6/10 [04:45<03:08, 47.08s/it]\n",
      "  0%|          | 0/5 [00:00<?, ?it/s]\u001b[A"
     ]
    },
    {
     "name": "stdout",
     "output_type": "stream",
     "text": [
      "torch.Size([128, 1, 256, 256])\n",
      "torch.Size([128, 1, 256, 256])\n"
     ]
    },
    {
     "name": "stderr",
     "output_type": "stream",
     "text": [
      "\n",
      " 20%|██        | 1/5 [00:09<00:37,  9.40s/it]\u001b[A"
     ]
    },
    {
     "name": "stdout",
     "output_type": "stream",
     "text": [
      "torch.Size([128, 1, 256, 256])\n",
      "torch.Size([128, 1, 256, 256])\n"
     ]
    },
    {
     "name": "stderr",
     "output_type": "stream",
     "text": [
      "\n",
      " 40%|████      | 2/5 [00:18<00:28,  9.37s/it]\u001b[A"
     ]
    },
    {
     "name": "stdout",
     "output_type": "stream",
     "text": [
      "torch.Size([128, 1, 256, 256])\n",
      "torch.Size([128, 1, 256, 256])\n"
     ]
    },
    {
     "name": "stderr",
     "output_type": "stream",
     "text": [
      "\n",
      " 60%|██████    | 3/5 [00:28<00:18,  9.34s/it]\u001b[A"
     ]
    },
    {
     "name": "stdout",
     "output_type": "stream",
     "text": [
      "torch.Size([128, 1, 256, 256])\n",
      "torch.Size([128, 1, 256, 256])\n"
     ]
    },
    {
     "name": "stderr",
     "output_type": "stream",
     "text": [
      "\n",
      " 80%|████████  | 4/5 [00:37<00:09,  9.34s/it]\u001b[A"
     ]
    },
    {
     "name": "stdout",
     "output_type": "stream",
     "text": [
      "torch.Size([128, 1, 256, 256])\n",
      "torch.Size([128, 1, 256, 256])\n"
     ]
    },
    {
     "name": "stderr",
     "output_type": "stream",
     "text": [
      "\n",
      "100%|██████████| 5/5 [00:46<00:00,  9.33s/it]\u001b[A\n",
      " 70%|███████   | 7/10 [05:32<02:20, 46.94s/it]\n",
      "  0%|          | 0/5 [00:00<?, ?it/s]\u001b[A"
     ]
    },
    {
     "name": "stdout",
     "output_type": "stream",
     "text": [
      "torch.Size([128, 1, 256, 256])\n",
      "torch.Size([128, 1, 256, 256])\n"
     ]
    },
    {
     "name": "stderr",
     "output_type": "stream",
     "text": [
      "\n",
      " 20%|██        | 1/5 [00:09<00:37,  9.32s/it]\u001b[A"
     ]
    },
    {
     "name": "stdout",
     "output_type": "stream",
     "text": [
      "torch.Size([128, 1, 256, 256])\n",
      "torch.Size([128, 1, 256, 256])\n"
     ]
    },
    {
     "name": "stderr",
     "output_type": "stream",
     "text": [
      "\n",
      " 40%|████      | 2/5 [00:18<00:28,  9.34s/it]\u001b[A"
     ]
    },
    {
     "name": "stdout",
     "output_type": "stream",
     "text": [
      "torch.Size([128, 1, 256, 256])\n",
      "torch.Size([128, 1, 256, 256])\n"
     ]
    },
    {
     "name": "stderr",
     "output_type": "stream",
     "text": [
      "\n",
      " 60%|██████    | 3/5 [00:28<00:18,  9.37s/it]\u001b[A"
     ]
    },
    {
     "name": "stdout",
     "output_type": "stream",
     "text": [
      "torch.Size([128, 1, 256, 256])\n",
      "torch.Size([128, 1, 256, 256])\n"
     ]
    },
    {
     "name": "stderr",
     "output_type": "stream",
     "text": [
      "\n",
      " 80%|████████  | 4/5 [00:37<00:09,  9.33s/it]\u001b[A"
     ]
    },
    {
     "name": "stdout",
     "output_type": "stream",
     "text": [
      "torch.Size([128, 1, 256, 256])\n",
      "torch.Size([128, 1, 256, 256])\n"
     ]
    },
    {
     "name": "stderr",
     "output_type": "stream",
     "text": [
      "\n",
      "100%|██████████| 5/5 [00:46<00:00,  9.33s/it]\u001b[A\n",
      " 80%|████████  | 8/10 [06:18<01:33, 46.85s/it]\n",
      "  0%|          | 0/5 [00:00<?, ?it/s]\u001b[A"
     ]
    },
    {
     "name": "stdout",
     "output_type": "stream",
     "text": [
      "torch.Size([128, 1, 256, 256])\n",
      "torch.Size([128, 1, 256, 256])\n"
     ]
    },
    {
     "name": "stderr",
     "output_type": "stream",
     "text": [
      "\n",
      " 20%|██        | 1/5 [00:09<00:37,  9.37s/it]\u001b[A"
     ]
    },
    {
     "name": "stdout",
     "output_type": "stream",
     "text": [
      "torch.Size([128, 1, 256, 256])\n",
      "torch.Size([128, 1, 256, 256])\n"
     ]
    },
    {
     "name": "stderr",
     "output_type": "stream",
     "text": [
      "\n",
      " 40%|████      | 2/5 [00:18<00:27,  9.26s/it]\u001b[A"
     ]
    },
    {
     "name": "stdout",
     "output_type": "stream",
     "text": [
      "torch.Size([128, 1, 256, 256])\n",
      "torch.Size([128, 1, 256, 256])\n"
     ]
    },
    {
     "name": "stderr",
     "output_type": "stream",
     "text": [
      "\n",
      " 60%|██████    | 3/5 [00:27<00:18,  9.27s/it]\u001b[A"
     ]
    },
    {
     "name": "stdout",
     "output_type": "stream",
     "text": [
      "torch.Size([128, 1, 256, 256])\n",
      "torch.Size([128, 1, 256, 256])\n"
     ]
    },
    {
     "name": "stderr",
     "output_type": "stream",
     "text": [
      "\n",
      " 80%|████████  | 4/5 [00:37<00:09,  9.32s/it]\u001b[A"
     ]
    },
    {
     "name": "stdout",
     "output_type": "stream",
     "text": [
      "torch.Size([128, 1, 256, 256])\n",
      "torch.Size([128, 1, 256, 256])\n"
     ]
    },
    {
     "name": "stderr",
     "output_type": "stream",
     "text": [
      "\n",
      "100%|██████████| 5/5 [00:46<00:00,  9.31s/it]\u001b[A\n",
      " 90%|█████████ | 9/10 [07:05<00:46, 46.76s/it]\n",
      "  0%|          | 0/5 [00:00<?, ?it/s]\u001b[A"
     ]
    },
    {
     "name": "stdout",
     "output_type": "stream",
     "text": [
      "torch.Size([128, 1, 256, 256])\n",
      "torch.Size([128, 1, 256, 256])\n"
     ]
    },
    {
     "name": "stderr",
     "output_type": "stream",
     "text": [
      "\n",
      " 20%|██        | 1/5 [00:09<00:38,  9.51s/it]\u001b[A"
     ]
    },
    {
     "name": "stdout",
     "output_type": "stream",
     "text": [
      "torch.Size([128, 1, 256, 256])\n",
      "torch.Size([128, 1, 256, 256])\n"
     ]
    },
    {
     "name": "stderr",
     "output_type": "stream",
     "text": [
      "\n",
      " 40%|████      | 2/5 [00:18<00:28,  9.38s/it]\u001b[A"
     ]
    },
    {
     "name": "stdout",
     "output_type": "stream",
     "text": [
      "torch.Size([128, 1, 256, 256])\n",
      "torch.Size([128, 1, 256, 256])\n"
     ]
    },
    {
     "name": "stderr",
     "output_type": "stream",
     "text": [
      "\n",
      " 60%|██████    | 3/5 [00:28<00:18,  9.36s/it]\u001b[A"
     ]
    },
    {
     "name": "stdout",
     "output_type": "stream",
     "text": [
      "torch.Size([128, 1, 256, 256])\n",
      "torch.Size([128, 1, 256, 256])\n"
     ]
    },
    {
     "name": "stderr",
     "output_type": "stream",
     "text": [
      "\n",
      " 80%|████████  | 4/5 [00:37<00:09,  9.33s/it]\u001b[A"
     ]
    },
    {
     "name": "stdout",
     "output_type": "stream",
     "text": [
      "torch.Size([128, 1, 256, 256])\n",
      "torch.Size([128, 1, 256, 256])\n"
     ]
    },
    {
     "name": "stderr",
     "output_type": "stream",
     "text": [
      "\n",
      "100%|██████████| 5/5 [00:46<00:00,  9.32s/it]\u001b[A\n",
      "100%|██████████| 10/10 [07:51<00:00, 47.19s/it]"
     ]
    },
    {
     "name": "stdout",
     "output_type": "stream",
     "text": [
      "6400\n"
     ]
    },
    {
     "name": "stderr",
     "output_type": "stream",
     "text": [
      "\n"
     ]
    }
   ],
   "source": [
    "model = model.to('cpu')\n",
    "model.eval()\n",
    "\n",
    "n_layers = 21\n",
    "across_cka = MinibatchCKA(num_layers=n_layers, num_layers2=n_layers, across_models=True)\n",
    "count = 0\n",
    "iteration = 10\n",
    "for i in tqdm(range(iteration)):\n",
    "    for batch_idx in tqdm(range(5)):\n",
    "        data1 = test_data1[batch_idx]\n",
    "        data2 = test_data2[batch_idx]\n",
    "        \n",
    "        print(data1.shape)\n",
    "        print(data2.shape)\n",
    "        \n",
    "        act1 = get_activations(data1, model, False)\n",
    "        act2 = get_activations(data2, model, False)\n",
    "        across_cka.update_state_across_models(act1, act2)\n",
    "        \n",
    "        count += len(data1)\n",
    "\n",
    "print(count)"
   ]
  },
  {
   "cell_type": "code",
   "execution_count": 17,
   "metadata": {},
   "outputs": [
    {
     "data": {
      "image/png": "[encoded data removed]",
      "text/plain": [
       "<Figure size 640x480 with 2 Axes>"
      ]
     },
     "metadata": {},
     "output_type": "display_data"
    }
   ],
   "source": [
    "heatmap = across_cka.result().numpy()\n",
    "plotHeatmap(heatmap, 'TNG_vs_SIMBA(TNG+SIMBA)') # accuracy 99.12%"
   ]
  },
  {
   "cell_type": "markdown",
   "metadata": {},
   "source": [
    "## TNG vs TNG + SIMBA"
   ]
  },
  {
   "cell_type": "code",
   "execution_count": 23,
   "metadata": {},
   "outputs": [
    {
     "name": "stdout",
     "output_type": "stream",
     "text": [
      "750\n",
      "Found 1 channels\n",
      "Reading data...\n",
      "2.215e+02 < F(all|orig) < 2.772e+11\n",
      "2.345 < F(all|resc)  < 11.443\n",
      "-2.708 < F(all|norm) < 4.815\n",
      "SIMBA: 54\n",
      "810\n",
      "Found 1 channels\n",
      "Reading data...\n",
      "2.215e+02 < F(all|orig) < 2.772e+11\n",
      "2.345 < F(all|resc)  < 11.443\n",
      "-2.068 < F(all|norm) < 5.235\n"
     ]
    }
   ],
   "source": [
    "# load test set\n",
    "fmaps = ['maps_T_SIMBA.npy']\n",
    "fparams = '2D_maps/data/params_LH_IllustrisTNG.txt'\n",
    "test_loader1  = create_dataset_multifield('test', seed, fmaps, fparams, batch_size, splits, fmaps_norm,\n",
    "                                         rot_flip_in_mem=False, verbose=True)\n",
    "\n",
    "\n",
    "fmaps = ['maps_T.npy']\n",
    "fparams = '2D_maps/data/params_LH.txt'\n",
    "test_loader2  = create_dataset_multifield_new('test', seed, fmaps, fparams, batch_size, splits, fmaps_norm,\n",
    "                                         rot_flip_in_mem=False, verbose=True, simulation=\"SIMBA\")\n"
   ]
  },
  {
   "cell_type": "code",
   "execution_count": 24,
   "metadata": {},
   "outputs": [],
   "source": [
    "test_data1 = []\n",
    "test_data2 = []\n",
    "for batch_idx, (data, _) in enumerate(test_loader1):\n",
    "    test_data1.append(data)\n",
    "for batch_idx, (data, _) in enumerate(test_loader2):\n",
    "    test_data2.append(data)\n",
    "# assert len(test_data1) == len(test_data2)"
   ]
  },
  {
   "cell_type": "code",
   "execution_count": 25,
   "metadata": {},
   "outputs": [
    {
     "name": "stdout",
     "output_type": "stream",
     "text": [
      "total number of parameters in the model = 28436376\n",
      "Weights loaded\n"
     ]
    },
    {
     "data": {
      "text/plain": [
       "model_o3_err(\n",
       "  (C01): Conv2d(1, 22, kernel_size=(3, 3), stride=(1, 1), padding=(1, 1), padding_mode=circular)\n",
       "  (C02): Conv2d(22, 22, kernel_size=(3, 3), stride=(1, 1), padding=(1, 1), padding_mode=circular)\n",
       "  (C03): Conv2d(22, 22, kernel_size=(2, 2), stride=(2, 2), padding_mode=circular)\n",
       "  (B01): BatchNorm2d(22, eps=1e-05, momentum=0.1, affine=True, track_running_stats=True)\n",
       "  (B02): BatchNorm2d(22, eps=1e-05, momentum=0.1, affine=True, track_running_stats=True)\n",
       "  (B03): BatchNorm2d(22, eps=1e-05, momentum=0.1, affine=True, track_running_stats=True)\n",
       "  (C11): Conv2d(22, 44, kernel_size=(3, 3), stride=(1, 1), padding=(1, 1), padding_mode=circular)\n",
       "  (C12): Conv2d(44, 44, kernel_size=(3, 3), stride=(1, 1), padding=(1, 1), padding_mode=circular)\n",
       "  (C13): Conv2d(44, 44, kernel_size=(2, 2), stride=(2, 2), padding_mode=circular)\n",
       "  (B11): BatchNorm2d(44, eps=1e-05, momentum=0.1, affine=True, track_running_stats=True)\n",
       "  (B12): BatchNorm2d(44, eps=1e-05, momentum=0.1, affine=True, track_running_stats=True)\n",
       "  (B13): BatchNorm2d(44, eps=1e-05, momentum=0.1, affine=True, track_running_stats=True)\n",
       "  (C21): Conv2d(44, 88, kernel_size=(3, 3), stride=(1, 1), padding=(1, 1), padding_mode=circular)\n",
       "  (C22): Conv2d(88, 88, kernel_size=(3, 3), stride=(1, 1), padding=(1, 1), padding_mode=circular)\n",
       "  (C23): Conv2d(88, 88, kernel_size=(2, 2), stride=(2, 2), padding_mode=circular)\n",
       "  (B21): BatchNorm2d(88, eps=1e-05, momentum=0.1, affine=True, track_running_stats=True)\n",
       "  (B22): BatchNorm2d(88, eps=1e-05, momentum=0.1, affine=True, track_running_stats=True)\n",
       "  (B23): BatchNorm2d(88, eps=1e-05, momentum=0.1, affine=True, track_running_stats=True)\n",
       "  (C31): Conv2d(88, 176, kernel_size=(3, 3), stride=(1, 1), padding=(1, 1), padding_mode=circular)\n",
       "  (C32): Conv2d(176, 176, kernel_size=(3, 3), stride=(1, 1), padding=(1, 1), padding_mode=circular)\n",
       "  (C33): Conv2d(176, 176, kernel_size=(2, 2), stride=(2, 2), padding_mode=circular)\n",
       "  (B31): BatchNorm2d(176, eps=1e-05, momentum=0.1, affine=True, track_running_stats=True)\n",
       "  (B32): BatchNorm2d(176, eps=1e-05, momentum=0.1, affine=True, track_running_stats=True)\n",
       "  (B33): BatchNorm2d(176, eps=1e-05, momentum=0.1, affine=True, track_running_stats=True)\n",
       "  (C41): Conv2d(176, 352, kernel_size=(3, 3), stride=(1, 1), padding=(1, 1), padding_mode=circular)\n",
       "  (C42): Conv2d(352, 352, kernel_size=(3, 3), stride=(1, 1), padding=(1, 1), padding_mode=circular)\n",
       "  (C43): Conv2d(352, 352, kernel_size=(2, 2), stride=(2, 2), padding_mode=circular)\n",
       "  (B41): BatchNorm2d(352, eps=1e-05, momentum=0.1, affine=True, track_running_stats=True)\n",
       "  (B42): BatchNorm2d(352, eps=1e-05, momentum=0.1, affine=True, track_running_stats=True)\n",
       "  (B43): BatchNorm2d(352, eps=1e-05, momentum=0.1, affine=True, track_running_stats=True)\n",
       "  (C51): Conv2d(352, 704, kernel_size=(3, 3), stride=(1, 1), padding=(1, 1), padding_mode=circular)\n",
       "  (C52): Conv2d(704, 704, kernel_size=(3, 3), stride=(1, 1), padding=(1, 1), padding_mode=circular)\n",
       "  (C53): Conv2d(704, 704, kernel_size=(2, 2), stride=(2, 2), padding_mode=circular)\n",
       "  (B51): BatchNorm2d(704, eps=1e-05, momentum=0.1, affine=True, track_running_stats=True)\n",
       "  (B52): BatchNorm2d(704, eps=1e-05, momentum=0.1, affine=True, track_running_stats=True)\n",
       "  (B53): BatchNorm2d(704, eps=1e-05, momentum=0.1, affine=True, track_running_stats=True)\n",
       "  (C61): Conv2d(704, 1408, kernel_size=(4, 4), stride=(1, 1), padding_mode=circular)\n",
       "  (B61): BatchNorm2d(1408, eps=1e-05, momentum=0.1, affine=True, track_running_stats=True)\n",
       "  (FC1): Linear(in_features=1408, out_features=704, bias=True)\n",
       "  (FC2): Linear(in_features=704, out_features=12, bias=True)\n",
       "  (dropout): Dropout(p=0.4, inplace=False)\n",
       "  (LeakyReLU): LeakyReLU(negative_slope=0.2)\n",
       ")"
      ]
     },
     "execution_count": 25,
     "metadata": {},
     "output_type": "execute_result"
    }
   ],
   "source": [
    "# now that architecture is defined above, use it\n",
    "model1 = model_o3_err(hidden, dr, channels)\n",
    "# model = nn.DataParallel(model)\n",
    "model1.to(device=device)\n",
    "network_total_params = sum(p.numel() for p in model1.parameters())\n",
    "print('total number of parameters in the model = %d'%network_total_params)\n",
    "\n",
    "# load the weights in case they exists\n",
    "# fmodel = 'layer17_TNG/weights.pt'\n",
    "# fmodel = 'layer20_TNG_SIMBA/weights.pt'\n",
    "fmodel = 'best_weights_T_TNG.pt'\n",
    "\n",
    "if os.path.exists(fmodel):\n",
    "    checkpoint = torch.load(fmodel, map_location=torch.device(device))\n",
    "    new_state_dict = {k.replace('module.', ''): v for k, v in checkpoint.items()}\n",
    "    model1.load_state_dict(new_state_dict)\n",
    "    \n",
    "    # model.load_state_dict(torch.load(fmodel, map_location=torch.device(device)))\n",
    "    print('Weights loaded')\n",
    "    \n",
    "model1 = model1.to('cpu')\n",
    "model1.eval()"
   ]
  },
  {
   "cell_type": "code",
   "execution_count": 26,
   "metadata": {},
   "outputs": [
    {
     "name": "stdout",
     "output_type": "stream",
     "text": [
      "total number of parameters in the model = 28430736\n",
      "Weights loaded\n"
     ]
    },
    {
     "data": {
      "text/plain": [
       "model_o3_err_4(\n",
       "  (C01): Conv2d(1, 22, kernel_size=(3, 3), stride=(1, 1), padding=(1, 1), padding_mode=circular)\n",
       "  (C02): Conv2d(22, 22, kernel_size=(3, 3), stride=(1, 1), padding=(1, 1), padding_mode=circular)\n",
       "  (C03): Conv2d(22, 22, kernel_size=(2, 2), stride=(2, 2), padding_mode=circular)\n",
       "  (B01): BatchNorm2d(22, eps=1e-05, momentum=0.1, affine=True, track_running_stats=True)\n",
       "  (B02): BatchNorm2d(22, eps=1e-05, momentum=0.1, affine=True, track_running_stats=True)\n",
       "  (B03): BatchNorm2d(22, eps=1e-05, momentum=0.1, affine=True, track_running_stats=True)\n",
       "  (C11): Conv2d(22, 44, kernel_size=(3, 3), stride=(1, 1), padding=(1, 1), padding_mode=circular)\n",
       "  (C12): Conv2d(44, 44, kernel_size=(3, 3), stride=(1, 1), padding=(1, 1), padding_mode=circular)\n",
       "  (C13): Conv2d(44, 44, kernel_size=(2, 2), stride=(2, 2), padding_mode=circular)\n",
       "  (B11): BatchNorm2d(44, eps=1e-05, momentum=0.1, affine=True, track_running_stats=True)\n",
       "  (B12): BatchNorm2d(44, eps=1e-05, momentum=0.1, affine=True, track_running_stats=True)\n",
       "  (B13): BatchNorm2d(44, eps=1e-05, momentum=0.1, affine=True, track_running_stats=True)\n",
       "  (C21): Conv2d(44, 88, kernel_size=(3, 3), stride=(1, 1), padding=(1, 1), padding_mode=circular)\n",
       "  (C22): Conv2d(88, 88, kernel_size=(3, 3), stride=(1, 1), padding=(1, 1), padding_mode=circular)\n",
       "  (C23): Conv2d(88, 88, kernel_size=(2, 2), stride=(2, 2), padding_mode=circular)\n",
       "  (B21): BatchNorm2d(88, eps=1e-05, momentum=0.1, affine=True, track_running_stats=True)\n",
       "  (B22): BatchNorm2d(88, eps=1e-05, momentum=0.1, affine=True, track_running_stats=True)\n",
       "  (B23): BatchNorm2d(88, eps=1e-05, momentum=0.1, affine=True, track_running_stats=True)\n",
       "  (C31): Conv2d(88, 176, kernel_size=(3, 3), stride=(1, 1), padding=(1, 1), padding_mode=circular)\n",
       "  (C32): Conv2d(176, 176, kernel_size=(3, 3), stride=(1, 1), padding=(1, 1), padding_mode=circular)\n",
       "  (C33): Conv2d(176, 176, kernel_size=(2, 2), stride=(2, 2), padding_mode=circular)\n",
       "  (B31): BatchNorm2d(176, eps=1e-05, momentum=0.1, affine=True, track_running_stats=True)\n",
       "  (B32): BatchNorm2d(176, eps=1e-05, momentum=0.1, affine=True, track_running_stats=True)\n",
       "  (B33): BatchNorm2d(176, eps=1e-05, momentum=0.1, affine=True, track_running_stats=True)\n",
       "  (C41): Conv2d(176, 352, kernel_size=(3, 3), stride=(1, 1), padding=(1, 1), padding_mode=circular)\n",
       "  (C42): Conv2d(352, 352, kernel_size=(3, 3), stride=(1, 1), padding=(1, 1), padding_mode=circular)\n",
       "  (C43): Conv2d(352, 352, kernel_size=(2, 2), stride=(2, 2), padding_mode=circular)\n",
       "  (B41): BatchNorm2d(352, eps=1e-05, momentum=0.1, affine=True, track_running_stats=True)\n",
       "  (B42): BatchNorm2d(352, eps=1e-05, momentum=0.1, affine=True, track_running_stats=True)\n",
       "  (B43): BatchNorm2d(352, eps=1e-05, momentum=0.1, affine=True, track_running_stats=True)\n",
       "  (C51): Conv2d(352, 704, kernel_size=(3, 3), stride=(1, 1), padding=(1, 1), padding_mode=circular)\n",
       "  (C52): Conv2d(704, 704, kernel_size=(3, 3), stride=(1, 1), padding=(1, 1), padding_mode=circular)\n",
       "  (C53): Conv2d(704, 704, kernel_size=(2, 2), stride=(2, 2), padding_mode=circular)\n",
       "  (B51): BatchNorm2d(704, eps=1e-05, momentum=0.1, affine=True, track_running_stats=True)\n",
       "  (B52): BatchNorm2d(704, eps=1e-05, momentum=0.1, affine=True, track_running_stats=True)\n",
       "  (B53): BatchNorm2d(704, eps=1e-05, momentum=0.1, affine=True, track_running_stats=True)\n",
       "  (C61): Conv2d(704, 1408, kernel_size=(4, 4), stride=(1, 1), padding_mode=circular)\n",
       "  (B61): BatchNorm2d(1408, eps=1e-05, momentum=0.1, affine=True, track_running_stats=True)\n",
       "  (FC1): Linear(in_features=1408, out_features=704, bias=True)\n",
       "  (FC2): Linear(in_features=704, out_features=4, bias=True)\n",
       "  (dropout): Dropout(p=0.4, inplace=False)\n",
       "  (LeakyReLU): LeakyReLU(negative_slope=0.2)\n",
       ")"
      ]
     },
     "execution_count": 26,
     "metadata": {},
     "output_type": "execute_result"
    }
   ],
   "source": [
    "# now that architecture is defined above, use it\n",
    "model2 = model_o3_err_4(hidden, dr, channels)\n",
    "# model = nn.DataParallel(model)\n",
    "model2.to(device=device)\n",
    "network_total_params = sum(p.numel() for p in model2.parameters())\n",
    "print('total number of parameters in the model = %d'%network_total_params)\n",
    "\n",
    "# load the weights in case they exists\n",
    "# fmodel = 'layer17_TNG/weights.pt'\n",
    "fmodel = 'layer20_TNG_SIMBA/weights.pt'\n",
    "# fmodel = 'best_weights_T_TNG.pt'\n",
    "\n",
    "if os.path.exists(fmodel):\n",
    "    checkpoint = torch.load(fmodel, map_location=torch.device(device))\n",
    "    new_state_dict = {k.replace('module.', ''): v for k, v in checkpoint.items()}\n",
    "    model2.load_state_dict(new_state_dict)\n",
    "    \n",
    "    # model.load_state_dict(torch.load(fmodel, map_location=torch.device(device)))\n",
    "    print('Weights loaded')\n",
    "    \n",
    "model2 = model2.to('cpu')\n",
    "model2.eval()"
   ]
  },
  {
   "cell_type": "code",
   "execution_count": 27,
   "metadata": {},
   "outputs": [
    {
     "name": "stderr",
     "output_type": "stream",
     "text": [
      "  0%|          | 0/10 [00:00<?, ?it/s]"
     ]
    },
    {
     "name": "stdout",
     "output_type": "stream",
     "text": [
      "torch.Size([128, 1, 256, 256])\n",
      "torch.Size([128, 1, 256, 256])\n"
     ]
    },
    {
     "name": "stderr",
     "output_type": "stream",
     "text": []
    },
    {
     "name": "stdout",
     "output_type": "stream",
     "text": [
      "torch.Size([128, 1, 256, 256])\n",
      "torch.Size([128, 1, 256, 256])\n"
     ]
    },
    {
     "name": "stderr",
     "output_type": "stream",
     "text": []
    },
    {
     "name": "stdout",
     "output_type": "stream",
     "text": [
      "torch.Size([128, 1, 256, 256])\n",
      "torch.Size([128, 1, 256, 256])\n"
     ]
    },
    {
     "name": "stderr",
     "output_type": "stream",
     "text": []
    },
    {
     "name": "stdout",
     "output_type": "stream",
     "text": [
      "torch.Size([128, 1, 256, 256])\n",
      "torch.Size([128, 1, 256, 256])\n"
     ]
    },
    {
     "name": "stderr",
     "output_type": "stream",
     "text": []
    },
    {
     "name": "stdout",
     "output_type": "stream",
     "text": [
      "torch.Size([128, 1, 256, 256])\n",
      "torch.Size([128, 1, 256, 256])\n"
     ]
    },
    {
     "name": "stderr",
     "output_type": "stream",
     "text": [
      "100%|██████████| 5/5 [00:36<00:00,  7.20s/it]\n",
      " 10%|█         | 1/10 [00:36<05:24, 36.01s/it]"
     ]
    },
    {
     "name": "stdout",
     "output_type": "stream",
     "text": [
      "torch.Size([128, 1, 256, 256])\n",
      "torch.Size([128, 1, 256, 256])\n"
     ]
    },
    {
     "name": "stderr",
     "output_type": "stream",
     "text": []
    },
    {
     "name": "stdout",
     "output_type": "stream",
     "text": [
      "torch.Size([128, 1, 256, 256])\n",
      "torch.Size([128, 1, 256, 256])\n"
     ]
    },
    {
     "name": "stderr",
     "output_type": "stream",
     "text": []
    },
    {
     "name": "stdout",
     "output_type": "stream",
     "text": [
      "torch.Size([128, 1, 256, 256])\n",
      "torch.Size([128, 1, 256, 256])\n"
     ]
    },
    {
     "name": "stderr",
     "output_type": "stream",
     "text": []
    },
    {
     "name": "stdout",
     "output_type": "stream",
     "text": [
      "torch.Size([128, 1, 256, 256])\n",
      "torch.Size([128, 1, 256, 256])\n"
     ]
    },
    {
     "name": "stderr",
     "output_type": "stream",
     "text": []
    },
    {
     "name": "stdout",
     "output_type": "stream",
     "text": [
      "torch.Size([128, 1, 256, 256])\n",
      "torch.Size([128, 1, 256, 256])\n"
     ]
    },
    {
     "name": "stderr",
     "output_type": "stream",
     "text": [
      "100%|██████████| 5/5 [00:36<00:00,  7.21s/it]\n",
      " 20%|██        | 2/10 [01:12<04:48, 36.03s/it]"
     ]
    },
    {
     "name": "stdout",
     "output_type": "stream",
     "text": [
      "torch.Size([128, 1, 256, 256])\n",
      "torch.Size([128, 1, 256, 256])\n"
     ]
    },
    {
     "name": "stderr",
     "output_type": "stream",
     "text": []
    },
    {
     "name": "stdout",
     "output_type": "stream",
     "text": [
      "torch.Size([128, 1, 256, 256])\n",
      "torch.Size([128, 1, 256, 256])\n"
     ]
    },
    {
     "name": "stderr",
     "output_type": "stream",
     "text": []
    },
    {
     "name": "stdout",
     "output_type": "stream",
     "text": [
      "torch.Size([128, 1, 256, 256])\n",
      "torch.Size([128, 1, 256, 256])\n"
     ]
    },
    {
     "name": "stderr",
     "output_type": "stream",
     "text": []
    },
    {
     "name": "stdout",
     "output_type": "stream",
     "text": [
      "torch.Size([128, 1, 256, 256])\n",
      "torch.Size([128, 1, 256, 256])\n"
     ]
    },
    {
     "name": "stderr",
     "output_type": "stream",
     "text": []
    },
    {
     "name": "stdout",
     "output_type": "stream",
     "text": [
      "torch.Size([128, 1, 256, 256])\n",
      "torch.Size([128, 1, 256, 256])\n"
     ]
    },
    {
     "name": "stderr",
     "output_type": "stream",
     "text": [
      "100%|██████████| 5/5 [00:36<00:00,  7.22s/it]\n",
      " 30%|███       | 3/10 [01:48<04:12, 36.07s/it]"
     ]
    },
    {
     "name": "stdout",
     "output_type": "stream",
     "text": [
      "torch.Size([128, 1, 256, 256])\n",
      "torch.Size([128, 1, 256, 256])\n"
     ]
    },
    {
     "name": "stderr",
     "output_type": "stream",
     "text": []
    },
    {
     "name": "stdout",
     "output_type": "stream",
     "text": [
      "torch.Size([128, 1, 256, 256])\n",
      "torch.Size([128, 1, 256, 256])\n"
     ]
    },
    {
     "name": "stderr",
     "output_type": "stream",
     "text": []
    },
    {
     "name": "stdout",
     "output_type": "stream",
     "text": [
      "torch.Size([128, 1, 256, 256])\n",
      "torch.Size([128, 1, 256, 256])\n"
     ]
    },
    {
     "name": "stderr",
     "output_type": "stream",
     "text": []
    },
    {
     "name": "stdout",
     "output_type": "stream",
     "text": [
      "torch.Size([128, 1, 256, 256])\n",
      "torch.Size([128, 1, 256, 256])\n"
     ]
    },
    {
     "name": "stderr",
     "output_type": "stream",
     "text": []
    },
    {
     "name": "stdout",
     "output_type": "stream",
     "text": [
      "torch.Size([128, 1, 256, 256])\n",
      "torch.Size([128, 1, 256, 256])\n"
     ]
    },
    {
     "name": "stderr",
     "output_type": "stream",
     "text": [
      "100%|██████████| 5/5 [00:36<00:00,  7.27s/it]\n",
      " 40%|████      | 4/10 [02:24<03:37, 36.17s/it]"
     ]
    },
    {
     "name": "stdout",
     "output_type": "stream",
     "text": [
      "torch.Size([128, 1, 256, 256])\n",
      "torch.Size([128, 1, 256, 256])\n"
     ]
    },
    {
     "name": "stderr",
     "output_type": "stream",
     "text": []
    },
    {
     "name": "stdout",
     "output_type": "stream",
     "text": [
      "torch.Size([128, 1, 256, 256])\n",
      "torch.Size([128, 1, 256, 256])\n"
     ]
    },
    {
     "name": "stderr",
     "output_type": "stream",
     "text": []
    },
    {
     "name": "stdout",
     "output_type": "stream",
     "text": [
      "torch.Size([128, 1, 256, 256])\n",
      "torch.Size([128, 1, 256, 256])\n"
     ]
    },
    {
     "name": "stderr",
     "output_type": "stream",
     "text": []
    },
    {
     "name": "stdout",
     "output_type": "stream",
     "text": [
      "torch.Size([128, 1, 256, 256])\n",
      "torch.Size([128, 1, 256, 256])\n"
     ]
    },
    {
     "name": "stderr",
     "output_type": "stream",
     "text": []
    },
    {
     "name": "stdout",
     "output_type": "stream",
     "text": [
      "torch.Size([128, 1, 256, 256])\n",
      "torch.Size([128, 1, 256, 256])\n"
     ]
    },
    {
     "name": "stderr",
     "output_type": "stream",
     "text": [
      "100%|██████████| 5/5 [00:36<00:00,  7.26s/it]\n",
      " 50%|█████     | 5/10 [03:00<03:01, 36.23s/it]"
     ]
    },
    {
     "name": "stdout",
     "output_type": "stream",
     "text": [
      "torch.Size([128, 1, 256, 256])\n",
      "torch.Size([128, 1, 256, 256])\n"
     ]
    },
    {
     "name": "stderr",
     "output_type": "stream",
     "text": []
    },
    {
     "name": "stdout",
     "output_type": "stream",
     "text": [
      "torch.Size([128, 1, 256, 256])\n",
      "torch.Size([128, 1, 256, 256])\n"
     ]
    },
    {
     "name": "stderr",
     "output_type": "stream",
     "text": []
    },
    {
     "name": "stdout",
     "output_type": "stream",
     "text": [
      "torch.Size([128, 1, 256, 256])\n",
      "torch.Size([128, 1, 256, 256])\n"
     ]
    },
    {
     "name": "stderr",
     "output_type": "stream",
     "text": []
    },
    {
     "name": "stdout",
     "output_type": "stream",
     "text": [
      "torch.Size([128, 1, 256, 256])\n",
      "torch.Size([128, 1, 256, 256])\n"
     ]
    },
    {
     "name": "stderr",
     "output_type": "stream",
     "text": []
    },
    {
     "name": "stdout",
     "output_type": "stream",
     "text": [
      "torch.Size([128, 1, 256, 256])\n",
      "torch.Size([128, 1, 256, 256])\n"
     ]
    },
    {
     "name": "stderr",
     "output_type": "stream",
     "text": [
      "100%|██████████| 5/5 [00:36<00:00,  7.26s/it]\n",
      " 60%|██████    | 6/10 [03:37<02:25, 36.26s/it]"
     ]
    },
    {
     "name": "stdout",
     "output_type": "stream",
     "text": [
      "torch.Size([128, 1, 256, 256])\n",
      "torch.Size([128, 1, 256, 256])\n"
     ]
    },
    {
     "name": "stderr",
     "output_type": "stream",
     "text": []
    },
    {
     "name": "stdout",
     "output_type": "stream",
     "text": [
      "torch.Size([128, 1, 256, 256])\n",
      "torch.Size([128, 1, 256, 256])\n"
     ]
    },
    {
     "name": "stderr",
     "output_type": "stream",
     "text": []
    },
    {
     "name": "stdout",
     "output_type": "stream",
     "text": [
      "torch.Size([128, 1, 256, 256])\n",
      "torch.Size([128, 1, 256, 256])\n"
     ]
    },
    {
     "name": "stderr",
     "output_type": "stream",
     "text": []
    },
    {
     "name": "stdout",
     "output_type": "stream",
     "text": [
      "torch.Size([128, 1, 256, 256])\n",
      "torch.Size([128, 1, 256, 256])\n"
     ]
    },
    {
     "name": "stderr",
     "output_type": "stream",
     "text": []
    },
    {
     "name": "stdout",
     "output_type": "stream",
     "text": [
      "torch.Size([128, 1, 256, 256])\n",
      "torch.Size([128, 1, 256, 256])\n"
     ]
    },
    {
     "name": "stderr",
     "output_type": "stream",
     "text": [
      "100%|██████████| 5/5 [00:36<00:00,  7.26s/it]\n",
      " 70%|███████   | 7/10 [04:13<01:48, 36.27s/it]"
     ]
    },
    {
     "name": "stdout",
     "output_type": "stream",
     "text": [
      "torch.Size([128, 1, 256, 256])\n",
      "torch.Size([128, 1, 256, 256])\n"
     ]
    },
    {
     "name": "stderr",
     "output_type": "stream",
     "text": []
    },
    {
     "name": "stdout",
     "output_type": "stream",
     "text": [
      "torch.Size([128, 1, 256, 256])\n",
      "torch.Size([128, 1, 256, 256])\n"
     ]
    },
    {
     "name": "stderr",
     "output_type": "stream",
     "text": []
    },
    {
     "name": "stdout",
     "output_type": "stream",
     "text": [
      "torch.Size([128, 1, 256, 256])\n",
      "torch.Size([128, 1, 256, 256])\n"
     ]
    },
    {
     "name": "stderr",
     "output_type": "stream",
     "text": []
    },
    {
     "name": "stdout",
     "output_type": "stream",
     "text": [
      "torch.Size([128, 1, 256, 256])\n",
      "torch.Size([128, 1, 256, 256])\n"
     ]
    },
    {
     "name": "stderr",
     "output_type": "stream",
     "text": []
    },
    {
     "name": "stdout",
     "output_type": "stream",
     "text": [
      "torch.Size([128, 1, 256, 256])\n",
      "torch.Size([128, 1, 256, 256])\n"
     ]
    },
    {
     "name": "stderr",
     "output_type": "stream",
     "text": [
      "100%|██████████| 5/5 [00:36<00:00,  7.29s/it]\n",
      " 80%|████████  | 8/10 [04:49<01:12, 36.33s/it]"
     ]
    },
    {
     "name": "stdout",
     "output_type": "stream",
     "text": [
      "torch.Size([128, 1, 256, 256])\n",
      "torch.Size([128, 1, 256, 256])\n"
     ]
    },
    {
     "name": "stderr",
     "output_type": "stream",
     "text": []
    },
    {
     "name": "stdout",
     "output_type": "stream",
     "text": [
      "torch.Size([128, 1, 256, 256])\n",
      "torch.Size([128, 1, 256, 256])\n"
     ]
    },
    {
     "name": "stderr",
     "output_type": "stream",
     "text": []
    },
    {
     "name": "stdout",
     "output_type": "stream",
     "text": [
      "torch.Size([128, 1, 256, 256])\n",
      "torch.Size([128, 1, 256, 256])\n"
     ]
    },
    {
     "name": "stderr",
     "output_type": "stream",
     "text": []
    },
    {
     "name": "stdout",
     "output_type": "stream",
     "text": [
      "torch.Size([128, 1, 256, 256])\n",
      "torch.Size([128, 1, 256, 256])\n"
     ]
    },
    {
     "name": "stderr",
     "output_type": "stream",
     "text": []
    },
    {
     "name": "stdout",
     "output_type": "stream",
     "text": [
      "torch.Size([128, 1, 256, 256])\n",
      "torch.Size([128, 1, 256, 256])\n"
     ]
    },
    {
     "name": "stderr",
     "output_type": "stream",
     "text": [
      "100%|██████████| 5/5 [00:36<00:00,  7.26s/it]\n",
      " 90%|█████████ | 9/10 [05:26<00:36, 36.31s/it]"
     ]
    },
    {
     "name": "stdout",
     "output_type": "stream",
     "text": [
      "torch.Size([128, 1, 256, 256])\n",
      "torch.Size([128, 1, 256, 256])\n"
     ]
    },
    {
     "name": "stderr",
     "output_type": "stream",
     "text": []
    },
    {
     "name": "stdout",
     "output_type": "stream",
     "text": [
      "torch.Size([128, 1, 256, 256])\n",
      "torch.Size([128, 1, 256, 256])\n"
     ]
    },
    {
     "name": "stderr",
     "output_type": "stream",
     "text": []
    },
    {
     "name": "stdout",
     "output_type": "stream",
     "text": [
      "torch.Size([128, 1, 256, 256])\n",
      "torch.Size([128, 1, 256, 256])\n"
     ]
    },
    {
     "name": "stderr",
     "output_type": "stream",
     "text": []
    },
    {
     "name": "stdout",
     "output_type": "stream",
     "text": [
      "torch.Size([128, 1, 256, 256])\n",
      "torch.Size([128, 1, 256, 256])\n"
     ]
    },
    {
     "name": "stderr",
     "output_type": "stream",
     "text": []
    },
    {
     "name": "stdout",
     "output_type": "stream",
     "text": [
      "torch.Size([128, 1, 256, 256])\n",
      "torch.Size([128, 1, 256, 256])\n"
     ]
    },
    {
     "name": "stderr",
     "output_type": "stream",
     "text": [
      "100%|██████████| 5/5 [00:36<00:00,  7.27s/it]\n",
      "100%|██████████| 10/10 [06:02<00:00, 36.25s/it]"
     ]
    },
    {
     "name": "stdout",
     "output_type": "stream",
     "text": [
      "6400\n"
     ]
    },
    {
     "name": "stderr",
     "output_type": "stream",
     "text": [
      "\n"
     ]
    }
   ],
   "source": [
    "n_layers = 21\n",
    "across_cka = MinibatchCKA(num_layers=n_layers, num_layers2=n_layers, across_models=True)\n",
    "count = 0\n",
    "iteration = 10\n",
    "for i in tqdm(range(iteration)):\n",
    "    for batch_idx in tqdm(range(5)):\n",
    "        data1 = test_data1[batch_idx]\n",
    "        data2 = test_data2[batch_idx]\n",
    "        \n",
    "        print(data1.shape)\n",
    "        print(data2.shape)\n",
    "        \n",
    "        act1 = get_activations(data1, model1, False)\n",
    "        act2 = get_activations(data2, model2, False)\n",
    "        across_cka.update_state_across_models(act1, act2)\n",
    "        \n",
    "        count += len(data1)\n",
    "\n",
    "print(count)"
   ]
  },
  {
   "cell_type": "code",
   "execution_count": 28,
   "metadata": {},
   "outputs": [
    {
     "data": {
      "image/png": "[encoded data removed]",
      "text/plain": [
       "<Figure size 640x480 with 2 Axes>"
      ]
     },
     "metadata": {},
     "output_type": "display_data"
    }
   ],
   "source": [
    "heatmap = across_cka.result().numpy()\n",
    "plotHeatmap(heatmap, 'SIMBA(TNG vs TNG+SIMBA)') # accuracy 99.12%"
   ]
  },
  {
   "cell_type": "code",
   "execution_count": null,
   "metadata": {},
   "outputs": [],
   "source": []
  }
 ],
 "metadata": {
  "accelerator": "GPU",
  "colab": {
   "gpuType": "T4",
   "provenance": [
    {
     "file_id": "1-BmkA8JSc36O8g9pj7FenD1YSLKqjQR3",
     "timestamp": 1696449156108
    }
   ]
  },
  "kernelspec": {
   "display_name": "ce2",
   "language": "python",
   "name": "python3"
  },
  "language_info": {
   "codemirror_mode": {
    "name": "ipython",
    "version": 3
   },
   "file_extension": ".py",
   "mimetype": "text/x-python",
   "name": "python",
   "nbconvert_exporter": "python",
   "pygments_lexer": "ipython3",
   "version": "3.8.13"
  }
 },
 "nbformat": 4,
 "nbformat_minor": 1
}
